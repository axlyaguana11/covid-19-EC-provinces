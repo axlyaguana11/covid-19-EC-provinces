{
 "cells": [
  {
   "cell_type": "markdown",
   "source": "# Getting raw data: vaccination",
   "metadata": {
    "tags": [],
    "is_collapsed": false,
    "cell_id": "00000-b5ab9b87-12b0-47fd-8882-3fd3c4b2ac3b",
    "deepnote_cell_type": "text-cell-h1"
   }
  },
  {
   "cell_type": "code",
   "metadata": {
    "tags": [],
    "cell_id": "00000-fdfed52d-b50a-4abd-a2ea-60b58423fd54",
    "deepnote_to_be_reexecuted": false,
    "source_hash": "28eb5f73",
    "execution_start": 1639861694801,
    "execution_millis": 32,
    "deepnote_cell_type": "code"
   },
   "source": "# %load_ext autoreload\n# %autoreload 2",
   "outputs": [],
   "execution_count": null
  },
  {
   "cell_type": "code",
   "metadata": {
    "tags": [],
    "cell_id": "00002-be2ad678-036b-4893-b36f-5e27adc9c59b",
    "deepnote_to_be_reexecuted": false,
    "source_hash": "fb283689",
    "execution_start": 1639861694833,
    "execution_millis": 1,
    "deepnote_cell_type": "code"
   },
   "source": "#libs\nimport pandas as pd",
   "outputs": [],
   "execution_count": null
  },
  {
   "cell_type": "markdown",
   "source": "## Specify input and output files",
   "metadata": {
    "tags": [],
    "is_collapsed": false,
    "cell_id": "00003-7f69c422-5cdc-43d1-b1a8-ec1a0eab3f92",
    "deepnote_cell_type": "text-cell-h2"
   }
  },
  {
   "cell_type": "code",
   "metadata": {
    "tags": [],
    "cell_id": "00004-cbe59e52-3fe6-4947-94e6-bf50596514f4",
    "deepnote_to_be_reexecuted": false,
    "source_hash": "96e31607",
    "execution_start": 1639861694834,
    "execution_millis": 1,
    "deepnote_cell_type": "code"
   },
   "source": "url_manufacturers = 'https://raw.githubusercontent.com/andrab/ecuacovid/master/datos_crudos/vacunas/fabricantes.csv'\nurl_vaccination = 'https://raw.githubusercontent.com/andrab/ecuacovid/master/datos_crudos/vacunas/vacunas.csv'\nurl_plan_vacunarse = 'https://raw.githubusercontent.com/andrab/ecuacovid/master/datos_crudos/vacunas/vacunas_planvacunarse.csv'",
   "outputs": [],
   "execution_count": null
  },
  {
   "cell_type": "code",
   "metadata": {
    "tags": [],
    "cell_id": "00005-23fabf64-7aa6-49c7-9f1e-a8daf3bd6040",
    "deepnote_to_be_reexecuted": false,
    "source_hash": "2125844e",
    "execution_start": 1639861694835,
    "execution_millis": 3,
    "deepnote_cell_type": "code"
   },
   "source": "dir_manufacturers = '/work/covid-19-EC-provinces/data/raw/vacc_manufacturers.csv'\ndir_vaccination = '/work/covid-19-EC-provinces/data/raw/vacc_vaccinated.csv'\ndir_plan_vacunarse = '/work/covid-19-EC-provinces/data/raw/vacc_plan_vacunarse.csv'",
   "outputs": [],
   "execution_count": null
  },
  {
   "cell_type": "code",
   "metadata": {
    "tags": [],
    "cell_id": "00006-d0d9a30d-2904-4484-ab68-38badf4ee1f1",
    "deepnote_to_be_reexecuted": false,
    "source_hash": "add7a013",
    "execution_start": 1639861694839,
    "execution_millis": 4,
    "deepnote_cell_type": "code"
   },
   "source": "url_input = [url_manufacturers, url_vaccination, url_plan_vacunarse]\ndir_output = [dir_manufacturers, dir_vaccination,dir_plan_vacunarse]",
   "outputs": [],
   "execution_count": null
  },
  {
   "cell_type": "markdown",
   "source": "## Create a function",
   "metadata": {
    "tags": [],
    "is_collapsed": false,
    "cell_id": "00007-89325580-7f01-4755-bbc1-7d66d9e5ed64",
    "deepnote_cell_type": "text-cell-h2"
   }
  },
  {
   "cell_type": "code",
   "metadata": {
    "tags": [],
    "cell_id": "00008-eb2d13e9-70c3-4069-8b15-269cb45e6af0",
    "deepnote_to_be_reexecuted": false,
    "source_hash": "b7a31993",
    "execution_start": 1639861694847,
    "execution_millis": 9,
    "deepnote_cell_type": "code"
   },
   "source": "def download_vacc(urls: list, dir_save: list):\n    #Read csv files and then save them as json\n    for i in range(len(urls)):\n        pd.read_csv(urls[i]).to_csv(dir_save[i], index=False)",
   "outputs": [],
   "execution_count": null
  },
  {
   "cell_type": "markdown",
   "source": "## Execute function",
   "metadata": {
    "tags": [],
    "is_collapsed": false,
    "cell_id": "00009-89624fae-930a-49cd-a2c6-43f59ee0d93a",
    "deepnote_cell_type": "text-cell-h2"
   }
  },
  {
   "cell_type": "code",
   "metadata": {
    "tags": [],
    "cell_id": "00010-bcc1eee4-2c21-4ad7-8391-515589bb94c0",
    "deepnote_to_be_reexecuted": false,
    "source_hash": "25e324c7",
    "execution_start": 1639861694859,
    "execution_millis": 279,
    "deepnote_cell_type": "code"
   },
   "source": "download_vacc(url_input, dir_output)",
   "outputs": [],
   "execution_count": null
  },
  {
   "cell_type": "markdown",
   "source": "<a style='text-decoration:none;line-height:16px;display:flex;color:#5B5B62;padding:10px;justify-content:end;' href='https://deepnote.com?utm_source=created-in-deepnote-cell&projectId=7294ef23-3287-47ac-a12f-ba892bffdf3b' target=\"_blank\">\n<img alt='Created in deepnote.com' style='display:inline;max-height:16px;margin:0px;margin-right:7.5px;' src='data:image/svg+xml;base64,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' > </img>\nCreated in <span style='font-weight:600;margin-left:4px;'>Deepnote</span></a>",
   "metadata": {
    "tags": [],
    "created_in_deepnote_cell": true,
    "deepnote_cell_type": "markdown"
   }
  }
 ],
 "nbformat": 4,
 "nbformat_minor": 2,
 "metadata": {
  "orig_nbformat": 2,
  "deepnote": {
   "is_reactive": false
  },
  "deepnote_notebook_id": "59952295-3913-4187-9fc0-f73080396ac5",
  "deepnote_execution_queue": []
 }
}