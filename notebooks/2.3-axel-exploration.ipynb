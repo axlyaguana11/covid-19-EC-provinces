{
 "cells": [
  {
   "cell_type": "markdown",
   "source": "# Exploration: vaccines",
   "metadata": {
    "tags": [],
    "is_collapsed": false,
    "cell_id": "00000-148d057b-e9cb-49b1-8bb6-147cd5c21346",
    "deepnote_cell_type": "text-cell-h1"
   }
  },
  {
   "cell_type": "markdown",
   "source": "Here we explore everything related to vaccinations. This notebook includes the exploration of:\n\n* Vaccinations in general.\n* *Plan Vacunarse*, a program the Government implemented early in 2021.\n* Vaccines manufacturers.",
   "metadata": {
    "tags": [],
    "cell_id": "00001-423ce50b-b56d-4584-9dd5-aa8a55a03f85",
    "deepnote_cell_type": "markdown"
   }
  },
  {
   "cell_type": "code",
   "metadata": {
    "tags": [],
    "cell_id": "00000-48b82c6f-9495-40ae-a47c-7e64f698ccb3",
    "deepnote_to_be_reexecuted": false,
    "source_hash": "28eb5f73",
    "execution_start": 1639868213380,
    "execution_millis": 780309,
    "deepnote_cell_type": "code"
   },
   "source": "# %load_ext autoreload\n# %autoreload 2",
   "outputs": [],
   "execution_count": null
  },
  {
   "cell_type": "code",
   "metadata": {
    "tags": [],
    "cell_id": "00002-ba5c71dc-429d-4411-b7ba-24b59b000816",
    "deepnote_to_be_reexecuted": false,
    "source_hash": "c516df8c",
    "execution_start": 1639868213381,
    "execution_millis": 4584,
    "deepnote_cell_type": "code"
   },
   "source": "#libs\nimport pandas as pd\nimport numpy as np\nimport matplotlib.pyplot as plt\nimport seaborn as sns",
   "outputs": [],
   "execution_count": null
  },
  {
   "cell_type": "markdown",
   "source": "## Plan vacunarse",
   "metadata": {
    "tags": [],
    "is_collapsed": false,
    "cell_id": "00003-dbb9a1c2-fff3-4bf3-849d-6d8a4a679012",
    "deepnote_cell_type": "text-cell-h2"
   }
  },
  {
   "cell_type": "code",
   "metadata": {
    "tags": [],
    "cell_id": "00003-0fd14a1b-5bad-4edd-8f9f-66973da18a14",
    "deepnote_to_be_reexecuted": false,
    "source_hash": "e8f57c36",
    "execution_start": 1639868217977,
    "execution_millis": 26,
    "deepnote_cell_type": "code"
   },
   "source": "df_plan_vacunarse = pd.read_csv('/work/covid-19-EC-provinces/data/processed/vacc_plan_vacunarse.csv')",
   "outputs": [],
   "execution_count": null
  },
  {
   "cell_type": "code",
   "metadata": {
    "tags": [],
    "cell_id": "00004-1025e20f-9e4e-484c-bb1a-131c249490a6",
    "deepnote_to_be_reexecuted": false,
    "source_hash": "ec2443b0",
    "execution_start": 1639868218021,
    "execution_millis": 172,
    "deepnote_cell_type": "code"
   },
   "source": "df_plan_vacunarse.head()",
   "outputs": [
    {
     "output_type": "execute_result",
     "execution_count": 4,
     "data": {
      "application/vnd.deepnote.dataframe.v3+json": {
       "column_count": 3,
       "row_count": 5,
       "columns": [
        {
         "name": "fecha",
         "dtype": "object",
         "stats": {
          "unique_count": 5,
          "nan_count": 0,
          "categories": [
           {
            "name": "2021-01-21",
            "count": 1
           },
           {
            "name": "2021-01-22",
            "count": 1
           },
           {
            "name": "3 others",
            "count": 3
           }
          ]
         }
        },
        {
         "name": "primera_dosis",
         "dtype": "int64",
         "stats": {
          "unique_count": 5,
          "nan_count": 0,
          "min": "0",
          "max": "1500",
          "histogram": [
           {
            "bin_start": 0,
            "bin_end": 150,
            "count": 2
           },
           {
            "bin_start": 150,
            "bin_end": 300,
            "count": 0
           },
           {
            "bin_start": 300,
            "bin_end": 450,
            "count": 0
           },
           {
            "bin_start": 450,
            "bin_end": 600,
            "count": 1
           },
           {
            "bin_start": 600,
            "bin_end": 750,
            "count": 1
           },
           {
            "bin_start": 750,
            "bin_end": 900,
            "count": 0
           },
           {
            "bin_start": 900,
            "bin_end": 1050,
            "count": 0
           },
           {
            "bin_start": 1050,
            "bin_end": 1200,
            "count": 0
           },
           {
            "bin_start": 1200,
            "bin_end": 1350,
            "count": 0
           },
           {
            "bin_start": 1350,
            "bin_end": 1500,
            "count": 1
           }
          ]
         }
        },
        {
         "name": "segunda_dosis",
         "dtype": "int64",
         "stats": {
          "unique_count": 2,
          "nan_count": 0,
          "min": "0",
          "max": "1",
          "histogram": [
           {
            "bin_start": 0,
            "bin_end": 0.1,
            "count": 4
           },
           {
            "bin_start": 0.1,
            "bin_end": 0.2,
            "count": 0
           },
           {
            "bin_start": 0.2,
            "bin_end": 0.30000000000000004,
            "count": 0
           },
           {
            "bin_start": 0.30000000000000004,
            "bin_end": 0.4,
            "count": 0
           },
           {
            "bin_start": 0.4,
            "bin_end": 0.5,
            "count": 0
           },
           {
            "bin_start": 0.5,
            "bin_end": 0.6000000000000001,
            "count": 0
           },
           {
            "bin_start": 0.6000000000000001,
            "bin_end": 0.7000000000000001,
            "count": 0
           },
           {
            "bin_start": 0.7000000000000001,
            "bin_end": 0.8,
            "count": 0
           },
           {
            "bin_start": 0.8,
            "bin_end": 0.9,
            "count": 0
           },
           {
            "bin_start": 0.9,
            "bin_end": 1,
            "count": 1
           }
          ]
         }
        },
        {
         "name": "_deepnote_index_column",
         "dtype": "int64"
        }
       ],
       "rows": [
        {
         "fecha": "2021-01-21",
         "primera_dosis": 1500,
         "segunda_dosis": 0,
         "_deepnote_index_column": 0
        },
        {
         "fecha": "2021-01-22",
         "primera_dosis": 539,
         "segunda_dosis": 1,
         "_deepnote_index_column": 1
        },
        {
         "fecha": "2021-01-23",
         "primera_dosis": 31,
         "segunda_dosis": 0,
         "_deepnote_index_column": 2
        },
        {
         "fecha": "2021-01-24",
         "primera_dosis": 0,
         "segunda_dosis": 0,
         "_deepnote_index_column": 3
        },
        {
         "fecha": "2021-01-25",
         "primera_dosis": 622,
         "segunda_dosis": 0,
         "_deepnote_index_column": 4
        }
       ]
      },
      "text/plain": "        fecha  primera_dosis  segunda_dosis\n0  2021-01-21           1500              0\n1  2021-01-22            539              1\n2  2021-01-23             31              0\n3  2021-01-24              0              0\n4  2021-01-25            622              0",
      "text/html": "<div>\n<style scoped>\n    .dataframe tbody tr th:only-of-type {\n        vertical-align: middle;\n    }\n\n    .dataframe tbody tr th {\n        vertical-align: top;\n    }\n\n    .dataframe thead th {\n        text-align: right;\n    }\n</style>\n<table border=\"1\" class=\"dataframe\">\n  <thead>\n    <tr style=\"text-align: right;\">\n      <th></th>\n      <th>fecha</th>\n      <th>primera_dosis</th>\n      <th>segunda_dosis</th>\n    </tr>\n  </thead>\n  <tbody>\n    <tr>\n      <th>0</th>\n      <td>2021-01-21</td>\n      <td>1500</td>\n      <td>0</td>\n    </tr>\n    <tr>\n      <th>1</th>\n      <td>2021-01-22</td>\n      <td>539</td>\n      <td>1</td>\n    </tr>\n    <tr>\n      <th>2</th>\n      <td>2021-01-23</td>\n      <td>31</td>\n      <td>0</td>\n    </tr>\n    <tr>\n      <th>3</th>\n      <td>2021-01-24</td>\n      <td>0</td>\n      <td>0</td>\n    </tr>\n    <tr>\n      <th>4</th>\n      <td>2021-01-25</td>\n      <td>622</td>\n      <td>0</td>\n    </tr>\n  </tbody>\n</table>\n</div>"
     },
     "metadata": {}
    }
   ],
   "execution_count": null
  },
  {
   "cell_type": "code",
   "metadata": {
    "tags": [],
    "cell_id": "00005-a995ab51-63b3-40be-b5d6-5ba853d0af58",
    "deepnote_to_be_reexecuted": false,
    "source_hash": "f0dc4f9",
    "execution_start": 1639868218192,
    "execution_millis": 17,
    "deepnote_output_heights": [
     232.3125
    ],
    "deepnote_cell_type": "code"
   },
   "source": "df_plan_vacunarse.fecha = pd.to_datetime(df_plan_vacunarse.fecha, format='%Y/%m/%d')",
   "outputs": [],
   "execution_count": null
  },
  {
   "cell_type": "code",
   "metadata": {
    "tags": [],
    "cell_id": "00005-c27eec30-0e0c-424d-b9df-36d86ce2ca38",
    "deepnote_to_be_reexecuted": false,
    "source_hash": "f9cd3742",
    "execution_start": 1639868218231,
    "execution_millis": 31,
    "deepnote_output_heights": [
     21.078125
    ],
    "deepnote_cell_type": "code"
   },
   "source": "df_plan_vacunarse.shape",
   "outputs": [
    {
     "output_type": "execute_result",
     "execution_count": 6,
     "data": {
      "text/plain": "(118, 3)"
     },
     "metadata": {}
    }
   ],
   "execution_count": null
  },
  {
   "cell_type": "code",
   "metadata": {
    "tags": [],
    "cell_id": "00006-7906b1de-a284-43a3-89f6-c2014c756191",
    "deepnote_to_be_reexecuted": false,
    "source_hash": "4d162e0c",
    "execution_start": 1639868218265,
    "execution_millis": 183,
    "deepnote_output_heights": [
     264
    ],
    "deepnote_cell_type": "code"
   },
   "source": "df_plan_vacunarse.describe()",
   "outputs": [
    {
     "output_type": "execute_result",
     "execution_count": 7,
     "data": {
      "application/vnd.deepnote.dataframe.v3+json": {
       "column_count": 2,
       "row_count": 8,
       "columns": [
        {
         "name": "primera_dosis",
         "dtype": "float64",
         "stats": {
          "unique_count": 8,
          "nan_count": 0,
          "min": "0.0",
          "max": "62277.0",
          "histogram": [
           {
            "bin_start": 0,
            "bin_end": 6227.7,
            "count": 4
           },
           {
            "bin_start": 6227.7,
            "bin_end": 12455.4,
            "count": 1
           },
           {
            "bin_start": 12455.4,
            "bin_end": 18683.1,
            "count": 2
           },
           {
            "bin_start": 18683.1,
            "bin_end": 24910.8,
            "count": 0
           },
           {
            "bin_start": 24910.8,
            "bin_end": 31138.5,
            "count": 0
           },
           {
            "bin_start": 31138.5,
            "bin_end": 37366.2,
            "count": 0
           },
           {
            "bin_start": 37366.2,
            "bin_end": 43593.9,
            "count": 0
           },
           {
            "bin_start": 43593.9,
            "bin_end": 49821.6,
            "count": 0
           },
           {
            "bin_start": 49821.6,
            "bin_end": 56049.299999999996,
            "count": 0
           },
           {
            "bin_start": 56049.299999999996,
            "bin_end": 62277,
            "count": 1
           }
          ]
         }
        },
        {
         "name": "segunda_dosis",
         "dtype": "float64",
         "stats": {
          "unique_count": 8,
          "nan_count": 0,
          "min": "0.0",
          "max": "18956.0",
          "histogram": [
           {
            "bin_start": 0,
            "bin_end": 1895.6,
            "count": 4
           },
           {
            "bin_start": 1895.6,
            "bin_end": 3791.2,
            "count": 1
           },
           {
            "bin_start": 3791.2,
            "bin_end": 5686.799999999999,
            "count": 2
           },
           {
            "bin_start": 5686.799999999999,
            "bin_end": 7582.4,
            "count": 0
           },
           {
            "bin_start": 7582.4,
            "bin_end": 9478,
            "count": 0
           },
           {
            "bin_start": 9478,
            "bin_end": 11373.599999999999,
            "count": 0
           },
           {
            "bin_start": 11373.599999999999,
            "bin_end": 13269.199999999999,
            "count": 0
           },
           {
            "bin_start": 13269.199999999999,
            "bin_end": 15164.8,
            "count": 0
           },
           {
            "bin_start": 15164.8,
            "bin_end": 17060.399999999998,
            "count": 0
           },
           {
            "bin_start": 17060.399999999998,
            "bin_end": 18956,
            "count": 1
           }
          ]
         }
        },
        {
         "name": "_deepnote_index_column",
         "dtype": "object"
        }
       ],
       "rows": [
        {
         "primera_dosis": 118,
         "segunda_dosis": 118,
         "_deepnote_index_column": "count"
        },
        {
         "primera_dosis": 10196.745762711864,
         "segunda_dosis": 3216.093220338983,
         "_deepnote_index_column": "mean"
        },
        {
         "primera_dosis": 13168.290012998457,
         "segunda_dosis": 4681.185896916732,
         "_deepnote_index_column": "std"
        },
        {
         "primera_dosis": 0,
         "segunda_dosis": 0,
         "_deepnote_index_column": "min"
        },
        {
         "primera_dosis": 174.25,
         "segunda_dosis": 1,
         "_deepnote_index_column": "25%"
        },
        {
         "primera_dosis": 3216.5,
         "segunda_dosis": 553.5,
         "_deepnote_index_column": "50%"
        },
        {
         "primera_dosis": 16987.25,
         "segunda_dosis": 5020.75,
         "_deepnote_index_column": "75%"
        },
        {
         "primera_dosis": 62277,
         "segunda_dosis": 18956,
         "_deepnote_index_column": "max"
        }
       ]
      },
      "text/plain": "       primera_dosis  segunda_dosis\ncount     118.000000     118.000000\nmean    10196.745763    3216.093220\nstd     13168.290013    4681.185897\nmin         0.000000       0.000000\n25%       174.250000       1.000000\n50%      3216.500000     553.500000\n75%     16987.250000    5020.750000\nmax     62277.000000   18956.000000",
      "text/html": "<div>\n<style scoped>\n    .dataframe tbody tr th:only-of-type {\n        vertical-align: middle;\n    }\n\n    .dataframe tbody tr th {\n        vertical-align: top;\n    }\n\n    .dataframe thead th {\n        text-align: right;\n    }\n</style>\n<table border=\"1\" class=\"dataframe\">\n  <thead>\n    <tr style=\"text-align: right;\">\n      <th></th>\n      <th>primera_dosis</th>\n      <th>segunda_dosis</th>\n    </tr>\n  </thead>\n  <tbody>\n    <tr>\n      <th>count</th>\n      <td>118.000000</td>\n      <td>118.000000</td>\n    </tr>\n    <tr>\n      <th>mean</th>\n      <td>10196.745763</td>\n      <td>3216.093220</td>\n    </tr>\n    <tr>\n      <th>std</th>\n      <td>13168.290013</td>\n      <td>4681.185897</td>\n    </tr>\n    <tr>\n      <th>min</th>\n      <td>0.000000</td>\n      <td>0.000000</td>\n    </tr>\n    <tr>\n      <th>25%</th>\n      <td>174.250000</td>\n      <td>1.000000</td>\n    </tr>\n    <tr>\n      <th>50%</th>\n      <td>3216.500000</td>\n      <td>553.500000</td>\n    </tr>\n    <tr>\n      <th>75%</th>\n      <td>16987.250000</td>\n      <td>5020.750000</td>\n    </tr>\n    <tr>\n      <th>max</th>\n      <td>62277.000000</td>\n      <td>18956.000000</td>\n    </tr>\n  </tbody>\n</table>\n</div>"
     },
     "metadata": {}
    }
   ],
   "execution_count": null
  },
  {
   "cell_type": "code",
   "metadata": {
    "tags": [],
    "cell_id": "00008-52ff4031-c866-4606-ab33-6b1f289bd542",
    "deepnote_to_be_reexecuted": false,
    "source_hash": "2730d97a",
    "execution_start": 1639868218447,
    "execution_millis": 11,
    "deepnote_cell_type": "code"
   },
   "source": "df_plan_vacunarse['primera_dosis_acumulado'] = df_plan_vacunarse['primera_dosis'].cumsum()\ndf_plan_vacunarse['segunda_dosis_acumulado'] = df_plan_vacunarse['segunda_dosis'].cumsum()",
   "outputs": [],
   "execution_count": null
  },
  {
   "cell_type": "code",
   "metadata": {
    "tags": [],
    "cell_id": "00008-096e6bf0-6398-40d3-964d-cecfd4cd3b1f",
    "deepnote_to_be_reexecuted": false,
    "source_hash": "f2f79983",
    "execution_start": 1639868218466,
    "execution_millis": 14,
    "deepnote_cell_type": "code"
   },
   "source": "sns.set_theme()",
   "outputs": [],
   "execution_count": null
  },
  {
   "cell_type": "code",
   "metadata": {
    "tags": [],
    "cell_id": "00010-ea1b2053-ac72-42de-8879-0575aea391d0",
    "deepnote_to_be_reexecuted": false,
    "source_hash": "8f51b73c",
    "execution_start": 1639868218498,
    "execution_millis": 2650,
    "deepnote_output_heights": [
     356.984375,
     356.984375
    ],
    "deepnote_cell_type": "code"
   },
   "source": "sns.pairplot(df_plan_vacunarse[['primera_dosis', 'segunda_dosis']], diag_kind='kde')\nplt.show()",
   "outputs": [
    {
     "data": {
      "text/plain": "<Figure size 360x360 with 6 Axes>",
      "image/png": "[encoded data removed]"
     },
     "metadata": {
      "image/png": {
       "width": 355,
       "height": 355
      }
     },
     "output_type": "display_data"
    }
   ],
   "execution_count": null
  },
  {
   "cell_type": "code",
   "metadata": {
    "tags": [],
    "cell_id": "00011-c7c03fbd-a235-4b34-8361-c676de4c1e75",
    "deepnote_to_be_reexecuted": false,
    "source_hash": "5f4d9425",
    "execution_start": 1639868221156,
    "execution_millis": 85,
    "deepnote_output_heights": [
     90
    ],
    "deepnote_cell_type": "code"
   },
   "source": "df_plan_vacunarse[['primera_dosis', 'segunda_dosis']].corr()",
   "outputs": [
    {
     "output_type": "execute_result",
     "execution_count": 11,
     "data": {
      "application/vnd.deepnote.dataframe.v3+json": {
       "column_count": 2,
       "row_count": 2,
       "columns": [
        {
         "name": "primera_dosis",
         "dtype": "float64",
         "stats": {
          "unique_count": 2,
          "nan_count": 0,
          "min": "0.4995283667562899",
          "max": "1.0",
          "histogram": [
           {
            "bin_start": 0.4995283667562899,
            "bin_end": 0.549575530080661,
            "count": 1
           },
           {
            "bin_start": 0.549575530080661,
            "bin_end": 0.5996226934050319,
            "count": 0
           },
           {
            "bin_start": 0.5996226934050319,
            "bin_end": 0.6496698567294029,
            "count": 0
           },
           {
            "bin_start": 0.6496698567294029,
            "bin_end": 0.6997170200537739,
            "count": 0
           },
           {
            "bin_start": 0.6997170200537739,
            "bin_end": 0.749764183378145,
            "count": 0
           },
           {
            "bin_start": 0.749764183378145,
            "bin_end": 0.7998113467025159,
            "count": 0
           },
           {
            "bin_start": 0.7998113467025159,
            "bin_end": 0.849858510026887,
            "count": 0
           },
           {
            "bin_start": 0.849858510026887,
            "bin_end": 0.8999056733512579,
            "count": 0
           },
           {
            "bin_start": 0.8999056733512579,
            "bin_end": 0.9499528366756289,
            "count": 0
           },
           {
            "bin_start": 0.9499528366756289,
            "bin_end": 1,
            "count": 1
           }
          ]
         }
        },
        {
         "name": "segunda_dosis",
         "dtype": "float64",
         "stats": {
          "unique_count": 2,
          "nan_count": 0,
          "min": "0.4995283667562899",
          "max": "1.0",
          "histogram": [
           {
            "bin_start": 0.4995283667562899,
            "bin_end": 0.549575530080661,
            "count": 1
           },
           {
            "bin_start": 0.549575530080661,
            "bin_end": 0.5996226934050319,
            "count": 0
           },
           {
            "bin_start": 0.5996226934050319,
            "bin_end": 0.6496698567294029,
            "count": 0
           },
           {
            "bin_start": 0.6496698567294029,
            "bin_end": 0.6997170200537739,
            "count": 0
           },
           {
            "bin_start": 0.6997170200537739,
            "bin_end": 0.749764183378145,
            "count": 0
           },
           {
            "bin_start": 0.749764183378145,
            "bin_end": 0.7998113467025159,
            "count": 0
           },
           {
            "bin_start": 0.7998113467025159,
            "bin_end": 0.849858510026887,
            "count": 0
           },
           {
            "bin_start": 0.849858510026887,
            "bin_end": 0.8999056733512579,
            "count": 0
           },
           {
            "bin_start": 0.8999056733512579,
            "bin_end": 0.9499528366756289,
            "count": 0
           },
           {
            "bin_start": 0.9499528366756289,
            "bin_end": 1,
            "count": 1
           }
          ]
         }
        },
        {
         "name": "_deepnote_index_column",
         "dtype": "object"
        }
       ],
       "rows": [
        {
         "primera_dosis": 1,
         "segunda_dosis": 0.4995283667562899,
         "_deepnote_index_column": "primera_dosis"
        },
        {
         "primera_dosis": 0.4995283667562899,
         "segunda_dosis": 1,
         "_deepnote_index_column": "segunda_dosis"
        }
       ]
      },
      "text/plain": "               primera_dosis  segunda_dosis\nprimera_dosis       1.000000       0.499528\nsegunda_dosis       0.499528       1.000000",
      "text/html": "<div>\n<style scoped>\n    .dataframe tbody tr th:only-of-type {\n        vertical-align: middle;\n    }\n\n    .dataframe tbody tr th {\n        vertical-align: top;\n    }\n\n    .dataframe thead th {\n        text-align: right;\n    }\n</style>\n<table border=\"1\" class=\"dataframe\">\n  <thead>\n    <tr style=\"text-align: right;\">\n      <th></th>\n      <th>primera_dosis</th>\n      <th>segunda_dosis</th>\n    </tr>\n  </thead>\n  <tbody>\n    <tr>\n      <th>primera_dosis</th>\n      <td>1.000000</td>\n      <td>0.499528</td>\n    </tr>\n    <tr>\n      <th>segunda_dosis</th>\n      <td>0.499528</td>\n      <td>1.000000</td>\n    </tr>\n  </tbody>\n</table>\n</div>"
     },
     "metadata": {}
    }
   ],
   "execution_count": null
  },
  {
   "cell_type": "code",
   "metadata": {
    "tags": [],
    "cell_id": "00012-c0345410-dbb3-4421-a7fd-ec847f81aaba",
    "deepnote_to_be_reexecuted": false,
    "source_hash": "7e7bbfd5",
    "execution_start": 1639868221298,
    "execution_millis": 728,
    "deepnote_output_heights": [
     257.984375,
     257.984375
    ],
    "deepnote_cell_type": "code"
   },
   "source": "sns.heatmap(df_plan_vacunarse[['primera_dosis', 'segunda_dosis']].corr(), \n            annot=True,\n            square=True,\n            cmap='summer')\nplt.show()",
   "outputs": [
    {
     "data": {
      "text/plain": "<Figure size 432x288 with 2 Axes>",
      "image/png": "[encoded data removed]"
     },
     "metadata": {
      "image/png": {
       "width": 306,
       "height": 256
      }
     },
     "output_type": "display_data"
    }
   ],
   "execution_count": null
  },
  {
   "cell_type": "code",
   "metadata": {
    "tags": [],
    "cell_id": "00009-9644168b-6623-47e1-9072-260a255630bc",
    "deepnote_to_be_reexecuted": false,
    "source_hash": "e509c205",
    "execution_start": 1639868222034,
    "execution_millis": 1314,
    "deepnote_output_heights": [
     452.984375
    ],
    "deepnote_cell_type": "code"
   },
   "source": "fig, ax = plt.subplots(figsize=(12, 7))\nplt.plot(df_plan_vacunarse.fecha, df_plan_vacunarse.primera_dosis)\nplt.plot(df_plan_vacunarse.fecha, df_plan_vacunarse.segunda_dosis)\nplt.title('First and second dose per day', size=18)\nplt.xlabel('Date')\nplt.ylabel('Doses')\nplt.legend(['First dose', 'Second dose'])\nplt.show()",
   "outputs": [
    {
     "data": {
      "text/plain": "<Figure size 864x504 with 1 Axes>",
      "image/png": "[encoded data removed]"
     },
     "metadata": {
      "image/png": {
       "width": 745,
       "height": 451
      }
     },
     "output_type": "display_data"
    }
   ],
   "execution_count": null
  },
  {
   "cell_type": "code",
   "metadata": {
    "tags": [],
    "cell_id": "00011-2e5bcf6c-609b-4ef0-b89a-a31c0a5cedd3",
    "deepnote_to_be_reexecuted": false,
    "source_hash": "100a1f",
    "execution_start": 1639868223398,
    "execution_millis": 1322,
    "deepnote_output_heights": [
     452.984375
    ],
    "deepnote_cell_type": "code"
   },
   "source": "fig, ax = plt.subplots(figsize=(12, 7))\nplt.plot(df_plan_vacunarse.fecha, df_plan_vacunarse.primera_dosis_acumulado)\nplt.plot(df_plan_vacunarse.fecha, df_plan_vacunarse.segunda_dosis_acumulado)\nplt.title('First and second dose cumulative sum', size=18)\nplt.xlabel('Date')\nplt.ylabel('Doses')\nplt.legend(['First dose', 'Second dose'])\nplt.show()",
   "outputs": [
    {
     "data": {
      "text/plain": "<Figure size 864x504 with 1 Axes>",
      "image/png": "[encoded data removed]"
     },
     "metadata": {
      "image/png": {
       "width": 727,
       "height": 451
      }
     },
     "output_type": "display_data"
    }
   ],
   "execution_count": null
  },
  {
   "cell_type": "markdown",
   "source": "## Vaccinations in general",
   "metadata": {
    "tags": [],
    "is_collapsed": false,
    "cell_id": "00016-c4f20966-0652-4176-b06b-2f28856ec09c",
    "deepnote_cell_type": "text-cell-h2"
   }
  },
  {
   "cell_type": "code",
   "metadata": {
    "tags": [],
    "cell_id": "00012-fe69b157-c1a3-40a6-aa12-4e707f0a7a03",
    "deepnote_to_be_reexecuted": false,
    "source_hash": "f0bb21a6",
    "execution_start": 1639868224731,
    "execution_millis": 22,
    "deepnote_cell_type": "code"
   },
   "source": "df_vaccinated = pd.read_csv('/work/covid-19-EC-provinces/data/processed/vaccinated.csv')",
   "outputs": [],
   "execution_count": null
  },
  {
   "cell_type": "code",
   "metadata": {
    "tags": [],
    "cell_id": "00013-c15b58ae-3418-4b4a-a7e8-5e6bbabf58fd",
    "deepnote_to_be_reexecuted": false,
    "source_hash": "7e16a2ac",
    "execution_start": 1639868224769,
    "execution_millis": 168,
    "deepnote_cell_type": "code"
   },
   "source": "df_vaccinated.tail(5)",
   "outputs": [
    {
     "output_type": "execute_result",
     "execution_count": 16,
     "data": {
      "application/vnd.deepnote.dataframe.v3+json": {
       "column_count": 5,
       "row_count": 5,
       "columns": [
        {
         "name": "fecha",
         "dtype": "object",
         "stats": {
          "unique_count": 5,
          "nan_count": 0,
          "categories": [
           {
            "name": "2021-12-11",
            "count": 1
           },
           {
            "name": "2021-12-12",
            "count": 1
           },
           {
            "name": "3 others",
            "count": 3
           }
          ]
         }
        },
        {
         "name": "dosis_total",
         "dtype": "int64",
         "stats": {
          "unique_count": 5,
          "nan_count": 0,
          "min": "26117480",
          "max": "26478800",
          "histogram": [
           {
            "bin_start": 26117480,
            "bin_end": 26153612,
            "count": 2
           },
           {
            "bin_start": 26153612,
            "bin_end": 26189744,
            "count": 0
           },
           {
            "bin_start": 26189744,
            "bin_end": 26225876,
            "count": 0
           },
           {
            "bin_start": 26225876,
            "bin_end": 26262008,
            "count": 1
           },
           {
            "bin_start": 26262008,
            "bin_end": 26298140,
            "count": 0
           },
           {
            "bin_start": 26298140,
            "bin_end": 26334272,
            "count": 0
           },
           {
            "bin_start": 26334272,
            "bin_end": 26370404,
            "count": 1
           },
           {
            "bin_start": 26370404,
            "bin_end": 26406536,
            "count": 0
           },
           {
            "bin_start": 26406536,
            "bin_end": 26442668,
            "count": 0
           },
           {
            "bin_start": 26442668,
            "bin_end": 26478800,
            "count": 1
           }
          ]
         }
        },
        {
         "name": "primera_dosis",
         "dtype": "int64",
         "stats": {
          "unique_count": 5,
          "nan_count": 0,
          "min": "13518228",
          "max": "13581407",
          "histogram": [
           {
            "bin_start": 13518228,
            "bin_end": 13524545.9,
            "count": 1
           },
           {
            "bin_start": 13524545.9,
            "bin_end": 13530863.8,
            "count": 1
           },
           {
            "bin_start": 13530863.8,
            "bin_end": 13537181.7,
            "count": 0
           },
           {
            "bin_start": 13537181.7,
            "bin_end": 13543499.6,
            "count": 1
           },
           {
            "bin_start": 13543499.6,
            "bin_end": 13549817.5,
            "count": 0
           },
           {
            "bin_start": 13549817.5,
            "bin_end": 13556135.4,
            "count": 0
           },
           {
            "bin_start": 13556135.4,
            "bin_end": 13562453.3,
            "count": 1
           },
           {
            "bin_start": 13562453.3,
            "bin_end": 13568771.2,
            "count": 0
           },
           {
            "bin_start": 13568771.2,
            "bin_end": 13575089.1,
            "count": 0
           },
           {
            "bin_start": 13575089.1,
            "bin_end": 13581407,
            "count": 1
           }
          ]
         }
        },
        {
         "name": "segunda_dosis",
         "dtype": "int64",
         "stats": {
          "unique_count": 5,
          "nan_count": 0,
          "min": "11921313",
          "max": "12142003",
          "histogram": [
           {
            "bin_start": 11921313,
            "bin_end": 11943382,
            "count": 2
           },
           {
            "bin_start": 11943382,
            "bin_end": 11965451,
            "count": 0
           },
           {
            "bin_start": 11965451,
            "bin_end": 11987520,
            "count": 0
           },
           {
            "bin_start": 11987520,
            "bin_end": 12009589,
            "count": 1
           },
           {
            "bin_start": 12009589,
            "bin_end": 12031658,
            "count": 0
           },
           {
            "bin_start": 12031658,
            "bin_end": 12053727,
            "count": 0
           },
           {
            "bin_start": 12053727,
            "bin_end": 12075796,
            "count": 1
           },
           {
            "bin_start": 12075796,
            "bin_end": 12097865,
            "count": 0
           },
           {
            "bin_start": 12097865,
            "bin_end": 12119934,
            "count": 0
           },
           {
            "bin_start": 12119934,
            "bin_end": 12142003,
            "count": 1
           }
          ]
         }
        },
        {
         "name": "refuerzo",
         "dtype": "int64",
         "stats": {
          "unique_count": 5,
          "nan_count": 0,
          "min": "677939",
          "max": "755390",
          "histogram": [
           {
            "bin_start": 677939,
            "bin_end": 685684.1,
            "count": 1
           },
           {
            "bin_start": 685684.1,
            "bin_end": 693429.2,
            "count": 1
           },
           {
            "bin_start": 693429.2,
            "bin_end": 701174.3,
            "count": 0
           },
           {
            "bin_start": 701174.3,
            "bin_end": 708919.4,
            "count": 0
           },
           {
            "bin_start": 708919.4,
            "bin_end": 716664.5,
            "count": 1
           },
           {
            "bin_start": 716664.5,
            "bin_end": 724409.6,
            "count": 0
           },
           {
            "bin_start": 724409.6,
            "bin_end": 732154.7,
            "count": 1
           },
           {
            "bin_start": 732154.7,
            "bin_end": 739899.8,
            "count": 0
           },
           {
            "bin_start": 739899.8,
            "bin_end": 747644.9,
            "count": 0
           },
           {
            "bin_start": 747644.9,
            "bin_end": 755390,
            "count": 1
           }
          ]
         }
        },
        {
         "name": "_deepnote_index_column",
         "dtype": "int64"
        }
       ],
       "rows": [
        {
         "fecha": "2021-12-11",
         "dosis_total": 26117480,
         "primera_dosis": 13518228,
         "segunda_dosis": 11921313,
         "refuerzo": 677939,
         "_deepnote_index_column": 237
        },
        {
         "fecha": "2021-12-12",
         "dosis_total": 26149244,
         "primera_dosis": 13524684,
         "segunda_dosis": 11937655,
         "refuerzo": 686905,
         "_deepnote_index_column": 238
        },
        {
         "fecha": "2021-12-13",
         "dosis_total": 26260674,
         "primera_dosis": 13541772,
         "segunda_dosis": 12008070,
         "refuerzo": 710832,
         "_deepnote_index_column": 239
        },
        {
         "fecha": "2021-12-14",
         "dosis_total": 26362850,
         "primera_dosis": 13559669,
         "segunda_dosis": 12071652,
         "refuerzo": 731529,
         "_deepnote_index_column": 240
        },
        {
         "fecha": "2021-12-15",
         "dosis_total": 26478800,
         "primera_dosis": 13581407,
         "segunda_dosis": 12142003,
         "refuerzo": 755390,
         "_deepnote_index_column": 241
        }
       ]
      },
      "text/plain": "          fecha  dosis_total  primera_dosis  segunda_dosis  refuerzo\n237  2021-12-11     26117480       13518228       11921313    677939\n238  2021-12-12     26149244       13524684       11937655    686905\n239  2021-12-13     26260674       13541772       12008070    710832\n240  2021-12-14     26362850       13559669       12071652    731529\n241  2021-12-15     26478800       13581407       12142003    755390",
      "text/html": "<div>\n<style scoped>\n    .dataframe tbody tr th:only-of-type {\n        vertical-align: middle;\n    }\n\n    .dataframe tbody tr th {\n        vertical-align: top;\n    }\n\n    .dataframe thead th {\n        text-align: right;\n    }\n</style>\n<table border=\"1\" class=\"dataframe\">\n  <thead>\n    <tr style=\"text-align: right;\">\n      <th></th>\n      <th>fecha</th>\n      <th>dosis_total</th>\n      <th>primera_dosis</th>\n      <th>segunda_dosis</th>\n      <th>refuerzo</th>\n    </tr>\n  </thead>\n  <tbody>\n    <tr>\n      <th>237</th>\n      <td>2021-12-11</td>\n      <td>26117480</td>\n      <td>13518228</td>\n      <td>11921313</td>\n      <td>677939</td>\n    </tr>\n    <tr>\n      <th>238</th>\n      <td>2021-12-12</td>\n      <td>26149244</td>\n      <td>13524684</td>\n      <td>11937655</td>\n      <td>686905</td>\n    </tr>\n    <tr>\n      <th>239</th>\n      <td>2021-12-13</td>\n      <td>26260674</td>\n      <td>13541772</td>\n      <td>12008070</td>\n      <td>710832</td>\n    </tr>\n    <tr>\n      <th>240</th>\n      <td>2021-12-14</td>\n      <td>26362850</td>\n      <td>13559669</td>\n      <td>12071652</td>\n      <td>731529</td>\n    </tr>\n    <tr>\n      <th>241</th>\n      <td>2021-12-15</td>\n      <td>26478800</td>\n      <td>13581407</td>\n      <td>12142003</td>\n      <td>755390</td>\n    </tr>\n  </tbody>\n</table>\n</div>"
     },
     "metadata": {}
    }
   ],
   "execution_count": null
  },
  {
   "cell_type": "code",
   "metadata": {
    "tags": [],
    "cell_id": "00017-23e3876c-90aa-4936-acab-491a8827aefa",
    "deepnote_to_be_reexecuted": false,
    "source_hash": "1e91b05a",
    "execution_start": 1639868224960,
    "execution_millis": 25,
    "deepnote_cell_type": "code"
   },
   "source": "df_vaccinated.fecha = pd.to_datetime(df_vaccinated.fecha, format='%Y/%m/%d')",
   "outputs": [],
   "execution_count": null
  },
  {
   "cell_type": "code",
   "metadata": {
    "tags": [],
    "cell_id": "00018-17c40864-ab09-432f-ad96-f609fda34095",
    "deepnote_to_be_reexecuted": false,
    "source_hash": "12608988",
    "execution_start": 1639868224998,
    "execution_millis": 144,
    "deepnote_output_heights": [
     264
    ],
    "deepnote_cell_type": "code"
   },
   "source": "df_vaccinated.describe()",
   "outputs": [
    {
     "output_type": "execute_result",
     "execution_count": 18,
     "data": {
      "application/vnd.deepnote.dataframe.v3+json": {
       "column_count": 4,
       "row_count": 8,
       "columns": [
        {
         "name": "dosis_total",
         "dtype": "float64",
         "stats": {
          "unique_count": 8,
          "nan_count": 0,
          "min": "0.0",
          "max": "26478800.0",
          "histogram": [
           {
            "bin_start": 0,
            "bin_end": 2647880,
            "count": 3
           },
           {
            "bin_start": 2647880,
            "bin_end": 5295760,
            "count": 0
           },
           {
            "bin_start": 5295760,
            "bin_end": 7943640,
            "count": 0
           },
           {
            "bin_start": 7943640,
            "bin_end": 10591520,
            "count": 1
           },
           {
            "bin_start": 10591520,
            "bin_end": 13239400,
            "count": 2
           },
           {
            "bin_start": 13239400,
            "bin_end": 15887280,
            "count": 0
           },
           {
            "bin_start": 15887280,
            "bin_end": 18535160,
            "count": 0
           },
           {
            "bin_start": 18535160,
            "bin_end": 21183040,
            "count": 0
           },
           {
            "bin_start": 21183040,
            "bin_end": 23830920,
            "count": 1
           },
           {
            "bin_start": 23830920,
            "bin_end": 26478800,
            "count": 1
           }
          ]
         }
        },
        {
         "name": "primera_dosis",
         "dtype": "float64",
         "stats": {
          "unique_count": 8,
          "nan_count": 0,
          "min": "0.0",
          "max": "13581407.0",
          "histogram": [
           {
            "bin_start": 0,
            "bin_end": 1358140.7,
            "count": 3
           },
           {
            "bin_start": 1358140.7,
            "bin_end": 2716281.4,
            "count": 0
           },
           {
            "bin_start": 2716281.4,
            "bin_end": 4074422.0999999996,
            "count": 0
           },
           {
            "bin_start": 4074422.0999999996,
            "bin_end": 5432562.8,
            "count": 1
           },
           {
            "bin_start": 5432562.8,
            "bin_end": 6790703.5,
            "count": 0
           },
           {
            "bin_start": 6790703.5,
            "bin_end": 8148844.199999999,
            "count": 1
           },
           {
            "bin_start": 8148844.199999999,
            "bin_end": 9506984.9,
            "count": 1
           },
           {
            "bin_start": 9506984.9,
            "bin_end": 10865125.6,
            "count": 0
           },
           {
            "bin_start": 10865125.6,
            "bin_end": 12223266.299999999,
            "count": 1
           },
           {
            "bin_start": 12223266.299999999,
            "bin_end": 13581407,
            "count": 1
           }
          ]
         }
        },
        {
         "name": "segunda_dosis",
         "dtype": "float64",
         "stats": {
          "unique_count": 8,
          "nan_count": 0,
          "min": "0.0",
          "max": "12142003.0",
          "histogram": [
           {
            "bin_start": 0,
            "bin_end": 1214200.3,
            "count": 3
           },
           {
            "bin_start": 1214200.3,
            "bin_end": 2428400.6,
            "count": 0
           },
           {
            "bin_start": 2428400.6,
            "bin_end": 3642600.9000000004,
            "count": 1
           },
           {
            "bin_start": 3642600.9000000004,
            "bin_end": 4856801.2,
            "count": 1
           },
           {
            "bin_start": 4856801.2,
            "bin_end": 6071001.5,
            "count": 1
           },
           {
            "bin_start": 6071001.5,
            "bin_end": 7285201.800000001,
            "count": 0
           },
           {
            "bin_start": 7285201.800000001,
            "bin_end": 8499402.1,
            "count": 0
           },
           {
            "bin_start": 8499402.1,
            "bin_end": 9713602.4,
            "count": 0
           },
           {
            "bin_start": 9713602.4,
            "bin_end": 10927802.700000001,
            "count": 1
           },
           {
            "bin_start": 10927802.700000001,
            "bin_end": 12142003,
            "count": 1
           }
          ]
         }
        },
        {
         "name": "refuerzo",
         "dtype": "float64",
         "stats": {
          "unique_count": 6,
          "nan_count": 0,
          "min": "0.0",
          "max": "755390.0",
          "histogram": [
           {
            "bin_start": 0,
            "bin_end": 75539,
            "count": 6
           },
           {
            "bin_start": 75539,
            "bin_end": 151078,
            "count": 0
           },
           {
            "bin_start": 151078,
            "bin_end": 226617,
            "count": 1
           },
           {
            "bin_start": 226617,
            "bin_end": 302156,
            "count": 0
           },
           {
            "bin_start": 302156,
            "bin_end": 377695,
            "count": 0
           },
           {
            "bin_start": 377695,
            "bin_end": 453234,
            "count": 0
           },
           {
            "bin_start": 453234,
            "bin_end": 528773,
            "count": 0
           },
           {
            "bin_start": 528773,
            "bin_end": 604312,
            "count": 0
           },
           {
            "bin_start": 604312,
            "bin_end": 679851,
            "count": 0
           },
           {
            "bin_start": 679851,
            "bin_end": 755390,
            "count": 1
           }
          ]
         }
        },
        {
         "name": "_deepnote_index_column",
         "dtype": "object"
        }
       ],
       "rows": [
        {
         "dosis_total": 242,
         "primera_dosis": 242,
         "segunda_dosis": 242,
         "refuerzo": 242,
         "_deepnote_index_column": "count"
        },
        {
         "dosis_total": 12095936.289256198,
         "primera_dosis": 6903157.388429752,
         "segunda_dosis": 5127812.9628099175,
         "refuerzo": 64918.045454545456,
         "_deepnote_index_column": "mean"
        },
        {
         "dosis_total": 9689807.391746802,
         "primera_dosis": 5080318.507854826,
         "segunda_dosis": 4654533.597469654,
         "refuerzo": 163022.18476347325,
         "_deepnote_index_column": "std"
        },
        {
         "dosis_total": 0,
         "primera_dosis": 0,
         "segunda_dosis": 0,
         "refuerzo": 0,
         "_deepnote_index_column": "min"
        },
        {
         "dosis_total": 1769117,
         "primera_dosis": 1325904,
         "segunda_dosis": 443213,
         "refuerzo": 0,
         "_deepnote_index_column": "25%"
        },
        {
         "dosis_total": 11825130.5,
         "primera_dosis": 9314171.5,
         "segunda_dosis": 2510959,
         "refuerzo": 0,
         "_deepnote_index_column": "50%"
        },
        {
         "dosis_total": 21334587,
         "primera_dosis": 11303451,
         "segunda_dosis": 10031135,
         "refuerzo": 1,
         "_deepnote_index_column": "75%"
        },
        {
         "dosis_total": 26478800,
         "primera_dosis": 13581407,
         "segunda_dosis": 12142003,
         "refuerzo": 755390,
         "_deepnote_index_column": "max"
        }
       ]
      },
      "text/plain": "        dosis_total  primera_dosis  segunda_dosis       refuerzo\ncount  2.420000e+02   2.420000e+02   2.420000e+02     242.000000\nmean   1.209594e+07   6.903157e+06   5.127813e+06   64918.045455\nstd    9.689807e+06   5.080319e+06   4.654534e+06  163022.184763\nmin    0.000000e+00   0.000000e+00   0.000000e+00       0.000000\n25%    1.769117e+06   1.325904e+06   4.432130e+05       0.000000\n50%    1.182513e+07   9.314172e+06   2.510959e+06       0.000000\n75%    2.133459e+07   1.130345e+07   1.003114e+07       1.000000\nmax    2.647880e+07   1.358141e+07   1.214200e+07  755390.000000",
      "text/html": "<div>\n<style scoped>\n    .dataframe tbody tr th:only-of-type {\n        vertical-align: middle;\n    }\n\n    .dataframe tbody tr th {\n        vertical-align: top;\n    }\n\n    .dataframe thead th {\n        text-align: right;\n    }\n</style>\n<table border=\"1\" class=\"dataframe\">\n  <thead>\n    <tr style=\"text-align: right;\">\n      <th></th>\n      <th>dosis_total</th>\n      <th>primera_dosis</th>\n      <th>segunda_dosis</th>\n      <th>refuerzo</th>\n    </tr>\n  </thead>\n  <tbody>\n    <tr>\n      <th>count</th>\n      <td>2.420000e+02</td>\n      <td>2.420000e+02</td>\n      <td>2.420000e+02</td>\n      <td>242.000000</td>\n    </tr>\n    <tr>\n      <th>mean</th>\n      <td>1.209594e+07</td>\n      <td>6.903157e+06</td>\n      <td>5.127813e+06</td>\n      <td>64918.045455</td>\n    </tr>\n    <tr>\n      <th>std</th>\n      <td>9.689807e+06</td>\n      <td>5.080319e+06</td>\n      <td>4.654534e+06</td>\n      <td>163022.184763</td>\n    </tr>\n    <tr>\n      <th>min</th>\n      <td>0.000000e+00</td>\n      <td>0.000000e+00</td>\n      <td>0.000000e+00</td>\n      <td>0.000000</td>\n    </tr>\n    <tr>\n      <th>25%</th>\n      <td>1.769117e+06</td>\n      <td>1.325904e+06</td>\n      <td>4.432130e+05</td>\n      <td>0.000000</td>\n    </tr>\n    <tr>\n      <th>50%</th>\n      <td>1.182513e+07</td>\n      <td>9.314172e+06</td>\n      <td>2.510959e+06</td>\n      <td>0.000000</td>\n    </tr>\n    <tr>\n      <th>75%</th>\n      <td>2.133459e+07</td>\n      <td>1.130345e+07</td>\n      <td>1.003114e+07</td>\n      <td>1.000000</td>\n    </tr>\n    <tr>\n      <th>max</th>\n      <td>2.647880e+07</td>\n      <td>1.358141e+07</td>\n      <td>1.214200e+07</td>\n      <td>755390.000000</td>\n    </tr>\n  </tbody>\n</table>\n</div>"
     },
     "metadata": {}
    }
   ],
   "execution_count": null
  },
  {
   "cell_type": "code",
   "metadata": {
    "tags": [],
    "cell_id": "00019-05026d04-5d8b-4890-b0fa-1ec630f958ea",
    "deepnote_to_be_reexecuted": false,
    "source_hash": "b5992731",
    "execution_start": 1639868225150,
    "execution_millis": 19,
    "deepnote_cell_type": "code"
   },
   "source": "df_vaccinated['primera_dosis_diff'] = df_vaccinated['primera_dosis'].diff()\ndf_vaccinated['segunda_dosis_diff'] = df_vaccinated['segunda_dosis'].diff()\ndf_vaccinated['refuerzo_diff'] = df_vaccinated['refuerzo'].diff()\ndf_vaccinated['dosis_total_diff'] = df_vaccinated['dosis_total'].diff()",
   "outputs": [],
   "execution_count": null
  },
  {
   "cell_type": "code",
   "metadata": {
    "tags": [],
    "cell_id": "00020-f98625d1-cb4e-4b65-bd70-6d6c0a4259dc",
    "deepnote_to_be_reexecuted": false,
    "source_hash": "4f70dd06",
    "execution_start": 1639868225182,
    "execution_millis": 41,
    "deepnote_cell_type": "code"
   },
   "source": "df_vaccinated.fillna(method='bfill', inplace=True)",
   "outputs": [],
   "execution_count": null
  },
  {
   "cell_type": "code",
   "metadata": {
    "tags": [],
    "cell_id": "00023-35a87180-ed32-464e-822f-62f817f0bf9a",
    "deepnote_to_be_reexecuted": false,
    "source_hash": "12608988",
    "execution_start": 1639868225310,
    "execution_millis": 210,
    "deepnote_output_heights": [
     264
    ],
    "deepnote_cell_type": "code"
   },
   "source": "df_vaccinated.describe()",
   "outputs": [
    {
     "output_type": "execute_result",
     "execution_count": 21,
     "data": {
      "application/vnd.deepnote.dataframe.v3+json": {
       "column_count": 8,
       "row_count": 8,
       "columns": [
        {
         "name": "dosis_total",
         "dtype": "float64",
         "stats": {
          "unique_count": 8,
          "nan_count": 0,
          "min": "0.0",
          "max": "26478800.0",
          "histogram": [
           {
            "bin_start": 0,
            "bin_end": 2647880,
            "count": 3
           },
           {
            "bin_start": 2647880,
            "bin_end": 5295760,
            "count": 0
           },
           {
            "bin_start": 5295760,
            "bin_end": 7943640,
            "count": 0
           },
           {
            "bin_start": 7943640,
            "bin_end": 10591520,
            "count": 1
           },
           {
            "bin_start": 10591520,
            "bin_end": 13239400,
            "count": 2
           },
           {
            "bin_start": 13239400,
            "bin_end": 15887280,
            "count": 0
           },
           {
            "bin_start": 15887280,
            "bin_end": 18535160,
            "count": 0
           },
           {
            "bin_start": 18535160,
            "bin_end": 21183040,
            "count": 0
           },
           {
            "bin_start": 21183040,
            "bin_end": 23830920,
            "count": 1
           },
           {
            "bin_start": 23830920,
            "bin_end": 26478800,
            "count": 1
           }
          ]
         }
        },
        {
         "name": "primera_dosis",
         "dtype": "float64",
         "stats": {
          "unique_count": 8,
          "nan_count": 0,
          "min": "0.0",
          "max": "13581407.0",
          "histogram": [
           {
            "bin_start": 0,
            "bin_end": 1358140.7,
            "count": 3
           },
           {
            "bin_start": 1358140.7,
            "bin_end": 2716281.4,
            "count": 0
           },
           {
            "bin_start": 2716281.4,
            "bin_end": 4074422.0999999996,
            "count": 0
           },
           {
            "bin_start": 4074422.0999999996,
            "bin_end": 5432562.8,
            "count": 1
           },
           {
            "bin_start": 5432562.8,
            "bin_end": 6790703.5,
            "count": 0
           },
           {
            "bin_start": 6790703.5,
            "bin_end": 8148844.199999999,
            "count": 1
           },
           {
            "bin_start": 8148844.199999999,
            "bin_end": 9506984.9,
            "count": 1
           },
           {
            "bin_start": 9506984.9,
            "bin_end": 10865125.6,
            "count": 0
           },
           {
            "bin_start": 10865125.6,
            "bin_end": 12223266.299999999,
            "count": 1
           },
           {
            "bin_start": 12223266.299999999,
            "bin_end": 13581407,
            "count": 1
           }
          ]
         }
        },
        {
         "name": "segunda_dosis",
         "dtype": "float64",
         "stats": {
          "unique_count": 8,
          "nan_count": 0,
          "min": "0.0",
          "max": "12142003.0",
          "histogram": [
           {
            "bin_start": 0,
            "bin_end": 1214200.3,
            "count": 3
           },
           {
            "bin_start": 1214200.3,
            "bin_end": 2428400.6,
            "count": 0
           },
           {
            "bin_start": 2428400.6,
            "bin_end": 3642600.9000000004,
            "count": 1
           },
           {
            "bin_start": 3642600.9000000004,
            "bin_end": 4856801.2,
            "count": 1
           },
           {
            "bin_start": 4856801.2,
            "bin_end": 6071001.5,
            "count": 1
           },
           {
            "bin_start": 6071001.5,
            "bin_end": 7285201.800000001,
            "count": 0
           },
           {
            "bin_start": 7285201.800000001,
            "bin_end": 8499402.1,
            "count": 0
           },
           {
            "bin_start": 8499402.1,
            "bin_end": 9713602.4,
            "count": 0
           },
           {
            "bin_start": 9713602.4,
            "bin_end": 10927802.700000001,
            "count": 1
           },
           {
            "bin_start": 10927802.700000001,
            "bin_end": 12142003,
            "count": 1
           }
          ]
         }
        },
        {
         "name": "refuerzo",
         "dtype": "float64",
         "stats": {
          "unique_count": 6,
          "nan_count": 0,
          "min": "0.0",
          "max": "755390.0",
          "histogram": [
           {
            "bin_start": 0,
            "bin_end": 75539,
            "count": 6
           },
           {
            "bin_start": 75539,
            "bin_end": 151078,
            "count": 0
           },
           {
            "bin_start": 151078,
            "bin_end": 226617,
            "count": 1
           },
           {
            "bin_start": 226617,
            "bin_end": 302156,
            "count": 0
           },
           {
            "bin_start": 302156,
            "bin_end": 377695,
            "count": 0
           },
           {
            "bin_start": 377695,
            "bin_end": 453234,
            "count": 0
           },
           {
            "bin_start": 453234,
            "bin_end": 528773,
            "count": 0
           },
           {
            "bin_start": 528773,
            "bin_end": 604312,
            "count": 0
           },
           {
            "bin_start": 604312,
            "bin_end": 679851,
            "count": 0
           },
           {
            "bin_start": 679851,
            "bin_end": 755390,
            "count": 1
           }
          ]
         }
        },
        {
         "name": "primera_dosis_diff",
         "dtype": "float64",
         "stats": {
          "unique_count": 8,
          "nan_count": 0,
          "min": "-44519.0",
          "max": "711855.0",
          "histogram": [
           {
            "bin_start": -44519,
            "bin_end": 31118.399999999994,
            "count": 4
           },
           {
            "bin_start": 31118.399999999994,
            "bin_end": 106755.79999999999,
            "count": 3
           },
           {
            "bin_start": 106755.79999999999,
            "bin_end": 182393.19999999998,
            "count": 0
           },
           {
            "bin_start": 182393.19999999998,
            "bin_end": 258030.59999999998,
            "count": 0
           },
           {
            "bin_start": 258030.59999999998,
            "bin_end": 333668,
            "count": 0
           },
           {
            "bin_start": 333668,
            "bin_end": 409305.39999999997,
            "count": 0
           },
           {
            "bin_start": 409305.39999999997,
            "bin_end": 484942.79999999993,
            "count": 0
           },
           {
            "bin_start": 484942.79999999993,
            "bin_end": 560580.2,
            "count": 0
           },
           {
            "bin_start": 560580.2,
            "bin_end": 636217.6,
            "count": 0
           },
           {
            "bin_start": 636217.6,
            "bin_end": 711855,
            "count": 1
           }
          ]
         }
        },
        {
         "name": "segunda_dosis_diff",
         "dtype": "float64",
         "stats": {
          "unique_count": 8,
          "nan_count": 0,
          "min": "0.0",
          "max": "771941.0",
          "histogram": [
           {
            "bin_start": 0,
            "bin_end": 77194.1,
            "count": 6
           },
           {
            "bin_start": 77194.1,
            "bin_end": 154388.2,
            "count": 1
           },
           {
            "bin_start": 154388.2,
            "bin_end": 231582.30000000002,
            "count": 0
           },
           {
            "bin_start": 231582.30000000002,
            "bin_end": 308776.4,
            "count": 0
           },
           {
            "bin_start": 308776.4,
            "bin_end": 385970.5,
            "count": 0
           },
           {
            "bin_start": 385970.5,
            "bin_end": 463164.60000000003,
            "count": 0
           },
           {
            "bin_start": 463164.60000000003,
            "bin_end": 540358.7000000001,
            "count": 0
           },
           {
            "bin_start": 540358.7000000001,
            "bin_end": 617552.8,
            "count": 0
           },
           {
            "bin_start": 617552.8,
            "bin_end": 694746.9,
            "count": 0
           },
           {
            "bin_start": 694746.9,
            "bin_end": 771941,
            "count": 1
           }
          ]
         }
        },
        {
         "name": "refuerzo_diff",
         "dtype": "float64",
         "stats": {
          "unique_count": 5,
          "nan_count": 0,
          "min": "0.0",
          "max": "44144.0",
          "histogram": [
           {
            "bin_start": 0,
            "bin_end": 4414.4,
            "count": 6
           },
           {
            "bin_start": 4414.4,
            "bin_end": 8828.8,
            "count": 1
           },
           {
            "bin_start": 8828.8,
            "bin_end": 13243.199999999999,
            "count": 0
           },
           {
            "bin_start": 13243.199999999999,
            "bin_end": 17657.6,
            "count": 0
           },
           {
            "bin_start": 17657.6,
            "bin_end": 22072,
            "count": 0
           },
           {
            "bin_start": 22072,
            "bin_end": 26486.399999999998,
            "count": 0
           },
           {
            "bin_start": 26486.399999999998,
            "bin_end": 30900.799999999996,
            "count": 0
           },
           {
            "bin_start": 30900.799999999996,
            "bin_end": 35315.2,
            "count": 0
           },
           {
            "bin_start": 35315.2,
            "bin_end": 39729.6,
            "count": 0
           },
           {
            "bin_start": 39729.6,
            "bin_end": 44144,
            "count": 1
           }
          ]
         }
        },
        {
         "name": "dosis_total_diff",
         "dtype": "float64",
         "stats": {
          "unique_count": 8,
          "nan_count": 0,
          "min": "-20338.0",
          "max": "1064932.0",
          "histogram": [
           {
            "bin_start": -20338,
            "bin_end": 88189,
            "count": 4
           },
           {
            "bin_start": 88189,
            "bin_end": 196716,
            "count": 3
           },
           {
            "bin_start": 196716,
            "bin_end": 305243,
            "count": 0
           },
           {
            "bin_start": 305243,
            "bin_end": 413770,
            "count": 0
           },
           {
            "bin_start": 413770,
            "bin_end": 522297,
            "count": 0
           },
           {
            "bin_start": 522297,
            "bin_end": 630824,
            "count": 0
           },
           {
            "bin_start": 630824,
            "bin_end": 739351,
            "count": 0
           },
           {
            "bin_start": 739351,
            "bin_end": 847878,
            "count": 0
           },
           {
            "bin_start": 847878,
            "bin_end": 956405,
            "count": 0
           },
           {
            "bin_start": 956405,
            "bin_end": 1064932,
            "count": 1
           }
          ]
         }
        },
        {
         "name": "_deepnote_index_column",
         "dtype": "object"
        }
       ],
       "rows": [
        {
         "dosis_total": 242,
         "primera_dosis": 242,
         "segunda_dosis": 242,
         "refuerzo": 242,
         "primera_dosis_diff": 242,
         "segunda_dosis_diff": 242,
         "refuerzo_diff": 242,
         "dosis_total_diff": 242,
         "_deepnote_index_column": "count"
        },
        {
         "dosis_total": 12095936.289256198,
         "primera_dosis": 6903157.388429752,
         "segunda_dosis": 5127812.9628099175,
         "refuerzo": 64918.045454545456,
         "primera_dosis_diff": 56121.51652892562,
         "segunda_dosis_diff": 50173.56611570248,
         "refuerzo_diff": 3121.4462809917354,
         "dosis_total_diff": 109416.52892561983,
         "_deepnote_index_column": "mean"
        },
        {
         "dosis_total": 9689807.391746802,
         "primera_dosis": 5080318.507854826,
         "segunda_dosis": 4654533.597469654,
         "refuerzo": 163022.18476347325,
         "primera_dosis_diff": 90068.89493925504,
         "segunda_dosis_diff": 92478.99794966217,
         "refuerzo_diff": 7323.863914504497,
         "dosis_total_diff": 133464.53914092993,
         "_deepnote_index_column": "std"
        },
        {
         "dosis_total": 0,
         "primera_dosis": 0,
         "segunda_dosis": 0,
         "refuerzo": 0,
         "primera_dosis_diff": -44519,
         "segunda_dosis_diff": 0,
         "refuerzo_diff": 0,
         "dosis_total_diff": -20338,
         "_deepnote_index_column": "min"
        },
        {
         "dosis_total": 1769117,
         "primera_dosis": 1325904,
         "segunda_dosis": 443213,
         "refuerzo": 0,
         "primera_dosis_diff": 6660.75,
         "segunda_dosis_diff": 7548.75,
         "refuerzo_diff": 0,
         "dosis_total_diff": 30279,
         "_deepnote_index_column": "25%"
        },
        {
         "dosis_total": 11825130.5,
         "primera_dosis": 9314171.5,
         "segunda_dosis": 2510959,
         "refuerzo": 0,
         "primera_dosis_diff": 28356,
         "segunda_dosis_diff": 19232,
         "refuerzo_diff": 0,
         "dosis_total_diff": 65236,
         "_deepnote_index_column": "50%"
        },
        {
         "dosis_total": 21334587,
         "primera_dosis": 11303451,
         "segunda_dosis": 10031135,
         "refuerzo": 1,
         "primera_dosis_diff": 56924.5,
         "segunda_dosis_diff": 52450.75,
         "refuerzo_diff": 0,
         "dosis_total_diff": 136455,
         "_deepnote_index_column": "75%"
        },
        {
         "dosis_total": 26478800,
         "primera_dosis": 13581407,
         "segunda_dosis": 12142003,
         "refuerzo": 755390,
         "primera_dosis_diff": 711855,
         "segunda_dosis_diff": 771941,
         "refuerzo_diff": 44144,
         "dosis_total_diff": 1064932,
         "_deepnote_index_column": "max"
        }
       ]
      },
      "text/plain": "        dosis_total  primera_dosis  segunda_dosis       refuerzo  \\\ncount  2.420000e+02   2.420000e+02   2.420000e+02     242.000000   \nmean   1.209594e+07   6.903157e+06   5.127813e+06   64918.045455   \nstd    9.689807e+06   5.080319e+06   4.654534e+06  163022.184763   \nmin    0.000000e+00   0.000000e+00   0.000000e+00       0.000000   \n25%    1.769117e+06   1.325904e+06   4.432130e+05       0.000000   \n50%    1.182513e+07   9.314172e+06   2.510959e+06       0.000000   \n75%    2.133459e+07   1.130345e+07   1.003114e+07       1.000000   \nmax    2.647880e+07   1.358141e+07   1.214200e+07  755390.000000   \n\n       primera_dosis_diff  segunda_dosis_diff  refuerzo_diff  dosis_total_diff  \ncount          242.000000          242.000000     242.000000      2.420000e+02  \nmean         56121.516529        50173.566116    3121.446281      1.094165e+05  \nstd          90068.894939        92478.997950    7323.863915      1.334645e+05  \nmin         -44519.000000            0.000000       0.000000     -2.033800e+04  \n25%           6660.750000         7548.750000       0.000000      3.027900e+04  \n50%          28356.000000        19232.000000       0.000000      6.523600e+04  \n75%          56924.500000        52450.750000       0.000000      1.364550e+05  \nmax         711855.000000       771941.000000   44144.000000      1.064932e+06  ",
      "text/html": "<div>\n<style scoped>\n    .dataframe tbody tr th:only-of-type {\n        vertical-align: middle;\n    }\n\n    .dataframe tbody tr th {\n        vertical-align: top;\n    }\n\n    .dataframe thead th {\n        text-align: right;\n    }\n</style>\n<table border=\"1\" class=\"dataframe\">\n  <thead>\n    <tr style=\"text-align: right;\">\n      <th></th>\n      <th>dosis_total</th>\n      <th>primera_dosis</th>\n      <th>segunda_dosis</th>\n      <th>refuerzo</th>\n      <th>primera_dosis_diff</th>\n      <th>segunda_dosis_diff</th>\n      <th>refuerzo_diff</th>\n      <th>dosis_total_diff</th>\n    </tr>\n  </thead>\n  <tbody>\n    <tr>\n      <th>count</th>\n      <td>2.420000e+02</td>\n      <td>2.420000e+02</td>\n      <td>2.420000e+02</td>\n      <td>242.000000</td>\n      <td>242.000000</td>\n      <td>242.000000</td>\n      <td>242.000000</td>\n      <td>2.420000e+02</td>\n    </tr>\n    <tr>\n      <th>mean</th>\n      <td>1.209594e+07</td>\n      <td>6.903157e+06</td>\n      <td>5.127813e+06</td>\n      <td>64918.045455</td>\n      <td>56121.516529</td>\n      <td>50173.566116</td>\n      <td>3121.446281</td>\n      <td>1.094165e+05</td>\n    </tr>\n    <tr>\n      <th>std</th>\n      <td>9.689807e+06</td>\n      <td>5.080319e+06</td>\n      <td>4.654534e+06</td>\n      <td>163022.184763</td>\n      <td>90068.894939</td>\n      <td>92478.997950</td>\n      <td>7323.863915</td>\n      <td>1.334645e+05</td>\n    </tr>\n    <tr>\n      <th>min</th>\n      <td>0.000000e+00</td>\n      <td>0.000000e+00</td>\n      <td>0.000000e+00</td>\n      <td>0.000000</td>\n      <td>-44519.000000</td>\n      <td>0.000000</td>\n      <td>0.000000</td>\n      <td>-2.033800e+04</td>\n    </tr>\n    <tr>\n      <th>25%</th>\n      <td>1.769117e+06</td>\n      <td>1.325904e+06</td>\n      <td>4.432130e+05</td>\n      <td>0.000000</td>\n      <td>6660.750000</td>\n      <td>7548.750000</td>\n      <td>0.000000</td>\n      <td>3.027900e+04</td>\n    </tr>\n    <tr>\n      <th>50%</th>\n      <td>1.182513e+07</td>\n      <td>9.314172e+06</td>\n      <td>2.510959e+06</td>\n      <td>0.000000</td>\n      <td>28356.000000</td>\n      <td>19232.000000</td>\n      <td>0.000000</td>\n      <td>6.523600e+04</td>\n    </tr>\n    <tr>\n      <th>75%</th>\n      <td>2.133459e+07</td>\n      <td>1.130345e+07</td>\n      <td>1.003114e+07</td>\n      <td>1.000000</td>\n      <td>56924.500000</td>\n      <td>52450.750000</td>\n      <td>0.000000</td>\n      <td>1.364550e+05</td>\n    </tr>\n    <tr>\n      <th>max</th>\n      <td>2.647880e+07</td>\n      <td>1.358141e+07</td>\n      <td>1.214200e+07</td>\n      <td>755390.000000</td>\n      <td>711855.000000</td>\n      <td>771941.000000</td>\n      <td>44144.000000</td>\n      <td>1.064932e+06</td>\n    </tr>\n  </tbody>\n</table>\n</div>"
     },
     "metadata": {}
    }
   ],
   "execution_count": null
  },
  {
   "cell_type": "code",
   "metadata": {
    "tags": [],
    "cell_id": "00020-1721ce3e-edb0-4cd4-90ed-9a182fb26171",
    "deepnote_to_be_reexecuted": false,
    "source_hash": "889122fe",
    "execution_start": 1639868225537,
    "execution_millis": 4793,
    "deepnote_output_heights": [
     532.984375,
     532.984375
    ],
    "deepnote_cell_type": "code"
   },
   "source": "sns.pairplot(df_vaccinated[['primera_dosis_diff', 'segunda_dosis_diff', 'refuerzo_diff']], diag_kind='kde')\nplt.show()",
   "outputs": [
    {
     "data": {
      "text/plain": "<Figure size 540x540 with 12 Axes>",
      "image/png": "[encoded data removed]"
     },
     "metadata": {
      "image/png": {
       "width": 531,
       "height": 531
      }
     },
     "output_type": "display_data"
    }
   ],
   "execution_count": null
  },
  {
   "cell_type": "code",
   "metadata": {
    "tags": [],
    "cell_id": "00025-06e9a208-3e71-4f29-9e98-159477ba5f4d",
    "deepnote_to_be_reexecuted": false,
    "source_hash": "b9eca11c",
    "execution_start": 1639868230363,
    "execution_millis": 567,
    "deepnote_output_heights": [
     254.984375,
     254.984375
    ],
    "deepnote_cell_type": "code"
   },
   "source": "sns.boxplot(data=df_vaccinated[['primera_dosis_diff', 'segunda_dosis_diff', 'refuerzo_diff']])\nplt.show()",
   "outputs": [
    {
     "data": {
      "text/plain": "<Figure size 432x288 with 1 Axes>",
      "image/png": "[encoded data removed]"
     },
     "metadata": {
      "image/png": {
       "width": 400,
       "height": 253
      }
     },
     "output_type": "display_data"
    }
   ],
   "execution_count": null
  },
  {
   "cell_type": "code",
   "metadata": {
    "tags": [],
    "cell_id": "00021-e49c347f-ec4f-4312-933a-91e8a5aa8626",
    "deepnote_to_be_reexecuted": false,
    "source_hash": "5f3a442d",
    "execution_start": 1639868231021,
    "execution_millis": 281,
    "deepnote_output_heights": [
     119
    ],
    "deepnote_cell_type": "code"
   },
   "source": "df_vaccinated[['primera_dosis_diff', 'segunda_dosis_diff', 'refuerzo_diff']].corr()",
   "outputs": [
    {
     "output_type": "execute_result",
     "execution_count": 24,
     "data": {
      "application/vnd.deepnote.dataframe.v3+json": {
       "column_count": 3,
       "row_count": 3,
       "columns": [
        {
         "name": "primera_dosis_diff",
         "dtype": "float64",
         "stats": {
          "unique_count": 3,
          "nan_count": 0,
          "min": "-0.08589379954047366",
          "max": "1.0",
          "histogram": [
           {
            "bin_start": -0.08589379954047366,
            "bin_end": 0.022695580413573696,
            "count": 1
           },
           {
            "bin_start": 0.022695580413573696,
            "bin_end": 0.13128496036762105,
            "count": 1
           },
           {
            "bin_start": 0.13128496036762105,
            "bin_end": 0.23987434032166838,
            "count": 0
           },
           {
            "bin_start": 0.23987434032166838,
            "bin_end": 0.34846372027571576,
            "count": 0
           },
           {
            "bin_start": 0.34846372027571576,
            "bin_end": 0.45705310022976314,
            "count": 0
           },
           {
            "bin_start": 0.45705310022976314,
            "bin_end": 0.5656424801838105,
            "count": 0
           },
           {
            "bin_start": 0.5656424801838105,
            "bin_end": 0.6742318601378579,
            "count": 0
           },
           {
            "bin_start": 0.6742318601378579,
            "bin_end": 0.7828212400919052,
            "count": 0
           },
           {
            "bin_start": 0.7828212400919052,
            "bin_end": 0.8914106200459526,
            "count": 0
           },
           {
            "bin_start": 0.8914106200459526,
            "bin_end": 1,
            "count": 1
           }
          ]
         }
        },
        {
         "name": "segunda_dosis_diff",
         "dtype": "float64",
         "stats": {
          "unique_count": 3,
          "nan_count": 0,
          "min": "0.0006789458048988237",
          "max": "1.0",
          "histogram": [
           {
            "bin_start": 0.0006789458048988237,
            "bin_end": 0.10061105122440894,
            "count": 2
           },
           {
            "bin_start": 0.10061105122440894,
            "bin_end": 0.20054315664391906,
            "count": 0
           },
           {
            "bin_start": 0.20054315664391906,
            "bin_end": 0.3004752620634291,
            "count": 0
           },
           {
            "bin_start": 0.3004752620634291,
            "bin_end": 0.40040736748293926,
            "count": 0
           },
           {
            "bin_start": 0.40040736748293926,
            "bin_end": 0.5003394729024494,
            "count": 0
           },
           {
            "bin_start": 0.5003394729024494,
            "bin_end": 0.6002715783219594,
            "count": 0
           },
           {
            "bin_start": 0.6002715783219594,
            "bin_end": 0.7002036837414696,
            "count": 0
           },
           {
            "bin_start": 0.7002036837414696,
            "bin_end": 0.8001357891609797,
            "count": 0
           },
           {
            "bin_start": 0.8001357891609797,
            "bin_end": 0.9000678945804899,
            "count": 0
           },
           {
            "bin_start": 0.9000678945804899,
            "bin_end": 1,
            "count": 1
           }
          ]
         }
        },
        {
         "name": "refuerzo_diff",
         "dtype": "float64",
         "stats": {
          "unique_count": 3,
          "nan_count": 0,
          "min": "-0.08589379954047366",
          "max": "1.0",
          "histogram": [
           {
            "bin_start": -0.08589379954047366,
            "bin_end": 0.022695580413573696,
            "count": 2
           },
           {
            "bin_start": 0.022695580413573696,
            "bin_end": 0.13128496036762105,
            "count": 0
           },
           {
            "bin_start": 0.13128496036762105,
            "bin_end": 0.23987434032166838,
            "count": 0
           },
           {
            "bin_start": 0.23987434032166838,
            "bin_end": 0.34846372027571576,
            "count": 0
           },
           {
            "bin_start": 0.34846372027571576,
            "bin_end": 0.45705310022976314,
            "count": 0
           },
           {
            "bin_start": 0.45705310022976314,
            "bin_end": 0.5656424801838105,
            "count": 0
           },
           {
            "bin_start": 0.5656424801838105,
            "bin_end": 0.6742318601378579,
            "count": 0
           },
           {
            "bin_start": 0.6742318601378579,
            "bin_end": 0.7828212400919052,
            "count": 0
           },
           {
            "bin_start": 0.7828212400919052,
            "bin_end": 0.8914106200459526,
            "count": 0
           },
           {
            "bin_start": 0.8914106200459526,
            "bin_end": 1,
            "count": 1
           }
          ]
         }
        },
        {
         "name": "_deepnote_index_column",
         "dtype": "object"
        }
       ],
       "rows": [
        {
         "primera_dosis_diff": 1,
         "segunda_dosis_diff": 0.07194300788818689,
         "refuerzo_diff": -0.08589379954047366,
         "_deepnote_index_column": "primera_dosis_diff"
        },
        {
         "primera_dosis_diff": 0.07194300788818689,
         "segunda_dosis_diff": 1,
         "refuerzo_diff": 0.0006789458048988237,
         "_deepnote_index_column": "segunda_dosis_diff"
        },
        {
         "primera_dosis_diff": -0.08589379954047366,
         "segunda_dosis_diff": 0.0006789458048988237,
         "refuerzo_diff": 1,
         "_deepnote_index_column": "refuerzo_diff"
        }
       ]
      },
      "text/plain": "                    primera_dosis_diff  segunda_dosis_diff  refuerzo_diff\nprimera_dosis_diff            1.000000            0.071943      -0.085894\nsegunda_dosis_diff            0.071943            1.000000       0.000679\nrefuerzo_diff                -0.085894            0.000679       1.000000",
      "text/html": "<div>\n<style scoped>\n    .dataframe tbody tr th:only-of-type {\n        vertical-align: middle;\n    }\n\n    .dataframe tbody tr th {\n        vertical-align: top;\n    }\n\n    .dataframe thead th {\n        text-align: right;\n    }\n</style>\n<table border=\"1\" class=\"dataframe\">\n  <thead>\n    <tr style=\"text-align: right;\">\n      <th></th>\n      <th>primera_dosis_diff</th>\n      <th>segunda_dosis_diff</th>\n      <th>refuerzo_diff</th>\n    </tr>\n  </thead>\n  <tbody>\n    <tr>\n      <th>primera_dosis_diff</th>\n      <td>1.000000</td>\n      <td>0.071943</td>\n      <td>-0.085894</td>\n    </tr>\n    <tr>\n      <th>segunda_dosis_diff</th>\n      <td>0.071943</td>\n      <td>1.000000</td>\n      <td>0.000679</td>\n    </tr>\n    <tr>\n      <th>refuerzo_diff</th>\n      <td>-0.085894</td>\n      <td>0.000679</td>\n      <td>1.000000</td>\n    </tr>\n  </tbody>\n</table>\n</div>"
     },
     "metadata": {}
    }
   ],
   "execution_count": null
  },
  {
   "cell_type": "code",
   "metadata": {
    "tags": [],
    "cell_id": "00022-0a44636d-5dd7-4e62-8d5f-1b53f9848fdc",
    "deepnote_to_be_reexecuted": false,
    "source_hash": "1d49bc28",
    "execution_start": 1639868231092,
    "execution_millis": 1036,
    "deepnote_output_heights": [
     351.984375,
     351.984375
    ],
    "deepnote_cell_type": "code"
   },
   "source": "sns.heatmap(df_vaccinated[['primera_dosis_diff', 'segunda_dosis_diff', 'refuerzo_diff']].corr(), \n            annot=True,\n            square=True,\n            cmap='summer')\nplt.show()",
   "outputs": [
    {
     "data": {
      "text/plain": "<Figure size 432x288 with 2 Axes>",
      "image/png": "[encoded data removed]"
     },
     "metadata": {
      "image/png": {
       "width": 400,
       "height": 350
      }
     },
     "output_type": "display_data"
    }
   ],
   "execution_count": null
  },
  {
   "cell_type": "code",
   "metadata": {
    "tags": [],
    "cell_id": "00024-b4456216-858a-4adc-836f-a495b104fad6",
    "deepnote_to_be_reexecuted": false,
    "source_hash": "be7174ba",
    "execution_start": 1639868232162,
    "execution_millis": 33,
    "deepnote_output_heights": [
     32
    ],
    "deepnote_cell_type": "code"
   },
   "source": "df_vaccinated.query('primera_dosis_diff < 0')[['primera_dosis_diff']] ",
   "outputs": [
    {
     "output_type": "execute_result",
     "execution_count": 26,
     "data": {
      "application/vnd.deepnote.dataframe.v3+json": {
       "column_count": 1,
       "row_count": 1,
       "columns": [
        {
         "name": "primera_dosis_diff",
         "dtype": "float64",
         "stats": {
          "unique_count": 1,
          "nan_count": 0,
          "min": "-44519.0",
          "max": "-44519.0",
          "histogram": [
           {
            "bin_start": -44519.5,
            "bin_end": -44519.4,
            "count": 0
           },
           {
            "bin_start": -44519.4,
            "bin_end": -44519.3,
            "count": 0
           },
           {
            "bin_start": -44519.3,
            "bin_end": -44519.2,
            "count": 0
           },
           {
            "bin_start": -44519.2,
            "bin_end": -44519.1,
            "count": 0
           },
           {
            "bin_start": -44519.1,
            "bin_end": -44519,
            "count": 0
           },
           {
            "bin_start": -44519,
            "bin_end": -44518.9,
            "count": 1
           },
           {
            "bin_start": -44518.9,
            "bin_end": -44518.8,
            "count": 0
           },
           {
            "bin_start": -44518.8,
            "bin_end": -44518.7,
            "count": 0
           },
           {
            "bin_start": -44518.7,
            "bin_end": -44518.6,
            "count": 0
           },
           {
            "bin_start": -44518.6,
            "bin_end": -44518.5,
            "count": 0
           }
          ]
         }
        },
        {
         "name": "_deepnote_index_column",
         "dtype": "int64"
        }
       ],
       "rows": [
        {
         "primera_dosis_diff": -44519,
         "_deepnote_index_column": 157
        }
       ]
      },
      "text/plain": "     primera_dosis_diff\n157            -44519.0",
      "text/html": "<div>\n<style scoped>\n    .dataframe tbody tr th:only-of-type {\n        vertical-align: middle;\n    }\n\n    .dataframe tbody tr th {\n        vertical-align: top;\n    }\n\n    .dataframe thead th {\n        text-align: right;\n    }\n</style>\n<table border=\"1\" class=\"dataframe\">\n  <thead>\n    <tr style=\"text-align: right;\">\n      <th></th>\n      <th>primera_dosis_diff</th>\n    </tr>\n  </thead>\n  <tbody>\n    <tr>\n      <th>157</th>\n      <td>-44519.0</td>\n    </tr>\n  </tbody>\n</table>\n</div>"
     },
     "metadata": {}
    }
   ],
   "execution_count": null
  },
  {
   "cell_type": "code",
   "metadata": {
    "tags": [],
    "cell_id": "00025-92f19f6f-9dbf-475c-bae7-a460b77a8d8f",
    "deepnote_to_be_reexecuted": false,
    "source_hash": "4997ebbf",
    "execution_start": 1639868232241,
    "execution_millis": 771009,
    "deepnote_output_heights": [
     21.1875
    ],
    "deepnote_cell_type": "code"
   },
   "source": "df_vaccinated.loc[157, 'primera_dosis_diff'] = df_vaccinated.loc[157, 'primera_dosis_diff'] * -1",
   "outputs": [],
   "execution_count": null
  },
  {
   "cell_type": "code",
   "metadata": {
    "tags": [],
    "cell_id": "00026-75b4c59c-beb9-42e0-b17f-8cf464515197",
    "deepnote_to_be_reexecuted": false,
    "source_hash": "ca117e24",
    "execution_start": 1639868232273,
    "execution_millis": 770978,
    "deepnote_cell_type": "code"
   },
   "source": "df_vaccinated.loc[157, 'dosis_total_diff'] = df_vaccinated.loc[157, 'dosis_total_diff'] * -1",
   "outputs": [],
   "execution_count": null
  },
  {
   "cell_type": "code",
   "metadata": {
    "tags": [],
    "cell_id": "00024-870cc625-08e7-4255-92e7-eeafcc47c927",
    "deepnote_to_be_reexecuted": false,
    "source_hash": "b2169481",
    "execution_start": 1639868232334,
    "execution_millis": 96,
    "deepnote_output_heights": [
     193.921875
    ],
    "deepnote_cell_type": "code"
   },
   "source": "df_vaccinated.iloc[156:159]",
   "outputs": [
    {
     "output_type": "execute_result",
     "execution_count": 29,
     "data": {
      "application/vnd.deepnote.dataframe.v3+json": {
       "column_count": 9,
       "row_count": 3,
       "columns": [
        {
         "name": "fecha",
         "dtype": "datetime64[ns]",
         "stats": {
          "unique_count": 3,
          "nan_count": 0,
          "min": "2021-09-19 00:00:00",
          "max": "2021-09-21 00:00:00",
          "histogram": [
           {
            "bin_start": 1632009600000000000,
            "bin_end": 1632026880000000000,
            "count": 1
           },
           {
            "bin_start": 1632026880000000000,
            "bin_end": 1632044160000000000,
            "count": 0
           },
           {
            "bin_start": 1632044160000000000,
            "bin_end": 1632061440000000000,
            "count": 0
           },
           {
            "bin_start": 1632061440000000000,
            "bin_end": 1632078720000000000,
            "count": 0
           },
           {
            "bin_start": 1632078720000000000,
            "bin_end": 1632096000000000000,
            "count": 0
           },
           {
            "bin_start": 1632096000000000000,
            "bin_end": 1632113280000000000,
            "count": 1
           },
           {
            "bin_start": 1632113280000000000,
            "bin_end": 1632130560000000000,
            "count": 0
           },
           {
            "bin_start": 1632130560000000000,
            "bin_end": 1632147840000000000,
            "count": 0
           },
           {
            "bin_start": 1632147840000000000,
            "bin_end": 1632165120000000000,
            "count": 0
           },
           {
            "bin_start": 1632165120000000000,
            "bin_end": 1632182400000000000,
            "count": 1
           }
          ]
         }
        },
        {
         "name": "dosis_total",
         "dtype": "int64",
         "stats": {
          "unique_count": 3,
          "nan_count": 0,
          "min": "20452529",
          "max": "20515688",
          "histogram": [
           {
            "bin_start": 20452529,
            "bin_end": 20458844.9,
            "count": 1
           },
           {
            "bin_start": 20458844.9,
            "bin_end": 20465160.8,
            "count": 0
           },
           {
            "bin_start": 20465160.8,
            "bin_end": 20471476.7,
            "count": 0
           },
           {
            "bin_start": 20471476.7,
            "bin_end": 20477792.6,
            "count": 1
           },
           {
            "bin_start": 20477792.6,
            "bin_end": 20484108.5,
            "count": 0
           },
           {
            "bin_start": 20484108.5,
            "bin_end": 20490424.4,
            "count": 0
           },
           {
            "bin_start": 20490424.4,
            "bin_end": 20496740.3,
            "count": 0
           },
           {
            "bin_start": 20496740.3,
            "bin_end": 20503056.2,
            "count": 0
           },
           {
            "bin_start": 20503056.2,
            "bin_end": 20509372.1,
            "count": 0
           },
           {
            "bin_start": 20509372.1,
            "bin_end": 20515688,
            "count": 1
           }
          ]
         }
        },
        {
         "name": "primera_dosis",
         "dtype": "int64",
         "stats": {
          "unique_count": 2,
          "nan_count": 0,
          "min": "10654583",
          "max": "10699102",
          "histogram": [
           {
            "bin_start": 10654583,
            "bin_end": 10659034.9,
            "count": 1
           },
           {
            "bin_start": 10659034.9,
            "bin_end": 10663486.8,
            "count": 0
           },
           {
            "bin_start": 10663486.8,
            "bin_end": 10667938.7,
            "count": 0
           },
           {
            "bin_start": 10667938.7,
            "bin_end": 10672390.6,
            "count": 0
           },
           {
            "bin_start": 10672390.6,
            "bin_end": 10676842.5,
            "count": 0
           },
           {
            "bin_start": 10676842.5,
            "bin_end": 10681294.4,
            "count": 0
           },
           {
            "bin_start": 10681294.4,
            "bin_end": 10685746.3,
            "count": 0
           },
           {
            "bin_start": 10685746.3,
            "bin_end": 10690198.2,
            "count": 0
           },
           {
            "bin_start": 10690198.2,
            "bin_end": 10694650.1,
            "count": 0
           },
           {
            "bin_start": 10694650.1,
            "bin_end": 10699102,
            "count": 2
           }
          ]
         }
        },
        {
         "name": "segunda_dosis",
         "dtype": "int64",
         "stats": {
          "unique_count": 3,
          "nan_count": 0,
          "min": "9773765",
          "max": "9816586",
          "histogram": [
           {
            "bin_start": 9773765,
            "bin_end": 9778047.1,
            "count": 1
           },
           {
            "bin_start": 9778047.1,
            "bin_end": 9782329.2,
            "count": 0
           },
           {
            "bin_start": 9782329.2,
            "bin_end": 9786611.3,
            "count": 0
           },
           {
            "bin_start": 9786611.3,
            "bin_end": 9790893.4,
            "count": 0
           },
           {
            "bin_start": 9790893.4,
            "bin_end": 9795175.5,
            "count": 0
           },
           {
            "bin_start": 9795175.5,
            "bin_end": 9799457.6,
            "count": 1
           },
           {
            "bin_start": 9799457.6,
            "bin_end": 9803739.7,
            "count": 0
           },
           {
            "bin_start": 9803739.7,
            "bin_end": 9808021.8,
            "count": 0
           },
           {
            "bin_start": 9808021.8,
            "bin_end": 9812303.9,
            "count": 0
           },
           {
            "bin_start": 9812303.9,
            "bin_end": 9816586,
            "count": 1
           }
          ]
         }
        },
        {
         "name": "refuerzo",
         "dtype": "int64",
         "stats": {
          "unique_count": 1,
          "nan_count": 0,
          "min": "0",
          "max": "0",
          "histogram": [
           {
            "bin_start": -0.5,
            "bin_end": -0.4,
            "count": 0
           },
           {
            "bin_start": -0.4,
            "bin_end": -0.3,
            "count": 0
           },
           {
            "bin_start": -0.3,
            "bin_end": -0.19999999999999996,
            "count": 0
           },
           {
            "bin_start": -0.19999999999999996,
            "bin_end": -0.09999999999999998,
            "count": 0
           },
           {
            "bin_start": -0.09999999999999998,
            "bin_end": 0,
            "count": 0
           },
           {
            "bin_start": 0,
            "bin_end": 0.10000000000000009,
            "count": 3
           },
           {
            "bin_start": 0.10000000000000009,
            "bin_end": 0.20000000000000007,
            "count": 0
           },
           {
            "bin_start": 0.20000000000000007,
            "bin_end": 0.30000000000000004,
            "count": 0
           },
           {
            "bin_start": 0.30000000000000004,
            "bin_end": 0.4,
            "count": 0
           },
           {
            "bin_start": 0.4,
            "bin_end": 0.5,
            "count": 0
           }
          ]
         }
        },
        {
         "name": "primera_dosis_diff",
         "dtype": "float64",
         "stats": {
          "unique_count": 2,
          "nan_count": 0,
          "min": "0.0",
          "max": "44519.0",
          "histogram": [
           {
            "bin_start": 0,
            "bin_end": 4451.9,
            "count": 1
           },
           {
            "bin_start": 4451.9,
            "bin_end": 8903.8,
            "count": 0
           },
           {
            "bin_start": 8903.8,
            "bin_end": 13355.699999999999,
            "count": 0
           },
           {
            "bin_start": 13355.699999999999,
            "bin_end": 17807.6,
            "count": 0
           },
           {
            "bin_start": 17807.6,
            "bin_end": 22259.5,
            "count": 0
           },
           {
            "bin_start": 22259.5,
            "bin_end": 26711.399999999998,
            "count": 0
           },
           {
            "bin_start": 26711.399999999998,
            "bin_end": 31163.299999999996,
            "count": 0
           },
           {
            "bin_start": 31163.299999999996,
            "bin_end": 35615.2,
            "count": 0
           },
           {
            "bin_start": 35615.2,
            "bin_end": 40067.1,
            "count": 0
           },
           {
            "bin_start": 40067.1,
            "bin_end": 44519,
            "count": 2
           }
          ]
         }
        },
        {
         "name": "segunda_dosis_diff",
         "dtype": "float64",
         "stats": {
          "unique_count": 3,
          "nan_count": 0,
          "min": "16196.0",
          "max": "24181.0",
          "histogram": [
           {
            "bin_start": 16196,
            "bin_end": 16994.5,
            "count": 1
           },
           {
            "bin_start": 16994.5,
            "bin_end": 17793,
            "count": 0
           },
           {
            "bin_start": 17793,
            "bin_end": 18591.5,
            "count": 0
           },
           {
            "bin_start": 18591.5,
            "bin_end": 19390,
            "count": 1
           },
           {
            "bin_start": 19390,
            "bin_end": 20188.5,
            "count": 0
           },
           {
            "bin_start": 20188.5,
            "bin_end": 20987,
            "count": 0
           },
           {
            "bin_start": 20987,
            "bin_end": 21785.5,
            "count": 0
           },
           {
            "bin_start": 21785.5,
            "bin_end": 22584,
            "count": 0
           },
           {
            "bin_start": 22584,
            "bin_end": 23382.5,
            "count": 0
           },
           {
            "bin_start": 23382.5,
            "bin_end": 24181,
            "count": 1
           }
          ]
         }
        },
        {
         "name": "refuerzo_diff",
         "dtype": "float64",
         "stats": {
          "unique_count": 1,
          "nan_count": 0,
          "min": "0.0",
          "max": "0.0",
          "histogram": [
           {
            "bin_start": -0.5,
            "bin_end": -0.4,
            "count": 0
           },
           {
            "bin_start": -0.4,
            "bin_end": -0.3,
            "count": 0
           },
           {
            "bin_start": -0.3,
            "bin_end": -0.19999999999999996,
            "count": 0
           },
           {
            "bin_start": -0.19999999999999996,
            "bin_end": -0.09999999999999998,
            "count": 0
           },
           {
            "bin_start": -0.09999999999999998,
            "bin_end": 0,
            "count": 0
           },
           {
            "bin_start": 0,
            "bin_end": 0.10000000000000009,
            "count": 3
           },
           {
            "bin_start": 0.10000000000000009,
            "bin_end": 0.20000000000000007,
            "count": 0
           },
           {
            "bin_start": 0.20000000000000007,
            "bin_end": 0.30000000000000004,
            "count": 0
           },
           {
            "bin_start": 0.30000000000000004,
            "bin_end": 0.4,
            "count": 0
           },
           {
            "bin_start": 0.4,
            "bin_end": 0.5,
            "count": 0
           }
          ]
         }
        },
        {
         "name": "dosis_total_diff",
         "dtype": "float64",
         "stats": {
          "unique_count": 3,
          "nan_count": 0,
          "min": "16196.0",
          "max": "63159.0",
          "histogram": [
           {
            "bin_start": 16196,
            "bin_end": 20892.3,
            "count": 2
           },
           {
            "bin_start": 20892.3,
            "bin_end": 25588.6,
            "count": 0
           },
           {
            "bin_start": 25588.6,
            "bin_end": 30284.9,
            "count": 0
           },
           {
            "bin_start": 30284.9,
            "bin_end": 34981.2,
            "count": 0
           },
           {
            "bin_start": 34981.2,
            "bin_end": 39677.5,
            "count": 0
           },
           {
            "bin_start": 39677.5,
            "bin_end": 44373.8,
            "count": 0
           },
           {
            "bin_start": 44373.8,
            "bin_end": 49070.1,
            "count": 0
           },
           {
            "bin_start": 49070.1,
            "bin_end": 53766.4,
            "count": 0
           },
           {
            "bin_start": 53766.4,
            "bin_end": 58462.700000000004,
            "count": 0
           },
           {
            "bin_start": 58462.700000000004,
            "bin_end": 63159,
            "count": 1
           }
          ]
         }
        },
        {
         "name": "_deepnote_index_column",
         "dtype": "int64"
        }
       ],
       "rows": [
        {
         "fecha": "2021-09-19T00:00:00.000000",
         "dosis_total": 20472867,
         "primera_dosis": 10699102,
         "segunda_dosis": 9773765,
         "refuerzo": 0,
         "primera_dosis_diff": 0,
         "segunda_dosis_diff": 16196,
         "refuerzo_diff": 0,
         "dosis_total_diff": 16196,
         "_deepnote_index_column": 156
        },
        {
         "fecha": "2021-09-20T00:00:00.000000",
         "dosis_total": 20452529,
         "primera_dosis": 10654583,
         "segunda_dosis": 9797946,
         "refuerzo": 0,
         "primera_dosis_diff": 44519,
         "segunda_dosis_diff": 24181,
         "refuerzo_diff": 0,
         "dosis_total_diff": 20338,
         "_deepnote_index_column": 157
        },
        {
         "fecha": "2021-09-21T00:00:00.000000",
         "dosis_total": 20515688,
         "primera_dosis": 10699102,
         "segunda_dosis": 9816586,
         "refuerzo": 0,
         "primera_dosis_diff": 44519,
         "segunda_dosis_diff": 18640,
         "refuerzo_diff": 0,
         "dosis_total_diff": 63159,
         "_deepnote_index_column": 158
        }
       ]
      },
      "text/plain": "         fecha  dosis_total  primera_dosis  segunda_dosis  refuerzo  \\\n156 2021-09-19     20472867       10699102        9773765         0   \n157 2021-09-20     20452529       10654583        9797946         0   \n158 2021-09-21     20515688       10699102        9816586         0   \n\n     primera_dosis_diff  segunda_dosis_diff  refuerzo_diff  dosis_total_diff  \n156                 0.0             16196.0            0.0           16196.0  \n157             44519.0             24181.0            0.0           20338.0  \n158             44519.0             18640.0            0.0           63159.0  ",
      "text/html": "<div>\n<style scoped>\n    .dataframe tbody tr th:only-of-type {\n        vertical-align: middle;\n    }\n\n    .dataframe tbody tr th {\n        vertical-align: top;\n    }\n\n    .dataframe thead th {\n        text-align: right;\n    }\n</style>\n<table border=\"1\" class=\"dataframe\">\n  <thead>\n    <tr style=\"text-align: right;\">\n      <th></th>\n      <th>fecha</th>\n      <th>dosis_total</th>\n      <th>primera_dosis</th>\n      <th>segunda_dosis</th>\n      <th>refuerzo</th>\n      <th>primera_dosis_diff</th>\n      <th>segunda_dosis_diff</th>\n      <th>refuerzo_diff</th>\n      <th>dosis_total_diff</th>\n    </tr>\n  </thead>\n  <tbody>\n    <tr>\n      <th>156</th>\n      <td>2021-09-19</td>\n      <td>20472867</td>\n      <td>10699102</td>\n      <td>9773765</td>\n      <td>0</td>\n      <td>0.0</td>\n      <td>16196.0</td>\n      <td>0.0</td>\n      <td>16196.0</td>\n    </tr>\n    <tr>\n      <th>157</th>\n      <td>2021-09-20</td>\n      <td>20452529</td>\n      <td>10654583</td>\n      <td>9797946</td>\n      <td>0</td>\n      <td>44519.0</td>\n      <td>24181.0</td>\n      <td>0.0</td>\n      <td>20338.0</td>\n    </tr>\n    <tr>\n      <th>158</th>\n      <td>2021-09-21</td>\n      <td>20515688</td>\n      <td>10699102</td>\n      <td>9816586</td>\n      <td>0</td>\n      <td>44519.0</td>\n      <td>18640.0</td>\n      <td>0.0</td>\n      <td>63159.0</td>\n    </tr>\n  </tbody>\n</table>\n</div>"
     },
     "metadata": {}
    }
   ],
   "execution_count": null
  },
  {
   "cell_type": "code",
   "metadata": {
    "tags": [],
    "cell_id": "00023-9ee8aa32-de23-492a-8052-ba3c2a10c341",
    "deepnote_to_be_reexecuted": false,
    "source_hash": "ec3bbe6",
    "execution_start": 1639868232447,
    "execution_millis": 1245,
    "deepnote_output_heights": [
     452.984375,
     415.984375
    ],
    "deepnote_cell_type": "code"
   },
   "source": "fig, ax = plt.subplots(figsize=(12, 7))\nplt.plot(df_vaccinated.fecha, df_vaccinated.primera_dosis_diff)\nplt.plot(df_vaccinated.fecha, df_vaccinated.segunda_dosis_diff)\nplt.plot(df_vaccinated.fecha, df_vaccinated.refuerzo_diff)\nplt.plot(df_vaccinated.fecha, df_vaccinated.dosis_total_diff, linestyle='dashed')\nplt.title('First, second and reinforcement dose per day', size=18)\nplt.xlabel('Date')\nplt.ylabel('Doses')\nplt.legend(['First dose', 'Second dose', 'Reinforcement dose', 'Total doses'])\nplt.show()",
   "outputs": [
    {
     "data": {
      "text/plain": "<Figure size 864x504 with 1 Axes>",
      "image/png": "[encoded data removed]"
     },
     "metadata": {
      "image/png": {
       "width": 727,
       "height": 451
      }
     },
     "output_type": "display_data"
    }
   ],
   "execution_count": null
  },
  {
   "cell_type": "code",
   "metadata": {
    "tags": [],
    "cell_id": "00024-f3052262-cda0-4b68-ba95-4f91c298b7f0",
    "deepnote_to_be_reexecuted": false,
    "source_hash": "5d92da4e",
    "execution_start": 1639868233717,
    "execution_millis": 1358,
    "deepnote_output_heights": [
     452.984375
    ],
    "deepnote_cell_type": "code"
   },
   "source": "fig, ax = plt.subplots(figsize=(12, 7))\nplt.plot(df_vaccinated.fecha, df_vaccinated.primera_dosis)\nplt.plot(df_vaccinated.fecha, df_vaccinated.segunda_dosis)\nplt.plot(df_vaccinated.fecha, df_vaccinated.refuerzo)\nplt.plot(df_vaccinated.fecha, df_vaccinated.dosis_total)\nplt.title('First, second and reinforcement dose cumulative sum', size=18)\nplt.xlabel('Date')\nplt.ylabel('Doses')\nplt.legend(['First dose', 'Second dose', 'Reinforcement dose', 'Total doses'])\nplt.show()",
   "outputs": [
    {
     "data": {
      "text/plain": "<Figure size 864x504 with 1 Axes>",
      "image/png": "[encoded data removed]"
     },
     "metadata": {
      "image/png": {
       "width": 727,
       "height": 451
      }
     },
     "output_type": "display_data"
    }
   ],
   "execution_count": null
  },
  {
   "cell_type": "code",
   "metadata": {
    "tags": [],
    "cell_id": "00034-f9e41614-a9b4-41fa-8b42-7f4252d0c32d",
    "deepnote_to_be_reexecuted": false,
    "source_hash": "3df720c1",
    "execution_start": 1639868235102,
    "execution_millis": 10,
    "deepnote_cell_type": "code"
   },
   "source": "df_vaccinated.to_csv('/work/covid-19-EC-provinces/data/interim/vaccinated.csv', index=False)",
   "outputs": [],
   "execution_count": null
  },
  {
   "cell_type": "markdown",
   "source": "## Manufacturers",
   "metadata": {
    "tags": [],
    "is_collapsed": false,
    "cell_id": "00032-1f38d520-5cf7-4aaf-b38e-69a24f905246",
    "deepnote_cell_type": "text-cell-h2"
   }
  },
  {
   "cell_type": "code",
   "metadata": {
    "tags": [],
    "cell_id": "00033-15484ed4-be28-46fc-b835-15ae23022649",
    "deepnote_to_be_reexecuted": false,
    "source_hash": "5b81842d",
    "execution_start": 1639868235142,
    "execution_millis": 5,
    "deepnote_cell_type": "code"
   },
   "source": "df_manufacturers = pd.read_csv('/work/covid-19-EC-provinces/data/processed/vacc_manufacturers.csv')",
   "outputs": [],
   "execution_count": null
  },
  {
   "cell_type": "code",
   "metadata": {
    "tags": [],
    "cell_id": "00034-f7a9695d-38e9-4ef2-8c58-fe6d08221897",
    "deepnote_to_be_reexecuted": false,
    "source_hash": "f845ed59",
    "execution_start": 1639868235177,
    "execution_millis": 121,
    "deepnote_output_heights": [
     177
    ],
    "deepnote_cell_type": "code"
   },
   "source": "df_manufacturers.head()",
   "outputs": [
    {
     "output_type": "execute_result",
     "execution_count": 34,
     "data": {
      "application/vnd.deepnote.dataframe.v3+json": {
       "column_count": 4,
       "row_count": 5,
       "columns": [
        {
         "name": "arrived_at",
         "dtype": "object",
         "stats": {
          "unique_count": 5,
          "nan_count": 0,
          "categories": [
           {
            "name": "2021-01-20",
            "count": 1
           },
           {
            "name": "2021-02-17",
            "count": 1
           },
           {
            "name": "3 others",
            "count": 3
           }
          ]
         }
        },
        {
         "name": "vaccine",
         "dtype": "object",
         "stats": {
          "unique_count": 2,
          "nan_count": 0,
          "categories": [
           {
            "name": "Pfizer/BioNTech",
            "count": 4
           },
           {
            "name": "Sinovac",
            "count": 1
           }
          ]
         }
        },
        {
         "name": "total",
         "dtype": "int64",
         "stats": {
          "unique_count": 5,
          "nan_count": 0,
          "min": "8190",
          "max": "31590",
          "histogram": [
           {
            "bin_start": 8190,
            "bin_end": 10530,
            "count": 1
           },
           {
            "bin_start": 10530,
            "bin_end": 12870,
            "count": 0
           },
           {
            "bin_start": 12870,
            "bin_end": 15210,
            "count": 0
           },
           {
            "bin_start": 15210,
            "bin_end": 17550,
            "count": 1
           },
           {
            "bin_start": 17550,
            "bin_end": 19890,
            "count": 1
           },
           {
            "bin_start": 19890,
            "bin_end": 22230,
            "count": 1
           },
           {
            "bin_start": 22230,
            "bin_end": 24570,
            "count": 0
           },
           {
            "bin_start": 24570,
            "bin_end": 26910,
            "count": 0
           },
           {
            "bin_start": 26910,
            "bin_end": 29250,
            "count": 0
           },
           {
            "bin_start": 29250,
            "bin_end": 31590,
            "count": 1
           }
          ]
         }
        },
        {
         "name": "contract",
         "dtype": "object",
         "stats": {
          "unique_count": 2,
          "nan_count": 0,
          "categories": [
           {
            "name": "Government of Ecuador with Pfizer",
            "count": 4
           },
           {
            "name": "Donation from the Government of Chile to the Government of Ecuador",
            "count": 1
           }
          ]
         }
        },
        {
         "name": "_deepnote_index_column",
         "dtype": "int64"
        }
       ],
       "rows": [
        {
         "arrived_at": "2021-01-20",
         "vaccine": "Pfizer/BioNTech",
         "total": 8190,
         "contract": "Government of Ecuador with Pfizer",
         "_deepnote_index_column": 0
        },
        {
         "arrived_at": "2021-02-17",
         "vaccine": "Pfizer/BioNTech",
         "total": 16380,
         "contract": "Government of Ecuador with Pfizer",
         "_deepnote_index_column": 1
        },
        {
         "arrived_at": "2021-02-24",
         "vaccine": "Pfizer/BioNTech",
         "total": 17550,
         "contract": "Government of Ecuador with Pfizer",
         "_deepnote_index_column": 2
        },
        {
         "arrived_at": "2021-03-03",
         "vaccine": "Pfizer/BioNTech",
         "total": 31590,
         "contract": "Government of Ecuador with Pfizer",
         "_deepnote_index_column": 3
        },
        {
         "arrived_at": "2021-03-06",
         "vaccine": "Sinovac",
         "total": 20000,
         "contract": "Donation from the Government of Chile to the Government of Ecuador",
         "_deepnote_index_column": 4
        }
       ]
      },
      "text/plain": "   arrived_at          vaccine  total  \\\n0  2021-01-20  Pfizer/BioNTech   8190   \n1  2021-02-17  Pfizer/BioNTech  16380   \n2  2021-02-24  Pfizer/BioNTech  17550   \n3  2021-03-03  Pfizer/BioNTech  31590   \n4  2021-03-06          Sinovac  20000   \n\n                                            contract  \n0                  Government of Ecuador with Pfizer  \n1                  Government of Ecuador with Pfizer  \n2                  Government of Ecuador with Pfizer  \n3                  Government of Ecuador with Pfizer  \n4  Donation from the Government of Chile to the G...  ",
      "text/html": "<div>\n<style scoped>\n    .dataframe tbody tr th:only-of-type {\n        vertical-align: middle;\n    }\n\n    .dataframe tbody tr th {\n        vertical-align: top;\n    }\n\n    .dataframe thead th {\n        text-align: right;\n    }\n</style>\n<table border=\"1\" class=\"dataframe\">\n  <thead>\n    <tr style=\"text-align: right;\">\n      <th></th>\n      <th>arrived_at</th>\n      <th>vaccine</th>\n      <th>total</th>\n      <th>contract</th>\n    </tr>\n  </thead>\n  <tbody>\n    <tr>\n      <th>0</th>\n      <td>2021-01-20</td>\n      <td>Pfizer/BioNTech</td>\n      <td>8190</td>\n      <td>Government of Ecuador with Pfizer</td>\n    </tr>\n    <tr>\n      <th>1</th>\n      <td>2021-02-17</td>\n      <td>Pfizer/BioNTech</td>\n      <td>16380</td>\n      <td>Government of Ecuador with Pfizer</td>\n    </tr>\n    <tr>\n      <th>2</th>\n      <td>2021-02-24</td>\n      <td>Pfizer/BioNTech</td>\n      <td>17550</td>\n      <td>Government of Ecuador with Pfizer</td>\n    </tr>\n    <tr>\n      <th>3</th>\n      <td>2021-03-03</td>\n      <td>Pfizer/BioNTech</td>\n      <td>31590</td>\n      <td>Government of Ecuador with Pfizer</td>\n    </tr>\n    <tr>\n      <th>4</th>\n      <td>2021-03-06</td>\n      <td>Sinovac</td>\n      <td>20000</td>\n      <td>Donation from the Government of Chile to the G...</td>\n    </tr>\n  </tbody>\n</table>\n</div>"
     },
     "metadata": {}
    }
   ],
   "execution_count": null
  },
  {
   "cell_type": "code",
   "metadata": {
    "tags": [],
    "cell_id": "00035-8e506258-3cfe-4750-b6b1-d86887318d28",
    "deepnote_to_be_reexecuted": false,
    "source_hash": "a45b504e",
    "execution_start": 1639868235311,
    "execution_millis": 29,
    "deepnote_cell_type": "code"
   },
   "source": "df_manufacturers['total_cumulative'] = df_manufacturers['total'].cumsum()",
   "outputs": [],
   "execution_count": null
  },
  {
   "cell_type": "code",
   "metadata": {
    "tags": [],
    "cell_id": "00035-60cd621d-9a93-4572-a6e1-4099dd35156a",
    "deepnote_to_be_reexecuted": false,
    "source_hash": "a885b4e5",
    "execution_start": 1639868235357,
    "execution_millis": 37,
    "deepnote_output_heights": [
     116.53125
    ],
    "deepnote_cell_type": "code"
   },
   "source": "df_manufacturers.dtypes",
   "outputs": [
    {
     "output_type": "execute_result",
     "execution_count": 36,
     "data": {
      "text/plain": "arrived_at          object\nvaccine             object\ntotal                int64\ncontract            object\ntotal_cumulative     int64\ndtype: object"
     },
     "metadata": {}
    }
   ],
   "execution_count": null
  },
  {
   "cell_type": "code",
   "metadata": {
    "tags": [],
    "cell_id": "00036-54b424f9-a489-43a1-bd94-dcd77acc42cb",
    "deepnote_to_be_reexecuted": false,
    "source_hash": "b0f3ac00",
    "execution_start": 1639868235402,
    "execution_millis": 19,
    "deepnote_output_heights": [
     232.3125
    ],
    "deepnote_cell_type": "code"
   },
   "source": "df_manufacturers.arrived_at = pd.to_datetime(df_manufacturers.arrived_at, format='%Y/%m/%d')",
   "outputs": [],
   "execution_count": null
  },
  {
   "cell_type": "code",
   "metadata": {
    "tags": [],
    "cell_id": "00037-903568fd-fee8-4934-be80-3c9623f668d4",
    "deepnote_to_be_reexecuted": false,
    "source_hash": "1934072b",
    "execution_start": 1639868235444,
    "execution_millis": 67,
    "deepnote_output_heights": [
     251.5
    ],
    "deepnote_cell_type": "code"
   },
   "source": "df_manufacturers.vaccine = df_manufacturers.vaccine.astype('category')",
   "outputs": [],
   "execution_count": null
  },
  {
   "cell_type": "code",
   "metadata": {
    "tags": [],
    "cell_id": "00038-53acf1e4-8aa3-4fc9-8779-247e7a301f3b",
    "deepnote_to_be_reexecuted": false,
    "source_hash": "b4954779",
    "execution_start": 1639868235511,
    "execution_millis": 0,
    "deepnote_cell_type": "code"
   },
   "source": "df_manufacturers.contract = df_manufacturers.contract.astype('category')",
   "outputs": [],
   "execution_count": null
  },
  {
   "cell_type": "code",
   "metadata": {
    "tags": [],
    "cell_id": "00037-771a875f-9cb1-4cdb-9838-975101bdc954",
    "deepnote_to_be_reexecuted": false,
    "source_hash": "c0f96a2",
    "execution_start": 1639868235519,
    "execution_millis": 4,
    "deepnote_output_heights": [
     21.078125
    ],
    "deepnote_cell_type": "code"
   },
   "source": "df_manufacturers.shape",
   "outputs": [
    {
     "output_type": "execute_result",
     "execution_count": 40,
     "data": {
      "text/plain": "(76, 5)"
     },
     "metadata": {}
    }
   ],
   "execution_count": null
  },
  {
   "cell_type": "code",
   "metadata": {
    "tags": [],
    "cell_id": "00038-32de83a5-2af4-4b88-9085-9aab23fcd3c0",
    "deepnote_to_be_reexecuted": false,
    "source_hash": "76ddba45",
    "execution_start": 1639868235586,
    "execution_millis": 1090,
    "deepnote_output_heights": [
     452.984375
    ],
    "deepnote_cell_type": "code"
   },
   "source": "fig, ax = plt.subplots(figsize=(12, 7))\nplt.plot(df_manufacturers.arrived_at, df_manufacturers.total)\nplt.title('Vaccines arrived', size=18)\nplt.xlabel('Date')\nplt.ylabel('Vaccines')\nplt.show()",
   "outputs": [
    {
     "data": {
      "text/plain": "<Figure size 864x504 with 1 Axes>",
      "image/png": "[encoded data removed]"
     },
     "metadata": {
      "image/png": {
       "width": 749,
       "height": 451
      }
     },
     "output_type": "display_data"
    }
   ],
   "execution_count": null
  },
  {
   "cell_type": "code",
   "metadata": {
    "tags": [],
    "cell_id": "00042-6b5d845f-95ab-40c0-81eb-650f9c3d103e",
    "deepnote_to_be_reexecuted": false,
    "source_hash": "68756ffc",
    "execution_start": 1639868236688,
    "execution_millis": 1164,
    "deepnote_output_heights": [
     452.984375
    ],
    "deepnote_cell_type": "code"
   },
   "source": "fig, ax = plt.subplots(figsize=(12, 7))\nplt.plot(df_manufacturers.arrived_at, df_manufacturers.total_cumulative)\nplt.title('Vaccines arrived cumulative', size=18)\nplt.xlabel('Date')\nplt.ylabel('Vaccines')\nplt.show()",
   "outputs": [
    {
     "data": {
      "text/plain": "<Figure size 864x504 with 1 Axes>",
      "image/png": "[encoded data removed]"
     },
     "metadata": {
      "image/png": {
       "width": 749,
       "height": 451
      }
     },
     "output_type": "display_data"
    }
   ],
   "execution_count": null
  },
  {
   "cell_type": "code",
   "metadata": {
    "tags": [],
    "cell_id": "00043-14ed9c13-69c3-40ed-b6ab-164392d280eb",
    "deepnote_to_be_reexecuted": false,
    "source_hash": "ef1ecb51",
    "execution_start": 1639868237862,
    "execution_millis": 700,
    "deepnote_output_heights": [
     553.96875
    ],
    "deepnote_cell_type": "code"
   },
   "source": "fig, ax = plt.subplots(figsize=(12, 7))\ndf_manufacturers.groupby(['vaccine'])[['total']].sum().sort_values(by='total', \nascending=False).plot.bar(ax=ax)\n\nplt.title('Vaccines by manufacturer', size=18)\nplt.ylabel('Total')\nplt.legend('')\nplt.show()",
   "outputs": [
    {
     "data": {
      "text/plain": "<Figure size 864x504 with 1 Axes>",
      "image/png": "[encoded data removed]"
     },
     "metadata": {
      "image/png": {
       "width": 727,
       "height": 552
      }
     },
     "output_type": "display_data"
    }
   ],
   "execution_count": null
  },
  {
   "cell_type": "code",
   "metadata": {
    "tags": [],
    "cell_id": "00044-bb778a72-74b4-4902-98f0-6fdf1c6482a8",
    "deepnote_to_be_reexecuted": false,
    "source_hash": "1bcfcafa",
    "execution_start": 1639868238564,
    "execution_millis": 1581,
    "deepnote_output_heights": [
     611
    ],
    "deepnote_cell_type": "code"
   },
   "source": "fig, ax = plt.subplots(figsize=(12, 7))\ndf_manufacturers.groupby(['contract'])[['total']].sum().sort_values(by='total', \nascending=False).plot.bar(ax=ax)\n\nplt.title('Vaccines by contract', size=18)\nplt.ylabel('Total')\nplt.legend('')\nplt.show()",
   "outputs": [
    {
     "data": {
      "text/plain": "<Figure size 864x504 with 1 Axes>",
      "image/png": "[encoded data removed]"
     },
     "metadata": {
      "image/png": {
       "width": 727,
       "height": 836
      }
     },
     "output_type": "display_data"
    }
   ],
   "execution_count": null
  },
  {
   "cell_type": "markdown",
   "source": "<a style='text-decoration:none;line-height:16px;display:flex;color:#5B5B62;padding:10px;justify-content:end;' href='https://deepnote.com?utm_source=created-in-deepnote-cell&projectId=7294ef23-3287-47ac-a12f-ba892bffdf3b' target=\"_blank\">\n<img alt='Created in deepnote.com' style='display:inline;max-height:16px;margin:0px;margin-right:7.5px;' src='data:image/svg+xml;base64,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' > </img>\nCreated in <span style='font-weight:600;margin-left:4px;'>Deepnote</span></a>",
   "metadata": {
    "tags": [],
    "created_in_deepnote_cell": true,
    "deepnote_cell_type": "markdown"
   }
  }
 ],
 "nbformat": 4,
 "nbformat_minor": 2,
 "metadata": {
  "orig_nbformat": 2,
  "deepnote": {
   "is_reactive": false
  },
  "deepnote_notebook_id": "05fd9281-d119-47ba-8c24-bb33d790a33b",
  "deepnote_execution_queue": []
 }
}