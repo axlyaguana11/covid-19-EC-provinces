{
 "cells": [
  {
   "cell_type": "markdown",
   "source": "# Getting raw data: deaths",
   "metadata": {
    "tags": [],
    "is_collapsed": false,
    "cell_id": "00002-fbf18892-25c6-40de-bd98-27d6ada991ba",
    "deepnote_cell_type": "text-cell-h1"
   }
  },
  {
   "cell_type": "code",
   "metadata": {
    "tags": [],
    "cell_id": "00001-26f7cb3b-c8b1-4d55-b84b-57fb403f7254",
    "deepnote_to_be_reexecuted": false,
    "source_hash": "28eb5f73",
    "execution_start": 1639861571000,
    "execution_millis": 45783,
    "deepnote_cell_type": "code"
   },
   "source": "# %load_ext autoreload\n# %autoreload 2",
   "outputs": [],
   "execution_count": null
  },
  {
   "cell_type": "markdown",
   "source": "Data is got from here: https://github.com/andrab/ecuacovid\n\nThis repository constanly updates data. So, everytime you run this notebook, you'll have updated data.\n\nI can tell it's a reliable source.",
   "metadata": {
    "tags": [],
    "cell_id": "00003-ccfe996e-c79c-41d6-8b7d-b78bb30781d0",
    "deepnote_cell_type": "markdown"
   }
  },
  {
   "cell_type": "code",
   "metadata": {
    "tags": [],
    "cell_id": "00002-ba7742b7-a605-4ac7-8e03-3c369e16a76c",
    "deepnote_to_be_reexecuted": false,
    "source_hash": "3fa823c3",
    "execution_start": 1639861571043,
    "execution_millis": 45794,
    "deepnote_cell_type": "code"
   },
   "source": "#Libraries\nimport pandas as pd",
   "outputs": [],
   "execution_count": null
  },
  {
   "cell_type": "markdown",
   "source": "## Specify input and output files",
   "metadata": {
    "tags": [],
    "is_collapsed": false,
    "cell_id": "00003-a6db6566-39c0-417f-8913-7b698ba6a935",
    "deepnote_cell_type": "text-cell-h2"
   }
  },
  {
   "cell_type": "code",
   "metadata": {
    "tags": [],
    "cell_id": "00003-553795b8-49c0-4712-9333-6863a25fae34",
    "deepnote_to_be_reexecuted": false,
    "source_hash": "204db040",
    "execution_start": 1639861571087,
    "execution_millis": 45794,
    "deepnote_cell_type": "code"
   },
   "source": "url_deaths_2015_month = 'https://raw.githubusercontent.com/andrab/ecuacovid/master/datos_crudos/defunciones/2015/lugar_provincias_mensual.json'\nurl_deaths_2016_month = 'https://raw.githubusercontent.com/andrab/ecuacovid/master/datos_crudos/defunciones/2016/lugar_provincias_mensual.json'\nurl_deaths_2017_month = 'https://raw.githubusercontent.com/andrab/ecuacovid/master/datos_crudos/defunciones/2017/lugar_provincias_mensual.json'\nurl_deaths_2018_month = 'https://raw.githubusercontent.com/andrab/ecuacovid/master/datos_crudos/defunciones/2018/lugar_provincias_mensual.json'\nurl_deaths_2019_month = 'https://raw.githubusercontent.com/andrab/ecuacovid/master/datos_crudos/defunciones/2019/lugar_provincias_mensual.json'\nurl_deaths_2020_month = 'https://raw.githubusercontent.com/andrab/ecuacovid/master/datos_crudos/defunciones/2020/lugar_provincias_mensual.json'\nurl_deaths_2021_month = 'https://raw.githubusercontent.com/andrab/ecuacovid/master/datos_crudos/defunciones/provincias_mensual.json'",
   "outputs": [],
   "execution_count": null
  },
  {
   "cell_type": "code",
   "metadata": {
    "tags": [],
    "cell_id": "00004-dfe67d8f-1be2-453d-a526-28b5d3ad1894",
    "deepnote_to_be_reexecuted": false,
    "source_hash": "d4fdfad6",
    "execution_start": 1639861571087,
    "execution_millis": 45793,
    "deepnote_cell_type": "code"
   },
   "source": "num_list = ['15', '16', '17', '18', '19', '20', '21']",
   "outputs": [],
   "execution_count": null
  },
  {
   "cell_type": "code",
   "metadata": {
    "tags": [],
    "cell_id": "00005-6e6f4e10-56f8-4a84-aa12-cae015151085",
    "deepnote_to_be_reexecuted": false,
    "source_hash": "2405bed",
    "execution_start": 1639861571131,
    "execution_millis": 45827,
    "deepnote_cell_type": "code"
   },
   "source": "url_input = [url_deaths_2015_month,\n            url_deaths_2016_month,\n            url_deaths_2017_month,\n            url_deaths_2018_month,\n            url_deaths_2019_month,\n            url_deaths_2020_month,\n            url_deaths_2021_month]",
   "outputs": [],
   "execution_count": null
  },
  {
   "cell_type": "code",
   "metadata": {
    "tags": [],
    "cell_id": "00005-e3d75c06-c92a-46cd-8e3c-ee2e0c76294d",
    "deepnote_to_be_reexecuted": false,
    "source_hash": "22df72dd",
    "execution_start": 1639861571132,
    "execution_millis": 45777,
    "deepnote_cell_type": "code"
   },
   "source": "dir_output = ['/work/covid-19-EC-provinces/data/raw/deaths_provinces_20'+x+'.csv' for x in num_list]",
   "outputs": [],
   "execution_count": null
  },
  {
   "cell_type": "markdown",
   "source": "## Create a function",
   "metadata": {
    "tags": [],
    "is_collapsed": false,
    "cell_id": "00008-febb9266-13f4-4f20-aef3-9bca1750652b",
    "deepnote_cell_type": "text-cell-h2"
   }
  },
  {
   "cell_type": "code",
   "metadata": {
    "tags": [],
    "cell_id": "00006-75c2400b-21be-4cc9-a43e-429fcb312df0",
    "deepnote_to_be_reexecuted": false,
    "source_hash": "5efcc890",
    "execution_start": 1639861571133,
    "execution_millis": 45819,
    "deepnote_cell_type": "code"
   },
   "source": "def download_deaths(urls: list, dir_save: list):\n    #Read json files and then save them as json\n    for i in range(len(urls)):\n        pd.read_json(urls[i]).to_csv(dir_save[i], index=False)",
   "outputs": [],
   "execution_count": null
  },
  {
   "cell_type": "code",
   "metadata": {
    "tags": [],
    "cell_id": "00010-7998879f-71e7-470d-9879-7bcb121825d6",
    "deepnote_to_be_reexecuted": false,
    "source_hash": "f05e6f45",
    "execution_start": 1639861571175,
    "execution_millis": 677,
    "deepnote_cell_type": "code"
   },
   "source": "download_deaths(url_input, dir_output)",
   "outputs": [],
   "execution_count": null
  },
  {
   "cell_type": "markdown",
   "source": "<a style='text-decoration:none;line-height:16px;display:flex;color:#5B5B62;padding:10px;justify-content:end;' href='https://deepnote.com?utm_source=created-in-deepnote-cell&projectId=298bb443-d8b3-4731-ae95-ca4418ea078f' target=\"_blank\">\n<img alt='Created in deepnote.com' style='display:inline;max-height:16px;margin:0px;margin-right:7.5px;' src='data:image/svg+xml;base64,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' > </img>\nCreated in <span style='font-weight:600;margin-left:4px;'>Deepnote</span></a>",
   "metadata": {
    "tags": [],
    "created_in_deepnote_cell": true,
    "deepnote_cell_type": "markdown"
   }
  }
 ],
 "nbformat": 4,
 "nbformat_minor": 2,
 "metadata": {
  "orig_nbformat": 2,
  "deepnote": {
   "is_reactive": false
  },
  "deepnote_notebook_id": "8871de30-e733-4a0f-be37-b5d77459fa6c",
  "deepnote_execution_queue": []
 }
}