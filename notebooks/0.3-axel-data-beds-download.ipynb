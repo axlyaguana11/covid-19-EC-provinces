{
 "cells": [
  {
   "cell_type": "markdown",
   "source": "# Getting raw data: ecuacovid",
   "metadata": {
    "tags": [],
    "is_collapsed": false,
    "cell_id": "00000-26e40d93-421b-40d7-9ca4-adbe4130863a",
    "deepnote_cell_type": "text-cell-h1"
   }
  },
  {
   "cell_type": "code",
   "metadata": {
    "tags": [],
    "cell_id": "00001-d27f05c4-fc9e-40de-bd6f-96729e0924e6",
    "deepnote_to_be_reexecuted": false,
    "source_hash": "28eb5f73",
    "execution_start": 1639861660985,
    "execution_millis": 43,
    "deepnote_cell_type": "code"
   },
   "source": "# %load_ext autoreload\n# %autoreload 2",
   "outputs": [],
   "execution_count": null
  },
  {
   "cell_type": "markdown",
   "source": "Here I'll generate the scripts to download data related to ecuacovid (a summary of covid in Ecuador).",
   "metadata": {
    "tags": [],
    "cell_id": "00001-231a309e-55b2-42f8-9dfb-7783f5f38729",
    "deepnote_cell_type": "markdown"
   }
  },
  {
   "cell_type": "code",
   "metadata": {
    "tags": [],
    "cell_id": "00003-c3cdaa16-505a-4e7e-9e84-dd3fdd828607",
    "deepnote_to_be_reexecuted": false,
    "source_hash": "3fa823c3",
    "execution_start": 1639861661029,
    "execution_millis": 1,
    "deepnote_cell_type": "code"
   },
   "source": "#Libraries\nimport pandas as pd",
   "outputs": [],
   "execution_count": null
  },
  {
   "cell_type": "markdown",
   "source": "## Specify input and output files",
   "metadata": {
    "tags": [],
    "is_collapsed": false,
    "cell_id": "00004-6982ffa0-9cad-4c33-bc3f-c2e443e2d0ed",
    "deepnote_cell_type": "text-cell-h2"
   }
  },
  {
   "cell_type": "code",
   "metadata": {
    "tags": [],
    "cell_id": "00004-fa2d0343-5330-4acf-a27a-07a48d0d6834",
    "deepnote_to_be_reexecuted": false,
    "source_hash": "857ac3db",
    "execution_start": 1639861661030,
    "execution_millis": 1,
    "deepnote_cell_type": "code"
   },
   "source": "url_ecuacovid = 'https://raw.githubusercontent.com/andrab/ecuacovid/master/datos_crudos/ecuacovid.csv'",
   "outputs": [],
   "execution_count": null
  },
  {
   "cell_type": "code",
   "metadata": {
    "tags": [],
    "cell_id": "00006-a0b791a8-1639-4f5e-a1b3-3d9ad3ccbae8",
    "deepnote_to_be_reexecuted": false,
    "source_hash": "556a3f76",
    "execution_start": 1639861661032,
    "execution_millis": 0,
    "deepnote_cell_type": "code"
   },
   "source": "dir_ecuacoivd = '/work/covid-19-EC-provinces/data/raw/ecuacovid_raw.csv'",
   "outputs": [],
   "execution_count": null
  },
  {
   "cell_type": "code",
   "metadata": {
    "tags": [],
    "cell_id": "00007-3f314f59-260e-4580-9659-bc79ab9ff9bc",
    "deepnote_to_be_reexecuted": false,
    "source_hash": "fbf5c4e0",
    "execution_start": 1639861661041,
    "execution_millis": 20750,
    "deepnote_cell_type": "code"
   },
   "source": "url_input = [url_ecuacovid]\ndir_output = [dir_ecuacoivd]",
   "outputs": [],
   "execution_count": null
  },
  {
   "cell_type": "markdown",
   "source": "## Create a function",
   "metadata": {
    "tags": [],
    "is_collapsed": false,
    "cell_id": "00008-35e97ca1-3c63-440d-913f-99a01e226d16",
    "deepnote_cell_type": "text-cell-h2"
   }
  },
  {
   "cell_type": "code",
   "metadata": {
    "tags": [],
    "cell_id": "00008-43e91eb4-c437-47eb-b5b6-47a3bfa62057",
    "deepnote_to_be_reexecuted": false,
    "source_hash": "b2f1a594",
    "execution_start": 1639861661043,
    "execution_millis": 20753,
    "deepnote_cell_type": "code"
   },
   "source": "def download_beds(urls: list, dir_save: list):\n    #Read csv files and then save them as json\n    for i in range(len(urls)):\n        pd.read_csv(urls[i]).to_csv(dir_save[i], index=False)",
   "outputs": [],
   "execution_count": null
  },
  {
   "cell_type": "markdown",
   "source": "## Execute the function",
   "metadata": {
    "tags": [],
    "is_collapsed": false,
    "cell_id": "00010-f51ed139-42cc-4948-99ab-f54154bc2146",
    "deepnote_cell_type": "text-cell-h2"
   }
  },
  {
   "cell_type": "code",
   "metadata": {
    "tags": [],
    "cell_id": "00011-cdafd69e-0924-4d15-9fc6-97fedd3f0604",
    "deepnote_to_be_reexecuted": false,
    "source_hash": "dfebcfe1",
    "execution_start": 1639861661048,
    "execution_millis": 37,
    "deepnote_cell_type": "code"
   },
   "source": "download_beds(url_input, dir_output)",
   "outputs": [],
   "execution_count": null
  },
  {
   "cell_type": "markdown",
   "source": "<a style='text-decoration:none;line-height:16px;display:flex;color:#5B5B62;padding:10px;justify-content:end;' href='https://deepnote.com?utm_source=created-in-deepnote-cell&projectId=7294ef23-3287-47ac-a12f-ba892bffdf3b' target=\"_blank\">\n<img alt='Created in deepnote.com' style='display:inline;max-height:16px;margin:0px;margin-right:7.5px;' src='data:image/svg+xml;base64,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' > </img>\nCreated in <span style='font-weight:600;margin-left:4px;'>Deepnote</span></a>",
   "metadata": {
    "tags": [],
    "created_in_deepnote_cell": true,
    "deepnote_cell_type": "markdown"
   }
  }
 ],
 "nbformat": 4,
 "nbformat_minor": 2,
 "metadata": {
  "orig_nbformat": 2,
  "deepnote": {
   "is_reactive": false
  },
  "deepnote_notebook_id": "4efc9afd-63f4-4854-8d25-1d1af17da1a6",
  "deepnote_execution_queue": []
 }
}