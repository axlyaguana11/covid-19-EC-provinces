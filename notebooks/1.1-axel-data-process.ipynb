{
 "cells": [
  {
   "cell_type": "markdown",
   "source": "# Processing data: ecuacovid and vaccines",
   "metadata": {
    "tags": [],
    "is_collapsed": false,
    "cell_id": "00000-a26bf35e-08e8-42d7-8329-1044c30e9395",
    "deepnote_cell_type": "text-cell-h1"
   }
  },
  {
   "cell_type": "code",
   "metadata": {
    "tags": [],
    "cell_id": "00000-755d2a49-2cd8-4529-87b0-f9926a4fcb91",
    "deepnote_to_be_reexecuted": false,
    "source_hash": "28eb5f73",
    "execution_start": 1639862880907,
    "execution_millis": 20192,
    "deepnote_cell_type": "code"
   },
   "source": "# %load_ext autoreload\n# %autoreload 2",
   "outputs": [],
   "execution_count": null
  },
  {
   "cell_type": "code",
   "metadata": {
    "tags": [],
    "cell_id": "00002-b1a8e8a5-4aae-406a-9d0d-3caaf2b7295c",
    "deepnote_to_be_reexecuted": false,
    "source_hash": "69e7293c",
    "execution_start": 1639862880907,
    "execution_millis": 2,
    "deepnote_cell_type": "code"
   },
   "source": "#Libs\nimport pandas as pd",
   "outputs": [],
   "execution_count": null
  },
  {
   "cell_type": "markdown",
   "source": "## Ecuacovid",
   "metadata": {
    "tags": [],
    "is_collapsed": false,
    "cell_id": "00003-0e0abfd2-4ccc-40da-893c-b25e5c7afdb0",
    "deepnote_cell_type": "text-cell-h2"
   }
  },
  {
   "cell_type": "markdown",
   "source": "### Read data",
   "metadata": {
    "tags": [],
    "is_collapsed": false,
    "cell_id": "00004-3377d564-74fb-4428-a392-aaeabe0925a2",
    "deepnote_cell_type": "text-cell-h3"
   }
  },
  {
   "cell_type": "code",
   "metadata": {
    "tags": [],
    "cell_id": "00004-0d7d9eb5-9f4e-4a53-b321-fb6d74d11fc5",
    "deepnote_to_be_reexecuted": false,
    "source_hash": "d5971760",
    "execution_start": 1639862880909,
    "execution_millis": 47,
    "deepnote_cell_type": "code"
   },
   "source": "df_ecuacovid = pd.read_csv('/work/covid-19-EC-provinces/data/raw/ecuacovid_raw.csv')",
   "outputs": [],
   "execution_count": null
  },
  {
   "cell_type": "code",
   "metadata": {
    "tags": [],
    "cell_id": "00005-90bfe048-9a4a-46a0-bdf8-4e904f81798d",
    "deepnote_to_be_reexecuted": false,
    "source_hash": "3e2e3ef3",
    "execution_start": 1639862880956,
    "execution_millis": 11,
    "deepnote_output_heights": [
     231.078125
    ],
    "deepnote_cell_type": "code"
   },
   "source": "df_ecuacovid.dtypes",
   "outputs": [
    {
     "output_type": "execute_result",
     "execution_count": 4,
     "data": {
      "text/plain": "muestras                              int64\nmuestras_pcr                          int64\npositivas_total                       int64\npositivas_probables                   int64\nmuestras_pcr_nuevas                   int64\n                                      ...  \nrpc_uci_camas_porcentaje_ocupadas     int64\nrpc_uci_lista_espera                  int64\nrpc_uci_camas_asignadas               int64\nrpc_uci_camas_ocupadas                int64\ncreated_at                           object\nLength: 76, dtype: object"
     },
     "metadata": {}
    }
   ],
   "execution_count": null
  },
  {
   "cell_type": "markdown",
   "source": "### Process data",
   "metadata": {
    "tags": [],
    "is_collapsed": false,
    "cell_id": "00007-3d053fe6-b0ed-43a5-a7d8-cbe3595fdc91",
    "deepnote_cell_type": "text-cell-h3"
   }
  },
  {
   "cell_type": "code",
   "metadata": {
    "tags": [],
    "cell_id": "00006-0e6b0103-95d7-4666-a285-07e1d5376248",
    "deepnote_to_be_reexecuted": false,
    "source_hash": "3597df0d",
    "execution_start": 1639862880965,
    "execution_millis": 12,
    "deepnote_output_heights": [
     232.3125
    ],
    "deepnote_cell_type": "code"
   },
   "source": "df_ecuacovid.created_at = pd.to_datetime(df_ecuacovid.created_at, dayfirst=True)",
   "outputs": [],
   "execution_count": null
  },
  {
   "cell_type": "code",
   "metadata": {
    "tags": [],
    "cell_id": "00006-98005014-d2b6-4fb9-9683-95d95ac321e2",
    "deepnote_to_be_reexecuted": false,
    "source_hash": "5f49f676",
    "execution_start": 1639862880985,
    "execution_millis": 59,
    "deepnote_cell_type": "code"
   },
   "source": "df_ecuacovid.set_index('created_at', inplace=True)",
   "outputs": [],
   "execution_count": null
  },
  {
   "cell_type": "markdown",
   "source": "### Export data",
   "metadata": {
    "tags": [],
    "is_collapsed": false,
    "cell_id": "00010-dc9a52e1-47cc-4669-aa3f-5a36d435812b",
    "deepnote_cell_type": "text-cell-h3"
   }
  },
  {
   "cell_type": "code",
   "metadata": {
    "tags": [],
    "cell_id": "00007-9e264fc3-34e1-4e69-8130-0c0a45c598a3",
    "deepnote_to_be_reexecuted": false,
    "source_hash": "acceab46",
    "execution_start": 1639862881044,
    "execution_millis": 1,
    "deepnote_cell_type": "code"
   },
   "source": "df_ecuacovid.to_csv('/work/covid-19-EC-provinces/data/processed/ecuacovid.csv')",
   "outputs": [],
   "execution_count": null
  },
  {
   "cell_type": "markdown",
   "source": "## Vaccines",
   "metadata": {
    "tags": [],
    "is_collapsed": false,
    "cell_id": "00008-f7c63b12-89ed-44ee-a0ac-e03431f82064",
    "deepnote_cell_type": "text-cell-h2"
   }
  },
  {
   "cell_type": "markdown",
   "source": "### Read data",
   "metadata": {
    "tags": [],
    "is_collapsed": false,
    "cell_id": "00013-4a146f51-62cf-4fe9-8895-185cfb2ec99b",
    "deepnote_cell_type": "text-cell-h3"
   }
  },
  {
   "cell_type": "code",
   "metadata": {
    "tags": [],
    "cell_id": "00009-3ca1603b-2993-41f3-a5e5-73adaa3de2ea",
    "deepnote_to_be_reexecuted": false,
    "source_hash": "2f495fb",
    "execution_start": 1639862881045,
    "execution_millis": 42,
    "deepnote_cell_type": "code"
   },
   "source": "df_vacc_manufact = pd.read_csv('/work/covid-19-EC-provinces/data/raw/vacc_manufacturers.csv')\ndf_vaccinated = pd.read_csv('/work/covid-19-EC-provinces/data/raw/vacc_vaccinated.csv')\ndf_plan_vacc = pd.read_csv('/work/covid-19-EC-provinces/data/raw/vacc_plan_vacunarse.csv')",
   "outputs": [],
   "execution_count": null
  },
  {
   "cell_type": "markdown",
   "source": "### Process data: Manufacturers",
   "metadata": {
    "tags": [],
    "is_collapsed": false,
    "cell_id": "00010-081ee919-c712-479f-a654-2c127902a151",
    "deepnote_cell_type": "text-cell-h3"
   }
  },
  {
   "cell_type": "code",
   "metadata": {
    "tags": [],
    "cell_id": "00010-8955dc60-d0d7-4fa2-baf9-3a273dcd37d5",
    "deepnote_to_be_reexecuted": false,
    "source_hash": "f2399c96",
    "execution_start": 1639862881088,
    "execution_millis": 91,
    "deepnote_output_heights": [
     177
    ],
    "deepnote_cell_type": "code"
   },
   "source": "df_vacc_manufact.head()",
   "outputs": [
    {
     "output_type": "execute_result",
     "execution_count": 9,
     "data": {
      "application/vnd.deepnote.dataframe.v3+json": {
       "column_count": 4,
       "row_count": 5,
       "columns": [
        {
         "name": "vaccine",
         "dtype": "object",
         "stats": {
          "unique_count": 2,
          "nan_count": 0,
          "categories": [
           {
            "name": "Pfizer/BioNTech",
            "count": 4
           },
           {
            "name": "Sinovac",
            "count": 1
           }
          ]
         }
        },
        {
         "name": "total",
         "dtype": "int64",
         "stats": {
          "unique_count": 5,
          "nan_count": 0,
          "min": "8190",
          "max": "31590",
          "histogram": [
           {
            "bin_start": 8190,
            "bin_end": 10530,
            "count": 1
           },
           {
            "bin_start": 10530,
            "bin_end": 12870,
            "count": 0
           },
           {
            "bin_start": 12870,
            "bin_end": 15210,
            "count": 0
           },
           {
            "bin_start": 15210,
            "bin_end": 17550,
            "count": 1
           },
           {
            "bin_start": 17550,
            "bin_end": 19890,
            "count": 1
           },
           {
            "bin_start": 19890,
            "bin_end": 22230,
            "count": 1
           },
           {
            "bin_start": 22230,
            "bin_end": 24570,
            "count": 0
           },
           {
            "bin_start": 24570,
            "bin_end": 26910,
            "count": 0
           },
           {
            "bin_start": 26910,
            "bin_end": 29250,
            "count": 0
           },
           {
            "bin_start": 29250,
            "bin_end": 31590,
            "count": 1
           }
          ]
         }
        },
        {
         "name": "arrived_at",
         "dtype": "object",
         "stats": {
          "unique_count": 5,
          "nan_count": 0,
          "categories": [
           {
            "name": "20/01/2021",
            "count": 1
           },
           {
            "name": "17/02/2021",
            "count": 1
           },
           {
            "name": "3 others",
            "count": 3
           }
          ]
         }
        },
        {
         "name": "contract",
         "dtype": "object",
         "stats": {
          "unique_count": 2,
          "nan_count": 0,
          "categories": [
           {
            "name": "Government of Ecuador with Pfizer",
            "count": 4
           },
           {
            "name": "Donation from the Government of Chile to the Government of Ecuador",
            "count": 1
           }
          ]
         }
        },
        {
         "name": "_deepnote_index_column",
         "dtype": "int64"
        }
       ],
       "rows": [
        {
         "vaccine": "Pfizer/BioNTech",
         "total": 8190,
         "arrived_at": "20/01/2021",
         "contract": "Government of Ecuador with Pfizer",
         "_deepnote_index_column": 0
        },
        {
         "vaccine": "Pfizer/BioNTech",
         "total": 16380,
         "arrived_at": "17/02/2021",
         "contract": "Government of Ecuador with Pfizer",
         "_deepnote_index_column": 1
        },
        {
         "vaccine": "Pfizer/BioNTech",
         "total": 17550,
         "arrived_at": "24/02/2021",
         "contract": "Government of Ecuador with Pfizer",
         "_deepnote_index_column": 2
        },
        {
         "vaccine": "Pfizer/BioNTech",
         "total": 31590,
         "arrived_at": "03/03/2021",
         "contract": "Government of Ecuador with Pfizer",
         "_deepnote_index_column": 3
        },
        {
         "vaccine": "Sinovac",
         "total": 20000,
         "arrived_at": "06/03/2021",
         "contract": "Donation from the Government of Chile to the Government of Ecuador",
         "_deepnote_index_column": 4
        }
       ]
      },
      "text/plain": "           vaccine  total  arrived_at  \\\n0  Pfizer/BioNTech   8190  20/01/2021   \n1  Pfizer/BioNTech  16380  17/02/2021   \n2  Pfizer/BioNTech  17550  24/02/2021   \n3  Pfizer/BioNTech  31590  03/03/2021   \n4          Sinovac  20000  06/03/2021   \n\n                                            contract  \n0                  Government of Ecuador with Pfizer  \n1                  Government of Ecuador with Pfizer  \n2                  Government of Ecuador with Pfizer  \n3                  Government of Ecuador with Pfizer  \n4  Donation from the Government of Chile to the G...  ",
      "text/html": "<div>\n<style scoped>\n    .dataframe tbody tr th:only-of-type {\n        vertical-align: middle;\n    }\n\n    .dataframe tbody tr th {\n        vertical-align: top;\n    }\n\n    .dataframe thead th {\n        text-align: right;\n    }\n</style>\n<table border=\"1\" class=\"dataframe\">\n  <thead>\n    <tr style=\"text-align: right;\">\n      <th></th>\n      <th>vaccine</th>\n      <th>total</th>\n      <th>arrived_at</th>\n      <th>contract</th>\n    </tr>\n  </thead>\n  <tbody>\n    <tr>\n      <th>0</th>\n      <td>Pfizer/BioNTech</td>\n      <td>8190</td>\n      <td>20/01/2021</td>\n      <td>Government of Ecuador with Pfizer</td>\n    </tr>\n    <tr>\n      <th>1</th>\n      <td>Pfizer/BioNTech</td>\n      <td>16380</td>\n      <td>17/02/2021</td>\n      <td>Government of Ecuador with Pfizer</td>\n    </tr>\n    <tr>\n      <th>2</th>\n      <td>Pfizer/BioNTech</td>\n      <td>17550</td>\n      <td>24/02/2021</td>\n      <td>Government of Ecuador with Pfizer</td>\n    </tr>\n    <tr>\n      <th>3</th>\n      <td>Pfizer/BioNTech</td>\n      <td>31590</td>\n      <td>03/03/2021</td>\n      <td>Government of Ecuador with Pfizer</td>\n    </tr>\n    <tr>\n      <th>4</th>\n      <td>Sinovac</td>\n      <td>20000</td>\n      <td>06/03/2021</td>\n      <td>Donation from the Government of Chile to the G...</td>\n    </tr>\n  </tbody>\n</table>\n</div>"
     },
     "metadata": {}
    }
   ],
   "execution_count": null
  },
  {
   "cell_type": "code",
   "metadata": {
    "tags": [],
    "cell_id": "00012-4ba90c56-6cd4-486a-82c6-9142fd4fe20e",
    "deepnote_to_be_reexecuted": false,
    "source_hash": "61b75d0f",
    "execution_start": 1639862881176,
    "execution_millis": 3,
    "deepnote_output_heights": [
     97.4375
    ],
    "deepnote_cell_type": "code"
   },
   "source": "df_vacc_manufact.dtypes",
   "outputs": [
    {
     "output_type": "execute_result",
     "execution_count": 10,
     "data": {
      "text/plain": "vaccine       object\ntotal          int64\narrived_at    object\ncontract      object\ndtype: object"
     },
     "metadata": {}
    }
   ],
   "execution_count": null
  },
  {
   "cell_type": "code",
   "metadata": {
    "tags": [],
    "cell_id": "00014-5a3752fb-ea57-4ccc-a516-fd78f028366e",
    "deepnote_to_be_reexecuted": false,
    "source_hash": "12861996",
    "execution_start": 1639862881177,
    "execution_millis": 46,
    "deepnote_output_heights": [
     232.3125
    ],
    "deepnote_cell_type": "code"
   },
   "source": "df_vacc_manufact.arrived_at = pd.to_datetime(df_vacc_manufact.arrived_at, dayfirst=True) ",
   "outputs": [],
   "execution_count": null
  },
  {
   "cell_type": "code",
   "metadata": {
    "tags": [],
    "cell_id": "00013-cd30d438-bdf2-44c2-9bfc-cbd0b5d0022b",
    "deepnote_to_be_reexecuted": false,
    "source_hash": "7dd23483",
    "execution_start": 1639862881223,
    "execution_millis": 1,
    "deepnote_cell_type": "code"
   },
   "source": "df_vacc_manufact.set_index('arrived_at', inplace=True)",
   "outputs": [],
   "execution_count": null
  },
  {
   "cell_type": "markdown",
   "source": "### Export data: Manufacturers",
   "metadata": {
    "tags": [],
    "is_collapsed": false,
    "cell_id": "00020-f59550d7-1e78-4f70-a5d4-316eec263363",
    "deepnote_cell_type": "text-cell-h3"
   }
  },
  {
   "cell_type": "code",
   "metadata": {
    "tags": [],
    "cell_id": "00014-04c49a83-beba-4df3-a507-2df8ccf33ee0",
    "deepnote_to_be_reexecuted": false,
    "source_hash": "79b7afe2",
    "execution_start": 1639862881224,
    "execution_millis": 0,
    "deepnote_cell_type": "code"
   },
   "source": "df_vacc_manufact.to_csv('/work/covid-19-EC-provinces/data/processed/vacc_manufacturers.csv')",
   "outputs": [],
   "execution_count": null
  },
  {
   "cell_type": "markdown",
   "source": "### Process data: Vaccinated",
   "metadata": {
    "tags": [],
    "is_collapsed": false,
    "cell_id": "00015-f81702c8-6d00-4500-980a-2603e66d2d2a",
    "deepnote_cell_type": "text-cell-h3"
   }
  },
  {
   "cell_type": "code",
   "metadata": {
    "tags": [],
    "cell_id": "00011-e9b4db73-6cf5-4fbd-a5c3-a7042bb4b442",
    "deepnote_to_be_reexecuted": false,
    "source_hash": "fe7fb36e",
    "execution_start": 1639862881267,
    "execution_millis": 16,
    "deepnote_output_heights": [
     177
    ],
    "deepnote_cell_type": "code"
   },
   "source": "df_vaccinated.head()",
   "outputs": [
    {
     "output_type": "execute_result",
     "execution_count": 14,
     "data": {
      "application/vnd.deepnote.dataframe.v3+json": {
       "column_count": 5,
       "row_count": 5,
       "columns": [
        {
         "name": "fecha",
         "dtype": "object",
         "stats": {
          "unique_count": 5,
          "nan_count": 0,
          "categories": [
           {
            "name": "20/01/2021",
            "count": 1
           },
           {
            "name": "21/01/2021",
            "count": 1
           },
           {
            "name": "3 others",
            "count": 3
           }
          ]
         }
        },
        {
         "name": "dosis_total",
         "dtype": "int64",
         "stats": {
          "unique_count": 4,
          "nan_count": 0,
          "min": "0",
          "max": "6228",
          "histogram": [
           {
            "bin_start": 0,
            "bin_end": 622.8,
            "count": 3
           },
           {
            "bin_start": 622.8,
            "bin_end": 1245.6,
            "count": 0
           },
           {
            "bin_start": 1245.6,
            "bin_end": 1868.3999999999999,
            "count": 0
           },
           {
            "bin_start": 1868.3999999999999,
            "bin_end": 2491.2,
            "count": 0
           },
           {
            "bin_start": 2491.2,
            "bin_end": 3114,
            "count": 1
           },
           {
            "bin_start": 3114,
            "bin_end": 3736.7999999999997,
            "count": 0
           },
           {
            "bin_start": 3736.7999999999997,
            "bin_end": 4359.599999999999,
            "count": 0
           },
           {
            "bin_start": 4359.599999999999,
            "bin_end": 4982.4,
            "count": 0
           },
           {
            "bin_start": 4982.4,
            "bin_end": 5605.2,
            "count": 0
           },
           {
            "bin_start": 5605.2,
            "bin_end": 6228,
            "count": 1
           }
          ]
         }
        },
        {
         "name": "primera_dosis",
         "dtype": "int64",
         "stats": {
          "unique_count": 4,
          "nan_count": 0,
          "min": "0",
          "max": "6228",
          "histogram": [
           {
            "bin_start": 0,
            "bin_end": 622.8,
            "count": 3
           },
           {
            "bin_start": 622.8,
            "bin_end": 1245.6,
            "count": 0
           },
           {
            "bin_start": 1245.6,
            "bin_end": 1868.3999999999999,
            "count": 0
           },
           {
            "bin_start": 1868.3999999999999,
            "bin_end": 2491.2,
            "count": 0
           },
           {
            "bin_start": 2491.2,
            "bin_end": 3114,
            "count": 1
           },
           {
            "bin_start": 3114,
            "bin_end": 3736.7999999999997,
            "count": 0
           },
           {
            "bin_start": 3736.7999999999997,
            "bin_end": 4359.599999999999,
            "count": 0
           },
           {
            "bin_start": 4359.599999999999,
            "bin_end": 4982.4,
            "count": 0
           },
           {
            "bin_start": 4982.4,
            "bin_end": 5605.2,
            "count": 0
           },
           {
            "bin_start": 5605.2,
            "bin_end": 6228,
            "count": 1
           }
          ]
         }
        },
        {
         "name": "segunda_dosis",
         "dtype": "int64",
         "stats": {
          "unique_count": 1,
          "nan_count": 0,
          "min": "0",
          "max": "0",
          "histogram": [
           {
            "bin_start": -0.5,
            "bin_end": -0.4,
            "count": 0
           },
           {
            "bin_start": -0.4,
            "bin_end": -0.3,
            "count": 0
           },
           {
            "bin_start": -0.3,
            "bin_end": -0.19999999999999996,
            "count": 0
           },
           {
            "bin_start": -0.19999999999999996,
            "bin_end": -0.09999999999999998,
            "count": 0
           },
           {
            "bin_start": -0.09999999999999998,
            "bin_end": 0,
            "count": 0
           },
           {
            "bin_start": 0,
            "bin_end": 0.10000000000000009,
            "count": 5
           },
           {
            "bin_start": 0.10000000000000009,
            "bin_end": 0.20000000000000007,
            "count": 0
           },
           {
            "bin_start": 0.20000000000000007,
            "bin_end": 0.30000000000000004,
            "count": 0
           },
           {
            "bin_start": 0.30000000000000004,
            "bin_end": 0.4,
            "count": 0
           },
           {
            "bin_start": 0.4,
            "bin_end": 0.5,
            "count": 0
           }
          ]
         }
        },
        {
         "name": "refuerzo",
         "dtype": "int64",
         "stats": {
          "unique_count": 1,
          "nan_count": 0,
          "min": "0",
          "max": "0",
          "histogram": [
           {
            "bin_start": -0.5,
            "bin_end": -0.4,
            "count": 0
           },
           {
            "bin_start": -0.4,
            "bin_end": -0.3,
            "count": 0
           },
           {
            "bin_start": -0.3,
            "bin_end": -0.19999999999999996,
            "count": 0
           },
           {
            "bin_start": -0.19999999999999996,
            "bin_end": -0.09999999999999998,
            "count": 0
           },
           {
            "bin_start": -0.09999999999999998,
            "bin_end": 0,
            "count": 0
           },
           {
            "bin_start": 0,
            "bin_end": 0.10000000000000009,
            "count": 5
           },
           {
            "bin_start": 0.10000000000000009,
            "bin_end": 0.20000000000000007,
            "count": 0
           },
           {
            "bin_start": 0.20000000000000007,
            "bin_end": 0.30000000000000004,
            "count": 0
           },
           {
            "bin_start": 0.30000000000000004,
            "bin_end": 0.4,
            "count": 0
           },
           {
            "bin_start": 0.4,
            "bin_end": 0.5,
            "count": 0
           }
          ]
         }
        },
        {
         "name": "_deepnote_index_column",
         "dtype": "int64"
        }
       ],
       "rows": [
        {
         "fecha": "20/01/2021",
         "dosis_total": 0,
         "primera_dosis": 0,
         "segunda_dosis": 0,
         "refuerzo": 0,
         "_deepnote_index_column": 0
        },
        {
         "fecha": "21/01/2021",
         "dosis_total": 0,
         "primera_dosis": 0,
         "segunda_dosis": 0,
         "refuerzo": 0,
         "_deepnote_index_column": 1
        },
        {
         "fecha": "22/01/2021",
         "dosis_total": 108,
         "primera_dosis": 108,
         "segunda_dosis": 0,
         "refuerzo": 0,
         "_deepnote_index_column": 2
        },
        {
         "fecha": "27/01/2021",
         "dosis_total": 2982,
         "primera_dosis": 2982,
         "segunda_dosis": 0,
         "refuerzo": 0,
         "_deepnote_index_column": 3
        },
        {
         "fecha": "04/02/2021",
         "dosis_total": 6228,
         "primera_dosis": 6228,
         "segunda_dosis": 0,
         "refuerzo": 0,
         "_deepnote_index_column": 4
        }
       ]
      },
      "text/plain": "        fecha  dosis_total  primera_dosis  segunda_dosis  refuerzo\n0  20/01/2021            0              0              0         0\n1  21/01/2021            0              0              0         0\n2  22/01/2021          108            108              0         0\n3  27/01/2021         2982           2982              0         0\n4  04/02/2021         6228           6228              0         0",
      "text/html": "<div>\n<style scoped>\n    .dataframe tbody tr th:only-of-type {\n        vertical-align: middle;\n    }\n\n    .dataframe tbody tr th {\n        vertical-align: top;\n    }\n\n    .dataframe thead th {\n        text-align: right;\n    }\n</style>\n<table border=\"1\" class=\"dataframe\">\n  <thead>\n    <tr style=\"text-align: right;\">\n      <th></th>\n      <th>fecha</th>\n      <th>dosis_total</th>\n      <th>primera_dosis</th>\n      <th>segunda_dosis</th>\n      <th>refuerzo</th>\n    </tr>\n  </thead>\n  <tbody>\n    <tr>\n      <th>0</th>\n      <td>20/01/2021</td>\n      <td>0</td>\n      <td>0</td>\n      <td>0</td>\n      <td>0</td>\n    </tr>\n    <tr>\n      <th>1</th>\n      <td>21/01/2021</td>\n      <td>0</td>\n      <td>0</td>\n      <td>0</td>\n      <td>0</td>\n    </tr>\n    <tr>\n      <th>2</th>\n      <td>22/01/2021</td>\n      <td>108</td>\n      <td>108</td>\n      <td>0</td>\n      <td>0</td>\n    </tr>\n    <tr>\n      <th>3</th>\n      <td>27/01/2021</td>\n      <td>2982</td>\n      <td>2982</td>\n      <td>0</td>\n      <td>0</td>\n    </tr>\n    <tr>\n      <th>4</th>\n      <td>04/02/2021</td>\n      <td>6228</td>\n      <td>6228</td>\n      <td>0</td>\n      <td>0</td>\n    </tr>\n  </tbody>\n</table>\n</div>"
     },
     "metadata": {}
    }
   ],
   "execution_count": null
  },
  {
   "cell_type": "code",
   "metadata": {
    "tags": [],
    "cell_id": "00017-c32e43cf-aa89-4534-9da3-957c1bf7740e",
    "deepnote_to_be_reexecuted": false,
    "source_hash": "9f3617f1",
    "execution_start": 1639862881292,
    "execution_millis": 1,
    "deepnote_output_heights": [
     116.53125
    ],
    "deepnote_cell_type": "code"
   },
   "source": "df_vaccinated.dtypes",
   "outputs": [
    {
     "output_type": "execute_result",
     "execution_count": 15,
     "data": {
      "text/plain": "fecha            object\ndosis_total       int64\nprimera_dosis     int64\nsegunda_dosis     int64\nrefuerzo          int64\ndtype: object"
     },
     "metadata": {}
    }
   ],
   "execution_count": null
  },
  {
   "cell_type": "code",
   "metadata": {
    "tags": [],
    "cell_id": "00018-86a06b52-8bdb-4f8c-baa9-d81bb663d2c2",
    "deepnote_to_be_reexecuted": false,
    "source_hash": "84d891e8",
    "execution_start": 1639862881309,
    "execution_millis": 20100,
    "deepnote_cell_type": "code"
   },
   "source": "df_vaccinated['fecha'] = pd.to_datetime(df_vaccinated['fecha'], dayfirst=True)",
   "outputs": [],
   "execution_count": null
  },
  {
   "cell_type": "code",
   "metadata": {
    "tags": [],
    "cell_id": "00019-e46bc917-6810-44a0-a8d7-2ba0c6110afd",
    "deepnote_to_be_reexecuted": false,
    "source_hash": "123d9e82",
    "execution_start": 1639862881359,
    "execution_millis": 20063,
    "deepnote_cell_type": "code"
   },
   "source": "df_vaccinated.set_index('fecha', inplace=True)",
   "outputs": [],
   "execution_count": null
  },
  {
   "cell_type": "markdown",
   "source": "### Export data: Vaccinated",
   "metadata": {
    "tags": [],
    "is_collapsed": false,
    "cell_id": "00027-e961f7f9-46e7-47af-9b76-a39781f5c2e6",
    "deepnote_cell_type": "text-cell-h3"
   }
  },
  {
   "cell_type": "code",
   "metadata": {
    "tags": [],
    "cell_id": "00020-829a1c37-6222-4363-bc98-5bc5470baf66",
    "deepnote_to_be_reexecuted": false,
    "source_hash": "8e77dc4f",
    "execution_start": 1639862881360,
    "execution_millis": 20110,
    "deepnote_cell_type": "code"
   },
   "source": "df_vaccinated.to_csv('/work/covid-19-EC-provinces/data/processed/vaccinated.csv')",
   "outputs": [],
   "execution_count": null
  },
  {
   "cell_type": "markdown",
   "source": "### Process data: Plan vacunarse",
   "metadata": {
    "tags": [],
    "is_collapsed": false,
    "cell_id": "00020-14d86732-2826-4e1b-82aa-a30894d77065",
    "deepnote_cell_type": "text-cell-h3"
   }
  },
  {
   "cell_type": "code",
   "metadata": {
    "tags": [],
    "cell_id": "00012-a008d4c2-436f-463e-938f-2753fa9708c6",
    "deepnote_to_be_reexecuted": false,
    "source_hash": "456caadf",
    "execution_start": 1639862881360,
    "execution_millis": 38,
    "deepnote_output_heights": [
     177
    ],
    "deepnote_cell_type": "code"
   },
   "source": "df_plan_vacc.head()",
   "outputs": [
    {
     "output_type": "execute_result",
     "execution_count": 19,
     "data": {
      "application/vnd.deepnote.dataframe.v3+json": {
       "column_count": 3,
       "row_count": 5,
       "columns": [
        {
         "name": "fecha",
         "dtype": "object",
         "stats": {
          "unique_count": 5,
          "nan_count": 0,
          "categories": [
           {
            "name": "2021-01-21",
            "count": 1
           },
           {
            "name": "2021-01-22",
            "count": 1
           },
           {
            "name": "3 others",
            "count": 3
           }
          ]
         }
        },
        {
         "name": "primera_dosis",
         "dtype": "int64",
         "stats": {
          "unique_count": 5,
          "nan_count": 0,
          "min": "0",
          "max": "1500",
          "histogram": [
           {
            "bin_start": 0,
            "bin_end": 150,
            "count": 2
           },
           {
            "bin_start": 150,
            "bin_end": 300,
            "count": 0
           },
           {
            "bin_start": 300,
            "bin_end": 450,
            "count": 0
           },
           {
            "bin_start": 450,
            "bin_end": 600,
            "count": 1
           },
           {
            "bin_start": 600,
            "bin_end": 750,
            "count": 1
           },
           {
            "bin_start": 750,
            "bin_end": 900,
            "count": 0
           },
           {
            "bin_start": 900,
            "bin_end": 1050,
            "count": 0
           },
           {
            "bin_start": 1050,
            "bin_end": 1200,
            "count": 0
           },
           {
            "bin_start": 1200,
            "bin_end": 1350,
            "count": 0
           },
           {
            "bin_start": 1350,
            "bin_end": 1500,
            "count": 1
           }
          ]
         }
        },
        {
         "name": "segunda_dosis",
         "dtype": "int64",
         "stats": {
          "unique_count": 2,
          "nan_count": 0,
          "min": "0",
          "max": "1",
          "histogram": [
           {
            "bin_start": 0,
            "bin_end": 0.1,
            "count": 4
           },
           {
            "bin_start": 0.1,
            "bin_end": 0.2,
            "count": 0
           },
           {
            "bin_start": 0.2,
            "bin_end": 0.30000000000000004,
            "count": 0
           },
           {
            "bin_start": 0.30000000000000004,
            "bin_end": 0.4,
            "count": 0
           },
           {
            "bin_start": 0.4,
            "bin_end": 0.5,
            "count": 0
           },
           {
            "bin_start": 0.5,
            "bin_end": 0.6000000000000001,
            "count": 0
           },
           {
            "bin_start": 0.6000000000000001,
            "bin_end": 0.7000000000000001,
            "count": 0
           },
           {
            "bin_start": 0.7000000000000001,
            "bin_end": 0.8,
            "count": 0
           },
           {
            "bin_start": 0.8,
            "bin_end": 0.9,
            "count": 0
           },
           {
            "bin_start": 0.9,
            "bin_end": 1,
            "count": 1
           }
          ]
         }
        },
        {
         "name": "_deepnote_index_column",
         "dtype": "int64"
        }
       ],
       "rows": [
        {
         "fecha": "2021-01-21",
         "primera_dosis": 1500,
         "segunda_dosis": 0,
         "_deepnote_index_column": 0
        },
        {
         "fecha": "2021-01-22",
         "primera_dosis": 539,
         "segunda_dosis": 1,
         "_deepnote_index_column": 1
        },
        {
         "fecha": "2021-01-23",
         "primera_dosis": 31,
         "segunda_dosis": 0,
         "_deepnote_index_column": 2
        },
        {
         "fecha": "2021-01-24",
         "primera_dosis": 0,
         "segunda_dosis": 0,
         "_deepnote_index_column": 3
        },
        {
         "fecha": "2021-01-25",
         "primera_dosis": 622,
         "segunda_dosis": 0,
         "_deepnote_index_column": 4
        }
       ]
      },
      "text/plain": "        fecha  primera_dosis  segunda_dosis\n0  2021-01-21           1500              0\n1  2021-01-22            539              1\n2  2021-01-23             31              0\n3  2021-01-24              0              0\n4  2021-01-25            622              0",
      "text/html": "<div>\n<style scoped>\n    .dataframe tbody tr th:only-of-type {\n        vertical-align: middle;\n    }\n\n    .dataframe tbody tr th {\n        vertical-align: top;\n    }\n\n    .dataframe thead th {\n        text-align: right;\n    }\n</style>\n<table border=\"1\" class=\"dataframe\">\n  <thead>\n    <tr style=\"text-align: right;\">\n      <th></th>\n      <th>fecha</th>\n      <th>primera_dosis</th>\n      <th>segunda_dosis</th>\n    </tr>\n  </thead>\n  <tbody>\n    <tr>\n      <th>0</th>\n      <td>2021-01-21</td>\n      <td>1500</td>\n      <td>0</td>\n    </tr>\n    <tr>\n      <th>1</th>\n      <td>2021-01-22</td>\n      <td>539</td>\n      <td>1</td>\n    </tr>\n    <tr>\n      <th>2</th>\n      <td>2021-01-23</td>\n      <td>31</td>\n      <td>0</td>\n    </tr>\n    <tr>\n      <th>3</th>\n      <td>2021-01-24</td>\n      <td>0</td>\n      <td>0</td>\n    </tr>\n    <tr>\n      <th>4</th>\n      <td>2021-01-25</td>\n      <td>622</td>\n      <td>0</td>\n    </tr>\n  </tbody>\n</table>\n</div>"
     },
     "metadata": {}
    }
   ],
   "execution_count": null
  },
  {
   "cell_type": "code",
   "metadata": {
    "tags": [],
    "cell_id": "00023-124b2f2a-842b-4533-a5bf-339d434a7311",
    "deepnote_to_be_reexecuted": false,
    "source_hash": "a0b535c8",
    "execution_start": 1639862881399,
    "execution_millis": 20039,
    "deepnote_output_heights": [
     78.34375
    ],
    "deepnote_cell_type": "code"
   },
   "source": "df_plan_vacc.dtypes",
   "outputs": [
    {
     "output_type": "execute_result",
     "execution_count": 20,
     "data": {
      "text/plain": "fecha            object\nprimera_dosis     int64\nsegunda_dosis     int64\ndtype: object"
     },
     "metadata": {}
    }
   ],
   "execution_count": null
  },
  {
   "cell_type": "code",
   "metadata": {
    "tags": [],
    "cell_id": "00024-444edda0-9119-422b-aa5d-ea1ae0e91d01",
    "deepnote_to_be_reexecuted": false,
    "source_hash": "ddfdd6a1",
    "execution_start": 1639862881463,
    "execution_millis": 19980,
    "deepnote_cell_type": "code"
   },
   "source": "df_plan_vacc['fecha'] = pd.to_datetime(df_plan_vacc['fecha']) #Day is not first here",
   "outputs": [],
   "execution_count": null
  },
  {
   "cell_type": "code",
   "metadata": {
    "tags": [],
    "cell_id": "00025-6a03ca65-5bfd-4999-ad25-5e6414fed9df",
    "deepnote_to_be_reexecuted": false,
    "source_hash": "8ccdd675",
    "execution_start": 1639862881463,
    "execution_millis": 19983,
    "deepnote_cell_type": "code"
   },
   "source": "df_plan_vacc.set_index('fecha', inplace=True)",
   "outputs": [],
   "execution_count": null
  },
  {
   "cell_type": "markdown",
   "source": "### Export data: Plan vacunarse",
   "metadata": {
    "tags": [],
    "is_collapsed": false,
    "cell_id": "00034-19fb88a7-f585-4ee3-b223-b66e4e95ac64",
    "deepnote_cell_type": "text-cell-h3"
   }
  },
  {
   "cell_type": "code",
   "metadata": {
    "tags": [],
    "cell_id": "00026-cf000818-2107-43bf-a95c-084bfff675f0",
    "deepnote_to_be_reexecuted": false,
    "source_hash": "8257beb1",
    "execution_start": 1639862881464,
    "execution_millis": 19942,
    "deepnote_cell_type": "code"
   },
   "source": "df_plan_vacc.to_csv('/work/covid-19-EC-provinces/data/processed/vacc_plan_vacunarse.csv')",
   "outputs": [],
   "execution_count": null
  },
  {
   "cell_type": "markdown",
   "source": "<a style='text-decoration:none;line-height:16px;display:flex;color:#5B5B62;padding:10px;justify-content:end;' href='https://deepnote.com?utm_source=created-in-deepnote-cell&projectId=7294ef23-3287-47ac-a12f-ba892bffdf3b' target=\"_blank\">\n<img alt='Created in deepnote.com' style='display:inline;max-height:16px;margin:0px;margin-right:7.5px;' src='data:image/svg+xml;base64,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' > </img>\nCreated in <span style='font-weight:600;margin-left:4px;'>Deepnote</span></a>",
   "metadata": {
    "tags": [],
    "created_in_deepnote_cell": true,
    "deepnote_cell_type": "markdown"
   }
  }
 ],
 "nbformat": 4,
 "nbformat_minor": 2,
 "metadata": {
  "orig_nbformat": 2,
  "deepnote": {
   "is_reactive": false
  },
  "deepnote_notebook_id": "ccbb24a4-0f76-43cc-9092-06bd1370d0cc",
  "deepnote_execution_queue": []
 }
}