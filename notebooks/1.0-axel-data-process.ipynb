{
 "cells": [
  {
   "cell_type": "markdown",
   "source": "# Processing data: deaths and positives",
   "metadata": {
    "tags": [],
    "is_collapsed": false,
    "cell_id": "00002-9401d417-c68e-4c2a-a246-b41daddd1787",
    "deepnote_cell_type": "text-cell-h1"
   }
  },
  {
   "cell_type": "code",
   "metadata": {
    "tags": [],
    "cell_id": "00001-4746f23b-5e05-42de-b450-d6a0a7a64cf8",
    "deepnote_to_be_reexecuted": false,
    "source_hash": "28eb5f73",
    "execution_start": 1639862441492,
    "execution_millis": 357488173,
    "deepnote_cell_type": "code"
   },
   "source": "# %load_ext autoreload\n# %autoreload 2",
   "outputs": [],
   "execution_count": null
  },
  {
   "cell_type": "code",
   "metadata": {
    "tags": [],
    "cell_id": "00002-fa1d76bf-4957-4b6a-904b-987ba0f8b799",
    "deepnote_to_be_reexecuted": false,
    "source_hash": "9b82ee11",
    "execution_start": 1639862441536,
    "execution_millis": 357309696,
    "deepnote_cell_type": "code"
   },
   "source": "import pandas as pd",
   "outputs": [],
   "execution_count": null
  },
  {
   "cell_type": "markdown",
   "source": "## Deaths",
   "metadata": {
    "tags": [],
    "is_collapsed": false,
    "cell_id": "00003-28fbb064-b34e-410f-b3df-50d479de2537",
    "deepnote_cell_type": "text-cell-h2"
   }
  },
  {
   "cell_type": "markdown",
   "source": "### Read data",
   "metadata": {
    "tags": [],
    "is_collapsed": false,
    "cell_id": "00004-7661b116-2d11-439f-b270-75671e4a9aa2",
    "deepnote_cell_type": "text-cell-h3"
   }
  },
  {
   "cell_type": "code",
   "metadata": {
    "tags": [],
    "cell_id": "00003-fbfcae69-1552-4f5f-b2e4-1a56a94e7a40",
    "deepnote_to_be_reexecuted": false,
    "source_hash": "100301e8",
    "execution_start": 1639862441536,
    "execution_millis": 3,
    "deepnote_cell_type": "code"
   },
   "source": "df_deaths_2015 = pd.read_csv('/work/covid-19-EC-provinces/data/raw/deaths_provinces_2015.csv')\ndf_deaths_2016 = pd.read_csv('/work/covid-19-EC-provinces/data/raw/deaths_provinces_2016.csv')\ndf_deaths_2017 = pd.read_csv('/work/covid-19-EC-provinces/data/raw/deaths_provinces_2017.csv')\ndf_deaths_2018 = pd.read_csv('/work/covid-19-EC-provinces/data/raw/deaths_provinces_2018.csv')\ndf_deaths_2019 = pd.read_csv('/work/covid-19-EC-provinces/data/raw/deaths_provinces_2019.csv')\ndf_deaths_2020 = pd.read_csv('/work/covid-19-EC-provinces/data/raw/deaths_provinces_2020.csv')\ndf_deaths_2021 = pd.read_csv('/work/covid-19-EC-provinces/data/raw/deaths_provinces_2021.csv')",
   "outputs": [],
   "execution_count": null
  },
  {
   "cell_type": "markdown",
   "source": "### Process data",
   "metadata": {
    "tags": [],
    "is_collapsed": false,
    "cell_id": "00006-43e6757c-2de9-465f-985f-53db672674af",
    "deepnote_cell_type": "text-cell-h3"
   }
  },
  {
   "cell_type": "code",
   "metadata": {
    "tags": [],
    "cell_id": "00004-025ca1f4-9867-41cc-826f-af417bbb1f00",
    "deepnote_to_be_reexecuted": false,
    "source_hash": "5996d6fd",
    "execution_start": 1639862441591,
    "execution_millis": 0,
    "deepnote_cell_type": "code"
   },
   "source": "df_deaths_2015['year'] = '2015'\ndf_deaths_2016['year'] = '2016'\ndf_deaths_2017['year'] = '2017'\ndf_deaths_2018['year'] = '2018'\ndf_deaths_2019['year'] = '2019'\ndf_deaths_2020['year'] = '2020'\ndf_deaths_2021['year'] = '2021'",
   "outputs": [],
   "execution_count": null
  },
  {
   "cell_type": "code",
   "metadata": {
    "tags": [],
    "cell_id": "00005-19f0f02c-5a2f-433e-a05e-3a971f53c303",
    "deepnote_to_be_reexecuted": false,
    "source_hash": "b0bdbed4",
    "execution_start": 1639862441591,
    "execution_millis": 1,
    "deepnote_cell_type": "code"
   },
   "source": "df_deaths = pd.concat([df_deaths_2015, \n            df_deaths_2016, \n            df_deaths_2017, \n            df_deaths_2018, \n            df_deaths_2019, \n            df_deaths_2020, \n            df_deaths_2021], \n            ignore_index=True)",
   "outputs": [],
   "execution_count": null
  },
  {
   "cell_type": "code",
   "metadata": {
    "tags": [],
    "cell_id": "00006-02beaf2c-8d4a-42ce-90bc-60a0d2a376e8",
    "deepnote_to_be_reexecuted": false,
    "source_hash": "6685c98d",
    "execution_start": 1639862441592,
    "execution_millis": 1,
    "deepnote_cell_type": "code"
   },
   "source": "df_deaths = df_deaths.astype({'mes': 'object'})",
   "outputs": [],
   "execution_count": null
  },
  {
   "cell_type": "markdown",
   "source": "### Export data",
   "metadata": {
    "tags": [],
    "is_collapsed": false,
    "cell_id": "00010-92fe8f3c-dfdd-4da4-b336-19182a863983",
    "deepnote_cell_type": "text-cell-h3"
   }
  },
  {
   "cell_type": "code",
   "metadata": {
    "tags": [],
    "cell_id": "00005-4bc263a8-7cf6-490d-adc5-651378f6bfa1",
    "deepnote_to_be_reexecuted": false,
    "source_hash": "3367bae4",
    "execution_start": 1639862441594,
    "execution_millis": 13,
    "deepnote_cell_type": "code"
   },
   "source": "df_deaths.to_csv('/work/covid-19-EC-provinces/data/processed/deaths.csv', index=False)",
   "outputs": [],
   "execution_count": null
  },
  {
   "cell_type": "markdown",
   "source": "## Positives",
   "metadata": {
    "tags": [],
    "is_collapsed": false,
    "cell_id": "00010-603b4a7d-e32b-47ef-97ad-56ad447a89a3",
    "deepnote_cell_type": "text-cell-h2"
   }
  },
  {
   "cell_type": "markdown",
   "source": "### Read data",
   "metadata": {
    "tags": [],
    "is_collapsed": false,
    "cell_id": "00013-3a823ec7-9d09-430d-a0ce-5ecbcd388914",
    "deepnote_cell_type": "text-cell-h3"
   }
  },
  {
   "cell_type": "code",
   "metadata": {
    "tags": [],
    "cell_id": "00011-3b1f99dc-7892-49ed-ae45-e811259381e0",
    "deepnote_to_be_reexecuted": false,
    "source_hash": "f8c97391",
    "execution_start": 1639862441655,
    "execution_millis": 0,
    "deepnote_cell_type": "code"
   },
   "source": "df_positives_2020 = pd.read_csv('/work/covid-19-EC-provinces/data/raw/positives_day_provices_2020.csv')\ndf_positives_2021 = pd.read_csv('/work/covid-19-EC-provinces/data/raw/positives_day_provices_2021.csv')",
   "outputs": [],
   "execution_count": null
  },
  {
   "cell_type": "code",
   "metadata": {
    "tags": [],
    "cell_id": "00012-3f510971-e9a9-40e3-aa1b-b3e71bbc2f1a",
    "deepnote_to_be_reexecuted": false,
    "source_hash": "8e87c5a2",
    "execution_start": 1639862441698,
    "execution_millis": 22,
    "deepnote_output_heights": [
     177
    ],
    "deepnote_cell_type": "code"
   },
   "source": "df_positives_2020.head()",
   "outputs": [
    {
     "output_type": "execute_result",
     "execution_count": 10,
     "data": {
      "application/vnd.deepnote.dataframe.v2+json": {
       "row_count": 5,
       "column_count": 7,
       "columns": [
        {
         "name": "provincia",
         "dtype": "object",
         "stats": {
          "unique_count": 5,
          "nan_count": 0,
          "categories": [
           {
            "name": "Azuay",
            "count": 1
           },
           {
            "name": "Bolívar",
            "count": 1
           },
           {
            "name": "3 others",
            "count": 3
           }
          ]
         }
        },
        {
         "name": "poblacion",
         "dtype": "int64",
         "stats": {
          "unique_count": 5,
          "nan_count": 0,
          "min": "186869",
          "max": "881394",
          "histogram": [
           {
            "bin_start": 186869,
            "bin_end": 256321.5,
            "count": 2
           },
           {
            "bin_start": 256321.5,
            "bin_end": 325774,
            "count": 1
           },
           {
            "bin_start": 325774,
            "bin_end": 395226.5,
            "count": 0
           },
           {
            "bin_start": 395226.5,
            "bin_end": 464679,
            "count": 0
           },
           {
            "bin_start": 464679,
            "bin_end": 534131.5,
            "count": 1
           },
           {
            "bin_start": 534131.5,
            "bin_end": 603584,
            "count": 0
           },
           {
            "bin_start": 603584,
            "bin_end": 673036.5,
            "count": 0
           },
           {
            "bin_start": 673036.5,
            "bin_end": 742489,
            "count": 0
           },
           {
            "bin_start": 742489,
            "bin_end": 811941.5,
            "count": 0
           },
           {
            "bin_start": 811941.5,
            "bin_end": 881394,
            "count": 1
           }
          ]
         }
        },
        {
         "name": "total",
         "dtype": "int64",
         "stats": {
          "unique_count": 1,
          "nan_count": 0,
          "min": "0",
          "max": "0",
          "histogram": [
           {
            "bin_start": -0.5,
            "bin_end": -0.4,
            "count": 0
           },
           {
            "bin_start": -0.4,
            "bin_end": -0.3,
            "count": 0
           },
           {
            "bin_start": -0.3,
            "bin_end": -0.19999999999999996,
            "count": 0
           },
           {
            "bin_start": -0.19999999999999996,
            "bin_end": -0.09999999999999998,
            "count": 0
           },
           {
            "bin_start": -0.09999999999999998,
            "bin_end": 0,
            "count": 0
           },
           {
            "bin_start": 0,
            "bin_end": 0.10000000000000009,
            "count": 5
           },
           {
            "bin_start": 0.10000000000000009,
            "bin_end": 0.20000000000000007,
            "count": 0
           },
           {
            "bin_start": 0.20000000000000007,
            "bin_end": 0.30000000000000004,
            "count": 0
           },
           {
            "bin_start": 0.30000000000000004,
            "bin_end": 0.4,
            "count": 0
           },
           {
            "bin_start": 0.4,
            "bin_end": 0.5,
            "count": 0
           }
          ]
         }
        },
        {
         "name": "nuevas",
         "dtype": "int64",
         "stats": {
          "unique_count": 1,
          "nan_count": 0,
          "min": "0",
          "max": "0",
          "histogram": [
           {
            "bin_start": -0.5,
            "bin_end": -0.4,
            "count": 0
           },
           {
            "bin_start": -0.4,
            "bin_end": -0.3,
            "count": 0
           },
           {
            "bin_start": -0.3,
            "bin_end": -0.19999999999999996,
            "count": 0
           },
           {
            "bin_start": -0.19999999999999996,
            "bin_end": -0.09999999999999998,
            "count": 0
           },
           {
            "bin_start": -0.09999999999999998,
            "bin_end": 0,
            "count": 0
           },
           {
            "bin_start": 0,
            "bin_end": 0.10000000000000009,
            "count": 5
           },
           {
            "bin_start": 0.10000000000000009,
            "bin_end": 0.20000000000000007,
            "count": 0
           },
           {
            "bin_start": 0.20000000000000007,
            "bin_end": 0.30000000000000004,
            "count": 0
           },
           {
            "bin_start": 0.30000000000000004,
            "bin_end": 0.4,
            "count": 0
           },
           {
            "bin_start": 0.4,
            "bin_end": 0.5,
            "count": 0
           }
          ]
         }
        },
        {
         "name": "lat",
         "dtype": "float64",
         "stats": {
          "unique_count": 5,
          "nan_count": 0,
          "min": "-2.897414",
          "max": "0.81218",
          "histogram": [
           {
            "bin_start": -2.897414,
            "bin_end": -2.5264546,
            "count": 2
           },
           {
            "bin_start": -2.5264546,
            "bin_end": -2.1554952,
            "count": 0
           },
           {
            "bin_start": -2.1554952,
            "bin_end": -1.7845358,
            "count": 0
           },
           {
            "bin_start": -1.7845358,
            "bin_end": -1.4135764,
            "count": 2
           },
           {
            "bin_start": -1.4135764,
            "bin_end": -1.042617,
            "count": 0
           },
           {
            "bin_start": -1.042617,
            "bin_end": -0.6716576000000001,
            "count": 0
           },
           {
            "bin_start": -0.6716576000000001,
            "bin_end": -0.3006981999999998,
            "count": 0
           },
           {
            "bin_start": -0.3006981999999998,
            "bin_end": 0.07026120000000002,
            "count": 0
           },
           {
            "bin_start": 0.07026120000000002,
            "bin_end": 0.44122059999999985,
            "count": 0
           },
           {
            "bin_start": 0.44122059999999985,
            "bin_end": 0.81218,
            "count": 1
           }
          ]
         }
        },
        {
         "name": "lng",
         "dtype": "float64",
         "stats": {
          "unique_count": 5,
          "nan_count": 0,
          "min": "-79.004481",
          "max": "-77.71633",
          "histogram": [
           {
            "bin_start": -79.004481,
            "bin_end": -78.8756659,
            "count": 2
           },
           {
            "bin_start": -78.8756659,
            "bin_end": -78.7468508,
            "count": 1
           },
           {
            "bin_start": -78.7468508,
            "bin_end": -78.6180357,
            "count": 1
           },
           {
            "bin_start": -78.6180357,
            "bin_end": -78.4892206,
            "count": 0
           },
           {
            "bin_start": -78.4892206,
            "bin_end": -78.3604055,
            "count": 0
           },
           {
            "bin_start": -78.3604055,
            "bin_end": -78.2315904,
            "count": 0
           },
           {
            "bin_start": -78.2315904,
            "bin_end": -78.1027753,
            "count": 0
           },
           {
            "bin_start": -78.1027753,
            "bin_end": -77.9739602,
            "count": 0
           },
           {
            "bin_start": -77.9739602,
            "bin_end": -77.8451451,
            "count": 0
           },
           {
            "bin_start": -77.8451451,
            "bin_end": -77.71633,
            "count": 1
           }
          ]
         }
        },
        {
         "name": "created_at",
         "dtype": "object",
         "stats": {
          "unique_count": 1,
          "nan_count": 0,
          "categories": [
           {
            "name": "13/03/2020",
            "count": 5
           }
          ]
         }
        },
        {
         "name": "_deepnote_index_column",
         "dtype": "int64"
        }
       ],
       "rows_top": [
        {
         "provincia": "Azuay",
         "poblacion": 881394,
         "total": 0,
         "nuevas": 0,
         "lat": -2.897414,
         "lng": -79.004481,
         "created_at": "13/03/2020",
         "_deepnote_index_column": 0
        },
        {
         "provincia": "Bolívar",
         "poblacion": 209933,
         "total": 0,
         "nuevas": 0,
         "lat": -1.605556,
         "lng": -79.003056,
         "created_at": "13/03/2020",
         "_deepnote_index_column": 1
        },
        {
         "provincia": "Carchi",
         "poblacion": 186869,
         "total": 0,
         "nuevas": 0,
         "lat": 0.81218,
         "lng": -77.71633,
         "created_at": "13/03/2020",
         "_deepnote_index_column": 2
        },
        {
         "provincia": "Cañar",
         "poblacion": 281396,
         "total": 0,
         "nuevas": 0,
         "lat": -2.733333,
         "lng": -78.833333,
         "created_at": "13/03/2020",
         "_deepnote_index_column": 3
        },
        {
         "provincia": "Chimborazo",
         "poblacion": 524004,
         "total": 0,
         "nuevas": 0,
         "lat": -1.674347,
         "lng": -78.648294,
         "created_at": "13/03/2020",
         "_deepnote_index_column": 4
        }
       ],
       "rows_bottom": null
      },
      "text/plain": "    provincia  poblacion  total  nuevas       lat        lng  created_at\n0       Azuay     881394      0       0 -2.897414 -79.004481  13/03/2020\n1     Bolívar     209933      0       0 -1.605556 -79.003056  13/03/2020\n2      Carchi     186869      0       0  0.812180 -77.716330  13/03/2020\n3       Cañar     281396      0       0 -2.733333 -78.833333  13/03/2020\n4  Chimborazo     524004      0       0 -1.674347 -78.648294  13/03/2020",
      "text/html": "<div>\n<style scoped>\n    .dataframe tbody tr th:only-of-type {\n        vertical-align: middle;\n    }\n\n    .dataframe tbody tr th {\n        vertical-align: top;\n    }\n\n    .dataframe thead th {\n        text-align: right;\n    }\n</style>\n<table border=\"1\" class=\"dataframe\">\n  <thead>\n    <tr style=\"text-align: right;\">\n      <th></th>\n      <th>provincia</th>\n      <th>poblacion</th>\n      <th>total</th>\n      <th>nuevas</th>\n      <th>lat</th>\n      <th>lng</th>\n      <th>created_at</th>\n    </tr>\n  </thead>\n  <tbody>\n    <tr>\n      <th>0</th>\n      <td>Azuay</td>\n      <td>881394</td>\n      <td>0</td>\n      <td>0</td>\n      <td>-2.897414</td>\n      <td>-79.004481</td>\n      <td>13/03/2020</td>\n    </tr>\n    <tr>\n      <th>1</th>\n      <td>Bolívar</td>\n      <td>209933</td>\n      <td>0</td>\n      <td>0</td>\n      <td>-1.605556</td>\n      <td>-79.003056</td>\n      <td>13/03/2020</td>\n    </tr>\n    <tr>\n      <th>2</th>\n      <td>Carchi</td>\n      <td>186869</td>\n      <td>0</td>\n      <td>0</td>\n      <td>0.812180</td>\n      <td>-77.716330</td>\n      <td>13/03/2020</td>\n    </tr>\n    <tr>\n      <th>3</th>\n      <td>Cañar</td>\n      <td>281396</td>\n      <td>0</td>\n      <td>0</td>\n      <td>-2.733333</td>\n      <td>-78.833333</td>\n      <td>13/03/2020</td>\n    </tr>\n    <tr>\n      <th>4</th>\n      <td>Chimborazo</td>\n      <td>524004</td>\n      <td>0</td>\n      <td>0</td>\n      <td>-1.674347</td>\n      <td>-78.648294</td>\n      <td>13/03/2020</td>\n    </tr>\n  </tbody>\n</table>\n</div>"
     },
     "metadata": {}
    }
   ],
   "execution_count": null
  },
  {
   "cell_type": "code",
   "metadata": {
    "tags": [],
    "cell_id": "00013-477874fb-5c4d-4755-8b42-9d2526ffe440",
    "deepnote_to_be_reexecuted": false,
    "source_hash": "f487c6f2",
    "execution_start": 1639862441784,
    "execution_millis": 6,
    "deepnote_output_heights": [
     177
    ],
    "deepnote_cell_type": "code"
   },
   "source": "df_positives_2021.head()",
   "outputs": [
    {
     "output_type": "execute_result",
     "execution_count": 36,
     "data": {
      "application/vnd.deepnote.dataframe.v2+json": {
       "row_count": 5,
       "column_count": 7,
       "columns": [
        {
         "name": "provincia",
         "dtype": "object",
         "stats": {
          "unique_count": 5,
          "nan_count": 0,
          "categories": [
           {
            "name": "Azuay",
            "count": 1
           },
           {
            "name": "Bolívar",
            "count": 1
           },
           {
            "name": "3 others",
            "count": 3
           }
          ]
         }
        },
        {
         "name": "poblacion",
         "dtype": "int64",
         "stats": {
          "unique_count": 5,
          "nan_count": 0,
          "min": "186869",
          "max": "881394",
          "histogram": [
           {
            "bin_start": 186869,
            "bin_end": 256321.5,
            "count": 2
           },
           {
            "bin_start": 256321.5,
            "bin_end": 325774,
            "count": 1
           },
           {
            "bin_start": 325774,
            "bin_end": 395226.5,
            "count": 0
           },
           {
            "bin_start": 395226.5,
            "bin_end": 464679,
            "count": 0
           },
           {
            "bin_start": 464679,
            "bin_end": 534131.5,
            "count": 1
           },
           {
            "bin_start": 534131.5,
            "bin_end": 603584,
            "count": 0
           },
           {
            "bin_start": 603584,
            "bin_end": 673036.5,
            "count": 0
           },
           {
            "bin_start": 673036.5,
            "bin_end": 742489,
            "count": 0
           },
           {
            "bin_start": 742489,
            "bin_end": 811941.5,
            "count": 0
           },
           {
            "bin_start": 811941.5,
            "bin_end": 881394,
            "count": 1
           }
          ]
         }
        },
        {
         "name": "total",
         "dtype": "int64",
         "stats": {
          "unique_count": 5,
          "nan_count": 0,
          "min": "2531",
          "max": "13605",
          "histogram": [
           {
            "bin_start": 2531,
            "bin_end": 3638.4,
            "count": 3
           },
           {
            "bin_start": 3638.4,
            "bin_end": 4745.8,
            "count": 1
           },
           {
            "bin_start": 4745.8,
            "bin_end": 5853.200000000001,
            "count": 0
           },
           {
            "bin_start": 5853.200000000001,
            "bin_end": 6960.6,
            "count": 0
           },
           {
            "bin_start": 6960.6,
            "bin_end": 8068,
            "count": 0
           },
           {
            "bin_start": 8068,
            "bin_end": 9175.400000000001,
            "count": 0
           },
           {
            "bin_start": 9175.400000000001,
            "bin_end": 10282.800000000001,
            "count": 0
           },
           {
            "bin_start": 10282.800000000001,
            "bin_end": 11390.2,
            "count": 0
           },
           {
            "bin_start": 11390.2,
            "bin_end": 12497.6,
            "count": 0
           },
           {
            "bin_start": 12497.6,
            "bin_end": 13605,
            "count": 1
           }
          ]
         }
        },
        {
         "name": "nuevas",
         "dtype": "int64",
         "stats": {
          "unique_count": 5,
          "nan_count": 0,
          "min": "4",
          "max": "48",
          "histogram": [
           {
            "bin_start": 4,
            "bin_end": 8.4,
            "count": 2
           },
           {
            "bin_start": 8.4,
            "bin_end": 12.8,
            "count": 0
           },
           {
            "bin_start": 12.8,
            "bin_end": 17.200000000000003,
            "count": 0
           },
           {
            "bin_start": 17.200000000000003,
            "bin_end": 21.6,
            "count": 0
           },
           {
            "bin_start": 21.6,
            "bin_end": 26,
            "count": 0
           },
           {
            "bin_start": 26,
            "bin_end": 30.400000000000002,
            "count": 0
           },
           {
            "bin_start": 30.400000000000002,
            "bin_end": 34.800000000000004,
            "count": 0
           },
           {
            "bin_start": 34.800000000000004,
            "bin_end": 39.2,
            "count": 1
           },
           {
            "bin_start": 39.2,
            "bin_end": 43.6,
            "count": 0
           },
           {
            "bin_start": 43.6,
            "bin_end": 48,
            "count": 2
           }
          ]
         }
        },
        {
         "name": "lat",
         "dtype": "float64",
         "stats": {
          "unique_count": 5,
          "nan_count": 0,
          "min": "-2.897414",
          "max": "0.81218",
          "histogram": [
           {
            "bin_start": -2.897414,
            "bin_end": -2.5264546,
            "count": 2
           },
           {
            "bin_start": -2.5264546,
            "bin_end": -2.1554952,
            "count": 0
           },
           {
            "bin_start": -2.1554952,
            "bin_end": -1.7845358,
            "count": 0
           },
           {
            "bin_start": -1.7845358,
            "bin_end": -1.4135764,
            "count": 2
           },
           {
            "bin_start": -1.4135764,
            "bin_end": -1.042617,
            "count": 0
           },
           {
            "bin_start": -1.042617,
            "bin_end": -0.6716576000000001,
            "count": 0
           },
           {
            "bin_start": -0.6716576000000001,
            "bin_end": -0.3006981999999998,
            "count": 0
           },
           {
            "bin_start": -0.3006981999999998,
            "bin_end": 0.07026120000000002,
            "count": 0
           },
           {
            "bin_start": 0.07026120000000002,
            "bin_end": 0.44122059999999985,
            "count": 0
           },
           {
            "bin_start": 0.44122059999999985,
            "bin_end": 0.81218,
            "count": 1
           }
          ]
         }
        },
        {
         "name": "lng",
         "dtype": "float64",
         "stats": {
          "unique_count": 5,
          "nan_count": 0,
          "min": "-79.004481",
          "max": "-77.71633",
          "histogram": [
           {
            "bin_start": -79.004481,
            "bin_end": -78.8756659,
            "count": 2
           },
           {
            "bin_start": -78.8756659,
            "bin_end": -78.7468508,
            "count": 1
           },
           {
            "bin_start": -78.7468508,
            "bin_end": -78.6180357,
            "count": 1
           },
           {
            "bin_start": -78.6180357,
            "bin_end": -78.4892206,
            "count": 0
           },
           {
            "bin_start": -78.4892206,
            "bin_end": -78.3604055,
            "count": 0
           },
           {
            "bin_start": -78.3604055,
            "bin_end": -78.2315904,
            "count": 0
           },
           {
            "bin_start": -78.2315904,
            "bin_end": -78.1027753,
            "count": 0
           },
           {
            "bin_start": -78.1027753,
            "bin_end": -77.9739602,
            "count": 0
           },
           {
            "bin_start": -77.9739602,
            "bin_end": -77.8451451,
            "count": 0
           },
           {
            "bin_start": -77.8451451,
            "bin_end": -77.71633,
            "count": 1
           }
          ]
         }
        },
        {
         "name": "created_at",
         "dtype": "object",
         "stats": {
          "unique_count": 1,
          "nan_count": 0,
          "categories": [
           {
            "name": "01/01/2021",
            "count": 5
           }
          ]
         }
        },
        {
         "name": "_deepnote_index_column",
         "dtype": "int64"
        }
       ],
       "rows_top": [
        {
         "provincia": "Azuay",
         "poblacion": 881394,
         "total": 13605,
         "nuevas": 48,
         "lat": -2.897414,
         "lng": -79.004481,
         "created_at": "01/01/2021",
         "_deepnote_index_column": 0
        },
        {
         "provincia": "Bolívar",
         "poblacion": 209933,
         "total": 2531,
         "nuevas": 4,
         "lat": -1.605556,
         "lng": -79.003056,
         "created_at": "01/01/2021",
         "_deepnote_index_column": 1
        },
        {
         "provincia": "Carchi",
         "poblacion": 186869,
         "total": 3667,
         "nuevas": 38,
         "lat": 0.81218,
         "lng": -77.71633,
         "created_at": "01/01/2021",
         "_deepnote_index_column": 2
        },
        {
         "provincia": "Cañar",
         "poblacion": 281396,
         "total": 2849,
         "nuevas": 45,
         "lat": -2.733333,
         "lng": -78.833333,
         "created_at": "01/01/2021",
         "_deepnote_index_column": 3
        },
        {
         "provincia": "Chimborazo",
         "poblacion": 524004,
         "total": 3260,
         "nuevas": 7,
         "lat": -1.674347,
         "lng": -78.648294,
         "created_at": "01/01/2021",
         "_deepnote_index_column": 4
        }
       ],
       "rows_bottom": null
      },
      "text/plain": "    provincia  poblacion  total  nuevas       lat        lng  created_at\n0       Azuay     881394  13605      48 -2.897414 -79.004481  01/01/2021\n1     Bolívar     209933   2531       4 -1.605556 -79.003056  01/01/2021\n2      Carchi     186869   3667      38  0.812180 -77.716330  01/01/2021\n3       Cañar     281396   2849      45 -2.733333 -78.833333  01/01/2021\n4  Chimborazo     524004   3260       7 -1.674347 -78.648294  01/01/2021",
      "text/html": "<div>\n<style scoped>\n    .dataframe tbody tr th:only-of-type {\n        vertical-align: middle;\n    }\n\n    .dataframe tbody tr th {\n        vertical-align: top;\n    }\n\n    .dataframe thead th {\n        text-align: right;\n    }\n</style>\n<table border=\"1\" class=\"dataframe\">\n  <thead>\n    <tr style=\"text-align: right;\">\n      <th></th>\n      <th>provincia</th>\n      <th>poblacion</th>\n      <th>total</th>\n      <th>nuevas</th>\n      <th>lat</th>\n      <th>lng</th>\n      <th>created_at</th>\n    </tr>\n  </thead>\n  <tbody>\n    <tr>\n      <th>0</th>\n      <td>Azuay</td>\n      <td>881394</td>\n      <td>13605</td>\n      <td>48</td>\n      <td>-2.897414</td>\n      <td>-79.004481</td>\n      <td>01/01/2021</td>\n    </tr>\n    <tr>\n      <th>1</th>\n      <td>Bolívar</td>\n      <td>209933</td>\n      <td>2531</td>\n      <td>4</td>\n      <td>-1.605556</td>\n      <td>-79.003056</td>\n      <td>01/01/2021</td>\n    </tr>\n    <tr>\n      <th>2</th>\n      <td>Carchi</td>\n      <td>186869</td>\n      <td>3667</td>\n      <td>38</td>\n      <td>0.812180</td>\n      <td>-77.716330</td>\n      <td>01/01/2021</td>\n    </tr>\n    <tr>\n      <th>3</th>\n      <td>Cañar</td>\n      <td>281396</td>\n      <td>2849</td>\n      <td>45</td>\n      <td>-2.733333</td>\n      <td>-78.833333</td>\n      <td>01/01/2021</td>\n    </tr>\n    <tr>\n      <th>4</th>\n      <td>Chimborazo</td>\n      <td>524004</td>\n      <td>3260</td>\n      <td>7</td>\n      <td>-1.674347</td>\n      <td>-78.648294</td>\n      <td>01/01/2021</td>\n    </tr>\n  </tbody>\n</table>\n</div>"
     },
     "metadata": {}
    }
   ],
   "execution_count": null
  },
  {
   "cell_type": "markdown",
   "source": "### Process data",
   "metadata": {
    "tags": [],
    "is_collapsed": false,
    "cell_id": "00017-64486f43-e0ef-4d62-a736-a5a07c240d4b",
    "deepnote_cell_type": "text-cell-h3"
   }
  },
  {
   "cell_type": "code",
   "metadata": {
    "tags": [],
    "cell_id": "00014-afdc3b87-132f-47e7-b286-103a89ed249e",
    "deepnote_to_be_reexecuted": false,
    "source_hash": "c212e6ba",
    "execution_start": 1639862441797,
    "execution_millis": 1,
    "deepnote_output_heights": [
     155.53125
    ],
    "deepnote_cell_type": "code"
   },
   "source": "df_positives_2020.dtypes",
   "outputs": [
    {
     "output_type": "execute_result",
     "execution_count": 11,
     "data": {
      "text/plain": "provincia      object\npoblacion       int64\ntotal           int64\nnuevas          int64\nlat           float64\nlng           float64\ncreated_at     object\ndtype: object"
     },
     "metadata": {}
    }
   ],
   "execution_count": null
  },
  {
   "cell_type": "code",
   "metadata": {
    "tags": [],
    "cell_id": "00015-5eabf76e-bf6d-4b1f-823e-81524bb5aafa",
    "deepnote_to_be_reexecuted": false,
    "source_hash": "beaefc73",
    "execution_start": 1639862441843,
    "execution_millis": 4,
    "deepnote_output_heights": [
     232.3125
    ],
    "deepnote_cell_type": "code"
   },
   "source": "df_positives_2020.created_at = pd.to_datetime(df_positives_2020.created_at, dayfirst=True)",
   "outputs": [],
   "execution_count": null
  },
  {
   "cell_type": "code",
   "metadata": {
    "tags": [],
    "cell_id": "00016-72653308-973d-456f-8a1a-10a76be24fd0",
    "deepnote_to_be_reexecuted": false,
    "source_hash": "a66575a9",
    "execution_start": 1639862441844,
    "execution_millis": 0,
    "deepnote_output_heights": [
     232.3125
    ],
    "deepnote_cell_type": "code"
   },
   "source": "df_positives_2021.created_at = pd.to_datetime(df_positives_2021.created_at, dayfirst=True)",
   "outputs": [],
   "execution_count": null
  },
  {
   "cell_type": "code",
   "metadata": {
    "tags": [],
    "cell_id": "00016-d4c2bff2-5674-4321-87a1-55c74acfe5b4",
    "deepnote_to_be_reexecuted": false,
    "source_hash": "eb658a54",
    "execution_start": 1639862441844,
    "execution_millis": 3,
    "deepnote_output_heights": [
     232.3125
    ],
    "deepnote_cell_type": "code"
   },
   "source": "df_positives_2021.created_at.dt.month",
   "outputs": [
    {
     "output_type": "execute_result",
     "execution_count": 14,
     "data": {
      "text/plain": "0        1\n1        1\n2        1\n3        1\n4        1\n        ..\n8035    12\n8036    12\n8037    12\n8038    12\n8039    12\nName: created_at, Length: 8040, dtype: int64"
     },
     "metadata": {}
    }
   ],
   "execution_count": null
  },
  {
   "cell_type": "code",
   "metadata": {
    "tags": [],
    "cell_id": "00013-5823a013-ed85-4aed-9edb-7dcbb9139193",
    "deepnote_to_be_reexecuted": false,
    "source_hash": "b9fcaf74",
    "execution_start": 1639862441846,
    "execution_millis": 1948,
    "deepnote_cell_type": "code"
   },
   "source": "import matplotlib.pyplot as plt \nimport seaborn as sns",
   "outputs": [],
   "execution_count": null
  },
  {
   "cell_type": "code",
   "metadata": {
    "tags": [],
    "cell_id": "00014-553be36d-191a-4980-b62d-3466a877b99e",
    "deepnote_to_be_reexecuted": false,
    "source_hash": "f2f79983",
    "execution_start": 1639862443802,
    "execution_millis": 46,
    "deepnote_cell_type": "code"
   },
   "source": "sns.set_theme()",
   "outputs": [],
   "execution_count": null
  },
  {
   "cell_type": "code",
   "metadata": {
    "tags": [],
    "cell_id": "00012-4efda0fa-65c8-4a1b-bf4b-9ebc80665a61",
    "deepnote_to_be_reexecuted": false,
    "source_hash": "bdaafa0d",
    "execution_start": 1639862443849,
    "execution_millis": 0,
    "deepnote_cell_type": "code"
   },
   "source": "df_positives = pd.concat([df_positives_2020, df_positives_2021], ignore_index=True)",
   "outputs": [],
   "execution_count": null
  },
  {
   "cell_type": "code",
   "metadata": {
    "tags": [],
    "cell_id": "00015-8e83a80d-3aae-41e4-8653-cb66ab2cba4d",
    "deepnote_to_be_reexecuted": false,
    "source_hash": "5eb95aa7",
    "execution_start": 1639862443850,
    "execution_millis": 546,
    "deepnote_output_heights": [
     21.1875,
     416
    ],
    "deepnote_cell_type": "code"
   },
   "source": "fig, ax = plt.subplots(figsize=(12, 7))\nplt.plot(df_positives_2020['created_at'], df_positives_2020['nuevas'])",
   "outputs": [
    {
     "output_type": "execute_result",
     "execution_count": 18,
     "data": {
      "text/plain": "[<matplotlib.lines.Line2D at 0x7f0cb34e1fd0>]"
     },
     "metadata": {}
    },
    {
     "data": {
      "text/plain": "<Figure size 864x504 with 1 Axes>",
      "image/png": "[encoded data removed]"
     },
     "metadata": {
      "image/png": {
       "width": 730,
       "height": 414
      }
     },
     "output_type": "display_data"
    }
   ],
   "execution_count": null
  },
  {
   "cell_type": "markdown",
   "source": "There're negative values. This must be a mistake, so I transform them into positive ones.",
   "metadata": {
    "tags": [],
    "cell_id": "00026-1405e2c9-93db-4d96-9d2b-94351b387c91",
    "deepnote_cell_type": "markdown"
   }
  },
  {
   "cell_type": "code",
   "metadata": {
    "tags": [],
    "cell_id": "00022-bf11e657-f6cd-468a-ac65-72efc84eb9b7",
    "deepnote_to_be_reexecuted": false,
    "source_hash": "5f4c6f7f",
    "execution_start": 1639862444404,
    "execution_millis": 15,
    "deepnote_cell_type": "code"
   },
   "source": "nuevas_to_replace = df_positives.query('nuevas < 0')['nuevas'].values\nnuevas_replaced = nuevas_to_replace * (-1)\ndf_positives['nuevas'].replace(nuevas_to_replace, nuevas_replaced, inplace=True)",
   "outputs": [],
   "execution_count": null
  },
  {
   "cell_type": "code",
   "metadata": {
    "tags": [],
    "cell_id": "00022-1045b526-cd7e-4218-857c-0d7815c3ac26",
    "deepnote_to_be_reexecuted": false,
    "source_hash": "e616b5c0",
    "execution_start": 1639862444534,
    "execution_millis": 448,
    "deepnote_output_heights": [
     21.1875,
     416
    ],
    "deepnote_cell_type": "code"
   },
   "source": "fig, ax = plt.subplots(figsize=(12, 7))\nplt.plot(df_positives['created_at'], df_positives['nuevas'])",
   "outputs": [
    {
     "output_type": "execute_result",
     "execution_count": 20,
     "data": {
      "text/plain": "[<matplotlib.lines.Line2D at 0x7f0cb34342d0>]"
     },
     "metadata": {}
    },
    {
     "data": {
      "text/plain": "<Figure size 864x504 with 1 Axes>",
      "image/png": "[encoded data removed]"
     },
     "metadata": {
      "image/png": {
       "width": 743,
       "height": 414
      }
     },
     "output_type": "display_data"
    }
   ],
   "execution_count": null
  },
  {
   "cell_type": "code",
   "metadata": {
    "tags": [],
    "cell_id": "00014-6ac7342a-05c9-4de6-9702-0c7e0ecfe598",
    "deepnote_to_be_reexecuted": false,
    "source_hash": "23a02e74",
    "execution_start": 1639862445035,
    "execution_millis": 4,
    "deepnote_output_heights": [
     155.53125
    ],
    "deepnote_cell_type": "code"
   },
   "source": "df_positives.dtypes",
   "outputs": [
    {
     "output_type": "execute_result",
     "execution_count": 21,
     "data": {
      "text/plain": "provincia             object\npoblacion              int64\ntotal                  int64\nnuevas                 int64\nlat                  float64\nlng                  float64\ncreated_at    datetime64[ns]\ndtype: object"
     },
     "metadata": {}
    }
   ],
   "execution_count": null
  },
  {
   "cell_type": "code",
   "metadata": {
    "tags": [],
    "cell_id": "00015-e1168fa2-be29-44e2-b256-d28d64a5ee66",
    "deepnote_to_be_reexecuted": false,
    "source_hash": "8273a1d6",
    "execution_start": 1639862445036,
    "execution_millis": 0,
    "deepnote_cell_type": "code"
   },
   "source": "df_positives.set_index('created_at', inplace=True)",
   "outputs": [],
   "execution_count": null
  },
  {
   "cell_type": "markdown",
   "source": "### Export data",
   "metadata": {
    "tags": [],
    "is_collapsed": false,
    "cell_id": "00031-382bd666-80b0-49e6-85ca-362f4bc04bb0",
    "deepnote_cell_type": "text-cell-h3"
   }
  },
  {
   "cell_type": "code",
   "metadata": {
    "tags": [],
    "cell_id": "00016-41797a3b-6aca-46b8-9473-ecc5a24c280a",
    "deepnote_to_be_reexecuted": false,
    "source_hash": "926c362e",
    "execution_start": 1639862445037,
    "execution_millis": 163,
    "deepnote_cell_type": "code"
   },
   "source": "df_positives.to_csv('/work/covid-19-EC-provinces/data/processed/positives.csv')",
   "outputs": [],
   "execution_count": null
  },
  {
   "cell_type": "markdown",
   "source": "<a style='text-decoration:none;line-height:16px;display:flex;color:#5B5B62;padding:10px;justify-content:end;' href='https://deepnote.com?utm_source=created-in-deepnote-cell&projectId=298bb443-d8b3-4731-ae95-ca4418ea078f' target=\"_blank\">\n<img alt='Created in deepnote.com' style='display:inline;max-height:16px;margin:0px;margin-right:7.5px;' src='data:image/svg+xml;base64,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' > </img>\nCreated in <span style='font-weight:600;margin-left:4px;'>Deepnote</span></a>",
   "metadata": {
    "tags": [],
    "created_in_deepnote_cell": true,
    "deepnote_cell_type": "markdown"
   }
  }
 ],
 "nbformat": 4,
 "nbformat_minor": 2,
 "metadata": {
  "orig_nbformat": 2,
  "deepnote": {
   "is_reactive": false
  },
  "deepnote_notebook_id": "44db7e6c-31b4-4603-a417-bdc77e96e90d",
  "deepnote_execution_queue": []
 }
}