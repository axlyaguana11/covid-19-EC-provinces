{
 "cells": [
  {
   "cell_type": "markdown",
   "source": "# Exploration: Ecuacovid",
   "metadata": {
    "tags": [],
    "is_collapsed": false,
    "cell_id": "00000-7d88ba55-9751-454d-9e8b-dca227ba92e5",
    "deepnote_cell_type": "text-cell-h1"
   }
  },
  {
   "cell_type": "markdown",
   "source": "Here I briefly take a look to tests.",
   "metadata": {
    "tags": [],
    "cell_id": "00001-e91a0c4e-931e-4862-ac2a-34e2806c26a0",
    "deepnote_cell_type": "markdown"
   }
  },
  {
   "cell_type": "code",
   "metadata": {
    "tags": [],
    "cell_id": "00000-2830c466-c03d-4ba6-b35b-70aab955ea1d",
    "deepnote_to_be_reexecuted": false,
    "source_hash": "28eb5f73",
    "execution_start": 1639869172938,
    "execution_millis": 808986275,
    "deepnote_cell_type": "code"
   },
   "source": "# %load_ext autoreload\n# %autoreload 2",
   "outputs": [],
   "execution_count": null
  },
  {
   "cell_type": "code",
   "metadata": {
    "tags": [],
    "cell_id": "00002-c75565a4-bb20-4d87-ac29-c9eeb88a21c7",
    "deepnote_to_be_reexecuted": false,
    "source_hash": "c516df8c",
    "execution_start": 1639869172939,
    "execution_millis": 4065,
    "deepnote_cell_type": "code"
   },
   "source": "#libs\nimport pandas as pd\nimport numpy as np\nimport matplotlib.pyplot as plt\nimport seaborn as sns",
   "outputs": [],
   "execution_count": null
  },
  {
   "cell_type": "code",
   "metadata": {
    "tags": [],
    "cell_id": "00003-410800f9-41b4-42dd-93fe-7be9488036c8",
    "deepnote_to_be_reexecuted": false,
    "source_hash": "8e2afd3e",
    "execution_start": 1639869177043,
    "execution_millis": 30,
    "deepnote_cell_type": "code"
   },
   "source": "df_ecuacovid = pd.read_csv('/work/covid-19-EC-provinces/data/processed/ecuacovid.csv')",
   "outputs": [],
   "execution_count": null
  },
  {
   "cell_type": "code",
   "metadata": {
    "tags": [],
    "cell_id": "00004-83efadb9-e2f3-4fb0-90b8-b88ba2e04aa4",
    "deepnote_to_be_reexecuted": false,
    "source_hash": "ff6c40ef",
    "execution_start": 1639869177094,
    "execution_millis": 910,
    "deepnote_output_heights": [
     208.1875
    ],
    "deepnote_cell_type": "code"
   },
   "source": "df_ecuacovid.head()",
   "outputs": [
    {
     "output_type": "execute_result",
     "execution_count": 4,
     "data": {
      "application/vnd.deepnote.dataframe.v3+json": {
       "column_count": 76,
       "row_count": 5,
       "columns": [
        {
         "name": "created_at",
         "dtype": "object",
         "stats": {
          "unique_count": 5,
          "nan_count": 0,
          "categories": [
           {
            "name": "2020-03-13",
            "count": 1
           },
           {
            "name": "2020-03-14",
            "count": 1
           },
           {
            "name": "3 others",
            "count": 3
           }
          ]
         }
        },
        {
         "name": "muestras",
         "dtype": "int64",
         "stats": {
          "unique_count": 5,
          "nan_count": 0,
          "min": "129",
          "max": "762",
          "histogram": [
           {
            "bin_start": 129,
            "bin_end": 192.3,
            "count": 1
           },
           {
            "bin_start": 192.3,
            "bin_end": 255.6,
            "count": 1
           },
           {
            "bin_start": 255.6,
            "bin_end": 318.9,
            "count": 1
           },
           {
            "bin_start": 318.9,
            "bin_end": 382.2,
            "count": 1
           },
           {
            "bin_start": 382.2,
            "bin_end": 445.5,
            "count": 0
           },
           {
            "bin_start": 445.5,
            "bin_end": 508.79999999999995,
            "count": 0
           },
           {
            "bin_start": 508.79999999999995,
            "bin_end": 572.0999999999999,
            "count": 0
           },
           {
            "bin_start": 572.0999999999999,
            "bin_end": 635.4,
            "count": 0
           },
           {
            "bin_start": 635.4,
            "bin_end": 698.6999999999999,
            "count": 0
           },
           {
            "bin_start": 698.6999999999999,
            "bin_end": 762,
            "count": 1
           }
          ]
         }
        },
        {
         "name": "muestras_pcr",
         "dtype": "int64",
         "stats": {
          "unique_count": 5,
          "nan_count": 0,
          "min": "129",
          "max": "762",
          "histogram": [
           {
            "bin_start": 129,
            "bin_end": 192.3,
            "count": 1
           },
           {
            "bin_start": 192.3,
            "bin_end": 255.6,
            "count": 1
           },
           {
            "bin_start": 255.6,
            "bin_end": 318.9,
            "count": 1
           },
           {
            "bin_start": 318.9,
            "bin_end": 382.2,
            "count": 1
           },
           {
            "bin_start": 382.2,
            "bin_end": 445.5,
            "count": 0
           },
           {
            "bin_start": 445.5,
            "bin_end": 508.79999999999995,
            "count": 0
           },
           {
            "bin_start": 508.79999999999995,
            "bin_end": 572.0999999999999,
            "count": 0
           },
           {
            "bin_start": 572.0999999999999,
            "bin_end": 635.4,
            "count": 0
           },
           {
            "bin_start": 635.4,
            "bin_end": 698.6999999999999,
            "count": 0
           },
           {
            "bin_start": 698.6999999999999,
            "bin_end": 762,
            "count": 1
           }
          ]
         }
        },
        {
         "name": "positivas_total",
         "dtype": "int64",
         "stats": {
          "unique_count": 1,
          "nan_count": 0,
          "min": "0",
          "max": "0",
          "histogram": [
           {
            "bin_start": -0.5,
            "bin_end": -0.4,
            "count": 0
           },
           {
            "bin_start": -0.4,
            "bin_end": -0.3,
            "count": 0
           },
           {
            "bin_start": -0.3,
            "bin_end": -0.19999999999999996,
            "count": 0
           },
           {
            "bin_start": -0.19999999999999996,
            "bin_end": -0.09999999999999998,
            "count": 0
           },
           {
            "bin_start": -0.09999999999999998,
            "bin_end": 0,
            "count": 0
           },
           {
            "bin_start": 0,
            "bin_end": 0.10000000000000009,
            "count": 5
           },
           {
            "bin_start": 0.10000000000000009,
            "bin_end": 0.20000000000000007,
            "count": 0
           },
           {
            "bin_start": 0.20000000000000007,
            "bin_end": 0.30000000000000004,
            "count": 0
           },
           {
            "bin_start": 0.30000000000000004,
            "bin_end": 0.4,
            "count": 0
           },
           {
            "bin_start": 0.4,
            "bin_end": 0.5,
            "count": 0
           }
          ]
         }
        },
        {
         "name": "positivas_probables",
         "dtype": "int64",
         "stats": {
          "unique_count": 1,
          "nan_count": 0,
          "min": "0",
          "max": "0",
          "histogram": [
           {
            "bin_start": -0.5,
            "bin_end": -0.4,
            "count": 0
           },
           {
            "bin_start": -0.4,
            "bin_end": -0.3,
            "count": 0
           },
           {
            "bin_start": -0.3,
            "bin_end": -0.19999999999999996,
            "count": 0
           },
           {
            "bin_start": -0.19999999999999996,
            "bin_end": -0.09999999999999998,
            "count": 0
           },
           {
            "bin_start": -0.09999999999999998,
            "bin_end": 0,
            "count": 0
           },
           {
            "bin_start": 0,
            "bin_end": 0.10000000000000009,
            "count": 5
           },
           {
            "bin_start": 0.10000000000000009,
            "bin_end": 0.20000000000000007,
            "count": 0
           },
           {
            "bin_start": 0.20000000000000007,
            "bin_end": 0.30000000000000004,
            "count": 0
           },
           {
            "bin_start": 0.30000000000000004,
            "bin_end": 0.4,
            "count": 0
           },
           {
            "bin_start": 0.4,
            "bin_end": 0.5,
            "count": 0
           }
          ]
         }
        },
        {
         "name": "muestras_pcr_nuevas",
         "dtype": "int64",
         "stats": {
          "unique_count": 5,
          "nan_count": 0,
          "min": "0",
          "max": "408",
          "histogram": [
           {
            "bin_start": 0,
            "bin_end": 40.8,
            "count": 1
           },
           {
            "bin_start": 40.8,
            "bin_end": 81.6,
            "count": 3
           },
           {
            "bin_start": 81.6,
            "bin_end": 122.39999999999999,
            "count": 0
           },
           {
            "bin_start": 122.39999999999999,
            "bin_end": 163.2,
            "count": 0
           },
           {
            "bin_start": 163.2,
            "bin_end": 204,
            "count": 0
           },
           {
            "bin_start": 204,
            "bin_end": 244.79999999999998,
            "count": 0
           },
           {
            "bin_start": 244.79999999999998,
            "bin_end": 285.59999999999997,
            "count": 0
           },
           {
            "bin_start": 285.59999999999997,
            "bin_end": 326.4,
            "count": 0
           },
           {
            "bin_start": 326.4,
            "bin_end": 367.2,
            "count": 0
           },
           {
            "bin_start": 367.2,
            "bin_end": 408,
            "count": 1
           }
          ]
         }
        },
        {
         "name": "pruebas_rezagadas",
         "dtype": "int64",
         "stats": {
          "unique_count": 5,
          "nan_count": 0,
          "min": "106",
          "max": "651",
          "histogram": [
           {
            "bin_start": 106,
            "bin_end": 160.5,
            "count": 1
           },
           {
            "bin_start": 160.5,
            "bin_end": 215,
            "count": 1
           },
           {
            "bin_start": 215,
            "bin_end": 269.5,
            "count": 1
           },
           {
            "bin_start": 269.5,
            "bin_end": 324,
            "count": 1
           },
           {
            "bin_start": 324,
            "bin_end": 378.5,
            "count": 0
           },
           {
            "bin_start": 378.5,
            "bin_end": 433,
            "count": 0
           },
           {
            "bin_start": 433,
            "bin_end": 487.5,
            "count": 0
           },
           {
            "bin_start": 487.5,
            "bin_end": 542,
            "count": 0
           },
           {
            "bin_start": 542,
            "bin_end": 596.5,
            "count": 0
           },
           {
            "bin_start": 596.5,
            "bin_end": 651,
            "count": 1
           }
          ]
         }
        },
        {
         "name": "muertes_confirmadas",
         "dtype": "int64",
         "stats": {
          "unique_count": 2,
          "nan_count": 0,
          "min": "1",
          "max": "2",
          "histogram": [
           {
            "bin_start": 1,
            "bin_end": 1.1,
            "count": 1
           },
           {
            "bin_start": 1.1,
            "bin_end": 1.2,
            "count": 0
           },
           {
            "bin_start": 1.2,
            "bin_end": 1.3,
            "count": 0
           },
           {
            "bin_start": 1.3,
            "bin_end": 1.4,
            "count": 0
           },
           {
            "bin_start": 1.4,
            "bin_end": 1.5,
            "count": 0
           },
           {
            "bin_start": 1.5,
            "bin_end": 1.6,
            "count": 0
           },
           {
            "bin_start": 1.6,
            "bin_end": 1.7000000000000002,
            "count": 0
           },
           {
            "bin_start": 1.7000000000000002,
            "bin_end": 1.8,
            "count": 0
           },
           {
            "bin_start": 1.8,
            "bin_end": 1.9,
            "count": 0
           },
           {
            "bin_start": 1.9,
            "bin_end": 2,
            "count": 4
           }
          ]
         }
        },
        {
         "name": "muertes_probables",
         "dtype": "int64",
         "stats": {
          "unique_count": 1,
          "nan_count": 0,
          "min": "0",
          "max": "0",
          "histogram": [
           {
            "bin_start": -0.5,
            "bin_end": -0.4,
            "count": 0
           },
           {
            "bin_start": -0.4,
            "bin_end": -0.3,
            "count": 0
           },
           {
            "bin_start": -0.3,
            "bin_end": -0.19999999999999996,
            "count": 0
           },
           {
            "bin_start": -0.19999999999999996,
            "bin_end": -0.09999999999999998,
            "count": 0
           },
           {
            "bin_start": -0.09999999999999998,
            "bin_end": 0,
            "count": 0
           },
           {
            "bin_start": 0,
            "bin_end": 0.10000000000000009,
            "count": 5
           },
           {
            "bin_start": 0.10000000000000009,
            "bin_end": 0.20000000000000007,
            "count": 0
           },
           {
            "bin_start": 0.20000000000000007,
            "bin_end": 0.30000000000000004,
            "count": 0
           },
           {
            "bin_start": 0.30000000000000004,
            "bin_end": 0.4,
            "count": 0
           },
           {
            "bin_start": 0.4,
            "bin_end": 0.5,
            "count": 0
           }
          ]
         }
        },
        {
         "name": "muertes",
         "dtype": "int64",
         "stats": {
          "unique_count": 2,
          "nan_count": 0,
          "min": "1",
          "max": "2",
          "histogram": [
           {
            "bin_start": 1,
            "bin_end": 1.1,
            "count": 1
           },
           {
            "bin_start": 1.1,
            "bin_end": 1.2,
            "count": 0
           },
           {
            "bin_start": 1.2,
            "bin_end": 1.3,
            "count": 0
           },
           {
            "bin_start": 1.3,
            "bin_end": 1.4,
            "count": 0
           },
           {
            "bin_start": 1.4,
            "bin_end": 1.5,
            "count": 0
           },
           {
            "bin_start": 1.5,
            "bin_end": 1.6,
            "count": 0
           },
           {
            "bin_start": 1.6,
            "bin_end": 1.7000000000000002,
            "count": 0
           },
           {
            "bin_start": 1.7000000000000002,
            "bin_end": 1.8,
            "count": 0
           },
           {
            "bin_start": 1.8,
            "bin_end": 1.9,
            "count": 0
           },
           {
            "bin_start": 1.9,
            "bin_end": 2,
            "count": 4
           }
          ]
         }
        },
        {
         "name": "muertes_nuevas",
         "dtype": "int64",
         "stats": {
          "unique_count": 2,
          "nan_count": 0,
          "min": "0",
          "max": "1",
          "histogram": [
           {
            "bin_start": 0,
            "bin_end": 0.1,
            "count": 4
           },
           {
            "bin_start": 0.1,
            "bin_end": 0.2,
            "count": 0
           },
           {
            "bin_start": 0.2,
            "bin_end": 0.30000000000000004,
            "count": 0
           },
           {
            "bin_start": 0.30000000000000004,
            "bin_end": 0.4,
            "count": 0
           },
           {
            "bin_start": 0.4,
            "bin_end": 0.5,
            "count": 0
           },
           {
            "bin_start": 0.5,
            "bin_end": 0.6000000000000001,
            "count": 0
           },
           {
            "bin_start": 0.6000000000000001,
            "bin_end": 0.7000000000000001,
            "count": 0
           },
           {
            "bin_start": 0.7000000000000001,
            "bin_end": 0.8,
            "count": 0
           },
           {
            "bin_start": 0.8,
            "bin_end": 0.9,
            "count": 0
           },
           {
            "bin_start": 0.9,
            "bin_end": 1,
            "count": 1
           }
          ]
         }
        },
        {
         "name": "positivas",
         "dtype": "int64",
         "stats": {
          "unique_count": 5,
          "nan_count": 0,
          "min": "23",
          "max": "111",
          "histogram": [
           {
            "bin_start": 23,
            "bin_end": 31.8,
            "count": 2
           },
           {
            "bin_start": 31.8,
            "bin_end": 40.6,
            "count": 1
           },
           {
            "bin_start": 40.6,
            "bin_end": 49.400000000000006,
            "count": 0
           },
           {
            "bin_start": 49.400000000000006,
            "bin_end": 58.2,
            "count": 1
           },
           {
            "bin_start": 58.2,
            "bin_end": 67,
            "count": 0
           },
           {
            "bin_start": 67,
            "bin_end": 75.80000000000001,
            "count": 0
           },
           {
            "bin_start": 75.80000000000001,
            "bin_end": 84.60000000000001,
            "count": 0
           },
           {
            "bin_start": 84.60000000000001,
            "bin_end": 93.4,
            "count": 0
           },
           {
            "bin_start": 93.4,
            "bin_end": 102.2,
            "count": 0
           },
           {
            "bin_start": 102.2,
            "bin_end": 111,
            "count": 1
           }
          ]
         }
        },
        {
         "name": "positivas_pcr",
         "dtype": "int64",
         "stats": {
          "unique_count": 5,
          "nan_count": 0,
          "min": "23",
          "max": "111",
          "histogram": [
           {
            "bin_start": 23,
            "bin_end": 31.8,
            "count": 2
           },
           {
            "bin_start": 31.8,
            "bin_end": 40.6,
            "count": 1
           },
           {
            "bin_start": 40.6,
            "bin_end": 49.400000000000006,
            "count": 0
           },
           {
            "bin_start": 49.400000000000006,
            "bin_end": 58.2,
            "count": 1
           },
           {
            "bin_start": 58.2,
            "bin_end": 67,
            "count": 0
           },
           {
            "bin_start": 67,
            "bin_end": 75.80000000000001,
            "count": 0
           },
           {
            "bin_start": 75.80000000000001,
            "bin_end": 84.60000000000001,
            "count": 0
           },
           {
            "bin_start": 84.60000000000001,
            "bin_end": 93.4,
            "count": 0
           },
           {
            "bin_start": 93.4,
            "bin_end": 102.2,
            "count": 0
           },
           {
            "bin_start": 102.2,
            "bin_end": 111,
            "count": 1
           }
          ]
         }
        },
        {
         "name": "positivas_pcr_nuevas",
         "dtype": "int64",
         "stats": {
          "unique_count": 5,
          "nan_count": 0,
          "min": "0",
          "max": "53",
          "histogram": [
           {
            "bin_start": 0,
            "bin_end": 5.3,
            "count": 2
           },
           {
            "bin_start": 5.3,
            "bin_end": 10.6,
            "count": 1
           },
           {
            "bin_start": 10.6,
            "bin_end": 15.899999999999999,
            "count": 0
           },
           {
            "bin_start": 15.899999999999999,
            "bin_end": 21.2,
            "count": 1
           },
           {
            "bin_start": 21.2,
            "bin_end": 26.5,
            "count": 0
           },
           {
            "bin_start": 26.5,
            "bin_end": 31.799999999999997,
            "count": 0
           },
           {
            "bin_start": 31.799999999999997,
            "bin_end": 37.1,
            "count": 0
           },
           {
            "bin_start": 37.1,
            "bin_end": 42.4,
            "count": 0
           },
           {
            "bin_start": 42.4,
            "bin_end": 47.699999999999996,
            "count": 0
           },
           {
            "bin_start": 47.699999999999996,
            "bin_end": 53,
            "count": 1
           }
          ]
         }
        },
        {
         "name": "positivas_pcr_mujer",
         "dtype": "int64",
         "stats": {
          "unique_count": 1,
          "nan_count": 0,
          "min": "0",
          "max": "0",
          "histogram": [
           {
            "bin_start": -0.5,
            "bin_end": -0.4,
            "count": 0
           },
           {
            "bin_start": -0.4,
            "bin_end": -0.3,
            "count": 0
           },
           {
            "bin_start": -0.3,
            "bin_end": -0.19999999999999996,
            "count": 0
           },
           {
            "bin_start": -0.19999999999999996,
            "bin_end": -0.09999999999999998,
            "count": 0
           },
           {
            "bin_start": -0.09999999999999998,
            "bin_end": 0,
            "count": 0
           },
           {
            "bin_start": 0,
            "bin_end": 0.10000000000000009,
            "count": 5
           },
           {
            "bin_start": 0.10000000000000009,
            "bin_end": 0.20000000000000007,
            "count": 0
           },
           {
            "bin_start": 0.20000000000000007,
            "bin_end": 0.30000000000000004,
            "count": 0
           },
           {
            "bin_start": 0.30000000000000004,
            "bin_end": 0.4,
            "count": 0
           },
           {
            "bin_start": 0.4,
            "bin_end": 0.5,
            "count": 0
           }
          ]
         }
        },
        {
         "name": "positivas_pcr_hombre",
         "dtype": "int64",
         "stats": {
          "unique_count": 1,
          "nan_count": 0,
          "min": "0",
          "max": "0",
          "histogram": [
           {
            "bin_start": -0.5,
            "bin_end": -0.4,
            "count": 0
           },
           {
            "bin_start": -0.4,
            "bin_end": -0.3,
            "count": 0
           },
           {
            "bin_start": -0.3,
            "bin_end": -0.19999999999999996,
            "count": 0
           },
           {
            "bin_start": -0.19999999999999996,
            "bin_end": -0.09999999999999998,
            "count": 0
           },
           {
            "bin_start": -0.09999999999999998,
            "bin_end": 0,
            "count": 0
           },
           {
            "bin_start": 0,
            "bin_end": 0.10000000000000009,
            "count": 5
           },
           {
            "bin_start": 0.10000000000000009,
            "bin_end": 0.20000000000000007,
            "count": 0
           },
           {
            "bin_start": 0.20000000000000007,
            "bin_end": 0.30000000000000004,
            "count": 0
           },
           {
            "bin_start": 0.30000000000000004,
            "bin_end": 0.4,
            "count": 0
           },
           {
            "bin_start": 0.4,
            "bin_end": 0.5,
            "count": 0
           }
          ]
         }
        },
        {
         "name": "positivas_pcr_hombre_edades_meses",
         "dtype": "int64",
         "stats": {
          "unique_count": 1,
          "nan_count": 0,
          "min": "0",
          "max": "0",
          "histogram": [
           {
            "bin_start": -0.5,
            "bin_end": -0.4,
            "count": 0
           },
           {
            "bin_start": -0.4,
            "bin_end": -0.3,
            "count": 0
           },
           {
            "bin_start": -0.3,
            "bin_end": -0.19999999999999996,
            "count": 0
           },
           {
            "bin_start": -0.19999999999999996,
            "bin_end": -0.09999999999999998,
            "count": 0
           },
           {
            "bin_start": -0.09999999999999998,
            "bin_end": 0,
            "count": 0
           },
           {
            "bin_start": 0,
            "bin_end": 0.10000000000000009,
            "count": 5
           },
           {
            "bin_start": 0.10000000000000009,
            "bin_end": 0.20000000000000007,
            "count": 0
           },
           {
            "bin_start": 0.20000000000000007,
            "bin_end": 0.30000000000000004,
            "count": 0
           },
           {
            "bin_start": 0.30000000000000004,
            "bin_end": 0.4,
            "count": 0
           },
           {
            "bin_start": 0.4,
            "bin_end": 0.5,
            "count": 0
           }
          ]
         }
        },
        {
         "name": "positivas_pcr_hombre_edades_0a4",
         "dtype": "int64",
         "stats": {
          "unique_count": 1,
          "nan_count": 0,
          "min": "0",
          "max": "0",
          "histogram": [
           {
            "bin_start": -0.5,
            "bin_end": -0.4,
            "count": 0
           },
           {
            "bin_start": -0.4,
            "bin_end": -0.3,
            "count": 0
           },
           {
            "bin_start": -0.3,
            "bin_end": -0.19999999999999996,
            "count": 0
           },
           {
            "bin_start": -0.19999999999999996,
            "bin_end": -0.09999999999999998,
            "count": 0
           },
           {
            "bin_start": -0.09999999999999998,
            "bin_end": 0,
            "count": 0
           },
           {
            "bin_start": 0,
            "bin_end": 0.10000000000000009,
            "count": 5
           },
           {
            "bin_start": 0.10000000000000009,
            "bin_end": 0.20000000000000007,
            "count": 0
           },
           {
            "bin_start": 0.20000000000000007,
            "bin_end": 0.30000000000000004,
            "count": 0
           },
           {
            "bin_start": 0.30000000000000004,
            "bin_end": 0.4,
            "count": 0
           },
           {
            "bin_start": 0.4,
            "bin_end": 0.5,
            "count": 0
           }
          ]
         }
        },
        {
         "name": "positivas_pcr_hombre_edades_5a9",
         "dtype": "int64",
         "stats": {
          "unique_count": 1,
          "nan_count": 0,
          "min": "0",
          "max": "0",
          "histogram": [
           {
            "bin_start": -0.5,
            "bin_end": -0.4,
            "count": 0
           },
           {
            "bin_start": -0.4,
            "bin_end": -0.3,
            "count": 0
           },
           {
            "bin_start": -0.3,
            "bin_end": -0.19999999999999996,
            "count": 0
           },
           {
            "bin_start": -0.19999999999999996,
            "bin_end": -0.09999999999999998,
            "count": 0
           },
           {
            "bin_start": -0.09999999999999998,
            "bin_end": 0,
            "count": 0
           },
           {
            "bin_start": 0,
            "bin_end": 0.10000000000000009,
            "count": 5
           },
           {
            "bin_start": 0.10000000000000009,
            "bin_end": 0.20000000000000007,
            "count": 0
           },
           {
            "bin_start": 0.20000000000000007,
            "bin_end": 0.30000000000000004,
            "count": 0
           },
           {
            "bin_start": 0.30000000000000004,
            "bin_end": 0.4,
            "count": 0
           },
           {
            "bin_start": 0.4,
            "bin_end": 0.5,
            "count": 0
           }
          ]
         }
        },
        {
         "name": "positivas_pcr_hombre_edades_10a14",
         "dtype": "int64",
         "stats": {
          "unique_count": 1,
          "nan_count": 0,
          "min": "0",
          "max": "0",
          "histogram": [
           {
            "bin_start": -0.5,
            "bin_end": -0.4,
            "count": 0
           },
           {
            "bin_start": -0.4,
            "bin_end": -0.3,
            "count": 0
           },
           {
            "bin_start": -0.3,
            "bin_end": -0.19999999999999996,
            "count": 0
           },
           {
            "bin_start": -0.19999999999999996,
            "bin_end": -0.09999999999999998,
            "count": 0
           },
           {
            "bin_start": -0.09999999999999998,
            "bin_end": 0,
            "count": 0
           },
           {
            "bin_start": 0,
            "bin_end": 0.10000000000000009,
            "count": 5
           },
           {
            "bin_start": 0.10000000000000009,
            "bin_end": 0.20000000000000007,
            "count": 0
           },
           {
            "bin_start": 0.20000000000000007,
            "bin_end": 0.30000000000000004,
            "count": 0
           },
           {
            "bin_start": 0.30000000000000004,
            "bin_end": 0.4,
            "count": 0
           },
           {
            "bin_start": 0.4,
            "bin_end": 0.5,
            "count": 0
           }
          ]
         }
        },
        {
         "name": "positivas_pcr_hombre_edades_15a19",
         "dtype": "int64",
         "stats": {
          "unique_count": 1,
          "nan_count": 0,
          "min": "0",
          "max": "0",
          "histogram": [
           {
            "bin_start": -0.5,
            "bin_end": -0.4,
            "count": 0
           },
           {
            "bin_start": -0.4,
            "bin_end": -0.3,
            "count": 0
           },
           {
            "bin_start": -0.3,
            "bin_end": -0.19999999999999996,
            "count": 0
           },
           {
            "bin_start": -0.19999999999999996,
            "bin_end": -0.09999999999999998,
            "count": 0
           },
           {
            "bin_start": -0.09999999999999998,
            "bin_end": 0,
            "count": 0
           },
           {
            "bin_start": 0,
            "bin_end": 0.10000000000000009,
            "count": 5
           },
           {
            "bin_start": 0.10000000000000009,
            "bin_end": 0.20000000000000007,
            "count": 0
           },
           {
            "bin_start": 0.20000000000000007,
            "bin_end": 0.30000000000000004,
            "count": 0
           },
           {
            "bin_start": 0.30000000000000004,
            "bin_end": 0.4,
            "count": 0
           },
           {
            "bin_start": 0.4,
            "bin_end": 0.5,
            "count": 0
           }
          ]
         }
        },
        {
         "name": "positivas_pcr_hombre_edades_20a49",
         "dtype": "int64",
         "stats": {
          "unique_count": 1,
          "nan_count": 0,
          "min": "0",
          "max": "0",
          "histogram": [
           {
            "bin_start": -0.5,
            "bin_end": -0.4,
            "count": 0
           },
           {
            "bin_start": -0.4,
            "bin_end": -0.3,
            "count": 0
           },
           {
            "bin_start": -0.3,
            "bin_end": -0.19999999999999996,
            "count": 0
           },
           {
            "bin_start": -0.19999999999999996,
            "bin_end": -0.09999999999999998,
            "count": 0
           },
           {
            "bin_start": -0.09999999999999998,
            "bin_end": 0,
            "count": 0
           },
           {
            "bin_start": 0,
            "bin_end": 0.10000000000000009,
            "count": 5
           },
           {
            "bin_start": 0.10000000000000009,
            "bin_end": 0.20000000000000007,
            "count": 0
           },
           {
            "bin_start": 0.20000000000000007,
            "bin_end": 0.30000000000000004,
            "count": 0
           },
           {
            "bin_start": 0.30000000000000004,
            "bin_end": 0.4,
            "count": 0
           },
           {
            "bin_start": 0.4,
            "bin_end": 0.5,
            "count": 0
           }
          ]
         }
        },
        {
         "name": "positivas_pcr_hombre_edades_50a64",
         "dtype": "int64",
         "stats": {
          "unique_count": 1,
          "nan_count": 0,
          "min": "0",
          "max": "0",
          "histogram": [
           {
            "bin_start": -0.5,
            "bin_end": -0.4,
            "count": 0
           },
           {
            "bin_start": -0.4,
            "bin_end": -0.3,
            "count": 0
           },
           {
            "bin_start": -0.3,
            "bin_end": -0.19999999999999996,
            "count": 0
           },
           {
            "bin_start": -0.19999999999999996,
            "bin_end": -0.09999999999999998,
            "count": 0
           },
           {
            "bin_start": -0.09999999999999998,
            "bin_end": 0,
            "count": 0
           },
           {
            "bin_start": 0,
            "bin_end": 0.10000000000000009,
            "count": 5
           },
           {
            "bin_start": 0.10000000000000009,
            "bin_end": 0.20000000000000007,
            "count": 0
           },
           {
            "bin_start": 0.20000000000000007,
            "bin_end": 0.30000000000000004,
            "count": 0
           },
           {
            "bin_start": 0.30000000000000004,
            "bin_end": 0.4,
            "count": 0
           },
           {
            "bin_start": 0.4,
            "bin_end": 0.5,
            "count": 0
           }
          ]
         }
        },
        {
         "name": "positivas_pcr_hombre_edades_65an",
         "dtype": "int64",
         "stats": {
          "unique_count": 1,
          "nan_count": 0,
          "min": "0",
          "max": "0",
          "histogram": [
           {
            "bin_start": -0.5,
            "bin_end": -0.4,
            "count": 0
           },
           {
            "bin_start": -0.4,
            "bin_end": -0.3,
            "count": 0
           },
           {
            "bin_start": -0.3,
            "bin_end": -0.19999999999999996,
            "count": 0
           },
           {
            "bin_start": -0.19999999999999996,
            "bin_end": -0.09999999999999998,
            "count": 0
           },
           {
            "bin_start": -0.09999999999999998,
            "bin_end": 0,
            "count": 0
           },
           {
            "bin_start": 0,
            "bin_end": 0.10000000000000009,
            "count": 5
           },
           {
            "bin_start": 0.10000000000000009,
            "bin_end": 0.20000000000000007,
            "count": 0
           },
           {
            "bin_start": 0.20000000000000007,
            "bin_end": 0.30000000000000004,
            "count": 0
           },
           {
            "bin_start": 0.30000000000000004,
            "bin_end": 0.4,
            "count": 0
           },
           {
            "bin_start": 0.4,
            "bin_end": 0.5,
            "count": 0
           }
          ]
         }
        },
        {
         "name": "positivas_pcr_mujer_edades_meses",
         "dtype": "int64",
         "stats": {
          "unique_count": 1,
          "nan_count": 0,
          "min": "0",
          "max": "0",
          "histogram": [
           {
            "bin_start": -0.5,
            "bin_end": -0.4,
            "count": 0
           },
           {
            "bin_start": -0.4,
            "bin_end": -0.3,
            "count": 0
           },
           {
            "bin_start": -0.3,
            "bin_end": -0.19999999999999996,
            "count": 0
           },
           {
            "bin_start": -0.19999999999999996,
            "bin_end": -0.09999999999999998,
            "count": 0
           },
           {
            "bin_start": -0.09999999999999998,
            "bin_end": 0,
            "count": 0
           },
           {
            "bin_start": 0,
            "bin_end": 0.10000000000000009,
            "count": 5
           },
           {
            "bin_start": 0.10000000000000009,
            "bin_end": 0.20000000000000007,
            "count": 0
           },
           {
            "bin_start": 0.20000000000000007,
            "bin_end": 0.30000000000000004,
            "count": 0
           },
           {
            "bin_start": 0.30000000000000004,
            "bin_end": 0.4,
            "count": 0
           },
           {
            "bin_start": 0.4,
            "bin_end": 0.5,
            "count": 0
           }
          ]
         }
        },
        {
         "name": "positivas_pcr_mujer_edades_0a4",
         "dtype": "int64",
         "stats": {
          "unique_count": 1,
          "nan_count": 0,
          "min": "0",
          "max": "0",
          "histogram": [
           {
            "bin_start": -0.5,
            "bin_end": -0.4,
            "count": 0
           },
           {
            "bin_start": -0.4,
            "bin_end": -0.3,
            "count": 0
           },
           {
            "bin_start": -0.3,
            "bin_end": -0.19999999999999996,
            "count": 0
           },
           {
            "bin_start": -0.19999999999999996,
            "bin_end": -0.09999999999999998,
            "count": 0
           },
           {
            "bin_start": -0.09999999999999998,
            "bin_end": 0,
            "count": 0
           },
           {
            "bin_start": 0,
            "bin_end": 0.10000000000000009,
            "count": 5
           },
           {
            "bin_start": 0.10000000000000009,
            "bin_end": 0.20000000000000007,
            "count": 0
           },
           {
            "bin_start": 0.20000000000000007,
            "bin_end": 0.30000000000000004,
            "count": 0
           },
           {
            "bin_start": 0.30000000000000004,
            "bin_end": 0.4,
            "count": 0
           },
           {
            "bin_start": 0.4,
            "bin_end": 0.5,
            "count": 0
           }
          ]
         }
        },
        {
         "name": "positivas_pcr_mujer_edades_5a9",
         "dtype": "int64",
         "stats": {
          "unique_count": 1,
          "nan_count": 0,
          "min": "0",
          "max": "0",
          "histogram": [
           {
            "bin_start": -0.5,
            "bin_end": -0.4,
            "count": 0
           },
           {
            "bin_start": -0.4,
            "bin_end": -0.3,
            "count": 0
           },
           {
            "bin_start": -0.3,
            "bin_end": -0.19999999999999996,
            "count": 0
           },
           {
            "bin_start": -0.19999999999999996,
            "bin_end": -0.09999999999999998,
            "count": 0
           },
           {
            "bin_start": -0.09999999999999998,
            "bin_end": 0,
            "count": 0
           },
           {
            "bin_start": 0,
            "bin_end": 0.10000000000000009,
            "count": 5
           },
           {
            "bin_start": 0.10000000000000009,
            "bin_end": 0.20000000000000007,
            "count": 0
           },
           {
            "bin_start": 0.20000000000000007,
            "bin_end": 0.30000000000000004,
            "count": 0
           },
           {
            "bin_start": 0.30000000000000004,
            "bin_end": 0.4,
            "count": 0
           },
           {
            "bin_start": 0.4,
            "bin_end": 0.5,
            "count": 0
           }
          ]
         }
        },
        {
         "name": "positivas_pcr_mujer_edades_10a14",
         "dtype": "int64",
         "stats": {
          "unique_count": 1,
          "nan_count": 0,
          "min": "0",
          "max": "0",
          "histogram": [
           {
            "bin_start": -0.5,
            "bin_end": -0.4,
            "count": 0
           },
           {
            "bin_start": -0.4,
            "bin_end": -0.3,
            "count": 0
           },
           {
            "bin_start": -0.3,
            "bin_end": -0.19999999999999996,
            "count": 0
           },
           {
            "bin_start": -0.19999999999999996,
            "bin_end": -0.09999999999999998,
            "count": 0
           },
           {
            "bin_start": -0.09999999999999998,
            "bin_end": 0,
            "count": 0
           },
           {
            "bin_start": 0,
            "bin_end": 0.10000000000000009,
            "count": 5
           },
           {
            "bin_start": 0.10000000000000009,
            "bin_end": 0.20000000000000007,
            "count": 0
           },
           {
            "bin_start": 0.20000000000000007,
            "bin_end": 0.30000000000000004,
            "count": 0
           },
           {
            "bin_start": 0.30000000000000004,
            "bin_end": 0.4,
            "count": 0
           },
           {
            "bin_start": 0.4,
            "bin_end": 0.5,
            "count": 0
           }
          ]
         }
        },
        {
         "name": "positivas_pcr_mujer_edades_15a19",
         "dtype": "int64",
         "stats": {
          "unique_count": 1,
          "nan_count": 0,
          "min": "0",
          "max": "0",
          "histogram": [
           {
            "bin_start": -0.5,
            "bin_end": -0.4,
            "count": 0
           },
           {
            "bin_start": -0.4,
            "bin_end": -0.3,
            "count": 0
           },
           {
            "bin_start": -0.3,
            "bin_end": -0.19999999999999996,
            "count": 0
           },
           {
            "bin_start": -0.19999999999999996,
            "bin_end": -0.09999999999999998,
            "count": 0
           },
           {
            "bin_start": -0.09999999999999998,
            "bin_end": 0,
            "count": 0
           },
           {
            "bin_start": 0,
            "bin_end": 0.10000000000000009,
            "count": 5
           },
           {
            "bin_start": 0.10000000000000009,
            "bin_end": 0.20000000000000007,
            "count": 0
           },
           {
            "bin_start": 0.20000000000000007,
            "bin_end": 0.30000000000000004,
            "count": 0
           },
           {
            "bin_start": 0.30000000000000004,
            "bin_end": 0.4,
            "count": 0
           },
           {
            "bin_start": 0.4,
            "bin_end": 0.5,
            "count": 0
           }
          ]
         }
        },
        {
         "name": "positivas_pcr_mujer_edades_20a49",
         "dtype": "int64",
         "stats": {
          "unique_count": 1,
          "nan_count": 0,
          "min": "0",
          "max": "0",
          "histogram": [
           {
            "bin_start": -0.5,
            "bin_end": -0.4,
            "count": 0
           },
           {
            "bin_start": -0.4,
            "bin_end": -0.3,
            "count": 0
           },
           {
            "bin_start": -0.3,
            "bin_end": -0.19999999999999996,
            "count": 0
           },
           {
            "bin_start": -0.19999999999999996,
            "bin_end": -0.09999999999999998,
            "count": 0
           },
           {
            "bin_start": -0.09999999999999998,
            "bin_end": 0,
            "count": 0
           },
           {
            "bin_start": 0,
            "bin_end": 0.10000000000000009,
            "count": 5
           },
           {
            "bin_start": 0.10000000000000009,
            "bin_end": 0.20000000000000007,
            "count": 0
           },
           {
            "bin_start": 0.20000000000000007,
            "bin_end": 0.30000000000000004,
            "count": 0
           },
           {
            "bin_start": 0.30000000000000004,
            "bin_end": 0.4,
            "count": 0
           },
           {
            "bin_start": 0.4,
            "bin_end": 0.5,
            "count": 0
           }
          ]
         }
        },
        {
         "name": "positivas_pcr_mujer_edades_50a64",
         "dtype": "int64",
         "stats": {
          "unique_count": 1,
          "nan_count": 0,
          "min": "0",
          "max": "0",
          "histogram": [
           {
            "bin_start": -0.5,
            "bin_end": -0.4,
            "count": 0
           },
           {
            "bin_start": -0.4,
            "bin_end": -0.3,
            "count": 0
           },
           {
            "bin_start": -0.3,
            "bin_end": -0.19999999999999996,
            "count": 0
           },
           {
            "bin_start": -0.19999999999999996,
            "bin_end": -0.09999999999999998,
            "count": 0
           },
           {
            "bin_start": -0.09999999999999998,
            "bin_end": 0,
            "count": 0
           },
           {
            "bin_start": 0,
            "bin_end": 0.10000000000000009,
            "count": 5
           },
           {
            "bin_start": 0.10000000000000009,
            "bin_end": 0.20000000000000007,
            "count": 0
           },
           {
            "bin_start": 0.20000000000000007,
            "bin_end": 0.30000000000000004,
            "count": 0
           },
           {
            "bin_start": 0.30000000000000004,
            "bin_end": 0.4,
            "count": 0
           },
           {
            "bin_start": 0.4,
            "bin_end": 0.5,
            "count": 0
           }
          ]
         }
        },
        {
         "name": "positivas_pcr_mujer_edades_65an",
         "dtype": "int64",
         "stats": {
          "unique_count": 1,
          "nan_count": 0,
          "min": "0",
          "max": "0",
          "histogram": [
           {
            "bin_start": -0.5,
            "bin_end": -0.4,
            "count": 0
           },
           {
            "bin_start": -0.4,
            "bin_end": -0.3,
            "count": 0
           },
           {
            "bin_start": -0.3,
            "bin_end": -0.19999999999999996,
            "count": 0
           },
           {
            "bin_start": -0.19999999999999996,
            "bin_end": -0.09999999999999998,
            "count": 0
           },
           {
            "bin_start": -0.09999999999999998,
            "bin_end": 0,
            "count": 0
           },
           {
            "bin_start": 0,
            "bin_end": 0.10000000000000009,
            "count": 5
           },
           {
            "bin_start": 0.10000000000000009,
            "bin_end": 0.20000000000000007,
            "count": 0
           },
           {
            "bin_start": 0.20000000000000007,
            "bin_end": 0.30000000000000004,
            "count": 0
           },
           {
            "bin_start": 0.30000000000000004,
            "bin_end": 0.4,
            "count": 0
           },
           {
            "bin_start": 0.4,
            "bin_end": 0.5,
            "count": 0
           }
          ]
         }
        },
        {
         "name": "positivas_rapidas",
         "dtype": "int64",
         "stats": {
          "unique_count": 1,
          "nan_count": 0,
          "min": "0",
          "max": "0",
          "histogram": [
           {
            "bin_start": -0.5,
            "bin_end": -0.4,
            "count": 0
           },
           {
            "bin_start": -0.4,
            "bin_end": -0.3,
            "count": 0
           },
           {
            "bin_start": -0.3,
            "bin_end": -0.19999999999999996,
            "count": 0
           },
           {
            "bin_start": -0.19999999999999996,
            "bin_end": -0.09999999999999998,
            "count": 0
           },
           {
            "bin_start": -0.09999999999999998,
            "bin_end": 0,
            "count": 0
           },
           {
            "bin_start": 0,
            "bin_end": 0.10000000000000009,
            "count": 5
           },
           {
            "bin_start": 0.10000000000000009,
            "bin_end": 0.20000000000000007,
            "count": 0
           },
           {
            "bin_start": 0.20000000000000007,
            "bin_end": 0.30000000000000004,
            "count": 0
           },
           {
            "bin_start": 0.30000000000000004,
            "bin_end": 0.4,
            "count": 0
           },
           {
            "bin_start": 0.4,
            "bin_end": 0.5,
            "count": 0
           }
          ]
         }
        },
        {
         "name": "negativas",
         "dtype": "int64",
         "stats": {
          "unique_count": 1,
          "nan_count": 0,
          "min": "0",
          "max": "0",
          "histogram": [
           {
            "bin_start": -0.5,
            "bin_end": -0.4,
            "count": 0
           },
           {
            "bin_start": -0.4,
            "bin_end": -0.3,
            "count": 0
           },
           {
            "bin_start": -0.3,
            "bin_end": -0.19999999999999996,
            "count": 0
           },
           {
            "bin_start": -0.19999999999999996,
            "bin_end": -0.09999999999999998,
            "count": 0
           },
           {
            "bin_start": -0.09999999999999998,
            "bin_end": 0,
            "count": 0
           },
           {
            "bin_start": 0,
            "bin_end": 0.10000000000000009,
            "count": 5
           },
           {
            "bin_start": 0.10000000000000009,
            "bin_end": 0.20000000000000007,
            "count": 0
           },
           {
            "bin_start": 0.20000000000000007,
            "bin_end": 0.30000000000000004,
            "count": 0
           },
           {
            "bin_start": 0.30000000000000004,
            "bin_end": 0.4,
            "count": 0
           },
           {
            "bin_start": 0.4,
            "bin_end": 0.5,
            "count": 0
           }
          ]
         }
        },
        {
         "name": "negativas_pcr",
         "dtype": "int64",
         "stats": {
          "unique_count": 1,
          "nan_count": 0,
          "min": "0",
          "max": "0",
          "histogram": [
           {
            "bin_start": -0.5,
            "bin_end": -0.4,
            "count": 0
           },
           {
            "bin_start": -0.4,
            "bin_end": -0.3,
            "count": 0
           },
           {
            "bin_start": -0.3,
            "bin_end": -0.19999999999999996,
            "count": 0
           },
           {
            "bin_start": -0.19999999999999996,
            "bin_end": -0.09999999999999998,
            "count": 0
           },
           {
            "bin_start": -0.09999999999999998,
            "bin_end": 0,
            "count": 0
           },
           {
            "bin_start": 0,
            "bin_end": 0.10000000000000009,
            "count": 5
           },
           {
            "bin_start": 0.10000000000000009,
            "bin_end": 0.20000000000000007,
            "count": 0
           },
           {
            "bin_start": 0.20000000000000007,
            "bin_end": 0.30000000000000004,
            "count": 0
           },
           {
            "bin_start": 0.30000000000000004,
            "bin_end": 0.4,
            "count": 0
           },
           {
            "bin_start": 0.4,
            "bin_end": 0.5,
            "count": 0
           }
          ]
         }
        },
        {
         "name": "negativas_pcr_nuevas",
         "dtype": "int64",
         "stats": {
          "unique_count": 1,
          "nan_count": 0,
          "min": "0",
          "max": "0",
          "histogram": [
           {
            "bin_start": -0.5,
            "bin_end": -0.4,
            "count": 0
           },
           {
            "bin_start": -0.4,
            "bin_end": -0.3,
            "count": 0
           },
           {
            "bin_start": -0.3,
            "bin_end": -0.19999999999999996,
            "count": 0
           },
           {
            "bin_start": -0.19999999999999996,
            "bin_end": -0.09999999999999998,
            "count": 0
           },
           {
            "bin_start": -0.09999999999999998,
            "bin_end": 0,
            "count": 0
           },
           {
            "bin_start": 0,
            "bin_end": 0.10000000000000009,
            "count": 5
           },
           {
            "bin_start": 0.10000000000000009,
            "bin_end": 0.20000000000000007,
            "count": 0
           },
           {
            "bin_start": 0.20000000000000007,
            "bin_end": 0.30000000000000004,
            "count": 0
           },
           {
            "bin_start": 0.30000000000000004,
            "bin_end": 0.4,
            "count": 0
           },
           {
            "bin_start": 0.4,
            "bin_end": 0.5,
            "count": 0
           }
          ]
         }
        },
        {
         "name": "negativas_rapidas",
         "dtype": "int64",
         "stats": {
          "unique_count": 1,
          "nan_count": 0,
          "min": "0",
          "max": "0",
          "histogram": [
           {
            "bin_start": -0.5,
            "bin_end": -0.4,
            "count": 0
           },
           {
            "bin_start": -0.4,
            "bin_end": -0.3,
            "count": 0
           },
           {
            "bin_start": -0.3,
            "bin_end": -0.19999999999999996,
            "count": 0
           },
           {
            "bin_start": -0.19999999999999996,
            "bin_end": -0.09999999999999998,
            "count": 0
           },
           {
            "bin_start": -0.09999999999999998,
            "bin_end": 0,
            "count": 0
           },
           {
            "bin_start": 0,
            "bin_end": 0.10000000000000009,
            "count": 5
           },
           {
            "bin_start": 0.10000000000000009,
            "bin_end": 0.20000000000000007,
            "count": 0
           },
           {
            "bin_start": 0.20000000000000007,
            "bin_end": 0.30000000000000004,
            "count": 0
           },
           {
            "bin_start": 0.30000000000000004,
            "bin_end": 0.4,
            "count": 0
           },
           {
            "bin_start": 0.4,
            "bin_end": 0.5,
            "count": 0
           }
          ]
         }
        },
        {
         "name": "hospitalizadas_altas",
         "dtype": "int64",
         "stats": {
          "unique_count": 1,
          "nan_count": 0,
          "min": "0",
          "max": "0",
          "histogram": [
           {
            "bin_start": -0.5,
            "bin_end": -0.4,
            "count": 0
           },
           {
            "bin_start": -0.4,
            "bin_end": -0.3,
            "count": 0
           },
           {
            "bin_start": -0.3,
            "bin_end": -0.19999999999999996,
            "count": 0
           },
           {
            "bin_start": -0.19999999999999996,
            "bin_end": -0.09999999999999998,
            "count": 0
           },
           {
            "bin_start": -0.09999999999999998,
            "bin_end": 0,
            "count": 0
           },
           {
            "bin_start": 0,
            "bin_end": 0.10000000000000009,
            "count": 5
           },
           {
            "bin_start": 0.10000000000000009,
            "bin_end": 0.20000000000000007,
            "count": 0
           },
           {
            "bin_start": 0.20000000000000007,
            "bin_end": 0.30000000000000004,
            "count": 0
           },
           {
            "bin_start": 0.30000000000000004,
            "bin_end": 0.4,
            "count": 0
           },
           {
            "bin_start": 0.4,
            "bin_end": 0.5,
            "count": 0
           }
          ]
         }
        },
        {
         "name": "hospitalizadas_estables",
         "dtype": "int64",
         "stats": {
          "unique_count": 3,
          "nan_count": 0,
          "min": "0",
          "max": "9",
          "histogram": [
           {
            "bin_start": 0,
            "bin_end": 0.9,
            "count": 1
           },
           {
            "bin_start": 0.9,
            "bin_end": 1.8,
            "count": 0
           },
           {
            "bin_start": 1.8,
            "bin_end": 2.7,
            "count": 0
           },
           {
            "bin_start": 2.7,
            "bin_end": 3.6,
            "count": 0
           },
           {
            "bin_start": 3.6,
            "bin_end": 4.5,
            "count": 0
           },
           {
            "bin_start": 4.5,
            "bin_end": 5.4,
            "count": 0
           },
           {
            "bin_start": 5.4,
            "bin_end": 6.3,
            "count": 0
           },
           {
            "bin_start": 6.3,
            "bin_end": 7.2,
            "count": 2
           },
           {
            "bin_start": 7.2,
            "bin_end": 8.1,
            "count": 0
           },
           {
            "bin_start": 8.1,
            "bin_end": 9,
            "count": 2
           }
          ]
         }
        },
        {
         "name": "hospitalizadas_pronostico_reservadas",
         "dtype": "int64",
         "stats": {
          "unique_count": 4,
          "nan_count": 0,
          "min": "1",
          "max": "5",
          "histogram": [
           {
            "bin_start": 1,
            "bin_end": 1.4,
            "count": 1
           },
           {
            "bin_start": 1.4,
            "bin_end": 1.8,
            "count": 0
           },
           {
            "bin_start": 1.8,
            "bin_end": 2.2,
            "count": 1
           },
           {
            "bin_start": 2.2,
            "bin_end": 2.6,
            "count": 0
           },
           {
            "bin_start": 2.6,
            "bin_end": 3,
            "count": 0
           },
           {
            "bin_start": 3,
            "bin_end": 3.4000000000000004,
            "count": 1
           },
           {
            "bin_start": 3.4000000000000004,
            "bin_end": 3.8000000000000003,
            "count": 0
           },
           {
            "bin_start": 3.8000000000000003,
            "bin_end": 4.2,
            "count": 0
           },
           {
            "bin_start": 4.2,
            "bin_end": 4.6,
            "count": 0
           },
           {
            "bin_start": 4.6,
            "bin_end": 5,
            "count": 2
           }
          ]
         }
        },
        {
         "name": "msp_hospitalizacion_camas_porcentaje_ocupadas",
         "dtype": "int64",
         "stats": {
          "unique_count": 1,
          "nan_count": 0,
          "min": "0",
          "max": "0",
          "histogram": [
           {
            "bin_start": -0.5,
            "bin_end": -0.4,
            "count": 0
           },
           {
            "bin_start": -0.4,
            "bin_end": -0.3,
            "count": 0
           },
           {
            "bin_start": -0.3,
            "bin_end": -0.19999999999999996,
            "count": 0
           },
           {
            "bin_start": -0.19999999999999996,
            "bin_end": -0.09999999999999998,
            "count": 0
           },
           {
            "bin_start": -0.09999999999999998,
            "bin_end": 0,
            "count": 0
           },
           {
            "bin_start": 0,
            "bin_end": 0.10000000000000009,
            "count": 5
           },
           {
            "bin_start": 0.10000000000000009,
            "bin_end": 0.20000000000000007,
            "count": 0
           },
           {
            "bin_start": 0.20000000000000007,
            "bin_end": 0.30000000000000004,
            "count": 0
           },
           {
            "bin_start": 0.30000000000000004,
            "bin_end": 0.4,
            "count": 0
           },
           {
            "bin_start": 0.4,
            "bin_end": 0.5,
            "count": 0
           }
          ]
         }
        },
        {
         "name": "msp_hospitalizacion_lista_espera",
         "dtype": "int64",
         "stats": {
          "unique_count": 1,
          "nan_count": 0,
          "min": "0",
          "max": "0",
          "histogram": [
           {
            "bin_start": -0.5,
            "bin_end": -0.4,
            "count": 0
           },
           {
            "bin_start": -0.4,
            "bin_end": -0.3,
            "count": 0
           },
           {
            "bin_start": -0.3,
            "bin_end": -0.19999999999999996,
            "count": 0
           },
           {
            "bin_start": -0.19999999999999996,
            "bin_end": -0.09999999999999998,
            "count": 0
           },
           {
            "bin_start": -0.09999999999999998,
            "bin_end": 0,
            "count": 0
           },
           {
            "bin_start": 0,
            "bin_end": 0.10000000000000009,
            "count": 5
           },
           {
            "bin_start": 0.10000000000000009,
            "bin_end": 0.20000000000000007,
            "count": 0
           },
           {
            "bin_start": 0.20000000000000007,
            "bin_end": 0.30000000000000004,
            "count": 0
           },
           {
            "bin_start": 0.30000000000000004,
            "bin_end": 0.4,
            "count": 0
           },
           {
            "bin_start": 0.4,
            "bin_end": 0.5,
            "count": 0
           }
          ]
         }
        },
        {
         "name": "msp_hospitalizacion_camas_asignadas",
         "dtype": "int64",
         "stats": {
          "unique_count": 1,
          "nan_count": 0,
          "min": "0",
          "max": "0",
          "histogram": [
           {
            "bin_start": -0.5,
            "bin_end": -0.4,
            "count": 0
           },
           {
            "bin_start": -0.4,
            "bin_end": -0.3,
            "count": 0
           },
           {
            "bin_start": -0.3,
            "bin_end": -0.19999999999999996,
            "count": 0
           },
           {
            "bin_start": -0.19999999999999996,
            "bin_end": -0.09999999999999998,
            "count": 0
           },
           {
            "bin_start": -0.09999999999999998,
            "bin_end": 0,
            "count": 0
           },
           {
            "bin_start": 0,
            "bin_end": 0.10000000000000009,
            "count": 5
           },
           {
            "bin_start": 0.10000000000000009,
            "bin_end": 0.20000000000000007,
            "count": 0
           },
           {
            "bin_start": 0.20000000000000007,
            "bin_end": 0.30000000000000004,
            "count": 0
           },
           {
            "bin_start": 0.30000000000000004,
            "bin_end": 0.4,
            "count": 0
           },
           {
            "bin_start": 0.4,
            "bin_end": 0.5,
            "count": 0
           }
          ]
         }
        },
        {
         "name": "msp_hospitalizacion_camas_ocupadas",
         "dtype": "int64",
         "stats": {
          "unique_count": 1,
          "nan_count": 0,
          "min": "0",
          "max": "0",
          "histogram": [
           {
            "bin_start": -0.5,
            "bin_end": -0.4,
            "count": 0
           },
           {
            "bin_start": -0.4,
            "bin_end": -0.3,
            "count": 0
           },
           {
            "bin_start": -0.3,
            "bin_end": -0.19999999999999996,
            "count": 0
           },
           {
            "bin_start": -0.19999999999999996,
            "bin_end": -0.09999999999999998,
            "count": 0
           },
           {
            "bin_start": -0.09999999999999998,
            "bin_end": 0,
            "count": 0
           },
           {
            "bin_start": 0,
            "bin_end": 0.10000000000000009,
            "count": 5
           },
           {
            "bin_start": 0.10000000000000009,
            "bin_end": 0.20000000000000007,
            "count": 0
           },
           {
            "bin_start": 0.20000000000000007,
            "bin_end": 0.30000000000000004,
            "count": 0
           },
           {
            "bin_start": 0.30000000000000004,
            "bin_end": 0.4,
            "count": 0
           },
           {
            "bin_start": 0.4,
            "bin_end": 0.5,
            "count": 0
           }
          ]
         }
        },
        {
         "name": "msp_cuidado_intermedio_camas_porcentaje_ocupadas",
         "dtype": "int64",
         "stats": {
          "unique_count": 1,
          "nan_count": 0,
          "min": "0",
          "max": "0",
          "histogram": [
           {
            "bin_start": -0.5,
            "bin_end": -0.4,
            "count": 0
           },
           {
            "bin_start": -0.4,
            "bin_end": -0.3,
            "count": 0
           },
           {
            "bin_start": -0.3,
            "bin_end": -0.19999999999999996,
            "count": 0
           },
           {
            "bin_start": -0.19999999999999996,
            "bin_end": -0.09999999999999998,
            "count": 0
           },
           {
            "bin_start": -0.09999999999999998,
            "bin_end": 0,
            "count": 0
           },
           {
            "bin_start": 0,
            "bin_end": 0.10000000000000009,
            "count": 5
           },
           {
            "bin_start": 0.10000000000000009,
            "bin_end": 0.20000000000000007,
            "count": 0
           },
           {
            "bin_start": 0.20000000000000007,
            "bin_end": 0.30000000000000004,
            "count": 0
           },
           {
            "bin_start": 0.30000000000000004,
            "bin_end": 0.4,
            "count": 0
           },
           {
            "bin_start": 0.4,
            "bin_end": 0.5,
            "count": 0
           }
          ]
         }
        },
        {
         "name": "msp_cuidado_intermedio_lista_espera",
         "dtype": "int64",
         "stats": {
          "unique_count": 1,
          "nan_count": 0,
          "min": "0",
          "max": "0",
          "histogram": [
           {
            "bin_start": -0.5,
            "bin_end": -0.4,
            "count": 0
           },
           {
            "bin_start": -0.4,
            "bin_end": -0.3,
            "count": 0
           },
           {
            "bin_start": -0.3,
            "bin_end": -0.19999999999999996,
            "count": 0
           },
           {
            "bin_start": -0.19999999999999996,
            "bin_end": -0.09999999999999998,
            "count": 0
           },
           {
            "bin_start": -0.09999999999999998,
            "bin_end": 0,
            "count": 0
           },
           {
            "bin_start": 0,
            "bin_end": 0.10000000000000009,
            "count": 5
           },
           {
            "bin_start": 0.10000000000000009,
            "bin_end": 0.20000000000000007,
            "count": 0
           },
           {
            "bin_start": 0.20000000000000007,
            "bin_end": 0.30000000000000004,
            "count": 0
           },
           {
            "bin_start": 0.30000000000000004,
            "bin_end": 0.4,
            "count": 0
           },
           {
            "bin_start": 0.4,
            "bin_end": 0.5,
            "count": 0
           }
          ]
         }
        },
        {
         "name": "msp_cuidado_intermedio_camas_asignadas",
         "dtype": "int64",
         "stats": {
          "unique_count": 1,
          "nan_count": 0,
          "min": "0",
          "max": "0",
          "histogram": [
           {
            "bin_start": -0.5,
            "bin_end": -0.4,
            "count": 0
           },
           {
            "bin_start": -0.4,
            "bin_end": -0.3,
            "count": 0
           },
           {
            "bin_start": -0.3,
            "bin_end": -0.19999999999999996,
            "count": 0
           },
           {
            "bin_start": -0.19999999999999996,
            "bin_end": -0.09999999999999998,
            "count": 0
           },
           {
            "bin_start": -0.09999999999999998,
            "bin_end": 0,
            "count": 0
           },
           {
            "bin_start": 0,
            "bin_end": 0.10000000000000009,
            "count": 5
           },
           {
            "bin_start": 0.10000000000000009,
            "bin_end": 0.20000000000000007,
            "count": 0
           },
           {
            "bin_start": 0.20000000000000007,
            "bin_end": 0.30000000000000004,
            "count": 0
           },
           {
            "bin_start": 0.30000000000000004,
            "bin_end": 0.4,
            "count": 0
           },
           {
            "bin_start": 0.4,
            "bin_end": 0.5,
            "count": 0
           }
          ]
         }
        },
        {
         "name": "msp_cuidado_intermedio_camas_ocupadas",
         "dtype": "int64",
         "stats": {
          "unique_count": 1,
          "nan_count": 0,
          "min": "0",
          "max": "0",
          "histogram": [
           {
            "bin_start": -0.5,
            "bin_end": -0.4,
            "count": 0
           },
           {
            "bin_start": -0.4,
            "bin_end": -0.3,
            "count": 0
           },
           {
            "bin_start": -0.3,
            "bin_end": -0.19999999999999996,
            "count": 0
           },
           {
            "bin_start": -0.19999999999999996,
            "bin_end": -0.09999999999999998,
            "count": 0
           },
           {
            "bin_start": -0.09999999999999998,
            "bin_end": 0,
            "count": 0
           },
           {
            "bin_start": 0,
            "bin_end": 0.10000000000000009,
            "count": 5
           },
           {
            "bin_start": 0.10000000000000009,
            "bin_end": 0.20000000000000007,
            "count": 0
           },
           {
            "bin_start": 0.20000000000000007,
            "bin_end": 0.30000000000000004,
            "count": 0
           },
           {
            "bin_start": 0.30000000000000004,
            "bin_end": 0.4,
            "count": 0
           },
           {
            "bin_start": 0.4,
            "bin_end": 0.5,
            "count": 0
           }
          ]
         }
        },
        {
         "name": "msp_uci_camas_porcentaje_ocupadas",
         "dtype": "int64",
         "stats": {
          "unique_count": 1,
          "nan_count": 0,
          "min": "0",
          "max": "0",
          "histogram": [
           {
            "bin_start": -0.5,
            "bin_end": -0.4,
            "count": 0
           },
           {
            "bin_start": -0.4,
            "bin_end": -0.3,
            "count": 0
           },
           {
            "bin_start": -0.3,
            "bin_end": -0.19999999999999996,
            "count": 0
           },
           {
            "bin_start": -0.19999999999999996,
            "bin_end": -0.09999999999999998,
            "count": 0
           },
           {
            "bin_start": -0.09999999999999998,
            "bin_end": 0,
            "count": 0
           },
           {
            "bin_start": 0,
            "bin_end": 0.10000000000000009,
            "count": 5
           },
           {
            "bin_start": 0.10000000000000009,
            "bin_end": 0.20000000000000007,
            "count": 0
           },
           {
            "bin_start": 0.20000000000000007,
            "bin_end": 0.30000000000000004,
            "count": 0
           },
           {
            "bin_start": 0.30000000000000004,
            "bin_end": 0.4,
            "count": 0
           },
           {
            "bin_start": 0.4,
            "bin_end": 0.5,
            "count": 0
           }
          ]
         }
        },
        {
         "name": "msp_uci_lista_espera",
         "dtype": "int64",
         "stats": {
          "unique_count": 1,
          "nan_count": 0,
          "min": "0",
          "max": "0",
          "histogram": [
           {
            "bin_start": -0.5,
            "bin_end": -0.4,
            "count": 0
           },
           {
            "bin_start": -0.4,
            "bin_end": -0.3,
            "count": 0
           },
           {
            "bin_start": -0.3,
            "bin_end": -0.19999999999999996,
            "count": 0
           },
           {
            "bin_start": -0.19999999999999996,
            "bin_end": -0.09999999999999998,
            "count": 0
           },
           {
            "bin_start": -0.09999999999999998,
            "bin_end": 0,
            "count": 0
           },
           {
            "bin_start": 0,
            "bin_end": 0.10000000000000009,
            "count": 5
           },
           {
            "bin_start": 0.10000000000000009,
            "bin_end": 0.20000000000000007,
            "count": 0
           },
           {
            "bin_start": 0.20000000000000007,
            "bin_end": 0.30000000000000004,
            "count": 0
           },
           {
            "bin_start": 0.30000000000000004,
            "bin_end": 0.4,
            "count": 0
           },
           {
            "bin_start": 0.4,
            "bin_end": 0.5,
            "count": 0
           }
          ]
         }
        },
        {
         "name": "msp_uci_camas_asignadas",
         "dtype": "int64",
         "stats": {
          "unique_count": 1,
          "nan_count": 0,
          "min": "0",
          "max": "0",
          "histogram": [
           {
            "bin_start": -0.5,
            "bin_end": -0.4,
            "count": 0
           },
           {
            "bin_start": -0.4,
            "bin_end": -0.3,
            "count": 0
           },
           {
            "bin_start": -0.3,
            "bin_end": -0.19999999999999996,
            "count": 0
           },
           {
            "bin_start": -0.19999999999999996,
            "bin_end": -0.09999999999999998,
            "count": 0
           },
           {
            "bin_start": -0.09999999999999998,
            "bin_end": 0,
            "count": 0
           },
           {
            "bin_start": 0,
            "bin_end": 0.10000000000000009,
            "count": 5
           },
           {
            "bin_start": 0.10000000000000009,
            "bin_end": 0.20000000000000007,
            "count": 0
           },
           {
            "bin_start": 0.20000000000000007,
            "bin_end": 0.30000000000000004,
            "count": 0
           },
           {
            "bin_start": 0.30000000000000004,
            "bin_end": 0.4,
            "count": 0
           },
           {
            "bin_start": 0.4,
            "bin_end": 0.5,
            "count": 0
           }
          ]
         }
        },
        {
         "name": "msp_uci_camas_ocupadas",
         "dtype": "int64",
         "stats": {
          "unique_count": 1,
          "nan_count": 0,
          "min": "0",
          "max": "0",
          "histogram": [
           {
            "bin_start": -0.5,
            "bin_end": -0.4,
            "count": 0
           },
           {
            "bin_start": -0.4,
            "bin_end": -0.3,
            "count": 0
           },
           {
            "bin_start": -0.3,
            "bin_end": -0.19999999999999996,
            "count": 0
           },
           {
            "bin_start": -0.19999999999999996,
            "bin_end": -0.09999999999999998,
            "count": 0
           },
           {
            "bin_start": -0.09999999999999998,
            "bin_end": 0,
            "count": 0
           },
           {
            "bin_start": 0,
            "bin_end": 0.10000000000000009,
            "count": 5
           },
           {
            "bin_start": 0.10000000000000009,
            "bin_end": 0.20000000000000007,
            "count": 0
           },
           {
            "bin_start": 0.20000000000000007,
            "bin_end": 0.30000000000000004,
            "count": 0
           },
           {
            "bin_start": 0.30000000000000004,
            "bin_end": 0.4,
            "count": 0
           },
           {
            "bin_start": 0.4,
            "bin_end": 0.5,
            "count": 0
           }
          ]
         }
        },
        {
         "name": "rpis_hospitalizacion_camas_porcentaje_ocupadas",
         "dtype": "int64",
         "stats": {
          "unique_count": 1,
          "nan_count": 0,
          "min": "0",
          "max": "0",
          "histogram": [
           {
            "bin_start": -0.5,
            "bin_end": -0.4,
            "count": 0
           },
           {
            "bin_start": -0.4,
            "bin_end": -0.3,
            "count": 0
           },
           {
            "bin_start": -0.3,
            "bin_end": -0.19999999999999996,
            "count": 0
           },
           {
            "bin_start": -0.19999999999999996,
            "bin_end": -0.09999999999999998,
            "count": 0
           },
           {
            "bin_start": -0.09999999999999998,
            "bin_end": 0,
            "count": 0
           },
           {
            "bin_start": 0,
            "bin_end": 0.10000000000000009,
            "count": 5
           },
           {
            "bin_start": 0.10000000000000009,
            "bin_end": 0.20000000000000007,
            "count": 0
           },
           {
            "bin_start": 0.20000000000000007,
            "bin_end": 0.30000000000000004,
            "count": 0
           },
           {
            "bin_start": 0.30000000000000004,
            "bin_end": 0.4,
            "count": 0
           },
           {
            "bin_start": 0.4,
            "bin_end": 0.5,
            "count": 0
           }
          ]
         }
        },
        {
         "name": "rpis_hospitalizacion_lista_espera",
         "dtype": "int64",
         "stats": {
          "unique_count": 1,
          "nan_count": 0,
          "min": "0",
          "max": "0",
          "histogram": [
           {
            "bin_start": -0.5,
            "bin_end": -0.4,
            "count": 0
           },
           {
            "bin_start": -0.4,
            "bin_end": -0.3,
            "count": 0
           },
           {
            "bin_start": -0.3,
            "bin_end": -0.19999999999999996,
            "count": 0
           },
           {
            "bin_start": -0.19999999999999996,
            "bin_end": -0.09999999999999998,
            "count": 0
           },
           {
            "bin_start": -0.09999999999999998,
            "bin_end": 0,
            "count": 0
           },
           {
            "bin_start": 0,
            "bin_end": 0.10000000000000009,
            "count": 5
           },
           {
            "bin_start": 0.10000000000000009,
            "bin_end": 0.20000000000000007,
            "count": 0
           },
           {
            "bin_start": 0.20000000000000007,
            "bin_end": 0.30000000000000004,
            "count": 0
           },
           {
            "bin_start": 0.30000000000000004,
            "bin_end": 0.4,
            "count": 0
           },
           {
            "bin_start": 0.4,
            "bin_end": 0.5,
            "count": 0
           }
          ]
         }
        },
        {
         "name": "rpis_hospitalizacion_camas_asignadas",
         "dtype": "int64",
         "stats": {
          "unique_count": 1,
          "nan_count": 0,
          "min": "0",
          "max": "0",
          "histogram": [
           {
            "bin_start": -0.5,
            "bin_end": -0.4,
            "count": 0
           },
           {
            "bin_start": -0.4,
            "bin_end": -0.3,
            "count": 0
           },
           {
            "bin_start": -0.3,
            "bin_end": -0.19999999999999996,
            "count": 0
           },
           {
            "bin_start": -0.19999999999999996,
            "bin_end": -0.09999999999999998,
            "count": 0
           },
           {
            "bin_start": -0.09999999999999998,
            "bin_end": 0,
            "count": 0
           },
           {
            "bin_start": 0,
            "bin_end": 0.10000000000000009,
            "count": 5
           },
           {
            "bin_start": 0.10000000000000009,
            "bin_end": 0.20000000000000007,
            "count": 0
           },
           {
            "bin_start": 0.20000000000000007,
            "bin_end": 0.30000000000000004,
            "count": 0
           },
           {
            "bin_start": 0.30000000000000004,
            "bin_end": 0.4,
            "count": 0
           },
           {
            "bin_start": 0.4,
            "bin_end": 0.5,
            "count": 0
           }
          ]
         }
        },
        {
         "name": "rpis_hospitalizacion_camas_ocupadas",
         "dtype": "int64",
         "stats": {
          "unique_count": 1,
          "nan_count": 0,
          "min": "0",
          "max": "0",
          "histogram": [
           {
            "bin_start": -0.5,
            "bin_end": -0.4,
            "count": 0
           },
           {
            "bin_start": -0.4,
            "bin_end": -0.3,
            "count": 0
           },
           {
            "bin_start": -0.3,
            "bin_end": -0.19999999999999996,
            "count": 0
           },
           {
            "bin_start": -0.19999999999999996,
            "bin_end": -0.09999999999999998,
            "count": 0
           },
           {
            "bin_start": -0.09999999999999998,
            "bin_end": 0,
            "count": 0
           },
           {
            "bin_start": 0,
            "bin_end": 0.10000000000000009,
            "count": 5
           },
           {
            "bin_start": 0.10000000000000009,
            "bin_end": 0.20000000000000007,
            "count": 0
           },
           {
            "bin_start": 0.20000000000000007,
            "bin_end": 0.30000000000000004,
            "count": 0
           },
           {
            "bin_start": 0.30000000000000004,
            "bin_end": 0.4,
            "count": 0
           },
           {
            "bin_start": 0.4,
            "bin_end": 0.5,
            "count": 0
           }
          ]
         }
        },
        {
         "name": "rpis_cuidado_intermedio_camas_porcentaje_ocupadas",
         "dtype": "int64",
         "stats": {
          "unique_count": 1,
          "nan_count": 0,
          "min": "0",
          "max": "0",
          "histogram": [
           {
            "bin_start": -0.5,
            "bin_end": -0.4,
            "count": 0
           },
           {
            "bin_start": -0.4,
            "bin_end": -0.3,
            "count": 0
           },
           {
            "bin_start": -0.3,
            "bin_end": -0.19999999999999996,
            "count": 0
           },
           {
            "bin_start": -0.19999999999999996,
            "bin_end": -0.09999999999999998,
            "count": 0
           },
           {
            "bin_start": -0.09999999999999998,
            "bin_end": 0,
            "count": 0
           },
           {
            "bin_start": 0,
            "bin_end": 0.10000000000000009,
            "count": 5
           },
           {
            "bin_start": 0.10000000000000009,
            "bin_end": 0.20000000000000007,
            "count": 0
           },
           {
            "bin_start": 0.20000000000000007,
            "bin_end": 0.30000000000000004,
            "count": 0
           },
           {
            "bin_start": 0.30000000000000004,
            "bin_end": 0.4,
            "count": 0
           },
           {
            "bin_start": 0.4,
            "bin_end": 0.5,
            "count": 0
           }
          ]
         }
        },
        {
         "name": "rpis_cuidado_intermedio_lista_espera",
         "dtype": "int64",
         "stats": {
          "unique_count": 1,
          "nan_count": 0,
          "min": "0",
          "max": "0",
          "histogram": [
           {
            "bin_start": -0.5,
            "bin_end": -0.4,
            "count": 0
           },
           {
            "bin_start": -0.4,
            "bin_end": -0.3,
            "count": 0
           },
           {
            "bin_start": -0.3,
            "bin_end": -0.19999999999999996,
            "count": 0
           },
           {
            "bin_start": -0.19999999999999996,
            "bin_end": -0.09999999999999998,
            "count": 0
           },
           {
            "bin_start": -0.09999999999999998,
            "bin_end": 0,
            "count": 0
           },
           {
            "bin_start": 0,
            "bin_end": 0.10000000000000009,
            "count": 5
           },
           {
            "bin_start": 0.10000000000000009,
            "bin_end": 0.20000000000000007,
            "count": 0
           },
           {
            "bin_start": 0.20000000000000007,
            "bin_end": 0.30000000000000004,
            "count": 0
           },
           {
            "bin_start": 0.30000000000000004,
            "bin_end": 0.4,
            "count": 0
           },
           {
            "bin_start": 0.4,
            "bin_end": 0.5,
            "count": 0
           }
          ]
         }
        },
        {
         "name": "rpis_cuidado_intermedio_camas_asignadas",
         "dtype": "int64",
         "stats": {
          "unique_count": 1,
          "nan_count": 0,
          "min": "0",
          "max": "0",
          "histogram": [
           {
            "bin_start": -0.5,
            "bin_end": -0.4,
            "count": 0
           },
           {
            "bin_start": -0.4,
            "bin_end": -0.3,
            "count": 0
           },
           {
            "bin_start": -0.3,
            "bin_end": -0.19999999999999996,
            "count": 0
           },
           {
            "bin_start": -0.19999999999999996,
            "bin_end": -0.09999999999999998,
            "count": 0
           },
           {
            "bin_start": -0.09999999999999998,
            "bin_end": 0,
            "count": 0
           },
           {
            "bin_start": 0,
            "bin_end": 0.10000000000000009,
            "count": 5
           },
           {
            "bin_start": 0.10000000000000009,
            "bin_end": 0.20000000000000007,
            "count": 0
           },
           {
            "bin_start": 0.20000000000000007,
            "bin_end": 0.30000000000000004,
            "count": 0
           },
           {
            "bin_start": 0.30000000000000004,
            "bin_end": 0.4,
            "count": 0
           },
           {
            "bin_start": 0.4,
            "bin_end": 0.5,
            "count": 0
           }
          ]
         }
        },
        {
         "name": "rpis_cuidado_intermedio_camas_ocupadas",
         "dtype": "int64",
         "stats": {
          "unique_count": 1,
          "nan_count": 0,
          "min": "0",
          "max": "0",
          "histogram": [
           {
            "bin_start": -0.5,
            "bin_end": -0.4,
            "count": 0
           },
           {
            "bin_start": -0.4,
            "bin_end": -0.3,
            "count": 0
           },
           {
            "bin_start": -0.3,
            "bin_end": -0.19999999999999996,
            "count": 0
           },
           {
            "bin_start": -0.19999999999999996,
            "bin_end": -0.09999999999999998,
            "count": 0
           },
           {
            "bin_start": -0.09999999999999998,
            "bin_end": 0,
            "count": 0
           },
           {
            "bin_start": 0,
            "bin_end": 0.10000000000000009,
            "count": 5
           },
           {
            "bin_start": 0.10000000000000009,
            "bin_end": 0.20000000000000007,
            "count": 0
           },
           {
            "bin_start": 0.20000000000000007,
            "bin_end": 0.30000000000000004,
            "count": 0
           },
           {
            "bin_start": 0.30000000000000004,
            "bin_end": 0.4,
            "count": 0
           },
           {
            "bin_start": 0.4,
            "bin_end": 0.5,
            "count": 0
           }
          ]
         }
        },
        {
         "name": "rpis_uci_camas_porcentaje_ocupadas",
         "dtype": "int64",
         "stats": {
          "unique_count": 1,
          "nan_count": 0,
          "min": "0",
          "max": "0",
          "histogram": [
           {
            "bin_start": -0.5,
            "bin_end": -0.4,
            "count": 0
           },
           {
            "bin_start": -0.4,
            "bin_end": -0.3,
            "count": 0
           },
           {
            "bin_start": -0.3,
            "bin_end": -0.19999999999999996,
            "count": 0
           },
           {
            "bin_start": -0.19999999999999996,
            "bin_end": -0.09999999999999998,
            "count": 0
           },
           {
            "bin_start": -0.09999999999999998,
            "bin_end": 0,
            "count": 0
           },
           {
            "bin_start": 0,
            "bin_end": 0.10000000000000009,
            "count": 5
           },
           {
            "bin_start": 0.10000000000000009,
            "bin_end": 0.20000000000000007,
            "count": 0
           },
           {
            "bin_start": 0.20000000000000007,
            "bin_end": 0.30000000000000004,
            "count": 0
           },
           {
            "bin_start": 0.30000000000000004,
            "bin_end": 0.4,
            "count": 0
           },
           {
            "bin_start": 0.4,
            "bin_end": 0.5,
            "count": 0
           }
          ]
         }
        },
        {
         "name": "rpis_uci_lista_espera",
         "dtype": "int64",
         "stats": {
          "unique_count": 1,
          "nan_count": 0,
          "min": "0",
          "max": "0",
          "histogram": [
           {
            "bin_start": -0.5,
            "bin_end": -0.4,
            "count": 0
           },
           {
            "bin_start": -0.4,
            "bin_end": -0.3,
            "count": 0
           },
           {
            "bin_start": -0.3,
            "bin_end": -0.19999999999999996,
            "count": 0
           },
           {
            "bin_start": -0.19999999999999996,
            "bin_end": -0.09999999999999998,
            "count": 0
           },
           {
            "bin_start": -0.09999999999999998,
            "bin_end": 0,
            "count": 0
           },
           {
            "bin_start": 0,
            "bin_end": 0.10000000000000009,
            "count": 5
           },
           {
            "bin_start": 0.10000000000000009,
            "bin_end": 0.20000000000000007,
            "count": 0
           },
           {
            "bin_start": 0.20000000000000007,
            "bin_end": 0.30000000000000004,
            "count": 0
           },
           {
            "bin_start": 0.30000000000000004,
            "bin_end": 0.4,
            "count": 0
           },
           {
            "bin_start": 0.4,
            "bin_end": 0.5,
            "count": 0
           }
          ]
         }
        },
        {
         "name": "rpis_uci_camas_asignadas",
         "dtype": "int64",
         "stats": {
          "unique_count": 1,
          "nan_count": 0,
          "min": "0",
          "max": "0",
          "histogram": [
           {
            "bin_start": -0.5,
            "bin_end": -0.4,
            "count": 0
           },
           {
            "bin_start": -0.4,
            "bin_end": -0.3,
            "count": 0
           },
           {
            "bin_start": -0.3,
            "bin_end": -0.19999999999999996,
            "count": 0
           },
           {
            "bin_start": -0.19999999999999996,
            "bin_end": -0.09999999999999998,
            "count": 0
           },
           {
            "bin_start": -0.09999999999999998,
            "bin_end": 0,
            "count": 0
           },
           {
            "bin_start": 0,
            "bin_end": 0.10000000000000009,
            "count": 5
           },
           {
            "bin_start": 0.10000000000000009,
            "bin_end": 0.20000000000000007,
            "count": 0
           },
           {
            "bin_start": 0.20000000000000007,
            "bin_end": 0.30000000000000004,
            "count": 0
           },
           {
            "bin_start": 0.30000000000000004,
            "bin_end": 0.4,
            "count": 0
           },
           {
            "bin_start": 0.4,
            "bin_end": 0.5,
            "count": 0
           }
          ]
         }
        },
        {
         "name": "rpis_uci_camas_ocupadas",
         "dtype": "int64",
         "stats": {
          "unique_count": 1,
          "nan_count": 0,
          "min": "0",
          "max": "0",
          "histogram": [
           {
            "bin_start": -0.5,
            "bin_end": -0.4,
            "count": 0
           },
           {
            "bin_start": -0.4,
            "bin_end": -0.3,
            "count": 0
           },
           {
            "bin_start": -0.3,
            "bin_end": -0.19999999999999996,
            "count": 0
           },
           {
            "bin_start": -0.19999999999999996,
            "bin_end": -0.09999999999999998,
            "count": 0
           },
           {
            "bin_start": -0.09999999999999998,
            "bin_end": 0,
            "count": 0
           },
           {
            "bin_start": 0,
            "bin_end": 0.10000000000000009,
            "count": 5
           },
           {
            "bin_start": 0.10000000000000009,
            "bin_end": 0.20000000000000007,
            "count": 0
           },
           {
            "bin_start": 0.20000000000000007,
            "bin_end": 0.30000000000000004,
            "count": 0
           },
           {
            "bin_start": 0.30000000000000004,
            "bin_end": 0.4,
            "count": 0
           },
           {
            "bin_start": 0.4,
            "bin_end": 0.5,
            "count": 0
           }
          ]
         }
        },
        {
         "name": "rpc_hospitalizacion_camas_porcentaje_ocupadas",
         "dtype": "int64",
         "stats": {
          "unique_count": 1,
          "nan_count": 0,
          "min": "0",
          "max": "0",
          "histogram": [
           {
            "bin_start": -0.5,
            "bin_end": -0.4,
            "count": 0
           },
           {
            "bin_start": -0.4,
            "bin_end": -0.3,
            "count": 0
           },
           {
            "bin_start": -0.3,
            "bin_end": -0.19999999999999996,
            "count": 0
           },
           {
            "bin_start": -0.19999999999999996,
            "bin_end": -0.09999999999999998,
            "count": 0
           },
           {
            "bin_start": -0.09999999999999998,
            "bin_end": 0,
            "count": 0
           },
           {
            "bin_start": 0,
            "bin_end": 0.10000000000000009,
            "count": 5
           },
           {
            "bin_start": 0.10000000000000009,
            "bin_end": 0.20000000000000007,
            "count": 0
           },
           {
            "bin_start": 0.20000000000000007,
            "bin_end": 0.30000000000000004,
            "count": 0
           },
           {
            "bin_start": 0.30000000000000004,
            "bin_end": 0.4,
            "count": 0
           },
           {
            "bin_start": 0.4,
            "bin_end": 0.5,
            "count": 0
           }
          ]
         }
        },
        {
         "name": "rpc_hospitalizacion_lista_espera",
         "dtype": "int64",
         "stats": {
          "unique_count": 1,
          "nan_count": 0,
          "min": "0",
          "max": "0",
          "histogram": [
           {
            "bin_start": -0.5,
            "bin_end": -0.4,
            "count": 0
           },
           {
            "bin_start": -0.4,
            "bin_end": -0.3,
            "count": 0
           },
           {
            "bin_start": -0.3,
            "bin_end": -0.19999999999999996,
            "count": 0
           },
           {
            "bin_start": -0.19999999999999996,
            "bin_end": -0.09999999999999998,
            "count": 0
           },
           {
            "bin_start": -0.09999999999999998,
            "bin_end": 0,
            "count": 0
           },
           {
            "bin_start": 0,
            "bin_end": 0.10000000000000009,
            "count": 5
           },
           {
            "bin_start": 0.10000000000000009,
            "bin_end": 0.20000000000000007,
            "count": 0
           },
           {
            "bin_start": 0.20000000000000007,
            "bin_end": 0.30000000000000004,
            "count": 0
           },
           {
            "bin_start": 0.30000000000000004,
            "bin_end": 0.4,
            "count": 0
           },
           {
            "bin_start": 0.4,
            "bin_end": 0.5,
            "count": 0
           }
          ]
         }
        },
        {
         "name": "rpc_hospitalizacion_camas_asignadas",
         "dtype": "int64",
         "stats": {
          "unique_count": 1,
          "nan_count": 0,
          "min": "0",
          "max": "0",
          "histogram": [
           {
            "bin_start": -0.5,
            "bin_end": -0.4,
            "count": 0
           },
           {
            "bin_start": -0.4,
            "bin_end": -0.3,
            "count": 0
           },
           {
            "bin_start": -0.3,
            "bin_end": -0.19999999999999996,
            "count": 0
           },
           {
            "bin_start": -0.19999999999999996,
            "bin_end": -0.09999999999999998,
            "count": 0
           },
           {
            "bin_start": -0.09999999999999998,
            "bin_end": 0,
            "count": 0
           },
           {
            "bin_start": 0,
            "bin_end": 0.10000000000000009,
            "count": 5
           },
           {
            "bin_start": 0.10000000000000009,
            "bin_end": 0.20000000000000007,
            "count": 0
           },
           {
            "bin_start": 0.20000000000000007,
            "bin_end": 0.30000000000000004,
            "count": 0
           },
           {
            "bin_start": 0.30000000000000004,
            "bin_end": 0.4,
            "count": 0
           },
           {
            "bin_start": 0.4,
            "bin_end": 0.5,
            "count": 0
           }
          ]
         }
        },
        {
         "name": "rpc_hospitalizacion_camas_ocupadas",
         "dtype": "int64",
         "stats": {
          "unique_count": 1,
          "nan_count": 0,
          "min": "0",
          "max": "0",
          "histogram": [
           {
            "bin_start": -0.5,
            "bin_end": -0.4,
            "count": 0
           },
           {
            "bin_start": -0.4,
            "bin_end": -0.3,
            "count": 0
           },
           {
            "bin_start": -0.3,
            "bin_end": -0.19999999999999996,
            "count": 0
           },
           {
            "bin_start": -0.19999999999999996,
            "bin_end": -0.09999999999999998,
            "count": 0
           },
           {
            "bin_start": -0.09999999999999998,
            "bin_end": 0,
            "count": 0
           },
           {
            "bin_start": 0,
            "bin_end": 0.10000000000000009,
            "count": 5
           },
           {
            "bin_start": 0.10000000000000009,
            "bin_end": 0.20000000000000007,
            "count": 0
           },
           {
            "bin_start": 0.20000000000000007,
            "bin_end": 0.30000000000000004,
            "count": 0
           },
           {
            "bin_start": 0.30000000000000004,
            "bin_end": 0.4,
            "count": 0
           },
           {
            "bin_start": 0.4,
            "bin_end": 0.5,
            "count": 0
           }
          ]
         }
        },
        {
         "name": "rpc_cuidado_intermedio_camas_porcentaje_ocupadas",
         "dtype": "int64",
         "stats": {
          "unique_count": 1,
          "nan_count": 0,
          "min": "0",
          "max": "0",
          "histogram": [
           {
            "bin_start": -0.5,
            "bin_end": -0.4,
            "count": 0
           },
           {
            "bin_start": -0.4,
            "bin_end": -0.3,
            "count": 0
           },
           {
            "bin_start": -0.3,
            "bin_end": -0.19999999999999996,
            "count": 0
           },
           {
            "bin_start": -0.19999999999999996,
            "bin_end": -0.09999999999999998,
            "count": 0
           },
           {
            "bin_start": -0.09999999999999998,
            "bin_end": 0,
            "count": 0
           },
           {
            "bin_start": 0,
            "bin_end": 0.10000000000000009,
            "count": 5
           },
           {
            "bin_start": 0.10000000000000009,
            "bin_end": 0.20000000000000007,
            "count": 0
           },
           {
            "bin_start": 0.20000000000000007,
            "bin_end": 0.30000000000000004,
            "count": 0
           },
           {
            "bin_start": 0.30000000000000004,
            "bin_end": 0.4,
            "count": 0
           },
           {
            "bin_start": 0.4,
            "bin_end": 0.5,
            "count": 0
           }
          ]
         }
        },
        {
         "name": "rpc_cuidado_intermedio_lista_espera",
         "dtype": "int64",
         "stats": {
          "unique_count": 1,
          "nan_count": 0,
          "min": "0",
          "max": "0",
          "histogram": [
           {
            "bin_start": -0.5,
            "bin_end": -0.4,
            "count": 0
           },
           {
            "bin_start": -0.4,
            "bin_end": -0.3,
            "count": 0
           },
           {
            "bin_start": -0.3,
            "bin_end": -0.19999999999999996,
            "count": 0
           },
           {
            "bin_start": -0.19999999999999996,
            "bin_end": -0.09999999999999998,
            "count": 0
           },
           {
            "bin_start": -0.09999999999999998,
            "bin_end": 0,
            "count": 0
           },
           {
            "bin_start": 0,
            "bin_end": 0.10000000000000009,
            "count": 5
           },
           {
            "bin_start": 0.10000000000000009,
            "bin_end": 0.20000000000000007,
            "count": 0
           },
           {
            "bin_start": 0.20000000000000007,
            "bin_end": 0.30000000000000004,
            "count": 0
           },
           {
            "bin_start": 0.30000000000000004,
            "bin_end": 0.4,
            "count": 0
           },
           {
            "bin_start": 0.4,
            "bin_end": 0.5,
            "count": 0
           }
          ]
         }
        },
        {
         "name": "rpc_cuidado_intermedio_camas_asignadas",
         "dtype": "int64",
         "stats": {
          "unique_count": 1,
          "nan_count": 0,
          "min": "0",
          "max": "0",
          "histogram": [
           {
            "bin_start": -0.5,
            "bin_end": -0.4,
            "count": 0
           },
           {
            "bin_start": -0.4,
            "bin_end": -0.3,
            "count": 0
           },
           {
            "bin_start": -0.3,
            "bin_end": -0.19999999999999996,
            "count": 0
           },
           {
            "bin_start": -0.19999999999999996,
            "bin_end": -0.09999999999999998,
            "count": 0
           },
           {
            "bin_start": -0.09999999999999998,
            "bin_end": 0,
            "count": 0
           },
           {
            "bin_start": 0,
            "bin_end": 0.10000000000000009,
            "count": 5
           },
           {
            "bin_start": 0.10000000000000009,
            "bin_end": 0.20000000000000007,
            "count": 0
           },
           {
            "bin_start": 0.20000000000000007,
            "bin_end": 0.30000000000000004,
            "count": 0
           },
           {
            "bin_start": 0.30000000000000004,
            "bin_end": 0.4,
            "count": 0
           },
           {
            "bin_start": 0.4,
            "bin_end": 0.5,
            "count": 0
           }
          ]
         }
        },
        {
         "name": "rpc_cuidado_intermedio_camas_ocupadas",
         "dtype": "int64",
         "stats": {
          "unique_count": 1,
          "nan_count": 0,
          "min": "0",
          "max": "0",
          "histogram": [
           {
            "bin_start": -0.5,
            "bin_end": -0.4,
            "count": 0
           },
           {
            "bin_start": -0.4,
            "bin_end": -0.3,
            "count": 0
           },
           {
            "bin_start": -0.3,
            "bin_end": -0.19999999999999996,
            "count": 0
           },
           {
            "bin_start": -0.19999999999999996,
            "bin_end": -0.09999999999999998,
            "count": 0
           },
           {
            "bin_start": -0.09999999999999998,
            "bin_end": 0,
            "count": 0
           },
           {
            "bin_start": 0,
            "bin_end": 0.10000000000000009,
            "count": 5
           },
           {
            "bin_start": 0.10000000000000009,
            "bin_end": 0.20000000000000007,
            "count": 0
           },
           {
            "bin_start": 0.20000000000000007,
            "bin_end": 0.30000000000000004,
            "count": 0
           },
           {
            "bin_start": 0.30000000000000004,
            "bin_end": 0.4,
            "count": 0
           },
           {
            "bin_start": 0.4,
            "bin_end": 0.5,
            "count": 0
           }
          ]
         }
        },
        {
         "name": "rpc_uci_camas_porcentaje_ocupadas",
         "dtype": "int64",
         "stats": {
          "unique_count": 1,
          "nan_count": 0,
          "min": "0",
          "max": "0",
          "histogram": [
           {
            "bin_start": -0.5,
            "bin_end": -0.4,
            "count": 0
           },
           {
            "bin_start": -0.4,
            "bin_end": -0.3,
            "count": 0
           },
           {
            "bin_start": -0.3,
            "bin_end": -0.19999999999999996,
            "count": 0
           },
           {
            "bin_start": -0.19999999999999996,
            "bin_end": -0.09999999999999998,
            "count": 0
           },
           {
            "bin_start": -0.09999999999999998,
            "bin_end": 0,
            "count": 0
           },
           {
            "bin_start": 0,
            "bin_end": 0.10000000000000009,
            "count": 5
           },
           {
            "bin_start": 0.10000000000000009,
            "bin_end": 0.20000000000000007,
            "count": 0
           },
           {
            "bin_start": 0.20000000000000007,
            "bin_end": 0.30000000000000004,
            "count": 0
           },
           {
            "bin_start": 0.30000000000000004,
            "bin_end": 0.4,
            "count": 0
           },
           {
            "bin_start": 0.4,
            "bin_end": 0.5,
            "count": 0
           }
          ]
         }
        },
        {
         "name": "rpc_uci_lista_espera",
         "dtype": "int64",
         "stats": {
          "unique_count": 1,
          "nan_count": 0,
          "min": "0",
          "max": "0",
          "histogram": [
           {
            "bin_start": -0.5,
            "bin_end": -0.4,
            "count": 0
           },
           {
            "bin_start": -0.4,
            "bin_end": -0.3,
            "count": 0
           },
           {
            "bin_start": -0.3,
            "bin_end": -0.19999999999999996,
            "count": 0
           },
           {
            "bin_start": -0.19999999999999996,
            "bin_end": -0.09999999999999998,
            "count": 0
           },
           {
            "bin_start": -0.09999999999999998,
            "bin_end": 0,
            "count": 0
           },
           {
            "bin_start": 0,
            "bin_end": 0.10000000000000009,
            "count": 5
           },
           {
            "bin_start": 0.10000000000000009,
            "bin_end": 0.20000000000000007,
            "count": 0
           },
           {
            "bin_start": 0.20000000000000007,
            "bin_end": 0.30000000000000004,
            "count": 0
           },
           {
            "bin_start": 0.30000000000000004,
            "bin_end": 0.4,
            "count": 0
           },
           {
            "bin_start": 0.4,
            "bin_end": 0.5,
            "count": 0
           }
          ]
         }
        },
        {
         "name": "rpc_uci_camas_asignadas",
         "dtype": "int64",
         "stats": {
          "unique_count": 1,
          "nan_count": 0,
          "min": "0",
          "max": "0",
          "histogram": [
           {
            "bin_start": -0.5,
            "bin_end": -0.4,
            "count": 0
           },
           {
            "bin_start": -0.4,
            "bin_end": -0.3,
            "count": 0
           },
           {
            "bin_start": -0.3,
            "bin_end": -0.19999999999999996,
            "count": 0
           },
           {
            "bin_start": -0.19999999999999996,
            "bin_end": -0.09999999999999998,
            "count": 0
           },
           {
            "bin_start": -0.09999999999999998,
            "bin_end": 0,
            "count": 0
           },
           {
            "bin_start": 0,
            "bin_end": 0.10000000000000009,
            "count": 5
           },
           {
            "bin_start": 0.10000000000000009,
            "bin_end": 0.20000000000000007,
            "count": 0
           },
           {
            "bin_start": 0.20000000000000007,
            "bin_end": 0.30000000000000004,
            "count": 0
           },
           {
            "bin_start": 0.30000000000000004,
            "bin_end": 0.4,
            "count": 0
           },
           {
            "bin_start": 0.4,
            "bin_end": 0.5,
            "count": 0
           }
          ]
         }
        },
        {
         "name": "rpc_uci_camas_ocupadas",
         "dtype": "int64",
         "stats": {
          "unique_count": 1,
          "nan_count": 0,
          "min": "0",
          "max": "0",
          "histogram": [
           {
            "bin_start": -0.5,
            "bin_end": -0.4,
            "count": 0
           },
           {
            "bin_start": -0.4,
            "bin_end": -0.3,
            "count": 0
           },
           {
            "bin_start": -0.3,
            "bin_end": -0.19999999999999996,
            "count": 0
           },
           {
            "bin_start": -0.19999999999999996,
            "bin_end": -0.09999999999999998,
            "count": 0
           },
           {
            "bin_start": -0.09999999999999998,
            "bin_end": 0,
            "count": 0
           },
           {
            "bin_start": 0,
            "bin_end": 0.10000000000000009,
            "count": 5
           },
           {
            "bin_start": 0.10000000000000009,
            "bin_end": 0.20000000000000007,
            "count": 0
           },
           {
            "bin_start": 0.20000000000000007,
            "bin_end": 0.30000000000000004,
            "count": 0
           },
           {
            "bin_start": 0.30000000000000004,
            "bin_end": 0.4,
            "count": 0
           },
           {
            "bin_start": 0.4,
            "bin_end": 0.5,
            "count": 0
           }
          ]
         }
        },
        {
         "name": "_deepnote_index_column",
         "dtype": "int64"
        }
       ],
       "rows": [
        {
         "created_at": "2020-03-13",
         "muestras": 129,
         "muestras_pcr": 129,
         "positivas_total": 0,
         "positivas_probables": 0,
         "muestras_pcr_nuevas": 0,
         "pruebas_rezagadas": 106,
         "muertes_confirmadas": 1,
         "muertes_probables": 0,
         "muertes": 1,
         "muertes_nuevas": 0,
         "positivas": 23,
         "positivas_pcr": 23,
         "positivas_pcr_nuevas": 0,
         "positivas_pcr_mujer": 0,
         "positivas_pcr_hombre": 0,
         "positivas_pcr_hombre_edades_meses": 0,
         "positivas_pcr_hombre_edades_0a4": 0,
         "positivas_pcr_hombre_edades_5a9": 0,
         "positivas_pcr_hombre_edades_10a14": 0,
         "positivas_pcr_hombre_edades_15a19": 0,
         "positivas_pcr_hombre_edades_20a49": 0,
         "positivas_pcr_hombre_edades_50a64": 0,
         "positivas_pcr_hombre_edades_65an": 0,
         "positivas_pcr_mujer_edades_meses": 0,
         "positivas_pcr_mujer_edades_0a4": 0,
         "positivas_pcr_mujer_edades_5a9": 0,
         "positivas_pcr_mujer_edades_10a14": 0,
         "positivas_pcr_mujer_edades_15a19": 0,
         "positivas_pcr_mujer_edades_20a49": 0,
         "positivas_pcr_mujer_edades_50a64": 0,
         "positivas_pcr_mujer_edades_65an": 0,
         "positivas_rapidas": 0,
         "negativas": 0,
         "negativas_pcr": 0,
         "negativas_pcr_nuevas": 0,
         "negativas_rapidas": 0,
         "hospitalizadas_altas": 0,
         "hospitalizadas_estables": 0,
         "hospitalizadas_pronostico_reservadas": 1,
         "msp_hospitalizacion_camas_porcentaje_ocupadas": 0,
         "msp_hospitalizacion_lista_espera": 0,
         "msp_hospitalizacion_camas_asignadas": 0,
         "msp_hospitalizacion_camas_ocupadas": 0,
         "msp_cuidado_intermedio_camas_porcentaje_ocupadas": 0,
         "msp_cuidado_intermedio_lista_espera": 0,
         "msp_cuidado_intermedio_camas_asignadas": 0,
         "msp_cuidado_intermedio_camas_ocupadas": 0,
         "msp_uci_camas_porcentaje_ocupadas": 0,
         "msp_uci_lista_espera": 0,
         "msp_uci_camas_asignadas": 0,
         "msp_uci_camas_ocupadas": 0,
         "rpis_hospitalizacion_camas_porcentaje_ocupadas": 0,
         "rpis_hospitalizacion_lista_espera": 0,
         "rpis_hospitalizacion_camas_asignadas": 0,
         "rpis_hospitalizacion_camas_ocupadas": 0,
         "rpis_cuidado_intermedio_camas_porcentaje_ocupadas": 0,
         "rpis_cuidado_intermedio_lista_espera": 0,
         "rpis_cuidado_intermedio_camas_asignadas": 0,
         "rpis_cuidado_intermedio_camas_ocupadas": 0,
         "rpis_uci_camas_porcentaje_ocupadas": 0,
         "rpis_uci_lista_espera": 0,
         "rpis_uci_camas_asignadas": 0,
         "rpis_uci_camas_ocupadas": 0,
         "rpc_hospitalizacion_camas_porcentaje_ocupadas": 0,
         "rpc_hospitalizacion_lista_espera": 0,
         "rpc_hospitalizacion_camas_asignadas": 0,
         "rpc_hospitalizacion_camas_ocupadas": 0,
         "rpc_cuidado_intermedio_camas_porcentaje_ocupadas": 0,
         "rpc_cuidado_intermedio_lista_espera": 0,
         "rpc_cuidado_intermedio_camas_asignadas": 0,
         "rpc_cuidado_intermedio_camas_ocupadas": 0,
         "rpc_uci_camas_porcentaje_ocupadas": 0,
         "rpc_uci_lista_espera": 0,
         "rpc_uci_camas_asignadas": 0,
         "rpc_uci_camas_ocupadas": 0,
         "_deepnote_index_column": 0
        },
        {
         "created_at": "2020-03-14",
         "muestras": 206,
         "muestras_pcr": 206,
         "positivas_total": 0,
         "positivas_probables": 0,
         "muestras_pcr_nuevas": 77,
         "pruebas_rezagadas": 178,
         "muertes_confirmadas": 2,
         "muertes_probables": 0,
         "muertes": 2,
         "muertes_nuevas": 1,
         "positivas": 28,
         "positivas_pcr": 28,
         "positivas_pcr_nuevas": 5,
         "positivas_pcr_mujer": 0,
         "positivas_pcr_hombre": 0,
         "positivas_pcr_hombre_edades_meses": 0,
         "positivas_pcr_hombre_edades_0a4": 0,
         "positivas_pcr_hombre_edades_5a9": 0,
         "positivas_pcr_hombre_edades_10a14": 0,
         "positivas_pcr_hombre_edades_15a19": 0,
         "positivas_pcr_hombre_edades_20a49": 0,
         "positivas_pcr_hombre_edades_50a64": 0,
         "positivas_pcr_hombre_edades_65an": 0,
         "positivas_pcr_mujer_edades_meses": 0,
         "positivas_pcr_mujer_edades_0a4": 0,
         "positivas_pcr_mujer_edades_5a9": 0,
         "positivas_pcr_mujer_edades_10a14": 0,
         "positivas_pcr_mujer_edades_15a19": 0,
         "positivas_pcr_mujer_edades_20a49": 0,
         "positivas_pcr_mujer_edades_50a64": 0,
         "positivas_pcr_mujer_edades_65an": 0,
         "positivas_rapidas": 0,
         "negativas": 0,
         "negativas_pcr": 0,
         "negativas_pcr_nuevas": 0,
         "negativas_rapidas": 0,
         "hospitalizadas_altas": 0,
         "hospitalizadas_estables": 7,
         "hospitalizadas_pronostico_reservadas": 3,
         "msp_hospitalizacion_camas_porcentaje_ocupadas": 0,
         "msp_hospitalizacion_lista_espera": 0,
         "msp_hospitalizacion_camas_asignadas": 0,
         "msp_hospitalizacion_camas_ocupadas": 0,
         "msp_cuidado_intermedio_camas_porcentaje_ocupadas": 0,
         "msp_cuidado_intermedio_lista_espera": 0,
         "msp_cuidado_intermedio_camas_asignadas": 0,
         "msp_cuidado_intermedio_camas_ocupadas": 0,
         "msp_uci_camas_porcentaje_ocupadas": 0,
         "msp_uci_lista_espera": 0,
         "msp_uci_camas_asignadas": 0,
         "msp_uci_camas_ocupadas": 0,
         "rpis_hospitalizacion_camas_porcentaje_ocupadas": 0,
         "rpis_hospitalizacion_lista_espera": 0,
         "rpis_hospitalizacion_camas_asignadas": 0,
         "rpis_hospitalizacion_camas_ocupadas": 0,
         "rpis_cuidado_intermedio_camas_porcentaje_ocupadas": 0,
         "rpis_cuidado_intermedio_lista_espera": 0,
         "rpis_cuidado_intermedio_camas_asignadas": 0,
         "rpis_cuidado_intermedio_camas_ocupadas": 0,
         "rpis_uci_camas_porcentaje_ocupadas": 0,
         "rpis_uci_lista_espera": 0,
         "rpis_uci_camas_asignadas": 0,
         "rpis_uci_camas_ocupadas": 0,
         "rpc_hospitalizacion_camas_porcentaje_ocupadas": 0,
         "rpc_hospitalizacion_lista_espera": 0,
         "rpc_hospitalizacion_camas_asignadas": 0,
         "rpc_hospitalizacion_camas_ocupadas": 0,
         "rpc_cuidado_intermedio_camas_porcentaje_ocupadas": 0,
         "rpc_cuidado_intermedio_lista_espera": 0,
         "rpc_cuidado_intermedio_camas_asignadas": 0,
         "rpc_cuidado_intermedio_camas_ocupadas": 0,
         "rpc_uci_camas_porcentaje_ocupadas": 0,
         "rpc_uci_lista_espera": 0,
         "rpc_uci_camas_asignadas": 0,
         "rpc_uci_camas_ocupadas": 0,
         "_deepnote_index_column": 1
        },
        {
         "created_at": "2020-03-15",
         "muestras": 273,
         "muestras_pcr": 273,
         "positivas_total": 0,
         "positivas_probables": 0,
         "muestras_pcr_nuevas": 67,
         "pruebas_rezagadas": 236,
         "muertes_confirmadas": 2,
         "muertes_probables": 0,
         "muertes": 2,
         "muertes_nuevas": 0,
         "positivas": 37,
         "positivas_pcr": 37,
         "positivas_pcr_nuevas": 9,
         "positivas_pcr_mujer": 0,
         "positivas_pcr_hombre": 0,
         "positivas_pcr_hombre_edades_meses": 0,
         "positivas_pcr_hombre_edades_0a4": 0,
         "positivas_pcr_hombre_edades_5a9": 0,
         "positivas_pcr_hombre_edades_10a14": 0,
         "positivas_pcr_hombre_edades_15a19": 0,
         "positivas_pcr_hombre_edades_20a49": 0,
         "positivas_pcr_hombre_edades_50a64": 0,
         "positivas_pcr_hombre_edades_65an": 0,
         "positivas_pcr_mujer_edades_meses": 0,
         "positivas_pcr_mujer_edades_0a4": 0,
         "positivas_pcr_mujer_edades_5a9": 0,
         "positivas_pcr_mujer_edades_10a14": 0,
         "positivas_pcr_mujer_edades_15a19": 0,
         "positivas_pcr_mujer_edades_20a49": 0,
         "positivas_pcr_mujer_edades_50a64": 0,
         "positivas_pcr_mujer_edades_65an": 0,
         "positivas_rapidas": 0,
         "negativas": 0,
         "negativas_pcr": 0,
         "negativas_pcr_nuevas": 0,
         "negativas_rapidas": 0,
         "hospitalizadas_altas": 0,
         "hospitalizadas_estables": 7,
         "hospitalizadas_pronostico_reservadas": 2,
         "msp_hospitalizacion_camas_porcentaje_ocupadas": 0,
         "msp_hospitalizacion_lista_espera": 0,
         "msp_hospitalizacion_camas_asignadas": 0,
         "msp_hospitalizacion_camas_ocupadas": 0,
         "msp_cuidado_intermedio_camas_porcentaje_ocupadas": 0,
         "msp_cuidado_intermedio_lista_espera": 0,
         "msp_cuidado_intermedio_camas_asignadas": 0,
         "msp_cuidado_intermedio_camas_ocupadas": 0,
         "msp_uci_camas_porcentaje_ocupadas": 0,
         "msp_uci_lista_espera": 0,
         "msp_uci_camas_asignadas": 0,
         "msp_uci_camas_ocupadas": 0,
         "rpis_hospitalizacion_camas_porcentaje_ocupadas": 0,
         "rpis_hospitalizacion_lista_espera": 0,
         "rpis_hospitalizacion_camas_asignadas": 0,
         "rpis_hospitalizacion_camas_ocupadas": 0,
         "rpis_cuidado_intermedio_camas_porcentaje_ocupadas": 0,
         "rpis_cuidado_intermedio_lista_espera": 0,
         "rpis_cuidado_intermedio_camas_asignadas": 0,
         "rpis_cuidado_intermedio_camas_ocupadas": 0,
         "rpis_uci_camas_porcentaje_ocupadas": 0,
         "rpis_uci_lista_espera": 0,
         "rpis_uci_camas_asignadas": 0,
         "rpis_uci_camas_ocupadas": 0,
         "rpc_hospitalizacion_camas_porcentaje_ocupadas": 0,
         "rpc_hospitalizacion_lista_espera": 0,
         "rpc_hospitalizacion_camas_asignadas": 0,
         "rpc_hospitalizacion_camas_ocupadas": 0,
         "rpc_cuidado_intermedio_camas_porcentaje_ocupadas": 0,
         "rpc_cuidado_intermedio_lista_espera": 0,
         "rpc_cuidado_intermedio_camas_asignadas": 0,
         "rpc_cuidado_intermedio_camas_ocupadas": 0,
         "rpc_uci_camas_porcentaje_ocupadas": 0,
         "rpc_uci_lista_espera": 0,
         "rpc_uci_camas_asignadas": 0,
         "rpc_uci_camas_ocupadas": 0,
         "_deepnote_index_column": 2
        },
        {
         "created_at": "2020-03-16",
         "muestras": 354,
         "muestras_pcr": 354,
         "positivas_total": 0,
         "positivas_probables": 0,
         "muestras_pcr_nuevas": 81,
         "pruebas_rezagadas": 296,
         "muertes_confirmadas": 2,
         "muertes_probables": 0,
         "muertes": 2,
         "muertes_nuevas": 0,
         "positivas": 58,
         "positivas_pcr": 58,
         "positivas_pcr_nuevas": 21,
         "positivas_pcr_mujer": 0,
         "positivas_pcr_hombre": 0,
         "positivas_pcr_hombre_edades_meses": 0,
         "positivas_pcr_hombre_edades_0a4": 0,
         "positivas_pcr_hombre_edades_5a9": 0,
         "positivas_pcr_hombre_edades_10a14": 0,
         "positivas_pcr_hombre_edades_15a19": 0,
         "positivas_pcr_hombre_edades_20a49": 0,
         "positivas_pcr_hombre_edades_50a64": 0,
         "positivas_pcr_hombre_edades_65an": 0,
         "positivas_pcr_mujer_edades_meses": 0,
         "positivas_pcr_mujer_edades_0a4": 0,
         "positivas_pcr_mujer_edades_5a9": 0,
         "positivas_pcr_mujer_edades_10a14": 0,
         "positivas_pcr_mujer_edades_15a19": 0,
         "positivas_pcr_mujer_edades_20a49": 0,
         "positivas_pcr_mujer_edades_50a64": 0,
         "positivas_pcr_mujer_edades_65an": 0,
         "positivas_rapidas": 0,
         "negativas": 0,
         "negativas_pcr": 0,
         "negativas_pcr_nuevas": 0,
         "negativas_rapidas": 0,
         "hospitalizadas_altas": 0,
         "hospitalizadas_estables": 9,
         "hospitalizadas_pronostico_reservadas": 5,
         "msp_hospitalizacion_camas_porcentaje_ocupadas": 0,
         "msp_hospitalizacion_lista_espera": 0,
         "msp_hospitalizacion_camas_asignadas": 0,
         "msp_hospitalizacion_camas_ocupadas": 0,
         "msp_cuidado_intermedio_camas_porcentaje_ocupadas": 0,
         "msp_cuidado_intermedio_lista_espera": 0,
         "msp_cuidado_intermedio_camas_asignadas": 0,
         "msp_cuidado_intermedio_camas_ocupadas": 0,
         "msp_uci_camas_porcentaje_ocupadas": 0,
         "msp_uci_lista_espera": 0,
         "msp_uci_camas_asignadas": 0,
         "msp_uci_camas_ocupadas": 0,
         "rpis_hospitalizacion_camas_porcentaje_ocupadas": 0,
         "rpis_hospitalizacion_lista_espera": 0,
         "rpis_hospitalizacion_camas_asignadas": 0,
         "rpis_hospitalizacion_camas_ocupadas": 0,
         "rpis_cuidado_intermedio_camas_porcentaje_ocupadas": 0,
         "rpis_cuidado_intermedio_lista_espera": 0,
         "rpis_cuidado_intermedio_camas_asignadas": 0,
         "rpis_cuidado_intermedio_camas_ocupadas": 0,
         "rpis_uci_camas_porcentaje_ocupadas": 0,
         "rpis_uci_lista_espera": 0,
         "rpis_uci_camas_asignadas": 0,
         "rpis_uci_camas_ocupadas": 0,
         "rpc_hospitalizacion_camas_porcentaje_ocupadas": 0,
         "rpc_hospitalizacion_lista_espera": 0,
         "rpc_hospitalizacion_camas_asignadas": 0,
         "rpc_hospitalizacion_camas_ocupadas": 0,
         "rpc_cuidado_intermedio_camas_porcentaje_ocupadas": 0,
         "rpc_cuidado_intermedio_lista_espera": 0,
         "rpc_cuidado_intermedio_camas_asignadas": 0,
         "rpc_cuidado_intermedio_camas_ocupadas": 0,
         "rpc_uci_camas_porcentaje_ocupadas": 0,
         "rpc_uci_lista_espera": 0,
         "rpc_uci_camas_asignadas": 0,
         "rpc_uci_camas_ocupadas": 0,
         "_deepnote_index_column": 3
        },
        {
         "created_at": "2020-03-17",
         "muestras": 762,
         "muestras_pcr": 762,
         "positivas_total": 0,
         "positivas_probables": 0,
         "muestras_pcr_nuevas": 408,
         "pruebas_rezagadas": 651,
         "muertes_confirmadas": 2,
         "muertes_probables": 0,
         "muertes": 2,
         "muertes_nuevas": 0,
         "positivas": 111,
         "positivas_pcr": 111,
         "positivas_pcr_nuevas": 53,
         "positivas_pcr_mujer": 0,
         "positivas_pcr_hombre": 0,
         "positivas_pcr_hombre_edades_meses": 0,
         "positivas_pcr_hombre_edades_0a4": 0,
         "positivas_pcr_hombre_edades_5a9": 0,
         "positivas_pcr_hombre_edades_10a14": 0,
         "positivas_pcr_hombre_edades_15a19": 0,
         "positivas_pcr_hombre_edades_20a49": 0,
         "positivas_pcr_hombre_edades_50a64": 0,
         "positivas_pcr_hombre_edades_65an": 0,
         "positivas_pcr_mujer_edades_meses": 0,
         "positivas_pcr_mujer_edades_0a4": 0,
         "positivas_pcr_mujer_edades_5a9": 0,
         "positivas_pcr_mujer_edades_10a14": 0,
         "positivas_pcr_mujer_edades_15a19": 0,
         "positivas_pcr_mujer_edades_20a49": 0,
         "positivas_pcr_mujer_edades_50a64": 0,
         "positivas_pcr_mujer_edades_65an": 0,
         "positivas_rapidas": 0,
         "negativas": 0,
         "negativas_pcr": 0,
         "negativas_pcr_nuevas": 0,
         "negativas_rapidas": 0,
         "hospitalizadas_altas": 0,
         "hospitalizadas_estables": 9,
         "hospitalizadas_pronostico_reservadas": 5,
         "msp_hospitalizacion_camas_porcentaje_ocupadas": 0,
         "msp_hospitalizacion_lista_espera": 0,
         "msp_hospitalizacion_camas_asignadas": 0,
         "msp_hospitalizacion_camas_ocupadas": 0,
         "msp_cuidado_intermedio_camas_porcentaje_ocupadas": 0,
         "msp_cuidado_intermedio_lista_espera": 0,
         "msp_cuidado_intermedio_camas_asignadas": 0,
         "msp_cuidado_intermedio_camas_ocupadas": 0,
         "msp_uci_camas_porcentaje_ocupadas": 0,
         "msp_uci_lista_espera": 0,
         "msp_uci_camas_asignadas": 0,
         "msp_uci_camas_ocupadas": 0,
         "rpis_hospitalizacion_camas_porcentaje_ocupadas": 0,
         "rpis_hospitalizacion_lista_espera": 0,
         "rpis_hospitalizacion_camas_asignadas": 0,
         "rpis_hospitalizacion_camas_ocupadas": 0,
         "rpis_cuidado_intermedio_camas_porcentaje_ocupadas": 0,
         "rpis_cuidado_intermedio_lista_espera": 0,
         "rpis_cuidado_intermedio_camas_asignadas": 0,
         "rpis_cuidado_intermedio_camas_ocupadas": 0,
         "rpis_uci_camas_porcentaje_ocupadas": 0,
         "rpis_uci_lista_espera": 0,
         "rpis_uci_camas_asignadas": 0,
         "rpis_uci_camas_ocupadas": 0,
         "rpc_hospitalizacion_camas_porcentaje_ocupadas": 0,
         "rpc_hospitalizacion_lista_espera": 0,
         "rpc_hospitalizacion_camas_asignadas": 0,
         "rpc_hospitalizacion_camas_ocupadas": 0,
         "rpc_cuidado_intermedio_camas_porcentaje_ocupadas": 0,
         "rpc_cuidado_intermedio_lista_espera": 0,
         "rpc_cuidado_intermedio_camas_asignadas": 0,
         "rpc_cuidado_intermedio_camas_ocupadas": 0,
         "rpc_uci_camas_porcentaje_ocupadas": 0,
         "rpc_uci_lista_espera": 0,
         "rpc_uci_camas_asignadas": 0,
         "rpc_uci_camas_ocupadas": 0,
         "_deepnote_index_column": 4
        }
       ]
      },
      "text/plain": "   created_at  muestras  muestras_pcr  positivas_total  positivas_probables  \\\n0  2020-03-13       129           129                0                    0   \n1  2020-03-14       206           206                0                    0   \n2  2020-03-15       273           273                0                    0   \n3  2020-03-16       354           354                0                    0   \n4  2020-03-17       762           762                0                    0   \n\n   muestras_pcr_nuevas  pruebas_rezagadas  muertes_confirmadas  \\\n0                    0                106                    1   \n1                   77                178                    2   \n2                   67                236                    2   \n3                   81                296                    2   \n4                  408                651                    2   \n\n   muertes_probables  muertes  ...  rpc_hospitalizacion_camas_asignadas  \\\n0                  0        1  ...                                    0   \n1                  0        2  ...                                    0   \n2                  0        2  ...                                    0   \n3                  0        2  ...                                    0   \n4                  0        2  ...                                    0   \n\n   rpc_hospitalizacion_camas_ocupadas  \\\n0                                   0   \n1                                   0   \n2                                   0   \n3                                   0   \n4                                   0   \n\n   rpc_cuidado_intermedio_camas_porcentaje_ocupadas  \\\n0                                                 0   \n1                                                 0   \n2                                                 0   \n3                                                 0   \n4                                                 0   \n\n   rpc_cuidado_intermedio_lista_espera  \\\n0                                    0   \n1                                    0   \n2                                    0   \n3                                    0   \n4                                    0   \n\n   rpc_cuidado_intermedio_camas_asignadas  \\\n0                                       0   \n1                                       0   \n2                                       0   \n3                                       0   \n4                                       0   \n\n   rpc_cuidado_intermedio_camas_ocupadas  rpc_uci_camas_porcentaje_ocupadas  \\\n0                                      0                                  0   \n1                                      0                                  0   \n2                                      0                                  0   \n3                                      0                                  0   \n4                                      0                                  0   \n\n   rpc_uci_lista_espera  rpc_uci_camas_asignadas  rpc_uci_camas_ocupadas  \n0                     0                        0                       0  \n1                     0                        0                       0  \n2                     0                        0                       0  \n3                     0                        0                       0  \n4                     0                        0                       0  \n\n[5 rows x 76 columns]",
      "text/html": "<div>\n<style scoped>\n    .dataframe tbody tr th:only-of-type {\n        vertical-align: middle;\n    }\n\n    .dataframe tbody tr th {\n        vertical-align: top;\n    }\n\n    .dataframe thead th {\n        text-align: right;\n    }\n</style>\n<table border=\"1\" class=\"dataframe\">\n  <thead>\n    <tr style=\"text-align: right;\">\n      <th></th>\n      <th>created_at</th>\n      <th>muestras</th>\n      <th>muestras_pcr</th>\n      <th>positivas_total</th>\n      <th>positivas_probables</th>\n      <th>muestras_pcr_nuevas</th>\n      <th>pruebas_rezagadas</th>\n      <th>muertes_confirmadas</th>\n      <th>muertes_probables</th>\n      <th>muertes</th>\n      <th>...</th>\n      <th>rpc_hospitalizacion_camas_asignadas</th>\n      <th>rpc_hospitalizacion_camas_ocupadas</th>\n      <th>rpc_cuidado_intermedio_camas_porcentaje_ocupadas</th>\n      <th>rpc_cuidado_intermedio_lista_espera</th>\n      <th>rpc_cuidado_intermedio_camas_asignadas</th>\n      <th>rpc_cuidado_intermedio_camas_ocupadas</th>\n      <th>rpc_uci_camas_porcentaje_ocupadas</th>\n      <th>rpc_uci_lista_espera</th>\n      <th>rpc_uci_camas_asignadas</th>\n      <th>rpc_uci_camas_ocupadas</th>\n    </tr>\n  </thead>\n  <tbody>\n    <tr>\n      <th>0</th>\n      <td>2020-03-13</td>\n      <td>129</td>\n      <td>129</td>\n      <td>0</td>\n      <td>0</td>\n      <td>0</td>\n      <td>106</td>\n      <td>1</td>\n      <td>0</td>\n      <td>1</td>\n      <td>...</td>\n      <td>0</td>\n      <td>0</td>\n      <td>0</td>\n      <td>0</td>\n      <td>0</td>\n      <td>0</td>\n      <td>0</td>\n      <td>0</td>\n      <td>0</td>\n      <td>0</td>\n    </tr>\n    <tr>\n      <th>1</th>\n      <td>2020-03-14</td>\n      <td>206</td>\n      <td>206</td>\n      <td>0</td>\n      <td>0</td>\n      <td>77</td>\n      <td>178</td>\n      <td>2</td>\n      <td>0</td>\n      <td>2</td>\n      <td>...</td>\n      <td>0</td>\n      <td>0</td>\n      <td>0</td>\n      <td>0</td>\n      <td>0</td>\n      <td>0</td>\n      <td>0</td>\n      <td>0</td>\n      <td>0</td>\n      <td>0</td>\n    </tr>\n    <tr>\n      <th>2</th>\n      <td>2020-03-15</td>\n      <td>273</td>\n      <td>273</td>\n      <td>0</td>\n      <td>0</td>\n      <td>67</td>\n      <td>236</td>\n      <td>2</td>\n      <td>0</td>\n      <td>2</td>\n      <td>...</td>\n      <td>0</td>\n      <td>0</td>\n      <td>0</td>\n      <td>0</td>\n      <td>0</td>\n      <td>0</td>\n      <td>0</td>\n      <td>0</td>\n      <td>0</td>\n      <td>0</td>\n    </tr>\n    <tr>\n      <th>3</th>\n      <td>2020-03-16</td>\n      <td>354</td>\n      <td>354</td>\n      <td>0</td>\n      <td>0</td>\n      <td>81</td>\n      <td>296</td>\n      <td>2</td>\n      <td>0</td>\n      <td>2</td>\n      <td>...</td>\n      <td>0</td>\n      <td>0</td>\n      <td>0</td>\n      <td>0</td>\n      <td>0</td>\n      <td>0</td>\n      <td>0</td>\n      <td>0</td>\n      <td>0</td>\n      <td>0</td>\n    </tr>\n    <tr>\n      <th>4</th>\n      <td>2020-03-17</td>\n      <td>762</td>\n      <td>762</td>\n      <td>0</td>\n      <td>0</td>\n      <td>408</td>\n      <td>651</td>\n      <td>2</td>\n      <td>0</td>\n      <td>2</td>\n      <td>...</td>\n      <td>0</td>\n      <td>0</td>\n      <td>0</td>\n      <td>0</td>\n      <td>0</td>\n      <td>0</td>\n      <td>0</td>\n      <td>0</td>\n      <td>0</td>\n      <td>0</td>\n    </tr>\n  </tbody>\n</table>\n<p>5 rows × 76 columns</p>\n</div>"
     },
     "metadata": {}
    }
   ],
   "execution_count": null
  },
  {
   "cell_type": "code",
   "metadata": {
    "tags": [],
    "cell_id": "00005-e05d9a97-b149-4b9a-8929-3dd81562871a",
    "deepnote_to_be_reexecuted": false,
    "source_hash": "3cc40ed1",
    "execution_start": 1639869178022,
    "execution_millis": 798,
    "deepnote_cell_type": "code"
   },
   "source": "df_ecuacovid.sample(5)",
   "outputs": [
    {
     "output_type": "execute_result",
     "execution_count": 5,
     "data": {
      "application/vnd.deepnote.dataframe.v3+json": {
       "column_count": 76,
       "row_count": 5,
       "columns": [
        {
         "name": "created_at",
         "dtype": "object",
         "stats": {
          "unique_count": 5,
          "nan_count": 0,
          "categories": [
           {
            "name": "2021-09-20",
            "count": 1
           },
           {
            "name": "2021-04-08",
            "count": 1
           },
           {
            "name": "3 others",
            "count": 3
           }
          ]
         }
        },
        {
         "name": "muestras",
         "dtype": "int64",
         "stats": {
          "unique_count": 5,
          "nan_count": 0,
          "min": "272000",
          "max": "1883244",
          "histogram": [
           {
            "bin_start": 272000,
            "bin_end": 433124.4,
            "count": 1
           },
           {
            "bin_start": 433124.4,
            "bin_end": 594248.8,
            "count": 0
           },
           {
            "bin_start": 594248.8,
            "bin_end": 755373.2,
            "count": 0
           },
           {
            "bin_start": 755373.2,
            "bin_end": 916497.6,
            "count": 0
           },
           {
            "bin_start": 916497.6,
            "bin_end": 1077622,
            "count": 0
           },
           {
            "bin_start": 1077622,
            "bin_end": 1238746.4,
            "count": 1
           },
           {
            "bin_start": 1238746.4,
            "bin_end": 1399870.8,
            "count": 0
           },
           {
            "bin_start": 1399870.8,
            "bin_end": 1560995.2,
            "count": 0
           },
           {
            "bin_start": 1560995.2,
            "bin_end": 1722119.5999999999,
            "count": 0
           },
           {
            "bin_start": 1722119.5999999999,
            "bin_end": 1883244,
            "count": 3
           }
          ]
         }
        },
        {
         "name": "muestras_pcr",
         "dtype": "int64",
         "stats": {
          "unique_count": 5,
          "nan_count": 0,
          "min": "251428",
          "max": "1862672",
          "histogram": [
           {
            "bin_start": 251428,
            "bin_end": 412552.4,
            "count": 1
           },
           {
            "bin_start": 412552.4,
            "bin_end": 573676.8,
            "count": 0
           },
           {
            "bin_start": 573676.8,
            "bin_end": 734801.2,
            "count": 0
           },
           {
            "bin_start": 734801.2,
            "bin_end": 895925.6,
            "count": 0
           },
           {
            "bin_start": 895925.6,
            "bin_end": 1057050,
            "count": 0
           },
           {
            "bin_start": 1057050,
            "bin_end": 1218174.4,
            "count": 1
           },
           {
            "bin_start": 1218174.4,
            "bin_end": 1379298.8,
            "count": 0
           },
           {
            "bin_start": 1379298.8,
            "bin_end": 1540423.2,
            "count": 0
           },
           {
            "bin_start": 1540423.2,
            "bin_end": 1701547.5999999999,
            "count": 0
           },
           {
            "bin_start": 1701547.5999999999,
            "bin_end": 1862672,
            "count": 3
           }
          ]
         }
        },
        {
         "name": "positivas_total",
         "dtype": "int64",
         "stats": {
          "unique_count": 4,
          "nan_count": 0,
          "min": "0",
          "max": "610233",
          "histogram": [
           {
            "bin_start": 0,
            "bin_end": 61023.3,
            "count": 2
           },
           {
            "bin_start": 61023.3,
            "bin_end": 122046.6,
            "count": 0
           },
           {
            "bin_start": 122046.6,
            "bin_end": 183069.90000000002,
            "count": 0
           },
           {
            "bin_start": 183069.90000000002,
            "bin_end": 244093.2,
            "count": 0
           },
           {
            "bin_start": 244093.2,
            "bin_end": 305116.5,
            "count": 0
           },
           {
            "bin_start": 305116.5,
            "bin_end": 366139.80000000005,
            "count": 0
           },
           {
            "bin_start": 366139.80000000005,
            "bin_end": 427163.10000000003,
            "count": 0
           },
           {
            "bin_start": 427163.10000000003,
            "bin_end": 488186.4,
            "count": 0
           },
           {
            "bin_start": 488186.4,
            "bin_end": 549209.7000000001,
            "count": 0
           },
           {
            "bin_start": 549209.7000000001,
            "bin_end": 610233,
            "count": 3
           }
          ]
         }
        },
        {
         "name": "positivas_probables",
         "dtype": "int64",
         "stats": {
          "unique_count": 4,
          "nan_count": 0,
          "min": "0",
          "max": "98687",
          "histogram": [
           {
            "bin_start": 0,
            "bin_end": 9868.7,
            "count": 2
           },
           {
            "bin_start": 9868.7,
            "bin_end": 19737.4,
            "count": 0
           },
           {
            "bin_start": 19737.4,
            "bin_end": 29606.100000000002,
            "count": 0
           },
           {
            "bin_start": 29606.100000000002,
            "bin_end": 39474.8,
            "count": 0
           },
           {
            "bin_start": 39474.8,
            "bin_end": 49343.5,
            "count": 0
           },
           {
            "bin_start": 49343.5,
            "bin_end": 59212.200000000004,
            "count": 0
           },
           {
            "bin_start": 59212.200000000004,
            "bin_end": 69080.90000000001,
            "count": 0
           },
           {
            "bin_start": 69080.90000000001,
            "bin_end": 78949.6,
            "count": 0
           },
           {
            "bin_start": 78949.6,
            "bin_end": 88818.3,
            "count": 0
           },
           {
            "bin_start": 88818.3,
            "bin_end": 98687,
            "count": 3
           }
          ]
         }
        },
        {
         "name": "muestras_pcr_nuevas",
         "dtype": "int64",
         "stats": {
          "unique_count": 5,
          "nan_count": 0,
          "min": "971",
          "max": "7706",
          "histogram": [
           {
            "bin_start": 971,
            "bin_end": 1644.5,
            "count": 1
           },
           {
            "bin_start": 1644.5,
            "bin_end": 2318,
            "count": 0
           },
           {
            "bin_start": 2318,
            "bin_end": 2991.5,
            "count": 0
           },
           {
            "bin_start": 2991.5,
            "bin_end": 3665,
            "count": 2
           },
           {
            "bin_start": 3665,
            "bin_end": 4338.5,
            "count": 1
           },
           {
            "bin_start": 4338.5,
            "bin_end": 5012,
            "count": 0
           },
           {
            "bin_start": 5012,
            "bin_end": 5685.5,
            "count": 0
           },
           {
            "bin_start": 5685.5,
            "bin_end": 6359,
            "count": 0
           },
           {
            "bin_start": 6359,
            "bin_end": 7032.5,
            "count": 0
           },
           {
            "bin_start": 7032.5,
            "bin_end": 7706,
            "count": 1
           }
          ]
         }
        },
        {
         "name": "pruebas_rezagadas",
         "dtype": "int64",
         "stats": {
          "unique_count": 5,
          "nan_count": 0,
          "min": "40236",
          "max": "98687",
          "histogram": [
           {
            "bin_start": 40236,
            "bin_end": 46081.1,
            "count": 1
           },
           {
            "bin_start": 46081.1,
            "bin_end": 51926.2,
            "count": 0
           },
           {
            "bin_start": 51926.2,
            "bin_end": 57771.3,
            "count": 1
           },
           {
            "bin_start": 57771.3,
            "bin_end": 63616.4,
            "count": 0
           },
           {
            "bin_start": 63616.4,
            "bin_end": 69461.5,
            "count": 0
           },
           {
            "bin_start": 69461.5,
            "bin_end": 75306.6,
            "count": 0
           },
           {
            "bin_start": 75306.6,
            "bin_end": 81151.70000000001,
            "count": 0
           },
           {
            "bin_start": 81151.70000000001,
            "bin_end": 86996.8,
            "count": 0
           },
           {
            "bin_start": 86996.8,
            "bin_end": 92841.9,
            "count": 0
           },
           {
            "bin_start": 92841.9,
            "bin_end": 98687,
            "count": 3
           }
          ]
         }
        },
        {
         "name": "muertes_confirmadas",
         "dtype": "int64",
         "stats": {
          "unique_count": 5,
          "nan_count": 0,
          "min": "5984",
          "max": "23250",
          "histogram": [
           {
            "bin_start": 5984,
            "bin_end": 7710.6,
            "count": 1
           },
           {
            "bin_start": 7710.6,
            "bin_end": 9437.2,
            "count": 0
           },
           {
            "bin_start": 9437.2,
            "bin_end": 11163.8,
            "count": 0
           },
           {
            "bin_start": 11163.8,
            "bin_end": 12890.4,
            "count": 1
           },
           {
            "bin_start": 12890.4,
            "bin_end": 14617,
            "count": 0
           },
           {
            "bin_start": 14617,
            "bin_end": 16343.599999999999,
            "count": 0
           },
           {
            "bin_start": 16343.599999999999,
            "bin_end": 18070.199999999997,
            "count": 0
           },
           {
            "bin_start": 18070.199999999997,
            "bin_end": 19796.8,
            "count": 0
           },
           {
            "bin_start": 19796.8,
            "bin_end": 21523.4,
            "count": 0
           },
           {
            "bin_start": 21523.4,
            "bin_end": 23250,
            "count": 3
           }
          ]
         }
        },
        {
         "name": "muertes_probables",
         "dtype": "int64",
         "stats": {
          "unique_count": 5,
          "nan_count": 0,
          "min": "3545",
          "max": "9577",
          "histogram": [
           {
            "bin_start": 3545,
            "bin_end": 4148.2,
            "count": 1
           },
           {
            "bin_start": 4148.2,
            "bin_end": 4751.4,
            "count": 0
           },
           {
            "bin_start": 4751.4,
            "bin_end": 5354.6,
            "count": 1
           },
           {
            "bin_start": 5354.6,
            "bin_end": 5957.8,
            "count": 0
           },
           {
            "bin_start": 5957.8,
            "bin_end": 6561,
            "count": 0
           },
           {
            "bin_start": 6561,
            "bin_end": 7164.200000000001,
            "count": 0
           },
           {
            "bin_start": 7164.200000000001,
            "bin_end": 7767.400000000001,
            "count": 0
           },
           {
            "bin_start": 7767.400000000001,
            "bin_end": 8370.6,
            "count": 0
           },
           {
            "bin_start": 8370.6,
            "bin_end": 8973.8,
            "count": 0
           },
           {
            "bin_start": 8973.8,
            "bin_end": 9577,
            "count": 3
           }
          ]
         }
        },
        {
         "name": "muertes",
         "dtype": "int64",
         "stats": {
          "unique_count": 5,
          "nan_count": 0,
          "min": "9529",
          "max": "32827",
          "histogram": [
           {
            "bin_start": 9529,
            "bin_end": 11858.8,
            "count": 1
           },
           {
            "bin_start": 11858.8,
            "bin_end": 14188.6,
            "count": 0
           },
           {
            "bin_start": 14188.6,
            "bin_end": 16518.4,
            "count": 0
           },
           {
            "bin_start": 16518.4,
            "bin_end": 18848.2,
            "count": 1
           },
           {
            "bin_start": 18848.2,
            "bin_end": 21178,
            "count": 0
           },
           {
            "bin_start": 21178,
            "bin_end": 23507.800000000003,
            "count": 0
           },
           {
            "bin_start": 23507.800000000003,
            "bin_end": 25837.600000000002,
            "count": 0
           },
           {
            "bin_start": 25837.600000000002,
            "bin_end": 28167.4,
            "count": 0
           },
           {
            "bin_start": 28167.4,
            "bin_end": 30497.2,
            "count": 0
           },
           {
            "bin_start": 30497.2,
            "bin_end": 32827,
            "count": 3
           }
          ]
         }
        },
        {
         "name": "muertes_nuevas",
         "dtype": "int64",
         "stats": {
          "unique_count": 5,
          "nan_count": 0,
          "min": "5",
          "max": "58",
          "histogram": [
           {
            "bin_start": 5,
            "bin_end": 10.3,
            "count": 3
           },
           {
            "bin_start": 10.3,
            "bin_end": 15.6,
            "count": 0
           },
           {
            "bin_start": 15.6,
            "bin_end": 20.9,
            "count": 0
           },
           {
            "bin_start": 20.9,
            "bin_end": 26.2,
            "count": 0
           },
           {
            "bin_start": 26.2,
            "bin_end": 31.5,
            "count": 0
           },
           {
            "bin_start": 31.5,
            "bin_end": 36.8,
            "count": 0
           },
           {
            "bin_start": 36.8,
            "bin_end": 42.1,
            "count": 1
           },
           {
            "bin_start": 42.1,
            "bin_end": 47.4,
            "count": 0
           },
           {
            "bin_start": 47.4,
            "bin_end": 52.699999999999996,
            "count": 0
           },
           {
            "bin_start": 52.699999999999996,
            "bin_end": 58,
            "count": 1
           }
          ]
         }
        },
        {
         "name": "positivas",
         "dtype": "int64",
         "stats": {
          "unique_count": 5,
          "nan_count": 0,
          "min": "97110",
          "max": "520502",
          "histogram": [
           {
            "bin_start": 97110,
            "bin_end": 139449.2,
            "count": 1
           },
           {
            "bin_start": 139449.2,
            "bin_end": 181788.4,
            "count": 0
           },
           {
            "bin_start": 181788.4,
            "bin_end": 224127.59999999998,
            "count": 0
           },
           {
            "bin_start": 224127.59999999998,
            "bin_end": 266466.8,
            "count": 0
           },
           {
            "bin_start": 266466.8,
            "bin_end": 308806,
            "count": 0
           },
           {
            "bin_start": 308806,
            "bin_end": 351145.19999999995,
            "count": 1
           },
           {
            "bin_start": 351145.19999999995,
            "bin_end": 393484.39999999997,
            "count": 0
           },
           {
            "bin_start": 393484.39999999997,
            "bin_end": 435823.6,
            "count": 0
           },
           {
            "bin_start": 435823.6,
            "bin_end": 478162.8,
            "count": 0
           },
           {
            "bin_start": 478162.8,
            "bin_end": 520502,
            "count": 3
           }
          ]
         }
        },
        {
         "name": "positivas_pcr",
         "dtype": "int64",
         "stats": {
          "unique_count": 5,
          "nan_count": 0,
          "min": "88154",
          "max": "511546",
          "histogram": [
           {
            "bin_start": 88154,
            "bin_end": 130493.2,
            "count": 1
           },
           {
            "bin_start": 130493.2,
            "bin_end": 172832.4,
            "count": 0
           },
           {
            "bin_start": 172832.4,
            "bin_end": 215171.59999999998,
            "count": 0
           },
           {
            "bin_start": 215171.59999999998,
            "bin_end": 257510.8,
            "count": 0
           },
           {
            "bin_start": 257510.8,
            "bin_end": 299850,
            "count": 0
           },
           {
            "bin_start": 299850,
            "bin_end": 342189.19999999995,
            "count": 1
           },
           {
            "bin_start": 342189.19999999995,
            "bin_end": 384528.39999999997,
            "count": 0
           },
           {
            "bin_start": 384528.39999999997,
            "bin_end": 426867.6,
            "count": 0
           },
           {
            "bin_start": 426867.6,
            "bin_end": 469206.8,
            "count": 0
           },
           {
            "bin_start": 469206.8,
            "bin_end": 511546,
            "count": 3
           }
          ]
         }
        },
        {
         "name": "positivas_pcr_nuevas",
         "dtype": "int64",
         "stats": {
          "unique_count": 5,
          "nan_count": 0,
          "min": "17",
          "max": "2015",
          "histogram": [
           {
            "bin_start": 17,
            "bin_end": 216.8,
            "count": 1
           },
           {
            "bin_start": 216.8,
            "bin_end": 416.6,
            "count": 1
           },
           {
            "bin_start": 416.6,
            "bin_end": 616.4000000000001,
            "count": 0
           },
           {
            "bin_start": 616.4000000000001,
            "bin_end": 816.2,
            "count": 0
           },
           {
            "bin_start": 816.2,
            "bin_end": 1016,
            "count": 1
           },
           {
            "bin_start": 1016,
            "bin_end": 1215.8000000000002,
            "count": 0
           },
           {
            "bin_start": 1215.8000000000002,
            "bin_end": 1415.6000000000001,
            "count": 0
           },
           {
            "bin_start": 1415.6000000000001,
            "bin_end": 1615.4,
            "count": 1
           },
           {
            "bin_start": 1615.4,
            "bin_end": 1815.2,
            "count": 0
           },
           {
            "bin_start": 1815.2,
            "bin_end": 2015,
            "count": 1
           }
          ]
         }
        },
        {
         "name": "positivas_pcr_mujer",
         "dtype": "int64",
         "stats": {
          "unique_count": 4,
          "nan_count": 0,
          "min": "0",
          "max": "249916",
          "histogram": [
           {
            "bin_start": 0,
            "bin_end": 24991.6,
            "count": 2
           },
           {
            "bin_start": 24991.6,
            "bin_end": 49983.2,
            "count": 0
           },
           {
            "bin_start": 49983.2,
            "bin_end": 74974.79999999999,
            "count": 0
           },
           {
            "bin_start": 74974.79999999999,
            "bin_end": 99966.4,
            "count": 0
           },
           {
            "bin_start": 99966.4,
            "bin_end": 124958,
            "count": 0
           },
           {
            "bin_start": 124958,
            "bin_end": 149949.59999999998,
            "count": 0
           },
           {
            "bin_start": 149949.59999999998,
            "bin_end": 174941.19999999998,
            "count": 0
           },
           {
            "bin_start": 174941.19999999998,
            "bin_end": 199932.8,
            "count": 0
           },
           {
            "bin_start": 199932.8,
            "bin_end": 224924.4,
            "count": 0
           },
           {
            "bin_start": 224924.4,
            "bin_end": 249916,
            "count": 3
           }
          ]
         }
        },
        {
         "name": "positivas_pcr_hombre",
         "dtype": "int64",
         "stats": {
          "unique_count": 4,
          "nan_count": 0,
          "min": "0",
          "max": "261630",
          "histogram": [
           {
            "bin_start": 0,
            "bin_end": 26163,
            "count": 2
           },
           {
            "bin_start": 26163,
            "bin_end": 52326,
            "count": 0
           },
           {
            "bin_start": 52326,
            "bin_end": 78489,
            "count": 0
           },
           {
            "bin_start": 78489,
            "bin_end": 104652,
            "count": 0
           },
           {
            "bin_start": 104652,
            "bin_end": 130815,
            "count": 0
           },
           {
            "bin_start": 130815,
            "bin_end": 156978,
            "count": 0
           },
           {
            "bin_start": 156978,
            "bin_end": 183141,
            "count": 0
           },
           {
            "bin_start": 183141,
            "bin_end": 209304,
            "count": 0
           },
           {
            "bin_start": 209304,
            "bin_end": 235467,
            "count": 0
           },
           {
            "bin_start": 235467,
            "bin_end": 261630,
            "count": 3
           }
          ]
         }
        },
        {
         "name": "positivas_pcr_hombre_edades_meses",
         "dtype": "int64",
         "stats": {
          "unique_count": 2,
          "nan_count": 0,
          "min": "0",
          "max": "375",
          "histogram": [
           {
            "bin_start": 0,
            "bin_end": 37.5,
            "count": 2
           },
           {
            "bin_start": 37.5,
            "bin_end": 75,
            "count": 0
           },
           {
            "bin_start": 75,
            "bin_end": 112.5,
            "count": 0
           },
           {
            "bin_start": 112.5,
            "bin_end": 150,
            "count": 0
           },
           {
            "bin_start": 150,
            "bin_end": 187.5,
            "count": 0
           },
           {
            "bin_start": 187.5,
            "bin_end": 225,
            "count": 0
           },
           {
            "bin_start": 225,
            "bin_end": 262.5,
            "count": 0
           },
           {
            "bin_start": 262.5,
            "bin_end": 300,
            "count": 0
           },
           {
            "bin_start": 300,
            "bin_end": 337.5,
            "count": 0
           },
           {
            "bin_start": 337.5,
            "bin_end": 375,
            "count": 3
           }
          ]
         }
        },
        {
         "name": "positivas_pcr_hombre_edades_0a4",
         "dtype": "int64",
         "stats": {
          "unique_count": 2,
          "nan_count": 0,
          "min": "0",
          "max": "1593",
          "histogram": [
           {
            "bin_start": 0,
            "bin_end": 159.3,
            "count": 2
           },
           {
            "bin_start": 159.3,
            "bin_end": 318.6,
            "count": 0
           },
           {
            "bin_start": 318.6,
            "bin_end": 477.90000000000003,
            "count": 0
           },
           {
            "bin_start": 477.90000000000003,
            "bin_end": 637.2,
            "count": 0
           },
           {
            "bin_start": 637.2,
            "bin_end": 796.5,
            "count": 0
           },
           {
            "bin_start": 796.5,
            "bin_end": 955.8000000000001,
            "count": 0
           },
           {
            "bin_start": 955.8000000000001,
            "bin_end": 1115.1000000000001,
            "count": 0
           },
           {
            "bin_start": 1115.1000000000001,
            "bin_end": 1274.4,
            "count": 0
           },
           {
            "bin_start": 1274.4,
            "bin_end": 1433.7,
            "count": 0
           },
           {
            "bin_start": 1433.7,
            "bin_end": 1593,
            "count": 3
           }
          ]
         }
        },
        {
         "name": "positivas_pcr_hombre_edades_5a9",
         "dtype": "int64",
         "stats": {
          "unique_count": 2,
          "nan_count": 0,
          "min": "0",
          "max": "2319",
          "histogram": [
           {
            "bin_start": 0,
            "bin_end": 231.9,
            "count": 2
           },
           {
            "bin_start": 231.9,
            "bin_end": 463.8,
            "count": 0
           },
           {
            "bin_start": 463.8,
            "bin_end": 695.7,
            "count": 0
           },
           {
            "bin_start": 695.7,
            "bin_end": 927.6,
            "count": 0
           },
           {
            "bin_start": 927.6,
            "bin_end": 1159.5,
            "count": 0
           },
           {
            "bin_start": 1159.5,
            "bin_end": 1391.4,
            "count": 0
           },
           {
            "bin_start": 1391.4,
            "bin_end": 1623.3,
            "count": 0
           },
           {
            "bin_start": 1623.3,
            "bin_end": 1855.2,
            "count": 0
           },
           {
            "bin_start": 1855.2,
            "bin_end": 2087.1,
            "count": 0
           },
           {
            "bin_start": 2087.1,
            "bin_end": 2319,
            "count": 3
           }
          ]
         }
        },
        {
         "name": "positivas_pcr_hombre_edades_10a14",
         "dtype": "int64",
         "stats": {
          "unique_count": 2,
          "nan_count": 0,
          "min": "0",
          "max": "4632",
          "histogram": [
           {
            "bin_start": 0,
            "bin_end": 463.2,
            "count": 2
           },
           {
            "bin_start": 463.2,
            "bin_end": 926.4,
            "count": 0
           },
           {
            "bin_start": 926.4,
            "bin_end": 1389.6,
            "count": 0
           },
           {
            "bin_start": 1389.6,
            "bin_end": 1852.8,
            "count": 0
           },
           {
            "bin_start": 1852.8,
            "bin_end": 2316,
            "count": 0
           },
           {
            "bin_start": 2316,
            "bin_end": 2779.2,
            "count": 0
           },
           {
            "bin_start": 2779.2,
            "bin_end": 3242.4,
            "count": 0
           },
           {
            "bin_start": 3242.4,
            "bin_end": 3705.6,
            "count": 0
           },
           {
            "bin_start": 3705.6,
            "bin_end": 4168.8,
            "count": 0
           },
           {
            "bin_start": 4168.8,
            "bin_end": 4632,
            "count": 3
           }
          ]
         }
        },
        {
         "name": "positivas_pcr_hombre_edades_15a19",
         "dtype": "int64",
         "stats": {
          "unique_count": 2,
          "nan_count": 0,
          "min": "0",
          "max": "9256",
          "histogram": [
           {
            "bin_start": 0,
            "bin_end": 925.6,
            "count": 2
           },
           {
            "bin_start": 925.6,
            "bin_end": 1851.2,
            "count": 0
           },
           {
            "bin_start": 1851.2,
            "bin_end": 2776.8,
            "count": 0
           },
           {
            "bin_start": 2776.8,
            "bin_end": 3702.4,
            "count": 0
           },
           {
            "bin_start": 3702.4,
            "bin_end": 4628,
            "count": 0
           },
           {
            "bin_start": 4628,
            "bin_end": 5553.6,
            "count": 0
           },
           {
            "bin_start": 5553.6,
            "bin_end": 6479.2,
            "count": 0
           },
           {
            "bin_start": 6479.2,
            "bin_end": 7404.8,
            "count": 0
           },
           {
            "bin_start": 7404.8,
            "bin_end": 8330.4,
            "count": 0
           },
           {
            "bin_start": 8330.4,
            "bin_end": 9256,
            "count": 3
           }
          ]
         }
        },
        {
         "name": "positivas_pcr_hombre_edades_20a49",
         "dtype": "int64",
         "stats": {
          "unique_count": 2,
          "nan_count": 0,
          "min": "0",
          "max": "141757",
          "histogram": [
           {
            "bin_start": 0,
            "bin_end": 14175.7,
            "count": 2
           },
           {
            "bin_start": 14175.7,
            "bin_end": 28351.4,
            "count": 0
           },
           {
            "bin_start": 28351.4,
            "bin_end": 42527.100000000006,
            "count": 0
           },
           {
            "bin_start": 42527.100000000006,
            "bin_end": 56702.8,
            "count": 0
           },
           {
            "bin_start": 56702.8,
            "bin_end": 70878.5,
            "count": 0
           },
           {
            "bin_start": 70878.5,
            "bin_end": 85054.20000000001,
            "count": 0
           },
           {
            "bin_start": 85054.20000000001,
            "bin_end": 99229.90000000001,
            "count": 0
           },
           {
            "bin_start": 99229.90000000001,
            "bin_end": 113405.6,
            "count": 0
           },
           {
            "bin_start": 113405.6,
            "bin_end": 127581.3,
            "count": 0
           },
           {
            "bin_start": 127581.3,
            "bin_end": 141757,
            "count": 3
           }
          ]
         }
        },
        {
         "name": "positivas_pcr_hombre_edades_50a64",
         "dtype": "int64",
         "stats": {
          "unique_count": 2,
          "nan_count": 0,
          "min": "0",
          "max": "47835",
          "histogram": [
           {
            "bin_start": 0,
            "bin_end": 4783.5,
            "count": 2
           },
           {
            "bin_start": 4783.5,
            "bin_end": 9567,
            "count": 0
           },
           {
            "bin_start": 9567,
            "bin_end": 14350.5,
            "count": 0
           },
           {
            "bin_start": 14350.5,
            "bin_end": 19134,
            "count": 0
           },
           {
            "bin_start": 19134,
            "bin_end": 23917.5,
            "count": 0
           },
           {
            "bin_start": 23917.5,
            "bin_end": 28701,
            "count": 0
           },
           {
            "bin_start": 28701,
            "bin_end": 33484.5,
            "count": 0
           },
           {
            "bin_start": 33484.5,
            "bin_end": 38268,
            "count": 0
           },
           {
            "bin_start": 38268,
            "bin_end": 43051.5,
            "count": 0
           },
           {
            "bin_start": 43051.5,
            "bin_end": 47835,
            "count": 3
           }
          ]
         }
        },
        {
         "name": "positivas_pcr_hombre_edades_65an",
         "dtype": "int64",
         "stats": {
          "unique_count": 2,
          "nan_count": 0,
          "min": "0",
          "max": "28314",
          "histogram": [
           {
            "bin_start": 0,
            "bin_end": 2831.4,
            "count": 2
           },
           {
            "bin_start": 2831.4,
            "bin_end": 5662.8,
            "count": 0
           },
           {
            "bin_start": 5662.8,
            "bin_end": 8494.2,
            "count": 0
           },
           {
            "bin_start": 8494.2,
            "bin_end": 11325.6,
            "count": 0
           },
           {
            "bin_start": 11325.6,
            "bin_end": 14157,
            "count": 0
           },
           {
            "bin_start": 14157,
            "bin_end": 16988.4,
            "count": 0
           },
           {
            "bin_start": 16988.4,
            "bin_end": 19819.8,
            "count": 0
           },
           {
            "bin_start": 19819.8,
            "bin_end": 22651.2,
            "count": 0
           },
           {
            "bin_start": 22651.2,
            "bin_end": 25482.600000000002,
            "count": 0
           },
           {
            "bin_start": 25482.600000000002,
            "bin_end": 28314,
            "count": 3
           }
          ]
         }
        },
        {
         "name": "positivas_pcr_mujer_edades_meses",
         "dtype": "int64",
         "stats": {
          "unique_count": 2,
          "nan_count": 0,
          "min": "0",
          "max": "432",
          "histogram": [
           {
            "bin_start": 0,
            "bin_end": 43.2,
            "count": 2
           },
           {
            "bin_start": 43.2,
            "bin_end": 86.4,
            "count": 0
           },
           {
            "bin_start": 86.4,
            "bin_end": 129.60000000000002,
            "count": 0
           },
           {
            "bin_start": 129.60000000000002,
            "bin_end": 172.8,
            "count": 0
           },
           {
            "bin_start": 172.8,
            "bin_end": 216,
            "count": 0
           },
           {
            "bin_start": 216,
            "bin_end": 259.20000000000005,
            "count": 0
           },
           {
            "bin_start": 259.20000000000005,
            "bin_end": 302.40000000000003,
            "count": 0
           },
           {
            "bin_start": 302.40000000000003,
            "bin_end": 345.6,
            "count": 0
           },
           {
            "bin_start": 345.6,
            "bin_end": 388.8,
            "count": 0
           },
           {
            "bin_start": 388.8,
            "bin_end": 432,
            "count": 3
           }
          ]
         }
        },
        {
         "name": "positivas_pcr_mujer_edades_0a4",
         "dtype": "int64",
         "stats": {
          "unique_count": 2,
          "nan_count": 0,
          "min": "0",
          "max": "1747",
          "histogram": [
           {
            "bin_start": 0,
            "bin_end": 174.7,
            "count": 2
           },
           {
            "bin_start": 174.7,
            "bin_end": 349.4,
            "count": 0
           },
           {
            "bin_start": 349.4,
            "bin_end": 524.0999999999999,
            "count": 0
           },
           {
            "bin_start": 524.0999999999999,
            "bin_end": 698.8,
            "count": 0
           },
           {
            "bin_start": 698.8,
            "bin_end": 873.5,
            "count": 0
           },
           {
            "bin_start": 873.5,
            "bin_end": 1048.1999999999998,
            "count": 0
           },
           {
            "bin_start": 1048.1999999999998,
            "bin_end": 1222.8999999999999,
            "count": 0
           },
           {
            "bin_start": 1222.8999999999999,
            "bin_end": 1397.6,
            "count": 0
           },
           {
            "bin_start": 1397.6,
            "bin_end": 1572.3,
            "count": 0
           },
           {
            "bin_start": 1572.3,
            "bin_end": 1747,
            "count": 3
           }
          ]
         }
        },
        {
         "name": "positivas_pcr_mujer_edades_5a9",
         "dtype": "int64",
         "stats": {
          "unique_count": 2,
          "nan_count": 0,
          "min": "0",
          "max": "2377",
          "histogram": [
           {
            "bin_start": 0,
            "bin_end": 237.7,
            "count": 2
           },
           {
            "bin_start": 237.7,
            "bin_end": 475.4,
            "count": 0
           },
           {
            "bin_start": 475.4,
            "bin_end": 713.0999999999999,
            "count": 0
           },
           {
            "bin_start": 713.0999999999999,
            "bin_end": 950.8,
            "count": 0
           },
           {
            "bin_start": 950.8,
            "bin_end": 1188.5,
            "count": 0
           },
           {
            "bin_start": 1188.5,
            "bin_end": 1426.1999999999998,
            "count": 0
           },
           {
            "bin_start": 1426.1999999999998,
            "bin_end": 1663.8999999999999,
            "count": 0
           },
           {
            "bin_start": 1663.8999999999999,
            "bin_end": 1901.6,
            "count": 0
           },
           {
            "bin_start": 1901.6,
            "bin_end": 2139.2999999999997,
            "count": 0
           },
           {
            "bin_start": 2139.2999999999997,
            "bin_end": 2377,
            "count": 3
           }
          ]
         }
        },
        {
         "name": "positivas_pcr_mujer_edades_10a14",
         "dtype": "int64",
         "stats": {
          "unique_count": 2,
          "nan_count": 0,
          "min": "0",
          "max": "4593",
          "histogram": [
           {
            "bin_start": 0,
            "bin_end": 459.3,
            "count": 2
           },
           {
            "bin_start": 459.3,
            "bin_end": 918.6,
            "count": 0
           },
           {
            "bin_start": 918.6,
            "bin_end": 1377.9,
            "count": 0
           },
           {
            "bin_start": 1377.9,
            "bin_end": 1837.2,
            "count": 0
           },
           {
            "bin_start": 1837.2,
            "bin_end": 2296.5,
            "count": 0
           },
           {
            "bin_start": 2296.5,
            "bin_end": 2755.8,
            "count": 0
           },
           {
            "bin_start": 2755.8,
            "bin_end": 3215.1,
            "count": 0
           },
           {
            "bin_start": 3215.1,
            "bin_end": 3674.4,
            "count": 0
           },
           {
            "bin_start": 3674.4,
            "bin_end": 4133.7,
            "count": 0
           },
           {
            "bin_start": 4133.7,
            "bin_end": 4593,
            "count": 3
           }
          ]
         }
        },
        {
         "name": "positivas_pcr_mujer_edades_15a19",
         "dtype": "int64",
         "stats": {
          "unique_count": 2,
          "nan_count": 0,
          "min": "0",
          "max": "8574",
          "histogram": [
           {
            "bin_start": 0,
            "bin_end": 857.4,
            "count": 2
           },
           {
            "bin_start": 857.4,
            "bin_end": 1714.8,
            "count": 0
           },
           {
            "bin_start": 1714.8,
            "bin_end": 2572.2,
            "count": 0
           },
           {
            "bin_start": 2572.2,
            "bin_end": 3429.6,
            "count": 0
           },
           {
            "bin_start": 3429.6,
            "bin_end": 4287,
            "count": 0
           },
           {
            "bin_start": 4287,
            "bin_end": 5144.4,
            "count": 0
           },
           {
            "bin_start": 5144.4,
            "bin_end": 6001.8,
            "count": 0
           },
           {
            "bin_start": 6001.8,
            "bin_end": 6859.2,
            "count": 0
           },
           {
            "bin_start": 6859.2,
            "bin_end": 7716.599999999999,
            "count": 0
           },
           {
            "bin_start": 7716.599999999999,
            "bin_end": 8574,
            "count": 3
           }
          ]
         }
        },
        {
         "name": "positivas_pcr_mujer_edades_20a49",
         "dtype": "int64",
         "stats": {
          "unique_count": 2,
          "nan_count": 0,
          "min": "0",
          "max": "148954",
          "histogram": [
           {
            "bin_start": 0,
            "bin_end": 14895.4,
            "count": 2
           },
           {
            "bin_start": 14895.4,
            "bin_end": 29790.8,
            "count": 0
           },
           {
            "bin_start": 29790.8,
            "bin_end": 44686.2,
            "count": 0
           },
           {
            "bin_start": 44686.2,
            "bin_end": 59581.6,
            "count": 0
           },
           {
            "bin_start": 59581.6,
            "bin_end": 74477,
            "count": 0
           },
           {
            "bin_start": 74477,
            "bin_end": 89372.4,
            "count": 0
           },
           {
            "bin_start": 89372.4,
            "bin_end": 104267.8,
            "count": 0
           },
           {
            "bin_start": 104267.8,
            "bin_end": 119163.2,
            "count": 0
           },
           {
            "bin_start": 119163.2,
            "bin_end": 134058.6,
            "count": 0
           },
           {
            "bin_start": 134058.6,
            "bin_end": 148954,
            "count": 3
           }
          ]
         }
        },
        {
         "name": "positivas_pcr_mujer_edades_50a64",
         "dtype": "int64",
         "stats": {
          "unique_count": 2,
          "nan_count": 0,
          "min": "0",
          "max": "50219",
          "histogram": [
           {
            "bin_start": 0,
            "bin_end": 5021.9,
            "count": 2
           },
           {
            "bin_start": 5021.9,
            "bin_end": 10043.8,
            "count": 0
           },
           {
            "bin_start": 10043.8,
            "bin_end": 15065.699999999999,
            "count": 0
           },
           {
            "bin_start": 15065.699999999999,
            "bin_end": 20087.6,
            "count": 0
           },
           {
            "bin_start": 20087.6,
            "bin_end": 25109.5,
            "count": 0
           },
           {
            "bin_start": 25109.5,
            "bin_end": 30131.399999999998,
            "count": 0
           },
           {
            "bin_start": 30131.399999999998,
            "bin_end": 35153.299999999996,
            "count": 0
           },
           {
            "bin_start": 35153.299999999996,
            "bin_end": 40175.2,
            "count": 0
           },
           {
            "bin_start": 40175.2,
            "bin_end": 45197.1,
            "count": 0
           },
           {
            "bin_start": 45197.1,
            "bin_end": 50219,
            "count": 3
           }
          ]
         }
        },
        {
         "name": "positivas_pcr_mujer_edades_65an",
         "dtype": "int64",
         "stats": {
          "unique_count": 2,
          "nan_count": 0,
          "min": "0",
          "max": "31563",
          "histogram": [
           {
            "bin_start": 0,
            "bin_end": 3156.3,
            "count": 2
           },
           {
            "bin_start": 3156.3,
            "bin_end": 6312.6,
            "count": 0
           },
           {
            "bin_start": 6312.6,
            "bin_end": 9468.900000000001,
            "count": 0
           },
           {
            "bin_start": 9468.900000000001,
            "bin_end": 12625.2,
            "count": 0
           },
           {
            "bin_start": 12625.2,
            "bin_end": 15781.5,
            "count": 0
           },
           {
            "bin_start": 15781.5,
            "bin_end": 18937.800000000003,
            "count": 0
           },
           {
            "bin_start": 18937.800000000003,
            "bin_end": 22094.100000000002,
            "count": 0
           },
           {
            "bin_start": 22094.100000000002,
            "bin_end": 25250.4,
            "count": 0
           },
           {
            "bin_start": 25250.4,
            "bin_end": 28406.7,
            "count": 0
           },
           {
            "bin_start": 28406.7,
            "bin_end": 31563,
            "count": 3
           }
          ]
         }
        },
        {
         "name": "positivas_rapidas",
         "dtype": "int64",
         "stats": {
          "unique_count": 1,
          "nan_count": 0,
          "min": "8956",
          "max": "8956",
          "histogram": [
           {
            "bin_start": 8955.5,
            "bin_end": 8955.6,
            "count": 0
           },
           {
            "bin_start": 8955.6,
            "bin_end": 8955.7,
            "count": 0
           },
           {
            "bin_start": 8955.7,
            "bin_end": 8955.8,
            "count": 0
           },
           {
            "bin_start": 8955.8,
            "bin_end": 8955.9,
            "count": 0
           },
           {
            "bin_start": 8955.9,
            "bin_end": 8956,
            "count": 0
           },
           {
            "bin_start": 8956,
            "bin_end": 8956.1,
            "count": 5
           },
           {
            "bin_start": 8956.1,
            "bin_end": 8956.2,
            "count": 0
           },
           {
            "bin_start": 8956.2,
            "bin_end": 8956.3,
            "count": 0
           },
           {
            "bin_start": 8956.3,
            "bin_end": 8956.4,
            "count": 0
           },
           {
            "bin_start": 8956.4,
            "bin_end": 8956.5,
            "count": 0
           }
          ]
         }
        },
        {
         "name": "negativas",
         "dtype": "int64",
         "stats": {
          "unique_count": 5,
          "nan_count": 0,
          "min": "134654",
          "max": "1264055",
          "histogram": [
           {
            "bin_start": 134654,
            "bin_end": 247594.1,
            "count": 1
           },
           {
            "bin_start": 247594.1,
            "bin_end": 360534.2,
            "count": 0
           },
           {
            "bin_start": 360534.2,
            "bin_end": 473474.30000000005,
            "count": 0
           },
           {
            "bin_start": 473474.30000000005,
            "bin_end": 586414.4,
            "count": 0
           },
           {
            "bin_start": 586414.4,
            "bin_end": 699354.5,
            "count": 0
           },
           {
            "bin_start": 699354.5,
            "bin_end": 812294.6000000001,
            "count": 1
           },
           {
            "bin_start": 812294.6000000001,
            "bin_end": 925234.7000000001,
            "count": 0
           },
           {
            "bin_start": 925234.7000000001,
            "bin_end": 1038174.8,
            "count": 0
           },
           {
            "bin_start": 1038174.8,
            "bin_end": 1151114.9,
            "count": 0
           },
           {
            "bin_start": 1151114.9,
            "bin_end": 1264055,
            "count": 3
           }
          ]
         }
        },
        {
         "name": "negativas_pcr",
         "dtype": "int64",
         "stats": {
          "unique_count": 5,
          "nan_count": 0,
          "min": "123038",
          "max": "1252439",
          "histogram": [
           {
            "bin_start": 123038,
            "bin_end": 235978.1,
            "count": 1
           },
           {
            "bin_start": 235978.1,
            "bin_end": 348918.2,
            "count": 0
           },
           {
            "bin_start": 348918.2,
            "bin_end": 461858.30000000005,
            "count": 0
           },
           {
            "bin_start": 461858.30000000005,
            "bin_end": 574798.4,
            "count": 0
           },
           {
            "bin_start": 574798.4,
            "bin_end": 687738.5,
            "count": 0
           },
           {
            "bin_start": 687738.5,
            "bin_end": 800678.6000000001,
            "count": 1
           },
           {
            "bin_start": 800678.6000000001,
            "bin_end": 913618.7000000001,
            "count": 0
           },
           {
            "bin_start": 913618.7000000001,
            "bin_end": 1026558.8,
            "count": 0
           },
           {
            "bin_start": 1026558.8,
            "bin_end": 1139498.9,
            "count": 0
           },
           {
            "bin_start": 1139498.9,
            "bin_end": 1252439,
            "count": 3
           }
          ]
         }
        },
        {
         "name": "negativas_pcr_nuevas",
         "dtype": "int64",
         "stats": {
          "unique_count": 5,
          "nan_count": 0,
          "min": "947",
          "max": "3646",
          "histogram": [
           {
            "bin_start": 947,
            "bin_end": 1216.9,
            "count": 1
           },
           {
            "bin_start": 1216.9,
            "bin_end": 1486.8,
            "count": 0
           },
           {
            "bin_start": 1486.8,
            "bin_end": 1756.6999999999998,
            "count": 0
           },
           {
            "bin_start": 1756.6999999999998,
            "bin_end": 2026.6,
            "count": 0
           },
           {
            "bin_start": 2026.6,
            "bin_end": 2296.5,
            "count": 0
           },
           {
            "bin_start": 2296.5,
            "bin_end": 2566.3999999999996,
            "count": 0
           },
           {
            "bin_start": 2566.3999999999996,
            "bin_end": 2836.2999999999997,
            "count": 1
           },
           {
            "bin_start": 2836.2999999999997,
            "bin_end": 3106.2,
            "count": 0
           },
           {
            "bin_start": 3106.2,
            "bin_end": 3376.1,
            "count": 1
           },
           {
            "bin_start": 3376.1,
            "bin_end": 3646,
            "count": 2
           }
          ]
         }
        },
        {
         "name": "negativas_rapidas",
         "dtype": "int64",
         "stats": {
          "unique_count": 1,
          "nan_count": 0,
          "min": "11616",
          "max": "11616",
          "histogram": [
           {
            "bin_start": 11615.5,
            "bin_end": 11615.6,
            "count": 0
           },
           {
            "bin_start": 11615.6,
            "bin_end": 11615.7,
            "count": 0
           },
           {
            "bin_start": 11615.7,
            "bin_end": 11615.8,
            "count": 0
           },
           {
            "bin_start": 11615.8,
            "bin_end": 11615.9,
            "count": 0
           },
           {
            "bin_start": 11615.9,
            "bin_end": 11616,
            "count": 0
           },
           {
            "bin_start": 11616,
            "bin_end": 11616.1,
            "count": 5
           },
           {
            "bin_start": 11616.1,
            "bin_end": 11616.2,
            "count": 0
           },
           {
            "bin_start": 11616.2,
            "bin_end": 11616.3,
            "count": 0
           },
           {
            "bin_start": 11616.3,
            "bin_end": 11616.4,
            "count": 0
           },
           {
            "bin_start": 11616.4,
            "bin_end": 11616.5,
            "count": 0
           }
          ]
         }
        },
        {
         "name": "hospitalizadas_altas",
         "dtype": "int64",
         "stats": {
          "unique_count": 3,
          "nan_count": 0,
          "min": "12788",
          "max": "48969",
          "histogram": [
           {
            "bin_start": 12788,
            "bin_end": 16406.1,
            "count": 1
           },
           {
            "bin_start": 16406.1,
            "bin_end": 20024.2,
            "count": 0
           },
           {
            "bin_start": 20024.2,
            "bin_end": 23642.3,
            "count": 0
           },
           {
            "bin_start": 23642.3,
            "bin_end": 27260.4,
            "count": 0
           },
           {
            "bin_start": 27260.4,
            "bin_end": 30878.5,
            "count": 0
           },
           {
            "bin_start": 30878.5,
            "bin_end": 34496.6,
            "count": 0
           },
           {
            "bin_start": 34496.6,
            "bin_end": 38114.7,
            "count": 1
           },
           {
            "bin_start": 38114.7,
            "bin_end": 41732.8,
            "count": 0
           },
           {
            "bin_start": 41732.8,
            "bin_end": 45350.899999999994,
            "count": 0
           },
           {
            "bin_start": 45350.899999999994,
            "bin_end": 48969,
            "count": 3
           }
          ]
         }
        },
        {
         "name": "hospitalizadas_estables",
         "dtype": "int64",
         "stats": {
          "unique_count": 3,
          "nan_count": 0,
          "min": "650",
          "max": "1098",
          "histogram": [
           {
            "bin_start": 650,
            "bin_end": 694.8,
            "count": 3
           },
           {
            "bin_start": 694.8,
            "bin_end": 739.6,
            "count": 0
           },
           {
            "bin_start": 739.6,
            "bin_end": 784.4,
            "count": 0
           },
           {
            "bin_start": 784.4,
            "bin_end": 829.2,
            "count": 0
           },
           {
            "bin_start": 829.2,
            "bin_end": 874,
            "count": 0
           },
           {
            "bin_start": 874,
            "bin_end": 918.8,
            "count": 0
           },
           {
            "bin_start": 918.8,
            "bin_end": 963.5999999999999,
            "count": 1
           },
           {
            "bin_start": 963.5999999999999,
            "bin_end": 1008.4,
            "count": 0
           },
           {
            "bin_start": 1008.4,
            "bin_end": 1053.2,
            "count": 0
           },
           {
            "bin_start": 1053.2,
            "bin_end": 1098,
            "count": 1
           }
          ]
         }
        },
        {
         "name": "hospitalizadas_pronostico_reservadas",
         "dtype": "int64",
         "stats": {
          "unique_count": 3,
          "nan_count": 0,
          "min": "348",
          "max": "582",
          "histogram": [
           {
            "bin_start": 348,
            "bin_end": 371.4,
            "count": 1
           },
           {
            "bin_start": 371.4,
            "bin_end": 394.8,
            "count": 0
           },
           {
            "bin_start": 394.8,
            "bin_end": 418.2,
            "count": 0
           },
           {
            "bin_start": 418.2,
            "bin_end": 441.6,
            "count": 3
           },
           {
            "bin_start": 441.6,
            "bin_end": 465,
            "count": 0
           },
           {
            "bin_start": 465,
            "bin_end": 488.4,
            "count": 0
           },
           {
            "bin_start": 488.4,
            "bin_end": 511.79999999999995,
            "count": 0
           },
           {
            "bin_start": 511.79999999999995,
            "bin_end": 535.2,
            "count": 0
           },
           {
            "bin_start": 535.2,
            "bin_end": 558.6,
            "count": 0
           },
           {
            "bin_start": 558.6,
            "bin_end": 582,
            "count": 1
           }
          ]
         }
        },
        {
         "name": "msp_hospitalizacion_camas_porcentaje_ocupadas",
         "dtype": "int64",
         "stats": {
          "unique_count": 3,
          "nan_count": 0,
          "min": "0",
          "max": "19",
          "histogram": [
           {
            "bin_start": 0,
            "bin_end": 1.9,
            "count": 2
           },
           {
            "bin_start": 1.9,
            "bin_end": 3.8,
            "count": 0
           },
           {
            "bin_start": 3.8,
            "bin_end": 5.699999999999999,
            "count": 0
           },
           {
            "bin_start": 5.699999999999999,
            "bin_end": 7.6,
            "count": 0
           },
           {
            "bin_start": 7.6,
            "bin_end": 9.5,
            "count": 0
           },
           {
            "bin_start": 9.5,
            "bin_end": 11.399999999999999,
            "count": 2
           },
           {
            "bin_start": 11.399999999999999,
            "bin_end": 13.299999999999999,
            "count": 0
           },
           {
            "bin_start": 13.299999999999999,
            "bin_end": 15.2,
            "count": 0
           },
           {
            "bin_start": 15.2,
            "bin_end": 17.099999999999998,
            "count": 0
           },
           {
            "bin_start": 17.099999999999998,
            "bin_end": 19,
            "count": 1
           }
          ]
         }
        },
        {
         "name": "msp_hospitalizacion_lista_espera",
         "dtype": "int64",
         "stats": {
          "unique_count": 2,
          "nan_count": 0,
          "min": "0",
          "max": "3",
          "histogram": [
           {
            "bin_start": 0,
            "bin_end": 0.3,
            "count": 4
           },
           {
            "bin_start": 0.3,
            "bin_end": 0.6,
            "count": 0
           },
           {
            "bin_start": 0.6,
            "bin_end": 0.8999999999999999,
            "count": 0
           },
           {
            "bin_start": 0.8999999999999999,
            "bin_end": 1.2,
            "count": 0
           },
           {
            "bin_start": 1.2,
            "bin_end": 1.5,
            "count": 0
           },
           {
            "bin_start": 1.5,
            "bin_end": 1.7999999999999998,
            "count": 0
           },
           {
            "bin_start": 1.7999999999999998,
            "bin_end": 2.1,
            "count": 0
           },
           {
            "bin_start": 2.1,
            "bin_end": 2.4,
            "count": 0
           },
           {
            "bin_start": 2.4,
            "bin_end": 2.6999999999999997,
            "count": 0
           },
           {
            "bin_start": 2.6999999999999997,
            "bin_end": 3,
            "count": 1
           }
          ]
         }
        },
        {
         "name": "msp_hospitalizacion_camas_asignadas",
         "dtype": "int64",
         "stats": {
          "unique_count": 4,
          "nan_count": 0,
          "min": "0",
          "max": "1308",
          "histogram": [
           {
            "bin_start": 0,
            "bin_end": 130.8,
            "count": 2
           },
           {
            "bin_start": 130.8,
            "bin_end": 261.6,
            "count": 0
           },
           {
            "bin_start": 261.6,
            "bin_end": 392.40000000000003,
            "count": 0
           },
           {
            "bin_start": 392.40000000000003,
            "bin_end": 523.2,
            "count": 0
           },
           {
            "bin_start": 523.2,
            "bin_end": 654,
            "count": 1
           },
           {
            "bin_start": 654,
            "bin_end": 784.8000000000001,
            "count": 1
           },
           {
            "bin_start": 784.8000000000001,
            "bin_end": 915.6000000000001,
            "count": 0
           },
           {
            "bin_start": 915.6000000000001,
            "bin_end": 1046.4,
            "count": 0
           },
           {
            "bin_start": 1046.4,
            "bin_end": 1177.2,
            "count": 0
           },
           {
            "bin_start": 1177.2,
            "bin_end": 1308,
            "count": 1
           }
          ]
         }
        },
        {
         "name": "msp_hospitalizacion_camas_ocupadas",
         "dtype": "int64",
         "stats": {
          "unique_count": 4,
          "nan_count": 0,
          "min": "0",
          "max": "251",
          "histogram": [
           {
            "bin_start": 0,
            "bin_end": 25.1,
            "count": 2
           },
           {
            "bin_start": 25.1,
            "bin_end": 50.2,
            "count": 0
           },
           {
            "bin_start": 50.2,
            "bin_end": 75.30000000000001,
            "count": 1
           },
           {
            "bin_start": 75.30000000000001,
            "bin_end": 100.4,
            "count": 1
           },
           {
            "bin_start": 100.4,
            "bin_end": 125.5,
            "count": 0
           },
           {
            "bin_start": 125.5,
            "bin_end": 150.60000000000002,
            "count": 0
           },
           {
            "bin_start": 150.60000000000002,
            "bin_end": 175.70000000000002,
            "count": 0
           },
           {
            "bin_start": 175.70000000000002,
            "bin_end": 200.8,
            "count": 0
           },
           {
            "bin_start": 200.8,
            "bin_end": 225.9,
            "count": 0
           },
           {
            "bin_start": 225.9,
            "bin_end": 251,
            "count": 1
           }
          ]
         }
        },
        {
         "name": "msp_cuidado_intermedio_camas_porcentaje_ocupadas",
         "dtype": "int64",
         "stats": {
          "unique_count": 4,
          "nan_count": 0,
          "min": "0",
          "max": "23",
          "histogram": [
           {
            "bin_start": 0,
            "bin_end": 2.3,
            "count": 2
           },
           {
            "bin_start": 2.3,
            "bin_end": 4.6,
            "count": 0
           },
           {
            "bin_start": 4.6,
            "bin_end": 6.8999999999999995,
            "count": 0
           },
           {
            "bin_start": 6.8999999999999995,
            "bin_end": 9.2,
            "count": 1
           },
           {
            "bin_start": 9.2,
            "bin_end": 11.5,
            "count": 1
           },
           {
            "bin_start": 11.5,
            "bin_end": 13.799999999999999,
            "count": 0
           },
           {
            "bin_start": 13.799999999999999,
            "bin_end": 16.099999999999998,
            "count": 0
           },
           {
            "bin_start": 16.099999999999998,
            "bin_end": 18.4,
            "count": 0
           },
           {
            "bin_start": 18.4,
            "bin_end": 20.7,
            "count": 0
           },
           {
            "bin_start": 20.7,
            "bin_end": 23,
            "count": 1
           }
          ]
         }
        },
        {
         "name": "msp_cuidado_intermedio_lista_espera",
         "dtype": "int64",
         "stats": {
          "unique_count": 3,
          "nan_count": 0,
          "min": "0",
          "max": "2",
          "histogram": [
           {
            "bin_start": 0,
            "bin_end": 0.2,
            "count": 2
           },
           {
            "bin_start": 0.2,
            "bin_end": 0.4,
            "count": 0
           },
           {
            "bin_start": 0.4,
            "bin_end": 0.6000000000000001,
            "count": 0
           },
           {
            "bin_start": 0.6000000000000001,
            "bin_end": 0.8,
            "count": 0
           },
           {
            "bin_start": 0.8,
            "bin_end": 1,
            "count": 0
           },
           {
            "bin_start": 1,
            "bin_end": 1.2000000000000002,
            "count": 2
           },
           {
            "bin_start": 1.2000000000000002,
            "bin_end": 1.4000000000000001,
            "count": 0
           },
           {
            "bin_start": 1.4000000000000001,
            "bin_end": 1.6,
            "count": 0
           },
           {
            "bin_start": 1.6,
            "bin_end": 1.8,
            "count": 0
           },
           {
            "bin_start": 1.8,
            "bin_end": 2,
            "count": 1
           }
          ]
         }
        },
        {
         "name": "msp_cuidado_intermedio_camas_asignadas",
         "dtype": "int64",
         "stats": {
          "unique_count": 4,
          "nan_count": 0,
          "min": "0",
          "max": "111",
          "histogram": [
           {
            "bin_start": 0,
            "bin_end": 11.1,
            "count": 2
           },
           {
            "bin_start": 11.1,
            "bin_end": 22.2,
            "count": 0
           },
           {
            "bin_start": 22.2,
            "bin_end": 33.3,
            "count": 0
           },
           {
            "bin_start": 33.3,
            "bin_end": 44.4,
            "count": 0
           },
           {
            "bin_start": 44.4,
            "bin_end": 55.5,
            "count": 0
           },
           {
            "bin_start": 55.5,
            "bin_end": 66.6,
            "count": 0
           },
           {
            "bin_start": 66.6,
            "bin_end": 77.7,
            "count": 0
           },
           {
            "bin_start": 77.7,
            "bin_end": 88.8,
            "count": 1
           },
           {
            "bin_start": 88.8,
            "bin_end": 99.89999999999999,
            "count": 1
           },
           {
            "bin_start": 99.89999999999999,
            "bin_end": 111,
            "count": 1
           }
          ]
         }
        },
        {
         "name": "msp_cuidado_intermedio_camas_ocupadas",
         "dtype": "int64",
         "stats": {
          "unique_count": 4,
          "nan_count": 0,
          "min": "0",
          "max": "26",
          "histogram": [
           {
            "bin_start": 0,
            "bin_end": 2.6,
            "count": 2
           },
           {
            "bin_start": 2.6,
            "bin_end": 5.2,
            "count": 0
           },
           {
            "bin_start": 5.2,
            "bin_end": 7.800000000000001,
            "count": 1
           },
           {
            "bin_start": 7.800000000000001,
            "bin_end": 10.4,
            "count": 1
           },
           {
            "bin_start": 10.4,
            "bin_end": 13,
            "count": 0
           },
           {
            "bin_start": 13,
            "bin_end": 15.600000000000001,
            "count": 0
           },
           {
            "bin_start": 15.600000000000001,
            "bin_end": 18.2,
            "count": 0
           },
           {
            "bin_start": 18.2,
            "bin_end": 20.8,
            "count": 0
           },
           {
            "bin_start": 20.8,
            "bin_end": 23.400000000000002,
            "count": 0
           },
           {
            "bin_start": 23.400000000000002,
            "bin_end": 26,
            "count": 1
           }
          ]
         }
        },
        {
         "name": "msp_uci_camas_porcentaje_ocupadas",
         "dtype": "int64",
         "stats": {
          "unique_count": 4,
          "nan_count": 0,
          "min": "0",
          "max": "61",
          "histogram": [
           {
            "bin_start": 0,
            "bin_end": 6.1,
            "count": 2
           },
           {
            "bin_start": 6.1,
            "bin_end": 12.2,
            "count": 0
           },
           {
            "bin_start": 12.2,
            "bin_end": 18.299999999999997,
            "count": 0
           },
           {
            "bin_start": 18.299999999999997,
            "bin_end": 24.4,
            "count": 0
           },
           {
            "bin_start": 24.4,
            "bin_end": 30.5,
            "count": 0
           },
           {
            "bin_start": 30.5,
            "bin_end": 36.599999999999994,
            "count": 1
           },
           {
            "bin_start": 36.599999999999994,
            "bin_end": 42.699999999999996,
            "count": 0
           },
           {
            "bin_start": 42.699999999999996,
            "bin_end": 48.8,
            "count": 1
           },
           {
            "bin_start": 48.8,
            "bin_end": 54.9,
            "count": 0
           },
           {
            "bin_start": 54.9,
            "bin_end": 61,
            "count": 1
           }
          ]
         }
        },
        {
         "name": "msp_uci_lista_espera",
         "dtype": "int64",
         "stats": {
          "unique_count": 2,
          "nan_count": 0,
          "min": "0",
          "max": "1",
          "histogram": [
           {
            "bin_start": 0,
            "bin_end": 0.1,
            "count": 2
           },
           {
            "bin_start": 0.1,
            "bin_end": 0.2,
            "count": 0
           },
           {
            "bin_start": 0.2,
            "bin_end": 0.30000000000000004,
            "count": 0
           },
           {
            "bin_start": 0.30000000000000004,
            "bin_end": 0.4,
            "count": 0
           },
           {
            "bin_start": 0.4,
            "bin_end": 0.5,
            "count": 0
           },
           {
            "bin_start": 0.5,
            "bin_end": 0.6000000000000001,
            "count": 0
           },
           {
            "bin_start": 0.6000000000000001,
            "bin_end": 0.7000000000000001,
            "count": 0
           },
           {
            "bin_start": 0.7000000000000001,
            "bin_end": 0.8,
            "count": 0
           },
           {
            "bin_start": 0.8,
            "bin_end": 0.9,
            "count": 0
           },
           {
            "bin_start": 0.9,
            "bin_end": 1,
            "count": 3
           }
          ]
         }
        },
        {
         "name": "msp_uci_camas_asignadas",
         "dtype": "int64",
         "stats": {
          "unique_count": 4,
          "nan_count": 0,
          "min": "0",
          "max": "305",
          "histogram": [
           {
            "bin_start": 0,
            "bin_end": 30.5,
            "count": 2
           },
           {
            "bin_start": 30.5,
            "bin_end": 61,
            "count": 0
           },
           {
            "bin_start": 61,
            "bin_end": 91.5,
            "count": 0
           },
           {
            "bin_start": 91.5,
            "bin_end": 122,
            "count": 0
           },
           {
            "bin_start": 122,
            "bin_end": 152.5,
            "count": 1
           },
           {
            "bin_start": 152.5,
            "bin_end": 183,
            "count": 0
           },
           {
            "bin_start": 183,
            "bin_end": 213.5,
            "count": 1
           },
           {
            "bin_start": 213.5,
            "bin_end": 244,
            "count": 0
           },
           {
            "bin_start": 244,
            "bin_end": 274.5,
            "count": 0
           },
           {
            "bin_start": 274.5,
            "bin_end": 305,
            "count": 1
           }
          ]
         }
        },
        {
         "name": "msp_uci_camas_ocupadas",
         "dtype": "int64",
         "stats": {
          "unique_count": 4,
          "nan_count": 0,
          "min": "0",
          "max": "185",
          "histogram": [
           {
            "bin_start": 0,
            "bin_end": 18.5,
            "count": 2
           },
           {
            "bin_start": 18.5,
            "bin_end": 37,
            "count": 0
           },
           {
            "bin_start": 37,
            "bin_end": 55.5,
            "count": 1
           },
           {
            "bin_start": 55.5,
            "bin_end": 74,
            "count": 0
           },
           {
            "bin_start": 74,
            "bin_end": 92.5,
            "count": 1
           },
           {
            "bin_start": 92.5,
            "bin_end": 111,
            "count": 0
           },
           {
            "bin_start": 111,
            "bin_end": 129.5,
            "count": 0
           },
           {
            "bin_start": 129.5,
            "bin_end": 148,
            "count": 0
           },
           {
            "bin_start": 148,
            "bin_end": 166.5,
            "count": 0
           },
           {
            "bin_start": 166.5,
            "bin_end": 185,
            "count": 1
           }
          ]
         }
        },
        {
         "name": "rpis_hospitalizacion_camas_porcentaje_ocupadas",
         "dtype": "int64",
         "stats": {
          "unique_count": 4,
          "nan_count": 0,
          "min": "0",
          "max": "40",
          "histogram": [
           {
            "bin_start": 0,
            "bin_end": 4,
            "count": 2
           },
           {
            "bin_start": 4,
            "bin_end": 8,
            "count": 0
           },
           {
            "bin_start": 8,
            "bin_end": 12,
            "count": 0
           },
           {
            "bin_start": 12,
            "bin_end": 16,
            "count": 0
           },
           {
            "bin_start": 16,
            "bin_end": 20,
            "count": 0
           },
           {
            "bin_start": 20,
            "bin_end": 24,
            "count": 0
           },
           {
            "bin_start": 24,
            "bin_end": 28,
            "count": 1
           },
           {
            "bin_start": 28,
            "bin_end": 32,
            "count": 0
           },
           {
            "bin_start": 32,
            "bin_end": 36,
            "count": 1
           },
           {
            "bin_start": 36,
            "bin_end": 40,
            "count": 1
           }
          ]
         }
        },
        {
         "name": "rpis_hospitalizacion_lista_espera",
         "dtype": "int64",
         "stats": {
          "unique_count": 3,
          "nan_count": 0,
          "min": "0",
          "max": "5",
          "histogram": [
           {
            "bin_start": 0,
            "bin_end": 0.5,
            "count": 3
           },
           {
            "bin_start": 0.5,
            "bin_end": 1,
            "count": 0
           },
           {
            "bin_start": 1,
            "bin_end": 1.5,
            "count": 0
           },
           {
            "bin_start": 1.5,
            "bin_end": 2,
            "count": 0
           },
           {
            "bin_start": 2,
            "bin_end": 2.5,
            "count": 1
           },
           {
            "bin_start": 2.5,
            "bin_end": 3,
            "count": 0
           },
           {
            "bin_start": 3,
            "bin_end": 3.5,
            "count": 0
           },
           {
            "bin_start": 3.5,
            "bin_end": 4,
            "count": 0
           },
           {
            "bin_start": 4,
            "bin_end": 4.5,
            "count": 0
           },
           {
            "bin_start": 4.5,
            "bin_end": 5,
            "count": 1
           }
          ]
         }
        },
        {
         "name": "rpis_hospitalizacion_camas_asignadas",
         "dtype": "int64",
         "stats": {
          "unique_count": 4,
          "nan_count": 0,
          "min": "0",
          "max": "612",
          "histogram": [
           {
            "bin_start": 0,
            "bin_end": 61.2,
            "count": 2
           },
           {
            "bin_start": 61.2,
            "bin_end": 122.4,
            "count": 0
           },
           {
            "bin_start": 122.4,
            "bin_end": 183.60000000000002,
            "count": 0
           },
           {
            "bin_start": 183.60000000000002,
            "bin_end": 244.8,
            "count": 0
           },
           {
            "bin_start": 244.8,
            "bin_end": 306,
            "count": 0
           },
           {
            "bin_start": 306,
            "bin_end": 367.20000000000005,
            "count": 1
           },
           {
            "bin_start": 367.20000000000005,
            "bin_end": 428.40000000000003,
            "count": 1
           },
           {
            "bin_start": 428.40000000000003,
            "bin_end": 489.6,
            "count": 0
           },
           {
            "bin_start": 489.6,
            "bin_end": 550.8000000000001,
            "count": 0
           },
           {
            "bin_start": 550.8000000000001,
            "bin_end": 612,
            "count": 1
           }
          ]
         }
        },
        {
         "name": "rpis_hospitalizacion_camas_ocupadas",
         "dtype": "int64",
         "stats": {
          "unique_count": 4,
          "nan_count": 0,
          "min": "0",
          "max": "243",
          "histogram": [
           {
            "bin_start": 0,
            "bin_end": 24.3,
            "count": 2
           },
           {
            "bin_start": 24.3,
            "bin_end": 48.6,
            "count": 0
           },
           {
            "bin_start": 48.6,
            "bin_end": 72.9,
            "count": 0
           },
           {
            "bin_start": 72.9,
            "bin_end": 97.2,
            "count": 0
           },
           {
            "bin_start": 97.2,
            "bin_end": 121.5,
            "count": 2
           },
           {
            "bin_start": 121.5,
            "bin_end": 145.8,
            "count": 0
           },
           {
            "bin_start": 145.8,
            "bin_end": 170.1,
            "count": 0
           },
           {
            "bin_start": 170.1,
            "bin_end": 194.4,
            "count": 0
           },
           {
            "bin_start": 194.4,
            "bin_end": 218.70000000000002,
            "count": 0
           },
           {
            "bin_start": 218.70000000000002,
            "bin_end": 243,
            "count": 1
           }
          ]
         }
        },
        {
         "name": "rpis_cuidado_intermedio_camas_porcentaje_ocupadas",
         "dtype": "int64",
         "stats": {
          "unique_count": 4,
          "nan_count": 0,
          "min": "0",
          "max": "55",
          "histogram": [
           {
            "bin_start": 0,
            "bin_end": 5.5,
            "count": 2
           },
           {
            "bin_start": 5.5,
            "bin_end": 11,
            "count": 0
           },
           {
            "bin_start": 11,
            "bin_end": 16.5,
            "count": 0
           },
           {
            "bin_start": 16.5,
            "bin_end": 22,
            "count": 0
           },
           {
            "bin_start": 22,
            "bin_end": 27.5,
            "count": 0
           },
           {
            "bin_start": 27.5,
            "bin_end": 33,
            "count": 1
           },
           {
            "bin_start": 33,
            "bin_end": 38.5,
            "count": 0
           },
           {
            "bin_start": 38.5,
            "bin_end": 44,
            "count": 1
           },
           {
            "bin_start": 44,
            "bin_end": 49.5,
            "count": 0
           },
           {
            "bin_start": 49.5,
            "bin_end": 55,
            "count": 1
           }
          ]
         }
        },
        {
         "name": "rpis_cuidado_intermedio_lista_espera",
         "dtype": "int64",
         "stats": {
          "unique_count": 2,
          "nan_count": 0,
          "min": "0",
          "max": "1",
          "histogram": [
           {
            "bin_start": 0,
            "bin_end": 0.1,
            "count": 3
           },
           {
            "bin_start": 0.1,
            "bin_end": 0.2,
            "count": 0
           },
           {
            "bin_start": 0.2,
            "bin_end": 0.30000000000000004,
            "count": 0
           },
           {
            "bin_start": 0.30000000000000004,
            "bin_end": 0.4,
            "count": 0
           },
           {
            "bin_start": 0.4,
            "bin_end": 0.5,
            "count": 0
           },
           {
            "bin_start": 0.5,
            "bin_end": 0.6000000000000001,
            "count": 0
           },
           {
            "bin_start": 0.6000000000000001,
            "bin_end": 0.7000000000000001,
            "count": 0
           },
           {
            "bin_start": 0.7000000000000001,
            "bin_end": 0.8,
            "count": 0
           },
           {
            "bin_start": 0.8,
            "bin_end": 0.9,
            "count": 0
           },
           {
            "bin_start": 0.9,
            "bin_end": 1,
            "count": 2
           }
          ]
         }
        },
        {
         "name": "rpis_cuidado_intermedio_camas_asignadas",
         "dtype": "int64",
         "stats": {
          "unique_count": 4,
          "nan_count": 0,
          "min": "0",
          "max": "29",
          "histogram": [
           {
            "bin_start": 0,
            "bin_end": 2.9,
            "count": 2
           },
           {
            "bin_start": 2.9,
            "bin_end": 5.8,
            "count": 0
           },
           {
            "bin_start": 5.8,
            "bin_end": 8.7,
            "count": 0
           },
           {
            "bin_start": 8.7,
            "bin_end": 11.6,
            "count": 1
           },
           {
            "bin_start": 11.6,
            "bin_end": 14.5,
            "count": 1
           },
           {
            "bin_start": 14.5,
            "bin_end": 17.4,
            "count": 0
           },
           {
            "bin_start": 17.4,
            "bin_end": 20.3,
            "count": 0
           },
           {
            "bin_start": 20.3,
            "bin_end": 23.2,
            "count": 0
           },
           {
            "bin_start": 23.2,
            "bin_end": 26.099999999999998,
            "count": 0
           },
           {
            "bin_start": 26.099999999999998,
            "bin_end": 29,
            "count": 1
           }
          ]
         }
        },
        {
         "name": "rpis_cuidado_intermedio_camas_ocupadas",
         "dtype": "int64",
         "stats": {
          "unique_count": 3,
          "nan_count": 0,
          "min": "0",
          "max": "16",
          "histogram": [
           {
            "bin_start": 0,
            "bin_end": 1.6,
            "count": 2
           },
           {
            "bin_start": 1.6,
            "bin_end": 3.2,
            "count": 0
           },
           {
            "bin_start": 3.2,
            "bin_end": 4.800000000000001,
            "count": 2
           },
           {
            "bin_start": 4.800000000000001,
            "bin_end": 6.4,
            "count": 0
           },
           {
            "bin_start": 6.4,
            "bin_end": 8,
            "count": 0
           },
           {
            "bin_start": 8,
            "bin_end": 9.600000000000001,
            "count": 0
           },
           {
            "bin_start": 9.600000000000001,
            "bin_end": 11.200000000000001,
            "count": 0
           },
           {
            "bin_start": 11.200000000000001,
            "bin_end": 12.8,
            "count": 0
           },
           {
            "bin_start": 12.8,
            "bin_end": 14.4,
            "count": 0
           },
           {
            "bin_start": 14.4,
            "bin_end": 16,
            "count": 1
           }
          ]
         }
        },
        {
         "name": "rpis_uci_camas_porcentaje_ocupadas",
         "dtype": "int64",
         "stats": {
          "unique_count": 4,
          "nan_count": 0,
          "min": "0",
          "max": "71",
          "histogram": [
           {
            "bin_start": 0,
            "bin_end": 7.1,
            "count": 2
           },
           {
            "bin_start": 7.1,
            "bin_end": 14.2,
            "count": 0
           },
           {
            "bin_start": 14.2,
            "bin_end": 21.299999999999997,
            "count": 0
           },
           {
            "bin_start": 21.299999999999997,
            "bin_end": 28.4,
            "count": 0
           },
           {
            "bin_start": 28.4,
            "bin_end": 35.5,
            "count": 0
           },
           {
            "bin_start": 35.5,
            "bin_end": 42.599999999999994,
            "count": 0
           },
           {
            "bin_start": 42.599999999999994,
            "bin_end": 49.699999999999996,
            "count": 2
           },
           {
            "bin_start": 49.699999999999996,
            "bin_end": 56.8,
            "count": 0
           },
           {
            "bin_start": 56.8,
            "bin_end": 63.9,
            "count": 0
           },
           {
            "bin_start": 63.9,
            "bin_end": 71,
            "count": 1
           }
          ]
         }
        },
        {
         "name": "rpis_uci_lista_espera",
         "dtype": "int64",
         "stats": {
          "unique_count": 4,
          "nan_count": 0,
          "min": "0",
          "max": "10",
          "histogram": [
           {
            "bin_start": 0,
            "bin_end": 1,
            "count": 2
           },
           {
            "bin_start": 1,
            "bin_end": 2,
            "count": 1
           },
           {
            "bin_start": 2,
            "bin_end": 3,
            "count": 1
           },
           {
            "bin_start": 3,
            "bin_end": 4,
            "count": 0
           },
           {
            "bin_start": 4,
            "bin_end": 5,
            "count": 0
           },
           {
            "bin_start": 5,
            "bin_end": 6,
            "count": 0
           },
           {
            "bin_start": 6,
            "bin_end": 7,
            "count": 0
           },
           {
            "bin_start": 7,
            "bin_end": 8,
            "count": 0
           },
           {
            "bin_start": 8,
            "bin_end": 9,
            "count": 0
           },
           {
            "bin_start": 9,
            "bin_end": 10,
            "count": 1
           }
          ]
         }
        },
        {
         "name": "rpis_uci_camas_asignadas",
         "dtype": "int64",
         "stats": {
          "unique_count": 4,
          "nan_count": 0,
          "min": "0",
          "max": "218",
          "histogram": [
           {
            "bin_start": 0,
            "bin_end": 21.8,
            "count": 2
           },
           {
            "bin_start": 21.8,
            "bin_end": 43.6,
            "count": 0
           },
           {
            "bin_start": 43.6,
            "bin_end": 65.4,
            "count": 0
           },
           {
            "bin_start": 65.4,
            "bin_end": 87.2,
            "count": 0
           },
           {
            "bin_start": 87.2,
            "bin_end": 109,
            "count": 1
           },
           {
            "bin_start": 109,
            "bin_end": 130.8,
            "count": 0
           },
           {
            "bin_start": 130.8,
            "bin_end": 152.6,
            "count": 1
           },
           {
            "bin_start": 152.6,
            "bin_end": 174.4,
            "count": 0
           },
           {
            "bin_start": 174.4,
            "bin_end": 196.20000000000002,
            "count": 0
           },
           {
            "bin_start": 196.20000000000002,
            "bin_end": 218,
            "count": 1
           }
          ]
         }
        },
        {
         "name": "rpis_uci_camas_ocupadas",
         "dtype": "int64",
         "stats": {
          "unique_count": 4,
          "nan_count": 0,
          "min": "0",
          "max": "155",
          "histogram": [
           {
            "bin_start": 0,
            "bin_end": 15.5,
            "count": 2
           },
           {
            "bin_start": 15.5,
            "bin_end": 31,
            "count": 0
           },
           {
            "bin_start": 31,
            "bin_end": 46.5,
            "count": 0
           },
           {
            "bin_start": 46.5,
            "bin_end": 62,
            "count": 1
           },
           {
            "bin_start": 62,
            "bin_end": 77.5,
            "count": 1
           },
           {
            "bin_start": 77.5,
            "bin_end": 93,
            "count": 0
           },
           {
            "bin_start": 93,
            "bin_end": 108.5,
            "count": 0
           },
           {
            "bin_start": 108.5,
            "bin_end": 124,
            "count": 0
           },
           {
            "bin_start": 124,
            "bin_end": 139.5,
            "count": 0
           },
           {
            "bin_start": 139.5,
            "bin_end": 155,
            "count": 1
           }
          ]
         }
        },
        {
         "name": "rpc_hospitalizacion_camas_porcentaje_ocupadas",
         "dtype": "int64",
         "stats": {
          "unique_count": 4,
          "nan_count": 0,
          "min": "0",
          "max": "26",
          "histogram": [
           {
            "bin_start": 0,
            "bin_end": 2.6,
            "count": 2
           },
           {
            "bin_start": 2.6,
            "bin_end": 5.2,
            "count": 0
           },
           {
            "bin_start": 5.2,
            "bin_end": 7.800000000000001,
            "count": 0
           },
           {
            "bin_start": 7.800000000000001,
            "bin_end": 10.4,
            "count": 0
           },
           {
            "bin_start": 10.4,
            "bin_end": 13,
            "count": 0
           },
           {
            "bin_start": 13,
            "bin_end": 15.600000000000001,
            "count": 0
           },
           {
            "bin_start": 15.600000000000001,
            "bin_end": 18.2,
            "count": 2
           },
           {
            "bin_start": 18.2,
            "bin_end": 20.8,
            "count": 0
           },
           {
            "bin_start": 20.8,
            "bin_end": 23.400000000000002,
            "count": 0
           },
           {
            "bin_start": 23.400000000000002,
            "bin_end": 26,
            "count": 1
           }
          ]
         }
        },
        {
         "name": "rpc_hospitalizacion_lista_espera",
         "dtype": "int64",
         "stats": {
          "unique_count": 1,
          "nan_count": 0,
          "min": "0",
          "max": "0",
          "histogram": [
           {
            "bin_start": -0.5,
            "bin_end": -0.4,
            "count": 0
           },
           {
            "bin_start": -0.4,
            "bin_end": -0.3,
            "count": 0
           },
           {
            "bin_start": -0.3,
            "bin_end": -0.19999999999999996,
            "count": 0
           },
           {
            "bin_start": -0.19999999999999996,
            "bin_end": -0.09999999999999998,
            "count": 0
           },
           {
            "bin_start": -0.09999999999999998,
            "bin_end": 0,
            "count": 0
           },
           {
            "bin_start": 0,
            "bin_end": 0.10000000000000009,
            "count": 5
           },
           {
            "bin_start": 0.10000000000000009,
            "bin_end": 0.20000000000000007,
            "count": 0
           },
           {
            "bin_start": 0.20000000000000007,
            "bin_end": 0.30000000000000004,
            "count": 0
           },
           {
            "bin_start": 0.30000000000000004,
            "bin_end": 0.4,
            "count": 0
           },
           {
            "bin_start": 0.4,
            "bin_end": 0.5,
            "count": 0
           }
          ]
         }
        },
        {
         "name": "rpc_hospitalizacion_camas_asignadas",
         "dtype": "int64",
         "stats": {
          "unique_count": 4,
          "nan_count": 0,
          "min": "0",
          "max": "458",
          "histogram": [
           {
            "bin_start": 0,
            "bin_end": 45.8,
            "count": 2
           },
           {
            "bin_start": 45.8,
            "bin_end": 91.6,
            "count": 0
           },
           {
            "bin_start": 91.6,
            "bin_end": 137.39999999999998,
            "count": 0
           },
           {
            "bin_start": 137.39999999999998,
            "bin_end": 183.2,
            "count": 0
           },
           {
            "bin_start": 183.2,
            "bin_end": 229,
            "count": 0
           },
           {
            "bin_start": 229,
            "bin_end": 274.79999999999995,
            "count": 0
           },
           {
            "bin_start": 274.79999999999995,
            "bin_end": 320.59999999999997,
            "count": 0
           },
           {
            "bin_start": 320.59999999999997,
            "bin_end": 366.4,
            "count": 1
           },
           {
            "bin_start": 366.4,
            "bin_end": 412.2,
            "count": 1
           },
           {
            "bin_start": 412.2,
            "bin_end": 458,
            "count": 1
           }
          ]
         }
        },
        {
         "name": "rpc_hospitalizacion_camas_ocupadas",
         "dtype": "int64",
         "stats": {
          "unique_count": 4,
          "nan_count": 0,
          "min": "0",
          "max": "120",
          "histogram": [
           {
            "bin_start": 0,
            "bin_end": 12,
            "count": 2
           },
           {
            "bin_start": 12,
            "bin_end": 24,
            "count": 0
           },
           {
            "bin_start": 24,
            "bin_end": 36,
            "count": 0
           },
           {
            "bin_start": 36,
            "bin_end": 48,
            "count": 0
           },
           {
            "bin_start": 48,
            "bin_end": 60,
            "count": 0
           },
           {
            "bin_start": 60,
            "bin_end": 72,
            "count": 2
           },
           {
            "bin_start": 72,
            "bin_end": 84,
            "count": 0
           },
           {
            "bin_start": 84,
            "bin_end": 96,
            "count": 0
           },
           {
            "bin_start": 96,
            "bin_end": 108,
            "count": 0
           },
           {
            "bin_start": 108,
            "bin_end": 120,
            "count": 1
           }
          ]
         }
        },
        {
         "name": "rpc_cuidado_intermedio_camas_porcentaje_ocupadas",
         "dtype": "int64",
         "stats": {
          "unique_count": 3,
          "nan_count": 0,
          "min": "0",
          "max": "18",
          "histogram": [
           {
            "bin_start": 0,
            "bin_end": 1.8,
            "count": 3
           },
           {
            "bin_start": 1.8,
            "bin_end": 3.6,
            "count": 0
           },
           {
            "bin_start": 3.6,
            "bin_end": 5.4,
            "count": 0
           },
           {
            "bin_start": 5.4,
            "bin_end": 7.2,
            "count": 0
           },
           {
            "bin_start": 7.2,
            "bin_end": 9,
            "count": 0
           },
           {
            "bin_start": 9,
            "bin_end": 10.8,
            "count": 0
           },
           {
            "bin_start": 10.8,
            "bin_end": 12.6,
            "count": 1
           },
           {
            "bin_start": 12.6,
            "bin_end": 14.4,
            "count": 0
           },
           {
            "bin_start": 14.4,
            "bin_end": 16.2,
            "count": 0
           },
           {
            "bin_start": 16.2,
            "bin_end": 18,
            "count": 1
           }
          ]
         }
        },
        {
         "name": "rpc_cuidado_intermedio_lista_espera",
         "dtype": "int64",
         "stats": {
          "unique_count": 1,
          "nan_count": 0,
          "min": "0",
          "max": "0",
          "histogram": [
           {
            "bin_start": -0.5,
            "bin_end": -0.4,
            "count": 0
           },
           {
            "bin_start": -0.4,
            "bin_end": -0.3,
            "count": 0
           },
           {
            "bin_start": -0.3,
            "bin_end": -0.19999999999999996,
            "count": 0
           },
           {
            "bin_start": -0.19999999999999996,
            "bin_end": -0.09999999999999998,
            "count": 0
           },
           {
            "bin_start": -0.09999999999999998,
            "bin_end": 0,
            "count": 0
           },
           {
            "bin_start": 0,
            "bin_end": 0.10000000000000009,
            "count": 5
           },
           {
            "bin_start": 0.10000000000000009,
            "bin_end": 0.20000000000000007,
            "count": 0
           },
           {
            "bin_start": 0.20000000000000007,
            "bin_end": 0.30000000000000004,
            "count": 0
           },
           {
            "bin_start": 0.30000000000000004,
            "bin_end": 0.4,
            "count": 0
           },
           {
            "bin_start": 0.4,
            "bin_end": 0.5,
            "count": 0
           }
          ]
         }
        },
        {
         "name": "rpc_cuidado_intermedio_camas_asignadas",
         "dtype": "int64",
         "stats": {
          "unique_count": 4,
          "nan_count": 0,
          "min": "0",
          "max": "19",
          "histogram": [
           {
            "bin_start": 0,
            "bin_end": 1.9,
            "count": 2
           },
           {
            "bin_start": 1.9,
            "bin_end": 3.8,
            "count": 0
           },
           {
            "bin_start": 3.8,
            "bin_end": 5.699999999999999,
            "count": 0
           },
           {
            "bin_start": 5.699999999999999,
            "bin_end": 7.6,
            "count": 0
           },
           {
            "bin_start": 7.6,
            "bin_end": 9.5,
            "count": 0
           },
           {
            "bin_start": 9.5,
            "bin_end": 11.399999999999999,
            "count": 0
           },
           {
            "bin_start": 11.399999999999999,
            "bin_end": 13.299999999999999,
            "count": 0
           },
           {
            "bin_start": 13.299999999999999,
            "bin_end": 15.2,
            "count": 1
           },
           {
            "bin_start": 15.2,
            "bin_end": 17.099999999999998,
            "count": 1
           },
           {
            "bin_start": 17.099999999999998,
            "bin_end": 19,
            "count": 1
           }
          ]
         }
        },
        {
         "name": "rpc_cuidado_intermedio_camas_ocupadas",
         "dtype": "int64",
         "stats": {
          "unique_count": 3,
          "nan_count": 0,
          "min": "0",
          "max": "3",
          "histogram": [
           {
            "bin_start": 0,
            "bin_end": 0.3,
            "count": 3
           },
           {
            "bin_start": 0.3,
            "bin_end": 0.6,
            "count": 0
           },
           {
            "bin_start": 0.6,
            "bin_end": 0.8999999999999999,
            "count": 0
           },
           {
            "bin_start": 0.8999999999999999,
            "bin_end": 1.2,
            "count": 0
           },
           {
            "bin_start": 1.2,
            "bin_end": 1.5,
            "count": 0
           },
           {
            "bin_start": 1.5,
            "bin_end": 1.7999999999999998,
            "count": 0
           },
           {
            "bin_start": 1.7999999999999998,
            "bin_end": 2.1,
            "count": 1
           },
           {
            "bin_start": 2.1,
            "bin_end": 2.4,
            "count": 0
           },
           {
            "bin_start": 2.4,
            "bin_end": 2.6999999999999997,
            "count": 0
           },
           {
            "bin_start": 2.6999999999999997,
            "bin_end": 3,
            "count": 1
           }
          ]
         }
        },
        {
         "name": "rpc_uci_camas_porcentaje_ocupadas",
         "dtype": "int64",
         "stats": {
          "unique_count": 4,
          "nan_count": 0,
          "min": "0",
          "max": "34",
          "histogram": [
           {
            "bin_start": 0,
            "bin_end": 3.4,
            "count": 2
           },
           {
            "bin_start": 3.4,
            "bin_end": 6.8,
            "count": 0
           },
           {
            "bin_start": 6.8,
            "bin_end": 10.2,
            "count": 0
           },
           {
            "bin_start": 10.2,
            "bin_end": 13.6,
            "count": 1
           },
           {
            "bin_start": 13.6,
            "bin_end": 17,
            "count": 0
           },
           {
            "bin_start": 17,
            "bin_end": 20.4,
            "count": 1
           },
           {
            "bin_start": 20.4,
            "bin_end": 23.8,
            "count": 0
           },
           {
            "bin_start": 23.8,
            "bin_end": 27.2,
            "count": 0
           },
           {
            "bin_start": 27.2,
            "bin_end": 30.599999999999998,
            "count": 0
           },
           {
            "bin_start": 30.599999999999998,
            "bin_end": 34,
            "count": 1
           }
          ]
         }
        },
        {
         "name": "rpc_uci_lista_espera",
         "dtype": "int64",
         "stats": {
          "unique_count": 2,
          "nan_count": 0,
          "min": "0",
          "max": "3",
          "histogram": [
           {
            "bin_start": 0,
            "bin_end": 0.3,
            "count": 3
           },
           {
            "bin_start": 0.3,
            "bin_end": 0.6,
            "count": 0
           },
           {
            "bin_start": 0.6,
            "bin_end": 0.8999999999999999,
            "count": 0
           },
           {
            "bin_start": 0.8999999999999999,
            "bin_end": 1.2,
            "count": 0
           },
           {
            "bin_start": 1.2,
            "bin_end": 1.5,
            "count": 0
           },
           {
            "bin_start": 1.5,
            "bin_end": 1.7999999999999998,
            "count": 0
           },
           {
            "bin_start": 1.7999999999999998,
            "bin_end": 2.1,
            "count": 0
           },
           {
            "bin_start": 2.1,
            "bin_end": 2.4,
            "count": 0
           },
           {
            "bin_start": 2.4,
            "bin_end": 2.6999999999999997,
            "count": 0
           },
           {
            "bin_start": 2.6999999999999997,
            "bin_end": 3,
            "count": 2
           }
          ]
         }
        },
        {
         "name": "rpc_uci_camas_asignadas",
         "dtype": "int64",
         "stats": {
          "unique_count": 4,
          "nan_count": 0,
          "min": "0",
          "max": "160",
          "histogram": [
           {
            "bin_start": 0,
            "bin_end": 16,
            "count": 2
           },
           {
            "bin_start": 16,
            "bin_end": 32,
            "count": 0
           },
           {
            "bin_start": 32,
            "bin_end": 48,
            "count": 0
           },
           {
            "bin_start": 48,
            "bin_end": 64,
            "count": 0
           },
           {
            "bin_start": 64,
            "bin_end": 80,
            "count": 0
           },
           {
            "bin_start": 80,
            "bin_end": 96,
            "count": 0
           },
           {
            "bin_start": 96,
            "bin_end": 112,
            "count": 0
           },
           {
            "bin_start": 112,
            "bin_end": 128,
            "count": 0
           },
           {
            "bin_start": 128,
            "bin_end": 144,
            "count": 2
           },
           {
            "bin_start": 144,
            "bin_end": 160,
            "count": 1
           }
          ]
         }
        },
        {
         "name": "rpc_uci_camas_ocupadas",
         "dtype": "int64",
         "stats": {
          "unique_count": 4,
          "nan_count": 0,
          "min": "0",
          "max": "54",
          "histogram": [
           {
            "bin_start": 0,
            "bin_end": 5.4,
            "count": 2
           },
           {
            "bin_start": 5.4,
            "bin_end": 10.8,
            "count": 0
           },
           {
            "bin_start": 10.8,
            "bin_end": 16.200000000000003,
            "count": 1
           },
           {
            "bin_start": 16.200000000000003,
            "bin_end": 21.6,
            "count": 0
           },
           {
            "bin_start": 21.6,
            "bin_end": 27,
            "count": 1
           },
           {
            "bin_start": 27,
            "bin_end": 32.400000000000006,
            "count": 0
           },
           {
            "bin_start": 32.400000000000006,
            "bin_end": 37.800000000000004,
            "count": 0
           },
           {
            "bin_start": 37.800000000000004,
            "bin_end": 43.2,
            "count": 0
           },
           {
            "bin_start": 43.2,
            "bin_end": 48.6,
            "count": 0
           },
           {
            "bin_start": 48.6,
            "bin_end": 54,
            "count": 1
           }
          ]
         }
        },
        {
         "name": "_deepnote_index_column",
         "dtype": "int64"
        }
       ],
       "rows": [
        {
         "created_at": "2021-09-20",
         "muestras": 1833712,
         "muestras_pcr": 1813140,
         "positivas_total": 602336,
         "positivas_probables": 95316,
         "muestras_pcr_nuevas": 971,
         "pruebas_rezagadas": 95316,
         "muertes_confirmadas": 23118,
         "muertes_probables": 9548,
         "muertes": 32666,
         "muertes_nuevas": 5,
         "positivas": 515976,
         "positivas_pcr": 507020,
         "positivas_pcr_nuevas": 17,
         "positivas_pcr_mujer": 247593,
         "positivas_pcr_hombre": 259427,
         "positivas_pcr_hombre_edades_meses": 375,
         "positivas_pcr_hombre_edades_0a4": 1593,
         "positivas_pcr_hombre_edades_5a9": 2319,
         "positivas_pcr_hombre_edades_10a14": 4632,
         "positivas_pcr_hombre_edades_15a19": 9256,
         "positivas_pcr_hombre_edades_20a49": 141757,
         "positivas_pcr_hombre_edades_50a64": 47835,
         "positivas_pcr_hombre_edades_65an": 28314,
         "positivas_pcr_mujer_edades_meses": 432,
         "positivas_pcr_mujer_edades_0a4": 1747,
         "positivas_pcr_mujer_edades_5a9": 2377,
         "positivas_pcr_mujer_edades_10a14": 4593,
         "positivas_pcr_mujer_edades_15a19": 8574,
         "positivas_pcr_mujer_edades_20a49": 148954,
         "positivas_pcr_mujer_edades_50a64": 50219,
         "positivas_pcr_mujer_edades_65an": 31563,
         "positivas_rapidas": 8956,
         "negativas": 1222420,
         "negativas_pcr": 1210804,
         "negativas_pcr_nuevas": 947,
         "negativas_rapidas": 11616,
         "hospitalizadas_altas": 48969,
         "hospitalizadas_estables": 650,
         "hospitalizadas_pronostico_reservadas": 427,
         "msp_hospitalizacion_camas_porcentaje_ocupadas": 11,
         "msp_hospitalizacion_lista_espera": 0,
         "msp_hospitalizacion_camas_asignadas": 743,
         "msp_hospitalizacion_camas_ocupadas": 81,
         "msp_cuidado_intermedio_camas_porcentaje_ocupadas": 11,
         "msp_cuidado_intermedio_lista_espera": 1,
         "msp_cuidado_intermedio_camas_asignadas": 95,
         "msp_cuidado_intermedio_camas_ocupadas": 10,
         "msp_uci_camas_porcentaje_ocupadas": 44,
         "msp_uci_lista_espera": 1,
         "msp_uci_camas_asignadas": 185,
         "msp_uci_camas_ocupadas": 82,
         "rpis_hospitalizacion_camas_porcentaje_ocupadas": 25,
         "rpis_hospitalizacion_lista_espera": 0,
         "rpis_hospitalizacion_camas_asignadas": 424,
         "rpis_hospitalizacion_camas_ocupadas": 105,
         "rpis_cuidado_intermedio_camas_porcentaje_ocupadas": 31,
         "rpis_cuidado_intermedio_lista_espera": 1,
         "rpis_cuidado_intermedio_camas_asignadas": 13,
         "rpis_cuidado_intermedio_camas_ocupadas": 4,
         "rpis_uci_camas_porcentaje_ocupadas": 46,
         "rpis_uci_lista_espera": 2,
         "rpis_uci_camas_asignadas": 141,
         "rpis_uci_camas_ocupadas": 65,
         "rpc_hospitalizacion_camas_porcentaje_ocupadas": 16,
         "rpc_hospitalizacion_lista_espera": 0,
         "rpc_hospitalizacion_camas_asignadas": 412,
         "rpc_hospitalizacion_camas_ocupadas": 67,
         "rpc_cuidado_intermedio_camas_porcentaje_ocupadas": 11,
         "rpc_cuidado_intermedio_lista_espera": 0,
         "rpc_cuidado_intermedio_camas_asignadas": 19,
         "rpc_cuidado_intermedio_camas_ocupadas": 2,
         "rpc_uci_camas_porcentaje_ocupadas": 17,
         "rpc_uci_lista_espera": 3,
         "rpc_uci_camas_asignadas": 132,
         "rpc_uci_camas_ocupadas": 22,
         "_deepnote_index_column": 556
        },
        {
         "created_at": "2021-04-08",
         "muestras": 1200900,
         "muestras_pcr": 1180328,
         "positivas_total": 0,
         "positivas_probables": 0,
         "muestras_pcr_nuevas": 7706,
         "pruebas_rezagadas": 55545,
         "muertes_confirmadas": 12208,
         "muertes_probables": 4907,
         "muertes": 17115,
         "muertes_nuevas": 58,
         "positivas": 350575,
         "positivas_pcr": 341619,
         "positivas_pcr_nuevas": 2015,
         "positivas_pcr_mujer": 0,
         "positivas_pcr_hombre": 0,
         "positivas_pcr_hombre_edades_meses": 0,
         "positivas_pcr_hombre_edades_0a4": 0,
         "positivas_pcr_hombre_edades_5a9": 0,
         "positivas_pcr_hombre_edades_10a14": 0,
         "positivas_pcr_hombre_edades_15a19": 0,
         "positivas_pcr_hombre_edades_20a49": 0,
         "positivas_pcr_hombre_edades_50a64": 0,
         "positivas_pcr_hombre_edades_65an": 0,
         "positivas_pcr_mujer_edades_meses": 0,
         "positivas_pcr_mujer_edades_0a4": 0,
         "positivas_pcr_mujer_edades_5a9": 0,
         "positivas_pcr_mujer_edades_10a14": 0,
         "positivas_pcr_mujer_edades_15a19": 0,
         "positivas_pcr_mujer_edades_20a49": 0,
         "positivas_pcr_mujer_edades_50a64": 0,
         "positivas_pcr_mujer_edades_65an": 0,
         "positivas_rapidas": 8956,
         "negativas": 794780,
         "negativas_pcr": 783164,
         "negativas_pcr_nuevas": 3646,
         "negativas_rapidas": 11616,
         "hospitalizadas_altas": 37012,
         "hospitalizadas_estables": 1098,
         "hospitalizadas_pronostico_reservadas": 582,
         "msp_hospitalizacion_camas_porcentaje_ocupadas": 0,
         "msp_hospitalizacion_lista_espera": 0,
         "msp_hospitalizacion_camas_asignadas": 0,
         "msp_hospitalizacion_camas_ocupadas": 0,
         "msp_cuidado_intermedio_camas_porcentaje_ocupadas": 0,
         "msp_cuidado_intermedio_lista_espera": 0,
         "msp_cuidado_intermedio_camas_asignadas": 0,
         "msp_cuidado_intermedio_camas_ocupadas": 0,
         "msp_uci_camas_porcentaje_ocupadas": 0,
         "msp_uci_lista_espera": 0,
         "msp_uci_camas_asignadas": 0,
         "msp_uci_camas_ocupadas": 0,
         "rpis_hospitalizacion_camas_porcentaje_ocupadas": 0,
         "rpis_hospitalizacion_lista_espera": 0,
         "rpis_hospitalizacion_camas_asignadas": 0,
         "rpis_hospitalizacion_camas_ocupadas": 0,
         "rpis_cuidado_intermedio_camas_porcentaje_ocupadas": 0,
         "rpis_cuidado_intermedio_lista_espera": 0,
         "rpis_cuidado_intermedio_camas_asignadas": 0,
         "rpis_cuidado_intermedio_camas_ocupadas": 0,
         "rpis_uci_camas_porcentaje_ocupadas": 0,
         "rpis_uci_lista_espera": 0,
         "rpis_uci_camas_asignadas": 0,
         "rpis_uci_camas_ocupadas": 0,
         "rpc_hospitalizacion_camas_porcentaje_ocupadas": 0,
         "rpc_hospitalizacion_lista_espera": 0,
         "rpc_hospitalizacion_camas_asignadas": 0,
         "rpc_hospitalizacion_camas_ocupadas": 0,
         "rpc_cuidado_intermedio_camas_porcentaje_ocupadas": 0,
         "rpc_cuidado_intermedio_lista_espera": 0,
         "rpc_cuidado_intermedio_camas_asignadas": 0,
         "rpc_cuidado_intermedio_camas_ocupadas": 0,
         "rpc_uci_camas_porcentaje_ocupadas": 0,
         "rpc_uci_lista_espera": 0,
         "rpc_uci_camas_asignadas": 0,
         "rpc_uci_camas_ocupadas": 0,
         "_deepnote_index_column": 391
        },
        {
         "created_at": "2020-08-12",
         "muestras": 272000,
         "muestras_pcr": 251428,
         "positivas_total": 0,
         "positivas_probables": 0,
         "muestras_pcr_nuevas": 3274,
         "pruebas_rezagadas": 40236,
         "muertes_confirmadas": 5984,
         "muertes_probables": 3545,
         "muertes": 9529,
         "muertes_nuevas": 37,
         "positivas": 97110,
         "positivas_pcr": 88154,
         "positivas_pcr_nuevas": 1547,
         "positivas_pcr_mujer": 0,
         "positivas_pcr_hombre": 0,
         "positivas_pcr_hombre_edades_meses": 0,
         "positivas_pcr_hombre_edades_0a4": 0,
         "positivas_pcr_hombre_edades_5a9": 0,
         "positivas_pcr_hombre_edades_10a14": 0,
         "positivas_pcr_hombre_edades_15a19": 0,
         "positivas_pcr_hombre_edades_20a49": 0,
         "positivas_pcr_hombre_edades_50a64": 0,
         "positivas_pcr_hombre_edades_65an": 0,
         "positivas_pcr_mujer_edades_meses": 0,
         "positivas_pcr_mujer_edades_0a4": 0,
         "positivas_pcr_mujer_edades_5a9": 0,
         "positivas_pcr_mujer_edades_10a14": 0,
         "positivas_pcr_mujer_edades_15a19": 0,
         "positivas_pcr_mujer_edades_20a49": 0,
         "positivas_pcr_mujer_edades_50a64": 0,
         "positivas_pcr_mujer_edades_65an": 0,
         "positivas_rapidas": 8956,
         "negativas": 134654,
         "negativas_pcr": 123038,
         "negativas_pcr_nuevas": 3109,
         "negativas_rapidas": 11616,
         "hospitalizadas_altas": 12788,
         "hospitalizadas_estables": 920,
         "hospitalizadas_pronostico_reservadas": 348,
         "msp_hospitalizacion_camas_porcentaje_ocupadas": 0,
         "msp_hospitalizacion_lista_espera": 0,
         "msp_hospitalizacion_camas_asignadas": 0,
         "msp_hospitalizacion_camas_ocupadas": 0,
         "msp_cuidado_intermedio_camas_porcentaje_ocupadas": 0,
         "msp_cuidado_intermedio_lista_espera": 0,
         "msp_cuidado_intermedio_camas_asignadas": 0,
         "msp_cuidado_intermedio_camas_ocupadas": 0,
         "msp_uci_camas_porcentaje_ocupadas": 0,
         "msp_uci_lista_espera": 0,
         "msp_uci_camas_asignadas": 0,
         "msp_uci_camas_ocupadas": 0,
         "rpis_hospitalizacion_camas_porcentaje_ocupadas": 0,
         "rpis_hospitalizacion_lista_espera": 0,
         "rpis_hospitalizacion_camas_asignadas": 0,
         "rpis_hospitalizacion_camas_ocupadas": 0,
         "rpis_cuidado_intermedio_camas_porcentaje_ocupadas": 0,
         "rpis_cuidado_intermedio_lista_espera": 0,
         "rpis_cuidado_intermedio_camas_asignadas": 0,
         "rpis_cuidado_intermedio_camas_ocupadas": 0,
         "rpis_uci_camas_porcentaje_ocupadas": 0,
         "rpis_uci_lista_espera": 0,
         "rpis_uci_camas_asignadas": 0,
         "rpis_uci_camas_ocupadas": 0,
         "rpc_hospitalizacion_camas_porcentaje_ocupadas": 0,
         "rpc_hospitalizacion_lista_espera": 0,
         "rpc_hospitalizacion_camas_asignadas": 0,
         "rpc_hospitalizacion_camas_ocupadas": 0,
         "rpc_cuidado_intermedio_camas_porcentaje_ocupadas": 0,
         "rpc_cuidado_intermedio_lista_espera": 0,
         "rpc_cuidado_intermedio_camas_asignadas": 0,
         "rpc_cuidado_intermedio_camas_ocupadas": 0,
         "rpc_uci_camas_porcentaje_ocupadas": 0,
         "rpc_uci_lista_espera": 0,
         "rpc_uci_camas_asignadas": 0,
         "rpc_uci_camas_ocupadas": 0,
         "_deepnote_index_column": 152
        },
        {
         "created_at": "2021-09-02",
         "muestras": 1797507,
         "muestras_pcr": 1776935,
         "positivas_total": 596456,
         "positivas_probables": 93355,
         "muestras_pcr_nuevas": 4236,
         "pruebas_rezagadas": 93355,
         "muertes_confirmadas": 22803,
         "muertes_probables": 9502,
         "muertes": 32305,
         "muertes_nuevas": 9,
         "positivas": 512057,
         "positivas_pcr": 503101,
         "positivas_pcr_nuevas": 955,
         "positivas_pcr_mujer": 245600,
         "positivas_pcr_hombre": 257501,
         "positivas_pcr_hombre_edades_meses": 375,
         "positivas_pcr_hombre_edades_0a4": 1593,
         "positivas_pcr_hombre_edades_5a9": 2319,
         "positivas_pcr_hombre_edades_10a14": 4632,
         "positivas_pcr_hombre_edades_15a19": 9256,
         "positivas_pcr_hombre_edades_20a49": 141757,
         "positivas_pcr_hombre_edades_50a64": 47835,
         "positivas_pcr_hombre_edades_65an": 28314,
         "positivas_pcr_mujer_edades_meses": 432,
         "positivas_pcr_mujer_edades_0a4": 1747,
         "positivas_pcr_mujer_edades_5a9": 2377,
         "positivas_pcr_mujer_edades_10a14": 4593,
         "positivas_pcr_mujer_edades_15a19": 8574,
         "positivas_pcr_mujer_edades_20a49": 148954,
         "positivas_pcr_mujer_edades_50a64": 50219,
         "positivas_pcr_mujer_edades_65an": 31563,
         "positivas_rapidas": 8956,
         "negativas": 1192095,
         "negativas_pcr": 1180479,
         "negativas_pcr_nuevas": 3610,
         "negativas_rapidas": 11616,
         "hospitalizadas_altas": 48969,
         "hospitalizadas_estables": 650,
         "hospitalizadas_pronostico_reservadas": 427,
         "msp_hospitalizacion_camas_porcentaje_ocupadas": 19,
         "msp_hospitalizacion_lista_espera": 3,
         "msp_hospitalizacion_camas_asignadas": 1308,
         "msp_hospitalizacion_camas_ocupadas": 251,
         "msp_cuidado_intermedio_camas_porcentaje_ocupadas": 23,
         "msp_cuidado_intermedio_lista_espera": 2,
         "msp_cuidado_intermedio_camas_asignadas": 111,
         "msp_cuidado_intermedio_camas_ocupadas": 26,
         "msp_uci_camas_porcentaje_ocupadas": 61,
         "msp_uci_lista_espera": 1,
         "msp_uci_camas_asignadas": 305,
         "msp_uci_camas_ocupadas": 185,
         "rpis_hospitalizacion_camas_porcentaje_ocupadas": 40,
         "rpis_hospitalizacion_lista_espera": 5,
         "rpis_hospitalizacion_camas_asignadas": 612,
         "rpis_hospitalizacion_camas_ocupadas": 243,
         "rpis_cuidado_intermedio_camas_porcentaje_ocupadas": 55,
         "rpis_cuidado_intermedio_lista_espera": 0,
         "rpis_cuidado_intermedio_camas_asignadas": 29,
         "rpis_cuidado_intermedio_camas_ocupadas": 16,
         "rpis_uci_camas_porcentaje_ocupadas": 71,
         "rpis_uci_lista_espera": 10,
         "rpis_uci_camas_asignadas": 218,
         "rpis_uci_camas_ocupadas": 155,
         "rpc_hospitalizacion_camas_porcentaje_ocupadas": 26,
         "rpc_hospitalizacion_lista_espera": 0,
         "rpc_hospitalizacion_camas_asignadas": 458,
         "rpc_hospitalizacion_camas_ocupadas": 120,
         "rpc_cuidado_intermedio_camas_porcentaje_ocupadas": 18,
         "rpc_cuidado_intermedio_lista_espera": 0,
         "rpc_cuidado_intermedio_camas_asignadas": 17,
         "rpc_cuidado_intermedio_camas_ocupadas": 3,
         "rpc_uci_camas_porcentaje_ocupadas": 34,
         "rpc_uci_lista_espera": 3,
         "rpc_uci_camas_asignadas": 160,
         "rpc_uci_camas_ocupadas": 54,
         "_deepnote_index_column": 538
        },
        {
         "created_at": "2021-10-06",
         "muestras": 1883244,
         "muestras_pcr": 1862672,
         "positivas_total": 610233,
         "positivas_probables": 98687,
         "muestras_pcr_nuevas": 3192,
         "pruebas_rezagadas": 98687,
         "muertes_confirmadas": 23250,
         "muertes_probables": 9577,
         "muertes": 32827,
         "muertes_nuevas": 8,
         "positivas": 520502,
         "positivas_pcr": 511546,
         "positivas_pcr_nuevas": 229,
         "positivas_pcr_mujer": 249916,
         "positivas_pcr_hombre": 261630,
         "positivas_pcr_hombre_edades_meses": 375,
         "positivas_pcr_hombre_edades_0a4": 1593,
         "positivas_pcr_hombre_edades_5a9": 2319,
         "positivas_pcr_hombre_edades_10a14": 4632,
         "positivas_pcr_hombre_edades_15a19": 9256,
         "positivas_pcr_hombre_edades_20a49": 141757,
         "positivas_pcr_hombre_edades_50a64": 47835,
         "positivas_pcr_hombre_edades_65an": 28314,
         "positivas_pcr_mujer_edades_meses": 432,
         "positivas_pcr_mujer_edades_0a4": 1747,
         "positivas_pcr_mujer_edades_5a9": 2377,
         "positivas_pcr_mujer_edades_10a14": 4593,
         "positivas_pcr_mujer_edades_15a19": 8574,
         "positivas_pcr_mujer_edades_20a49": 148954,
         "positivas_pcr_mujer_edades_50a64": 50219,
         "positivas_pcr_mujer_edades_65an": 31563,
         "positivas_rapidas": 8956,
         "negativas": 1264055,
         "negativas_pcr": 1252439,
         "negativas_pcr_nuevas": 2695,
         "negativas_rapidas": 11616,
         "hospitalizadas_altas": 48969,
         "hospitalizadas_estables": 650,
         "hospitalizadas_pronostico_reservadas": 427,
         "msp_hospitalizacion_camas_porcentaje_ocupadas": 11,
         "msp_hospitalizacion_lista_espera": 0,
         "msp_hospitalizacion_camas_asignadas": 592,
         "msp_hospitalizacion_camas_ocupadas": 64,
         "msp_cuidado_intermedio_camas_porcentaje_ocupadas": 8,
         "msp_cuidado_intermedio_lista_espera": 1,
         "msp_cuidado_intermedio_camas_asignadas": 86,
         "msp_cuidado_intermedio_camas_ocupadas": 7,
         "msp_uci_camas_porcentaje_ocupadas": 36,
         "msp_uci_lista_espera": 1,
         "msp_uci_camas_asignadas": 135,
         "msp_uci_camas_ocupadas": 49,
         "rpis_hospitalizacion_camas_porcentaje_ocupadas": 33,
         "rpis_hospitalizacion_lista_espera": 2,
         "rpis_hospitalizacion_camas_asignadas": 335,
         "rpis_hospitalizacion_camas_ocupadas": 109,
         "rpis_cuidado_intermedio_camas_porcentaje_ocupadas": 40,
         "rpis_cuidado_intermedio_lista_espera": 1,
         "rpis_cuidado_intermedio_camas_asignadas": 10,
         "rpis_cuidado_intermedio_camas_ocupadas": 4,
         "rpis_uci_camas_porcentaje_ocupadas": 48,
         "rpis_uci_lista_espera": 1,
         "rpis_uci_camas_asignadas": 99,
         "rpis_uci_camas_ocupadas": 48,
         "rpc_hospitalizacion_camas_porcentaje_ocupadas": 17,
         "rpc_hospitalizacion_lista_espera": 0,
         "rpc_hospitalizacion_camas_asignadas": 361,
         "rpc_hospitalizacion_camas_ocupadas": 60,
         "rpc_cuidado_intermedio_camas_porcentaje_ocupadas": 0,
         "rpc_cuidado_intermedio_lista_espera": 0,
         "rpc_cuidado_intermedio_camas_asignadas": 15,
         "rpc_cuidado_intermedio_camas_ocupadas": 0,
         "rpc_uci_camas_porcentaje_ocupadas": 12,
         "rpc_uci_lista_espera": 0,
         "rpc_uci_camas_asignadas": 134,
         "rpc_uci_camas_ocupadas": 16,
         "_deepnote_index_column": 572
        }
       ]
      },
      "text/plain": "     created_at  muestras  muestras_pcr  positivas_total  positivas_probables  \\\n556  2021-09-20   1833712       1813140           602336                95316   \n391  2021-04-08   1200900       1180328                0                    0   \n152  2020-08-12    272000        251428                0                    0   \n538  2021-09-02   1797507       1776935           596456                93355   \n572  2021-10-06   1883244       1862672           610233                98687   \n\n     muestras_pcr_nuevas  pruebas_rezagadas  muertes_confirmadas  \\\n556                  971              95316                23118   \n391                 7706              55545                12208   \n152                 3274              40236                 5984   \n538                 4236              93355                22803   \n572                 3192              98687                23250   \n\n     muertes_probables  muertes  ...  rpc_hospitalizacion_camas_asignadas  \\\n556               9548    32666  ...                                  412   \n391               4907    17115  ...                                    0   \n152               3545     9529  ...                                    0   \n538               9502    32305  ...                                  458   \n572               9577    32827  ...                                  361   \n\n     rpc_hospitalizacion_camas_ocupadas  \\\n556                                  67   \n391                                   0   \n152                                   0   \n538                                 120   \n572                                  60   \n\n     rpc_cuidado_intermedio_camas_porcentaje_ocupadas  \\\n556                                                11   \n391                                                 0   \n152                                                 0   \n538                                                18   \n572                                                 0   \n\n     rpc_cuidado_intermedio_lista_espera  \\\n556                                    0   \n391                                    0   \n152                                    0   \n538                                    0   \n572                                    0   \n\n     rpc_cuidado_intermedio_camas_asignadas  \\\n556                                      19   \n391                                       0   \n152                                       0   \n538                                      17   \n572                                      15   \n\n     rpc_cuidado_intermedio_camas_ocupadas  rpc_uci_camas_porcentaje_ocupadas  \\\n556                                      2                                 17   \n391                                      0                                  0   \n152                                      0                                  0   \n538                                      3                                 34   \n572                                      0                                 12   \n\n     rpc_uci_lista_espera  rpc_uci_camas_asignadas  rpc_uci_camas_ocupadas  \n556                     3                      132                      22  \n391                     0                        0                       0  \n152                     0                        0                       0  \n538                     3                      160                      54  \n572                     0                      134                      16  \n\n[5 rows x 76 columns]",
      "text/html": "<div>\n<style scoped>\n    .dataframe tbody tr th:only-of-type {\n        vertical-align: middle;\n    }\n\n    .dataframe tbody tr th {\n        vertical-align: top;\n    }\n\n    .dataframe thead th {\n        text-align: right;\n    }\n</style>\n<table border=\"1\" class=\"dataframe\">\n  <thead>\n    <tr style=\"text-align: right;\">\n      <th></th>\n      <th>created_at</th>\n      <th>muestras</th>\n      <th>muestras_pcr</th>\n      <th>positivas_total</th>\n      <th>positivas_probables</th>\n      <th>muestras_pcr_nuevas</th>\n      <th>pruebas_rezagadas</th>\n      <th>muertes_confirmadas</th>\n      <th>muertes_probables</th>\n      <th>muertes</th>\n      <th>...</th>\n      <th>rpc_hospitalizacion_camas_asignadas</th>\n      <th>rpc_hospitalizacion_camas_ocupadas</th>\n      <th>rpc_cuidado_intermedio_camas_porcentaje_ocupadas</th>\n      <th>rpc_cuidado_intermedio_lista_espera</th>\n      <th>rpc_cuidado_intermedio_camas_asignadas</th>\n      <th>rpc_cuidado_intermedio_camas_ocupadas</th>\n      <th>rpc_uci_camas_porcentaje_ocupadas</th>\n      <th>rpc_uci_lista_espera</th>\n      <th>rpc_uci_camas_asignadas</th>\n      <th>rpc_uci_camas_ocupadas</th>\n    </tr>\n  </thead>\n  <tbody>\n    <tr>\n      <th>556</th>\n      <td>2021-09-20</td>\n      <td>1833712</td>\n      <td>1813140</td>\n      <td>602336</td>\n      <td>95316</td>\n      <td>971</td>\n      <td>95316</td>\n      <td>23118</td>\n      <td>9548</td>\n      <td>32666</td>\n      <td>...</td>\n      <td>412</td>\n      <td>67</td>\n      <td>11</td>\n      <td>0</td>\n      <td>19</td>\n      <td>2</td>\n      <td>17</td>\n      <td>3</td>\n      <td>132</td>\n      <td>22</td>\n    </tr>\n    <tr>\n      <th>391</th>\n      <td>2021-04-08</td>\n      <td>1200900</td>\n      <td>1180328</td>\n      <td>0</td>\n      <td>0</td>\n      <td>7706</td>\n      <td>55545</td>\n      <td>12208</td>\n      <td>4907</td>\n      <td>17115</td>\n      <td>...</td>\n      <td>0</td>\n      <td>0</td>\n      <td>0</td>\n      <td>0</td>\n      <td>0</td>\n      <td>0</td>\n      <td>0</td>\n      <td>0</td>\n      <td>0</td>\n      <td>0</td>\n    </tr>\n    <tr>\n      <th>152</th>\n      <td>2020-08-12</td>\n      <td>272000</td>\n      <td>251428</td>\n      <td>0</td>\n      <td>0</td>\n      <td>3274</td>\n      <td>40236</td>\n      <td>5984</td>\n      <td>3545</td>\n      <td>9529</td>\n      <td>...</td>\n      <td>0</td>\n      <td>0</td>\n      <td>0</td>\n      <td>0</td>\n      <td>0</td>\n      <td>0</td>\n      <td>0</td>\n      <td>0</td>\n      <td>0</td>\n      <td>0</td>\n    </tr>\n    <tr>\n      <th>538</th>\n      <td>2021-09-02</td>\n      <td>1797507</td>\n      <td>1776935</td>\n      <td>596456</td>\n      <td>93355</td>\n      <td>4236</td>\n      <td>93355</td>\n      <td>22803</td>\n      <td>9502</td>\n      <td>32305</td>\n      <td>...</td>\n      <td>458</td>\n      <td>120</td>\n      <td>18</td>\n      <td>0</td>\n      <td>17</td>\n      <td>3</td>\n      <td>34</td>\n      <td>3</td>\n      <td>160</td>\n      <td>54</td>\n    </tr>\n    <tr>\n      <th>572</th>\n      <td>2021-10-06</td>\n      <td>1883244</td>\n      <td>1862672</td>\n      <td>610233</td>\n      <td>98687</td>\n      <td>3192</td>\n      <td>98687</td>\n      <td>23250</td>\n      <td>9577</td>\n      <td>32827</td>\n      <td>...</td>\n      <td>361</td>\n      <td>60</td>\n      <td>0</td>\n      <td>0</td>\n      <td>15</td>\n      <td>0</td>\n      <td>12</td>\n      <td>0</td>\n      <td>134</td>\n      <td>16</td>\n    </tr>\n  </tbody>\n</table>\n<p>5 rows × 76 columns</p>\n</div>"
     },
     "metadata": {}
    }
   ],
   "execution_count": null
  },
  {
   "cell_type": "code",
   "metadata": {
    "tags": [],
    "cell_id": "00005-6d636f0d-80e1-4122-b4f2-737777bf7b35",
    "deepnote_to_be_reexecuted": false,
    "source_hash": "b09808e3",
    "execution_start": 1639869178824,
    "execution_millis": 871908235,
    "deepnote_output_heights": [
     611
    ],
    "deepnote_cell_type": "code"
   },
   "source": "df_ecuacovid.columns",
   "outputs": [
    {
     "output_type": "execute_result",
     "execution_count": 6,
     "data": {
      "text/plain": "Index(['created_at', 'muestras', 'muestras_pcr', 'positivas_total',\n       'positivas_probables', 'muestras_pcr_nuevas', 'pruebas_rezagadas',\n       'muertes_confirmadas', 'muertes_probables', 'muertes', 'muertes_nuevas',\n       'positivas', 'positivas_pcr', 'positivas_pcr_nuevas',\n       'positivas_pcr_mujer', 'positivas_pcr_hombre',\n       'positivas_pcr_hombre_edades_meses', 'positivas_pcr_hombre_edades_0a4',\n       'positivas_pcr_hombre_edades_5a9', 'positivas_pcr_hombre_edades_10a14',\n       'positivas_pcr_hombre_edades_15a19',\n       'positivas_pcr_hombre_edades_20a49',\n       'positivas_pcr_hombre_edades_50a64', 'positivas_pcr_hombre_edades_65an',\n       'positivas_pcr_mujer_edades_meses', 'positivas_pcr_mujer_edades_0a4',\n       'positivas_pcr_mujer_edades_5a9', 'positivas_pcr_mujer_edades_10a14',\n       'positivas_pcr_mujer_edades_15a19', 'positivas_pcr_mujer_edades_20a49',\n       'positivas_pcr_mujer_edades_50a64', 'positivas_pcr_mujer_edades_65an',\n       'positivas_rapidas', 'negativas', 'negativas_pcr',\n       'negativas_pcr_nuevas', 'negativas_rapidas', 'hospitalizadas_altas',\n       'hospitalizadas_estables', 'hospitalizadas_pronostico_reservadas',\n       'msp_hospitalizacion_camas_porcentaje_ocupadas',\n       'msp_hospitalizacion_lista_espera',\n       'msp_hospitalizacion_camas_asignadas',\n       'msp_hospitalizacion_camas_ocupadas',\n       'msp_cuidado_intermedio_camas_porcentaje_ocupadas',\n       'msp_cuidado_intermedio_lista_espera',\n       'msp_cuidado_intermedio_camas_asignadas',\n       'msp_cuidado_intermedio_camas_ocupadas',\n       'msp_uci_camas_porcentaje_ocupadas', 'msp_uci_lista_espera',\n       'msp_uci_camas_asignadas', 'msp_uci_camas_ocupadas',\n       'rpis_hospitalizacion_camas_porcentaje_ocupadas',\n       'rpis_hospitalizacion_lista_espera',\n       'rpis_hospitalizacion_camas_asignadas',\n       'rpis_hospitalizacion_camas_ocupadas',\n       'rpis_cuidado_intermedio_camas_porcentaje_ocupadas',\n       'rpis_cuidado_intermedio_lista_espera',\n       'rpis_cuidado_intermedio_camas_asignadas',\n       'rpis_cuidado_intermedio_camas_ocupadas',\n       'rpis_uci_camas_porcentaje_ocupadas', 'rpis_uci_lista_espera',\n       'rpis_uci_camas_asignadas', 'rpis_uci_camas_ocupadas',\n       'rpc_hospitalizacion_camas_porcentaje_ocupadas',\n       'rpc_hospitalizacion_lista_espera',\n       'rpc_hospitalizacion_camas_asignadas',\n       'rpc_hospitalizacion_camas_ocupadas',\n       'rpc_cuidado_intermedio_camas_porcentaje_ocupadas',\n       'rpc_cuidado_intermedio_lista_espera',\n       'rpc_cuidado_intermedio_camas_asignadas',\n       'rpc_cuidado_intermedio_camas_ocupadas',\n       'rpc_uci_camas_porcentaje_ocupadas', 'rpc_uci_lista_espera',\n       'rpc_uci_camas_asignadas', 'rpc_uci_camas_ocupadas'],\n      dtype='object')"
     },
     "metadata": {}
    }
   ],
   "execution_count": null
  },
  {
   "cell_type": "code",
   "metadata": {
    "tags": [],
    "cell_id": "00006-38acb7b1-bff1-4e74-bca8-4a22d45fd690",
    "deepnote_to_be_reexecuted": false,
    "source_hash": "1b22a9fe",
    "execution_start": 1639869178873,
    "execution_millis": 808971786,
    "deepnote_output_heights": [
     21.078125
    ],
    "deepnote_cell_type": "code"
   },
   "source": "df_ecuacovid.shape",
   "outputs": [
    {
     "output_type": "execute_result",
     "execution_count": 7,
     "data": {
      "text/plain": "(644, 76)"
     },
     "metadata": {}
    }
   ],
   "execution_count": null
  },
  {
   "cell_type": "code",
   "metadata": {
    "tags": [],
    "cell_id": "00007-c0139ee9-9d8e-4eb1-bddc-af613b1979fa",
    "deepnote_to_be_reexecuted": false,
    "source_hash": "3e2e3ef3",
    "execution_start": 1639869178893,
    "execution_millis": 871423624,
    "deepnote_output_heights": [
     231.078125
    ],
    "deepnote_cell_type": "code"
   },
   "source": "df_ecuacovid.dtypes",
   "outputs": [
    {
     "output_type": "execute_result",
     "execution_count": 8,
     "data": {
      "text/plain": "created_at                               object\nmuestras                                  int64\nmuestras_pcr                              int64\npositivas_total                           int64\npositivas_probables                       int64\n                                          ...  \nrpc_cuidado_intermedio_camas_ocupadas     int64\nrpc_uci_camas_porcentaje_ocupadas         int64\nrpc_uci_lista_espera                      int64\nrpc_uci_camas_asignadas                   int64\nrpc_uci_camas_ocupadas                    int64\nLength: 76, dtype: object"
     },
     "metadata": {}
    }
   ],
   "execution_count": null
  },
  {
   "cell_type": "code",
   "metadata": {
    "tags": [],
    "cell_id": "00008-e486e475-a259-4d47-a05e-c6c54ebf5c40",
    "deepnote_to_be_reexecuted": false,
    "source_hash": "9d032181",
    "execution_start": 1639869178912,
    "execution_millis": 808968884,
    "deepnote_output_heights": [
     232.3125
    ],
    "deepnote_cell_type": "code"
   },
   "source": "df_ecuacovid.created_at = pd.to_datetime(df_ecuacovid.created_at, format='%Y/%m/%d')",
   "outputs": [],
   "execution_count": null
  },
  {
   "cell_type": "code",
   "metadata": {
    "tags": [],
    "cell_id": "00009-5819cede-9f5a-496a-9205-5aa147df93d3",
    "deepnote_to_be_reexecuted": false,
    "source_hash": "74e79bd3",
    "execution_start": 1639869178928,
    "execution_millis": 1491,
    "deepnote_cell_type": "code"
   },
   "source": "df_ecuacovid.describe()",
   "outputs": [
    {
     "output_type": "execute_result",
     "execution_count": 10,
     "data": {
      "application/vnd.deepnote.dataframe.v3+json": {
       "column_count": 75,
       "row_count": 8,
       "columns": [
        {
         "name": "muestras",
         "dtype": "float64",
         "stats": {
          "unique_count": 8,
          "nan_count": 0,
          "min": "129.0",
          "max": "2110214.0",
          "histogram": [
           {
            "bin_start": 129,
            "bin_end": 211137.5,
            "count": 2
           },
           {
            "bin_start": 211137.5,
            "bin_end": 422146,
            "count": 1
           },
           {
            "bin_start": 422146,
            "bin_end": 633154.5,
            "count": 0
           },
           {
            "bin_start": 633154.5,
            "bin_end": 844163,
            "count": 1
           },
           {
            "bin_start": 844163,
            "bin_end": 1055171.5,
            "count": 2
           },
           {
            "bin_start": 1055171.5,
            "bin_end": 1266180,
            "count": 0
           },
           {
            "bin_start": 1266180,
            "bin_end": 1477188.5,
            "count": 0
           },
           {
            "bin_start": 1477188.5,
            "bin_end": 1688197,
            "count": 1
           },
           {
            "bin_start": 1688197,
            "bin_end": 1899205.5,
            "count": 0
           },
           {
            "bin_start": 1899205.5,
            "bin_end": 2110214,
            "count": 1
           }
          ]
         }
        },
        {
         "name": "muestras_pcr",
         "dtype": "float64",
         "stats": {
          "unique_count": 8,
          "nan_count": 0,
          "min": "129.0",
          "max": "2089642.0",
          "histogram": [
           {
            "bin_start": 129,
            "bin_end": 209080.3,
            "count": 2
           },
           {
            "bin_start": 209080.3,
            "bin_end": 418031.6,
            "count": 1
           },
           {
            "bin_start": 418031.6,
            "bin_end": 626982.8999999999,
            "count": 0
           },
           {
            "bin_start": 626982.8999999999,
            "bin_end": 835934.2,
            "count": 1
           },
           {
            "bin_start": 835934.2,
            "bin_end": 1044885.5,
            "count": 2
           },
           {
            "bin_start": 1044885.5,
            "bin_end": 1253836.7999999998,
            "count": 0
           },
           {
            "bin_start": 1253836.7999999998,
            "bin_end": 1462788.0999999999,
            "count": 0
           },
           {
            "bin_start": 1462788.0999999999,
            "bin_end": 1671739.4,
            "count": 1
           },
           {
            "bin_start": 1671739.4,
            "bin_end": 1880690.7,
            "count": 0
           },
           {
            "bin_start": 1880690.7,
            "bin_end": 2089642,
            "count": 1
           }
          ]
         }
        },
        {
         "name": "positivas_total",
         "dtype": "float64",
         "stats": {
          "unique_count": 5,
          "nan_count": 0,
          "min": "0.0",
          "max": "651557.0",
          "histogram": [
           {
            "bin_start": 0,
            "bin_end": 65155.7,
            "count": 5
           },
           {
            "bin_start": 65155.7,
            "bin_end": 130311.4,
            "count": 0
           },
           {
            "bin_start": 130311.4,
            "bin_end": 195467.09999999998,
            "count": 1
           },
           {
            "bin_start": 195467.09999999998,
            "bin_end": 260622.8,
            "count": 1
           },
           {
            "bin_start": 260622.8,
            "bin_end": 325778.5,
            "count": 0
           },
           {
            "bin_start": 325778.5,
            "bin_end": 390934.19999999995,
            "count": 0
           },
           {
            "bin_start": 390934.19999999995,
            "bin_end": 456089.89999999997,
            "count": 0
           },
           {
            "bin_start": 456089.89999999997,
            "bin_end": 521245.6,
            "count": 0
           },
           {
            "bin_start": 521245.6,
            "bin_end": 586401.2999999999,
            "count": 0
           },
           {
            "bin_start": 586401.2999999999,
            "bin_end": 651557,
            "count": 1
           }
          ]
         }
        },
        {
         "name": "positivas_probables",
         "dtype": "float64",
         "stats": {
          "unique_count": 5,
          "nan_count": 0,
          "min": "0.0",
          "max": "116143.0",
          "histogram": [
           {
            "bin_start": 0,
            "bin_end": 11614.3,
            "count": 5
           },
           {
            "bin_start": 11614.3,
            "bin_end": 23228.6,
            "count": 1
           },
           {
            "bin_start": 23228.6,
            "bin_end": 34842.899999999994,
            "count": 0
           },
           {
            "bin_start": 34842.899999999994,
            "bin_end": 46457.2,
            "count": 1
           },
           {
            "bin_start": 46457.2,
            "bin_end": 58071.5,
            "count": 0
           },
           {
            "bin_start": 58071.5,
            "bin_end": 69685.79999999999,
            "count": 0
           },
           {
            "bin_start": 69685.79999999999,
            "bin_end": 81300.09999999999,
            "count": 0
           },
           {
            "bin_start": 81300.09999999999,
            "bin_end": 92914.4,
            "count": 0
           },
           {
            "bin_start": 92914.4,
            "bin_end": 104528.7,
            "count": 0
           },
           {
            "bin_start": 104528.7,
            "bin_end": 116143,
            "count": 1
           }
          ]
         }
        },
        {
         "name": "muestras_pcr_nuevas",
         "dtype": "float64",
         "stats": {
          "unique_count": 8,
          "nan_count": 0,
          "min": "-10096.0",
          "max": "37781.0",
          "histogram": [
           {
            "bin_start": -10096,
            "bin_end": -5308.3,
            "count": 1
           },
           {
            "bin_start": -5308.3,
            "bin_end": -520.6000000000004,
            "count": 0
           },
           {
            "bin_start": -520.6000000000004,
            "bin_end": 4267.0999999999985,
            "count": 5
           },
           {
            "bin_start": 4267.0999999999985,
            "bin_end": 9054.8,
            "count": 1
           },
           {
            "bin_start": 9054.8,
            "bin_end": 13842.5,
            "count": 0
           },
           {
            "bin_start": 13842.5,
            "bin_end": 18630.199999999997,
            "count": 0
           },
           {
            "bin_start": 18630.199999999997,
            "bin_end": 23417.9,
            "count": 0
           },
           {
            "bin_start": 23417.9,
            "bin_end": 28205.6,
            "count": 0
           },
           {
            "bin_start": 28205.6,
            "bin_end": 32993.299999999996,
            "count": 0
           },
           {
            "bin_start": 32993.299999999996,
            "bin_end": 37781,
            "count": 1
           }
          ]
         }
        },
        {
         "name": "pruebas_rezagadas",
         "dtype": "float64",
         "stats": {
          "unique_count": 8,
          "nan_count": 0,
          "min": "106.0",
          "max": "116143.0",
          "histogram": [
           {
            "bin_start": 106,
            "bin_end": 11709.7,
            "count": 2
           },
           {
            "bin_start": 11709.7,
            "bin_end": 23313.4,
            "count": 0
           },
           {
            "bin_start": 23313.4,
            "bin_end": 34917.100000000006,
            "count": 1
           },
           {
            "bin_start": 34917.100000000006,
            "bin_end": 46520.8,
            "count": 1
           },
           {
            "bin_start": 46520.8,
            "bin_end": 58124.5,
            "count": 2
           },
           {
            "bin_start": 58124.5,
            "bin_end": 69728.20000000001,
            "count": 1
           },
           {
            "bin_start": 69728.20000000001,
            "bin_end": 81331.90000000001,
            "count": 0
           },
           {
            "bin_start": 81331.90000000001,
            "bin_end": 92935.6,
            "count": 0
           },
           {
            "bin_start": 92935.6,
            "bin_end": 104539.3,
            "count": 0
           },
           {
            "bin_start": 104539.3,
            "bin_end": 116143,
            "count": 1
           }
          ]
         }
        },
        {
         "name": "muertes_confirmadas",
         "dtype": "float64",
         "stats": {
          "unique_count": 8,
          "nan_count": 0,
          "min": "1.0",
          "max": "30321.0",
          "histogram": [
           {
            "bin_start": 1,
            "bin_end": 3033,
            "count": 2
           },
           {
            "bin_start": 3033,
            "bin_end": 6065,
            "count": 0
           },
           {
            "bin_start": 6065,
            "bin_end": 9097,
            "count": 2
           },
           {
            "bin_start": 9097,
            "bin_end": 12129,
            "count": 2
           },
           {
            "bin_start": 12129,
            "bin_end": 15161,
            "count": 0
           },
           {
            "bin_start": 15161,
            "bin_end": 18193,
            "count": 1
           },
           {
            "bin_start": 18193,
            "bin_end": 21225,
            "count": 0
           },
           {
            "bin_start": 21225,
            "bin_end": 24257,
            "count": 0
           },
           {
            "bin_start": 24257,
            "bin_end": 27289,
            "count": 0
           },
           {
            "bin_start": 27289,
            "bin_end": 30321,
            "count": 1
           }
          ]
         }
        },
        {
         "name": "muertes_probables",
         "dtype": "float64",
         "stats": {
          "unique_count": 8,
          "nan_count": 0,
          "min": "0.0",
          "max": "9806.0",
          "histogram": [
           {
            "bin_start": 0,
            "bin_end": 980.6,
            "count": 2
           },
           {
            "bin_start": 980.6,
            "bin_end": 1961.2,
            "count": 0
           },
           {
            "bin_start": 1961.2,
            "bin_end": 2941.8,
            "count": 1
           },
           {
            "bin_start": 2941.8,
            "bin_end": 3922.4,
            "count": 1
           },
           {
            "bin_start": 3922.4,
            "bin_end": 4903,
            "count": 1
           },
           {
            "bin_start": 4903,
            "bin_end": 5883.6,
            "count": 2
           },
           {
            "bin_start": 5883.6,
            "bin_end": 6864.2,
            "count": 0
           },
           {
            "bin_start": 6864.2,
            "bin_end": 7844.8,
            "count": 0
           },
           {
            "bin_start": 7844.8,
            "bin_end": 8825.4,
            "count": 0
           },
           {
            "bin_start": 8825.4,
            "bin_end": 9806,
            "count": 1
           }
          ]
         }
        },
        {
         "name": "muertes",
         "dtype": "float64",
         "stats": {
          "unique_count": 8,
          "nan_count": 0,
          "min": "1.0",
          "max": "33586.0",
          "histogram": [
           {
            "bin_start": 1,
            "bin_end": 3359.5,
            "count": 2
           },
           {
            "bin_start": 3359.5,
            "bin_end": 6718,
            "count": 0
           },
           {
            "bin_start": 6718,
            "bin_end": 10076.5,
            "count": 1
           },
           {
            "bin_start": 10076.5,
            "bin_end": 13435,
            "count": 1
           },
           {
            "bin_start": 13435,
            "bin_end": 16793.5,
            "count": 1
           },
           {
            "bin_start": 16793.5,
            "bin_end": 20152,
            "count": 1
           },
           {
            "bin_start": 20152,
            "bin_end": 23510.5,
            "count": 1
           },
           {
            "bin_start": 23510.5,
            "bin_end": 26869,
            "count": 0
           },
           {
            "bin_start": 26869,
            "bin_end": 30227.5,
            "count": 0
           },
           {
            "bin_start": 30227.5,
            "bin_end": 33586,
            "count": 1
           }
          ]
         }
        },
        {
         "name": "muertes_nuevas",
         "dtype": "float64",
         "stats": {
          "unique_count": 8,
          "nan_count": 0,
          "min": "-45.0",
          "max": "8786.0",
          "histogram": [
           {
            "bin_start": -45,
            "bin_end": 838.1,
            "count": 7
           },
           {
            "bin_start": 838.1,
            "bin_end": 1721.2,
            "count": 0
           },
           {
            "bin_start": 1721.2,
            "bin_end": 2604.3,
            "count": 0
           },
           {
            "bin_start": 2604.3,
            "bin_end": 3487.4,
            "count": 0
           },
           {
            "bin_start": 3487.4,
            "bin_end": 4370.5,
            "count": 0
           },
           {
            "bin_start": 4370.5,
            "bin_end": 5253.6,
            "count": 0
           },
           {
            "bin_start": 5253.6,
            "bin_end": 6136.7,
            "count": 0
           },
           {
            "bin_start": 6136.7,
            "bin_end": 7019.8,
            "count": 0
           },
           {
            "bin_start": 7019.8,
            "bin_end": 7902.900000000001,
            "count": 0
           },
           {
            "bin_start": 7902.900000000001,
            "bin_end": 8786,
            "count": 1
           }
          ]
         }
        },
        {
         "name": "positivas",
         "dtype": "float64",
         "stats": {
          "unique_count": 8,
          "nan_count": 0,
          "min": "23.0",
          "max": "544370.0",
          "histogram": [
           {
            "bin_start": 23,
            "bin_end": 54457.7,
            "count": 2
           },
           {
            "bin_start": 54457.7,
            "bin_end": 108892.4,
            "count": 1
           },
           {
            "bin_start": 108892.4,
            "bin_end": 163327.09999999998,
            "count": 0
           },
           {
            "bin_start": 163327.09999999998,
            "bin_end": 217761.8,
            "count": 1
           },
           {
            "bin_start": 217761.8,
            "bin_end": 272196.5,
            "count": 1
           },
           {
            "bin_start": 272196.5,
            "bin_end": 326631.19999999995,
            "count": 1
           },
           {
            "bin_start": 326631.19999999995,
            "bin_end": 381065.89999999997,
            "count": 0
           },
           {
            "bin_start": 381065.89999999997,
            "bin_end": 435500.6,
            "count": 0
           },
           {
            "bin_start": 435500.6,
            "bin_end": 489935.3,
            "count": 1
           },
           {
            "bin_start": 489935.3,
            "bin_end": 544370,
            "count": 1
           }
          ]
         }
        },
        {
         "name": "positivas_pcr",
         "dtype": "float64",
         "stats": {
          "unique_count": 8,
          "nan_count": 0,
          "min": "23.0",
          "max": "535414.0",
          "histogram": [
           {
            "bin_start": 23,
            "bin_end": 53562.1,
            "count": 2
           },
           {
            "bin_start": 53562.1,
            "bin_end": 107101.2,
            "count": 1
           },
           {
            "bin_start": 107101.2,
            "bin_end": 160640.3,
            "count": 0
           },
           {
            "bin_start": 160640.3,
            "bin_end": 214179.4,
            "count": 1
           },
           {
            "bin_start": 214179.4,
            "bin_end": 267718.5,
            "count": 1
           },
           {
            "bin_start": 267718.5,
            "bin_end": 321257.6,
            "count": 1
           },
           {
            "bin_start": 321257.6,
            "bin_end": 374796.7,
            "count": 0
           },
           {
            "bin_start": 374796.7,
            "bin_end": 428335.8,
            "count": 0
           },
           {
            "bin_start": 428335.8,
            "bin_end": 481874.89999999997,
            "count": 1
           },
           {
            "bin_start": 481874.89999999997,
            "bin_end": 535414,
            "count": 1
           }
          ]
         }
        },
        {
         "name": "positivas_pcr_nuevas",
         "dtype": "float64",
         "stats": {
          "unique_count": 8,
          "nan_count": 0,
          "min": "-2498.0",
          "max": "5913.0",
          "histogram": [
           {
            "bin_start": -2498,
            "bin_end": -1656.9,
            "count": 1
           },
           {
            "bin_start": -1656.9,
            "bin_end": -815.8,
            "count": 0
           },
           {
            "bin_start": -815.8,
            "bin_end": 25.300000000000182,
            "count": 0
           },
           {
            "bin_start": 25.300000000000182,
            "bin_end": 866.4000000000001,
            "count": 5
           },
           {
            "bin_start": 866.4000000000001,
            "bin_end": 1707.5,
            "count": 1
           },
           {
            "bin_start": 1707.5,
            "bin_end": 2548.6000000000004,
            "count": 0
           },
           {
            "bin_start": 2548.6000000000004,
            "bin_end": 3389.7,
            "count": 0
           },
           {
            "bin_start": 3389.7,
            "bin_end": 4230.8,
            "count": 0
           },
           {
            "bin_start": 4230.8,
            "bin_end": 5071.900000000001,
            "count": 0
           },
           {
            "bin_start": 5071.900000000001,
            "bin_end": 5913,
            "count": 1
           }
          ]
         }
        },
        {
         "name": "positivas_pcr_mujer",
         "dtype": "float64",
         "stats": {
          "unique_count": 5,
          "nan_count": 0,
          "min": "0.0",
          "max": "262354.0",
          "histogram": [
           {
            "bin_start": 0,
            "bin_end": 26235.4,
            "count": 5
           },
           {
            "bin_start": 26235.4,
            "bin_end": 52470.8,
            "count": 0
           },
           {
            "bin_start": 52470.8,
            "bin_end": 78706.20000000001,
            "count": 1
           },
           {
            "bin_start": 78706.20000000001,
            "bin_end": 104941.6,
            "count": 1
           },
           {
            "bin_start": 104941.6,
            "bin_end": 131177,
            "count": 0
           },
           {
            "bin_start": 131177,
            "bin_end": 157412.40000000002,
            "count": 0
           },
           {
            "bin_start": 157412.40000000002,
            "bin_end": 183647.80000000002,
            "count": 0
           },
           {
            "bin_start": 183647.80000000002,
            "bin_end": 209883.2,
            "count": 0
           },
           {
            "bin_start": 209883.2,
            "bin_end": 236118.6,
            "count": 0
           },
           {
            "bin_start": 236118.6,
            "bin_end": 262354,
            "count": 1
           }
          ]
         }
        },
        {
         "name": "positivas_pcr_hombre",
         "dtype": "float64",
         "stats": {
          "unique_count": 5,
          "nan_count": 0,
          "min": "0.0",
          "max": "273060.0",
          "histogram": [
           {
            "bin_start": 0,
            "bin_end": 27306,
            "count": 5
           },
           {
            "bin_start": 27306,
            "bin_end": 54612,
            "count": 0
           },
           {
            "bin_start": 54612,
            "bin_end": 81918,
            "count": 1
           },
           {
            "bin_start": 81918,
            "bin_end": 109224,
            "count": 0
           },
           {
            "bin_start": 109224,
            "bin_end": 136530,
            "count": 1
           },
           {
            "bin_start": 136530,
            "bin_end": 163836,
            "count": 0
           },
           {
            "bin_start": 163836,
            "bin_end": 191142,
            "count": 0
           },
           {
            "bin_start": 191142,
            "bin_end": 218448,
            "count": 0
           },
           {
            "bin_start": 218448,
            "bin_end": 245754,
            "count": 0
           },
           {
            "bin_start": 245754,
            "bin_end": 273060,
            "count": 1
           }
          ]
         }
        },
        {
         "name": "positivas_pcr_hombre_edades_meses",
         "dtype": "float64",
         "stats": {
          "unique_count": 5,
          "nan_count": 0,
          "min": "0.0",
          "max": "644.0",
          "histogram": [
           {
            "bin_start": 0,
            "bin_end": 64.4,
            "count": 4
           },
           {
            "bin_start": 64.4,
            "bin_end": 128.8,
            "count": 1
           },
           {
            "bin_start": 128.8,
            "bin_end": 193.20000000000002,
            "count": 1
           },
           {
            "bin_start": 193.20000000000002,
            "bin_end": 257.6,
            "count": 0
           },
           {
            "bin_start": 257.6,
            "bin_end": 322,
            "count": 0
           },
           {
            "bin_start": 322,
            "bin_end": 386.40000000000003,
            "count": 1
           },
           {
            "bin_start": 386.40000000000003,
            "bin_end": 450.80000000000007,
            "count": 0
           },
           {
            "bin_start": 450.80000000000007,
            "bin_end": 515.2,
            "count": 0
           },
           {
            "bin_start": 515.2,
            "bin_end": 579.6,
            "count": 0
           },
           {
            "bin_start": 579.6,
            "bin_end": 644,
            "count": 1
           }
          ]
         }
        },
        {
         "name": "positivas_pcr_hombre_edades_0a4",
         "dtype": "float64",
         "stats": {
          "unique_count": 5,
          "nan_count": 0,
          "min": "0.0",
          "max": "1745.0",
          "histogram": [
           {
            "bin_start": 0,
            "bin_end": 174.5,
            "count": 4
           },
           {
            "bin_start": 174.5,
            "bin_end": 349,
            "count": 0
           },
           {
            "bin_start": 349,
            "bin_end": 523.5,
            "count": 1
           },
           {
            "bin_start": 523.5,
            "bin_end": 698,
            "count": 2
           },
           {
            "bin_start": 698,
            "bin_end": 872.5,
            "count": 0
           },
           {
            "bin_start": 872.5,
            "bin_end": 1047,
            "count": 0
           },
           {
            "bin_start": 1047,
            "bin_end": 1221.5,
            "count": 0
           },
           {
            "bin_start": 1221.5,
            "bin_end": 1396,
            "count": 0
           },
           {
            "bin_start": 1396,
            "bin_end": 1570.5,
            "count": 0
           },
           {
            "bin_start": 1570.5,
            "bin_end": 1745,
            "count": 1
           }
          ]
         }
        },
        {
         "name": "positivas_pcr_hombre_edades_5a9",
         "dtype": "float64",
         "stats": {
          "unique_count": 5,
          "nan_count": 0,
          "min": "0.0",
          "max": "2371.0",
          "histogram": [
           {
            "bin_start": 0,
            "bin_end": 237.1,
            "count": 4
           },
           {
            "bin_start": 237.1,
            "bin_end": 474.2,
            "count": 0
           },
           {
            "bin_start": 474.2,
            "bin_end": 711.3,
            "count": 2
           },
           {
            "bin_start": 711.3,
            "bin_end": 948.4,
            "count": 0
           },
           {
            "bin_start": 948.4,
            "bin_end": 1185.5,
            "count": 1
           },
           {
            "bin_start": 1185.5,
            "bin_end": 1422.6,
            "count": 0
           },
           {
            "bin_start": 1422.6,
            "bin_end": 1659.7,
            "count": 0
           },
           {
            "bin_start": 1659.7,
            "bin_end": 1896.8,
            "count": 0
           },
           {
            "bin_start": 1896.8,
            "bin_end": 2133.9,
            "count": 0
           },
           {
            "bin_start": 2133.9,
            "bin_end": 2371,
            "count": 1
           }
          ]
         }
        },
        {
         "name": "positivas_pcr_hombre_edades_10a14",
         "dtype": "float64",
         "stats": {
          "unique_count": 5,
          "nan_count": 0,
          "min": "0.0",
          "max": "4632.0",
          "histogram": [
           {
            "bin_start": 0,
            "bin_end": 463.2,
            "count": 4
           },
           {
            "bin_start": 463.2,
            "bin_end": 926.4,
            "count": 1
           },
           {
            "bin_start": 926.4,
            "bin_end": 1389.6,
            "count": 1
           },
           {
            "bin_start": 1389.6,
            "bin_end": 1852.8,
            "count": 0
           },
           {
            "bin_start": 1852.8,
            "bin_end": 2316,
            "count": 1
           },
           {
            "bin_start": 2316,
            "bin_end": 2779.2,
            "count": 0
           },
           {
            "bin_start": 2779.2,
            "bin_end": 3242.4,
            "count": 0
           },
           {
            "bin_start": 3242.4,
            "bin_end": 3705.6,
            "count": 0
           },
           {
            "bin_start": 3705.6,
            "bin_end": 4168.8,
            "count": 0
           },
           {
            "bin_start": 4168.8,
            "bin_end": 4632,
            "count": 1
           }
          ]
         }
        },
        {
         "name": "positivas_pcr_hombre_edades_15a19",
         "dtype": "float64",
         "stats": {
          "unique_count": 5,
          "nan_count": 0,
          "min": "0.0",
          "max": "9256.0",
          "histogram": [
           {
            "bin_start": 0,
            "bin_end": 925.6,
            "count": 5
           },
           {
            "bin_start": 925.6,
            "bin_end": 1851.2,
            "count": 0
           },
           {
            "bin_start": 1851.2,
            "bin_end": 2776.8,
            "count": 1
           },
           {
            "bin_start": 2776.8,
            "bin_end": 3702.4,
            "count": 0
           },
           {
            "bin_start": 3702.4,
            "bin_end": 4628,
            "count": 1
           },
           {
            "bin_start": 4628,
            "bin_end": 5553.6,
            "count": 0
           },
           {
            "bin_start": 5553.6,
            "bin_end": 6479.2,
            "count": 0
           },
           {
            "bin_start": 6479.2,
            "bin_end": 7404.8,
            "count": 0
           },
           {
            "bin_start": 7404.8,
            "bin_end": 8330.4,
            "count": 0
           },
           {
            "bin_start": 8330.4,
            "bin_end": 9256,
            "count": 1
           }
          ]
         }
        },
        {
         "name": "positivas_pcr_hombre_edades_20a49",
         "dtype": "float64",
         "stats": {
          "unique_count": 5,
          "nan_count": 0,
          "min": "0.0",
          "max": "148676.0",
          "histogram": [
           {
            "bin_start": 0,
            "bin_end": 14867.6,
            "count": 5
           },
           {
            "bin_start": 14867.6,
            "bin_end": 29735.2,
            "count": 0
           },
           {
            "bin_start": 29735.2,
            "bin_end": 44602.8,
            "count": 1
           },
           {
            "bin_start": 44602.8,
            "bin_end": 59470.4,
            "count": 0
           },
           {
            "bin_start": 59470.4,
            "bin_end": 74338,
            "count": 1
           },
           {
            "bin_start": 74338,
            "bin_end": 89205.6,
            "count": 0
           },
           {
            "bin_start": 89205.6,
            "bin_end": 104073.2,
            "count": 0
           },
           {
            "bin_start": 104073.2,
            "bin_end": 118940.8,
            "count": 0
           },
           {
            "bin_start": 118940.8,
            "bin_end": 133808.4,
            "count": 0
           },
           {
            "bin_start": 133808.4,
            "bin_end": 148676,
            "count": 1
           }
          ]
         }
        },
        {
         "name": "positivas_pcr_hombre_edades_50a64",
         "dtype": "float64",
         "stats": {
          "unique_count": 5,
          "nan_count": 0,
          "min": "0.0",
          "max": "50146.0",
          "histogram": [
           {
            "bin_start": 0,
            "bin_end": 5014.6,
            "count": 5
           },
           {
            "bin_start": 5014.6,
            "bin_end": 10029.2,
            "count": 0
           },
           {
            "bin_start": 10029.2,
            "bin_end": 15043.800000000001,
            "count": 1
           },
           {
            "bin_start": 15043.800000000001,
            "bin_end": 20058.4,
            "count": 0
           },
           {
            "bin_start": 20058.4,
            "bin_end": 25073,
            "count": 1
           },
           {
            "bin_start": 25073,
            "bin_end": 30087.600000000002,
            "count": 0
           },
           {
            "bin_start": 30087.600000000002,
            "bin_end": 35102.200000000004,
            "count": 0
           },
           {
            "bin_start": 35102.200000000004,
            "bin_end": 40116.8,
            "count": 0
           },
           {
            "bin_start": 40116.8,
            "bin_end": 45131.4,
            "count": 0
           },
           {
            "bin_start": 45131.4,
            "bin_end": 50146,
            "count": 1
           }
          ]
         }
        },
        {
         "name": "positivas_pcr_hombre_edades_65an",
         "dtype": "float64",
         "stats": {
          "unique_count": 5,
          "nan_count": 0,
          "min": "0.0",
          "max": "31532.0",
          "histogram": [
           {
            "bin_start": 0,
            "bin_end": 3153.2,
            "count": 5
           },
           {
            "bin_start": 3153.2,
            "bin_end": 6306.4,
            "count": 0
           },
           {
            "bin_start": 6306.4,
            "bin_end": 9459.599999999999,
            "count": 1
           },
           {
            "bin_start": 9459.599999999999,
            "bin_end": 12612.8,
            "count": 1
           },
           {
            "bin_start": 12612.8,
            "bin_end": 15766,
            "count": 0
           },
           {
            "bin_start": 15766,
            "bin_end": 18919.199999999997,
            "count": 0
           },
           {
            "bin_start": 18919.199999999997,
            "bin_end": 22072.399999999998,
            "count": 0
           },
           {
            "bin_start": 22072.399999999998,
            "bin_end": 25225.6,
            "count": 0
           },
           {
            "bin_start": 25225.6,
            "bin_end": 28378.8,
            "count": 0
           },
           {
            "bin_start": 28378.8,
            "bin_end": 31532,
            "count": 1
           }
          ]
         }
        },
        {
         "name": "positivas_pcr_mujer_edades_meses",
         "dtype": "float64",
         "stats": {
          "unique_count": 5,
          "nan_count": 0,
          "min": "0.0",
          "max": "644.0",
          "histogram": [
           {
            "bin_start": 0,
            "bin_end": 64.4,
            "count": 4
           },
           {
            "bin_start": 64.4,
            "bin_end": 128.8,
            "count": 1
           },
           {
            "bin_start": 128.8,
            "bin_end": 193.20000000000002,
            "count": 1
           },
           {
            "bin_start": 193.20000000000002,
            "bin_end": 257.6,
            "count": 0
           },
           {
            "bin_start": 257.6,
            "bin_end": 322,
            "count": 0
           },
           {
            "bin_start": 322,
            "bin_end": 386.40000000000003,
            "count": 0
           },
           {
            "bin_start": 386.40000000000003,
            "bin_end": 450.80000000000007,
            "count": 1
           },
           {
            "bin_start": 450.80000000000007,
            "bin_end": 515.2,
            "count": 0
           },
           {
            "bin_start": 515.2,
            "bin_end": 579.6,
            "count": 0
           },
           {
            "bin_start": 579.6,
            "bin_end": 644,
            "count": 1
           }
          ]
         }
        },
        {
         "name": "positivas_pcr_mujer_edades_0a4",
         "dtype": "float64",
         "stats": {
          "unique_count": 5,
          "nan_count": 0,
          "min": "0.0",
          "max": "1747.0",
          "histogram": [
           {
            "bin_start": 0,
            "bin_end": 174.7,
            "count": 4
           },
           {
            "bin_start": 174.7,
            "bin_end": 349.4,
            "count": 0
           },
           {
            "bin_start": 349.4,
            "bin_end": 524.0999999999999,
            "count": 1
           },
           {
            "bin_start": 524.0999999999999,
            "bin_end": 698.8,
            "count": 1
           },
           {
            "bin_start": 698.8,
            "bin_end": 873.5,
            "count": 1
           },
           {
            "bin_start": 873.5,
            "bin_end": 1048.1999999999998,
            "count": 0
           },
           {
            "bin_start": 1048.1999999999998,
            "bin_end": 1222.8999999999999,
            "count": 0
           },
           {
            "bin_start": 1222.8999999999999,
            "bin_end": 1397.6,
            "count": 0
           },
           {
            "bin_start": 1397.6,
            "bin_end": 1572.3,
            "count": 0
           },
           {
            "bin_start": 1572.3,
            "bin_end": 1747,
            "count": 1
           }
          ]
         }
        },
        {
         "name": "positivas_pcr_mujer_edades_5a9",
         "dtype": "float64",
         "stats": {
          "unique_count": 5,
          "nan_count": 0,
          "min": "0.0",
          "max": "2377.0",
          "histogram": [
           {
            "bin_start": 0,
            "bin_end": 237.7,
            "count": 4
           },
           {
            "bin_start": 237.7,
            "bin_end": 475.4,
            "count": 0
           },
           {
            "bin_start": 475.4,
            "bin_end": 713.0999999999999,
            "count": 2
           },
           {
            "bin_start": 713.0999999999999,
            "bin_end": 950.8,
            "count": 0
           },
           {
            "bin_start": 950.8,
            "bin_end": 1188.5,
            "count": 1
           },
           {
            "bin_start": 1188.5,
            "bin_end": 1426.1999999999998,
            "count": 0
           },
           {
            "bin_start": 1426.1999999999998,
            "bin_end": 1663.8999999999999,
            "count": 0
           },
           {
            "bin_start": 1663.8999999999999,
            "bin_end": 1901.6,
            "count": 0
           },
           {
            "bin_start": 1901.6,
            "bin_end": 2139.2999999999997,
            "count": 0
           },
           {
            "bin_start": 2139.2999999999997,
            "bin_end": 2377,
            "count": 1
           }
          ]
         }
        },
        {
         "name": "positivas_pcr_mujer_edades_10a14",
         "dtype": "float64",
         "stats": {
          "unique_count": 5,
          "nan_count": 0,
          "min": "0.0",
          "max": "4623.0",
          "histogram": [
           {
            "bin_start": 0,
            "bin_end": 462.3,
            "count": 4
           },
           {
            "bin_start": 462.3,
            "bin_end": 924.6,
            "count": 1
           },
           {
            "bin_start": 924.6,
            "bin_end": 1386.9,
            "count": 1
           },
           {
            "bin_start": 1386.9,
            "bin_end": 1849.2,
            "count": 0
           },
           {
            "bin_start": 1849.2,
            "bin_end": 2311.5,
            "count": 1
           },
           {
            "bin_start": 2311.5,
            "bin_end": 2773.8,
            "count": 0
           },
           {
            "bin_start": 2773.8,
            "bin_end": 3236.1,
            "count": 0
           },
           {
            "bin_start": 3236.1,
            "bin_end": 3698.4,
            "count": 0
           },
           {
            "bin_start": 3698.4,
            "bin_end": 4160.7,
            "count": 0
           },
           {
            "bin_start": 4160.7,
            "bin_end": 4623,
            "count": 1
           }
          ]
         }
        },
        {
         "name": "positivas_pcr_mujer_edades_15a19",
         "dtype": "float64",
         "stats": {
          "unique_count": 5,
          "nan_count": 0,
          "min": "0.0",
          "max": "9235.0",
          "histogram": [
           {
            "bin_start": 0,
            "bin_end": 923.5,
            "count": 5
           },
           {
            "bin_start": 923.5,
            "bin_end": 1847,
            "count": 0
           },
           {
            "bin_start": 1847,
            "bin_end": 2770.5,
            "count": 1
           },
           {
            "bin_start": 2770.5,
            "bin_end": 3694,
            "count": 1
           },
           {
            "bin_start": 3694,
            "bin_end": 4617.5,
            "count": 0
           },
           {
            "bin_start": 4617.5,
            "bin_end": 5541,
            "count": 0
           },
           {
            "bin_start": 5541,
            "bin_end": 6464.5,
            "count": 0
           },
           {
            "bin_start": 6464.5,
            "bin_end": 7388,
            "count": 0
           },
           {
            "bin_start": 7388,
            "bin_end": 8311.5,
            "count": 0
           },
           {
            "bin_start": 8311.5,
            "bin_end": 9235,
            "count": 1
           }
          ]
         }
        },
        {
         "name": "positivas_pcr_mujer_edades_20a49",
         "dtype": "float64",
         "stats": {
          "unique_count": 5,
          "nan_count": 0,
          "min": "0.0",
          "max": "148954.0",
          "histogram": [
           {
            "bin_start": 0,
            "bin_end": 14895.4,
            "count": 5
           },
           {
            "bin_start": 14895.4,
            "bin_end": 29790.8,
            "count": 0
           },
           {
            "bin_start": 29790.8,
            "bin_end": 44686.2,
            "count": 1
           },
           {
            "bin_start": 44686.2,
            "bin_end": 59581.6,
            "count": 0
           },
           {
            "bin_start": 59581.6,
            "bin_end": 74477,
            "count": 1
           },
           {
            "bin_start": 74477,
            "bin_end": 89372.4,
            "count": 0
           },
           {
            "bin_start": 89372.4,
            "bin_end": 104267.8,
            "count": 0
           },
           {
            "bin_start": 104267.8,
            "bin_end": 119163.2,
            "count": 0
           },
           {
            "bin_start": 119163.2,
            "bin_end": 134058.6,
            "count": 0
           },
           {
            "bin_start": 134058.6,
            "bin_end": 148954,
            "count": 1
           }
          ]
         }
        },
        {
         "name": "positivas_pcr_mujer_edades_50a64",
         "dtype": "float64",
         "stats": {
          "unique_count": 5,
          "nan_count": 0,
          "min": "0.0",
          "max": "50219.0",
          "histogram": [
           {
            "bin_start": 0,
            "bin_end": 5021.9,
            "count": 5
           },
           {
            "bin_start": 5021.9,
            "bin_end": 10043.8,
            "count": 0
           },
           {
            "bin_start": 10043.8,
            "bin_end": 15065.699999999999,
            "count": 1
           },
           {
            "bin_start": 15065.699999999999,
            "bin_end": 20087.6,
            "count": 0
           },
           {
            "bin_start": 20087.6,
            "bin_end": 25109.5,
            "count": 1
           },
           {
            "bin_start": 25109.5,
            "bin_end": 30131.399999999998,
            "count": 0
           },
           {
            "bin_start": 30131.399999999998,
            "bin_end": 35153.299999999996,
            "count": 0
           },
           {
            "bin_start": 35153.299999999996,
            "bin_end": 40175.2,
            "count": 0
           },
           {
            "bin_start": 40175.2,
            "bin_end": 45197.1,
            "count": 0
           },
           {
            "bin_start": 45197.1,
            "bin_end": 50219,
            "count": 1
           }
          ]
         }
        },
        {
         "name": "positivas_pcr_mujer_edades_65an",
         "dtype": "float64",
         "stats": {
          "unique_count": 5,
          "nan_count": 0,
          "min": "0.0",
          "max": "31563.0",
          "histogram": [
           {
            "bin_start": 0,
            "bin_end": 3156.3,
            "count": 5
           },
           {
            "bin_start": 3156.3,
            "bin_end": 6312.6,
            "count": 0
           },
           {
            "bin_start": 6312.6,
            "bin_end": 9468.900000000001,
            "count": 1
           },
           {
            "bin_start": 9468.900000000001,
            "bin_end": 12625.2,
            "count": 0
           },
           {
            "bin_start": 12625.2,
            "bin_end": 15781.5,
            "count": 1
           },
           {
            "bin_start": 15781.5,
            "bin_end": 18937.800000000003,
            "count": 0
           },
           {
            "bin_start": 18937.800000000003,
            "bin_end": 22094.100000000002,
            "count": 0
           },
           {
            "bin_start": 22094.100000000002,
            "bin_end": 25250.4,
            "count": 0
           },
           {
            "bin_start": 25250.4,
            "bin_end": 28406.7,
            "count": 0
           },
           {
            "bin_start": 28406.7,
            "bin_end": 31563,
            "count": 1
           }
          ]
         }
        },
        {
         "name": "positivas_rapidas",
         "dtype": "float64",
         "stats": {
          "unique_count": 5,
          "nan_count": 0,
          "min": "0.0",
          "max": "8956.0",
          "histogram": [
           {
            "bin_start": 0,
            "bin_end": 895.6,
            "count": 2
           },
           {
            "bin_start": 895.6,
            "bin_end": 1791.2,
            "count": 0
           },
           {
            "bin_start": 1791.2,
            "bin_end": 2686.8,
            "count": 1
           },
           {
            "bin_start": 2686.8,
            "bin_end": 3582.4,
            "count": 0
           },
           {
            "bin_start": 3582.4,
            "bin_end": 4478,
            "count": 0
           },
           {
            "bin_start": 4478,
            "bin_end": 5373.6,
            "count": 0
           },
           {
            "bin_start": 5373.6,
            "bin_end": 6269.2,
            "count": 0
           },
           {
            "bin_start": 6269.2,
            "bin_end": 7164.8,
            "count": 0
           },
           {
            "bin_start": 7164.8,
            "bin_end": 8060.400000000001,
            "count": 0
           },
           {
            "bin_start": 8060.400000000001,
            "bin_end": 8956,
            "count": 5
           }
          ]
         }
        },
        {
         "name": "negativas",
         "dtype": "float64",
         "stats": {
          "unique_count": 8,
          "nan_count": 0,
          "min": "0.0",
          "max": "1449701.0",
          "histogram": [
           {
            "bin_start": 0,
            "bin_end": 144970.1,
            "count": 2
           },
           {
            "bin_start": 144970.1,
            "bin_end": 289940.2,
            "count": 1
           },
           {
            "bin_start": 289940.2,
            "bin_end": 434910.30000000005,
            "count": 0
           },
           {
            "bin_start": 434910.30000000005,
            "bin_end": 579880.4,
            "count": 1
           },
           {
            "bin_start": 579880.4,
            "bin_end": 724850.5,
            "count": 2
           },
           {
            "bin_start": 724850.5,
            "bin_end": 869820.6000000001,
            "count": 0
           },
           {
            "bin_start": 869820.6000000001,
            "bin_end": 1014790.7000000001,
            "count": 0
           },
           {
            "bin_start": 1014790.7000000001,
            "bin_end": 1159760.8,
            "count": 1
           },
           {
            "bin_start": 1159760.8,
            "bin_end": 1304730.9000000001,
            "count": 0
           },
           {
            "bin_start": 1304730.9000000001,
            "bin_end": 1449701,
            "count": 1
           }
          ]
         }
        },
        {
         "name": "negativas_pcr",
         "dtype": "float64",
         "stats": {
          "unique_count": 8,
          "nan_count": 0,
          "min": "0.0",
          "max": "1438085.0",
          "histogram": [
           {
            "bin_start": 0,
            "bin_end": 143808.5,
            "count": 3
           },
           {
            "bin_start": 143808.5,
            "bin_end": 287617,
            "count": 0
           },
           {
            "bin_start": 287617,
            "bin_end": 431425.5,
            "count": 0
           },
           {
            "bin_start": 431425.5,
            "bin_end": 575234,
            "count": 2
           },
           {
            "bin_start": 575234,
            "bin_end": 719042.5,
            "count": 1
           },
           {
            "bin_start": 719042.5,
            "bin_end": 862851,
            "count": 0
           },
           {
            "bin_start": 862851,
            "bin_end": 1006659.5,
            "count": 0
           },
           {
            "bin_start": 1006659.5,
            "bin_end": 1150468,
            "count": 1
           },
           {
            "bin_start": 1150468,
            "bin_end": 1294276.5,
            "count": 0
           },
           {
            "bin_start": 1294276.5,
            "bin_end": 1438085,
            "count": 1
           }
          ]
         }
        },
        {
         "name": "negativas_pcr_nuevas",
         "dtype": "float64",
         "stats": {
          "unique_count": 8,
          "nan_count": 0,
          "min": "-2263.0",
          "max": "9089.0",
          "histogram": [
           {
            "bin_start": -2263,
            "bin_end": -1127.8,
            "count": 1
           },
           {
            "bin_start": -1127.8,
            "bin_end": 7.400000000000091,
            "count": 0
           },
           {
            "bin_start": 7.400000000000091,
            "bin_end": 1142.6000000000004,
            "count": 2
           },
           {
            "bin_start": 1142.6000000000004,
            "bin_end": 2277.8,
            "count": 3
           },
           {
            "bin_start": 2277.8,
            "bin_end": 3413,
            "count": 1
           },
           {
            "bin_start": 3413,
            "bin_end": 4548.200000000001,
            "count": 0
           },
           {
            "bin_start": 4548.200000000001,
            "bin_end": 5683.400000000001,
            "count": 0
           },
           {
            "bin_start": 5683.400000000001,
            "bin_end": 6818.6,
            "count": 0
           },
           {
            "bin_start": 6818.6,
            "bin_end": 7953.800000000001,
            "count": 0
           },
           {
            "bin_start": 7953.800000000001,
            "bin_end": 9089,
            "count": 1
           }
          ]
         }
        },
        {
         "name": "negativas_rapidas",
         "dtype": "float64",
         "stats": {
          "unique_count": 5,
          "nan_count": 0,
          "min": "0.0",
          "max": "11616.0",
          "histogram": [
           {
            "bin_start": 0,
            "bin_end": 1161.6,
            "count": 2
           },
           {
            "bin_start": 1161.6,
            "bin_end": 2323.2,
            "count": 0
           },
           {
            "bin_start": 2323.2,
            "bin_end": 3484.7999999999997,
            "count": 1
           },
           {
            "bin_start": 3484.7999999999997,
            "bin_end": 4646.4,
            "count": 0
           },
           {
            "bin_start": 4646.4,
            "bin_end": 5808,
            "count": 0
           },
           {
            "bin_start": 5808,
            "bin_end": 6969.599999999999,
            "count": 0
           },
           {
            "bin_start": 6969.599999999999,
            "bin_end": 8131.199999999999,
            "count": 0
           },
           {
            "bin_start": 8131.199999999999,
            "bin_end": 9292.8,
            "count": 0
           },
           {
            "bin_start": 9292.8,
            "bin_end": 10454.4,
            "count": 0
           },
           {
            "bin_start": 10454.4,
            "bin_end": 11616,
            "count": 5
           }
          ]
         }
        },
        {
         "name": "hospitalizadas_altas",
         "dtype": "float64",
         "stats": {
          "unique_count": 7,
          "nan_count": 0,
          "min": "0.0",
          "max": "48969.0",
          "histogram": [
           {
            "bin_start": 0,
            "bin_end": 4896.9,
            "count": 2
           },
           {
            "bin_start": 4896.9,
            "bin_end": 9793.8,
            "count": 0
           },
           {
            "bin_start": 9793.8,
            "bin_end": 14690.699999999999,
            "count": 1
           },
           {
            "bin_start": 14690.699999999999,
            "bin_end": 19587.6,
            "count": 1
           },
           {
            "bin_start": 19587.6,
            "bin_end": 24484.5,
            "count": 0
           },
           {
            "bin_start": 24484.5,
            "bin_end": 29381.399999999998,
            "count": 2
           },
           {
            "bin_start": 29381.399999999998,
            "bin_end": 34278.299999999996,
            "count": 0
           },
           {
            "bin_start": 34278.299999999996,
            "bin_end": 39175.2,
            "count": 0
           },
           {
            "bin_start": 39175.2,
            "bin_end": 44072.1,
            "count": 0
           },
           {
            "bin_start": 44072.1,
            "bin_end": 48969,
            "count": 2
           }
          ]
         }
        },
        {
         "name": "hospitalizadas_estables",
         "dtype": "float64",
         "stats": {
          "unique_count": 8,
          "nan_count": 0,
          "min": "0.0",
          "max": "1487.0",
          "histogram": [
           {
            "bin_start": 0,
            "bin_end": 148.7,
            "count": 1
           },
           {
            "bin_start": 148.7,
            "bin_end": 297.4,
            "count": 1
           },
           {
            "bin_start": 297.4,
            "bin_end": 446.09999999999997,
            "count": 0
           },
           {
            "bin_start": 446.09999999999997,
            "bin_end": 594.8,
            "count": 1
           },
           {
            "bin_start": 594.8,
            "bin_end": 743.5,
            "count": 3
           },
           {
            "bin_start": 743.5,
            "bin_end": 892.1999999999999,
            "count": 1
           },
           {
            "bin_start": 892.1999999999999,
            "bin_end": 1040.8999999999999,
            "count": 0
           },
           {
            "bin_start": 1040.8999999999999,
            "bin_end": 1189.6,
            "count": 0
           },
           {
            "bin_start": 1189.6,
            "bin_end": 1338.3,
            "count": 0
           },
           {
            "bin_start": 1338.3,
            "bin_end": 1487,
            "count": 1
           }
          ]
         }
        },
        {
         "name": "hospitalizadas_pronostico_reservadas",
         "dtype": "float64",
         "stats": {
          "unique_count": 8,
          "nan_count": 0,
          "min": "1.0",
          "max": "650.0",
          "histogram": [
           {
            "bin_start": 1,
            "bin_end": 65.9,
            "count": 1
           },
           {
            "bin_start": 65.9,
            "bin_end": 130.8,
            "count": 1
           },
           {
            "bin_start": 130.8,
            "bin_end": 195.70000000000002,
            "count": 0
           },
           {
            "bin_start": 195.70000000000002,
            "bin_end": 260.6,
            "count": 0
           },
           {
            "bin_start": 260.6,
            "bin_end": 325.5,
            "count": 0
           },
           {
            "bin_start": 325.5,
            "bin_end": 390.40000000000003,
            "count": 2
           },
           {
            "bin_start": 390.40000000000003,
            "bin_end": 455.30000000000007,
            "count": 2
           },
           {
            "bin_start": 455.30000000000007,
            "bin_end": 520.2,
            "count": 0
           },
           {
            "bin_start": 520.2,
            "bin_end": 585.1,
            "count": 0
           },
           {
            "bin_start": 585.1,
            "bin_end": 650,
            "count": 2
           }
          ]
         }
        },
        {
         "name": "msp_hospitalizacion_camas_porcentaje_ocupadas",
         "dtype": "float64",
         "stats": {
          "unique_count": 5,
          "nan_count": 0,
          "min": "0.0",
          "max": "644.0",
          "histogram": [
           {
            "bin_start": 0,
            "bin_end": 64.4,
            "count": 7
           },
           {
            "bin_start": 64.4,
            "bin_end": 128.8,
            "count": 0
           },
           {
            "bin_start": 128.8,
            "bin_end": 193.20000000000002,
            "count": 0
           },
           {
            "bin_start": 193.20000000000002,
            "bin_end": 257.6,
            "count": 0
           },
           {
            "bin_start": 257.6,
            "bin_end": 322,
            "count": 0
           },
           {
            "bin_start": 322,
            "bin_end": 386.40000000000003,
            "count": 0
           },
           {
            "bin_start": 386.40000000000003,
            "bin_end": 450.80000000000007,
            "count": 0
           },
           {
            "bin_start": 450.80000000000007,
            "bin_end": 515.2,
            "count": 0
           },
           {
            "bin_start": 515.2,
            "bin_end": 579.6,
            "count": 0
           },
           {
            "bin_start": 579.6,
            "bin_end": 644,
            "count": 1
           }
          ]
         }
        },
        {
         "name": "msp_hospitalizacion_lista_espera",
         "dtype": "float64",
         "stats": {
          "unique_count": 5,
          "nan_count": 0,
          "min": "0.0",
          "max": "644.0",
          "histogram": [
           {
            "bin_start": 0,
            "bin_end": 64.4,
            "count": 7
           },
           {
            "bin_start": 64.4,
            "bin_end": 128.8,
            "count": 0
           },
           {
            "bin_start": 128.8,
            "bin_end": 193.20000000000002,
            "count": 0
           },
           {
            "bin_start": 193.20000000000002,
            "bin_end": 257.6,
            "count": 0
           },
           {
            "bin_start": 257.6,
            "bin_end": 322,
            "count": 0
           },
           {
            "bin_start": 322,
            "bin_end": 386.40000000000003,
            "count": 0
           },
           {
            "bin_start": 386.40000000000003,
            "bin_end": 450.80000000000007,
            "count": 0
           },
           {
            "bin_start": 450.80000000000007,
            "bin_end": 515.2,
            "count": 0
           },
           {
            "bin_start": 515.2,
            "bin_end": 579.6,
            "count": 0
           },
           {
            "bin_start": 579.6,
            "bin_end": 644,
            "count": 1
           }
          ]
         }
        },
        {
         "name": "msp_hospitalizacion_camas_asignadas",
         "dtype": "float64",
         "stats": {
          "unique_count": 5,
          "nan_count": 0,
          "min": "0.0",
          "max": "2643.0",
          "histogram": [
           {
            "bin_start": 0,
            "bin_end": 264.3,
            "count": 5
           },
           {
            "bin_start": 264.3,
            "bin_end": 528.6,
            "count": 1
           },
           {
            "bin_start": 528.6,
            "bin_end": 792.9000000000001,
            "count": 1
           },
           {
            "bin_start": 792.9000000000001,
            "bin_end": 1057.2,
            "count": 0
           },
           {
            "bin_start": 1057.2,
            "bin_end": 1321.5,
            "count": 0
           },
           {
            "bin_start": 1321.5,
            "bin_end": 1585.8000000000002,
            "count": 0
           },
           {
            "bin_start": 1585.8000000000002,
            "bin_end": 1850.1000000000001,
            "count": 0
           },
           {
            "bin_start": 1850.1000000000001,
            "bin_end": 2114.4,
            "count": 0
           },
           {
            "bin_start": 2114.4,
            "bin_end": 2378.7000000000003,
            "count": 0
           },
           {
            "bin_start": 2378.7000000000003,
            "bin_end": 2643,
            "count": 1
           }
          ]
         }
        },
        {
         "name": "msp_hospitalizacion_camas_ocupadas",
         "dtype": "float64",
         "stats": {
          "unique_count": 5,
          "nan_count": 0,
          "min": "0.0",
          "max": "644.0",
          "histogram": [
           {
            "bin_start": 0,
            "bin_end": 64.4,
            "count": 5
           },
           {
            "bin_start": 64.4,
            "bin_end": 128.8,
            "count": 1
           },
           {
            "bin_start": 128.8,
            "bin_end": 193.20000000000002,
            "count": 0
           },
           {
            "bin_start": 193.20000000000002,
            "bin_end": 257.6,
            "count": 0
           },
           {
            "bin_start": 257.6,
            "bin_end": 322,
            "count": 0
           },
           {
            "bin_start": 322,
            "bin_end": 386.40000000000003,
            "count": 0
           },
           {
            "bin_start": 386.40000000000003,
            "bin_end": 450.80000000000007,
            "count": 0
           },
           {
            "bin_start": 450.80000000000007,
            "bin_end": 515.2,
            "count": 1
           },
           {
            "bin_start": 515.2,
            "bin_end": 579.6,
            "count": 0
           },
           {
            "bin_start": 579.6,
            "bin_end": 644,
            "count": 1
           }
          ]
         }
        },
        {
         "name": "msp_cuidado_intermedio_camas_porcentaje_ocupadas",
         "dtype": "float64",
         "stats": {
          "unique_count": 5,
          "nan_count": 0,
          "min": "0.0",
          "max": "644.0",
          "histogram": [
           {
            "bin_start": 0,
            "bin_end": 64.4,
            "count": 6
           },
           {
            "bin_start": 64.4,
            "bin_end": 128.8,
            "count": 1
           },
           {
            "bin_start": 128.8,
            "bin_end": 193.20000000000002,
            "count": 0
           },
           {
            "bin_start": 193.20000000000002,
            "bin_end": 257.6,
            "count": 0
           },
           {
            "bin_start": 257.6,
            "bin_end": 322,
            "count": 0
           },
           {
            "bin_start": 322,
            "bin_end": 386.40000000000003,
            "count": 0
           },
           {
            "bin_start": 386.40000000000003,
            "bin_end": 450.80000000000007,
            "count": 0
           },
           {
            "bin_start": 450.80000000000007,
            "bin_end": 515.2,
            "count": 0
           },
           {
            "bin_start": 515.2,
            "bin_end": 579.6,
            "count": 0
           },
           {
            "bin_start": 579.6,
            "bin_end": 644,
            "count": 1
           }
          ]
         }
        },
        {
         "name": "msp_cuidado_intermedio_lista_espera",
         "dtype": "float64",
         "stats": {
          "unique_count": 5,
          "nan_count": 0,
          "min": "0.0",
          "max": "644.0",
          "histogram": [
           {
            "bin_start": 0,
            "bin_end": 64.4,
            "count": 7
           },
           {
            "bin_start": 64.4,
            "bin_end": 128.8,
            "count": 0
           },
           {
            "bin_start": 128.8,
            "bin_end": 193.20000000000002,
            "count": 0
           },
           {
            "bin_start": 193.20000000000002,
            "bin_end": 257.6,
            "count": 0
           },
           {
            "bin_start": 257.6,
            "bin_end": 322,
            "count": 0
           },
           {
            "bin_start": 322,
            "bin_end": 386.40000000000003,
            "count": 0
           },
           {
            "bin_start": 386.40000000000003,
            "bin_end": 450.80000000000007,
            "count": 0
           },
           {
            "bin_start": 450.80000000000007,
            "bin_end": 515.2,
            "count": 0
           },
           {
            "bin_start": 515.2,
            "bin_end": 579.6,
            "count": 0
           },
           {
            "bin_start": 579.6,
            "bin_end": 644,
            "count": 1
           }
          ]
         }
        },
        {
         "name": "msp_cuidado_intermedio_camas_asignadas",
         "dtype": "float64",
         "stats": {
          "unique_count": 5,
          "nan_count": 0,
          "min": "0.0",
          "max": "644.0",
          "histogram": [
           {
            "bin_start": 0,
            "bin_end": 64.4,
            "count": 6
           },
           {
            "bin_start": 64.4,
            "bin_end": 128.8,
            "count": 0
           },
           {
            "bin_start": 128.8,
            "bin_end": 193.20000000000002,
            "count": 1
           },
           {
            "bin_start": 193.20000000000002,
            "bin_end": 257.6,
            "count": 0
           },
           {
            "bin_start": 257.6,
            "bin_end": 322,
            "count": 0
           },
           {
            "bin_start": 322,
            "bin_end": 386.40000000000003,
            "count": 0
           },
           {
            "bin_start": 386.40000000000003,
            "bin_end": 450.80000000000007,
            "count": 0
           },
           {
            "bin_start": 450.80000000000007,
            "bin_end": 515.2,
            "count": 0
           },
           {
            "bin_start": 515.2,
            "bin_end": 579.6,
            "count": 0
           },
           {
            "bin_start": 579.6,
            "bin_end": 644,
            "count": 1
           }
          ]
         }
        },
        {
         "name": "msp_cuidado_intermedio_camas_ocupadas",
         "dtype": "float64",
         "stats": {
          "unique_count": 5,
          "nan_count": 0,
          "min": "0.0",
          "max": "644.0",
          "histogram": [
           {
            "bin_start": 0,
            "bin_end": 64.4,
            "count": 7
           },
           {
            "bin_start": 64.4,
            "bin_end": 128.8,
            "count": 0
           },
           {
            "bin_start": 128.8,
            "bin_end": 193.20000000000002,
            "count": 0
           },
           {
            "bin_start": 193.20000000000002,
            "bin_end": 257.6,
            "count": 0
           },
           {
            "bin_start": 257.6,
            "bin_end": 322,
            "count": 0
           },
           {
            "bin_start": 322,
            "bin_end": 386.40000000000003,
            "count": 0
           },
           {
            "bin_start": 386.40000000000003,
            "bin_end": 450.80000000000007,
            "count": 0
           },
           {
            "bin_start": 450.80000000000007,
            "bin_end": 515.2,
            "count": 0
           },
           {
            "bin_start": 515.2,
            "bin_end": 579.6,
            "count": 0
           },
           {
            "bin_start": 579.6,
            "bin_end": 644,
            "count": 1
           }
          ]
         }
        },
        {
         "name": "msp_uci_camas_porcentaje_ocupadas",
         "dtype": "float64",
         "stats": {
          "unique_count": 5,
          "nan_count": 0,
          "min": "0.0",
          "max": "644.0",
          "histogram": [
           {
            "bin_start": 0,
            "bin_end": 64.4,
            "count": 6
           },
           {
            "bin_start": 64.4,
            "bin_end": 128.8,
            "count": 1
           },
           {
            "bin_start": 128.8,
            "bin_end": 193.20000000000002,
            "count": 0
           },
           {
            "bin_start": 193.20000000000002,
            "bin_end": 257.6,
            "count": 0
           },
           {
            "bin_start": 257.6,
            "bin_end": 322,
            "count": 0
           },
           {
            "bin_start": 322,
            "bin_end": 386.40000000000003,
            "count": 0
           },
           {
            "bin_start": 386.40000000000003,
            "bin_end": 450.80000000000007,
            "count": 0
           },
           {
            "bin_start": 450.80000000000007,
            "bin_end": 515.2,
            "count": 0
           },
           {
            "bin_start": 515.2,
            "bin_end": 579.6,
            "count": 0
           },
           {
            "bin_start": 579.6,
            "bin_end": 644,
            "count": 1
           }
          ]
         }
        },
        {
         "name": "msp_uci_lista_espera",
         "dtype": "float64",
         "stats": {
          "unique_count": 5,
          "nan_count": 0,
          "min": "0.0",
          "max": "644.0",
          "histogram": [
           {
            "bin_start": 0,
            "bin_end": 64.4,
            "count": 6
           },
           {
            "bin_start": 64.4,
            "bin_end": 128.8,
            "count": 1
           },
           {
            "bin_start": 128.8,
            "bin_end": 193.20000000000002,
            "count": 0
           },
           {
            "bin_start": 193.20000000000002,
            "bin_end": 257.6,
            "count": 0
           },
           {
            "bin_start": 257.6,
            "bin_end": 322,
            "count": 0
           },
           {
            "bin_start": 322,
            "bin_end": 386.40000000000003,
            "count": 0
           },
           {
            "bin_start": 386.40000000000003,
            "bin_end": 450.80000000000007,
            "count": 0
           },
           {
            "bin_start": 450.80000000000007,
            "bin_end": 515.2,
            "count": 0
           },
           {
            "bin_start": 515.2,
            "bin_end": 579.6,
            "count": 0
           },
           {
            "bin_start": 579.6,
            "bin_end": 644,
            "count": 1
           }
          ]
         }
        },
        {
         "name": "msp_uci_camas_asignadas",
         "dtype": "float64",
         "stats": {
          "unique_count": 5,
          "nan_count": 0,
          "min": "0.0",
          "max": "772.0",
          "histogram": [
           {
            "bin_start": 0,
            "bin_end": 77.2,
            "count": 5
           },
           {
            "bin_start": 77.2,
            "bin_end": 154.4,
            "count": 1
           },
           {
            "bin_start": 154.4,
            "bin_end": 231.60000000000002,
            "count": 0
           },
           {
            "bin_start": 231.60000000000002,
            "bin_end": 308.8,
            "count": 0
           },
           {
            "bin_start": 308.8,
            "bin_end": 386,
            "count": 0
           },
           {
            "bin_start": 386,
            "bin_end": 463.20000000000005,
            "count": 0
           },
           {
            "bin_start": 463.20000000000005,
            "bin_end": 540.4,
            "count": 0
           },
           {
            "bin_start": 540.4,
            "bin_end": 617.6,
            "count": 0
           },
           {
            "bin_start": 617.6,
            "bin_end": 694.8000000000001,
            "count": 1
           },
           {
            "bin_start": 694.8000000000001,
            "bin_end": 772,
            "count": 1
           }
          ]
         }
        },
        {
         "name": "msp_uci_camas_ocupadas",
         "dtype": "float64",
         "stats": {
          "unique_count": 5,
          "nan_count": 0,
          "min": "0.0",
          "max": "644.0",
          "histogram": [
           {
            "bin_start": 0,
            "bin_end": 64.4,
            "count": 6
           },
           {
            "bin_start": 64.4,
            "bin_end": 128.8,
            "count": 0
           },
           {
            "bin_start": 128.8,
            "bin_end": 193.20000000000002,
            "count": 0
           },
           {
            "bin_start": 193.20000000000002,
            "bin_end": 257.6,
            "count": 1
           },
           {
            "bin_start": 257.6,
            "bin_end": 322,
            "count": 0
           },
           {
            "bin_start": 322,
            "bin_end": 386.40000000000003,
            "count": 0
           },
           {
            "bin_start": 386.40000000000003,
            "bin_end": 450.80000000000007,
            "count": 0
           },
           {
            "bin_start": 450.80000000000007,
            "bin_end": 515.2,
            "count": 0
           },
           {
            "bin_start": 515.2,
            "bin_end": 579.6,
            "count": 0
           },
           {
            "bin_start": 579.6,
            "bin_end": 644,
            "count": 1
           }
          ]
         }
        },
        {
         "name": "rpis_hospitalizacion_camas_porcentaje_ocupadas",
         "dtype": "float64",
         "stats": {
          "unique_count": 5,
          "nan_count": 0,
          "min": "0.0",
          "max": "644.0",
          "histogram": [
           {
            "bin_start": 0,
            "bin_end": 64.4,
            "count": 7
           },
           {
            "bin_start": 64.4,
            "bin_end": 128.8,
            "count": 0
           },
           {
            "bin_start": 128.8,
            "bin_end": 193.20000000000002,
            "count": 0
           },
           {
            "bin_start": 193.20000000000002,
            "bin_end": 257.6,
            "count": 0
           },
           {
            "bin_start": 257.6,
            "bin_end": 322,
            "count": 0
           },
           {
            "bin_start": 322,
            "bin_end": 386.40000000000003,
            "count": 0
           },
           {
            "bin_start": 386.40000000000003,
            "bin_end": 450.80000000000007,
            "count": 0
           },
           {
            "bin_start": 450.80000000000007,
            "bin_end": 515.2,
            "count": 0
           },
           {
            "bin_start": 515.2,
            "bin_end": 579.6,
            "count": 0
           },
           {
            "bin_start": 579.6,
            "bin_end": 644,
            "count": 1
           }
          ]
         }
        },
        {
         "name": "rpis_hospitalizacion_lista_espera",
         "dtype": "float64",
         "stats": {
          "unique_count": 5,
          "nan_count": 0,
          "min": "0.0",
          "max": "644.0",
          "histogram": [
           {
            "bin_start": 0,
            "bin_end": 64.4,
            "count": 7
           },
           {
            "bin_start": 64.4,
            "bin_end": 128.8,
            "count": 0
           },
           {
            "bin_start": 128.8,
            "bin_end": 193.20000000000002,
            "count": 0
           },
           {
            "bin_start": 193.20000000000002,
            "bin_end": 257.6,
            "count": 0
           },
           {
            "bin_start": 257.6,
            "bin_end": 322,
            "count": 0
           },
           {
            "bin_start": 322,
            "bin_end": 386.40000000000003,
            "count": 0
           },
           {
            "bin_start": 386.40000000000003,
            "bin_end": 450.80000000000007,
            "count": 0
           },
           {
            "bin_start": 450.80000000000007,
            "bin_end": 515.2,
            "count": 0
           },
           {
            "bin_start": 515.2,
            "bin_end": 579.6,
            "count": 0
           },
           {
            "bin_start": 579.6,
            "bin_end": 644,
            "count": 1
           }
          ]
         }
        },
        {
         "name": "rpis_hospitalizacion_camas_asignadas",
         "dtype": "float64",
         "stats": {
          "unique_count": 5,
          "nan_count": 0,
          "min": "0.0",
          "max": "819.0",
          "histogram": [
           {
            "bin_start": 0,
            "bin_end": 81.9,
            "count": 4
           },
           {
            "bin_start": 81.9,
            "bin_end": 163.8,
            "count": 1
           },
           {
            "bin_start": 163.8,
            "bin_end": 245.70000000000002,
            "count": 1
           },
           {
            "bin_start": 245.70000000000002,
            "bin_end": 327.6,
            "count": 0
           },
           {
            "bin_start": 327.6,
            "bin_end": 409.5,
            "count": 0
           },
           {
            "bin_start": 409.5,
            "bin_end": 491.40000000000003,
            "count": 0
           },
           {
            "bin_start": 491.40000000000003,
            "bin_end": 573.3000000000001,
            "count": 0
           },
           {
            "bin_start": 573.3000000000001,
            "bin_end": 655.2,
            "count": 1
           },
           {
            "bin_start": 655.2,
            "bin_end": 737.1,
            "count": 0
           },
           {
            "bin_start": 737.1,
            "bin_end": 819,
            "count": 1
           }
          ]
         }
        },
        {
         "name": "rpis_hospitalizacion_camas_ocupadas",
         "dtype": "float64",
         "stats": {
          "unique_count": 5,
          "nan_count": 0,
          "min": "0.0",
          "max": "644.0",
          "histogram": [
           {
            "bin_start": 0,
            "bin_end": 64.4,
            "count": 5
           },
           {
            "bin_start": 64.4,
            "bin_end": 128.8,
            "count": 1
           },
           {
            "bin_start": 128.8,
            "bin_end": 193.20000000000002,
            "count": 0
           },
           {
            "bin_start": 193.20000000000002,
            "bin_end": 257.6,
            "count": 0
           },
           {
            "bin_start": 257.6,
            "bin_end": 322,
            "count": 0
           },
           {
            "bin_start": 322,
            "bin_end": 386.40000000000003,
            "count": 1
           },
           {
            "bin_start": 386.40000000000003,
            "bin_end": 450.80000000000007,
            "count": 0
           },
           {
            "bin_start": 450.80000000000007,
            "bin_end": 515.2,
            "count": 0
           },
           {
            "bin_start": 515.2,
            "bin_end": 579.6,
            "count": 0
           },
           {
            "bin_start": 579.6,
            "bin_end": 644,
            "count": 1
           }
          ]
         }
        },
        {
         "name": "rpis_cuidado_intermedio_camas_porcentaje_ocupadas",
         "dtype": "float64",
         "stats": {
          "unique_count": 5,
          "nan_count": 0,
          "min": "0.0",
          "max": "644.0",
          "histogram": [
           {
            "bin_start": 0,
            "bin_end": 64.4,
            "count": 6
           },
           {
            "bin_start": 64.4,
            "bin_end": 128.8,
            "count": 1
           },
           {
            "bin_start": 128.8,
            "bin_end": 193.20000000000002,
            "count": 0
           },
           {
            "bin_start": 193.20000000000002,
            "bin_end": 257.6,
            "count": 0
           },
           {
            "bin_start": 257.6,
            "bin_end": 322,
            "count": 0
           },
           {
            "bin_start": 322,
            "bin_end": 386.40000000000003,
            "count": 0
           },
           {
            "bin_start": 386.40000000000003,
            "bin_end": 450.80000000000007,
            "count": 0
           },
           {
            "bin_start": 450.80000000000007,
            "bin_end": 515.2,
            "count": 0
           },
           {
            "bin_start": 515.2,
            "bin_end": 579.6,
            "count": 0
           },
           {
            "bin_start": 579.6,
            "bin_end": 644,
            "count": 1
           }
          ]
         }
        },
        {
         "name": "rpis_cuidado_intermedio_lista_espera",
         "dtype": "float64",
         "stats": {
          "unique_count": 5,
          "nan_count": 0,
          "min": "0.0",
          "max": "644.0",
          "histogram": [
           {
            "bin_start": 0,
            "bin_end": 64.4,
            "count": 7
           },
           {
            "bin_start": 64.4,
            "bin_end": 128.8,
            "count": 0
           },
           {
            "bin_start": 128.8,
            "bin_end": 193.20000000000002,
            "count": 0
           },
           {
            "bin_start": 193.20000000000002,
            "bin_end": 257.6,
            "count": 0
           },
           {
            "bin_start": 257.6,
            "bin_end": 322,
            "count": 0
           },
           {
            "bin_start": 322,
            "bin_end": 386.40000000000003,
            "count": 0
           },
           {
            "bin_start": 386.40000000000003,
            "bin_end": 450.80000000000007,
            "count": 0
           },
           {
            "bin_start": 450.80000000000007,
            "bin_end": 515.2,
            "count": 0
           },
           {
            "bin_start": 515.2,
            "bin_end": 579.6,
            "count": 0
           },
           {
            "bin_start": 579.6,
            "bin_end": 644,
            "count": 1
           }
          ]
         }
        },
        {
         "name": "rpis_cuidado_intermedio_camas_asignadas",
         "dtype": "float64",
         "stats": {
          "unique_count": 5,
          "nan_count": 0,
          "min": "0.0",
          "max": "644.0",
          "histogram": [
           {
            "bin_start": 0,
            "bin_end": 64.4,
            "count": 7
           },
           {
            "bin_start": 64.4,
            "bin_end": 128.8,
            "count": 0
           },
           {
            "bin_start": 128.8,
            "bin_end": 193.20000000000002,
            "count": 0
           },
           {
            "bin_start": 193.20000000000002,
            "bin_end": 257.6,
            "count": 0
           },
           {
            "bin_start": 257.6,
            "bin_end": 322,
            "count": 0
           },
           {
            "bin_start": 322,
            "bin_end": 386.40000000000003,
            "count": 0
           },
           {
            "bin_start": 386.40000000000003,
            "bin_end": 450.80000000000007,
            "count": 0
           },
           {
            "bin_start": 450.80000000000007,
            "bin_end": 515.2,
            "count": 0
           },
           {
            "bin_start": 515.2,
            "bin_end": 579.6,
            "count": 0
           },
           {
            "bin_start": 579.6,
            "bin_end": 644,
            "count": 1
           }
          ]
         }
        },
        {
         "name": "rpis_cuidado_intermedio_camas_ocupadas",
         "dtype": "float64",
         "stats": {
          "unique_count": 5,
          "nan_count": 0,
          "min": "0.0",
          "max": "644.0",
          "histogram": [
           {
            "bin_start": 0,
            "bin_end": 64.4,
            "count": 7
           },
           {
            "bin_start": 64.4,
            "bin_end": 128.8,
            "count": 0
           },
           {
            "bin_start": 128.8,
            "bin_end": 193.20000000000002,
            "count": 0
           },
           {
            "bin_start": 193.20000000000002,
            "bin_end": 257.6,
            "count": 0
           },
           {
            "bin_start": 257.6,
            "bin_end": 322,
            "count": 0
           },
           {
            "bin_start": 322,
            "bin_end": 386.40000000000003,
            "count": 0
           },
           {
            "bin_start": 386.40000000000003,
            "bin_end": 450.80000000000007,
            "count": 0
           },
           {
            "bin_start": 450.80000000000007,
            "bin_end": 515.2,
            "count": 0
           },
           {
            "bin_start": 515.2,
            "bin_end": 579.6,
            "count": 0
           },
           {
            "bin_start": 579.6,
            "bin_end": 644,
            "count": 1
           }
          ]
         }
        },
        {
         "name": "rpis_uci_camas_porcentaje_ocupadas",
         "dtype": "float64",
         "stats": {
          "unique_count": 5,
          "nan_count": 0,
          "min": "0.0",
          "max": "644.0",
          "histogram": [
           {
            "bin_start": 0,
            "bin_end": 64.4,
            "count": 6
           },
           {
            "bin_start": 64.4,
            "bin_end": 128.8,
            "count": 1
           },
           {
            "bin_start": 128.8,
            "bin_end": 193.20000000000002,
            "count": 0
           },
           {
            "bin_start": 193.20000000000002,
            "bin_end": 257.6,
            "count": 0
           },
           {
            "bin_start": 257.6,
            "bin_end": 322,
            "count": 0
           },
           {
            "bin_start": 322,
            "bin_end": 386.40000000000003,
            "count": 0
           },
           {
            "bin_start": 386.40000000000003,
            "bin_end": 450.80000000000007,
            "count": 0
           },
           {
            "bin_start": 450.80000000000007,
            "bin_end": 515.2,
            "count": 0
           },
           {
            "bin_start": 515.2,
            "bin_end": 579.6,
            "count": 0
           },
           {
            "bin_start": 579.6,
            "bin_end": 644,
            "count": 1
           }
          ]
         }
        },
        {
         "name": "rpis_uci_lista_espera",
         "dtype": "float64",
         "stats": {
          "unique_count": 5,
          "nan_count": 0,
          "min": "0.0",
          "max": "644.0",
          "histogram": [
           {
            "bin_start": 0,
            "bin_end": 64.4,
            "count": 7
           },
           {
            "bin_start": 64.4,
            "bin_end": 128.8,
            "count": 0
           },
           {
            "bin_start": 128.8,
            "bin_end": 193.20000000000002,
            "count": 0
           },
           {
            "bin_start": 193.20000000000002,
            "bin_end": 257.6,
            "count": 0
           },
           {
            "bin_start": 257.6,
            "bin_end": 322,
            "count": 0
           },
           {
            "bin_start": 322,
            "bin_end": 386.40000000000003,
            "count": 0
           },
           {
            "bin_start": 386.40000000000003,
            "bin_end": 450.80000000000007,
            "count": 0
           },
           {
            "bin_start": 450.80000000000007,
            "bin_end": 515.2,
            "count": 0
           },
           {
            "bin_start": 515.2,
            "bin_end": 579.6,
            "count": 0
           },
           {
            "bin_start": 579.6,
            "bin_end": 644,
            "count": 1
           }
          ]
         }
        },
        {
         "name": "rpis_uci_camas_asignadas",
         "dtype": "float64",
         "stats": {
          "unique_count": 5,
          "nan_count": 0,
          "min": "0.0",
          "max": "644.0",
          "histogram": [
           {
            "bin_start": 0,
            "bin_end": 64.4,
            "count": 6
           },
           {
            "bin_start": 64.4,
            "bin_end": 128.8,
            "count": 0
           },
           {
            "bin_start": 128.8,
            "bin_end": 193.20000000000002,
            "count": 0
           },
           {
            "bin_start": 193.20000000000002,
            "bin_end": 257.6,
            "count": 0
           },
           {
            "bin_start": 257.6,
            "bin_end": 322,
            "count": 1
           },
           {
            "bin_start": 322,
            "bin_end": 386.40000000000003,
            "count": 0
           },
           {
            "bin_start": 386.40000000000003,
            "bin_end": 450.80000000000007,
            "count": 0
           },
           {
            "bin_start": 450.80000000000007,
            "bin_end": 515.2,
            "count": 0
           },
           {
            "bin_start": 515.2,
            "bin_end": 579.6,
            "count": 0
           },
           {
            "bin_start": 579.6,
            "bin_end": 644,
            "count": 1
           }
          ]
         }
        },
        {
         "name": "rpis_uci_camas_ocupadas",
         "dtype": "float64",
         "stats": {
          "unique_count": 5,
          "nan_count": 0,
          "min": "0.0",
          "max": "644.0",
          "histogram": [
           {
            "bin_start": 0,
            "bin_end": 64.4,
            "count": 6
           },
           {
            "bin_start": 64.4,
            "bin_end": 128.8,
            "count": 0
           },
           {
            "bin_start": 128.8,
            "bin_end": 193.20000000000002,
            "count": 0
           },
           {
            "bin_start": 193.20000000000002,
            "bin_end": 257.6,
            "count": 1
           },
           {
            "bin_start": 257.6,
            "bin_end": 322,
            "count": 0
           },
           {
            "bin_start": 322,
            "bin_end": 386.40000000000003,
            "count": 0
           },
           {
            "bin_start": 386.40000000000003,
            "bin_end": 450.80000000000007,
            "count": 0
           },
           {
            "bin_start": 450.80000000000007,
            "bin_end": 515.2,
            "count": 0
           },
           {
            "bin_start": 515.2,
            "bin_end": 579.6,
            "count": 0
           },
           {
            "bin_start": 579.6,
            "bin_end": 644,
            "count": 1
           }
          ]
         }
        },
        {
         "name": "rpc_hospitalizacion_camas_porcentaje_ocupadas",
         "dtype": "float64",
         "stats": {
          "unique_count": 5,
          "nan_count": 0,
          "min": "0.0",
          "max": "644.0",
          "histogram": [
           {
            "bin_start": 0,
            "bin_end": 64.4,
            "count": 7
           },
           {
            "bin_start": 64.4,
            "bin_end": 128.8,
            "count": 0
           },
           {
            "bin_start": 128.8,
            "bin_end": 193.20000000000002,
            "count": 0
           },
           {
            "bin_start": 193.20000000000002,
            "bin_end": 257.6,
            "count": 0
           },
           {
            "bin_start": 257.6,
            "bin_end": 322,
            "count": 0
           },
           {
            "bin_start": 322,
            "bin_end": 386.40000000000003,
            "count": 0
           },
           {
            "bin_start": 386.40000000000003,
            "bin_end": 450.80000000000007,
            "count": 0
           },
           {
            "bin_start": 450.80000000000007,
            "bin_end": 515.2,
            "count": 0
           },
           {
            "bin_start": 515.2,
            "bin_end": 579.6,
            "count": 0
           },
           {
            "bin_start": 579.6,
            "bin_end": 644,
            "count": 1
           }
          ]
         }
        },
        {
         "name": "rpc_hospitalizacion_lista_espera",
         "dtype": "float64",
         "stats": {
          "unique_count": 5,
          "nan_count": 0,
          "min": "0.0",
          "max": "644.0",
          "histogram": [
           {
            "bin_start": 0,
            "bin_end": 64.4,
            "count": 7
           },
           {
            "bin_start": 64.4,
            "bin_end": 128.8,
            "count": 0
           },
           {
            "bin_start": 128.8,
            "bin_end": 193.20000000000002,
            "count": 0
           },
           {
            "bin_start": 193.20000000000002,
            "bin_end": 257.6,
            "count": 0
           },
           {
            "bin_start": 257.6,
            "bin_end": 322,
            "count": 0
           },
           {
            "bin_start": 322,
            "bin_end": 386.40000000000003,
            "count": 0
           },
           {
            "bin_start": 386.40000000000003,
            "bin_end": 450.80000000000007,
            "count": 0
           },
           {
            "bin_start": 450.80000000000007,
            "bin_end": 515.2,
            "count": 0
           },
           {
            "bin_start": 515.2,
            "bin_end": 579.6,
            "count": 0
           },
           {
            "bin_start": 579.6,
            "bin_end": 644,
            "count": 1
           }
          ]
         }
        },
        {
         "name": "rpc_hospitalizacion_camas_asignadas",
         "dtype": "float64",
         "stats": {
          "unique_count": 5,
          "nan_count": 0,
          "min": "0.0",
          "max": "644.0",
          "histogram": [
           {
            "bin_start": 0,
            "bin_end": 64.4,
            "count": 4
           },
           {
            "bin_start": 64.4,
            "bin_end": 128.8,
            "count": 1
           },
           {
            "bin_start": 128.8,
            "bin_end": 193.20000000000002,
            "count": 1
           },
           {
            "bin_start": 193.20000000000002,
            "bin_end": 257.6,
            "count": 0
           },
           {
            "bin_start": 257.6,
            "bin_end": 322,
            "count": 0
           },
           {
            "bin_start": 322,
            "bin_end": 386.40000000000003,
            "count": 0
           },
           {
            "bin_start": 386.40000000000003,
            "bin_end": 450.80000000000007,
            "count": 0
           },
           {
            "bin_start": 450.80000000000007,
            "bin_end": 515.2,
            "count": 0
           },
           {
            "bin_start": 515.2,
            "bin_end": 579.6,
            "count": 1
           },
           {
            "bin_start": 579.6,
            "bin_end": 644,
            "count": 1
           }
          ]
         }
        },
        {
         "name": "rpc_hospitalizacion_camas_ocupadas",
         "dtype": "float64",
         "stats": {
          "unique_count": 5,
          "nan_count": 0,
          "min": "0.0",
          "max": "644.0",
          "histogram": [
           {
            "bin_start": 0,
            "bin_end": 64.4,
            "count": 6
           },
           {
            "bin_start": 64.4,
            "bin_end": 128.8,
            "count": 0
           },
           {
            "bin_start": 128.8,
            "bin_end": 193.20000000000002,
            "count": 0
           },
           {
            "bin_start": 193.20000000000002,
            "bin_end": 257.6,
            "count": 1
           },
           {
            "bin_start": 257.6,
            "bin_end": 322,
            "count": 0
           },
           {
            "bin_start": 322,
            "bin_end": 386.40000000000003,
            "count": 0
           },
           {
            "bin_start": 386.40000000000003,
            "bin_end": 450.80000000000007,
            "count": 0
           },
           {
            "bin_start": 450.80000000000007,
            "bin_end": 515.2,
            "count": 0
           },
           {
            "bin_start": 515.2,
            "bin_end": 579.6,
            "count": 0
           },
           {
            "bin_start": 579.6,
            "bin_end": 644,
            "count": 1
           }
          ]
         }
        },
        {
         "name": "rpc_cuidado_intermedio_camas_porcentaje_ocupadas",
         "dtype": "float64",
         "stats": {
          "unique_count": 5,
          "nan_count": 0,
          "min": "0.0",
          "max": "644.0",
          "histogram": [
           {
            "bin_start": 0,
            "bin_end": 64.4,
            "count": 6
           },
           {
            "bin_start": 64.4,
            "bin_end": 128.8,
            "count": 1
           },
           {
            "bin_start": 128.8,
            "bin_end": 193.20000000000002,
            "count": 0
           },
           {
            "bin_start": 193.20000000000002,
            "bin_end": 257.6,
            "count": 0
           },
           {
            "bin_start": 257.6,
            "bin_end": 322,
            "count": 0
           },
           {
            "bin_start": 322,
            "bin_end": 386.40000000000003,
            "count": 0
           },
           {
            "bin_start": 386.40000000000003,
            "bin_end": 450.80000000000007,
            "count": 0
           },
           {
            "bin_start": 450.80000000000007,
            "bin_end": 515.2,
            "count": 0
           },
           {
            "bin_start": 515.2,
            "bin_end": 579.6,
            "count": 0
           },
           {
            "bin_start": 579.6,
            "bin_end": 644,
            "count": 1
           }
          ]
         }
        },
        {
         "name": "rpc_cuidado_intermedio_lista_espera",
         "dtype": "float64",
         "stats": {
          "unique_count": 5,
          "nan_count": 0,
          "min": "0.0",
          "max": "644.0",
          "histogram": [
           {
            "bin_start": 0,
            "bin_end": 64.4,
            "count": 7
           },
           {
            "bin_start": 64.4,
            "bin_end": 128.8,
            "count": 0
           },
           {
            "bin_start": 128.8,
            "bin_end": 193.20000000000002,
            "count": 0
           },
           {
            "bin_start": 193.20000000000002,
            "bin_end": 257.6,
            "count": 0
           },
           {
            "bin_start": 257.6,
            "bin_end": 322,
            "count": 0
           },
           {
            "bin_start": 322,
            "bin_end": 386.40000000000003,
            "count": 0
           },
           {
            "bin_start": 386.40000000000003,
            "bin_end": 450.80000000000007,
            "count": 0
           },
           {
            "bin_start": 450.80000000000007,
            "bin_end": 515.2,
            "count": 0
           },
           {
            "bin_start": 515.2,
            "bin_end": 579.6,
            "count": 0
           },
           {
            "bin_start": 579.6,
            "bin_end": 644,
            "count": 1
           }
          ]
         }
        },
        {
         "name": "rpc_cuidado_intermedio_camas_asignadas",
         "dtype": "float64",
         "stats": {
          "unique_count": 5,
          "nan_count": 0,
          "min": "0.0",
          "max": "644.0",
          "histogram": [
           {
            "bin_start": 0,
            "bin_end": 64.4,
            "count": 7
           },
           {
            "bin_start": 64.4,
            "bin_end": 128.8,
            "count": 0
           },
           {
            "bin_start": 128.8,
            "bin_end": 193.20000000000002,
            "count": 0
           },
           {
            "bin_start": 193.20000000000002,
            "bin_end": 257.6,
            "count": 0
           },
           {
            "bin_start": 257.6,
            "bin_end": 322,
            "count": 0
           },
           {
            "bin_start": 322,
            "bin_end": 386.40000000000003,
            "count": 0
           },
           {
            "bin_start": 386.40000000000003,
            "bin_end": 450.80000000000007,
            "count": 0
           },
           {
            "bin_start": 450.80000000000007,
            "bin_end": 515.2,
            "count": 0
           },
           {
            "bin_start": 515.2,
            "bin_end": 579.6,
            "count": 0
           },
           {
            "bin_start": 579.6,
            "bin_end": 644,
            "count": 1
           }
          ]
         }
        },
        {
         "name": "rpc_cuidado_intermedio_camas_ocupadas",
         "dtype": "float64",
         "stats": {
          "unique_count": 5,
          "nan_count": 0,
          "min": "0.0",
          "max": "644.0",
          "histogram": [
           {
            "bin_start": 0,
            "bin_end": 64.4,
            "count": 7
           },
           {
            "bin_start": 64.4,
            "bin_end": 128.8,
            "count": 0
           },
           {
            "bin_start": 128.8,
            "bin_end": 193.20000000000002,
            "count": 0
           },
           {
            "bin_start": 193.20000000000002,
            "bin_end": 257.6,
            "count": 0
           },
           {
            "bin_start": 257.6,
            "bin_end": 322,
            "count": 0
           },
           {
            "bin_start": 322,
            "bin_end": 386.40000000000003,
            "count": 0
           },
           {
            "bin_start": 386.40000000000003,
            "bin_end": 450.80000000000007,
            "count": 0
           },
           {
            "bin_start": 450.80000000000007,
            "bin_end": 515.2,
            "count": 0
           },
           {
            "bin_start": 515.2,
            "bin_end": 579.6,
            "count": 0
           },
           {
            "bin_start": 579.6,
            "bin_end": 644,
            "count": 1
           }
          ]
         }
        },
        {
         "name": "rpc_uci_camas_porcentaje_ocupadas",
         "dtype": "float64",
         "stats": {
          "unique_count": 5,
          "nan_count": 0,
          "min": "0.0",
          "max": "644.0",
          "histogram": [
           {
            "bin_start": 0,
            "bin_end": 64.4,
            "count": 7
           },
           {
            "bin_start": 64.4,
            "bin_end": 128.8,
            "count": 0
           },
           {
            "bin_start": 128.8,
            "bin_end": 193.20000000000002,
            "count": 0
           },
           {
            "bin_start": 193.20000000000002,
            "bin_end": 257.6,
            "count": 0
           },
           {
            "bin_start": 257.6,
            "bin_end": 322,
            "count": 0
           },
           {
            "bin_start": 322,
            "bin_end": 386.40000000000003,
            "count": 0
           },
           {
            "bin_start": 386.40000000000003,
            "bin_end": 450.80000000000007,
            "count": 0
           },
           {
            "bin_start": 450.80000000000007,
            "bin_end": 515.2,
            "count": 0
           },
           {
            "bin_start": 515.2,
            "bin_end": 579.6,
            "count": 0
           },
           {
            "bin_start": 579.6,
            "bin_end": 644,
            "count": 1
           }
          ]
         }
        },
        {
         "name": "rpc_uci_lista_espera",
         "dtype": "float64",
         "stats": {
          "unique_count": 5,
          "nan_count": 0,
          "min": "0.0",
          "max": "644.0",
          "histogram": [
           {
            "bin_start": 0,
            "bin_end": 64.4,
            "count": 7
           },
           {
            "bin_start": 64.4,
            "bin_end": 128.8,
            "count": 0
           },
           {
            "bin_start": 128.8,
            "bin_end": 193.20000000000002,
            "count": 0
           },
           {
            "bin_start": 193.20000000000002,
            "bin_end": 257.6,
            "count": 0
           },
           {
            "bin_start": 257.6,
            "bin_end": 322,
            "count": 0
           },
           {
            "bin_start": 322,
            "bin_end": 386.40000000000003,
            "count": 0
           },
           {
            "bin_start": 386.40000000000003,
            "bin_end": 450.80000000000007,
            "count": 0
           },
           {
            "bin_start": 450.80000000000007,
            "bin_end": 515.2,
            "count": 0
           },
           {
            "bin_start": 515.2,
            "bin_end": 579.6,
            "count": 0
           },
           {
            "bin_start": 579.6,
            "bin_end": 644,
            "count": 1
           }
          ]
         }
        },
        {
         "name": "rpc_uci_camas_asignadas",
         "dtype": "float64",
         "stats": {
          "unique_count": 5,
          "nan_count": 0,
          "min": "0.0",
          "max": "644.0",
          "histogram": [
           {
            "bin_start": 0,
            "bin_end": 64.4,
            "count": 6
           },
           {
            "bin_start": 64.4,
            "bin_end": 128.8,
            "count": 0
           },
           {
            "bin_start": 128.8,
            "bin_end": 193.20000000000002,
            "count": 0
           },
           {
            "bin_start": 193.20000000000002,
            "bin_end": 257.6,
            "count": 1
           },
           {
            "bin_start": 257.6,
            "bin_end": 322,
            "count": 0
           },
           {
            "bin_start": 322,
            "bin_end": 386.40000000000003,
            "count": 0
           },
           {
            "bin_start": 386.40000000000003,
            "bin_end": 450.80000000000007,
            "count": 0
           },
           {
            "bin_start": 450.80000000000007,
            "bin_end": 515.2,
            "count": 0
           },
           {
            "bin_start": 515.2,
            "bin_end": 579.6,
            "count": 0
           },
           {
            "bin_start": 579.6,
            "bin_end": 644,
            "count": 1
           }
          ]
         }
        },
        {
         "name": "rpc_uci_camas_ocupadas",
         "dtype": "float64",
         "stats": {
          "unique_count": 5,
          "nan_count": 0,
          "min": "0.0",
          "max": "644.0",
          "histogram": [
           {
            "bin_start": 0,
            "bin_end": 64.4,
            "count": 6
           },
           {
            "bin_start": 64.4,
            "bin_end": 128.8,
            "count": 1
           },
           {
            "bin_start": 128.8,
            "bin_end": 193.20000000000002,
            "count": 0
           },
           {
            "bin_start": 193.20000000000002,
            "bin_end": 257.6,
            "count": 0
           },
           {
            "bin_start": 257.6,
            "bin_end": 322,
            "count": 0
           },
           {
            "bin_start": 322,
            "bin_end": 386.40000000000003,
            "count": 0
           },
           {
            "bin_start": 386.40000000000003,
            "bin_end": 450.80000000000007,
            "count": 0
           },
           {
            "bin_start": 450.80000000000007,
            "bin_end": 515.2,
            "count": 0
           },
           {
            "bin_start": 515.2,
            "bin_end": 579.6,
            "count": 0
           },
           {
            "bin_start": 579.6,
            "bin_end": 644,
            "count": 1
           }
          ]
         }
        },
        {
         "name": "_deepnote_index_column",
         "dtype": "object"
        }
       ],
       "rows": [
        {
         "muestras": 644,
         "muestras_pcr": 644,
         "positivas_total": 644,
         "positivas_probables": 644,
         "muestras_pcr_nuevas": 644,
         "pruebas_rezagadas": 644,
         "muertes_confirmadas": 644,
         "muertes_probables": 644,
         "muertes": 644,
         "muertes_nuevas": 644,
         "positivas": 644,
         "positivas_pcr": 644,
         "positivas_pcr_nuevas": 644,
         "positivas_pcr_mujer": 644,
         "positivas_pcr_hombre": 644,
         "positivas_pcr_hombre_edades_meses": 644,
         "positivas_pcr_hombre_edades_0a4": 644,
         "positivas_pcr_hombre_edades_5a9": 644,
         "positivas_pcr_hombre_edades_10a14": 644,
         "positivas_pcr_hombre_edades_15a19": 644,
         "positivas_pcr_hombre_edades_20a49": 644,
         "positivas_pcr_hombre_edades_50a64": 644,
         "positivas_pcr_hombre_edades_65an": 644,
         "positivas_pcr_mujer_edades_meses": 644,
         "positivas_pcr_mujer_edades_0a4": 644,
         "positivas_pcr_mujer_edades_5a9": 644,
         "positivas_pcr_mujer_edades_10a14": 644,
         "positivas_pcr_mujer_edades_15a19": 644,
         "positivas_pcr_mujer_edades_20a49": 644,
         "positivas_pcr_mujer_edades_50a64": 644,
         "positivas_pcr_mujer_edades_65an": 644,
         "positivas_rapidas": 644,
         "negativas": 644,
         "negativas_pcr": 644,
         "negativas_pcr_nuevas": 644,
         "negativas_rapidas": 644,
         "hospitalizadas_altas": 644,
         "hospitalizadas_estables": 644,
         "hospitalizadas_pronostico_reservadas": 644,
         "msp_hospitalizacion_camas_porcentaje_ocupadas": 644,
         "msp_hospitalizacion_lista_espera": 644,
         "msp_hospitalizacion_camas_asignadas": 644,
         "msp_hospitalizacion_camas_ocupadas": 644,
         "msp_cuidado_intermedio_camas_porcentaje_ocupadas": 644,
         "msp_cuidado_intermedio_lista_espera": 644,
         "msp_cuidado_intermedio_camas_asignadas": 644,
         "msp_cuidado_intermedio_camas_ocupadas": 644,
         "msp_uci_camas_porcentaje_ocupadas": 644,
         "msp_uci_lista_espera": 644,
         "msp_uci_camas_asignadas": 644,
         "msp_uci_camas_ocupadas": 644,
         "rpis_hospitalizacion_camas_porcentaje_ocupadas": 644,
         "rpis_hospitalizacion_lista_espera": 644,
         "rpis_hospitalizacion_camas_asignadas": 644,
         "rpis_hospitalizacion_camas_ocupadas": 644,
         "rpis_cuidado_intermedio_camas_porcentaje_ocupadas": 644,
         "rpis_cuidado_intermedio_lista_espera": 644,
         "rpis_cuidado_intermedio_camas_asignadas": 644,
         "rpis_cuidado_intermedio_camas_ocupadas": 644,
         "rpis_uci_camas_porcentaje_ocupadas": 644,
         "rpis_uci_lista_espera": 644,
         "rpis_uci_camas_asignadas": 644,
         "rpis_uci_camas_ocupadas": 644,
         "rpc_hospitalizacion_camas_porcentaje_ocupadas": 644,
         "rpc_hospitalizacion_lista_espera": 644,
         "rpc_hospitalizacion_camas_asignadas": 644,
         "rpc_hospitalizacion_camas_ocupadas": 644,
         "rpc_cuidado_intermedio_camas_porcentaje_ocupadas": 644,
         "rpc_cuidado_intermedio_lista_espera": 644,
         "rpc_cuidado_intermedio_camas_asignadas": 644,
         "rpc_cuidado_intermedio_camas_ocupadas": 644,
         "rpc_uci_camas_porcentaje_ocupadas": 644,
         "rpc_uci_lista_espera": 644,
         "rpc_uci_camas_asignadas": 644,
         "rpc_uci_camas_ocupadas": 644,
         "_deepnote_index_column": "count"
        },
        {
         "muestras": 954743.950310559,
         "muestras_pcr": 935638.1149068323,
         "positivas_total": 138713.5854037267,
         "positivas_probables": 22253.89596273292,
         "muestras_pcr_nuevas": 3244.585403726708,
         "pruebas_rezagadas": 55206.61335403727,
         "muertes_confirmadas": 11808.664596273293,
         "muertes_probables": 5134.093167701863,
         "muertes": 16942.757763975154,
         "muertes_nuevas": 52.150621118012424,
         "positivas": 276968.89285714284,
         "positivas_pcr": 268644.0947204969,
         "positivas_pcr_nuevas": 831.3524844720497,
         "positivas_pcr_mujer": 56895.38975155279,
         "positivas_pcr_hombre": 59562.7950310559,
         "positivas_pcr_hombre_edades_meses": 85.01552795031056,
         "positivas_pcr_hombre_edades_0a4": 362.8447204968944,
         "positivas_pcr_hombre_edades_5a9": 529.388198757764,
         "positivas_pcr_hombre_edades_10a14": 1056.8773291925465,
         "positivas_pcr_hombre_edades_15a19": 2110.1475155279504,
         "positivas_pcr_hombre_edades_20a49": 32373.903726708075,
         "positivas_pcr_hombre_edades_50a64": 10924.33695652174,
         "positivas_pcr_hombre_edades_65an": 6472.380434782609,
         "positivas_pcr_mujer_edades_meses": 97.93788819875776,
         "positivas_pcr_mujer_edades_0a4": 396.87577639751555,
         "positivas_pcr_mujer_edades_5a9": 542.2624223602485,
         "positivas_pcr_mujer_edades_10a14": 1048.222049689441,
         "positivas_pcr_mujer_edades_15a19": 1958.7298136645963,
         "positivas_pcr_mujer_edades_20a49": 33971.82608695652,
         "positivas_pcr_mujer_edades_50a64": 11453.723602484471,
         "positivas_pcr_mujer_edades_65an": 7193.79347826087,
         "positivas_rapidas": 8324.798136645963,
         "negativas": 622568.4440993789,
         "negativas_pcr": 611787.4068322981,
         "negativas_pcr_nuevas": 2233.051242236025,
         "negativas_rapidas": 10781.037267080745,
         "hospitalizadas_altas": 28681.649068322982,
         "hospitalizadas_estables": 674.8913043478261,
         "hospitalizadas_pronostico_reservadas": 389.3167701863354,
         "msp_hospitalizacion_camas_porcentaje_ocupadas": 4.417701863354037,
         "msp_hospitalizacion_lista_espera": 0.20652173913043478,
         "msp_hospitalizacion_camas_asignadas": 224.10714285714286,
         "msp_hospitalizacion_camas_ocupadas": 27.736024844720497,
         "msp_cuidado_intermedio_camas_porcentaje_ocupadas": 5.8229813664596275,
         "msp_cuidado_intermedio_lista_espera": 0.22826086956521738,
         "msp_cuidado_intermedio_camas_asignadas": 20.614906832298136,
         "msp_cuidado_intermedio_camas_ocupadas": 3.4037267080745344,
         "msp_uci_camas_porcentaje_ocupadas": 11.874223602484472,
         "msp_uci_lista_espera": 0.8571428571428571,
         "msp_uci_camas_asignadas": 57.732919254658384,
         "msp_uci_camas_ocupadas": 19.652173913043477,
         "rpis_hospitalizacion_camas_porcentaje_ocupadas": 6.409937888198757,
         "rpis_hospitalizacion_lista_espera": 0.7437888198757764,
         "rpis_hospitalizacion_camas_asignadas": 85.02018633540372,
         "rpis_hospitalizacion_camas_ocupadas": 27.8027950310559,
         "rpis_cuidado_intermedio_camas_porcentaje_ocupadas": 9.579192546583851,
         "rpis_cuidado_intermedio_lista_espera": 0.2950310559006211,
         "rpis_cuidado_intermedio_camas_asignadas": 3.020186335403727,
         "rpis_cuidado_intermedio_camas_ocupadas": 1.5093167701863355,
         "rpis_uci_camas_porcentaje_ocupadas": 12.470496894409937,
         "rpis_uci_lista_espera": 1.045031055900621,
         "rpis_uci_camas_asignadas": 28.481366459627328,
         "rpis_uci_camas_ocupadas": 17.96273291925466,
         "rpc_hospitalizacion_camas_porcentaje_ocupadas": 4.385093167701863,
         "rpc_hospitalizacion_lista_espera": 0.023291925465838508,
         "rpc_hospitalizacion_camas_asignadas": 83.71583850931677,
         "rpc_hospitalizacion_camas_ocupadas": 18.01552795031056,
         "rpc_cuidado_intermedio_camas_porcentaje_ocupadas": 2.3664596273291925,
         "rpc_cuidado_intermedio_lista_espera": 0.020186335403726708,
         "rpc_cuidado_intermedio_camas_asignadas": 2.998447204968944,
         "rpc_cuidado_intermedio_camas_ocupadas": 0.39285714285714285,
         "rpc_uci_camas_porcentaje_ocupadas": 4.642857142857143,
         "rpc_uci_lista_espera": 0.32608695652173914,
         "rpc_uci_camas_asignadas": 29.888198757763973,
         "rpc_uci_camas_ocupadas": 6.942546583850931,
         "_deepnote_index_column": "mean"
        },
        {
         "muestras": 677355.3261719916,
         "muestras_pcr": 675337.8739053932,
         "positivas_total": 255485.77236037824,
         "positivas_probables": 41224.524515855446,
         "muestras_pcr_nuevas": 2601.1822423685885,
         "pruebas_rezagadas": 28310.258204291655,
         "muertes_confirmadas": 7472.9765840488935,
         "muertes_probables": 2766.7156555241545,
         "muertes": 10134.755230721785,
         "muertes_nuevas": 348.16639536909696,
         "positivas": 185505.88514810262,
         "positivas_pcr": 184590.06431462776,
         "positivas_pcr_nuevas": 733.1624897457443,
         "positivas_pcr_mujer": 104749.52127154419,
         "positivas_pcr_hombre": 109650.1721248926,
         "positivas_pcr_hombre_edades_meses": 157.13536796107377,
         "positivas_pcr_hombre_edades_0a4": 668.0786993154939,
         "positivas_pcr_hombre_edades_5a9": 974.1643633215322,
         "positivas_pcr_hombre_edades_10a14": 1944.8424817612226,
         "positivas_pcr_hombre_edades_15a19": 3883.2803077625417,
         "positivas_pcr_hombre_edades_20a49": 59574.28033926176,
         "positivas_pcr_hombre_edades_50a64": 20102.90716439182,
         "positivas_pcr_hombre_edades_65an": 11911.48513916374,
         "positivas_pcr_mujer_edades_meses": 181.01994389115697,
         "positivas_pcr_mujer_edades_0a4": 730.7799302614692,
         "positivas_pcr_mujer_edades_5a9": 997.8650060096785,
         "positivas_pcr_mujer_edades_10a14": 1928.9064457845695,
         "positivas_pcr_mujer_edades_15a19": 3604.5332389781415,
         "positivas_pcr_mujer_edades_20a49": 62515.6146819205,
         "positivas_pcr_mujer_edades_50a64": 21077.326876218656,
         "positivas_pcr_mujer_edades_65an": 13239.115789070338,
         "positivas_rapidas": 2284.021959322034,
         "negativas": 468318.63561235863,
         "negativas_pcr": 467224.5170733401,
         "negativas_pcr_nuevas": 1551.9930382699104,
         "negativas_rapidas": 2963.3602341434344,
         "hospitalizadas_altas": 17261.96189743524,
         "hospitalizadas_estables": 265.8958693949231,
         "hospitalizadas_pronostico_reservadas": 127.79831614484898,
         "msp_hospitalizacion_camas_porcentaje_ocupadas": 9.639105018917457,
         "msp_hospitalizacion_lista_espera": 1.0548949876577585,
         "msp_hospitalizacion_camas_asignadas": 511.212813417356,
         "msp_hospitalizacion_camas_ocupadas": 73.26762469003239,
         "msp_cuidado_intermedio_camas_porcentaje_ocupadas": 12.739513717569832,
         "msp_cuidado_intermedio_lista_espera": 0.5133454634178473,
         "msp_cuidado_intermedio_camas_asignadas": 41.17074594617209,
         "msp_cuidado_intermedio_camas_ocupadas": 7.761915142606714,
         "msp_uci_camas_porcentaje_ocupadas": 22.768385905733687,
         "msp_uci_lista_espera": 4.66795720668561,
         "msp_uci_camas_asignadas": 140.09025119250285,
         "msp_uci_camas_ocupadas": 47.17941809071756,
         "rpis_hospitalizacion_camas_porcentaje_ocupadas": 13.082212610137917,
         "rpis_hospitalizacion_lista_espera": 1.9799638509666107,
         "rpis_hospitalizacion_camas_asignadas": 182.23370711444798,
         "rpis_hospitalizacion_camas_ocupadas": 67.13999620311189,
         "rpis_cuidado_intermedio_camas_porcentaje_ocupadas": 20.38253762644646,
         "rpis_cuidado_intermedio_lista_espera": 1.5181351104737038,
         "rpis_cuidado_intermedio_camas_asignadas": 7.145318707829184,
         "rpis_cuidado_intermedio_camas_ocupadas": 4.06918092938223,
         "rpis_uci_camas_porcentaje_ocupadas": 25.01870029807638,
         "rpis_uci_lista_espera": 4.134912633583683,
         "rpis_uci_camas_asignadas": 62.21865792578894,
         "rpis_uci_camas_ocupadas": 43.015298113987825,
         "rpc_hospitalizacion_camas_porcentaje_ocupadas": 8.942923985804564,
         "rpc_hospitalizacion_lista_espera": 0.24517306268358516,
         "rpc_hospitalizacion_camas_asignadas": 165.064731156974,
         "rpc_hospitalizacion_camas_ocupadas": 38.39217788884846,
         "rpc_cuidado_intermedio_camas_porcentaje_ocupadas": 8.122460414492194,
         "rpc_cuidado_intermedio_lista_espera": 0.5122717640554154,
         "rpc_cuidado_intermedio_camas_asignadas": 6.072526721951103,
         "rpc_cuidado_intermedio_camas_ocupadas": 1.413997533470687,
         "rpc_uci_camas_porcentaje_ocupadas": 10.08454595389405,
         "rpc_uci_lista_espera": 1.6858766261644542,
         "rpc_uci_camas_asignadas": 58.81298549906701,
         "rpc_uci_camas_ocupadas": 16.12127803011972,
         "_deepnote_index_column": "std"
        },
        {
         "muestras": 129,
         "muestras_pcr": 129,
         "positivas_total": 0,
         "positivas_probables": 0,
         "muestras_pcr_nuevas": -10096,
         "pruebas_rezagadas": 106,
         "muertes_confirmadas": 1,
         "muertes_probables": 0,
         "muertes": 1,
         "muertes_nuevas": -45,
         "positivas": 23,
         "positivas_pcr": 23,
         "positivas_pcr_nuevas": -2498,
         "positivas_pcr_mujer": 0,
         "positivas_pcr_hombre": 0,
         "positivas_pcr_hombre_edades_meses": 0,
         "positivas_pcr_hombre_edades_0a4": 0,
         "positivas_pcr_hombre_edades_5a9": 0,
         "positivas_pcr_hombre_edades_10a14": 0,
         "positivas_pcr_hombre_edades_15a19": 0,
         "positivas_pcr_hombre_edades_20a49": 0,
         "positivas_pcr_hombre_edades_50a64": 0,
         "positivas_pcr_hombre_edades_65an": 0,
         "positivas_pcr_mujer_edades_meses": 0,
         "positivas_pcr_mujer_edades_0a4": 0,
         "positivas_pcr_mujer_edades_5a9": 0,
         "positivas_pcr_mujer_edades_10a14": 0,
         "positivas_pcr_mujer_edades_15a19": 0,
         "positivas_pcr_mujer_edades_20a49": 0,
         "positivas_pcr_mujer_edades_50a64": 0,
         "positivas_pcr_mujer_edades_65an": 0,
         "positivas_rapidas": 0,
         "negativas": 0,
         "negativas_pcr": 0,
         "negativas_pcr_nuevas": -2263,
         "negativas_rapidas": 0,
         "hospitalizadas_altas": 0,
         "hospitalizadas_estables": 0,
         "hospitalizadas_pronostico_reservadas": 1,
         "msp_hospitalizacion_camas_porcentaje_ocupadas": 0,
         "msp_hospitalizacion_lista_espera": 0,
         "msp_hospitalizacion_camas_asignadas": 0,
         "msp_hospitalizacion_camas_ocupadas": 0,
         "msp_cuidado_intermedio_camas_porcentaje_ocupadas": 0,
         "msp_cuidado_intermedio_lista_espera": 0,
         "msp_cuidado_intermedio_camas_asignadas": 0,
         "msp_cuidado_intermedio_camas_ocupadas": 0,
         "msp_uci_camas_porcentaje_ocupadas": 0,
         "msp_uci_lista_espera": 0,
         "msp_uci_camas_asignadas": 0,
         "msp_uci_camas_ocupadas": 0,
         "rpis_hospitalizacion_camas_porcentaje_ocupadas": 0,
         "rpis_hospitalizacion_lista_espera": 0,
         "rpis_hospitalizacion_camas_asignadas": 0,
         "rpis_hospitalizacion_camas_ocupadas": 0,
         "rpis_cuidado_intermedio_camas_porcentaje_ocupadas": 0,
         "rpis_cuidado_intermedio_lista_espera": 0,
         "rpis_cuidado_intermedio_camas_asignadas": 0,
         "rpis_cuidado_intermedio_camas_ocupadas": 0,
         "rpis_uci_camas_porcentaje_ocupadas": 0,
         "rpis_uci_lista_espera": 0,
         "rpis_uci_camas_asignadas": 0,
         "rpis_uci_camas_ocupadas": 0,
         "rpc_hospitalizacion_camas_porcentaje_ocupadas": 0,
         "rpc_hospitalizacion_lista_espera": 0,
         "rpc_hospitalizacion_camas_asignadas": 0,
         "rpc_hospitalizacion_camas_ocupadas": 0,
         "rpc_cuidado_intermedio_camas_porcentaje_ocupadas": 0,
         "rpc_cuidado_intermedio_lista_espera": 0,
         "rpc_cuidado_intermedio_camas_asignadas": 0,
         "rpc_cuidado_intermedio_camas_ocupadas": 0,
         "rpc_uci_camas_porcentaje_ocupadas": 0,
         "rpc_uci_lista_espera": 0,
         "rpc_uci_camas_asignadas": 0,
         "rpc_uci_camas_ocupadas": 0,
         "_deepnote_index_column": "min"
        },
        {
         "muestras": 300466,
         "muestras_pcr": 279894,
         "positivas_total": 0,
         "positivas_probables": 0,
         "muestras_pcr_nuevas": 1275.5,
         "pruebas_rezagadas": 40738.75,
         "muertes_confirmadas": 6236,
         "muertes_probables": 3577.75,
         "muertes": 9849.5,
         "muertes_nuevas": 10,
         "positivas": 106237.75,
         "positivas_pcr": 97281.75,
         "positivas_pcr_nuevas": 332,
         "positivas_pcr_mujer": 0,
         "positivas_pcr_hombre": 0,
         "positivas_pcr_hombre_edades_meses": 0,
         "positivas_pcr_hombre_edades_0a4": 0,
         "positivas_pcr_hombre_edades_5a9": 0,
         "positivas_pcr_hombre_edades_10a14": 0,
         "positivas_pcr_hombre_edades_15a19": 0,
         "positivas_pcr_hombre_edades_20a49": 0,
         "positivas_pcr_hombre_edades_50a64": 0,
         "positivas_pcr_hombre_edades_65an": 0,
         "positivas_pcr_mujer_edades_meses": 0,
         "positivas_pcr_mujer_edades_0a4": 0,
         "positivas_pcr_mujer_edades_5a9": 0,
         "positivas_pcr_mujer_edades_10a14": 0,
         "positivas_pcr_mujer_edades_15a19": 0,
         "positivas_pcr_mujer_edades_20a49": 0,
         "positivas_pcr_mujer_edades_50a64": 0,
         "positivas_pcr_mujer_edades_65an": 0,
         "positivas_rapidas": 8956,
         "negativas": 151803,
         "negativas_pcr": 140187,
         "negativas_pcr_nuevas": 956.75,
         "negativas_rapidas": 11616,
         "hospitalizadas_altas": 14096.5,
         "hospitalizadas_estables": 518.75,
         "hospitalizadas_pronostico_reservadas": 348,
         "msp_hospitalizacion_camas_porcentaje_ocupadas": 0,
         "msp_hospitalizacion_lista_espera": 0,
         "msp_hospitalizacion_camas_asignadas": 0,
         "msp_hospitalizacion_camas_ocupadas": 0,
         "msp_cuidado_intermedio_camas_porcentaje_ocupadas": 0,
         "msp_cuidado_intermedio_lista_espera": 0,
         "msp_cuidado_intermedio_camas_asignadas": 0,
         "msp_cuidado_intermedio_camas_ocupadas": 0,
         "msp_uci_camas_porcentaje_ocupadas": 0,
         "msp_uci_lista_espera": 0,
         "msp_uci_camas_asignadas": 0,
         "msp_uci_camas_ocupadas": 0,
         "rpis_hospitalizacion_camas_porcentaje_ocupadas": 0,
         "rpis_hospitalizacion_lista_espera": 0,
         "rpis_hospitalizacion_camas_asignadas": 0,
         "rpis_hospitalizacion_camas_ocupadas": 0,
         "rpis_cuidado_intermedio_camas_porcentaje_ocupadas": 0,
         "rpis_cuidado_intermedio_lista_espera": 0,
         "rpis_cuidado_intermedio_camas_asignadas": 0,
         "rpis_cuidado_intermedio_camas_ocupadas": 0,
         "rpis_uci_camas_porcentaje_ocupadas": 0,
         "rpis_uci_lista_espera": 0,
         "rpis_uci_camas_asignadas": 0,
         "rpis_uci_camas_ocupadas": 0,
         "rpc_hospitalizacion_camas_porcentaje_ocupadas": 0,
         "rpc_hospitalizacion_lista_espera": 0,
         "rpc_hospitalizacion_camas_asignadas": 0,
         "rpc_hospitalizacion_camas_ocupadas": 0,
         "rpc_cuidado_intermedio_camas_porcentaje_ocupadas": 0,
         "rpc_cuidado_intermedio_lista_espera": 0,
         "rpc_cuidado_intermedio_camas_asignadas": 0,
         "rpc_cuidado_intermedio_camas_ocupadas": 0,
         "rpc_uci_camas_porcentaje_ocupadas": 0,
         "rpc_uci_lista_espera": 0,
         "rpc_uci_camas_asignadas": 0,
         "rpc_uci_camas_ocupadas": 0,
         "_deepnote_index_column": "25%"
        },
        {
         "muestras": 889791.5,
         "muestras_pcr": 869219.5,
         "positivas_total": 0,
         "positivas_probables": 0,
         "muestras_pcr_nuevas": 3181,
         "pruebas_rezagadas": 53233,
         "muertes_confirmadas": 10105,
         "muertes_probables": 4659.5,
         "muertes": 14784,
         "muertes_nuevas": 26,
         "positivas": 255299.5,
         "positivas_pcr": 246343.5,
         "positivas_pcr_nuevas": 672,
         "positivas_pcr_mujer": 0,
         "positivas_pcr_hombre": 0,
         "positivas_pcr_hombre_edades_meses": 0,
         "positivas_pcr_hombre_edades_0a4": 0,
         "positivas_pcr_hombre_edades_5a9": 0,
         "positivas_pcr_hombre_edades_10a14": 0,
         "positivas_pcr_hombre_edades_15a19": 0,
         "positivas_pcr_hombre_edades_20a49": 0,
         "positivas_pcr_hombre_edades_50a64": 0,
         "positivas_pcr_hombre_edades_65an": 0,
         "positivas_pcr_mujer_edades_meses": 0,
         "positivas_pcr_mujer_edades_0a4": 0,
         "positivas_pcr_mujer_edades_5a9": 0,
         "positivas_pcr_mujer_edades_10a14": 0,
         "positivas_pcr_mujer_edades_15a19": 0,
         "positivas_pcr_mujer_edades_20a49": 0,
         "positivas_pcr_mujer_edades_50a64": 0,
         "positivas_pcr_mujer_edades_65an": 0,
         "positivas_rapidas": 8956,
         "negativas": 584355,
         "negativas_pcr": 572739,
         "negativas_pcr_nuevas": 2104,
         "negativas_rapidas": 11616,
         "hospitalizadas_altas": 28352.5,
         "hospitalizadas_estables": 650,
         "hospitalizadas_pronostico_reservadas": 427,
         "msp_hospitalizacion_camas_porcentaje_ocupadas": 0,
         "msp_hospitalizacion_lista_espera": 0,
         "msp_hospitalizacion_camas_asignadas": 0,
         "msp_hospitalizacion_camas_ocupadas": 0,
         "msp_cuidado_intermedio_camas_porcentaje_ocupadas": 0,
         "msp_cuidado_intermedio_lista_espera": 0,
         "msp_cuidado_intermedio_camas_asignadas": 0,
         "msp_cuidado_intermedio_camas_ocupadas": 0,
         "msp_uci_camas_porcentaje_ocupadas": 0,
         "msp_uci_lista_espera": 0,
         "msp_uci_camas_asignadas": 0,
         "msp_uci_camas_ocupadas": 0,
         "rpis_hospitalizacion_camas_porcentaje_ocupadas": 0,
         "rpis_hospitalizacion_lista_espera": 0,
         "rpis_hospitalizacion_camas_asignadas": 0,
         "rpis_hospitalizacion_camas_ocupadas": 0,
         "rpis_cuidado_intermedio_camas_porcentaje_ocupadas": 0,
         "rpis_cuidado_intermedio_lista_espera": 0,
         "rpis_cuidado_intermedio_camas_asignadas": 0,
         "rpis_cuidado_intermedio_camas_ocupadas": 0,
         "rpis_uci_camas_porcentaje_ocupadas": 0,
         "rpis_uci_lista_espera": 0,
         "rpis_uci_camas_asignadas": 0,
         "rpis_uci_camas_ocupadas": 0,
         "rpc_hospitalizacion_camas_porcentaje_ocupadas": 0,
         "rpc_hospitalizacion_lista_espera": 0,
         "rpc_hospitalizacion_camas_asignadas": 0,
         "rpc_hospitalizacion_camas_ocupadas": 0,
         "rpc_cuidado_intermedio_camas_porcentaje_ocupadas": 0,
         "rpc_cuidado_intermedio_lista_espera": 0,
         "rpc_cuidado_intermedio_camas_asignadas": 0,
         "rpc_cuidado_intermedio_camas_ocupadas": 0,
         "rpc_uci_camas_porcentaje_ocupadas": 0,
         "rpc_uci_lista_espera": 0,
         "rpc_uci_camas_asignadas": 0,
         "rpc_uci_camas_ocupadas": 0,
         "_deepnote_index_column": "50%"
        },
        {
         "muestras": 1596364.75,
         "muestras_pcr": 1575792.75,
         "positivas_total": 0,
         "positivas_probables": 0,
         "muestras_pcr_nuevas": 4429.5,
         "pruebas_rezagadas": 68316.75,
         "muertes_confirmadas": 16079,
         "muertes_probables": 5686.5,
         "muertes": 21776.75,
         "muertes_nuevas": 50,
         "positivas": 475132.75,
         "positivas_pcr": 466176.75,
         "positivas_pcr_nuevas": 1135.5,
         "positivas_pcr_mujer": 0,
         "positivas_pcr_hombre": 0,
         "positivas_pcr_hombre_edades_meses": 0,
         "positivas_pcr_hombre_edades_0a4": 0,
         "positivas_pcr_hombre_edades_5a9": 0,
         "positivas_pcr_hombre_edades_10a14": 0,
         "positivas_pcr_hombre_edades_15a19": 0,
         "positivas_pcr_hombre_edades_20a49": 0,
         "positivas_pcr_hombre_edades_50a64": 0,
         "positivas_pcr_hombre_edades_65an": 0,
         "positivas_pcr_mujer_edades_meses": 0,
         "positivas_pcr_mujer_edades_0a4": 0,
         "positivas_pcr_mujer_edades_5a9": 0,
         "positivas_pcr_mujer_edades_10a14": 0,
         "positivas_pcr_mujer_edades_15a19": 0,
         "positivas_pcr_mujer_edades_20a49": 0,
         "positivas_pcr_mujer_edades_50a64": 0,
         "positivas_pcr_mujer_edades_65an": 0,
         "positivas_rapidas": 8956,
         "negativas": 1066920.5,
         "negativas_pcr": 1055304.5,
         "negativas_pcr_nuevas": 3268.5,
         "negativas_rapidas": 11616,
         "hospitalizadas_altas": 48969,
         "hospitalizadas_estables": 806.5,
         "hospitalizadas_pronostico_reservadas": 444.5,
         "msp_hospitalizacion_camas_porcentaje_ocupadas": 0,
         "msp_hospitalizacion_lista_espera": 0,
         "msp_hospitalizacion_camas_asignadas": 0,
         "msp_hospitalizacion_camas_ocupadas": 0,
         "msp_cuidado_intermedio_camas_porcentaje_ocupadas": 0,
         "msp_cuidado_intermedio_lista_espera": 0,
         "msp_cuidado_intermedio_camas_asignadas": 0,
         "msp_cuidado_intermedio_camas_ocupadas": 0,
         "msp_uci_camas_porcentaje_ocupadas": 0,
         "msp_uci_lista_espera": 0,
         "msp_uci_camas_asignadas": 0,
         "msp_uci_camas_ocupadas": 0,
         "rpis_hospitalizacion_camas_porcentaje_ocupadas": 0,
         "rpis_hospitalizacion_lista_espera": 0,
         "rpis_hospitalizacion_camas_asignadas": 0,
         "rpis_hospitalizacion_camas_ocupadas": 0,
         "rpis_cuidado_intermedio_camas_porcentaje_ocupadas": 0,
         "rpis_cuidado_intermedio_lista_espera": 0,
         "rpis_cuidado_intermedio_camas_asignadas": 0,
         "rpis_cuidado_intermedio_camas_ocupadas": 0,
         "rpis_uci_camas_porcentaje_ocupadas": 0,
         "rpis_uci_lista_espera": 0,
         "rpis_uci_camas_asignadas": 0,
         "rpis_uci_camas_ocupadas": 0,
         "rpc_hospitalizacion_camas_porcentaje_ocupadas": 0,
         "rpc_hospitalizacion_lista_espera": 0,
         "rpc_hospitalizacion_camas_asignadas": 0,
         "rpc_hospitalizacion_camas_ocupadas": 0,
         "rpc_cuidado_intermedio_camas_porcentaje_ocupadas": 0,
         "rpc_cuidado_intermedio_lista_espera": 0,
         "rpc_cuidado_intermedio_camas_asignadas": 0,
         "rpc_cuidado_intermedio_camas_ocupadas": 0,
         "rpc_uci_camas_porcentaje_ocupadas": 0,
         "rpc_uci_lista_espera": 0,
         "rpc_uci_camas_asignadas": 0,
         "rpc_uci_camas_ocupadas": 0,
         "_deepnote_index_column": "75%"
        },
        {
         "muestras": 2110214,
         "muestras_pcr": 2089642,
         "positivas_total": 651557,
         "positivas_probables": 116143,
         "muestras_pcr_nuevas": 37781,
         "pruebas_rezagadas": 116143,
         "muertes_confirmadas": 30321,
         "muertes_probables": 9806,
         "muertes": 33586,
         "muertes_nuevas": 8786,
         "positivas": 544370,
         "positivas_pcr": 535414,
         "positivas_pcr_nuevas": 5913,
         "positivas_pcr_mujer": 262354,
         "positivas_pcr_hombre": 273060,
         "positivas_pcr_hombre_edades_meses": 375,
         "positivas_pcr_hombre_edades_0a4": 1745,
         "positivas_pcr_hombre_edades_5a9": 2371,
         "positivas_pcr_hombre_edades_10a14": 4632,
         "positivas_pcr_hombre_edades_15a19": 9256,
         "positivas_pcr_hombre_edades_20a49": 148676,
         "positivas_pcr_hombre_edades_50a64": 50146,
         "positivas_pcr_hombre_edades_65an": 31532,
         "positivas_pcr_mujer_edades_meses": 432,
         "positivas_pcr_mujer_edades_0a4": 1747,
         "positivas_pcr_mujer_edades_5a9": 2377,
         "positivas_pcr_mujer_edades_10a14": 4623,
         "positivas_pcr_mujer_edades_15a19": 9235,
         "positivas_pcr_mujer_edades_20a49": 148954,
         "positivas_pcr_mujer_edades_50a64": 50219,
         "positivas_pcr_mujer_edades_65an": 31563,
         "positivas_rapidas": 8956,
         "negativas": 1449701,
         "negativas_pcr": 1438085,
         "negativas_pcr_nuevas": 9089,
         "negativas_rapidas": 11616,
         "hospitalizadas_altas": 48969,
         "hospitalizadas_estables": 1487,
         "hospitalizadas_pronostico_reservadas": 650,
         "msp_hospitalizacion_camas_porcentaje_ocupadas": 46,
         "msp_hospitalizacion_lista_espera": 12,
         "msp_hospitalizacion_camas_asignadas": 2643,
         "msp_hospitalizacion_camas_ocupadas": 486,
         "msp_cuidado_intermedio_camas_porcentaje_ocupadas": 65,
         "msp_cuidado_intermedio_lista_espera": 4,
         "msp_cuidado_intermedio_camas_asignadas": 175,
         "msp_cuidado_intermedio_camas_ocupadas": 40,
         "msp_uci_camas_porcentaje_ocupadas": 80,
         "msp_uci_lista_espera": 66,
         "msp_uci_camas_asignadas": 772,
         "msp_uci_camas_ocupadas": 252,
         "rpis_hospitalizacion_camas_porcentaje_ocupadas": 50,
         "rpis_hospitalizacion_lista_espera": 13,
         "rpis_hospitalizacion_camas_asignadas": 819,
         "rpis_hospitalizacion_camas_ocupadas": 385,
         "rpis_cuidado_intermedio_camas_porcentaje_ocupadas": 100,
         "rpis_cuidado_intermedio_lista_espera": 19,
         "rpis_cuidado_intermedio_camas_asignadas": 32,
         "rpis_cuidado_intermedio_camas_ocupadas": 21,
         "rpis_uci_camas_porcentaje_ocupadas": 84,
         "rpis_uci_lista_espera": 46,
         "rpis_uci_camas_asignadas": 268,
         "rpis_uci_camas_ocupadas": 224,
         "rpc_hospitalizacion_camas_porcentaje_ocupadas": 46,
         "rpc_hospitalizacion_lista_espera": 4,
         "rpc_hospitalizacion_camas_asignadas": 554,
         "rpc_hospitalizacion_camas_ocupadas": 255,
         "rpc_cuidado_intermedio_camas_porcentaje_ocupadas": 65,
         "rpc_cuidado_intermedio_lista_espera": 13,
         "rpc_cuidado_intermedio_camas_asignadas": 24,
         "rpc_cuidado_intermedio_camas_ocupadas": 13,
         "rpc_uci_camas_porcentaje_ocupadas": 55,
         "rpc_uci_lista_espera": 37,
         "rpc_uci_camas_asignadas": 196,
         "rpc_uci_camas_ocupadas": 104,
         "_deepnote_index_column": "max"
        }
       ]
      },
      "text/plain": "           muestras  muestras_pcr  positivas_total  positivas_probables  \\\ncount  6.440000e+02  6.440000e+02       644.000000           644.000000   \nmean   9.547440e+05  9.356381e+05    138713.585404         22253.895963   \nstd    6.773553e+05  6.753379e+05    255485.772360         41224.524516   \nmin    1.290000e+02  1.290000e+02         0.000000             0.000000   \n25%    3.004660e+05  2.798940e+05         0.000000             0.000000   \n50%    8.897915e+05  8.692195e+05         0.000000             0.000000   \n75%    1.596365e+06  1.575793e+06         0.000000             0.000000   \nmax    2.110214e+06  2.089642e+06    651557.000000        116143.000000   \n\n       muestras_pcr_nuevas  pruebas_rezagadas  muertes_confirmadas  \\\ncount           644.000000         644.000000           644.000000   \nmean           3244.585404       55206.613354         11808.664596   \nstd            2601.182242       28310.258204          7472.976584   \nmin          -10096.000000         106.000000             1.000000   \n25%            1275.500000       40738.750000          6236.000000   \n50%            3181.000000       53233.000000         10105.000000   \n75%            4429.500000       68316.750000         16079.000000   \nmax           37781.000000      116143.000000         30321.000000   \n\n       muertes_probables       muertes  muertes_nuevas  ...  \\\ncount         644.000000    644.000000      644.000000  ...   \nmean         5134.093168  16942.757764       52.150621  ...   \nstd          2766.715656  10134.755231      348.166395  ...   \nmin             0.000000      1.000000      -45.000000  ...   \n25%          3577.750000   9849.500000       10.000000  ...   \n50%          4659.500000  14784.000000       26.000000  ...   \n75%          5686.500000  21776.750000       50.000000  ...   \nmax          9806.000000  33586.000000     8786.000000  ...   \n\n       rpc_hospitalizacion_camas_asignadas  \\\ncount                           644.000000   \nmean                             83.715839   \nstd                             165.064731   \nmin                               0.000000   \n25%                               0.000000   \n50%                               0.000000   \n75%                               0.000000   \nmax                             554.000000   \n\n       rpc_hospitalizacion_camas_ocupadas  \\\ncount                          644.000000   \nmean                            18.015528   \nstd                             38.392178   \nmin                              0.000000   \n25%                              0.000000   \n50%                              0.000000   \n75%                              0.000000   \nmax                            255.000000   \n\n       rpc_cuidado_intermedio_camas_porcentaje_ocupadas  \\\ncount                                         644.00000   \nmean                                            2.36646   \nstd                                             8.12246   \nmin                                             0.00000   \n25%                                             0.00000   \n50%                                             0.00000   \n75%                                             0.00000   \nmax                                            65.00000   \n\n       rpc_cuidado_intermedio_lista_espera  \\\ncount                           644.000000   \nmean                              0.020186   \nstd                               0.512272   \nmin                               0.000000   \n25%                               0.000000   \n50%                               0.000000   \n75%                               0.000000   \nmax                              13.000000   \n\n       rpc_cuidado_intermedio_camas_asignadas  \\\ncount                              644.000000   \nmean                                 2.998447   \nstd                                  6.072527   \nmin                                  0.000000   \n25%                                  0.000000   \n50%                                  0.000000   \n75%                                  0.000000   \nmax                                 24.000000   \n\n       rpc_cuidado_intermedio_camas_ocupadas  \\\ncount                             644.000000   \nmean                                0.392857   \nstd                                 1.413998   \nmin                                 0.000000   \n25%                                 0.000000   \n50%                                 0.000000   \n75%                                 0.000000   \nmax                                13.000000   \n\n       rpc_uci_camas_porcentaje_ocupadas  rpc_uci_lista_espera  \\\ncount                         644.000000            644.000000   \nmean                            4.642857              0.326087   \nstd                            10.084546              1.685877   \nmin                             0.000000              0.000000   \n25%                             0.000000              0.000000   \n50%                             0.000000              0.000000   \n75%                             0.000000              0.000000   \nmax                            55.000000             37.000000   \n\n       rpc_uci_camas_asignadas  rpc_uci_camas_ocupadas  \ncount               644.000000              644.000000  \nmean                 29.888199                6.942547  \nstd                  58.812985               16.121278  \nmin                   0.000000                0.000000  \n25%                   0.000000                0.000000  \n50%                   0.000000                0.000000  \n75%                   0.000000                0.000000  \nmax                 196.000000              104.000000  \n\n[8 rows x 75 columns]",
      "text/html": "<div>\n<style scoped>\n    .dataframe tbody tr th:only-of-type {\n        vertical-align: middle;\n    }\n\n    .dataframe tbody tr th {\n        vertical-align: top;\n    }\n\n    .dataframe thead th {\n        text-align: right;\n    }\n</style>\n<table border=\"1\" class=\"dataframe\">\n  <thead>\n    <tr style=\"text-align: right;\">\n      <th></th>\n      <th>muestras</th>\n      <th>muestras_pcr</th>\n      <th>positivas_total</th>\n      <th>positivas_probables</th>\n      <th>muestras_pcr_nuevas</th>\n      <th>pruebas_rezagadas</th>\n      <th>muertes_confirmadas</th>\n      <th>muertes_probables</th>\n      <th>muertes</th>\n      <th>muertes_nuevas</th>\n      <th>...</th>\n      <th>rpc_hospitalizacion_camas_asignadas</th>\n      <th>rpc_hospitalizacion_camas_ocupadas</th>\n      <th>rpc_cuidado_intermedio_camas_porcentaje_ocupadas</th>\n      <th>rpc_cuidado_intermedio_lista_espera</th>\n      <th>rpc_cuidado_intermedio_camas_asignadas</th>\n      <th>rpc_cuidado_intermedio_camas_ocupadas</th>\n      <th>rpc_uci_camas_porcentaje_ocupadas</th>\n      <th>rpc_uci_lista_espera</th>\n      <th>rpc_uci_camas_asignadas</th>\n      <th>rpc_uci_camas_ocupadas</th>\n    </tr>\n  </thead>\n  <tbody>\n    <tr>\n      <th>count</th>\n      <td>6.440000e+02</td>\n      <td>6.440000e+02</td>\n      <td>644.000000</td>\n      <td>644.000000</td>\n      <td>644.000000</td>\n      <td>644.000000</td>\n      <td>644.000000</td>\n      <td>644.000000</td>\n      <td>644.000000</td>\n      <td>644.000000</td>\n      <td>...</td>\n      <td>644.000000</td>\n      <td>644.000000</td>\n      <td>644.00000</td>\n      <td>644.000000</td>\n      <td>644.000000</td>\n      <td>644.000000</td>\n      <td>644.000000</td>\n      <td>644.000000</td>\n      <td>644.000000</td>\n      <td>644.000000</td>\n    </tr>\n    <tr>\n      <th>mean</th>\n      <td>9.547440e+05</td>\n      <td>9.356381e+05</td>\n      <td>138713.585404</td>\n      <td>22253.895963</td>\n      <td>3244.585404</td>\n      <td>55206.613354</td>\n      <td>11808.664596</td>\n      <td>5134.093168</td>\n      <td>16942.757764</td>\n      <td>52.150621</td>\n      <td>...</td>\n      <td>83.715839</td>\n      <td>18.015528</td>\n      <td>2.36646</td>\n      <td>0.020186</td>\n      <td>2.998447</td>\n      <td>0.392857</td>\n      <td>4.642857</td>\n      <td>0.326087</td>\n      <td>29.888199</td>\n      <td>6.942547</td>\n    </tr>\n    <tr>\n      <th>std</th>\n      <td>6.773553e+05</td>\n      <td>6.753379e+05</td>\n      <td>255485.772360</td>\n      <td>41224.524516</td>\n      <td>2601.182242</td>\n      <td>28310.258204</td>\n      <td>7472.976584</td>\n      <td>2766.715656</td>\n      <td>10134.755231</td>\n      <td>348.166395</td>\n      <td>...</td>\n      <td>165.064731</td>\n      <td>38.392178</td>\n      <td>8.12246</td>\n      <td>0.512272</td>\n      <td>6.072527</td>\n      <td>1.413998</td>\n      <td>10.084546</td>\n      <td>1.685877</td>\n      <td>58.812985</td>\n      <td>16.121278</td>\n    </tr>\n    <tr>\n      <th>min</th>\n      <td>1.290000e+02</td>\n      <td>1.290000e+02</td>\n      <td>0.000000</td>\n      <td>0.000000</td>\n      <td>-10096.000000</td>\n      <td>106.000000</td>\n      <td>1.000000</td>\n      <td>0.000000</td>\n      <td>1.000000</td>\n      <td>-45.000000</td>\n      <td>...</td>\n      <td>0.000000</td>\n      <td>0.000000</td>\n      <td>0.00000</td>\n      <td>0.000000</td>\n      <td>0.000000</td>\n      <td>0.000000</td>\n      <td>0.000000</td>\n      <td>0.000000</td>\n      <td>0.000000</td>\n      <td>0.000000</td>\n    </tr>\n    <tr>\n      <th>25%</th>\n      <td>3.004660e+05</td>\n      <td>2.798940e+05</td>\n      <td>0.000000</td>\n      <td>0.000000</td>\n      <td>1275.500000</td>\n      <td>40738.750000</td>\n      <td>6236.000000</td>\n      <td>3577.750000</td>\n      <td>9849.500000</td>\n      <td>10.000000</td>\n      <td>...</td>\n      <td>0.000000</td>\n      <td>0.000000</td>\n      <td>0.00000</td>\n      <td>0.000000</td>\n      <td>0.000000</td>\n      <td>0.000000</td>\n      <td>0.000000</td>\n      <td>0.000000</td>\n      <td>0.000000</td>\n      <td>0.000000</td>\n    </tr>\n    <tr>\n      <th>50%</th>\n      <td>8.897915e+05</td>\n      <td>8.692195e+05</td>\n      <td>0.000000</td>\n      <td>0.000000</td>\n      <td>3181.000000</td>\n      <td>53233.000000</td>\n      <td>10105.000000</td>\n      <td>4659.500000</td>\n      <td>14784.000000</td>\n      <td>26.000000</td>\n      <td>...</td>\n      <td>0.000000</td>\n      <td>0.000000</td>\n      <td>0.00000</td>\n      <td>0.000000</td>\n      <td>0.000000</td>\n      <td>0.000000</td>\n      <td>0.000000</td>\n      <td>0.000000</td>\n      <td>0.000000</td>\n      <td>0.000000</td>\n    </tr>\n    <tr>\n      <th>75%</th>\n      <td>1.596365e+06</td>\n      <td>1.575793e+06</td>\n      <td>0.000000</td>\n      <td>0.000000</td>\n      <td>4429.500000</td>\n      <td>68316.750000</td>\n      <td>16079.000000</td>\n      <td>5686.500000</td>\n      <td>21776.750000</td>\n      <td>50.000000</td>\n      <td>...</td>\n      <td>0.000000</td>\n      <td>0.000000</td>\n      <td>0.00000</td>\n      <td>0.000000</td>\n      <td>0.000000</td>\n      <td>0.000000</td>\n      <td>0.000000</td>\n      <td>0.000000</td>\n      <td>0.000000</td>\n      <td>0.000000</td>\n    </tr>\n    <tr>\n      <th>max</th>\n      <td>2.110214e+06</td>\n      <td>2.089642e+06</td>\n      <td>651557.000000</td>\n      <td>116143.000000</td>\n      <td>37781.000000</td>\n      <td>116143.000000</td>\n      <td>30321.000000</td>\n      <td>9806.000000</td>\n      <td>33586.000000</td>\n      <td>8786.000000</td>\n      <td>...</td>\n      <td>554.000000</td>\n      <td>255.000000</td>\n      <td>65.00000</td>\n      <td>13.000000</td>\n      <td>24.000000</td>\n      <td>13.000000</td>\n      <td>55.000000</td>\n      <td>37.000000</td>\n      <td>196.000000</td>\n      <td>104.000000</td>\n    </tr>\n  </tbody>\n</table>\n<p>8 rows × 75 columns</p>\n</div>"
     },
     "metadata": {}
    }
   ],
   "execution_count": null
  },
  {
   "cell_type": "code",
   "metadata": {
    "tags": [],
    "cell_id": "00011-f8098f64-3372-4560-ae22-d5a9aaa2ef20",
    "deepnote_to_be_reexecuted": false,
    "source_hash": "f2f79983",
    "execution_start": 1639869180421,
    "execution_millis": 808217559,
    "deepnote_output_heights": [
     21.1875
    ],
    "deepnote_cell_type": "code"
   },
   "source": "sns.set_theme()",
   "outputs": [],
   "execution_count": null
  },
  {
   "cell_type": "code",
   "metadata": {
    "tags": [],
    "cell_id": "00010-bffb7a3a-4033-4e0c-a64a-522d6ab845e2",
    "deepnote_to_be_reexecuted": false,
    "source_hash": "5bec574c",
    "execution_start": 1639869180444,
    "execution_millis": 1060,
    "deepnote_output_heights": [
     452.984375
    ],
    "deepnote_cell_type": "code"
   },
   "source": "fig, ax = plt.subplots(figsize=(12, 7))\nplt.plot(df_ecuacovid.created_at, df_ecuacovid.muestras)\nplt.plot(df_ecuacovid.created_at, df_ecuacovid.muestras_pcr)\nplt.title('Tests', size=18)\nplt.xlabel('Date')\nplt.ylabel('Tests')\nplt.legend(['Total tests', 'PCR tests'])\nplt.show()",
   "outputs": [
    {
     "data": {
      "text/plain": "<Figure size 864x504 with 1 Axes>",
      "image/png": "[encoded data removed]"
     },
     "metadata": {
      "image/png": {
       "width": 735,
       "height": 451
      }
     },
     "output_type": "display_data"
    }
   ],
   "execution_count": null
  },
  {
   "cell_type": "markdown",
   "source": "The difference between total tests and PCR tests is insignificant. So, I'll focus on PCR tests only. ",
   "metadata": {
    "tags": [],
    "cell_id": "00013-3928e6a1-e61a-424d-979d-c0917475028a",
    "deepnote_cell_type": "markdown"
   }
  },
  {
   "cell_type": "code",
   "metadata": {
    "tags": [],
    "cell_id": "00014-4bb7784a-a3ed-46e0-a655-e8699508d6a4",
    "deepnote_to_be_reexecuted": false,
    "source_hash": "71a2baa",
    "execution_start": 1639869181516,
    "execution_millis": 25,
    "deepnote_cell_type": "code"
   },
   "source": "def fix_values(val):\n    if val < 0:\n        return val * -1\n    return val",
   "outputs": [],
   "execution_count": null
  },
  {
   "cell_type": "code",
   "metadata": {
    "tags": [],
    "cell_id": "00015-39ceecfd-3470-4422-b512-42cf0f3e49b3",
    "deepnote_to_be_reexecuted": false,
    "source_hash": "1e8fec79",
    "execution_start": 1639869181562,
    "execution_millis": 28,
    "deepnote_output_heights": [
     232.3125
    ],
    "deepnote_cell_type": "code"
   },
   "source": "df_ecuacovid.muestras_pcr_nuevas = df_ecuacovid.muestras_pcr_nuevas.apply(fix_values)",
   "outputs": [],
   "execution_count": null
  },
  {
   "cell_type": "code",
   "metadata": {
    "tags": [],
    "cell_id": "00016-8d79bf24-17fb-45c6-9858-97d1ac6c2972",
    "deepnote_to_be_reexecuted": false,
    "source_hash": "37d15291",
    "execution_start": 1639869181610,
    "execution_millis": 1148,
    "deepnote_output_heights": [
     452.984375
    ],
    "deepnote_cell_type": "code"
   },
   "source": "fig, ax = plt.subplots(figsize=(12, 7))\nplt.plot(df_ecuacovid.created_at, df_ecuacovid.muestras_pcr_nuevas)\nplt.title('Tests PCR', size=18)\nplt.xlabel('Date')\nplt.ylabel('Tests')\nplt.show()",
   "outputs": [
    {
     "data": {
      "text/plain": "<Figure size 864x504 with 1 Axes>",
      "image/png": "[encoded data removed]"
     },
     "metadata": {
      "image/png": {
       "width": 753,
       "height": 451
      }
     },
     "output_type": "display_data"
    }
   ],
   "execution_count": null
  },
  {
   "cell_type": "code",
   "metadata": {
    "tags": [],
    "cell_id": "00017-af93b94a-3f40-4b44-bd88-0c862100e880",
    "deepnote_to_be_reexecuted": false,
    "source_hash": "b09808e3",
    "execution_start": 1639869182769,
    "execution_millis": 33,
    "deepnote_output_heights": [
     611
    ],
    "deepnote_cell_type": "code"
   },
   "source": "df_ecuacovid.columns",
   "outputs": [
    {
     "output_type": "execute_result",
     "execution_count": 16,
     "data": {
      "text/plain": "Index(['created_at', 'muestras', 'muestras_pcr', 'positivas_total',\n       'positivas_probables', 'muestras_pcr_nuevas', 'pruebas_rezagadas',\n       'muertes_confirmadas', 'muertes_probables', 'muertes', 'muertes_nuevas',\n       'positivas', 'positivas_pcr', 'positivas_pcr_nuevas',\n       'positivas_pcr_mujer', 'positivas_pcr_hombre',\n       'positivas_pcr_hombre_edades_meses', 'positivas_pcr_hombre_edades_0a4',\n       'positivas_pcr_hombre_edades_5a9', 'positivas_pcr_hombre_edades_10a14',\n       'positivas_pcr_hombre_edades_15a19',\n       'positivas_pcr_hombre_edades_20a49',\n       'positivas_pcr_hombre_edades_50a64', 'positivas_pcr_hombre_edades_65an',\n       'positivas_pcr_mujer_edades_meses', 'positivas_pcr_mujer_edades_0a4',\n       'positivas_pcr_mujer_edades_5a9', 'positivas_pcr_mujer_edades_10a14',\n       'positivas_pcr_mujer_edades_15a19', 'positivas_pcr_mujer_edades_20a49',\n       'positivas_pcr_mujer_edades_50a64', 'positivas_pcr_mujer_edades_65an',\n       'positivas_rapidas', 'negativas', 'negativas_pcr',\n       'negativas_pcr_nuevas', 'negativas_rapidas', 'hospitalizadas_altas',\n       'hospitalizadas_estables', 'hospitalizadas_pronostico_reservadas',\n       'msp_hospitalizacion_camas_porcentaje_ocupadas',\n       'msp_hospitalizacion_lista_espera',\n       'msp_hospitalizacion_camas_asignadas',\n       'msp_hospitalizacion_camas_ocupadas',\n       'msp_cuidado_intermedio_camas_porcentaje_ocupadas',\n       'msp_cuidado_intermedio_lista_espera',\n       'msp_cuidado_intermedio_camas_asignadas',\n       'msp_cuidado_intermedio_camas_ocupadas',\n       'msp_uci_camas_porcentaje_ocupadas', 'msp_uci_lista_espera',\n       'msp_uci_camas_asignadas', 'msp_uci_camas_ocupadas',\n       'rpis_hospitalizacion_camas_porcentaje_ocupadas',\n       'rpis_hospitalizacion_lista_espera',\n       'rpis_hospitalizacion_camas_asignadas',\n       'rpis_hospitalizacion_camas_ocupadas',\n       'rpis_cuidado_intermedio_camas_porcentaje_ocupadas',\n       'rpis_cuidado_intermedio_lista_espera',\n       'rpis_cuidado_intermedio_camas_asignadas',\n       'rpis_cuidado_intermedio_camas_ocupadas',\n       'rpis_uci_camas_porcentaje_ocupadas', 'rpis_uci_lista_espera',\n       'rpis_uci_camas_asignadas', 'rpis_uci_camas_ocupadas',\n       'rpc_hospitalizacion_camas_porcentaje_ocupadas',\n       'rpc_hospitalizacion_lista_espera',\n       'rpc_hospitalizacion_camas_asignadas',\n       'rpc_hospitalizacion_camas_ocupadas',\n       'rpc_cuidado_intermedio_camas_porcentaje_ocupadas',\n       'rpc_cuidado_intermedio_lista_espera',\n       'rpc_cuidado_intermedio_camas_asignadas',\n       'rpc_cuidado_intermedio_camas_ocupadas',\n       'rpc_uci_camas_porcentaje_ocupadas', 'rpc_uci_lista_espera',\n       'rpc_uci_camas_asignadas', 'rpc_uci_camas_ocupadas'],\n      dtype='object')"
     },
     "metadata": {}
    }
   ],
   "execution_count": null
  },
  {
   "cell_type": "code",
   "metadata": {
    "tags": [],
    "cell_id": "00018-71e1472c-6a26-4d10-9f44-ea070ebf3428",
    "deepnote_to_be_reexecuted": false,
    "source_hash": "bba45808",
    "execution_start": 1639869182823,
    "execution_millis": 132,
    "deepnote_cell_type": "code"
   },
   "source": "df_ecuacovid[['msp_hospitalizacion_lista_espera', 'msp_hospitalizacion_camas_asignadas', 'msp_hospitalizacion_camas_ocupadas']].describe()",
   "outputs": [
    {
     "output_type": "execute_result",
     "execution_count": 17,
     "data": {
      "application/vnd.deepnote.dataframe.v3+json": {
       "column_count": 3,
       "row_count": 8,
       "columns": [
        {
         "name": "msp_hospitalizacion_lista_espera",
         "dtype": "float64",
         "stats": {
          "unique_count": 5,
          "nan_count": 0,
          "min": "0.0",
          "max": "644.0",
          "histogram": [
           {
            "bin_start": 0,
            "bin_end": 64.4,
            "count": 7
           },
           {
            "bin_start": 64.4,
            "bin_end": 128.8,
            "count": 0
           },
           {
            "bin_start": 128.8,
            "bin_end": 193.20000000000002,
            "count": 0
           },
           {
            "bin_start": 193.20000000000002,
            "bin_end": 257.6,
            "count": 0
           },
           {
            "bin_start": 257.6,
            "bin_end": 322,
            "count": 0
           },
           {
            "bin_start": 322,
            "bin_end": 386.40000000000003,
            "count": 0
           },
           {
            "bin_start": 386.40000000000003,
            "bin_end": 450.80000000000007,
            "count": 0
           },
           {
            "bin_start": 450.80000000000007,
            "bin_end": 515.2,
            "count": 0
           },
           {
            "bin_start": 515.2,
            "bin_end": 579.6,
            "count": 0
           },
           {
            "bin_start": 579.6,
            "bin_end": 644,
            "count": 1
           }
          ]
         }
        },
        {
         "name": "msp_hospitalizacion_camas_asignadas",
         "dtype": "float64",
         "stats": {
          "unique_count": 5,
          "nan_count": 0,
          "min": "0.0",
          "max": "2643.0",
          "histogram": [
           {
            "bin_start": 0,
            "bin_end": 264.3,
            "count": 5
           },
           {
            "bin_start": 264.3,
            "bin_end": 528.6,
            "count": 1
           },
           {
            "bin_start": 528.6,
            "bin_end": 792.9000000000001,
            "count": 1
           },
           {
            "bin_start": 792.9000000000001,
            "bin_end": 1057.2,
            "count": 0
           },
           {
            "bin_start": 1057.2,
            "bin_end": 1321.5,
            "count": 0
           },
           {
            "bin_start": 1321.5,
            "bin_end": 1585.8000000000002,
            "count": 0
           },
           {
            "bin_start": 1585.8000000000002,
            "bin_end": 1850.1000000000001,
            "count": 0
           },
           {
            "bin_start": 1850.1000000000001,
            "bin_end": 2114.4,
            "count": 0
           },
           {
            "bin_start": 2114.4,
            "bin_end": 2378.7000000000003,
            "count": 0
           },
           {
            "bin_start": 2378.7000000000003,
            "bin_end": 2643,
            "count": 1
           }
          ]
         }
        },
        {
         "name": "msp_hospitalizacion_camas_ocupadas",
         "dtype": "float64",
         "stats": {
          "unique_count": 5,
          "nan_count": 0,
          "min": "0.0",
          "max": "644.0",
          "histogram": [
           {
            "bin_start": 0,
            "bin_end": 64.4,
            "count": 5
           },
           {
            "bin_start": 64.4,
            "bin_end": 128.8,
            "count": 1
           },
           {
            "bin_start": 128.8,
            "bin_end": 193.20000000000002,
            "count": 0
           },
           {
            "bin_start": 193.20000000000002,
            "bin_end": 257.6,
            "count": 0
           },
           {
            "bin_start": 257.6,
            "bin_end": 322,
            "count": 0
           },
           {
            "bin_start": 322,
            "bin_end": 386.40000000000003,
            "count": 0
           },
           {
            "bin_start": 386.40000000000003,
            "bin_end": 450.80000000000007,
            "count": 0
           },
           {
            "bin_start": 450.80000000000007,
            "bin_end": 515.2,
            "count": 1
           },
           {
            "bin_start": 515.2,
            "bin_end": 579.6,
            "count": 0
           },
           {
            "bin_start": 579.6,
            "bin_end": 644,
            "count": 1
           }
          ]
         }
        },
        {
         "name": "_deepnote_index_column",
         "dtype": "object"
        }
       ],
       "rows": [
        {
         "msp_hospitalizacion_lista_espera": 644,
         "msp_hospitalizacion_camas_asignadas": 644,
         "msp_hospitalizacion_camas_ocupadas": 644,
         "_deepnote_index_column": "count"
        },
        {
         "msp_hospitalizacion_lista_espera": 0.20652173913043478,
         "msp_hospitalizacion_camas_asignadas": 224.10714285714286,
         "msp_hospitalizacion_camas_ocupadas": 27.736024844720497,
         "_deepnote_index_column": "mean"
        },
        {
         "msp_hospitalizacion_lista_espera": 1.0548949876577585,
         "msp_hospitalizacion_camas_asignadas": 511.212813417356,
         "msp_hospitalizacion_camas_ocupadas": 73.26762469003239,
         "_deepnote_index_column": "std"
        },
        {
         "msp_hospitalizacion_lista_espera": 0,
         "msp_hospitalizacion_camas_asignadas": 0,
         "msp_hospitalizacion_camas_ocupadas": 0,
         "_deepnote_index_column": "min"
        },
        {
         "msp_hospitalizacion_lista_espera": 0,
         "msp_hospitalizacion_camas_asignadas": 0,
         "msp_hospitalizacion_camas_ocupadas": 0,
         "_deepnote_index_column": "25%"
        },
        {
         "msp_hospitalizacion_lista_espera": 0,
         "msp_hospitalizacion_camas_asignadas": 0,
         "msp_hospitalizacion_camas_ocupadas": 0,
         "_deepnote_index_column": "50%"
        },
        {
         "msp_hospitalizacion_lista_espera": 0,
         "msp_hospitalizacion_camas_asignadas": 0,
         "msp_hospitalizacion_camas_ocupadas": 0,
         "_deepnote_index_column": "75%"
        },
        {
         "msp_hospitalizacion_lista_espera": 12,
         "msp_hospitalizacion_camas_asignadas": 2643,
         "msp_hospitalizacion_camas_ocupadas": 486,
         "_deepnote_index_column": "max"
        }
       ]
      },
      "text/plain": "       msp_hospitalizacion_lista_espera  msp_hospitalizacion_camas_asignadas  \\\ncount                        644.000000                           644.000000   \nmean                           0.206522                           224.107143   \nstd                            1.054895                           511.212813   \nmin                            0.000000                             0.000000   \n25%                            0.000000                             0.000000   \n50%                            0.000000                             0.000000   \n75%                            0.000000                             0.000000   \nmax                           12.000000                          2643.000000   \n\n       msp_hospitalizacion_camas_ocupadas  \ncount                          644.000000  \nmean                            27.736025  \nstd                             73.267625  \nmin                              0.000000  \n25%                              0.000000  \n50%                              0.000000  \n75%                              0.000000  \nmax                            486.000000  ",
      "text/html": "<div>\n<style scoped>\n    .dataframe tbody tr th:only-of-type {\n        vertical-align: middle;\n    }\n\n    .dataframe tbody tr th {\n        vertical-align: top;\n    }\n\n    .dataframe thead th {\n        text-align: right;\n    }\n</style>\n<table border=\"1\" class=\"dataframe\">\n  <thead>\n    <tr style=\"text-align: right;\">\n      <th></th>\n      <th>msp_hospitalizacion_lista_espera</th>\n      <th>msp_hospitalizacion_camas_asignadas</th>\n      <th>msp_hospitalizacion_camas_ocupadas</th>\n    </tr>\n  </thead>\n  <tbody>\n    <tr>\n      <th>count</th>\n      <td>644.000000</td>\n      <td>644.000000</td>\n      <td>644.000000</td>\n    </tr>\n    <tr>\n      <th>mean</th>\n      <td>0.206522</td>\n      <td>224.107143</td>\n      <td>27.736025</td>\n    </tr>\n    <tr>\n      <th>std</th>\n      <td>1.054895</td>\n      <td>511.212813</td>\n      <td>73.267625</td>\n    </tr>\n    <tr>\n      <th>min</th>\n      <td>0.000000</td>\n      <td>0.000000</td>\n      <td>0.000000</td>\n    </tr>\n    <tr>\n      <th>25%</th>\n      <td>0.000000</td>\n      <td>0.000000</td>\n      <td>0.000000</td>\n    </tr>\n    <tr>\n      <th>50%</th>\n      <td>0.000000</td>\n      <td>0.000000</td>\n      <td>0.000000</td>\n    </tr>\n    <tr>\n      <th>75%</th>\n      <td>0.000000</td>\n      <td>0.000000</td>\n      <td>0.000000</td>\n    </tr>\n    <tr>\n      <th>max</th>\n      <td>12.000000</td>\n      <td>2643.000000</td>\n      <td>486.000000</td>\n    </tr>\n  </tbody>\n</table>\n</div>"
     },
     "metadata": {}
    }
   ],
   "execution_count": null
  },
  {
   "cell_type": "code",
   "metadata": {
    "tags": [],
    "cell_id": "00018-a1431874-8d85-4feb-9ea5-da027f980fef",
    "deepnote_to_be_reexecuted": false,
    "source_hash": "c07a1e2c",
    "execution_start": 1639869182968,
    "execution_millis": 1532,
    "deepnote_output_heights": [
     452.984375
    ],
    "deepnote_cell_type": "code"
   },
   "source": "fig, ax = plt.subplots(figsize=(12, 7))\n#plt.plot(df_ecuacovid.created_at, df_ecuacovid.msp_hospitalizacion_camas_porcentaje_ocupadas)\nplt.plot(df_ecuacovid.created_at, df_ecuacovid.msp_uci_lista_espera)\nplt.plot(df_ecuacovid.created_at, df_ecuacovid.msp_uci_camas_asignadas)\nplt.plot(df_ecuacovid.created_at, df_ecuacovid.msp_uci_camas_ocupadas)\n#plt.plot(df_ecuacovid.created_at, df_ecuacovid.msp_cuidado_intermedio_camas_porcentaje_ocupadas)\n#plt.plot(df_ecuacovid.created_at, df_ecuacovid.msp_cuidado_intermedio_lista_espera)\n#plt.plot(df_ecuacovid.created_at, df_ecuacovid.msp_cuidado_intermedio_camas_asignadas)\n\n\nplt.title('Hospitalization', size=18)\nplt.xlabel('Date')\nplt.ylabel('Hospitalization')\nplt.legend(['Hospital discharge', 'Stable hospitalized', 'Reserved forecast'])\nplt.show()",
   "outputs": [
    {
     "data": {
      "text/plain": "<Figure size 864x504 with 1 Axes>",
      "image/png": "[encoded data removed]"
     },
     "metadata": {
      "image/png": {
       "width": 739,
       "height": 451
      }
     },
     "output_type": "display_data"
    }
   ],
   "execution_count": null
  },
  {
   "cell_type": "code",
   "metadata": {
    "tags": [],
    "cell_id": "00018-25c99186-3293-4b0e-a569-d5e0d6addd19",
    "deepnote_to_be_reexecuted": false,
    "source_hash": "667703c2",
    "execution_start": 1639869184252,
    "execution_millis": 1081,
    "deepnote_output_heights": [
     452.984375
    ],
    "deepnote_cell_type": "code"
   },
   "source": "fig, ax = plt.subplots(figsize=(12, 7))\nplt.plot(df_ecuacovid.created_at, df_ecuacovid.hospitalizadas_altas)\nplt.plot(df_ecuacovid.created_at, df_ecuacovid.hospitalizadas_estables)\nplt.plot(df_ecuacovid.created_at, df_ecuacovid.hospitalizadas_pronostico_reservadas)\nplt.title('Hospitalization', size=18)\nplt.xlabel('Date')\nplt.ylabel('Hospitalization')\nplt.legend(['Hospital discharge', 'Stable hospitalized', 'Reserved forecast'])\nplt.show()",
   "outputs": [
    {
     "data": {
      "text/plain": "<Figure size 864x504 with 1 Axes>",
      "image/png": "[encoded data removed]"
     },
     "metadata": {
      "image/png": {
       "width": 753,
       "height": 451
      }
     },
     "output_type": "display_data"
    }
   ],
   "execution_count": null
  },
  {
   "cell_type": "markdown",
   "source": "<a style='text-decoration:none;line-height:16px;display:flex;color:#5B5B62;padding:10px;justify-content:end;' href='https://deepnote.com?utm_source=created-in-deepnote-cell&projectId=7294ef23-3287-47ac-a12f-ba892bffdf3b' target=\"_blank\">\n<img alt='Created in deepnote.com' style='display:inline;max-height:16px;margin:0px;margin-right:7.5px;' src='data:image/svg+xml;base64,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' > </img>\nCreated in <span style='font-weight:600;margin-left:4px;'>Deepnote</span></a>",
   "metadata": {
    "tags": [],
    "created_in_deepnote_cell": true,
    "deepnote_cell_type": "markdown"
   }
  }
 ],
 "nbformat": 4,
 "nbformat_minor": 2,
 "metadata": {
  "orig_nbformat": 2,
  "deepnote": {
   "is_reactive": false
  },
  "deepnote_notebook_id": "770cbc12-e459-4658-a526-d04591d624b4",
  "deepnote_execution_queue": []
 }
}