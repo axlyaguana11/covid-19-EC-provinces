{
 "cells": [
  {
   "cell_type": "markdown",
   "source": "# Exploration: deaths",
   "metadata": {
    "tags": [],
    "is_collapsed": false,
    "cell_id": "00001-94285caa-8a9e-46d4-be28-4911825924f0",
    "deepnote_cell_type": "text-cell-h1"
   }
  },
  {
   "cell_type": "markdown",
   "source": "The goal here is to compare deaths before and during the pandemic. I'll plot monthly deaths in total from 2015 to 2021.",
   "metadata": {
    "tags": [],
    "cell_id": "00001-56347d32-9f21-4ec3-8141-404f3c25ebb5",
    "deepnote_cell_type": "markdown"
   }
  },
  {
   "cell_type": "code",
   "metadata": {
    "tags": [],
    "cell_id": "00001-0065b689-2144-4b06-bf03-5fb62352f80a",
    "deepnote_to_be_reexecuted": false,
    "source_hash": "28eb5f73",
    "execution_start": 1639864423100,
    "execution_millis": 76068,
    "deepnote_cell_type": "code"
   },
   "source": "# %load_ext autoreload\n# %autoreload 2",
   "outputs": [],
   "execution_count": null
  },
  {
   "cell_type": "code",
   "metadata": {
    "tags": [],
    "cell_id": "00001-d5aa1d63-6b9c-4f2d-a596-cfe2c80b2f6d",
    "deepnote_to_be_reexecuted": false,
    "source_hash": "c516df8c",
    "execution_start": 1639864423101,
    "execution_millis": 2998,
    "deepnote_cell_type": "code"
   },
   "source": "#libs\nimport pandas as pd\nimport numpy as np\nimport matplotlib.pyplot as plt\nimport seaborn as sns",
   "outputs": [],
   "execution_count": null
  },
  {
   "cell_type": "markdown",
   "source": "## deaths",
   "metadata": {
    "tags": [],
    "is_collapsed": false,
    "cell_id": "00001-bf76a72c-8017-4451-ab75-9bda47486a1d",
    "deepnote_cell_type": "text-cell-h2"
   }
  },
  {
   "cell_type": "code",
   "metadata": {
    "tags": [],
    "cell_id": "00003-bf876466-8928-4c1c-a851-46ec8a0f0a9f",
    "deepnote_to_be_reexecuted": false,
    "source_hash": "8c66aef",
    "execution_start": 1639864426117,
    "execution_millis": 8,
    "deepnote_cell_type": "code"
   },
   "source": "df_deaths = pd.read_csv('/work/covid-19-EC-provinces/data/processed/deaths.csv')",
   "outputs": [],
   "execution_count": null
  },
  {
   "cell_type": "code",
   "metadata": {
    "tags": [],
    "cell_id": "00004-20c8c929-cb59-4b35-b442-33c1a3f440f2",
    "deepnote_to_be_reexecuted": false,
    "source_hash": "928503e2",
    "execution_start": 1639864426167,
    "execution_millis": 144,
    "deepnote_output_heights": [
     177
    ],
    "deepnote_cell_type": "code"
   },
   "source": "df_deaths.head()",
   "outputs": [
    {
     "output_type": "execute_result",
     "execution_count": 4,
     "data": {
      "application/vnd.deepnote.dataframe.v3+json": {
       "column_count": 8,
       "row_count": 5,
       "columns": [
        {
         "name": "provincia",
         "dtype": "object",
         "stats": {
          "unique_count": 5,
          "nan_count": 0,
          "categories": [
           {
            "name": "Azuay",
            "count": 1
           },
           {
            "name": "Bolívar",
            "count": 1
           },
           {
            "name": "3 others",
            "count": 3
           }
          ]
         }
        },
        {
         "name": "total",
         "dtype": "int64",
         "stats": {
          "unique_count": 5,
          "nan_count": 0,
          "min": "57",
          "max": "327",
          "histogram": [
           {
            "bin_start": 57,
            "bin_end": 84,
            "count": 2
           },
           {
            "bin_start": 84,
            "bin_end": 111,
            "count": 1
           },
           {
            "bin_start": 111,
            "bin_end": 138,
            "count": 0
           },
           {
            "bin_start": 138,
            "bin_end": 165,
            "count": 1
           },
           {
            "bin_start": 165,
            "bin_end": 192,
            "count": 0
           },
           {
            "bin_start": 192,
            "bin_end": 219,
            "count": 0
           },
           {
            "bin_start": 219,
            "bin_end": 246,
            "count": 0
           },
           {
            "bin_start": 246,
            "bin_end": 273,
            "count": 0
           },
           {
            "bin_start": 273,
            "bin_end": 300,
            "count": 0
           },
           {
            "bin_start": 300,
            "bin_end": 327,
            "count": 1
           }
          ]
         }
        },
        {
         "name": "acumuladas",
         "dtype": "int64",
         "stats": {
          "unique_count": 5,
          "nan_count": 0,
          "min": "57",
          "max": "327",
          "histogram": [
           {
            "bin_start": 57,
            "bin_end": 84,
            "count": 2
           },
           {
            "bin_start": 84,
            "bin_end": 111,
            "count": 1
           },
           {
            "bin_start": 111,
            "bin_end": 138,
            "count": 0
           },
           {
            "bin_start": 138,
            "bin_end": 165,
            "count": 1
           },
           {
            "bin_start": 165,
            "bin_end": 192,
            "count": 0
           },
           {
            "bin_start": 192,
            "bin_end": 219,
            "count": 0
           },
           {
            "bin_start": 219,
            "bin_end": 246,
            "count": 0
           },
           {
            "bin_start": 246,
            "bin_end": 273,
            "count": 0
           },
           {
            "bin_start": 273,
            "bin_end": 300,
            "count": 0
           },
           {
            "bin_start": 300,
            "bin_end": 327,
            "count": 1
           }
          ]
         }
        },
        {
         "name": "lat",
         "dtype": "float64",
         "stats": {
          "unique_count": 5,
          "nan_count": 0,
          "min": "-2.897414",
          "max": "0.81218",
          "histogram": [
           {
            "bin_start": -2.897414,
            "bin_end": -2.5264546,
            "count": 2
           },
           {
            "bin_start": -2.5264546,
            "bin_end": -2.1554952,
            "count": 0
           },
           {
            "bin_start": -2.1554952,
            "bin_end": -1.7845358,
            "count": 0
           },
           {
            "bin_start": -1.7845358,
            "bin_end": -1.4135764,
            "count": 2
           },
           {
            "bin_start": -1.4135764,
            "bin_end": -1.042617,
            "count": 0
           },
           {
            "bin_start": -1.042617,
            "bin_end": -0.6716576000000001,
            "count": 0
           },
           {
            "bin_start": -0.6716576000000001,
            "bin_end": -0.3006981999999998,
            "count": 0
           },
           {
            "bin_start": -0.3006981999999998,
            "bin_end": 0.07026120000000002,
            "count": 0
           },
           {
            "bin_start": 0.07026120000000002,
            "bin_end": 0.44122059999999985,
            "count": 0
           },
           {
            "bin_start": 0.44122059999999985,
            "bin_end": 0.81218,
            "count": 1
           }
          ]
         }
        },
        {
         "name": "lng",
         "dtype": "float64",
         "stats": {
          "unique_count": 5,
          "nan_count": 0,
          "min": "-79.004481",
          "max": "-77.71633",
          "histogram": [
           {
            "bin_start": -79.004481,
            "bin_end": -78.8756659,
            "count": 2
           },
           {
            "bin_start": -78.8756659,
            "bin_end": -78.7468508,
            "count": 1
           },
           {
            "bin_start": -78.7468508,
            "bin_end": -78.6180357,
            "count": 1
           },
           {
            "bin_start": -78.6180357,
            "bin_end": -78.4892206,
            "count": 0
           },
           {
            "bin_start": -78.4892206,
            "bin_end": -78.3604055,
            "count": 0
           },
           {
            "bin_start": -78.3604055,
            "bin_end": -78.2315904,
            "count": 0
           },
           {
            "bin_start": -78.2315904,
            "bin_end": -78.1027753,
            "count": 0
           },
           {
            "bin_start": -78.1027753,
            "bin_end": -77.9739602,
            "count": 0
           },
           {
            "bin_start": -77.9739602,
            "bin_end": -77.8451451,
            "count": 0
           },
           {
            "bin_start": -77.8451451,
            "bin_end": -77.71633,
            "count": 1
           }
          ]
         }
        },
        {
         "name": "mes",
         "dtype": "int64",
         "stats": {
          "unique_count": 1,
          "nan_count": 0,
          "min": "1",
          "max": "1",
          "histogram": [
           {
            "bin_start": 0.5,
            "bin_end": 0.6,
            "count": 0
           },
           {
            "bin_start": 0.6,
            "bin_end": 0.7,
            "count": 0
           },
           {
            "bin_start": 0.7,
            "bin_end": 0.8,
            "count": 0
           },
           {
            "bin_start": 0.8,
            "bin_end": 0.9,
            "count": 0
           },
           {
            "bin_start": 0.9,
            "bin_end": 1,
            "count": 0
           },
           {
            "bin_start": 1,
            "bin_end": 1.1,
            "count": 5
           },
           {
            "bin_start": 1.1,
            "bin_end": 1.2000000000000002,
            "count": 0
           },
           {
            "bin_start": 1.2000000000000002,
            "bin_end": 1.3,
            "count": 0
           },
           {
            "bin_start": 1.3,
            "bin_end": 1.4,
            "count": 0
           },
           {
            "bin_start": 1.4,
            "bin_end": 1.5,
            "count": 0
           }
          ]
         }
        },
        {
         "name": "year",
         "dtype": "int64",
         "stats": {
          "unique_count": 1,
          "nan_count": 0,
          "min": "2015",
          "max": "2015",
          "histogram": [
           {
            "bin_start": 2014.5,
            "bin_end": 2014.6,
            "count": 0
           },
           {
            "bin_start": 2014.6,
            "bin_end": 2014.7,
            "count": 0
           },
           {
            "bin_start": 2014.7,
            "bin_end": 2014.8,
            "count": 0
           },
           {
            "bin_start": 2014.8,
            "bin_end": 2014.9,
            "count": 0
           },
           {
            "bin_start": 2014.9,
            "bin_end": 2015,
            "count": 0
           },
           {
            "bin_start": 2015,
            "bin_end": 2015.1,
            "count": 5
           },
           {
            "bin_start": 2015.1,
            "bin_end": 2015.2,
            "count": 0
           },
           {
            "bin_start": 2015.2,
            "bin_end": 2015.3,
            "count": 0
           },
           {
            "bin_start": 2015.3,
            "bin_end": 2015.4,
            "count": 0
           },
           {
            "bin_start": 2015.4,
            "bin_end": 2015.5,
            "count": 0
           }
          ]
         }
        },
        {
         "name": "poblacion",
         "dtype": "float64",
         "stats": {
          "unique_count": 0,
          "nan_count": 5,
          "min": null,
          "max": null,
          "histogram": [
           {
            "bin_start": 0,
            "bin_end": 0.1,
            "count": 0
           },
           {
            "bin_start": 0.1,
            "bin_end": 0.2,
            "count": 0
           },
           {
            "bin_start": 0.2,
            "bin_end": 0.30000000000000004,
            "count": 0
           },
           {
            "bin_start": 0.30000000000000004,
            "bin_end": 0.4,
            "count": 0
           },
           {
            "bin_start": 0.4,
            "bin_end": 0.5,
            "count": 0
           },
           {
            "bin_start": 0.5,
            "bin_end": 0.6000000000000001,
            "count": 0
           },
           {
            "bin_start": 0.6000000000000001,
            "bin_end": 0.7000000000000001,
            "count": 0
           },
           {
            "bin_start": 0.7000000000000001,
            "bin_end": 0.8,
            "count": 0
           },
           {
            "bin_start": 0.8,
            "bin_end": 0.9,
            "count": 0
           },
           {
            "bin_start": 0.9,
            "bin_end": 1,
            "count": 0
           }
          ]
         }
        },
        {
         "name": "_deepnote_index_column",
         "dtype": "int64"
        }
       ],
       "rows": [
        {
         "provincia": "Azuay",
         "total": 327,
         "acumuladas": 327,
         "lat": -2.897414,
         "lng": -79.004481,
         "mes": 1,
         "year": 2015,
         "poblacion": "nan",
         "_deepnote_index_column": 0
        },
        {
         "provincia": "Bolívar",
         "total": 57,
         "acumuladas": 57,
         "lat": -1.605556,
         "lng": -79.003056,
         "mes": 1,
         "year": 2015,
         "poblacion": "nan",
         "_deepnote_index_column": 1
        },
        {
         "provincia": "Carchi",
         "total": 63,
         "acumuladas": 63,
         "lat": 0.81218,
         "lng": -77.71633,
         "mes": 1,
         "year": 2015,
         "poblacion": "nan",
         "_deepnote_index_column": 2
        },
        {
         "provincia": "Cañar",
         "total": 87,
         "acumuladas": 87,
         "lat": -2.733333,
         "lng": -78.833333,
         "mes": 1,
         "year": 2015,
         "poblacion": "nan",
         "_deepnote_index_column": 3
        },
        {
         "provincia": "Chimborazo",
         "total": 156,
         "acumuladas": 156,
         "lat": -1.674347,
         "lng": -78.64829399999999,
         "mes": 1,
         "year": 2015,
         "poblacion": "nan",
         "_deepnote_index_column": 4
        }
       ]
      },
      "text/plain": "    provincia  total  acumuladas       lat        lng  mes  year  poblacion\n0       Azuay    327         327 -2.897414 -79.004481    1  2015        NaN\n1     Bolívar     57          57 -1.605556 -79.003056    1  2015        NaN\n2      Carchi     63          63  0.812180 -77.716330    1  2015        NaN\n3       Cañar     87          87 -2.733333 -78.833333    1  2015        NaN\n4  Chimborazo    156         156 -1.674347 -78.648294    1  2015        NaN",
      "text/html": "<div>\n<style scoped>\n    .dataframe tbody tr th:only-of-type {\n        vertical-align: middle;\n    }\n\n    .dataframe tbody tr th {\n        vertical-align: top;\n    }\n\n    .dataframe thead th {\n        text-align: right;\n    }\n</style>\n<table border=\"1\" class=\"dataframe\">\n  <thead>\n    <tr style=\"text-align: right;\">\n      <th></th>\n      <th>provincia</th>\n      <th>total</th>\n      <th>acumuladas</th>\n      <th>lat</th>\n      <th>lng</th>\n      <th>mes</th>\n      <th>year</th>\n      <th>poblacion</th>\n    </tr>\n  </thead>\n  <tbody>\n    <tr>\n      <th>0</th>\n      <td>Azuay</td>\n      <td>327</td>\n      <td>327</td>\n      <td>-2.897414</td>\n      <td>-79.004481</td>\n      <td>1</td>\n      <td>2015</td>\n      <td>NaN</td>\n    </tr>\n    <tr>\n      <th>1</th>\n      <td>Bolívar</td>\n      <td>57</td>\n      <td>57</td>\n      <td>-1.605556</td>\n      <td>-79.003056</td>\n      <td>1</td>\n      <td>2015</td>\n      <td>NaN</td>\n    </tr>\n    <tr>\n      <th>2</th>\n      <td>Carchi</td>\n      <td>63</td>\n      <td>63</td>\n      <td>0.812180</td>\n      <td>-77.716330</td>\n      <td>1</td>\n      <td>2015</td>\n      <td>NaN</td>\n    </tr>\n    <tr>\n      <th>3</th>\n      <td>Cañar</td>\n      <td>87</td>\n      <td>87</td>\n      <td>-2.733333</td>\n      <td>-78.833333</td>\n      <td>1</td>\n      <td>2015</td>\n      <td>NaN</td>\n    </tr>\n    <tr>\n      <th>4</th>\n      <td>Chimborazo</td>\n      <td>156</td>\n      <td>156</td>\n      <td>-1.674347</td>\n      <td>-78.648294</td>\n      <td>1</td>\n      <td>2015</td>\n      <td>NaN</td>\n    </tr>\n  </tbody>\n</table>\n</div>"
     },
     "metadata": {}
    }
   ],
   "execution_count": null
  },
  {
   "cell_type": "code",
   "metadata": {
    "tags": [],
    "cell_id": "00005-f278b5b4-1655-4365-9a86-641790fda1b5",
    "deepnote_to_be_reexecuted": false,
    "source_hash": "7663b80e",
    "execution_start": 1639864426308,
    "execution_millis": 4,
    "deepnote_output_heights": [
     59.265625
    ],
    "deepnote_cell_type": "code"
   },
   "source": "df_deaths.columns",
   "outputs": [
    {
     "output_type": "execute_result",
     "execution_count": 5,
     "data": {
      "text/plain": "Index(['provincia', 'total', 'acumuladas', 'lat', 'lng', 'mes', 'year',\n       'poblacion'],\n      dtype='object')"
     },
     "metadata": {}
    }
   ],
   "execution_count": null
  },
  {
   "cell_type": "code",
   "metadata": {
    "tags": [],
    "cell_id": "00006-06888786-21f3-46cb-9ab7-f110174d01f5",
    "deepnote_to_be_reexecuted": false,
    "source_hash": "8a89b768",
    "execution_start": 1639864426309,
    "execution_millis": 3,
    "deepnote_output_heights": [
     173.8125
    ],
    "deepnote_cell_type": "code"
   },
   "source": "df_deaths.dtypes",
   "outputs": [
    {
     "output_type": "execute_result",
     "execution_count": 6,
     "data": {
      "text/plain": "provincia      object\ntotal           int64\nacumuladas      int64\nlat           float64\nlng           float64\nmes             int64\nyear            int64\npoblacion     float64\ndtype: object"
     },
     "metadata": {}
    }
   ],
   "execution_count": null
  },
  {
   "cell_type": "code",
   "metadata": {
    "tags": [],
    "cell_id": "00007-c6890b64-1105-434f-88d0-a72b1822f8d1",
    "deepnote_to_be_reexecuted": false,
    "source_hash": "7107112f",
    "execution_start": 1639864426351,
    "execution_millis": 0,
    "deepnote_cell_type": "code"
   },
   "source": "df_deaths_2015 = df_deaths.query('year == 2015')\ndf_deaths_moth_2015 = df_deaths_2015.groupby(['mes'])[['total']].sum()",
   "outputs": [],
   "execution_count": null
  },
  {
   "cell_type": "code",
   "metadata": {
    "tags": [],
    "cell_id": "00009-ed192f1a-3019-4439-ad71-285562a3de4b",
    "deepnote_to_be_reexecuted": false,
    "source_hash": "c2652597",
    "execution_start": 1639864426352,
    "execution_millis": 0,
    "deepnote_cell_type": "code"
   },
   "source": "df_deaths_2016 = df_deaths.query('year == 2016')\ndf_deaths_moth_2016 = df_deaths_2016.groupby(['mes'])[['total']].sum()",
   "outputs": [],
   "execution_count": null
  },
  {
   "cell_type": "code",
   "metadata": {
    "tags": [],
    "cell_id": "00010-b3f8f9b7-3c54-4bfa-b748-60bd0a6ff8f2",
    "deepnote_to_be_reexecuted": false,
    "source_hash": "33f66b86",
    "execution_start": 1639864426377,
    "execution_millis": 7,
    "deepnote_cell_type": "code"
   },
   "source": "df_deaths_2017 = df_deaths.query('year == 2017')\ndf_deaths_moth_2017 = df_deaths_2017.groupby(['mes'])[['total']].sum()",
   "outputs": [],
   "execution_count": null
  },
  {
   "cell_type": "code",
   "metadata": {
    "tags": [],
    "cell_id": "00011-01f735bd-9ca2-4aab-a9f2-0a808aa153b6",
    "deepnote_to_be_reexecuted": false,
    "source_hash": "2896ab35",
    "execution_start": 1639864426393,
    "execution_millis": 9,
    "deepnote_cell_type": "code"
   },
   "source": "df_deaths_2018 = df_deaths.query('year == 2018')\ndf_deaths_moth_2018 = df_deaths_2018.groupby(['mes'])[['total']].sum()",
   "outputs": [],
   "execution_count": null
  },
  {
   "cell_type": "code",
   "metadata": {
    "tags": [],
    "cell_id": "00011-06b942df-b14b-441f-a294-8535bf1684db",
    "deepnote_to_be_reexecuted": false,
    "source_hash": "9b6f3f5d",
    "execution_start": 1639864426463,
    "execution_millis": 0,
    "deepnote_cell_type": "code"
   },
   "source": "df_deaths_2019 = df_deaths.query('year == 2019')\ndf_deaths_moth_2019 = df_deaths_2019.groupby(['mes'])[['total']].sum()",
   "outputs": [],
   "execution_count": null
  },
  {
   "cell_type": "code",
   "metadata": {
    "tags": [],
    "cell_id": "00012-a052527a-f98f-4616-8d45-0efc9187851c",
    "deepnote_to_be_reexecuted": false,
    "source_hash": "aa5cee7f",
    "execution_start": 1639864426464,
    "execution_millis": 0,
    "deepnote_cell_type": "code"
   },
   "source": "df_deaths_2020 = df_deaths.query('year == 2020')\ndf_deaths_moth_2020 = df_deaths_2020.groupby(['mes'])[['total']].sum()",
   "outputs": [],
   "execution_count": null
  },
  {
   "cell_type": "code",
   "metadata": {
    "tags": [],
    "cell_id": "00013-07f614aa-e6de-424e-a8db-268baae4ea27",
    "deepnote_to_be_reexecuted": false,
    "source_hash": "29749932",
    "execution_start": 1639864426464,
    "execution_millis": 44,
    "deepnote_cell_type": "code"
   },
   "source": "df_deaths_2021 = df_deaths.query('year == 2021')\ndf_deaths_moth_2021 = df_deaths_2021.groupby(['mes'])[['total']].sum()",
   "outputs": [],
   "execution_count": null
  },
  {
   "cell_type": "code",
   "metadata": {
    "tags": [],
    "cell_id": "00014-55d54b83-5df5-4807-b8b5-c56fc7eaee36",
    "deepnote_to_be_reexecuted": false,
    "source_hash": "f2f79983",
    "execution_start": 1639864426508,
    "execution_millis": 0,
    "deepnote_cell_type": "code"
   },
   "source": "sns.set_theme()",
   "outputs": [],
   "execution_count": null
  },
  {
   "cell_type": "code",
   "metadata": {
    "tags": [],
    "cell_id": "00015-181cc262-dff1-4916-9794-608a4ea27c1f",
    "deepnote_to_be_reexecuted": false,
    "source_hash": "e38b0ddb",
    "execution_start": 1639864426509,
    "execution_millis": 10,
    "deepnote_output_heights": [
     409
    ],
    "deepnote_table_state": {
     "pageSize": 10,
     "pageIndex": 0,
     "filters": [],
     "sortBy": []
    },
    "deepnote_table_loading": false,
    "deepnote_table_invalid": false,
    "deepnote_cell_type": "code"
   },
   "source": "df_deaths_moth_2015",
   "outputs": [
    {
     "output_type": "execute_result",
     "execution_count": 15,
     "data": {
      "application/vnd.deepnote.dataframe.v3+json": {
       "column_count": 1,
       "row_count": 12,
       "columns": [
        {
         "name": "total",
         "dtype": "int64",
         "stats": {
          "unique_count": 12,
          "nan_count": 0,
          "min": "4973",
          "max": "5866",
          "histogram": [
           {
            "bin_start": 4973,
            "bin_end": 5062.3,
            "count": 1
           },
           {
            "bin_start": 5062.3,
            "bin_end": 5151.6,
            "count": 2
           },
           {
            "bin_start": 5151.6,
            "bin_end": 5240.9,
            "count": 1
           },
           {
            "bin_start": 5240.9,
            "bin_end": 5330.2,
            "count": 0
           },
           {
            "bin_start": 5330.2,
            "bin_end": 5419.5,
            "count": 1
           },
           {
            "bin_start": 5419.5,
            "bin_end": 5508.8,
            "count": 3
           },
           {
            "bin_start": 5508.8,
            "bin_end": 5598.1,
            "count": 3
           },
           {
            "bin_start": 5598.1,
            "bin_end": 5687.4,
            "count": 0
           },
           {
            "bin_start": 5687.4,
            "bin_end": 5776.7,
            "count": 0
           },
           {
            "bin_start": 5776.7,
            "bin_end": 5866,
            "count": 1
           }
          ]
         }
        },
        {
         "name": "_deepnote_index_column",
         "dtype": "int64"
        }
       ],
       "rows": [
        {
         "total": 5507,
         "_deepnote_index_column": 1
        },
        {
         "total": 4973,
         "_deepnote_index_column": 2
        },
        {
         "total": 5541,
         "_deepnote_index_column": 3
        },
        {
         "total": 5536,
         "_deepnote_index_column": 4
        },
        {
         "total": 5866,
         "_deepnote_index_column": 5
        },
        {
         "total": 5582,
         "_deepnote_index_column": 6
        },
        {
         "total": 5474,
         "_deepnote_index_column": 7
        },
        {
         "total": 5471,
         "_deepnote_index_column": 8
        },
        {
         "total": 5132,
         "_deepnote_index_column": 9
        },
        {
         "total": 5415,
         "_deepnote_index_column": 10
        }
       ]
      },
      "text/plain": "     total\nmes       \n1     5507\n2     4973\n3     5541\n4     5536\n5     5866\n6     5582\n7     5474\n8     5471\n9     5132\n10    5415\n11    5114\n12    5179",
      "text/html": "<div>\n<style scoped>\n    .dataframe tbody tr th:only-of-type {\n        vertical-align: middle;\n    }\n\n    .dataframe tbody tr th {\n        vertical-align: top;\n    }\n\n    .dataframe thead th {\n        text-align: right;\n    }\n</style>\n<table border=\"1\" class=\"dataframe\">\n  <thead>\n    <tr style=\"text-align: right;\">\n      <th></th>\n      <th>total</th>\n    </tr>\n    <tr>\n      <th>mes</th>\n      <th></th>\n    </tr>\n  </thead>\n  <tbody>\n    <tr>\n      <th>1</th>\n      <td>5507</td>\n    </tr>\n    <tr>\n      <th>2</th>\n      <td>4973</td>\n    </tr>\n    <tr>\n      <th>3</th>\n      <td>5541</td>\n    </tr>\n    <tr>\n      <th>4</th>\n      <td>5536</td>\n    </tr>\n    <tr>\n      <th>5</th>\n      <td>5866</td>\n    </tr>\n    <tr>\n      <th>6</th>\n      <td>5582</td>\n    </tr>\n    <tr>\n      <th>7</th>\n      <td>5474</td>\n    </tr>\n    <tr>\n      <th>8</th>\n      <td>5471</td>\n    </tr>\n    <tr>\n      <th>9</th>\n      <td>5132</td>\n    </tr>\n    <tr>\n      <th>10</th>\n      <td>5415</td>\n    </tr>\n    <tr>\n      <th>11</th>\n      <td>5114</td>\n    </tr>\n    <tr>\n      <th>12</th>\n      <td>5179</td>\n    </tr>\n  </tbody>\n</table>\n</div>"
     },
     "metadata": {}
    }
   ],
   "execution_count": null
  },
  {
   "cell_type": "code",
   "metadata": {
    "tags": [],
    "cell_id": "00016-79a75d10-c74c-48b1-8cd8-e8c3720e4798",
    "deepnote_to_be_reexecuted": false,
    "source_hash": "3b20ec6a",
    "execution_start": 1639864426526,
    "execution_millis": 5,
    "deepnote_cell_type": "code"
   },
   "source": "deaths_month = [df_deaths_moth_2015,\n            df_deaths_moth_2016,\n            df_deaths_moth_2017,\n            df_deaths_moth_2018,\n            df_deaths_moth_2019,\n            df_deaths_moth_2020,\n            df_deaths_moth_2021]",
   "outputs": [],
   "execution_count": null
  },
  {
   "cell_type": "code",
   "metadata": {
    "tags": [],
    "cell_id": "00015-ff5c1889-62d0-46b7-bc49-e5b9b73714f7",
    "deepnote_to_be_reexecuted": false,
    "source_hash": "aeb46e7d",
    "execution_start": 1639864426578,
    "execution_millis": 806,
    "deepnote_output_heights": [
     453.96875,
     453.96875
    ],
    "deepnote_cell_type": "code"
   },
   "source": "fig, ax = plt.subplots(figsize=(10, 7))\nfor i in range(len(deaths_month)):\n    plt.plot(deaths_month[i].index, deaths_month[i].total)\nplt.legend(['2015', '2016', '2017', '2018', '2019', '2020', '2021'])\nplt.title('Deaths in Ecuador from 2015 to 2021', size=20)\nplt.xlabel('Month')\nplt.ylabel('Total deaths')\nplt.xticks(np.arange(1, 13))\n#plt.plot(df_deaths_moth_2015.index, df_deaths_moth_2015.total)\n#plt.plot(df_deaths_moth_2016.index, df_deaths_moth_2016.total)\nplt.show()",
   "outputs": [
    {
     "data": {
      "text/plain": "<Figure size 720x504 with 1 Axes>",
      "image/png": "[encoded data removed]"
     },
     "metadata": {
      "image/png": {
       "width": 633,
       "height": 452
      }
     },
     "output_type": "display_data"
    }
   ],
   "execution_count": null
  },
  {
   "cell_type": "markdown",
   "source": "### 2015 to 2019",
   "metadata": {
    "tags": [],
    "is_collapsed": false,
    "cell_id": "00019-9be5c3e3-c5dd-4419-ad92-096b5629ee3f",
    "deepnote_cell_type": "text-cell-h3"
   }
  },
  {
   "cell_type": "code",
   "metadata": {
    "tags": [],
    "cell_id": "00020-c9811a75-8e3f-48ce-8791-b3da871e1bd6",
    "deepnote_to_be_reexecuted": false,
    "source_hash": "4db79f4c",
    "execution_start": 1639864427406,
    "execution_millis": 76185,
    "deepnote_cell_type": "code"
   },
   "source": "df_deaths_2015_2019 = df_deaths.query('year <= 2019')",
   "outputs": [],
   "execution_count": null
  },
  {
   "cell_type": "code",
   "metadata": {
    "tags": [],
    "cell_id": "00021-e429d664-a83f-438b-8708-b323bc073a66",
    "deepnote_to_be_reexecuted": false,
    "source_hash": "5cffac53",
    "execution_start": 1639864427459,
    "execution_millis": 76181,
    "deepnote_cell_type": "code"
   },
   "source": "df_deaths_2015_2019_grouped = df_deaths_2015_2019.groupby(['provincia', 'year'])[['total']].sum().sort_values(by=['total'], ascending=False)",
   "outputs": [],
   "execution_count": null
  },
  {
   "cell_type": "markdown",
   "source": "I get the median for the years without pandemic. The previous plot shows they behave in a similar way, so I decided to group them apart and get their median. \n\nI add the same population than 2020 and 2021, due to there haven't been a census since 2010.",
   "metadata": {
    "tags": [],
    "cell_id": "00022-d4e4b717-aa11-40f6-81c1-ff48fcc819af",
    "deepnote_cell_type": "markdown"
   }
  },
  {
   "cell_type": "code",
   "metadata": {
    "tags": [],
    "cell_id": "00022-f720e4c0-3195-4a51-9700-6f6c29bdad55",
    "deepnote_to_be_reexecuted": false,
    "source_hash": "83a9c9f6",
    "execution_start": 1639864427460,
    "execution_millis": 76207,
    "deepnote_cell_type": "code"
   },
   "source": "provinces_2015_2019 = df_deaths_2015_2019_grouped.reset_index().groupby('provincia')[['total']].median()",
   "outputs": [],
   "execution_count": null
  },
  {
   "cell_type": "code",
   "source": "population_province = df_deaths_2020.groupby('provincia')[['poblacion']].max()",
   "metadata": {
    "tags": [],
    "cell_id": "00025-6522a109-2eda-4994-b75d-e6cd9aa13331",
    "deepnote_to_be_reexecuted": false,
    "source_hash": "8af801cf",
    "execution_start": 1639864427503,
    "execution_millis": 76150,
    "deepnote_cell_type": "code"
   },
   "outputs": [],
   "execution_count": null
  },
  {
   "cell_type": "code",
   "metadata": {
    "tags": [],
    "cell_id": "00024-92b30331-5beb-40a6-b89e-83c22dd95239",
    "deepnote_to_be_reexecuted": false,
    "source_hash": "ea408b80",
    "execution_start": 1639864427504,
    "execution_millis": 76193,
    "deepnote_cell_type": "code"
   },
   "source": "#You'll find population_province below\n\nprovinces_2015_2019['poblacion'] = population_province['poblacion']",
   "outputs": [],
   "execution_count": null
  },
  {
   "cell_type": "code",
   "metadata": {
    "tags": [],
    "cell_id": "00025-9e6867d5-7087-48a4-95d0-b1c22049caed",
    "deepnote_to_be_reexecuted": false,
    "source_hash": "39c3b10b",
    "execution_start": 1639864427505,
    "execution_millis": 76150,
    "deepnote_cell_type": "code"
   },
   "source": "provinces_2015_2019.dropna(inplace=True)",
   "outputs": [],
   "execution_count": null
  },
  {
   "cell_type": "code",
   "metadata": {
    "tags": [],
    "cell_id": "00026-323b1bb6-dd73-4a93-9b9e-8f4994de2d93",
    "deepnote_to_be_reexecuted": false,
    "source_hash": "8de21cd0",
    "execution_start": 1639864427547,
    "execution_millis": 76191,
    "deepnote_cell_type": "code"
   },
   "source": "provinces_2015_2019['death_per_1000'] = (provinces_2015_2019['total'] / provinces_2015_2019['poblacion']) * 1000",
   "outputs": [],
   "execution_count": null
  },
  {
   "cell_type": "code",
   "metadata": {
    "tags": [],
    "cell_id": "00027-6c76e4c3-2e5c-4d97-92f4-d82b6c334d49",
    "deepnote_to_be_reexecuted": false,
    "source_hash": "ad3ce83f",
    "execution_start": 1639864427548,
    "execution_millis": 363,
    "deepnote_output_heights": [
     264
    ],
    "deepnote_cell_type": "code"
   },
   "source": "provinces_2015_2019.describe()",
   "outputs": [
    {
     "output_type": "execute_result",
     "execution_count": 25,
     "data": {
      "application/vnd.deepnote.dataframe.v3+json": {
       "column_count": 3,
       "row_count": 8,
       "columns": [
        {
         "name": "total",
         "dtype": "float64",
         "stats": {
          "unique_count": 8,
          "nan_count": 0,
          "min": "24.0",
          "max": "19957.0",
          "histogram": [
           {
            "bin_start": 24,
            "bin_end": 2017.3,
            "count": 4
           },
           {
            "bin_start": 2017.3,
            "bin_end": 4010.6,
            "count": 2
           },
           {
            "bin_start": 4010.6,
            "bin_end": 6003.9,
            "count": 1
           },
           {
            "bin_start": 6003.9,
            "bin_end": 7997.2,
            "count": 0
           },
           {
            "bin_start": 7997.2,
            "bin_end": 9990.5,
            "count": 0
           },
           {
            "bin_start": 9990.5,
            "bin_end": 11983.8,
            "count": 0
           },
           {
            "bin_start": 11983.8,
            "bin_end": 13977.1,
            "count": 0
           },
           {
            "bin_start": 13977.1,
            "bin_end": 15970.4,
            "count": 0
           },
           {
            "bin_start": 15970.4,
            "bin_end": 17963.7,
            "count": 0
           },
           {
            "bin_start": 17963.7,
            "bin_end": 19957,
            "count": 1
           }
          ]
         }
        },
        {
         "name": "poblacion",
         "dtype": "float64",
         "stats": {
          "unique_count": 8,
          "nan_count": 0,
          "min": "24.0",
          "max": "4387434.0",
          "histogram": [
           {
            "bin_start": 24,
            "bin_end": 438765,
            "count": 3
           },
           {
            "bin_start": 438765,
            "bin_end": 877506,
            "count": 3
           },
           {
            "bin_start": 877506,
            "bin_end": 1316247,
            "count": 1
           },
           {
            "bin_start": 1316247,
            "bin_end": 1754988,
            "count": 0
           },
           {
            "bin_start": 1754988,
            "bin_end": 2193729,
            "count": 0
           },
           {
            "bin_start": 2193729,
            "bin_end": 2632470,
            "count": 0
           },
           {
            "bin_start": 2632470,
            "bin_end": 3071211,
            "count": 0
           },
           {
            "bin_start": 3071211,
            "bin_end": 3509952,
            "count": 0
           },
           {
            "bin_start": 3509952,
            "bin_end": 3948693,
            "count": 0
           },
           {
            "bin_start": 3948693,
            "bin_end": 4387434,
            "count": 1
           }
          ]
         }
        },
        {
         "name": "death_per_1000",
         "dtype": "float64",
         "stats": {
          "unique_count": 8,
          "nan_count": 0,
          "min": "0.9045870926119409",
          "max": "24.0",
          "histogram": [
           {
            "bin_start": 0.9045870926119409,
            "bin_end": 3.214128383350747,
            "count": 3
           },
           {
            "bin_start": 3.214128383350747,
            "bin_end": 5.523669674089552,
            "count": 4
           },
           {
            "bin_start": 5.523669674089552,
            "bin_end": 7.833210964828358,
            "count": 0
           },
           {
            "bin_start": 7.833210964828358,
            "bin_end": 10.142752255567164,
            "count": 0
           },
           {
            "bin_start": 10.142752255567164,
            "bin_end": 12.45229354630597,
            "count": 0
           },
           {
            "bin_start": 12.45229354630597,
            "bin_end": 14.761834837044775,
            "count": 0
           },
           {
            "bin_start": 14.761834837044775,
            "bin_end": 17.07137612778358,
            "count": 0
           },
           {
            "bin_start": 17.07137612778358,
            "bin_end": 19.380917418522387,
            "count": 0
           },
           {
            "bin_start": 19.380917418522387,
            "bin_end": 21.690458709261193,
            "count": 0
           },
           {
            "bin_start": 21.690458709261193,
            "bin_end": 24,
            "count": 1
           }
          ]
         }
        },
        {
         "name": "_deepnote_index_column",
         "dtype": "object"
        }
       ],
       "rows": [
        {
         "total": 24,
         "poblacion": 24,
         "death_per_1000": 24,
         "_deepnote_index_column": "count"
        },
        {
         "total": 2886.2083333333335,
         "poblacion": 727864,
         "death_per_1000": 3.3925639164959662,
         "_deepnote_index_column": "mean"
        },
        {
         "total": 4488.399472448433,
         "poblacion": 1021291.1797624229,
         "death_per_1000": 0.9045870926119409,
         "_deepnote_index_column": "std"
        },
        {
         "total": 44,
         "poblacion": 33042,
         "death_per_1000": 1.3316385206706616,
         "_deepnote_index_column": "min"
        },
        {
         "total": 549.75,
         "poblacion": 194118.5,
         "death_per_1000": 2.5571693883728495,
         "_deepnote_index_column": "25%"
        },
        {
         "total": 1597,
         "poblacion": 482486.5,
         "death_per_1000": 3.7212140867381054,
         "_deepnote_index_column": "50%"
        },
        {
         "total": 2716.5,
         "poblacion": 622250,
         "death_per_1000": 4.013302485328234,
         "_deepnote_index_column": "75%"
        },
        {
         "total": 19957,
         "poblacion": 4387434,
         "death_per_1000": 4.548672413077895,
         "_deepnote_index_column": "max"
        }
       ]
      },
      "text/plain": "              total     poblacion  death_per_1000\ncount     24.000000  2.400000e+01       24.000000\nmean    2886.208333  7.278640e+05        3.392564\nstd     4488.399472  1.021291e+06        0.904587\nmin       44.000000  3.304200e+04        1.331639\n25%      549.750000  1.941185e+05        2.557169\n50%     1597.000000  4.824865e+05        3.721214\n75%     2716.500000  6.222500e+05        4.013302\nmax    19957.000000  4.387434e+06        4.548672",
      "text/html": "<div>\n<style scoped>\n    .dataframe tbody tr th:only-of-type {\n        vertical-align: middle;\n    }\n\n    .dataframe tbody tr th {\n        vertical-align: top;\n    }\n\n    .dataframe thead th {\n        text-align: right;\n    }\n</style>\n<table border=\"1\" class=\"dataframe\">\n  <thead>\n    <tr style=\"text-align: right;\">\n      <th></th>\n      <th>total</th>\n      <th>poblacion</th>\n      <th>death_per_1000</th>\n    </tr>\n  </thead>\n  <tbody>\n    <tr>\n      <th>count</th>\n      <td>24.000000</td>\n      <td>2.400000e+01</td>\n      <td>24.000000</td>\n    </tr>\n    <tr>\n      <th>mean</th>\n      <td>2886.208333</td>\n      <td>7.278640e+05</td>\n      <td>3.392564</td>\n    </tr>\n    <tr>\n      <th>std</th>\n      <td>4488.399472</td>\n      <td>1.021291e+06</td>\n      <td>0.904587</td>\n    </tr>\n    <tr>\n      <th>min</th>\n      <td>44.000000</td>\n      <td>3.304200e+04</td>\n      <td>1.331639</td>\n    </tr>\n    <tr>\n      <th>25%</th>\n      <td>549.750000</td>\n      <td>1.941185e+05</td>\n      <td>2.557169</td>\n    </tr>\n    <tr>\n      <th>50%</th>\n      <td>1597.000000</td>\n      <td>4.824865e+05</td>\n      <td>3.721214</td>\n    </tr>\n    <tr>\n      <th>75%</th>\n      <td>2716.500000</td>\n      <td>6.222500e+05</td>\n      <td>4.013302</td>\n    </tr>\n    <tr>\n      <th>max</th>\n      <td>19957.000000</td>\n      <td>4.387434e+06</td>\n      <td>4.548672</td>\n    </tr>\n  </tbody>\n</table>\n</div>"
     },
     "metadata": {}
    }
   ],
   "execution_count": null
  },
  {
   "cell_type": "code",
   "metadata": {
    "tags": [],
    "cell_id": "00028-30cea544-cfc5-48f0-8631-5c458866bf14",
    "deepnote_to_be_reexecuted": false,
    "source_hash": "3977ce92",
    "execution_start": 1639864427639,
    "execution_millis": 3719,
    "deepnote_output_heights": [
     532.984375,
     532.984375
    ],
    "deepnote_cell_type": "code"
   },
   "source": "sns.pairplot(provinces_2015_2019)\nplt.show()",
   "outputs": [
    {
     "data": {
      "text/plain": "<Figure size 540x540 with 12 Axes>",
      "image/png": "[encoded data removed]"
     },
     "metadata": {
      "image/png": {
       "width": 531,
       "height": 531
      }
     },
     "output_type": "display_data"
    }
   ],
   "execution_count": null
  },
  {
   "cell_type": "markdown",
   "source": "### 2020 and 2021",
   "metadata": {
    "tags": [],
    "is_collapsed": false,
    "cell_id": "00019-55b732c7-16a9-4324-9405-0827c6be69c7",
    "deepnote_cell_type": "text-cell-h3"
   }
  },
  {
   "cell_type": "markdown",
   "source": "2020 and 2021 are the 'outliers'. Here we have a pandemic. So it's better to analyze those years apart.",
   "metadata": {
    "tags": [],
    "cell_id": "00025-321a0dfc-e07c-4a91-b030-3a54319badf7",
    "deepnote_cell_type": "markdown"
   }
  },
  {
   "cell_type": "code",
   "metadata": {
    "tags": [],
    "cell_id": "00019-de157b65-373f-4d1a-8ff8-f51d5b38c584",
    "deepnote_to_be_reexecuted": false,
    "source_hash": "b9c8934f",
    "execution_start": 1639864431375,
    "execution_millis": 12,
    "deepnote_cell_type": "code"
   },
   "source": "total_deaths_2020 = df_deaths_2020.groupby(['provincia'])[['total']].sum().sort_values(by=['total'], ascending=False)",
   "outputs": [],
   "execution_count": null
  },
  {
   "cell_type": "code",
   "metadata": {
    "tags": [],
    "cell_id": "00020-56cba8d7-a625-4a6b-9c18-bd2c1a32607d",
    "deepnote_to_be_reexecuted": false,
    "source_hash": "9dd36c11",
    "execution_start": 1639864431409,
    "execution_millis": 76364,
    "deepnote_cell_type": "code"
   },
   "source": "total_deaths_2021 = df_deaths_2021.groupby(['provincia'])[['total']].sum().sort_values(by=['total'], ascending=False)",
   "outputs": [],
   "execution_count": null
  },
  {
   "cell_type": "code",
   "metadata": {
    "tags": [],
    "cell_id": "00023-9968025c-4dc1-4370-a126-0ef8f6b7fa3a",
    "deepnote_to_be_reexecuted": false,
    "source_hash": "dff32116",
    "execution_start": 1639864431463,
    "execution_millis": 76348,
    "deepnote_cell_type": "code"
   },
   "source": "#Population is the same for 2020 and 2021 and the previous years (2015-2019)\npopulation_province = df_deaths_2020.groupby('provincia')[['poblacion']].max()",
   "outputs": [],
   "execution_count": null
  },
  {
   "cell_type": "code",
   "metadata": {
    "tags": [],
    "cell_id": "00023-130df424-fc57-457a-8f0a-dc0268688ceb",
    "deepnote_to_be_reexecuted": false,
    "source_hash": "4f6977f4",
    "execution_start": 1639864431463,
    "execution_millis": 1,
    "deepnote_cell_type": "code"
   },
   "source": "provinces_2020 = total_deaths_2020.join(population_province, how='outer')",
   "outputs": [],
   "execution_count": null
  },
  {
   "cell_type": "code",
   "metadata": {
    "tags": [],
    "cell_id": "00024-cb185fe1-b489-47f2-92bb-c3ce62a87b64",
    "deepnote_to_be_reexecuted": false,
    "source_hash": "3204c01f",
    "execution_start": 1639864431464,
    "execution_millis": 42,
    "deepnote_cell_type": "code"
   },
   "source": "provinces_2020['death_per_1000'] = (provinces_2020['total'] / provinces_2020['poblacion']) * 1000",
   "outputs": [],
   "execution_count": null
  },
  {
   "cell_type": "code",
   "metadata": {
    "tags": [],
    "cell_id": "00025-a81762b0-4ed4-4a67-8147-eb3ec8ff64b4",
    "deepnote_to_be_reexecuted": false,
    "source_hash": "e33cd165",
    "execution_start": 1639864431546,
    "execution_millis": 12,
    "deepnote_output_heights": [
     611
    ],
    "deepnote_cell_type": "code"
   },
   "source": "provinces_2020",
   "outputs": [
    {
     "output_type": "execute_result",
     "execution_count": 32,
     "data": {
      "application/vnd.deepnote.dataframe.v3+json": {
       "column_count": 3,
       "row_count": 24,
       "columns": [
        {
         "name": "total",
         "dtype": "int64",
         "stats": {
          "unique_count": 24,
          "nan_count": 0,
          "min": "51",
          "max": "38668",
          "histogram": [
           {
            "bin_start": 51,
            "bin_end": 3912.7,
            "count": 17
           },
           {
            "bin_start": 3912.7,
            "bin_end": 7774.4,
            "count": 4
           },
           {
            "bin_start": 7774.4,
            "bin_end": 11636.099999999999,
            "count": 1
           },
           {
            "bin_start": 11636.099999999999,
            "bin_end": 15497.8,
            "count": 0
           },
           {
            "bin_start": 15497.8,
            "bin_end": 19359.5,
            "count": 0
           },
           {
            "bin_start": 19359.5,
            "bin_end": 23221.199999999997,
            "count": 1
           },
           {
            "bin_start": 23221.199999999997,
            "bin_end": 27082.899999999998,
            "count": 0
           },
           {
            "bin_start": 27082.899999999998,
            "bin_end": 30944.6,
            "count": 0
           },
           {
            "bin_start": 30944.6,
            "bin_end": 34806.299999999996,
            "count": 0
           },
           {
            "bin_start": 34806.299999999996,
            "bin_end": 38668,
            "count": 1
           }
          ]
         }
        },
        {
         "name": "poblacion",
         "dtype": "float64",
         "stats": {
          "unique_count": 24,
          "nan_count": 0,
          "min": "33042.0",
          "max": "4387434.0",
          "histogram": [
           {
            "bin_start": 33042,
            "bin_end": 468481.2,
            "count": 11
           },
           {
            "bin_start": 468481.2,
            "bin_end": 903920.4,
            "count": 9
           },
           {
            "bin_start": 903920.4,
            "bin_end": 1339359.6,
            "count": 1
           },
           {
            "bin_start": 1339359.6,
            "bin_end": 1774798.8,
            "count": 1
           },
           {
            "bin_start": 1774798.8,
            "bin_end": 2210238,
            "count": 0
           },
           {
            "bin_start": 2210238,
            "bin_end": 2645677.2,
            "count": 0
           },
           {
            "bin_start": 2645677.2,
            "bin_end": 3081116.4,
            "count": 0
           },
           {
            "bin_start": 3081116.4,
            "bin_end": 3516555.6,
            "count": 1
           },
           {
            "bin_start": 3516555.6,
            "bin_end": 3951994.8000000003,
            "count": 0
           },
           {
            "bin_start": 3951994.8000000003,
            "bin_end": 4387434,
            "count": 1
           }
          ]
         }
        },
        {
         "name": "death_per_1000",
         "dtype": "float64",
         "stats": {
          "unique_count": 24,
          "nan_count": 0,
          "min": "1.5434901035046305",
          "max": "8.813351950137598",
          "histogram": [
           {
            "bin_start": 1.5434901035046305,
            "bin_end": 2.2704762881679272,
            "count": 1
           },
           {
            "bin_start": 2.2704762881679272,
            "bin_end": 2.9974624728312236,
            "count": 0
           },
           {
            "bin_start": 2.9974624728312236,
            "bin_end": 3.7244486574945204,
            "count": 4
           },
           {
            "bin_start": 3.7244486574945204,
            "bin_end": 4.451434842157817,
            "count": 3
           },
           {
            "bin_start": 4.451434842157817,
            "bin_end": 5.178421026821114,
            "count": 0
           },
           {
            "bin_start": 5.178421026821114,
            "bin_end": 5.905407211484411,
            "count": 8
           },
           {
            "bin_start": 5.905407211484411,
            "bin_end": 6.632393396147707,
            "count": 3
           },
           {
            "bin_start": 6.632393396147707,
            "bin_end": 7.359379580811003,
            "count": 3
           },
           {
            "bin_start": 7.359379580811003,
            "bin_end": 8.0863657654743,
            "count": 1
           },
           {
            "bin_start": 8.0863657654743,
            "bin_end": 8.813351950137598,
            "count": 1
           }
          ]
         }
        },
        {
         "name": "_deepnote_index_column",
         "dtype": "object"
        }
       ],
       "rows": [
        {
         "total": 5184,
         "poblacion": 881394,
         "death_per_1000": 5.881592114309832,
         "_deepnote_index_column": "Azuay"
        },
        {
         "total": 1112,
         "poblacion": 209933,
         "death_per_1000": 5.296928067526306,
         "_deepnote_index_column": "Bolívar"
        },
        {
         "total": 978,
         "poblacion": 186869,
         "death_per_1000": 5.23361285178387,
         "_deepnote_index_column": "Carchi"
        },
        {
         "total": 1529,
         "poblacion": 281396,
         "death_per_1000": 5.433623789961477,
         "_deepnote_index_column": "Cañar"
        },
        {
         "total": 3429,
         "poblacion": 524004,
         "death_per_1000": 6.543843176769643,
         "_deepnote_index_column": "Chimborazo"
        },
        {
         "total": 2564,
         "poblacion": 488716,
         "death_per_1000": 5.246400772636869,
         "_deepnote_index_column": "Cotopaxi"
        },
        {
         "total": 5039,
         "poblacion": 715751,
         "death_per_1000": 7.040157820247544,
         "_deepnote_index_column": "El Oro"
        },
        {
         "total": 2298,
         "poblacion": 591083,
         "death_per_1000": 3.8877788736945575,
         "_deepnote_index_column": "Esmeraldas"
        },
        {
         "total": 51,
         "poblacion": 33042,
         "death_per_1000": 1.5434901035046305,
         "_deepnote_index_column": "Galápagos"
        },
        {
         "total": 38668,
         "poblacion": 4387434,
         "death_per_1000": 8.813351950137598,
         "_deepnote_index_column": "Guayas"
        }
       ]
      },
      "text/plain": "                        total  poblacion  death_per_1000\nprovincia                                               \nAzuay                    5184   881394.0        5.881592\nBolívar                  1112   209933.0        5.296928\nCarchi                    978   186869.0        5.233613\nCañar                    1529   281396.0        5.433624\nChimborazo               3429   524004.0        6.543843\nCotopaxi                 2564   488716.0        5.246401\nEl Oro                   5039   715751.0        7.040158\nEsmeraldas               2298   591083.0        3.887779\nGalápagos                  51    33042.0        1.543490\nGuayas                  38668  4387434.0        8.813352\nImbabura                 2710   476257.0        5.690205\nLoja                     2941   521154.0        5.643246\nLos Ríos                 5198   921763.0        5.639194\nManabí                  10558  1562079.0        6.758941\nMorona Santiago           661   196535.0        3.363269\nNapo                      558   133705.0        4.173367\nOrellana                  581   161338.0        3.601136\nPastaza                   421   114202.0        3.686450\nPichincha               19661  3228233.0        6.090329\nSanta Elena              3030   401178.0        7.552757\nSto. Domingo Tsáchilas   3185   511151.0        6.231035\nSucumbíos                 935   230503.0        4.056346\nTungurahua               4145   590600.0        7.018286\nZamora Chinchipe          376   120416.0        3.122509",
      "text/html": "<div>\n<style scoped>\n    .dataframe tbody tr th:only-of-type {\n        vertical-align: middle;\n    }\n\n    .dataframe tbody tr th {\n        vertical-align: top;\n    }\n\n    .dataframe thead th {\n        text-align: right;\n    }\n</style>\n<table border=\"1\" class=\"dataframe\">\n  <thead>\n    <tr style=\"text-align: right;\">\n      <th></th>\n      <th>total</th>\n      <th>poblacion</th>\n      <th>death_per_1000</th>\n    </tr>\n    <tr>\n      <th>provincia</th>\n      <th></th>\n      <th></th>\n      <th></th>\n    </tr>\n  </thead>\n  <tbody>\n    <tr>\n      <th>Azuay</th>\n      <td>5184</td>\n      <td>881394.0</td>\n      <td>5.881592</td>\n    </tr>\n    <tr>\n      <th>Bolívar</th>\n      <td>1112</td>\n      <td>209933.0</td>\n      <td>5.296928</td>\n    </tr>\n    <tr>\n      <th>Carchi</th>\n      <td>978</td>\n      <td>186869.0</td>\n      <td>5.233613</td>\n    </tr>\n    <tr>\n      <th>Cañar</th>\n      <td>1529</td>\n      <td>281396.0</td>\n      <td>5.433624</td>\n    </tr>\n    <tr>\n      <th>Chimborazo</th>\n      <td>3429</td>\n      <td>524004.0</td>\n      <td>6.543843</td>\n    </tr>\n    <tr>\n      <th>Cotopaxi</th>\n      <td>2564</td>\n      <td>488716.0</td>\n      <td>5.246401</td>\n    </tr>\n    <tr>\n      <th>El Oro</th>\n      <td>5039</td>\n      <td>715751.0</td>\n      <td>7.040158</td>\n    </tr>\n    <tr>\n      <th>Esmeraldas</th>\n      <td>2298</td>\n      <td>591083.0</td>\n      <td>3.887779</td>\n    </tr>\n    <tr>\n      <th>Galápagos</th>\n      <td>51</td>\n      <td>33042.0</td>\n      <td>1.543490</td>\n    </tr>\n    <tr>\n      <th>Guayas</th>\n      <td>38668</td>\n      <td>4387434.0</td>\n      <td>8.813352</td>\n    </tr>\n    <tr>\n      <th>Imbabura</th>\n      <td>2710</td>\n      <td>476257.0</td>\n      <td>5.690205</td>\n    </tr>\n    <tr>\n      <th>Loja</th>\n      <td>2941</td>\n      <td>521154.0</td>\n      <td>5.643246</td>\n    </tr>\n    <tr>\n      <th>Los Ríos</th>\n      <td>5198</td>\n      <td>921763.0</td>\n      <td>5.639194</td>\n    </tr>\n    <tr>\n      <th>Manabí</th>\n      <td>10558</td>\n      <td>1562079.0</td>\n      <td>6.758941</td>\n    </tr>\n    <tr>\n      <th>Morona Santiago</th>\n      <td>661</td>\n      <td>196535.0</td>\n      <td>3.363269</td>\n    </tr>\n    <tr>\n      <th>Napo</th>\n      <td>558</td>\n      <td>133705.0</td>\n      <td>4.173367</td>\n    </tr>\n    <tr>\n      <th>Orellana</th>\n      <td>581</td>\n      <td>161338.0</td>\n      <td>3.601136</td>\n    </tr>\n    <tr>\n      <th>Pastaza</th>\n      <td>421</td>\n      <td>114202.0</td>\n      <td>3.686450</td>\n    </tr>\n    <tr>\n      <th>Pichincha</th>\n      <td>19661</td>\n      <td>3228233.0</td>\n      <td>6.090329</td>\n    </tr>\n    <tr>\n      <th>Santa Elena</th>\n      <td>3030</td>\n      <td>401178.0</td>\n      <td>7.552757</td>\n    </tr>\n    <tr>\n      <th>Sto. Domingo Tsáchilas</th>\n      <td>3185</td>\n      <td>511151.0</td>\n      <td>6.231035</td>\n    </tr>\n    <tr>\n      <th>Sucumbíos</th>\n      <td>935</td>\n      <td>230503.0</td>\n      <td>4.056346</td>\n    </tr>\n    <tr>\n      <th>Tungurahua</th>\n      <td>4145</td>\n      <td>590600.0</td>\n      <td>7.018286</td>\n    </tr>\n    <tr>\n      <th>Zamora Chinchipe</th>\n      <td>376</td>\n      <td>120416.0</td>\n      <td>3.122509</td>\n    </tr>\n  </tbody>\n</table>\n</div>"
     },
     "metadata": {}
    }
   ],
   "execution_count": null
  },
  {
   "cell_type": "code",
   "metadata": {
    "tags": [],
    "cell_id": "00030-14acdffc-758b-4a63-a114-4f8c69f9e38f",
    "deepnote_to_be_reexecuted": false,
    "source_hash": "8a05423b",
    "execution_start": 1639864431651,
    "execution_millis": 17,
    "deepnote_output_heights": [
     264
    ],
    "deepnote_cell_type": "code"
   },
   "source": "provinces_2020.describe()",
   "outputs": [
    {
     "output_type": "execute_result",
     "execution_count": 33,
     "data": {
      "application/vnd.deepnote.dataframe.v3+json": {
       "column_count": 3,
       "row_count": 8,
       "columns": [
        {
         "name": "total",
         "dtype": "float64",
         "stats": {
          "unique_count": 8,
          "nan_count": 0,
          "min": "24.0",
          "max": "38668.0",
          "histogram": [
           {
            "bin_start": 24,
            "bin_end": 3888.4,
            "count": 4
           },
           {
            "bin_start": 3888.4,
            "bin_end": 7752.8,
            "count": 2
           },
           {
            "bin_start": 7752.8,
            "bin_end": 11617.2,
            "count": 1
           },
           {
            "bin_start": 11617.2,
            "bin_end": 15481.6,
            "count": 0
           },
           {
            "bin_start": 15481.6,
            "bin_end": 19346,
            "count": 0
           },
           {
            "bin_start": 19346,
            "bin_end": 23210.4,
            "count": 0
           },
           {
            "bin_start": 23210.4,
            "bin_end": 27074.8,
            "count": 0
           },
           {
            "bin_start": 27074.8,
            "bin_end": 30939.2,
            "count": 0
           },
           {
            "bin_start": 30939.2,
            "bin_end": 34803.6,
            "count": 0
           },
           {
            "bin_start": 34803.6,
            "bin_end": 38668,
            "count": 1
           }
          ]
         }
        },
        {
         "name": "poblacion",
         "dtype": "float64",
         "stats": {
          "unique_count": 8,
          "nan_count": 0,
          "min": "24.0",
          "max": "4387434.0",
          "histogram": [
           {
            "bin_start": 24,
            "bin_end": 438765,
            "count": 3
           },
           {
            "bin_start": 438765,
            "bin_end": 877506,
            "count": 3
           },
           {
            "bin_start": 877506,
            "bin_end": 1316247,
            "count": 1
           },
           {
            "bin_start": 1316247,
            "bin_end": 1754988,
            "count": 0
           },
           {
            "bin_start": 1754988,
            "bin_end": 2193729,
            "count": 0
           },
           {
            "bin_start": 2193729,
            "bin_end": 2632470,
            "count": 0
           },
           {
            "bin_start": 2632470,
            "bin_end": 3071211,
            "count": 0
           },
           {
            "bin_start": 3071211,
            "bin_end": 3509952,
            "count": 0
           },
           {
            "bin_start": 3509952,
            "bin_end": 3948693,
            "count": 0
           },
           {
            "bin_start": 3948693,
            "bin_end": 4387434,
            "count": 1
           }
          ]
         }
        },
        {
         "name": "death_per_1000",
         "dtype": "float64",
         "stats": {
          "unique_count": 8,
          "nan_count": 0,
          "min": "1.5434901035046305",
          "max": "24.0",
          "histogram": [
           {
            "bin_start": 1.5434901035046305,
            "bin_end": 3.7891410931541674,
            "count": 2
           },
           {
            "bin_start": 3.7891410931541674,
            "bin_end": 6.034792082803705,
            "count": 3
           },
           {
            "bin_start": 6.034792082803705,
            "bin_end": 8.280443072453242,
            "count": 1
           },
           {
            "bin_start": 8.280443072453242,
            "bin_end": 10.526094062102779,
            "count": 1
           },
           {
            "bin_start": 10.526094062102779,
            "bin_end": 12.771745051752315,
            "count": 0
           },
           {
            "bin_start": 12.771745051752315,
            "bin_end": 15.017396041401852,
            "count": 0
           },
           {
            "bin_start": 15.017396041401852,
            "bin_end": 17.26304703105139,
            "count": 0
           },
           {
            "bin_start": 17.26304703105139,
            "bin_end": 19.508698020700926,
            "count": 0
           },
           {
            "bin_start": 19.508698020700926,
            "bin_end": 21.754349010350463,
            "count": 0
           },
           {
            "bin_start": 21.754349010350463,
            "bin_end": 24,
            "count": 1
           }
          ]
         }
        },
        {
         "name": "_deepnote_index_column",
         "dtype": "object"
        }
       ],
       "rows": [
        {
         "total": 24,
         "poblacion": 24,
         "death_per_1000": 24,
         "_deepnote_index_column": "count"
        },
        {
         "total": 4825.5,
         "poblacion": 727864,
         "death_per_1000": 5.314493699785359,
         "_deepnote_index_column": "mean"
        },
        {
         "total": 8331.7076750573,
         "poblacion": 1021291.1797624229,
         "death_per_1000": 1.6446697894071374,
         "_deepnote_index_column": "std"
        },
        {
         "total": 51,
         "poblacion": 33042,
         "death_per_1000": 1.5434901035046305,
         "_deepnote_index_column": "min"
        },
        {
         "total": 866.5,
         "poblacion": 194118.5,
         "death_per_1000": 4.014204472092789,
         "_deepnote_index_column": "25%"
        },
        {
         "total": 2637,
         "poblacion": 482486.5,
         "death_per_1000": 5.536408689384507,
         "_deepnote_index_column": "50%"
        },
        {
         "total": 4368.5,
         "poblacion": 622250,
         "death_per_1000": 6.3092373797806225,
         "_deepnote_index_column": "75%"
        },
        {
         "total": 38668,
         "poblacion": 4387434,
         "death_per_1000": 8.813351950137598,
         "_deepnote_index_column": "max"
        }
       ]
      },
      "text/plain": "              total     poblacion  death_per_1000\ncount     24.000000  2.400000e+01       24.000000\nmean    4825.500000  7.278640e+05        5.314494\nstd     8331.707675  1.021291e+06        1.644670\nmin       51.000000  3.304200e+04        1.543490\n25%      866.500000  1.941185e+05        4.014204\n50%     2637.000000  4.824865e+05        5.536409\n75%     4368.500000  6.222500e+05        6.309237\nmax    38668.000000  4.387434e+06        8.813352",
      "text/html": "<div>\n<style scoped>\n    .dataframe tbody tr th:only-of-type {\n        vertical-align: middle;\n    }\n\n    .dataframe tbody tr th {\n        vertical-align: top;\n    }\n\n    .dataframe thead th {\n        text-align: right;\n    }\n</style>\n<table border=\"1\" class=\"dataframe\">\n  <thead>\n    <tr style=\"text-align: right;\">\n      <th></th>\n      <th>total</th>\n      <th>poblacion</th>\n      <th>death_per_1000</th>\n    </tr>\n  </thead>\n  <tbody>\n    <tr>\n      <th>count</th>\n      <td>24.000000</td>\n      <td>2.400000e+01</td>\n      <td>24.000000</td>\n    </tr>\n    <tr>\n      <th>mean</th>\n      <td>4825.500000</td>\n      <td>7.278640e+05</td>\n      <td>5.314494</td>\n    </tr>\n    <tr>\n      <th>std</th>\n      <td>8331.707675</td>\n      <td>1.021291e+06</td>\n      <td>1.644670</td>\n    </tr>\n    <tr>\n      <th>min</th>\n      <td>51.000000</td>\n      <td>3.304200e+04</td>\n      <td>1.543490</td>\n    </tr>\n    <tr>\n      <th>25%</th>\n      <td>866.500000</td>\n      <td>1.941185e+05</td>\n      <td>4.014204</td>\n    </tr>\n    <tr>\n      <th>50%</th>\n      <td>2637.000000</td>\n      <td>4.824865e+05</td>\n      <td>5.536409</td>\n    </tr>\n    <tr>\n      <th>75%</th>\n      <td>4368.500000</td>\n      <td>6.222500e+05</td>\n      <td>6.309237</td>\n    </tr>\n    <tr>\n      <th>max</th>\n      <td>38668.000000</td>\n      <td>4.387434e+06</td>\n      <td>8.813352</td>\n    </tr>\n  </tbody>\n</table>\n</div>"
     },
     "metadata": {}
    }
   ],
   "execution_count": null
  },
  {
   "cell_type": "code",
   "metadata": {
    "tags": [],
    "cell_id": "00037-b21f6e80-670e-4c12-b6e1-217ebf5941e9",
    "deepnote_to_be_reexecuted": false,
    "source_hash": "fc3ce149",
    "execution_start": 1639864431710,
    "execution_millis": 4075,
    "deepnote_output_heights": [
     532.984375,
     532.984375
    ],
    "deepnote_cell_type": "code"
   },
   "source": "sns.pairplot(provinces_2020)\nplt.show()",
   "outputs": [
    {
     "data": {
      "text/plain": "<Figure size 540x540 with 12 Axes>",
      "image/png": "[encoded data removed]"
     },
     "metadata": {
      "image/png": {
       "width": 531,
       "height": 531
      }
     },
     "output_type": "display_data"
    }
   ],
   "execution_count": null
  },
  {
   "cell_type": "markdown",
   "source": "****",
   "metadata": {
    "tags": [],
    "cell_id": "00024-ad984895-e72d-40c3-9e57-4690f7ef2f69",
    "deepnote_cell_type": "markdown"
   }
  },
  {
   "cell_type": "code",
   "metadata": {
    "tags": [],
    "cell_id": "00024-a2b45273-f065-4e7d-b42d-1b5d815dae61",
    "deepnote_to_be_reexecuted": false,
    "source_hash": "3854dfd3",
    "execution_start": 1639864435842,
    "execution_millis": 1,
    "deepnote_cell_type": "code"
   },
   "source": "provinces_2021 = total_deaths_2021.join(population_province, how='outer')",
   "outputs": [],
   "execution_count": null
  },
  {
   "cell_type": "code",
   "metadata": {
    "tags": [],
    "cell_id": "00028-02458331-1f5e-48a6-ba66-60059a414bf9",
    "deepnote_to_be_reexecuted": false,
    "source_hash": "e2a08074",
    "execution_start": 1639864435843,
    "execution_millis": 0,
    "deepnote_cell_type": "code"
   },
   "source": "provinces_2021['death_per_1000'] = (provinces_2021['total'] / provinces_2021['poblacion']) * 1000",
   "outputs": [],
   "execution_count": null
  },
  {
   "cell_type": "code",
   "metadata": {
    "tags": [],
    "cell_id": "00027-e2661a3a-02c5-4aa6-a1c3-fad9d0dccde6",
    "deepnote_to_be_reexecuted": false,
    "source_hash": "ff674b57",
    "execution_start": 1639864435882,
    "execution_millis": 40,
    "deepnote_output_heights": [
     611
    ],
    "deepnote_cell_type": "code"
   },
   "source": "provinces_2021",
   "outputs": [
    {
     "output_type": "execute_result",
     "execution_count": 37,
     "data": {
      "application/vnd.deepnote.dataframe.v3+json": {
       "column_count": 3,
       "row_count": 24,
       "columns": [
        {
         "name": "total",
         "dtype": "int64",
         "stats": {
          "unique_count": 24,
          "nan_count": 0,
          "min": "67",
          "max": "26062",
          "histogram": [
           {
            "bin_start": 67,
            "bin_end": 2666.5,
            "count": 14
           },
           {
            "bin_start": 2666.5,
            "bin_end": 5266,
            "count": 7
           },
           {
            "bin_start": 5266,
            "bin_end": 7865.5,
            "count": 0
           },
           {
            "bin_start": 7865.5,
            "bin_end": 10465,
            "count": 1
           },
           {
            "bin_start": 10465,
            "bin_end": 13064.5,
            "count": 0
           },
           {
            "bin_start": 13064.5,
            "bin_end": 15664,
            "count": 0
           },
           {
            "bin_start": 15664,
            "bin_end": 18263.5,
            "count": 1
           },
           {
            "bin_start": 18263.5,
            "bin_end": 20863,
            "count": 0
           },
           {
            "bin_start": 20863,
            "bin_end": 23462.5,
            "count": 0
           },
           {
            "bin_start": 23462.5,
            "bin_end": 26062,
            "count": 1
           }
          ]
         }
        },
        {
         "name": "poblacion",
         "dtype": "float64",
         "stats": {
          "unique_count": 24,
          "nan_count": 0,
          "min": "33042.0",
          "max": "4387434.0",
          "histogram": [
           {
            "bin_start": 33042,
            "bin_end": 468481.2,
            "count": 11
           },
           {
            "bin_start": 468481.2,
            "bin_end": 903920.4,
            "count": 9
           },
           {
            "bin_start": 903920.4,
            "bin_end": 1339359.6,
            "count": 1
           },
           {
            "bin_start": 1339359.6,
            "bin_end": 1774798.8,
            "count": 1
           },
           {
            "bin_start": 1774798.8,
            "bin_end": 2210238,
            "count": 0
           },
           {
            "bin_start": 2210238,
            "bin_end": 2645677.2,
            "count": 0
           },
           {
            "bin_start": 2645677.2,
            "bin_end": 3081116.4,
            "count": 0
           },
           {
            "bin_start": 3081116.4,
            "bin_end": 3516555.6,
            "count": 1
           },
           {
            "bin_start": 3516555.6,
            "bin_end": 3951994.8000000003,
            "count": 0
           },
           {
            "bin_start": 3951994.8000000003,
            "bin_end": 4387434,
            "count": 1
           }
          ]
         }
        },
        {
         "name": "death_per_1000",
         "dtype": "float64",
         "stats": {
          "unique_count": 24,
          "nan_count": 0,
          "min": "2.0277222928394165",
          "max": "6.307145275990518",
          "histogram": [
           {
            "bin_start": 2.0277222928394165,
            "bin_end": 2.4556645911545267,
            "count": 1
           },
           {
            "bin_start": 2.4556645911545267,
            "bin_end": 2.883606889469637,
            "count": 1
           },
           {
            "bin_start": 2.883606889469637,
            "bin_end": 3.3115491877847467,
            "count": 2
           },
           {
            "bin_start": 3.3115491877847467,
            "bin_end": 3.739491486099857,
            "count": 4
           },
           {
            "bin_start": 3.739491486099857,
            "bin_end": 4.167433784414968,
            "count": 1
           },
           {
            "bin_start": 4.167433784414968,
            "bin_end": 4.595376082730077,
            "count": 0
           },
           {
            "bin_start": 4.595376082730077,
            "bin_end": 5.023318381045187,
            "count": 3
           },
           {
            "bin_start": 5.023318381045187,
            "bin_end": 5.451260679360297,
            "count": 4
           },
           {
            "bin_start": 5.451260679360297,
            "bin_end": 5.879202977675408,
            "count": 4
           },
           {
            "bin_start": 5.879202977675408,
            "bin_end": 6.307145275990518,
            "count": 4
           }
          ]
         }
        },
        {
         "name": "_deepnote_index_column",
         "dtype": "object"
        }
       ],
       "rows": [
        {
         "total": 4896,
         "poblacion": 881394,
         "death_per_1000": 5.554836996848175,
         "_deepnote_index_column": "Azuay"
        },
        {
         "total": 1046,
         "poblacion": 209933,
         "death_per_1000": 4.982542049129961,
         "_deepnote_index_column": "Bolívar"
        },
        {
         "total": 980,
         "poblacion": 186869,
         "death_per_1000": 5.244315536552344,
         "_deepnote_index_column": "Carchi"
        },
        {
         "total": 1328,
         "poblacion": 281396,
         "death_per_1000": 4.719327922216379,
         "_deepnote_index_column": "Cañar"
        },
        {
         "total": 2899,
         "poblacion": 524004,
         "death_per_1000": 5.532400516026596,
         "_deepnote_index_column": "Chimborazo"
        },
        {
         "total": 2446,
         "poblacion": 488716,
         "death_per_1000": 5.004951751119259,
         "_deepnote_index_column": "Cotopaxi"
        },
        {
         "total": 4412,
         "poblacion": 715751,
         "death_per_1000": 6.164154852735099,
         "_deepnote_index_column": "El Oro"
        },
        {
         "total": 2097,
         "poblacion": 591083,
         "death_per_1000": 3.547725107979759,
         "_deepnote_index_column": "Esmeraldas"
        },
        {
         "total": 67,
         "poblacion": 33042,
         "death_per_1000": 2.0277222928394165,
         "_deepnote_index_column": "Galápagos"
        },
        {
         "total": 26062,
         "poblacion": 4387434,
         "death_per_1000": 5.940146336104429,
         "_deepnote_index_column": "Guayas"
        }
       ]
      },
      "text/plain": "                        total  poblacion  death_per_1000\nprovincia                                               \nAzuay                    4896   881394.0        5.554837\nBolívar                  1046   209933.0        4.982542\nCarchi                    980   186869.0        5.244316\nCañar                    1328   281396.0        4.719328\nChimborazo               2899   524004.0        5.532401\nCotopaxi                 2446   488716.0        5.004952\nEl Oro                   4412   715751.0        6.164155\nEsmeraldas               2097   591083.0        3.547725\nGalápagos                  67    33042.0        2.027722\nGuayas                  26062  4387434.0        5.940146\nImbabura                 2580   476257.0        5.417243\nLoja                     3096   521154.0        5.940662\nLos Ríos                 4727   921763.0        5.128216\nManabí                   8169  1562079.0        5.229569\nMorona Santiago           524   196535.0        2.666192\nNapo                      487   133705.0        3.642347\nOrellana                  513   161338.0        3.179660\nPastaza                   401   114202.0        3.511322\nPichincha               17684  3228233.0        5.477919\nSanta Elena              1629   401178.0        4.060542\nSto. Domingo Tsáchilas   2791   511151.0        5.460226\nSucumbíos                 839   230503.0        3.639866\nTungurahua               3725   590600.0        6.307145\nZamora Chinchipe          377   120416.0        3.130813",
      "text/html": "<div>\n<style scoped>\n    .dataframe tbody tr th:only-of-type {\n        vertical-align: middle;\n    }\n\n    .dataframe tbody tr th {\n        vertical-align: top;\n    }\n\n    .dataframe thead th {\n        text-align: right;\n    }\n</style>\n<table border=\"1\" class=\"dataframe\">\n  <thead>\n    <tr style=\"text-align: right;\">\n      <th></th>\n      <th>total</th>\n      <th>poblacion</th>\n      <th>death_per_1000</th>\n    </tr>\n    <tr>\n      <th>provincia</th>\n      <th></th>\n      <th></th>\n      <th></th>\n    </tr>\n  </thead>\n  <tbody>\n    <tr>\n      <th>Azuay</th>\n      <td>4896</td>\n      <td>881394.0</td>\n      <td>5.554837</td>\n    </tr>\n    <tr>\n      <th>Bolívar</th>\n      <td>1046</td>\n      <td>209933.0</td>\n      <td>4.982542</td>\n    </tr>\n    <tr>\n      <th>Carchi</th>\n      <td>980</td>\n      <td>186869.0</td>\n      <td>5.244316</td>\n    </tr>\n    <tr>\n      <th>Cañar</th>\n      <td>1328</td>\n      <td>281396.0</td>\n      <td>4.719328</td>\n    </tr>\n    <tr>\n      <th>Chimborazo</th>\n      <td>2899</td>\n      <td>524004.0</td>\n      <td>5.532401</td>\n    </tr>\n    <tr>\n      <th>Cotopaxi</th>\n      <td>2446</td>\n      <td>488716.0</td>\n      <td>5.004952</td>\n    </tr>\n    <tr>\n      <th>El Oro</th>\n      <td>4412</td>\n      <td>715751.0</td>\n      <td>6.164155</td>\n    </tr>\n    <tr>\n      <th>Esmeraldas</th>\n      <td>2097</td>\n      <td>591083.0</td>\n      <td>3.547725</td>\n    </tr>\n    <tr>\n      <th>Galápagos</th>\n      <td>67</td>\n      <td>33042.0</td>\n      <td>2.027722</td>\n    </tr>\n    <tr>\n      <th>Guayas</th>\n      <td>26062</td>\n      <td>4387434.0</td>\n      <td>5.940146</td>\n    </tr>\n    <tr>\n      <th>Imbabura</th>\n      <td>2580</td>\n      <td>476257.0</td>\n      <td>5.417243</td>\n    </tr>\n    <tr>\n      <th>Loja</th>\n      <td>3096</td>\n      <td>521154.0</td>\n      <td>5.940662</td>\n    </tr>\n    <tr>\n      <th>Los Ríos</th>\n      <td>4727</td>\n      <td>921763.0</td>\n      <td>5.128216</td>\n    </tr>\n    <tr>\n      <th>Manabí</th>\n      <td>8169</td>\n      <td>1562079.0</td>\n      <td>5.229569</td>\n    </tr>\n    <tr>\n      <th>Morona Santiago</th>\n      <td>524</td>\n      <td>196535.0</td>\n      <td>2.666192</td>\n    </tr>\n    <tr>\n      <th>Napo</th>\n      <td>487</td>\n      <td>133705.0</td>\n      <td>3.642347</td>\n    </tr>\n    <tr>\n      <th>Orellana</th>\n      <td>513</td>\n      <td>161338.0</td>\n      <td>3.179660</td>\n    </tr>\n    <tr>\n      <th>Pastaza</th>\n      <td>401</td>\n      <td>114202.0</td>\n      <td>3.511322</td>\n    </tr>\n    <tr>\n      <th>Pichincha</th>\n      <td>17684</td>\n      <td>3228233.0</td>\n      <td>5.477919</td>\n    </tr>\n    <tr>\n      <th>Santa Elena</th>\n      <td>1629</td>\n      <td>401178.0</td>\n      <td>4.060542</td>\n    </tr>\n    <tr>\n      <th>Sto. Domingo Tsáchilas</th>\n      <td>2791</td>\n      <td>511151.0</td>\n      <td>5.460226</td>\n    </tr>\n    <tr>\n      <th>Sucumbíos</th>\n      <td>839</td>\n      <td>230503.0</td>\n      <td>3.639866</td>\n    </tr>\n    <tr>\n      <th>Tungurahua</th>\n      <td>3725</td>\n      <td>590600.0</td>\n      <td>6.307145</td>\n    </tr>\n    <tr>\n      <th>Zamora Chinchipe</th>\n      <td>377</td>\n      <td>120416.0</td>\n      <td>3.130813</td>\n    </tr>\n  </tbody>\n</table>\n</div>"
     },
     "metadata": {}
    }
   ],
   "execution_count": null
  },
  {
   "cell_type": "code",
   "metadata": {
    "tags": [],
    "cell_id": "00035-e86eb092-f7b2-4675-a8f2-f3ab8388289d",
    "deepnote_to_be_reexecuted": false,
    "source_hash": "bc03fca9",
    "execution_start": 1639864435941,
    "execution_millis": 73,
    "deepnote_output_heights": [
     264
    ],
    "deepnote_cell_type": "code"
   },
   "source": "provinces_2021.describe()",
   "outputs": [
    {
     "output_type": "execute_result",
     "execution_count": 38,
     "data": {
      "application/vnd.deepnote.dataframe.v3+json": {
       "column_count": 3,
       "row_count": 8,
       "columns": [
        {
         "name": "total",
         "dtype": "float64",
         "stats": {
          "unique_count": 8,
          "nan_count": 0,
          "min": "24.0",
          "max": "26062.0",
          "histogram": [
           {
            "bin_start": 24,
            "bin_end": 2627.8,
            "count": 4
           },
           {
            "bin_start": 2627.8,
            "bin_end": 5231.6,
            "count": 2
           },
           {
            "bin_start": 5231.6,
            "bin_end": 7835.400000000001,
            "count": 1
           },
           {
            "bin_start": 7835.400000000001,
            "bin_end": 10439.2,
            "count": 0
           },
           {
            "bin_start": 10439.2,
            "bin_end": 13043,
            "count": 0
           },
           {
            "bin_start": 13043,
            "bin_end": 15646.800000000001,
            "count": 0
           },
           {
            "bin_start": 15646.800000000001,
            "bin_end": 18250.600000000002,
            "count": 0
           },
           {
            "bin_start": 18250.600000000002,
            "bin_end": 20854.4,
            "count": 0
           },
           {
            "bin_start": 20854.4,
            "bin_end": 23458.2,
            "count": 0
           },
           {
            "bin_start": 23458.2,
            "bin_end": 26062,
            "count": 1
           }
          ]
         }
        },
        {
         "name": "poblacion",
         "dtype": "float64",
         "stats": {
          "unique_count": 8,
          "nan_count": 0,
          "min": "24.0",
          "max": "4387434.0",
          "histogram": [
           {
            "bin_start": 24,
            "bin_end": 438765,
            "count": 3
           },
           {
            "bin_start": 438765,
            "bin_end": 877506,
            "count": 3
           },
           {
            "bin_start": 877506,
            "bin_end": 1316247,
            "count": 1
           },
           {
            "bin_start": 1316247,
            "bin_end": 1754988,
            "count": 0
           },
           {
            "bin_start": 1754988,
            "bin_end": 2193729,
            "count": 0
           },
           {
            "bin_start": 2193729,
            "bin_end": 2632470,
            "count": 0
           },
           {
            "bin_start": 2632470,
            "bin_end": 3071211,
            "count": 0
           },
           {
            "bin_start": 3071211,
            "bin_end": 3509952,
            "count": 0
           },
           {
            "bin_start": 3509952,
            "bin_end": 3948693,
            "count": 0
           },
           {
            "bin_start": 3948693,
            "bin_end": 4387434,
            "count": 1
           }
          ]
         }
        },
        {
         "name": "death_per_1000",
         "dtype": "float64",
         "stats": {
          "unique_count": 8,
          "nan_count": 0,
          "min": "1.2020331389087267",
          "max": "24.0",
          "histogram": [
           {
            "bin_start": 1.2020331389087267,
            "bin_end": 3.4818298250178534,
            "count": 2
           },
           {
            "bin_start": 3.4818298250178534,
            "bin_end": 5.76162651112698,
            "count": 4
           },
           {
            "bin_start": 5.76162651112698,
            "bin_end": 8.041423197236108,
            "count": 1
           },
           {
            "bin_start": 8.041423197236108,
            "bin_end": 10.321219883345234,
            "count": 0
           },
           {
            "bin_start": 10.321219883345234,
            "bin_end": 12.60101656945436,
            "count": 0
           },
           {
            "bin_start": 12.60101656945436,
            "bin_end": 14.880813255563488,
            "count": 0
           },
           {
            "bin_start": 14.880813255563488,
            "bin_end": 17.160609941672618,
            "count": 0
           },
           {
            "bin_start": 17.160609941672618,
            "bin_end": 19.440406627781744,
            "count": 0
           },
           {
            "bin_start": 19.440406627781744,
            "bin_end": 21.72020331389087,
            "count": 0
           },
           {
            "bin_start": 21.72020331389087,
            "bin_end": 24,
            "count": 1
           }
          ]
         }
        },
        {
         "name": "_deepnote_index_column",
         "dtype": "object"
        }
       ],
       "rows": [
        {
         "total": 24,
         "poblacion": 24,
         "death_per_1000": 24,
         "_deepnote_index_column": "count"
        },
        {
         "total": 3907.2916666666665,
         "poblacion": 727864,
         "death_per_1000": 4.646243608578196,
         "_deepnote_index_column": "mean"
        },
        {
         "total": 5981.887578197069,
         "poblacion": 1021291.1797624229,
         "death_per_1000": 1.2020331389087267,
         "_deepnote_index_column": "std"
        },
        {
         "total": 67,
         "poblacion": 33042,
         "death_per_1000": 2.0277222928394165,
         "_deepnote_index_column": "min"
        },
        {
         "total": 760.25,
         "poblacion": 194118.5,
         "death_per_1000": 3.616830670929075,
         "_deepnote_index_column": "25%"
        },
        {
         "total": 2271.5,
         "poblacion": 482486.5,
         "death_per_1000": 5.066584003136892,
         "_deepnote_index_column": "50%"
        },
        {
         "total": 3896.75,
         "poblacion": 622250,
         "death_per_1000": 5.4915396375551335,
         "_deepnote_index_column": "75%"
        },
        {
         "total": 26062,
         "poblacion": 4387434,
         "death_per_1000": 6.307145275990518,
         "_deepnote_index_column": "max"
        }
       ]
      },
      "text/plain": "              total     poblacion  death_per_1000\ncount     24.000000  2.400000e+01       24.000000\nmean    3907.291667  7.278640e+05        4.646244\nstd     5981.887578  1.021291e+06        1.202033\nmin       67.000000  3.304200e+04        2.027722\n25%      760.250000  1.941185e+05        3.616831\n50%     2271.500000  4.824865e+05        5.066584\n75%     3896.750000  6.222500e+05        5.491540\nmax    26062.000000  4.387434e+06        6.307145",
      "text/html": "<div>\n<style scoped>\n    .dataframe tbody tr th:only-of-type {\n        vertical-align: middle;\n    }\n\n    .dataframe tbody tr th {\n        vertical-align: top;\n    }\n\n    .dataframe thead th {\n        text-align: right;\n    }\n</style>\n<table border=\"1\" class=\"dataframe\">\n  <thead>\n    <tr style=\"text-align: right;\">\n      <th></th>\n      <th>total</th>\n      <th>poblacion</th>\n      <th>death_per_1000</th>\n    </tr>\n  </thead>\n  <tbody>\n    <tr>\n      <th>count</th>\n      <td>24.000000</td>\n      <td>2.400000e+01</td>\n      <td>24.000000</td>\n    </tr>\n    <tr>\n      <th>mean</th>\n      <td>3907.291667</td>\n      <td>7.278640e+05</td>\n      <td>4.646244</td>\n    </tr>\n    <tr>\n      <th>std</th>\n      <td>5981.887578</td>\n      <td>1.021291e+06</td>\n      <td>1.202033</td>\n    </tr>\n    <tr>\n      <th>min</th>\n      <td>67.000000</td>\n      <td>3.304200e+04</td>\n      <td>2.027722</td>\n    </tr>\n    <tr>\n      <th>25%</th>\n      <td>760.250000</td>\n      <td>1.941185e+05</td>\n      <td>3.616831</td>\n    </tr>\n    <tr>\n      <th>50%</th>\n      <td>2271.500000</td>\n      <td>4.824865e+05</td>\n      <td>5.066584</td>\n    </tr>\n    <tr>\n      <th>75%</th>\n      <td>3896.750000</td>\n      <td>6.222500e+05</td>\n      <td>5.491540</td>\n    </tr>\n    <tr>\n      <th>max</th>\n      <td>26062.000000</td>\n      <td>4.387434e+06</td>\n      <td>6.307145</td>\n    </tr>\n  </tbody>\n</table>\n</div>"
     },
     "metadata": {}
    }
   ],
   "execution_count": null
  },
  {
   "cell_type": "code",
   "metadata": {
    "tags": [],
    "cell_id": "00036-435d0c21-b26b-4cce-9ee6-f7981fa5f207",
    "deepnote_to_be_reexecuted": false,
    "source_hash": "f70765c2",
    "execution_start": 1639864436022,
    "execution_millis": 3718,
    "deepnote_output_heights": [
     532.984375,
     532.984375
    ],
    "deepnote_cell_type": "code"
   },
   "source": "sns.pairplot(provinces_2021)\nplt.show()",
   "outputs": [
    {
     "data": {
      "text/plain": "<Figure size 540x540 with 12 Axes>",
      "image/png": "[encoded data removed]"
     },
     "metadata": {
      "image/png": {
       "width": 531,
       "height": 531
      }
     },
     "output_type": "display_data"
    }
   ],
   "execution_count": null
  },
  {
   "cell_type": "markdown",
   "source": "## Enriched data",
   "metadata": {
    "tags": [],
    "is_collapsed": false,
    "cell_id": "00045-edf243b1-83e6-44e2-9eb2-0815e0c0e60d",
    "deepnote_cell_type": "text-cell-h2"
   }
  },
  {
   "cell_type": "markdown",
   "source": "As I analyzed the data, it turns out I enriched the data to perform specific analyses. I think this data coud be clustered with K-means. But that's for another notebook.",
   "metadata": {
    "tags": [],
    "cell_id": "00046-0a1d324f-cee5-49ba-97dc-9c9e904b9a21",
    "deepnote_cell_type": "markdown"
   }
  },
  {
   "cell_type": "code",
   "metadata": {
    "tags": [],
    "cell_id": "00047-a0fdae02-6c18-41aa-a647-138214b86b8e",
    "deepnote_to_be_reexecuted": false,
    "source_hash": "caae408e",
    "execution_start": 1639864439736,
    "execution_millis": 18,
    "deepnote_cell_type": "code"
   },
   "source": "provinces_2015_2019.to_csv('/work/covid-19-EC-provinces/data/interim/deaths_prov_2015_2019.csv', index=False)\nprovinces_2020.to_csv('/work/covid-19-EC-provinces/data/interim/deaths_prov_2020.csv', index=False)\nprovinces_2021.to_csv('/work/covid-19-EC-provinces/data/interim/deaths_prov_2021.csv', index=False)",
   "outputs": [],
   "execution_count": null
  },
  {
   "cell_type": "markdown",
   "source": "## Comparison: 2015-2019 vs 2020-2021",
   "metadata": {
    "tags": [],
    "is_collapsed": false,
    "cell_id": "00048-f098da96-22c6-45b8-8466-2d0e830196ac",
    "deepnote_cell_type": "text-cell-h2"
   }
  },
  {
   "cell_type": "code",
   "metadata": {
    "tags": [],
    "cell_id": "00048-b725ca70-13f9-4bfe-b807-d4ed8ec5d77a",
    "deepnote_to_be_reexecuted": false,
    "source_hash": "1b112cc1",
    "execution_start": 1639864439762,
    "execution_millis": 106,
    "deepnote_cell_type": "code"
   },
   "source": "conjunto = 2019\nfor i in [provinces_2015_2019, provinces_2020, provinces_2021]:\n    print(conjunto)\n    print(i.describe())\n    print('\\n')\n    conjunto += 1",
   "outputs": [
    {
     "name": "stdout",
     "text": "2019\n              total     poblacion  death_per_1000\ncount     24.000000  2.400000e+01       24.000000\nmean    2886.208333  7.278640e+05        3.392564\nstd     4488.399472  1.021291e+06        0.904587\nmin       44.000000  3.304200e+04        1.331639\n25%      549.750000  1.941185e+05        2.557169\n50%     1597.000000  4.824865e+05        3.721214\n75%     2716.500000  6.222500e+05        4.013302\nmax    19957.000000  4.387434e+06        4.548672\n\n\n2020\n              total     poblacion  death_per_1000\ncount     24.000000  2.400000e+01       24.000000\nmean    4825.500000  7.278640e+05        5.314494\nstd     8331.707675  1.021291e+06        1.644670\nmin       51.000000  3.304200e+04        1.543490\n25%      866.500000  1.941185e+05        4.014204\n50%     2637.000000  4.824865e+05        5.536409\n75%     4368.500000  6.222500e+05        6.309237\nmax    38668.000000  4.387434e+06        8.813352\n\n\n2021\n              total     poblacion  death_per_1000\ncount     24.000000  2.400000e+01       24.000000\nmean    3907.291667  7.278640e+05        4.646244\nstd     5981.887578  1.021291e+06        1.202033\nmin       67.000000  3.304200e+04        2.027722\n25%      760.250000  1.941185e+05        3.616831\n50%     2271.500000  4.824865e+05        5.066584\n75%     3896.750000  6.222500e+05        5.491540\nmax    26062.000000  4.387434e+06        6.307145\n\n\n",
     "output_type": "stream",
     "data": {}
    }
   ],
   "execution_count": null
  },
  {
   "cell_type": "code",
   "metadata": {
    "tags": [],
    "cell_id": "00050-12c5fd64-b2fb-4eba-8cc6-ac5173ac1d45",
    "deepnote_to_be_reexecuted": false,
    "source_hash": "d150c2f7",
    "execution_start": 1639864439873,
    "execution_millis": 11044,
    "deepnote_output_heights": [
     null,
     532.984375,
     532.984375,
     532.984375
    ],
    "deepnote_cell_type": "code"
   },
   "source": "counter = 2019\nfor i in [provinces_2015_2019, provinces_2020, provinces_2021]:\n    print(counter)\n    sns.pairplot(i, diag_kind='kde')\n    counter += 1",
   "outputs": [
    {
     "name": "stdout",
     "text": "2019\n2020\n2021\n",
     "output_type": "stream",
     "data": {}
    },
    {
     "data": {
      "text/plain": "<Figure size 540x540 with 12 Axes>",
      "image/png": "[encoded data removed]"
     },
     "metadata": {
      "image/png": {
       "width": 531,
       "height": 531
      }
     },
     "output_type": "display_data"
    },
    {
     "data": {
      "text/plain": "<Figure size 540x540 with 12 Axes>",
      "image/png": "[encoded data removed]"
     },
     "metadata": {
      "image/png": {
       "width": 531,
       "height": 531
      }
     },
     "output_type": "display_data"
    },
    {
     "data": {
      "text/plain": "<Figure size 540x540 with 12 Axes>",
      "image/png": "[encoded data removed]"
     },
     "metadata": {
      "image/png": {
       "width": 531,
       "height": 531
      }
     },
     "output_type": "display_data"
    }
   ],
   "execution_count": null
  },
  {
   "cell_type": "code",
   "metadata": {
    "tags": [],
    "cell_id": "00052-fa2861fa-c356-4242-b550-474816eb08a4",
    "deepnote_to_be_reexecuted": false,
    "source_hash": "33940bd6",
    "execution_start": 1639864635064,
    "execution_millis": 400,
    "deepnote_output_heights": [
     null,
     257.984375,
     257.984375
    ],
    "deepnote_cell_type": "code"
   },
   "source": "print('2015-2019')\nsns.heatmap(provinces_2015_2019.corr(), \n            annot=True,\n            square=True,\n            cmap='summer')\nplt.show()",
   "outputs": [
    {
     "name": "stdout",
     "text": "2015-2019\n",
     "output_type": "stream",
     "data": {}
    },
    {
     "data": {
      "text/plain": "<Figure size 432x288 with 2 Axes>",
      "image/png": "[encoded data removed]"
     },
     "metadata": {
      "image/png": {
       "width": 306,
       "height": 256
      }
     },
     "output_type": "display_data"
    }
   ],
   "execution_count": null
  },
  {
   "cell_type": "code",
   "metadata": {
    "tags": [],
    "cell_id": "00053-86ee78c3-119b-4622-8cab-f54f3574b393",
    "deepnote_to_be_reexecuted": false,
    "source_hash": "22ee89e9",
    "execution_start": 1639864688035,
    "execution_millis": 901,
    "deepnote_output_heights": [
     null,
     257.984375,
     257.984375
    ],
    "deepnote_cell_type": "code"
   },
   "source": "print('2020')\nsns.heatmap(provinces_2020.corr(), \n    annot=True,\n    square=True,\n    cmap='summer')\nplt.show()",
   "outputs": [
    {
     "name": "stdout",
     "text": "2020\n",
     "output_type": "stream",
     "data": {}
    },
    {
     "data": {
      "text/plain": "<Figure size 432x288 with 2 Axes>",
      "image/png": "[encoded data removed]"
     },
     "metadata": {
      "image/png": {
       "width": 313,
       "height": 256
      }
     },
     "output_type": "display_data"
    }
   ],
   "execution_count": null
  },
  {
   "cell_type": "code",
   "metadata": {
    "tags": [],
    "cell_id": "00054-d522f052-cf8b-4140-93e8-2c9b121b983e",
    "deepnote_to_be_reexecuted": false,
    "source_hash": "baeb14f1",
    "execution_start": 1639864707963,
    "execution_millis": 814,
    "deepnote_output_heights": [
     null,
     257.984375,
     257.984375
    ],
    "deepnote_cell_type": "code"
   },
   "source": "print('2021')\nsns.heatmap(provinces_2021.corr(), \n    annot=True,\n    square=True,\n    cmap='summer')\nplt.show()",
   "outputs": [
    {
     "name": "stdout",
     "text": "2021\n",
     "output_type": "stream",
     "data": {}
    },
    {
     "data": {
      "text/plain": "<Figure size 432x288 with 2 Axes>",
      "image/png": "[encoded data removed]"
     },
     "metadata": {
      "image/png": {
       "width": 306,
       "height": 256
      }
     },
     "output_type": "display_data"
    }
   ],
   "execution_count": null
  },
  {
   "cell_type": "code",
   "metadata": {
    "tags": [],
    "cell_id": "00051-719d3b96-4024-4cf4-bc08-113b5b39a9fc",
    "deepnote_to_be_reexecuted": false,
    "source_hash": "7a3fd0a6",
    "execution_start": 1639864758754,
    "execution_millis": 793,
    "deepnote_output_heights": [
     415.984375,
     415.984375
    ],
    "deepnote_cell_type": "code"
   },
   "source": "fig, ax = plt.subplots(figsize=(10, 7))\nplt.scatter(provinces_2015_2019['death_per_1000'], provinces_2015_2019['total'])\nplt.scatter(provinces_2020['death_per_1000'], provinces_2020['total'])\nplt.scatter(provinces_2021['death_per_1000'], provinces_2021['total'])\nplt.legend(['2015-2019', '2020', '2021'])\nplt.show()",
   "outputs": [
    {
     "data": {
      "text/plain": "<Figure size 720x504 with 1 Axes>",
      "image/png": "[encoded data removed]"
     },
     "metadata": {
      "image/png": {
       "width": 616,
       "height": 414
      }
     },
     "output_type": "display_data"
    }
   ],
   "execution_count": null
  },
  {
   "cell_type": "code",
   "metadata": {
    "tags": [],
    "cell_id": "00052-1c8418b1-202e-4ea7-b491-026889140be2",
    "deepnote_to_be_reexecuted": false,
    "source_hash": "7b5ef9f3",
    "execution_start": 1639864810325,
    "execution_millis": 650,
    "deepnote_output_heights": [
     428.96875,
     428.96875
    ],
    "deepnote_cell_type": "code"
   },
   "source": "fig, ax = plt.subplots(figsize=(10, 7))\nplt.scatter(provinces_2015_2019['poblacion'], provinces_2015_2019['total'])\nplt.scatter(provinces_2020['poblacion'], provinces_2020['total'])\nplt.scatter(provinces_2021['poblacion'], provinces_2021['total'])\nplt.legend(['2015-2019', '2020', '2021'])\nplt.show()",
   "outputs": [
    {
     "data": {
      "text/plain": "<Figure size 720x504 with 1 Axes>",
      "image/png": "[encoded data removed]"
     },
     "metadata": {
      "image/png": {
       "width": 616,
       "height": 427
      }
     },
     "output_type": "display_data"
    }
   ],
   "execution_count": null
  },
  {
   "cell_type": "markdown",
   "source": "<a style='text-decoration:none;line-height:16px;display:flex;color:#5B5B62;padding:10px;justify-content:end;' href='https://deepnote.com?utm_source=created-in-deepnote-cell&projectId=7294ef23-3287-47ac-a12f-ba892bffdf3b' target=\"_blank\">\n<img alt='Created in deepnote.com' style='display:inline;max-height:16px;margin:0px;margin-right:7.5px;' src='data:image/svg+xml;base64,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' > </img>\nCreated in <span style='font-weight:600;margin-left:4px;'>Deepnote</span></a>",
   "metadata": {
    "tags": [],
    "created_in_deepnote_cell": true,
    "deepnote_cell_type": "markdown"
   }
  }
 ],
 "nbformat": 4,
 "nbformat_minor": 2,
 "metadata": {
  "orig_nbformat": 2,
  "deepnote": {
   "is_reactive": false
  },
  "deepnote_notebook_id": "1b088fe2-8c22-4c26-82c0-94fb37a5e7bd",
  "deepnote_execution_queue": []
 }
}