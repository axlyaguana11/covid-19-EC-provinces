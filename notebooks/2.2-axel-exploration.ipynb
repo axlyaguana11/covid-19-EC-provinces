{
 "cells": [
  {
   "cell_type": "markdown",
   "source": "# Exploration: positives time series",
   "metadata": {
    "tags": [],
    "is_collapsed": false,
    "cell_id": "00001-2c493ba6-a9c4-464e-a9ed-1ab30da6298d",
    "deepnote_cell_type": "text-cell-h1"
   }
  },
  {
   "cell_type": "markdown",
   "source": "Now I'm analyzing positives respect to their date recorded.",
   "metadata": {
    "tags": [],
    "cell_id": "00001-3a512b29-26c9-4a0d-acfc-7b2cd0fbb1f0",
    "deepnote_cell_type": "markdown"
   }
  },
  {
   "cell_type": "code",
   "metadata": {
    "tags": [],
    "cell_id": "00001-da7d1b04-e24d-482b-aab0-72529d67fd8b",
    "deepnote_to_be_reexecuted": false,
    "source_hash": "28eb5f73",
    "execution_start": 1639867071883,
    "execution_millis": 638730,
    "deepnote_cell_type": "code"
   },
   "source": "# %load_ext autoreload\n# %autoreload 2",
   "outputs": [],
   "execution_count": null
  },
  {
   "cell_type": "code",
   "metadata": {
    "tags": [],
    "cell_id": "00002-3c1987a4-f768-44b7-a041-e1b276a6ee04",
    "deepnote_to_be_reexecuted": false,
    "source_hash": "c516df8c",
    "execution_start": 1639867071927,
    "execution_millis": 6300,
    "deepnote_cell_type": "code"
   },
   "source": "#libs\nimport pandas as pd\nimport numpy as np\nimport matplotlib.pyplot as plt\nimport seaborn as sns",
   "outputs": [],
   "execution_count": null
  },
  {
   "cell_type": "code",
   "metadata": {
    "tags": [],
    "cell_id": "00003-edfceacf-2136-4652-9a58-b314991f3fee",
    "deepnote_to_be_reexecuted": false,
    "source_hash": "4bbc9e13",
    "execution_start": 1639867078290,
    "execution_millis": 62,
    "deepnote_cell_type": "code"
   },
   "source": "df_positives = pd.read_csv('/work/covid-19-EC-provinces/data/interim/positives.csv')",
   "outputs": [],
   "execution_count": null
  },
  {
   "cell_type": "code",
   "metadata": {
    "tags": [],
    "cell_id": "00004-7f65da65-aa93-41e5-8281-ed0601bd2d4c",
    "deepnote_to_be_reexecuted": false,
    "source_hash": "14e61aeb",
    "execution_start": 1639867078392,
    "execution_millis": 314,
    "deepnote_cell_type": "code"
   },
   "source": "df_positives.sample(5)",
   "outputs": [
    {
     "output_type": "execute_result",
     "execution_count": 4,
     "data": {
      "application/vnd.deepnote.dataframe.v3+json": {
       "column_count": 12,
       "row_count": 5,
       "columns": [
        {
         "name": "created_at",
         "dtype": "object",
         "stats": {
          "unique_count": 5,
          "nan_count": 0,
          "categories": [
           {
            "name": "2021-11-16",
            "count": 1
           },
           {
            "name": "2020-06-28",
            "count": 1
           },
           {
            "name": "3 others",
            "count": 3
           }
          ]
         }
        },
        {
         "name": "provincia",
         "dtype": "object",
         "stats": {
          "unique_count": 5,
          "nan_count": 0,
          "categories": [
           {
            "name": "Cotopaxi",
            "count": 1
           },
           {
            "name": "Napo",
            "count": 1
           },
           {
            "name": "3 others",
            "count": 3
           }
          ]
         }
        },
        {
         "name": "poblacion",
         "dtype": "int64",
         "stats": {
          "unique_count": 5,
          "nan_count": 0,
          "min": "133705",
          "max": "921763",
          "histogram": [
           {
            "bin_start": 133705,
            "bin_end": 212510.8,
            "count": 2
           },
           {
            "bin_start": 212510.8,
            "bin_end": 291316.6,
            "count": 1
           },
           {
            "bin_start": 291316.6,
            "bin_end": 370122.4,
            "count": 0
           },
           {
            "bin_start": 370122.4,
            "bin_end": 448928.2,
            "count": 0
           },
           {
            "bin_start": 448928.2,
            "bin_end": 527734,
            "count": 1
           },
           {
            "bin_start": 527734,
            "bin_end": 606539.8,
            "count": 0
           },
           {
            "bin_start": 606539.8,
            "bin_end": 685345.6,
            "count": 0
           },
           {
            "bin_start": 685345.6,
            "bin_end": 764151.4,
            "count": 0
           },
           {
            "bin_start": 764151.4,
            "bin_end": 842957.2000000001,
            "count": 0
           },
           {
            "bin_start": 842957.2000000001,
            "bin_end": 921763,
            "count": 1
           }
          ]
         }
        },
        {
         "name": "total",
         "dtype": "int64",
         "stats": {
          "unique_count": 5,
          "nan_count": 0,
          "min": "564",
          "max": "13175",
          "histogram": [
           {
            "bin_start": 564,
            "bin_end": 1825.1,
            "count": 1
           },
           {
            "bin_start": 1825.1,
            "bin_end": 3086.2,
            "count": 1
           },
           {
            "bin_start": 3086.2,
            "bin_end": 4347.299999999999,
            "count": 1
           },
           {
            "bin_start": 4347.299999999999,
            "bin_end": 5608.4,
            "count": 0
           },
           {
            "bin_start": 5608.4,
            "bin_end": 6869.5,
            "count": 0
           },
           {
            "bin_start": 6869.5,
            "bin_end": 8130.599999999999,
            "count": 0
           },
           {
            "bin_start": 8130.599999999999,
            "bin_end": 9391.699999999999,
            "count": 0
           },
           {
            "bin_start": 9391.699999999999,
            "bin_end": 10652.8,
            "count": 0
           },
           {
            "bin_start": 10652.8,
            "bin_end": 11913.9,
            "count": 0
           },
           {
            "bin_start": 11913.9,
            "bin_end": 13175,
            "count": 2
           }
          ]
         }
        },
        {
         "name": "nuevas",
         "dtype": "int64",
         "stats": {
          "unique_count": 4,
          "nan_count": 0,
          "min": "2",
          "max": "8",
          "histogram": [
           {
            "bin_start": 2,
            "bin_end": 2.6,
            "count": 2
           },
           {
            "bin_start": 2.6,
            "bin_end": 3.2,
            "count": 1
           },
           {
            "bin_start": 3.2,
            "bin_end": 3.8,
            "count": 0
           },
           {
            "bin_start": 3.8,
            "bin_end": 4.4,
            "count": 0
           },
           {
            "bin_start": 4.4,
            "bin_end": 5,
            "count": 0
           },
           {
            "bin_start": 5,
            "bin_end": 5.6,
            "count": 0
           },
           {
            "bin_start": 5.6,
            "bin_end": 6.2,
            "count": 1
           },
           {
            "bin_start": 6.2,
            "bin_end": 6.8,
            "count": 0
           },
           {
            "bin_start": 6.8,
            "bin_end": 7.3999999999999995,
            "count": 0
           },
           {
            "bin_start": 7.3999999999999995,
            "bin_end": 8,
            "count": 1
           }
          ]
         }
        },
        {
         "name": "lat",
         "dtype": "float64",
         "stats": {
          "unique_count": 5,
          "nan_count": 0,
          "min": "-2.3",
          "max": "0.084722",
          "histogram": [
           {
            "bin_start": -2.3,
            "bin_end": -2.0615278,
            "count": 1
           },
           {
            "bin_start": -2.0615278,
            "bin_end": -1.8230555999999998,
            "count": 0
           },
           {
            "bin_start": -1.8230555999999998,
            "bin_end": -1.5845833999999999,
            "count": 1
           },
           {
            "bin_start": -1.5845833999999999,
            "bin_end": -1.3461111999999997,
            "count": 0
           },
           {
            "bin_start": -1.3461111999999997,
            "bin_end": -1.1076389999999998,
            "count": 0
           },
           {
            "bin_start": -1.1076389999999998,
            "bin_end": -0.8691667999999999,
            "count": 2
           },
           {
            "bin_start": -0.8691667999999999,
            "bin_end": -0.6306945999999998,
            "count": 0
           },
           {
            "bin_start": -0.6306945999999998,
            "bin_end": -0.39222239999999986,
            "count": 0
           },
           {
            "bin_start": -0.39222239999999986,
            "bin_end": -0.15375019999999973,
            "count": 0
           },
           {
            "bin_start": -0.15375019999999973,
            "bin_end": 0.084722,
            "count": 1
           }
          ]
         }
        },
        {
         "name": "lng",
         "dtype": "float64",
         "stats": {
          "unique_count": 5,
          "nan_count": 0,
          "min": "-79.533333",
          "max": "-76.882778",
          "histogram": [
           {
            "bin_start": -79.533333,
            "bin_end": -79.2682775,
            "count": 1
           },
           {
            "bin_start": -79.2682775,
            "bin_end": -79.003222,
            "count": 0
           },
           {
            "bin_start": -79.003222,
            "bin_end": -78.7381665,
            "count": 0
           },
           {
            "bin_start": -78.7381665,
            "bin_end": -78.473111,
            "count": 1
           },
           {
            "bin_start": -78.473111,
            "bin_end": -78.2080555,
            "count": 0
           },
           {
            "bin_start": -78.2080555,
            "bin_end": -77.943,
            "count": 1
           },
           {
            "bin_start": -77.943,
            "bin_end": -77.6779445,
            "count": 1
           },
           {
            "bin_start": -77.6779445,
            "bin_end": -77.412889,
            "count": 0
           },
           {
            "bin_start": -77.412889,
            "bin_end": -77.1478335,
            "count": 0
           },
           {
            "bin_start": -77.1478335,
            "bin_end": -76.882778,
            "count": 1
           }
          ]
         }
        },
        {
         "name": "year",
         "dtype": "int64",
         "stats": {
          "unique_count": 2,
          "nan_count": 0,
          "min": "2020",
          "max": "2021",
          "histogram": [
           {
            "bin_start": 2020,
            "bin_end": 2020.1,
            "count": 2
           },
           {
            "bin_start": 2020.1,
            "bin_end": 2020.2,
            "count": 0
           },
           {
            "bin_start": 2020.2,
            "bin_end": 2020.3,
            "count": 0
           },
           {
            "bin_start": 2020.3,
            "bin_end": 2020.4,
            "count": 0
           },
           {
            "bin_start": 2020.4,
            "bin_end": 2020.5,
            "count": 0
           },
           {
            "bin_start": 2020.5,
            "bin_end": 2020.6,
            "count": 0
           },
           {
            "bin_start": 2020.6,
            "bin_end": 2020.7,
            "count": 0
           },
           {
            "bin_start": 2020.7,
            "bin_end": 2020.8,
            "count": 0
           },
           {
            "bin_start": 2020.8,
            "bin_end": 2020.9,
            "count": 0
           },
           {
            "bin_start": 2020.9,
            "bin_end": 2021,
            "count": 3
           }
          ]
         }
        },
        {
         "name": "month",
         "dtype": "int64",
         "stats": {
          "unique_count": 4,
          "nan_count": 0,
          "min": "2",
          "max": "11",
          "histogram": [
           {
            "bin_start": 2,
            "bin_end": 2.9,
            "count": 1
           },
           {
            "bin_start": 2.9,
            "bin_end": 3.8,
            "count": 0
           },
           {
            "bin_start": 3.8,
            "bin_end": 4.7,
            "count": 0
           },
           {
            "bin_start": 4.7,
            "bin_end": 5.6,
            "count": 0
           },
           {
            "bin_start": 5.6,
            "bin_end": 6.5,
            "count": 1
           },
           {
            "bin_start": 6.5,
            "bin_end": 7.4,
            "count": 0
           },
           {
            "bin_start": 7.4,
            "bin_end": 8.3,
            "count": 0
           },
           {
            "bin_start": 8.3,
            "bin_end": 9.2,
            "count": 0
           },
           {
            "bin_start": 9.2,
            "bin_end": 10.1,
            "count": 1
           },
           {
            "bin_start": 10.1,
            "bin_end": 11,
            "count": 2
           }
          ]
         }
        },
        {
         "name": "day",
         "dtype": "int64",
         "stats": {
          "unique_count": 5,
          "nan_count": 0,
          "min": "4",
          "max": "29",
          "histogram": [
           {
            "bin_start": 4,
            "bin_end": 6.5,
            "count": 1
           },
           {
            "bin_start": 6.5,
            "bin_end": 9,
            "count": 0
           },
           {
            "bin_start": 9,
            "bin_end": 11.5,
            "count": 0
           },
           {
            "bin_start": 11.5,
            "bin_end": 14,
            "count": 0
           },
           {
            "bin_start": 14,
            "bin_end": 16.5,
            "count": 1
           },
           {
            "bin_start": 16.5,
            "bin_end": 19,
            "count": 0
           },
           {
            "bin_start": 19,
            "bin_end": 21.5,
            "count": 0
           },
           {
            "bin_start": 21.5,
            "bin_end": 24,
            "count": 0
           },
           {
            "bin_start": 24,
            "bin_end": 26.5,
            "count": 1
           },
           {
            "bin_start": 26.5,
            "bin_end": 29,
            "count": 2
           }
          ]
         }
        },
        {
         "name": "day_of_week",
         "dtype": "int64",
         "stats": {
          "unique_count": 3,
          "nan_count": 0,
          "min": "1",
          "max": "6",
          "histogram": [
           {
            "bin_start": 1,
            "bin_end": 1.5,
            "count": 2
           },
           {
            "bin_start": 1.5,
            "bin_end": 2,
            "count": 0
           },
           {
            "bin_start": 2,
            "bin_end": 2.5,
            "count": 0
           },
           {
            "bin_start": 2.5,
            "bin_end": 3,
            "count": 0
           },
           {
            "bin_start": 3,
            "bin_end": 3.5,
            "count": 1
           },
           {
            "bin_start": 3.5,
            "bin_end": 4,
            "count": 0
           },
           {
            "bin_start": 4,
            "bin_end": 4.5,
            "count": 0
           },
           {
            "bin_start": 4.5,
            "bin_end": 5,
            "count": 0
           },
           {
            "bin_start": 5,
            "bin_end": 5.5,
            "count": 0
           },
           {
            "bin_start": 5.5,
            "bin_end": 6,
            "count": 2
           }
          ]
         }
        },
        {
         "name": "quarter",
         "dtype": "int64",
         "stats": {
          "unique_count": 3,
          "nan_count": 0,
          "min": "1",
          "max": "4",
          "histogram": [
           {
            "bin_start": 1,
            "bin_end": 1.3,
            "count": 1
           },
           {
            "bin_start": 1.3,
            "bin_end": 1.6,
            "count": 0
           },
           {
            "bin_start": 1.6,
            "bin_end": 1.9,
            "count": 0
           },
           {
            "bin_start": 1.9,
            "bin_end": 2.2,
            "count": 1
           },
           {
            "bin_start": 2.2,
            "bin_end": 2.5,
            "count": 0
           },
           {
            "bin_start": 2.5,
            "bin_end": 2.8,
            "count": 0
           },
           {
            "bin_start": 2.8,
            "bin_end": 3.1,
            "count": 0
           },
           {
            "bin_start": 3.1,
            "bin_end": 3.4,
            "count": 0
           },
           {
            "bin_start": 3.4,
            "bin_end": 3.6999999999999997,
            "count": 0
           },
           {
            "bin_start": 3.6999999999999997,
            "bin_end": 4,
            "count": 3
           }
          ]
         }
        },
        {
         "name": "_deepnote_index_column",
         "dtype": "int64"
        }
       ],
       "rows": [
        {
         "created_at": "2021-11-16",
         "provincia": "Cotopaxi",
         "poblacion": 488716,
         "total": 12267,
         "nuevas": 6,
         "lat": -0.933333,
         "lng": -78.616667,
         "year": 2021,
         "month": 11,
         "day": 16,
         "day_of_week": 1,
         "quarter": 4,
         "_deepnote_index_column": 14717
        },
        {
         "created_at": "2020-06-28",
         "provincia": "Napo",
         "poblacion": 133705,
         "total": 564,
         "nuevas": 8,
         "lat": -0.989,
         "lng": -77.8159,
         "year": 2020,
         "month": 6,
         "day": 28,
         "day_of_week": 6,
         "quarter": 2,
         "_deepnote_index_column": 2583
        },
        {
         "created_at": "2020-11-29",
         "provincia": "Sucumbíos",
         "poblacion": 230503,
         "total": 2893,
         "nuevas": 2,
         "lat": 0.084722,
         "lng": -76.882778,
         "year": 2020,
         "month": 11,
         "day": 29,
         "day_of_week": 6,
         "quarter": 4,
         "_deepnote_index_column": 6285
        },
        {
         "created_at": "2021-10-26",
         "provincia": "Los Ríos",
         "poblacion": 921763,
         "total": 13175,
         "nuevas": 3,
         "lat": -1.8,
         "lng": -79.533333,
         "year": 2021,
         "month": 10,
         "day": 26,
         "day_of_week": 1,
         "quarter": 4,
         "_deepnote_index_column": 14220
        },
        {
         "created_at": "2021-02-04",
         "provincia": "Morona Santiago",
         "poblacion": 196535,
         "total": 4207,
         "nuevas": 2,
         "lat": -2.3,
         "lng": -78.116667,
         "year": 2021,
         "month": 2,
         "day": 4,
         "day_of_week": 3,
         "quarter": 1,
         "_deepnote_index_column": 7886
        }
       ]
      },
      "text/plain": "       created_at        provincia  poblacion  total  nuevas       lat  \\\n14717  2021-11-16         Cotopaxi     488716  12267       6 -0.933333   \n2583   2020-06-28             Napo     133705    564       8 -0.989000   \n6285   2020-11-29        Sucumbíos     230503   2893       2  0.084722   \n14220  2021-10-26         Los Ríos     921763  13175       3 -1.800000   \n7886   2021-02-04  Morona Santiago     196535   4207       2 -2.300000   \n\n             lng  year  month  day  day_of_week  quarter  \n14717 -78.616667  2021     11   16            1        4  \n2583  -77.815900  2020      6   28            6        2  \n6285  -76.882778  2020     11   29            6        4  \n14220 -79.533333  2021     10   26            1        4  \n7886  -78.116667  2021      2    4            3        1  ",
      "text/html": "<div>\n<style scoped>\n    .dataframe tbody tr th:only-of-type {\n        vertical-align: middle;\n    }\n\n    .dataframe tbody tr th {\n        vertical-align: top;\n    }\n\n    .dataframe thead th {\n        text-align: right;\n    }\n</style>\n<table border=\"1\" class=\"dataframe\">\n  <thead>\n    <tr style=\"text-align: right;\">\n      <th></th>\n      <th>created_at</th>\n      <th>provincia</th>\n      <th>poblacion</th>\n      <th>total</th>\n      <th>nuevas</th>\n      <th>lat</th>\n      <th>lng</th>\n      <th>year</th>\n      <th>month</th>\n      <th>day</th>\n      <th>day_of_week</th>\n      <th>quarter</th>\n    </tr>\n  </thead>\n  <tbody>\n    <tr>\n      <th>14717</th>\n      <td>2021-11-16</td>\n      <td>Cotopaxi</td>\n      <td>488716</td>\n      <td>12267</td>\n      <td>6</td>\n      <td>-0.933333</td>\n      <td>-78.616667</td>\n      <td>2021</td>\n      <td>11</td>\n      <td>16</td>\n      <td>1</td>\n      <td>4</td>\n    </tr>\n    <tr>\n      <th>2583</th>\n      <td>2020-06-28</td>\n      <td>Napo</td>\n      <td>133705</td>\n      <td>564</td>\n      <td>8</td>\n      <td>-0.989000</td>\n      <td>-77.815900</td>\n      <td>2020</td>\n      <td>6</td>\n      <td>28</td>\n      <td>6</td>\n      <td>2</td>\n    </tr>\n    <tr>\n      <th>6285</th>\n      <td>2020-11-29</td>\n      <td>Sucumbíos</td>\n      <td>230503</td>\n      <td>2893</td>\n      <td>2</td>\n      <td>0.084722</td>\n      <td>-76.882778</td>\n      <td>2020</td>\n      <td>11</td>\n      <td>29</td>\n      <td>6</td>\n      <td>4</td>\n    </tr>\n    <tr>\n      <th>14220</th>\n      <td>2021-10-26</td>\n      <td>Los Ríos</td>\n      <td>921763</td>\n      <td>13175</td>\n      <td>3</td>\n      <td>-1.800000</td>\n      <td>-79.533333</td>\n      <td>2021</td>\n      <td>10</td>\n      <td>26</td>\n      <td>1</td>\n      <td>4</td>\n    </tr>\n    <tr>\n      <th>7886</th>\n      <td>2021-02-04</td>\n      <td>Morona Santiago</td>\n      <td>196535</td>\n      <td>4207</td>\n      <td>2</td>\n      <td>-2.300000</td>\n      <td>-78.116667</td>\n      <td>2021</td>\n      <td>2</td>\n      <td>4</td>\n      <td>3</td>\n      <td>1</td>\n    </tr>\n  </tbody>\n</table>\n</div>"
     },
     "metadata": {}
    }
   ],
   "execution_count": null
  },
  {
   "cell_type": "code",
   "metadata": {
    "tags": [],
    "cell_id": "00005-f6016248-c570-42ed-ac20-d85035cc01f7",
    "deepnote_to_be_reexecuted": false,
    "source_hash": "f24a9a77",
    "execution_start": 1639867078771,
    "execution_millis": 355,
    "deepnote_output_heights": [
     59.265625
    ],
    "deepnote_cell_type": "code"
   },
   "source": "df_positives.columns",
   "outputs": [
    {
     "output_type": "execute_result",
     "execution_count": 5,
     "data": {
      "text/plain": "Index(['created_at', 'provincia', 'poblacion', 'total', 'nuevas', 'lat', 'lng',\n       'year', 'month', 'day', 'day_of_week', 'quarter'],\n      dtype='object')"
     },
     "metadata": {}
    }
   ],
   "execution_count": null
  },
  {
   "cell_type": "code",
   "metadata": {
    "tags": [],
    "cell_id": "00006-433ebe2f-2539-4cd9-9bb2-797cd0b74be3",
    "deepnote_to_be_reexecuted": false,
    "source_hash": "2a75800d",
    "execution_start": 1639867078879,
    "execution_millis": 640660,
    "deepnote_cell_type": "code"
   },
   "source": "df_positives.created_at = pd.to_datetime(df_positives.created_at, format='%Y/%m/%d')",
   "outputs": [],
   "execution_count": null
  },
  {
   "cell_type": "code",
   "metadata": {
    "tags": [],
    "cell_id": "00006-e29c7714-3626-4aa5-a797-8867d9a20c51",
    "deepnote_to_be_reexecuted": false,
    "source_hash": "8273a1d6",
    "execution_start": 1639867078987,
    "execution_millis": 640673,
    "deepnote_cell_type": "code"
   },
   "source": "df_positives.set_index('created_at', inplace=True)",
   "outputs": [],
   "execution_count": null
  },
  {
   "cell_type": "code",
   "metadata": {
    "tags": [],
    "cell_id": "00004-4038045a-afa5-4800-bce7-5467ce19d9ac",
    "deepnote_to_be_reexecuted": false,
    "source_hash": "3949738c",
    "execution_start": 1639867079031,
    "execution_millis": 290,
    "deepnote_output_heights": [
     206
    ],
    "deepnote_cell_type": "code"
   },
   "source": "df_positives.head()",
   "outputs": [
    {
     "output_type": "execute_result",
     "execution_count": 8,
     "data": {
      "application/vnd.deepnote.dataframe.v3+json": {
       "column_count": 11,
       "row_count": 5,
       "columns": [
        {
         "name": "provincia",
         "dtype": "object",
         "stats": {
          "unique_count": 5,
          "nan_count": 0,
          "categories": [
           {
            "name": "Azuay",
            "count": 1
           },
           {
            "name": "Bolívar",
            "count": 1
           },
           {
            "name": "3 others",
            "count": 3
           }
          ]
         }
        },
        {
         "name": "poblacion",
         "dtype": "int64",
         "stats": {
          "unique_count": 5,
          "nan_count": 0,
          "min": "186869",
          "max": "881394",
          "histogram": [
           {
            "bin_start": 186869,
            "bin_end": 256321.5,
            "count": 2
           },
           {
            "bin_start": 256321.5,
            "bin_end": 325774,
            "count": 1
           },
           {
            "bin_start": 325774,
            "bin_end": 395226.5,
            "count": 0
           },
           {
            "bin_start": 395226.5,
            "bin_end": 464679,
            "count": 0
           },
           {
            "bin_start": 464679,
            "bin_end": 534131.5,
            "count": 1
           },
           {
            "bin_start": 534131.5,
            "bin_end": 603584,
            "count": 0
           },
           {
            "bin_start": 603584,
            "bin_end": 673036.5,
            "count": 0
           },
           {
            "bin_start": 673036.5,
            "bin_end": 742489,
            "count": 0
           },
           {
            "bin_start": 742489,
            "bin_end": 811941.5,
            "count": 0
           },
           {
            "bin_start": 811941.5,
            "bin_end": 881394,
            "count": 1
           }
          ]
         }
        },
        {
         "name": "total",
         "dtype": "int64",
         "stats": {
          "unique_count": 1,
          "nan_count": 0,
          "min": "0",
          "max": "0",
          "histogram": [
           {
            "bin_start": -0.5,
            "bin_end": -0.4,
            "count": 0
           },
           {
            "bin_start": -0.4,
            "bin_end": -0.3,
            "count": 0
           },
           {
            "bin_start": -0.3,
            "bin_end": -0.19999999999999996,
            "count": 0
           },
           {
            "bin_start": -0.19999999999999996,
            "bin_end": -0.09999999999999998,
            "count": 0
           },
           {
            "bin_start": -0.09999999999999998,
            "bin_end": 0,
            "count": 0
           },
           {
            "bin_start": 0,
            "bin_end": 0.10000000000000009,
            "count": 5
           },
           {
            "bin_start": 0.10000000000000009,
            "bin_end": 0.20000000000000007,
            "count": 0
           },
           {
            "bin_start": 0.20000000000000007,
            "bin_end": 0.30000000000000004,
            "count": 0
           },
           {
            "bin_start": 0.30000000000000004,
            "bin_end": 0.4,
            "count": 0
           },
           {
            "bin_start": 0.4,
            "bin_end": 0.5,
            "count": 0
           }
          ]
         }
        },
        {
         "name": "nuevas",
         "dtype": "int64",
         "stats": {
          "unique_count": 1,
          "nan_count": 0,
          "min": "0",
          "max": "0",
          "histogram": [
           {
            "bin_start": -0.5,
            "bin_end": -0.4,
            "count": 0
           },
           {
            "bin_start": -0.4,
            "bin_end": -0.3,
            "count": 0
           },
           {
            "bin_start": -0.3,
            "bin_end": -0.19999999999999996,
            "count": 0
           },
           {
            "bin_start": -0.19999999999999996,
            "bin_end": -0.09999999999999998,
            "count": 0
           },
           {
            "bin_start": -0.09999999999999998,
            "bin_end": 0,
            "count": 0
           },
           {
            "bin_start": 0,
            "bin_end": 0.10000000000000009,
            "count": 5
           },
           {
            "bin_start": 0.10000000000000009,
            "bin_end": 0.20000000000000007,
            "count": 0
           },
           {
            "bin_start": 0.20000000000000007,
            "bin_end": 0.30000000000000004,
            "count": 0
           },
           {
            "bin_start": 0.30000000000000004,
            "bin_end": 0.4,
            "count": 0
           },
           {
            "bin_start": 0.4,
            "bin_end": 0.5,
            "count": 0
           }
          ]
         }
        },
        {
         "name": "lat",
         "dtype": "float64",
         "stats": {
          "unique_count": 5,
          "nan_count": 0,
          "min": "-2.897414",
          "max": "0.81218",
          "histogram": [
           {
            "bin_start": -2.897414,
            "bin_end": -2.5264546,
            "count": 2
           },
           {
            "bin_start": -2.5264546,
            "bin_end": -2.1554952,
            "count": 0
           },
           {
            "bin_start": -2.1554952,
            "bin_end": -1.7845358,
            "count": 0
           },
           {
            "bin_start": -1.7845358,
            "bin_end": -1.4135764,
            "count": 2
           },
           {
            "bin_start": -1.4135764,
            "bin_end": -1.042617,
            "count": 0
           },
           {
            "bin_start": -1.042617,
            "bin_end": -0.6716576000000001,
            "count": 0
           },
           {
            "bin_start": -0.6716576000000001,
            "bin_end": -0.3006981999999998,
            "count": 0
           },
           {
            "bin_start": -0.3006981999999998,
            "bin_end": 0.07026120000000002,
            "count": 0
           },
           {
            "bin_start": 0.07026120000000002,
            "bin_end": 0.44122059999999985,
            "count": 0
           },
           {
            "bin_start": 0.44122059999999985,
            "bin_end": 0.81218,
            "count": 1
           }
          ]
         }
        },
        {
         "name": "lng",
         "dtype": "float64",
         "stats": {
          "unique_count": 5,
          "nan_count": 0,
          "min": "-79.004481",
          "max": "-77.71633",
          "histogram": [
           {
            "bin_start": -79.004481,
            "bin_end": -78.8756659,
            "count": 2
           },
           {
            "bin_start": -78.8756659,
            "bin_end": -78.7468508,
            "count": 1
           },
           {
            "bin_start": -78.7468508,
            "bin_end": -78.6180357,
            "count": 1
           },
           {
            "bin_start": -78.6180357,
            "bin_end": -78.4892206,
            "count": 0
           },
           {
            "bin_start": -78.4892206,
            "bin_end": -78.3604055,
            "count": 0
           },
           {
            "bin_start": -78.3604055,
            "bin_end": -78.2315904,
            "count": 0
           },
           {
            "bin_start": -78.2315904,
            "bin_end": -78.1027753,
            "count": 0
           },
           {
            "bin_start": -78.1027753,
            "bin_end": -77.9739602,
            "count": 0
           },
           {
            "bin_start": -77.9739602,
            "bin_end": -77.8451451,
            "count": 0
           },
           {
            "bin_start": -77.8451451,
            "bin_end": -77.71633,
            "count": 1
           }
          ]
         }
        },
        {
         "name": "year",
         "dtype": "int64",
         "stats": {
          "unique_count": 1,
          "nan_count": 0,
          "min": "2020",
          "max": "2020",
          "histogram": [
           {
            "bin_start": 2019.5,
            "bin_end": 2019.6,
            "count": 0
           },
           {
            "bin_start": 2019.6,
            "bin_end": 2019.7,
            "count": 0
           },
           {
            "bin_start": 2019.7,
            "bin_end": 2019.8,
            "count": 0
           },
           {
            "bin_start": 2019.8,
            "bin_end": 2019.9,
            "count": 0
           },
           {
            "bin_start": 2019.9,
            "bin_end": 2020,
            "count": 0
           },
           {
            "bin_start": 2020,
            "bin_end": 2020.1,
            "count": 5
           },
           {
            "bin_start": 2020.1,
            "bin_end": 2020.2,
            "count": 0
           },
           {
            "bin_start": 2020.2,
            "bin_end": 2020.3,
            "count": 0
           },
           {
            "bin_start": 2020.3,
            "bin_end": 2020.4,
            "count": 0
           },
           {
            "bin_start": 2020.4,
            "bin_end": 2020.5,
            "count": 0
           }
          ]
         }
        },
        {
         "name": "month",
         "dtype": "int64",
         "stats": {
          "unique_count": 1,
          "nan_count": 0,
          "min": "3",
          "max": "3",
          "histogram": [
           {
            "bin_start": 2.5,
            "bin_end": 2.6,
            "count": 0
           },
           {
            "bin_start": 2.6,
            "bin_end": 2.7,
            "count": 0
           },
           {
            "bin_start": 2.7,
            "bin_end": 2.8,
            "count": 0
           },
           {
            "bin_start": 2.8,
            "bin_end": 2.9,
            "count": 0
           },
           {
            "bin_start": 2.9,
            "bin_end": 3,
            "count": 0
           },
           {
            "bin_start": 3,
            "bin_end": 3.1,
            "count": 5
           },
           {
            "bin_start": 3.1,
            "bin_end": 3.2,
            "count": 0
           },
           {
            "bin_start": 3.2,
            "bin_end": 3.3,
            "count": 0
           },
           {
            "bin_start": 3.3,
            "bin_end": 3.4,
            "count": 0
           },
           {
            "bin_start": 3.4,
            "bin_end": 3.5,
            "count": 0
           }
          ]
         }
        },
        {
         "name": "day",
         "dtype": "int64",
         "stats": {
          "unique_count": 1,
          "nan_count": 0,
          "min": "13",
          "max": "13",
          "histogram": [
           {
            "bin_start": 12.5,
            "bin_end": 12.6,
            "count": 0
           },
           {
            "bin_start": 12.6,
            "bin_end": 12.7,
            "count": 0
           },
           {
            "bin_start": 12.7,
            "bin_end": 12.8,
            "count": 0
           },
           {
            "bin_start": 12.8,
            "bin_end": 12.9,
            "count": 0
           },
           {
            "bin_start": 12.9,
            "bin_end": 13,
            "count": 0
           },
           {
            "bin_start": 13,
            "bin_end": 13.1,
            "count": 5
           },
           {
            "bin_start": 13.1,
            "bin_end": 13.2,
            "count": 0
           },
           {
            "bin_start": 13.2,
            "bin_end": 13.3,
            "count": 0
           },
           {
            "bin_start": 13.3,
            "bin_end": 13.4,
            "count": 0
           },
           {
            "bin_start": 13.4,
            "bin_end": 13.5,
            "count": 0
           }
          ]
         }
        },
        {
         "name": "day_of_week",
         "dtype": "int64",
         "stats": {
          "unique_count": 1,
          "nan_count": 0,
          "min": "4",
          "max": "4",
          "histogram": [
           {
            "bin_start": 3.5,
            "bin_end": 3.6,
            "count": 0
           },
           {
            "bin_start": 3.6,
            "bin_end": 3.7,
            "count": 0
           },
           {
            "bin_start": 3.7,
            "bin_end": 3.8,
            "count": 0
           },
           {
            "bin_start": 3.8,
            "bin_end": 3.9,
            "count": 0
           },
           {
            "bin_start": 3.9,
            "bin_end": 4,
            "count": 0
           },
           {
            "bin_start": 4,
            "bin_end": 4.1,
            "count": 5
           },
           {
            "bin_start": 4.1,
            "bin_end": 4.2,
            "count": 0
           },
           {
            "bin_start": 4.2,
            "bin_end": 4.3,
            "count": 0
           },
           {
            "bin_start": 4.3,
            "bin_end": 4.4,
            "count": 0
           },
           {
            "bin_start": 4.4,
            "bin_end": 4.5,
            "count": 0
           }
          ]
         }
        },
        {
         "name": "quarter",
         "dtype": "int64",
         "stats": {
          "unique_count": 1,
          "nan_count": 0,
          "min": "1",
          "max": "1",
          "histogram": [
           {
            "bin_start": 0.5,
            "bin_end": 0.6,
            "count": 0
           },
           {
            "bin_start": 0.6,
            "bin_end": 0.7,
            "count": 0
           },
           {
            "bin_start": 0.7,
            "bin_end": 0.8,
            "count": 0
           },
           {
            "bin_start": 0.8,
            "bin_end": 0.9,
            "count": 0
           },
           {
            "bin_start": 0.9,
            "bin_end": 1,
            "count": 0
           },
           {
            "bin_start": 1,
            "bin_end": 1.1,
            "count": 5
           },
           {
            "bin_start": 1.1,
            "bin_end": 1.2000000000000002,
            "count": 0
           },
           {
            "bin_start": 1.2000000000000002,
            "bin_end": 1.3,
            "count": 0
           },
           {
            "bin_start": 1.3,
            "bin_end": 1.4,
            "count": 0
           },
           {
            "bin_start": 1.4,
            "bin_end": 1.5,
            "count": 0
           }
          ]
         }
        },
        {
         "name": "_deepnote_index_column",
         "dtype": "datetime64[ns]"
        }
       ],
       "rows": [
        {
         "provincia": "Azuay",
         "poblacion": 881394,
         "total": 0,
         "nuevas": 0,
         "lat": -2.897414,
         "lng": -79.004481,
         "year": 2020,
         "month": 3,
         "day": 13,
         "day_of_week": 4,
         "quarter": 1,
         "_deepnote_index_column": "2020-03-13T00:00:00.000000"
        },
        {
         "provincia": "Bolívar",
         "poblacion": 209933,
         "total": 0,
         "nuevas": 0,
         "lat": -1.605556,
         "lng": -79.003056,
         "year": 2020,
         "month": 3,
         "day": 13,
         "day_of_week": 4,
         "quarter": 1,
         "_deepnote_index_column": "2020-03-13T00:00:00.000000"
        },
        {
         "provincia": "Carchi",
         "poblacion": 186869,
         "total": 0,
         "nuevas": 0,
         "lat": 0.81218,
         "lng": -77.71633,
         "year": 2020,
         "month": 3,
         "day": 13,
         "day_of_week": 4,
         "quarter": 1,
         "_deepnote_index_column": "2020-03-13T00:00:00.000000"
        },
        {
         "provincia": "Cañar",
         "poblacion": 281396,
         "total": 0,
         "nuevas": 0,
         "lat": -2.733333,
         "lng": -78.833333,
         "year": 2020,
         "month": 3,
         "day": 13,
         "day_of_week": 4,
         "quarter": 1,
         "_deepnote_index_column": "2020-03-13T00:00:00.000000"
        },
        {
         "provincia": "Chimborazo",
         "poblacion": 524004,
         "total": 0,
         "nuevas": 0,
         "lat": -1.674347,
         "lng": -78.648294,
         "year": 2020,
         "month": 3,
         "day": 13,
         "day_of_week": 4,
         "quarter": 1,
         "_deepnote_index_column": "2020-03-13T00:00:00.000000"
        }
       ]
      },
      "text/plain": "             provincia  poblacion  total  nuevas       lat        lng  year  \\\ncreated_at                                                                    \n2020-03-13       Azuay     881394      0       0 -2.897414 -79.004481  2020   \n2020-03-13     Bolívar     209933      0       0 -1.605556 -79.003056  2020   \n2020-03-13      Carchi     186869      0       0  0.812180 -77.716330  2020   \n2020-03-13       Cañar     281396      0       0 -2.733333 -78.833333  2020   \n2020-03-13  Chimborazo     524004      0       0 -1.674347 -78.648294  2020   \n\n            month  day  day_of_week  quarter  \ncreated_at                                    \n2020-03-13      3   13            4        1  \n2020-03-13      3   13            4        1  \n2020-03-13      3   13            4        1  \n2020-03-13      3   13            4        1  \n2020-03-13      3   13            4        1  ",
      "text/html": "<div>\n<style scoped>\n    .dataframe tbody tr th:only-of-type {\n        vertical-align: middle;\n    }\n\n    .dataframe tbody tr th {\n        vertical-align: top;\n    }\n\n    .dataframe thead th {\n        text-align: right;\n    }\n</style>\n<table border=\"1\" class=\"dataframe\">\n  <thead>\n    <tr style=\"text-align: right;\">\n      <th></th>\n      <th>provincia</th>\n      <th>poblacion</th>\n      <th>total</th>\n      <th>nuevas</th>\n      <th>lat</th>\n      <th>lng</th>\n      <th>year</th>\n      <th>month</th>\n      <th>day</th>\n      <th>day_of_week</th>\n      <th>quarter</th>\n    </tr>\n    <tr>\n      <th>created_at</th>\n      <th></th>\n      <th></th>\n      <th></th>\n      <th></th>\n      <th></th>\n      <th></th>\n      <th></th>\n      <th></th>\n      <th></th>\n      <th></th>\n      <th></th>\n    </tr>\n  </thead>\n  <tbody>\n    <tr>\n      <th>2020-03-13</th>\n      <td>Azuay</td>\n      <td>881394</td>\n      <td>0</td>\n      <td>0</td>\n      <td>-2.897414</td>\n      <td>-79.004481</td>\n      <td>2020</td>\n      <td>3</td>\n      <td>13</td>\n      <td>4</td>\n      <td>1</td>\n    </tr>\n    <tr>\n      <th>2020-03-13</th>\n      <td>Bolívar</td>\n      <td>209933</td>\n      <td>0</td>\n      <td>0</td>\n      <td>-1.605556</td>\n      <td>-79.003056</td>\n      <td>2020</td>\n      <td>3</td>\n      <td>13</td>\n      <td>4</td>\n      <td>1</td>\n    </tr>\n    <tr>\n      <th>2020-03-13</th>\n      <td>Carchi</td>\n      <td>186869</td>\n      <td>0</td>\n      <td>0</td>\n      <td>0.812180</td>\n      <td>-77.716330</td>\n      <td>2020</td>\n      <td>3</td>\n      <td>13</td>\n      <td>4</td>\n      <td>1</td>\n    </tr>\n    <tr>\n      <th>2020-03-13</th>\n      <td>Cañar</td>\n      <td>281396</td>\n      <td>0</td>\n      <td>0</td>\n      <td>-2.733333</td>\n      <td>-78.833333</td>\n      <td>2020</td>\n      <td>3</td>\n      <td>13</td>\n      <td>4</td>\n      <td>1</td>\n    </tr>\n    <tr>\n      <th>2020-03-13</th>\n      <td>Chimborazo</td>\n      <td>524004</td>\n      <td>0</td>\n      <td>0</td>\n      <td>-1.674347</td>\n      <td>-78.648294</td>\n      <td>2020</td>\n      <td>3</td>\n      <td>13</td>\n      <td>4</td>\n      <td>1</td>\n    </tr>\n  </tbody>\n</table>\n</div>"
     },
     "metadata": {}
    }
   ],
   "execution_count": null
  },
  {
   "cell_type": "code",
   "metadata": {
    "tags": [],
    "cell_id": "00012-ca06c30a-6959-4556-9704-72cfbe774562",
    "deepnote_to_be_reexecuted": false,
    "source_hash": "81fca66c",
    "execution_start": 1639867079325,
    "execution_millis": 640749,
    "deepnote_output_heights": [
     21.078125
    ],
    "deepnote_cell_type": "code"
   },
   "source": "df_positives.index.min()",
   "outputs": [
    {
     "output_type": "execute_result",
     "execution_count": 9,
     "data": {
      "text/plain": "Timestamp('2020-03-13 00:00:00')"
     },
     "metadata": {}
    }
   ],
   "execution_count": null
  },
  {
   "cell_type": "code",
   "metadata": {
    "tags": [],
    "cell_id": "00012-35b1ae17-13c5-4a57-a13e-623a0693104a",
    "deepnote_to_be_reexecuted": false,
    "source_hash": "f2f79983",
    "execution_start": 1639867079443,
    "execution_millis": 640753,
    "deepnote_cell_type": "code"
   },
   "source": "sns.set_theme()",
   "outputs": [],
   "execution_count": null
  },
  {
   "cell_type": "code",
   "metadata": {
    "tags": [],
    "cell_id": "00013-c32e4d2c-5924-4fd1-a334-5a25b0c69c10",
    "deepnote_to_be_reexecuted": false,
    "source_hash": "edf6f56a",
    "execution_start": 1639867079486,
    "execution_millis": 1995,
    "deepnote_output_heights": [
     433.96875
    ],
    "deepnote_cell_type": "code"
   },
   "source": "fig, ax = plt.subplots(figsize=(12, 7))\nplt.plot(df_positives.index, df_positives['nuevas'])\nplt.title('New positives in 2020 and 2021', size=16)\nplt.show()",
   "outputs": [
    {
     "data": {
      "text/plain": "<Figure size 864x504 with 1 Axes>",
      "image/png": "[encoded data removed]"
     },
     "metadata": {
      "image/png": {
       "width": 729,
       "height": 432
      }
     },
     "output_type": "display_data"
    }
   ],
   "execution_count": null
  },
  {
   "cell_type": "code",
   "metadata": {
    "tags": [],
    "cell_id": "00014-f6a7c99c-019c-4724-8cfa-f283d7d27d16",
    "deepnote_to_be_reexecuted": false,
    "source_hash": "38c7307a",
    "execution_start": 1639867081235,
    "execution_millis": 1090,
    "deepnote_output_heights": [
     305.984375
    ],
    "deepnote_cell_type": "code"
   },
   "source": "df_positives.groupby('year')[['nuevas']].sum().plot.bar()\nplt.title('New positives in 2020 vs 2021', size=16)\nplt.show()",
   "outputs": [
    {
     "data": {
      "text/plain": "<Figure size 432x288 with 1 Axes>",
      "image/png": "[encoded data removed]"
     },
     "metadata": {
      "image/png": {
       "width": 400,
       "height": 304
      }
     },
     "output_type": "display_data"
    }
   ],
   "execution_count": null
  },
  {
   "cell_type": "code",
   "metadata": {
    "tags": [],
    "cell_id": "00015-0575cd7f-34ca-450c-aae6-8824cdfe96dc",
    "deepnote_to_be_reexecuted": false,
    "source_hash": "3277b7c7",
    "execution_start": 1639867082382,
    "execution_millis": 1433,
    "deepnote_output_heights": [
     452.984375
    ],
    "deepnote_cell_type": "code"
   },
   "source": "fig, ax = plt.subplots(figsize=(12, 7))\npd.pivot_table(df_positives.groupby(['year', 'month'])[['nuevas']].sum().reset_index(), \nvalues='nuevas', index='month', columns='year').plot.bar(ax=ax)\nplt.title('Comparison of new positives')\nplt.show()",
   "outputs": [
    {
     "data": {
      "text/plain": "<Figure size 864x504 with 1 Axes>",
      "image/png": "[encoded data removed]"
     },
     "metadata": {
      "image/png": {
       "width": 728,
       "height": 451
      }
     },
     "output_type": "display_data"
    }
   ],
   "execution_count": null
  },
  {
   "cell_type": "code",
   "metadata": {
    "tags": [],
    "cell_id": "00014-de26de56-cfdb-4378-b378-054c5d3381db",
    "deepnote_to_be_reexecuted": false,
    "source_hash": "e4ed5755",
    "execution_start": 1639867083818,
    "execution_millis": 1127,
    "deepnote_output_heights": [
     445.984375
    ],
    "deepnote_cell_type": "code"
   },
   "source": "fig, ax = plt.subplots(figsize=(12, 7))\npd.pivot_table(df_positives.groupby(['year', 'quarter'])[['nuevas']].sum().reset_index(), \nvalues='nuevas', index='quarter', columns='year').plot.bar(ax=ax)\nplt.title('Comparison of new positives')\nplt.show()",
   "outputs": [
    {
     "data": {
      "text/plain": "<Figure size 864x504 with 1 Axes>",
      "image/png": "[encoded data removed]"
     },
     "metadata": {
      "image/png": {
       "width": 735,
       "height": 444
      }
     },
     "output_type": "display_data"
    }
   ],
   "execution_count": null
  },
  {
   "cell_type": "code",
   "metadata": {
    "tags": [],
    "cell_id": "00015-e1912066-fe37-4913-a6e5-6bdbc03ec451",
    "deepnote_to_be_reexecuted": false,
    "source_hash": "ebf1b81c",
    "execution_start": 1639867084956,
    "execution_millis": 1276,
    "deepnote_output_heights": [
     445.984375
    ],
    "deepnote_cell_type": "code"
   },
   "source": "fig, ax = plt.subplots(figsize=(12, 7))\npd.pivot_table(df_positives.groupby(['year', 'day_of_week'])[['nuevas']].sum().reset_index(), \nvalues='nuevas', index='day_of_week', columns='year').plot.bar(ax=ax)\nplt.title('Comparison of new positives')\nplt.show()",
   "outputs": [
    {
     "data": {
      "text/plain": "<Figure size 864x504 with 1 Axes>",
      "image/png": "[encoded data removed]"
     },
     "metadata": {
      "image/png": {
       "width": 728,
       "height": 444
      }
     },
     "output_type": "display_data"
    }
   ],
   "execution_count": null
  },
  {
   "cell_type": "code",
   "metadata": {
    "tags": [],
    "cell_id": "00016-93b4fcdb-53ff-4db3-a742-abad89311def",
    "deepnote_to_be_reexecuted": false,
    "source_hash": "ece2f5d4",
    "execution_start": 1639867086258,
    "execution_millis": 2568,
    "deepnote_output_heights": [
     452.984375
    ],
    "deepnote_cell_type": "code"
   },
   "source": "fig, ax = plt.subplots(figsize=(12, 7))\npd.pivot_table(df_positives.groupby(['year', 'day'])[['nuevas']].sum().reset_index(), \nvalues='nuevas', index='day', columns='year').plot.bar(ax=ax)\nplt.title('Comparison of new positives')\nplt.show()",
   "outputs": [
    {
     "data": {
      "text/plain": "<Figure size 864x504 with 1 Axes>",
      "image/png": "[encoded data removed]"
     },
     "metadata": {
      "image/png": {
       "width": 728,
       "height": 451
      }
     },
     "output_type": "display_data"
    }
   ],
   "execution_count": null
  },
  {
   "cell_type": "markdown",
   "source": "So far, visualizations tell us:\n\n* Durig the first half of 2021 contagions reached record-highs.\n* During 2020, the last months had more contagions.\n* While since July contagions began to reduce, it's november when contagions are increasing again. But numbers are not as high as before July. LOOK OUT.\n* We may say that holidays made contagions increase. But we'll investigate that later.\n\nWe need more information related to bed availability and vaccionations.",
   "metadata": {
    "tags": [],
    "cell_id": "00017-54695a4d-ba52-40cd-aa09-1ba82c4cb8ab",
    "deepnote_cell_type": "markdown"
   }
  },
  {
   "cell_type": "code",
   "metadata": {
    "tags": [],
    "cell_id": "00018-1b429b9e-b3c4-4d5b-bb74-86e38dc86eb4",
    "deepnote_to_be_reexecuted": false,
    "source_hash": "7894e79e",
    "execution_start": 1639867088934,
    "execution_millis": 564,
    "deepnote_output_heights": [
     411.1875
    ],
    "deepnote_cell_type": "code"
   },
   "source": "df_positives.query('quarter >= 3 and year == 2020')",
   "outputs": [
    {
     "output_type": "execute_result",
     "execution_count": 17,
     "data": {
      "application/vnd.deepnote.dataframe.v3+json": {
       "column_count": 11,
       "row_count": 4416,
       "columns": [
        {
         "name": "provincia",
         "dtype": "object",
         "stats": {
          "unique_count": 24,
          "nan_count": 0,
          "categories": [
           {
            "name": "Azuay",
            "count": 184
           },
           {
            "name": "Bolívar",
            "count": 184
           },
           {
            "name": "22 others",
            "count": 4048
           }
          ]
         }
        },
        {
         "name": "poblacion",
         "dtype": "int64",
         "stats": {
          "unique_count": 24,
          "nan_count": 0,
          "min": "33042",
          "max": "4387434",
          "histogram": [
           {
            "bin_start": 33042,
            "bin_end": 468481.2,
            "count": 2024
           },
           {
            "bin_start": 468481.2,
            "bin_end": 903920.4,
            "count": 1656
           },
           {
            "bin_start": 903920.4,
            "bin_end": 1339359.6,
            "count": 184
           },
           {
            "bin_start": 1339359.6,
            "bin_end": 1774798.8,
            "count": 184
           },
           {
            "bin_start": 1774798.8,
            "bin_end": 2210238,
            "count": 0
           },
           {
            "bin_start": 2210238,
            "bin_end": 2645677.2,
            "count": 0
           },
           {
            "bin_start": 2645677.2,
            "bin_end": 3081116.4,
            "count": 0
           },
           {
            "bin_start": 3081116.4,
            "bin_end": 3516555.6,
            "count": 184
           },
           {
            "bin_start": 3516555.6,
            "bin_end": 3951994.8000000003,
            "count": 0
           },
           {
            "bin_start": 3951994.8000000003,
            "bin_end": 4387434,
            "count": 184
           }
          ]
         }
        },
        {
         "name": "total",
         "dtype": "int64",
         "stats": {
          "unique_count": 3139,
          "nan_count": 0,
          "min": "97",
          "max": "75465",
          "histogram": [
           {
            "bin_start": 97,
            "bin_end": 7633.8,
            "count": 3787
           },
           {
            "bin_start": 7633.8,
            "bin_end": 15170.6,
            "count": 295
           },
           {
            "bin_start": 15170.6,
            "bin_end": 22707.4,
            "count": 152
           },
           {
            "bin_start": 22707.4,
            "bin_end": 30244.2,
            "count": 75
           },
           {
            "bin_start": 30244.2,
            "bin_end": 37781,
            "count": 10
           },
           {
            "bin_start": 37781,
            "bin_end": 45317.8,
            "count": 14
           },
           {
            "bin_start": 45317.8,
            "bin_end": 52854.6,
            "count": 14
           },
           {
            "bin_start": 52854.6,
            "bin_end": 60391.4,
            "count": 13
           },
           {
            "bin_start": 60391.4,
            "bin_end": 67928.2,
            "count": 21
           },
           {
            "bin_start": 67928.2,
            "bin_end": 75465,
            "count": 35
           }
          ]
         }
        },
        {
         "name": "nuevas",
         "dtype": "int64",
         "stats": {
          "unique_count": 292,
          "nan_count": 0,
          "min": "0",
          "max": "1684",
          "histogram": [
           {
            "bin_start": 0,
            "bin_end": 168.4,
            "count": 4258
           },
           {
            "bin_start": 168.4,
            "bin_end": 336.8,
            "count": 78
           },
           {
            "bin_start": 336.8,
            "bin_end": 505.20000000000005,
            "count": 34
           },
           {
            "bin_start": 505.20000000000005,
            "bin_end": 673.6,
            "count": 17
           },
           {
            "bin_start": 673.6,
            "bin_end": 842,
            "count": 12
           },
           {
            "bin_start": 842,
            "bin_end": 1010.4000000000001,
            "count": 7
           },
           {
            "bin_start": 1010.4000000000001,
            "bin_end": 1178.8,
            "count": 6
           },
           {
            "bin_start": 1178.8,
            "bin_end": 1347.2,
            "count": 0
           },
           {
            "bin_start": 1347.2,
            "bin_end": 1515.6000000000001,
            "count": 1
           },
           {
            "bin_start": 1515.6000000000001,
            "bin_end": 1684,
            "count": 3
           }
          ]
         }
        },
        {
         "name": "lat",
         "dtype": "float64",
         "stats": {
          "unique_count": 24,
          "nan_count": 0,
          "min": "-4.12",
          "max": "1.05",
          "histogram": [
           {
            "bin_start": -4.12,
            "bin_end": -3.603,
            "count": 368
           },
           {
            "bin_start": -3.603,
            "bin_end": -3.0860000000000003,
            "count": 184
           },
           {
            "bin_start": -3.0860000000000003,
            "bin_end": -2.569,
            "count": 368
           },
           {
            "bin_start": -2.569,
            "bin_end": -2.052,
            "count": 552
           },
           {
            "bin_start": -2.052,
            "bin_end": -1.5350000000000001,
            "count": 552
           },
           {
            "bin_start": -1.5350000000000001,
            "bin_end": -1.0179999999999998,
            "count": 552
           },
           {
            "bin_start": -1.0179999999999998,
            "bin_end": -0.5009999999999999,
            "count": 552
           },
           {
            "bin_start": -0.5009999999999999,
            "bin_end": 0.016000000000000014,
            "count": 552
           },
           {
            "bin_start": 0.016000000000000014,
            "bin_end": 0.5330000000000004,
            "count": 368
           },
           {
            "bin_start": 0.5330000000000004,
            "bin_end": 1.05,
            "count": 368
           }
          ]
         }
        },
        {
         "name": "lng",
         "dtype": "float64",
         "stats": {
          "unique_count": 23,
          "nan_count": 0,
          "min": "-89.4",
          "max": "-76.882778",
          "histogram": [
           {
            "bin_start": -89.4,
            "bin_end": -88.1482778,
            "count": 184
           },
           {
            "bin_start": -88.1482778,
            "bin_end": -86.8965556,
            "count": 0
           },
           {
            "bin_start": -86.8965556,
            "bin_end": -85.64483340000001,
            "count": 0
           },
           {
            "bin_start": -85.64483340000001,
            "bin_end": -84.3931112,
            "count": 0
           },
           {
            "bin_start": -84.3931112,
            "bin_end": -83.141389,
            "count": 0
           },
           {
            "bin_start": -83.141389,
            "bin_end": -81.8896668,
            "count": 0
           },
           {
            "bin_start": -81.8896668,
            "bin_end": -80.6379446,
            "count": 184
           },
           {
            "bin_start": -80.6379446,
            "bin_end": -79.38622240000001,
            "count": 736
           },
           {
            "bin_start": -79.38622240000001,
            "bin_end": -78.1345002,
            "count": 2024
           },
           {
            "bin_start": -78.1345002,
            "bin_end": -76.882778,
            "count": 1288
           }
          ]
         }
        },
        {
         "name": "year",
         "dtype": "int64",
         "stats": {
          "unique_count": 1,
          "nan_count": 0,
          "min": "2020",
          "max": "2020",
          "histogram": [
           {
            "bin_start": 2019.5,
            "bin_end": 2019.6,
            "count": 0
           },
           {
            "bin_start": 2019.6,
            "bin_end": 2019.7,
            "count": 0
           },
           {
            "bin_start": 2019.7,
            "bin_end": 2019.8,
            "count": 0
           },
           {
            "bin_start": 2019.8,
            "bin_end": 2019.9,
            "count": 0
           },
           {
            "bin_start": 2019.9,
            "bin_end": 2020,
            "count": 0
           },
           {
            "bin_start": 2020,
            "bin_end": 2020.1,
            "count": 4416
           },
           {
            "bin_start": 2020.1,
            "bin_end": 2020.2,
            "count": 0
           },
           {
            "bin_start": 2020.2,
            "bin_end": 2020.3,
            "count": 0
           },
           {
            "bin_start": 2020.3,
            "bin_end": 2020.4,
            "count": 0
           },
           {
            "bin_start": 2020.4,
            "bin_end": 2020.5,
            "count": 0
           }
          ]
         }
        },
        {
         "name": "month",
         "dtype": "int64",
         "stats": {
          "unique_count": 6,
          "nan_count": 0,
          "min": "7",
          "max": "12",
          "histogram": [
           {
            "bin_start": 7,
            "bin_end": 7.5,
            "count": 744
           },
           {
            "bin_start": 7.5,
            "bin_end": 8,
            "count": 0
           },
           {
            "bin_start": 8,
            "bin_end": 8.5,
            "count": 744
           },
           {
            "bin_start": 8.5,
            "bin_end": 9,
            "count": 0
           },
           {
            "bin_start": 9,
            "bin_end": 9.5,
            "count": 720
           },
           {
            "bin_start": 9.5,
            "bin_end": 10,
            "count": 0
           },
           {
            "bin_start": 10,
            "bin_end": 10.5,
            "count": 744
           },
           {
            "bin_start": 10.5,
            "bin_end": 11,
            "count": 0
           },
           {
            "bin_start": 11,
            "bin_end": 11.5,
            "count": 720
           },
           {
            "bin_start": 11.5,
            "bin_end": 12,
            "count": 744
           }
          ]
         }
        },
        {
         "name": "day",
         "dtype": "int64",
         "stats": {
          "unique_count": 31,
          "nan_count": 0,
          "min": "1",
          "max": "31",
          "histogram": [
           {
            "bin_start": 1,
            "bin_end": 4,
            "count": 432
           },
           {
            "bin_start": 4,
            "bin_end": 7,
            "count": 432
           },
           {
            "bin_start": 7,
            "bin_end": 10,
            "count": 432
           },
           {
            "bin_start": 10,
            "bin_end": 13,
            "count": 432
           },
           {
            "bin_start": 13,
            "bin_end": 16,
            "count": 432
           },
           {
            "bin_start": 16,
            "bin_end": 19,
            "count": 432
           },
           {
            "bin_start": 19,
            "bin_end": 22,
            "count": 432
           },
           {
            "bin_start": 22,
            "bin_end": 25,
            "count": 432
           },
           {
            "bin_start": 25,
            "bin_end": 28,
            "count": 432
           },
           {
            "bin_start": 28,
            "bin_end": 31,
            "count": 528
           }
          ]
         }
        },
        {
         "name": "day_of_week",
         "dtype": "int64",
         "stats": {
          "unique_count": 7,
          "nan_count": 0,
          "min": "0",
          "max": "6",
          "histogram": [
           {
            "bin_start": 0,
            "bin_end": 0.6,
            "count": 624
           },
           {
            "bin_start": 0.6,
            "bin_end": 1.2,
            "count": 624
           },
           {
            "bin_start": 1.2,
            "bin_end": 1.7999999999999998,
            "count": 0
           },
           {
            "bin_start": 1.7999999999999998,
            "bin_end": 2.4,
            "count": 648
           },
           {
            "bin_start": 2.4,
            "bin_end": 3,
            "count": 0
           },
           {
            "bin_start": 3,
            "bin_end": 3.5999999999999996,
            "count": 648
           },
           {
            "bin_start": 3.5999999999999996,
            "bin_end": 4.2,
            "count": 624
           },
           {
            "bin_start": 4.2,
            "bin_end": 4.8,
            "count": 0
           },
           {
            "bin_start": 4.8,
            "bin_end": 5.3999999999999995,
            "count": 624
           },
           {
            "bin_start": 5.3999999999999995,
            "bin_end": 6,
            "count": 624
           }
          ]
         }
        },
        {
         "name": "quarter",
         "dtype": "int64",
         "stats": {
          "unique_count": 2,
          "nan_count": 0,
          "min": "3",
          "max": "4",
          "histogram": [
           {
            "bin_start": 3,
            "bin_end": 3.1,
            "count": 2208
           },
           {
            "bin_start": 3.1,
            "bin_end": 3.2,
            "count": 0
           },
           {
            "bin_start": 3.2,
            "bin_end": 3.3,
            "count": 0
           },
           {
            "bin_start": 3.3,
            "bin_end": 3.4,
            "count": 0
           },
           {
            "bin_start": 3.4,
            "bin_end": 3.5,
            "count": 0
           },
           {
            "bin_start": 3.5,
            "bin_end": 3.6,
            "count": 0
           },
           {
            "bin_start": 3.6,
            "bin_end": 3.7,
            "count": 0
           },
           {
            "bin_start": 3.7,
            "bin_end": 3.8,
            "count": 0
           },
           {
            "bin_start": 3.8,
            "bin_end": 3.9,
            "count": 0
           },
           {
            "bin_start": 3.9,
            "bin_end": 4,
            "count": 2208
           }
          ]
         }
        },
        {
         "name": "_deepnote_index_column",
         "dtype": "datetime64[ns]"
        }
       ],
       "rows": [
        {
         "provincia": "Azuay",
         "poblacion": 881394,
         "total": 1791,
         "nuevas": 29,
         "lat": -2.897414,
         "lng": -79.004481,
         "year": 2020,
         "month": 7,
         "day": 1,
         "day_of_week": 2,
         "quarter": 3,
         "_deepnote_index_column": "2020-07-01T00:00:00.000000"
        },
        {
         "provincia": "Bolívar",
         "poblacion": 209933,
         "total": 654,
         "nuevas": 6,
         "lat": -1.605556,
         "lng": -79.003056,
         "year": 2020,
         "month": 7,
         "day": 1,
         "day_of_week": 2,
         "quarter": 3,
         "_deepnote_index_column": "2020-07-01T00:00:00.000000"
        },
        {
         "provincia": "Carchi",
         "poblacion": 186869,
         "total": 303,
         "nuevas": 1,
         "lat": 0.81218,
         "lng": -77.71633,
         "year": 2020,
         "month": 7,
         "day": 1,
         "day_of_week": 2,
         "quarter": 3,
         "_deepnote_index_column": "2020-07-01T00:00:00.000000"
        },
        {
         "provincia": "Cañar",
         "poblacion": 281396,
         "total": 545,
         "nuevas": 3,
         "lat": -2.733333,
         "lng": -78.833333,
         "year": 2020,
         "month": 7,
         "day": 1,
         "day_of_week": 2,
         "quarter": 3,
         "_deepnote_index_column": "2020-07-01T00:00:00.000000"
        },
        {
         "provincia": "Chimborazo",
         "poblacion": 524004,
         "total": 777,
         "nuevas": 4,
         "lat": -1.674347,
         "lng": -78.648294,
         "year": 2020,
         "month": 7,
         "day": 1,
         "day_of_week": 2,
         "quarter": 3,
         "_deepnote_index_column": "2020-07-01T00:00:00.000000"
        },
        {
         "provincia": "Cotopaxi",
         "poblacion": 488716,
         "total": 1097,
         "nuevas": 5,
         "lat": -0.933333,
         "lng": -78.616667,
         "year": 2020,
         "month": 7,
         "day": 1,
         "day_of_week": 2,
         "quarter": 3,
         "_deepnote_index_column": "2020-07-01T00:00:00.000000"
        },
        {
         "provincia": "El Oro",
         "poblacion": 715751,
         "total": 2042,
         "nuevas": 20,
         "lat": -3.266667,
         "lng": -79.966667,
         "year": 2020,
         "month": 7,
         "day": 1,
         "day_of_week": 2,
         "quarter": 3,
         "_deepnote_index_column": "2020-07-01T00:00:00.000000"
        },
        {
         "provincia": "Esmeraldas",
         "poblacion": 591083,
         "total": 2087,
         "nuevas": 3,
         "lat": 1.05,
         "lng": -79.2,
         "year": 2020,
         "month": 7,
         "day": 1,
         "day_of_week": 2,
         "quarter": 3,
         "_deepnote_index_column": "2020-07-01T00:00:00.000000"
        },
        {
         "provincia": "Galápagos",
         "poblacion": 33042,
         "total": 97,
         "nuevas": 9,
         "lat": -0.7999999999999999,
         "lng": -89.4,
         "year": 2020,
         "month": 7,
         "day": 1,
         "day_of_week": 2,
         "quarter": 3,
         "_deepnote_index_column": "2020-07-01T00:00:00.000000"
        },
        {
         "provincia": "Guayas",
         "poblacion": 4387434,
         "total": 15903,
         "nuevas": 891,
         "lat": -2.183333,
         "lng": -79.883333,
         "year": 2020,
         "month": 7,
         "day": 1,
         "day_of_week": 2,
         "quarter": 3,
         "_deepnote_index_column": "2020-07-01T00:00:00.000000"
        }
       ]
      },
      "text/plain": "                         provincia  poblacion  total  nuevas       lat  \\\ncreated_at                                                               \n2020-07-01                   Azuay     881394   1791      29 -2.897414   \n2020-07-01                 Bolívar     209933    654       6 -1.605556   \n2020-07-01                  Carchi     186869    303       1  0.812180   \n2020-07-01                   Cañar     281396    545       3 -2.733333   \n2020-07-01              Chimborazo     524004    777       4 -1.674347   \n...                            ...        ...    ...     ...       ...   \n2020-12-31             Santa Elena     401178   2631      12 -2.226700   \n2020-12-31  Sto. Domingo Tsáchilas     511151   5914      41 -0.254167   \n2020-12-31               Sucumbíos     230503   3009       1  0.084722   \n2020-12-31              Tungurahua     590600   7453      57 -1.241667   \n2020-12-31        Zamora Chinchipe     120416   1669       2 -4.120000   \n\n                  lng  year  month  day  day_of_week  quarter  \ncreated_at                                                     \n2020-07-01 -79.004481  2020      7    1            2        3  \n2020-07-01 -79.003056  2020      7    1            2        3  \n2020-07-01 -77.716330  2020      7    1            2        3  \n2020-07-01 -78.833333  2020      7    1            2        3  \n2020-07-01 -78.648294  2020      7    1            2        3  \n...               ...   ...    ...  ...          ...      ...  \n2020-12-31 -80.858300  2020     12   31            3        4  \n2020-12-31 -79.171944  2020     12   31            3        4  \n2020-12-31 -76.882778  2020     12   31            3        4  \n2020-12-31 -78.619722  2020     12   31            3        4  \n2020-12-31 -78.800000  2020     12   31            3        4  \n\n[4416 rows x 11 columns]",
      "text/html": "<div>\n<style scoped>\n    .dataframe tbody tr th:only-of-type {\n        vertical-align: middle;\n    }\n\n    .dataframe tbody tr th {\n        vertical-align: top;\n    }\n\n    .dataframe thead th {\n        text-align: right;\n    }\n</style>\n<table border=\"1\" class=\"dataframe\">\n  <thead>\n    <tr style=\"text-align: right;\">\n      <th></th>\n      <th>provincia</th>\n      <th>poblacion</th>\n      <th>total</th>\n      <th>nuevas</th>\n      <th>lat</th>\n      <th>lng</th>\n      <th>year</th>\n      <th>month</th>\n      <th>day</th>\n      <th>day_of_week</th>\n      <th>quarter</th>\n    </tr>\n    <tr>\n      <th>created_at</th>\n      <th></th>\n      <th></th>\n      <th></th>\n      <th></th>\n      <th></th>\n      <th></th>\n      <th></th>\n      <th></th>\n      <th></th>\n      <th></th>\n      <th></th>\n    </tr>\n  </thead>\n  <tbody>\n    <tr>\n      <th>2020-07-01</th>\n      <td>Azuay</td>\n      <td>881394</td>\n      <td>1791</td>\n      <td>29</td>\n      <td>-2.897414</td>\n      <td>-79.004481</td>\n      <td>2020</td>\n      <td>7</td>\n      <td>1</td>\n      <td>2</td>\n      <td>3</td>\n    </tr>\n    <tr>\n      <th>2020-07-01</th>\n      <td>Bolívar</td>\n      <td>209933</td>\n      <td>654</td>\n      <td>6</td>\n      <td>-1.605556</td>\n      <td>-79.003056</td>\n      <td>2020</td>\n      <td>7</td>\n      <td>1</td>\n      <td>2</td>\n      <td>3</td>\n    </tr>\n    <tr>\n      <th>2020-07-01</th>\n      <td>Carchi</td>\n      <td>186869</td>\n      <td>303</td>\n      <td>1</td>\n      <td>0.812180</td>\n      <td>-77.716330</td>\n      <td>2020</td>\n      <td>7</td>\n      <td>1</td>\n      <td>2</td>\n      <td>3</td>\n    </tr>\n    <tr>\n      <th>2020-07-01</th>\n      <td>Cañar</td>\n      <td>281396</td>\n      <td>545</td>\n      <td>3</td>\n      <td>-2.733333</td>\n      <td>-78.833333</td>\n      <td>2020</td>\n      <td>7</td>\n      <td>1</td>\n      <td>2</td>\n      <td>3</td>\n    </tr>\n    <tr>\n      <th>2020-07-01</th>\n      <td>Chimborazo</td>\n      <td>524004</td>\n      <td>777</td>\n      <td>4</td>\n      <td>-1.674347</td>\n      <td>-78.648294</td>\n      <td>2020</td>\n      <td>7</td>\n      <td>1</td>\n      <td>2</td>\n      <td>3</td>\n    </tr>\n    <tr>\n      <th>...</th>\n      <td>...</td>\n      <td>...</td>\n      <td>...</td>\n      <td>...</td>\n      <td>...</td>\n      <td>...</td>\n      <td>...</td>\n      <td>...</td>\n      <td>...</td>\n      <td>...</td>\n      <td>...</td>\n    </tr>\n    <tr>\n      <th>2020-12-31</th>\n      <td>Santa Elena</td>\n      <td>401178</td>\n      <td>2631</td>\n      <td>12</td>\n      <td>-2.226700</td>\n      <td>-80.858300</td>\n      <td>2020</td>\n      <td>12</td>\n      <td>31</td>\n      <td>3</td>\n      <td>4</td>\n    </tr>\n    <tr>\n      <th>2020-12-31</th>\n      <td>Sto. Domingo Tsáchilas</td>\n      <td>511151</td>\n      <td>5914</td>\n      <td>41</td>\n      <td>-0.254167</td>\n      <td>-79.171944</td>\n      <td>2020</td>\n      <td>12</td>\n      <td>31</td>\n      <td>3</td>\n      <td>4</td>\n    </tr>\n    <tr>\n      <th>2020-12-31</th>\n      <td>Sucumbíos</td>\n      <td>230503</td>\n      <td>3009</td>\n      <td>1</td>\n      <td>0.084722</td>\n      <td>-76.882778</td>\n      <td>2020</td>\n      <td>12</td>\n      <td>31</td>\n      <td>3</td>\n      <td>4</td>\n    </tr>\n    <tr>\n      <th>2020-12-31</th>\n      <td>Tungurahua</td>\n      <td>590600</td>\n      <td>7453</td>\n      <td>57</td>\n      <td>-1.241667</td>\n      <td>-78.619722</td>\n      <td>2020</td>\n      <td>12</td>\n      <td>31</td>\n      <td>3</td>\n      <td>4</td>\n    </tr>\n    <tr>\n      <th>2020-12-31</th>\n      <td>Zamora Chinchipe</td>\n      <td>120416</td>\n      <td>1669</td>\n      <td>2</td>\n      <td>-4.120000</td>\n      <td>-78.800000</td>\n      <td>2020</td>\n      <td>12</td>\n      <td>31</td>\n      <td>3</td>\n      <td>4</td>\n    </tr>\n  </tbody>\n</table>\n<p>4416 rows × 11 columns</p>\n</div>"
     },
     "metadata": {}
    }
   ],
   "execution_count": null
  },
  {
   "cell_type": "code",
   "metadata": {
    "tags": [],
    "cell_id": "00019-d2ab0cd8-ae6b-4330-a54a-f6ec4286491c",
    "deepnote_to_be_reexecuted": false,
    "source_hash": "6664b262",
    "execution_start": 1639867089562,
    "execution_millis": 559,
    "deepnote_output_heights": [
     411.1875
    ],
    "deepnote_cell_type": "code"
   },
   "source": "df_positives.query('quarter <= 2 and year == 2021')",
   "outputs": [
    {
     "output_type": "execute_result",
     "execution_count": 18,
     "data": {
      "application/vnd.deepnote.dataframe.v3+json": {
       "column_count": 11,
       "row_count": 4344,
       "columns": [
        {
         "name": "provincia",
         "dtype": "object",
         "stats": {
          "unique_count": 24,
          "nan_count": 0,
          "categories": [
           {
            "name": "Azuay",
            "count": 181
           },
           {
            "name": "Bolívar",
            "count": 181
           },
           {
            "name": "22 others",
            "count": 3982
           }
          ]
         }
        },
        {
         "name": "poblacion",
         "dtype": "int64",
         "stats": {
          "unique_count": 24,
          "nan_count": 0,
          "min": "33042",
          "max": "4387434",
          "histogram": [
           {
            "bin_start": 33042,
            "bin_end": 468481.2,
            "count": 1991
           },
           {
            "bin_start": 468481.2,
            "bin_end": 903920.4,
            "count": 1629
           },
           {
            "bin_start": 903920.4,
            "bin_end": 1339359.6,
            "count": 181
           },
           {
            "bin_start": 1339359.6,
            "bin_end": 1774798.8,
            "count": 181
           },
           {
            "bin_start": 1774798.8,
            "bin_end": 2210238,
            "count": 0
           },
           {
            "bin_start": 2210238,
            "bin_end": 2645677.2,
            "count": 0
           },
           {
            "bin_start": 2645677.2,
            "bin_end": 3081116.4,
            "count": 0
           },
           {
            "bin_start": 3081116.4,
            "bin_end": 3516555.6,
            "count": 181
           },
           {
            "bin_start": 3516555.6,
            "bin_end": 3951994.8000000003,
            "count": 0
           },
           {
            "bin_start": 3951994.8000000003,
            "bin_end": 4387434,
            "count": 181
           }
          ]
         }
        },
        {
         "name": "total",
         "dtype": "int64",
         "stats": {
          "unique_count": 3619,
          "nan_count": 0,
          "min": "920",
          "max": "163840",
          "histogram": [
           {
            "bin_start": 920,
            "bin_end": 17212,
            "count": 3632
           },
           {
            "bin_start": 17212,
            "bin_end": 33504,
            "count": 393
           },
           {
            "bin_start": 33504,
            "bin_end": 49796,
            "count": 75
           },
           {
            "bin_start": 49796,
            "bin_end": 66088,
            "count": 63
           },
           {
            "bin_start": 66088,
            "bin_end": 82380,
            "count": 20
           },
           {
            "bin_start": 82380,
            "bin_end": 98672,
            "count": 35
           },
           {
            "bin_start": 98672,
            "bin_end": 114964,
            "count": 35
           },
           {
            "bin_start": 114964,
            "bin_end": 131256,
            "count": 26
           },
           {
            "bin_start": 131256,
            "bin_end": 147548,
            "count": 24
           },
           {
            "bin_start": 147548,
            "bin_end": 163840,
            "count": 41
           }
          ]
         }
        },
        {
         "name": "nuevas",
         "dtype": "int64",
         "stats": {
          "unique_count": 394,
          "nan_count": 0,
          "min": "0",
          "max": "2673",
          "histogram": [
           {
            "bin_start": 0,
            "bin_end": 267.3,
            "count": 4160
           },
           {
            "bin_start": 267.3,
            "bin_end": 534.6,
            "count": 111
           },
           {
            "bin_start": 534.6,
            "bin_end": 801.9000000000001,
            "count": 38
           },
           {
            "bin_start": 801.9000000000001,
            "bin_end": 1069.2,
            "count": 17
           },
           {
            "bin_start": 1069.2,
            "bin_end": 1336.5,
            "count": 9
           },
           {
            "bin_start": 1336.5,
            "bin_end": 1603.8000000000002,
            "count": 5
           },
           {
            "bin_start": 1603.8000000000002,
            "bin_end": 1871.1000000000001,
            "count": 3
           },
           {
            "bin_start": 1871.1000000000001,
            "bin_end": 2138.4,
            "count": 0
           },
           {
            "bin_start": 2138.4,
            "bin_end": 2405.7000000000003,
            "count": 0
           },
           {
            "bin_start": 2405.7000000000003,
            "bin_end": 2673,
            "count": 1
           }
          ]
         }
        },
        {
         "name": "lat",
         "dtype": "float64",
         "stats": {
          "unique_count": 24,
          "nan_count": 0,
          "min": "-4.12",
          "max": "1.05",
          "histogram": [
           {
            "bin_start": -4.12,
            "bin_end": -3.603,
            "count": 362
           },
           {
            "bin_start": -3.603,
            "bin_end": -3.0860000000000003,
            "count": 181
           },
           {
            "bin_start": -3.0860000000000003,
            "bin_end": -2.569,
            "count": 362
           },
           {
            "bin_start": -2.569,
            "bin_end": -2.052,
            "count": 543
           },
           {
            "bin_start": -2.052,
            "bin_end": -1.5350000000000001,
            "count": 543
           },
           {
            "bin_start": -1.5350000000000001,
            "bin_end": -1.0179999999999998,
            "count": 543
           },
           {
            "bin_start": -1.0179999999999998,
            "bin_end": -0.5009999999999999,
            "count": 543
           },
           {
            "bin_start": -0.5009999999999999,
            "bin_end": 0.016000000000000014,
            "count": 543
           },
           {
            "bin_start": 0.016000000000000014,
            "bin_end": 0.5330000000000004,
            "count": 362
           },
           {
            "bin_start": 0.5330000000000004,
            "bin_end": 1.05,
            "count": 362
           }
          ]
         }
        },
        {
         "name": "lng",
         "dtype": "float64",
         "stats": {
          "unique_count": 23,
          "nan_count": 0,
          "min": "-89.4",
          "max": "-76.882778",
          "histogram": [
           {
            "bin_start": -89.4,
            "bin_end": -88.1482778,
            "count": 181
           },
           {
            "bin_start": -88.1482778,
            "bin_end": -86.8965556,
            "count": 0
           },
           {
            "bin_start": -86.8965556,
            "bin_end": -85.64483340000001,
            "count": 0
           },
           {
            "bin_start": -85.64483340000001,
            "bin_end": -84.3931112,
            "count": 0
           },
           {
            "bin_start": -84.3931112,
            "bin_end": -83.141389,
            "count": 0
           },
           {
            "bin_start": -83.141389,
            "bin_end": -81.8896668,
            "count": 0
           },
           {
            "bin_start": -81.8896668,
            "bin_end": -80.6379446,
            "count": 181
           },
           {
            "bin_start": -80.6379446,
            "bin_end": -79.38622240000001,
            "count": 724
           },
           {
            "bin_start": -79.38622240000001,
            "bin_end": -78.1345002,
            "count": 1991
           },
           {
            "bin_start": -78.1345002,
            "bin_end": -76.882778,
            "count": 1267
           }
          ]
         }
        },
        {
         "name": "year",
         "dtype": "int64",
         "stats": {
          "unique_count": 1,
          "nan_count": 0,
          "min": "2021",
          "max": "2021",
          "histogram": [
           {
            "bin_start": 2020.5,
            "bin_end": 2020.6,
            "count": 0
           },
           {
            "bin_start": 2020.6,
            "bin_end": 2020.7,
            "count": 0
           },
           {
            "bin_start": 2020.7,
            "bin_end": 2020.8,
            "count": 0
           },
           {
            "bin_start": 2020.8,
            "bin_end": 2020.9,
            "count": 0
           },
           {
            "bin_start": 2020.9,
            "bin_end": 2021,
            "count": 0
           },
           {
            "bin_start": 2021,
            "bin_end": 2021.1,
            "count": 4344
           },
           {
            "bin_start": 2021.1,
            "bin_end": 2021.2,
            "count": 0
           },
           {
            "bin_start": 2021.2,
            "bin_end": 2021.3,
            "count": 0
           },
           {
            "bin_start": 2021.3,
            "bin_end": 2021.4,
            "count": 0
           },
           {
            "bin_start": 2021.4,
            "bin_end": 2021.5,
            "count": 0
           }
          ]
         }
        },
        {
         "name": "month",
         "dtype": "int64",
         "stats": {
          "unique_count": 6,
          "nan_count": 0,
          "min": "1",
          "max": "6",
          "histogram": [
           {
            "bin_start": 1,
            "bin_end": 1.5,
            "count": 744
           },
           {
            "bin_start": 1.5,
            "bin_end": 2,
            "count": 0
           },
           {
            "bin_start": 2,
            "bin_end": 2.5,
            "count": 672
           },
           {
            "bin_start": 2.5,
            "bin_end": 3,
            "count": 0
           },
           {
            "bin_start": 3,
            "bin_end": 3.5,
            "count": 744
           },
           {
            "bin_start": 3.5,
            "bin_end": 4,
            "count": 0
           },
           {
            "bin_start": 4,
            "bin_end": 4.5,
            "count": 720
           },
           {
            "bin_start": 4.5,
            "bin_end": 5,
            "count": 0
           },
           {
            "bin_start": 5,
            "bin_end": 5.5,
            "count": 744
           },
           {
            "bin_start": 5.5,
            "bin_end": 6,
            "count": 720
           }
          ]
         }
        },
        {
         "name": "day",
         "dtype": "int64",
         "stats": {
          "unique_count": 31,
          "nan_count": 0,
          "min": "1",
          "max": "31",
          "histogram": [
           {
            "bin_start": 1,
            "bin_end": 4,
            "count": 432
           },
           {
            "bin_start": 4,
            "bin_end": 7,
            "count": 432
           },
           {
            "bin_start": 7,
            "bin_end": 10,
            "count": 432
           },
           {
            "bin_start": 10,
            "bin_end": 13,
            "count": 432
           },
           {
            "bin_start": 13,
            "bin_end": 16,
            "count": 432
           },
           {
            "bin_start": 16,
            "bin_end": 19,
            "count": 432
           },
           {
            "bin_start": 19,
            "bin_end": 22,
            "count": 432
           },
           {
            "bin_start": 22,
            "bin_end": 25,
            "count": 432
           },
           {
            "bin_start": 25,
            "bin_end": 28,
            "count": 432
           },
           {
            "bin_start": 28,
            "bin_end": 31,
            "count": 456
           }
          ]
         }
        },
        {
         "name": "day_of_week",
         "dtype": "int64",
         "stats": {
          "unique_count": 7,
          "nan_count": 0,
          "min": "0",
          "max": "6",
          "histogram": [
           {
            "bin_start": 0,
            "bin_end": 0.6,
            "count": 624
           },
           {
            "bin_start": 0.6,
            "bin_end": 1.2,
            "count": 624
           },
           {
            "bin_start": 1.2,
            "bin_end": 1.7999999999999998,
            "count": 0
           },
           {
            "bin_start": 1.7999999999999998,
            "bin_end": 2.4,
            "count": 624
           },
           {
            "bin_start": 2.4,
            "bin_end": 3,
            "count": 0
           },
           {
            "bin_start": 3,
            "bin_end": 3.5999999999999996,
            "count": 600
           },
           {
            "bin_start": 3.5999999999999996,
            "bin_end": 4.2,
            "count": 624
           },
           {
            "bin_start": 4.2,
            "bin_end": 4.8,
            "count": 0
           },
           {
            "bin_start": 4.8,
            "bin_end": 5.3999999999999995,
            "count": 624
           },
           {
            "bin_start": 5.3999999999999995,
            "bin_end": 6,
            "count": 624
           }
          ]
         }
        },
        {
         "name": "quarter",
         "dtype": "int64",
         "stats": {
          "unique_count": 2,
          "nan_count": 0,
          "min": "1",
          "max": "2",
          "histogram": [
           {
            "bin_start": 1,
            "bin_end": 1.1,
            "count": 2160
           },
           {
            "bin_start": 1.1,
            "bin_end": 1.2,
            "count": 0
           },
           {
            "bin_start": 1.2,
            "bin_end": 1.3,
            "count": 0
           },
           {
            "bin_start": 1.3,
            "bin_end": 1.4,
            "count": 0
           },
           {
            "bin_start": 1.4,
            "bin_end": 1.5,
            "count": 0
           },
           {
            "bin_start": 1.5,
            "bin_end": 1.6,
            "count": 0
           },
           {
            "bin_start": 1.6,
            "bin_end": 1.7000000000000002,
            "count": 0
           },
           {
            "bin_start": 1.7000000000000002,
            "bin_end": 1.8,
            "count": 0
           },
           {
            "bin_start": 1.8,
            "bin_end": 1.9,
            "count": 0
           },
           {
            "bin_start": 1.9,
            "bin_end": 2,
            "count": 2184
           }
          ]
         }
        },
        {
         "name": "_deepnote_index_column",
         "dtype": "datetime64[ns]"
        }
       ],
       "rows": [
        {
         "provincia": "Azuay",
         "poblacion": 881394,
         "total": 13605,
         "nuevas": 48,
         "lat": -2.897414,
         "lng": -79.004481,
         "year": 2021,
         "month": 1,
         "day": 1,
         "day_of_week": 4,
         "quarter": 1,
         "_deepnote_index_column": "2021-01-01T00:00:00.000000"
        },
        {
         "provincia": "Bolívar",
         "poblacion": 209933,
         "total": 2531,
         "nuevas": 4,
         "lat": -1.605556,
         "lng": -79.003056,
         "year": 2021,
         "month": 1,
         "day": 1,
         "day_of_week": 4,
         "quarter": 1,
         "_deepnote_index_column": "2021-01-01T00:00:00.000000"
        },
        {
         "provincia": "Carchi",
         "poblacion": 186869,
         "total": 3667,
         "nuevas": 38,
         "lat": 0.81218,
         "lng": -77.71633,
         "year": 2021,
         "month": 1,
         "day": 1,
         "day_of_week": 4,
         "quarter": 1,
         "_deepnote_index_column": "2021-01-01T00:00:00.000000"
        },
        {
         "provincia": "Cañar",
         "poblacion": 281396,
         "total": 2849,
         "nuevas": 45,
         "lat": -2.733333,
         "lng": -78.833333,
         "year": 2021,
         "month": 1,
         "day": 1,
         "day_of_week": 4,
         "quarter": 1,
         "_deepnote_index_column": "2021-01-01T00:00:00.000000"
        },
        {
         "provincia": "Chimborazo",
         "poblacion": 524004,
         "total": 3260,
         "nuevas": 7,
         "lat": -1.674347,
         "lng": -78.648294,
         "year": 2021,
         "month": 1,
         "day": 1,
         "day_of_week": 4,
         "quarter": 1,
         "_deepnote_index_column": "2021-01-01T00:00:00.000000"
        },
        {
         "provincia": "Cotopaxi",
         "poblacion": 488716,
         "total": 5707,
         "nuevas": 52,
         "lat": -0.933333,
         "lng": -78.616667,
         "year": 2021,
         "month": 1,
         "day": 1,
         "day_of_week": 4,
         "quarter": 1,
         "_deepnote_index_column": "2021-01-01T00:00:00.000000"
        },
        {
         "provincia": "El Oro",
         "poblacion": 715751,
         "total": 8343,
         "nuevas": 20,
         "lat": -3.266667,
         "lng": -79.966667,
         "year": 2021,
         "month": 1,
         "day": 1,
         "day_of_week": 4,
         "quarter": 1,
         "_deepnote_index_column": "2021-01-01T00:00:00.000000"
        },
        {
         "provincia": "Esmeraldas",
         "poblacion": 591083,
         "total": 5048,
         "nuevas": 4,
         "lat": 1.05,
         "lng": -79.2,
         "year": 2021,
         "month": 1,
         "day": 1,
         "day_of_week": 4,
         "quarter": 1,
         "_deepnote_index_column": "2021-01-01T00:00:00.000000"
        },
        {
         "provincia": "Galápagos",
         "poblacion": 33042,
         "total": 920,
         "nuevas": 2,
         "lat": -0.7999999999999999,
         "lng": -89.4,
         "year": 2021,
         "month": 1,
         "day": 1,
         "day_of_week": 4,
         "quarter": 1,
         "_deepnote_index_column": "2021-01-01T00:00:00.000000"
        },
        {
         "provincia": "Guayas",
         "poblacion": 4387434,
         "total": 27475,
         "nuevas": 158,
         "lat": -2.183333,
         "lng": -79.883333,
         "year": 2021,
         "month": 1,
         "day": 1,
         "day_of_week": 4,
         "quarter": 1,
         "_deepnote_index_column": "2021-01-01T00:00:00.000000"
        }
       ]
      },
      "text/plain": "                         provincia  poblacion  total  nuevas       lat  \\\ncreated_at                                                               \n2021-01-01                   Azuay     881394  13605      48 -2.897414   \n2021-01-01                 Bolívar     209933   2531       4 -1.605556   \n2021-01-01                  Carchi     186869   3667      38  0.812180   \n2021-01-01                   Cañar     281396   2849      45 -2.733333   \n2021-01-01              Chimborazo     524004   3260       7 -1.674347   \n...                            ...        ...    ...     ...       ...   \n2021-06-30             Santa Elena     401178   4406       2 -2.226700   \n2021-06-30  Sto. Domingo Tsáchilas     511151  11556       3 -0.254167   \n2021-06-30               Sucumbíos     230503   5411       2  0.084722   \n2021-06-30              Tungurahua     590600  14293      43 -1.241667   \n2021-06-30        Zamora Chinchipe     120416   2913      10 -4.120000   \n\n                  lng  year  month  day  day_of_week  quarter  \ncreated_at                                                     \n2021-01-01 -79.004481  2021      1    1            4        1  \n2021-01-01 -79.003056  2021      1    1            4        1  \n2021-01-01 -77.716330  2021      1    1            4        1  \n2021-01-01 -78.833333  2021      1    1            4        1  \n2021-01-01 -78.648294  2021      1    1            4        1  \n...               ...   ...    ...  ...          ...      ...  \n2021-06-30 -80.858300  2021      6   30            2        2  \n2021-06-30 -79.171944  2021      6   30            2        2  \n2021-06-30 -76.882778  2021      6   30            2        2  \n2021-06-30 -78.619722  2021      6   30            2        2  \n2021-06-30 -78.800000  2021      6   30            2        2  \n\n[4344 rows x 11 columns]",
      "text/html": "<div>\n<style scoped>\n    .dataframe tbody tr th:only-of-type {\n        vertical-align: middle;\n    }\n\n    .dataframe tbody tr th {\n        vertical-align: top;\n    }\n\n    .dataframe thead th {\n        text-align: right;\n    }\n</style>\n<table border=\"1\" class=\"dataframe\">\n  <thead>\n    <tr style=\"text-align: right;\">\n      <th></th>\n      <th>provincia</th>\n      <th>poblacion</th>\n      <th>total</th>\n      <th>nuevas</th>\n      <th>lat</th>\n      <th>lng</th>\n      <th>year</th>\n      <th>month</th>\n      <th>day</th>\n      <th>day_of_week</th>\n      <th>quarter</th>\n    </tr>\n    <tr>\n      <th>created_at</th>\n      <th></th>\n      <th></th>\n      <th></th>\n      <th></th>\n      <th></th>\n      <th></th>\n      <th></th>\n      <th></th>\n      <th></th>\n      <th></th>\n      <th></th>\n    </tr>\n  </thead>\n  <tbody>\n    <tr>\n      <th>2021-01-01</th>\n      <td>Azuay</td>\n      <td>881394</td>\n      <td>13605</td>\n      <td>48</td>\n      <td>-2.897414</td>\n      <td>-79.004481</td>\n      <td>2021</td>\n      <td>1</td>\n      <td>1</td>\n      <td>4</td>\n      <td>1</td>\n    </tr>\n    <tr>\n      <th>2021-01-01</th>\n      <td>Bolívar</td>\n      <td>209933</td>\n      <td>2531</td>\n      <td>4</td>\n      <td>-1.605556</td>\n      <td>-79.003056</td>\n      <td>2021</td>\n      <td>1</td>\n      <td>1</td>\n      <td>4</td>\n      <td>1</td>\n    </tr>\n    <tr>\n      <th>2021-01-01</th>\n      <td>Carchi</td>\n      <td>186869</td>\n      <td>3667</td>\n      <td>38</td>\n      <td>0.812180</td>\n      <td>-77.716330</td>\n      <td>2021</td>\n      <td>1</td>\n      <td>1</td>\n      <td>4</td>\n      <td>1</td>\n    </tr>\n    <tr>\n      <th>2021-01-01</th>\n      <td>Cañar</td>\n      <td>281396</td>\n      <td>2849</td>\n      <td>45</td>\n      <td>-2.733333</td>\n      <td>-78.833333</td>\n      <td>2021</td>\n      <td>1</td>\n      <td>1</td>\n      <td>4</td>\n      <td>1</td>\n    </tr>\n    <tr>\n      <th>2021-01-01</th>\n      <td>Chimborazo</td>\n      <td>524004</td>\n      <td>3260</td>\n      <td>7</td>\n      <td>-1.674347</td>\n      <td>-78.648294</td>\n      <td>2021</td>\n      <td>1</td>\n      <td>1</td>\n      <td>4</td>\n      <td>1</td>\n    </tr>\n    <tr>\n      <th>...</th>\n      <td>...</td>\n      <td>...</td>\n      <td>...</td>\n      <td>...</td>\n      <td>...</td>\n      <td>...</td>\n      <td>...</td>\n      <td>...</td>\n      <td>...</td>\n      <td>...</td>\n      <td>...</td>\n    </tr>\n    <tr>\n      <th>2021-06-30</th>\n      <td>Santa Elena</td>\n      <td>401178</td>\n      <td>4406</td>\n      <td>2</td>\n      <td>-2.226700</td>\n      <td>-80.858300</td>\n      <td>2021</td>\n      <td>6</td>\n      <td>30</td>\n      <td>2</td>\n      <td>2</td>\n    </tr>\n    <tr>\n      <th>2021-06-30</th>\n      <td>Sto. Domingo Tsáchilas</td>\n      <td>511151</td>\n      <td>11556</td>\n      <td>3</td>\n      <td>-0.254167</td>\n      <td>-79.171944</td>\n      <td>2021</td>\n      <td>6</td>\n      <td>30</td>\n      <td>2</td>\n      <td>2</td>\n    </tr>\n    <tr>\n      <th>2021-06-30</th>\n      <td>Sucumbíos</td>\n      <td>230503</td>\n      <td>5411</td>\n      <td>2</td>\n      <td>0.084722</td>\n      <td>-76.882778</td>\n      <td>2021</td>\n      <td>6</td>\n      <td>30</td>\n      <td>2</td>\n      <td>2</td>\n    </tr>\n    <tr>\n      <th>2021-06-30</th>\n      <td>Tungurahua</td>\n      <td>590600</td>\n      <td>14293</td>\n      <td>43</td>\n      <td>-1.241667</td>\n      <td>-78.619722</td>\n      <td>2021</td>\n      <td>6</td>\n      <td>30</td>\n      <td>2</td>\n      <td>2</td>\n    </tr>\n    <tr>\n      <th>2021-06-30</th>\n      <td>Zamora Chinchipe</td>\n      <td>120416</td>\n      <td>2913</td>\n      <td>10</td>\n      <td>-4.120000</td>\n      <td>-78.800000</td>\n      <td>2021</td>\n      <td>6</td>\n      <td>30</td>\n      <td>2</td>\n      <td>2</td>\n    </tr>\n  </tbody>\n</table>\n<p>4344 rows × 11 columns</p>\n</div>"
     },
     "metadata": {}
    }
   ],
   "execution_count": null
  },
  {
   "cell_type": "markdown",
   "source": "<a style='text-decoration:none;line-height:16px;display:flex;color:#5B5B62;padding:10px;justify-content:end;' href='https://deepnote.com?utm_source=created-in-deepnote-cell&projectId=7294ef23-3287-47ac-a12f-ba892bffdf3b' target=\"_blank\">\n<img alt='Created in deepnote.com' style='display:inline;max-height:16px;margin:0px;margin-right:7.5px;' src='data:image/svg+xml;base64,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' > </img>\nCreated in <span style='font-weight:600;margin-left:4px;'>Deepnote</span></a>",
   "metadata": {
    "tags": [],
    "created_in_deepnote_cell": true,
    "deepnote_cell_type": "markdown"
   }
  }
 ],
 "nbformat": 4,
 "nbformat_minor": 2,
 "metadata": {
  "orig_nbformat": 2,
  "deepnote": {
   "is_reactive": false
  },
  "deepnote_notebook_id": "a22cd292-ec69-415e-9ff3-557d686e522d",
  "deepnote_execution_queue": []
 }
}