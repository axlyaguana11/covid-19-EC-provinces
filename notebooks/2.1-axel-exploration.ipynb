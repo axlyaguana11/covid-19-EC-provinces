{
 "cells": [
  {
   "cell_type": "markdown",
   "source": "# Exploration: positives per province",
   "metadata": {
    "tags": [],
    "is_collapsed": false,
    "cell_id": "00001-90f2f0a2-1fb6-46a7-a664-dc68119d2f1b",
    "deepnote_cell_type": "text-cell-h1"
   }
  },
  {
   "cell_type": "markdown",
   "source": "Finding the total infections and percentage of the population infected is what I'm doing here. Also I'll plot a correlation matrix.",
   "metadata": {
    "tags": [],
    "cell_id": "00001-5e4bf051-d265-42fc-b25f-01efeffeb573",
    "deepnote_cell_type": "markdown"
   }
  },
  {
   "cell_type": "code",
   "metadata": {
    "tags": [],
    "cell_id": "00001-a0eef526-0b19-4683-acf1-752692af7634",
    "deepnote_to_be_reexecuted": false,
    "source_hash": "28eb5f73",
    "execution_start": 1639866348430,
    "execution_millis": 792188,
    "deepnote_cell_type": "code"
   },
   "source": "# %load_ext autoreload\n# %autoreload 2",
   "outputs": [],
   "execution_count": null
  },
  {
   "cell_type": "code",
   "metadata": {
    "tags": [],
    "cell_id": "00002-7153dfc3-bfcc-401a-adf8-1effb3dab7f3",
    "deepnote_to_be_reexecuted": false,
    "source_hash": "c516df8c",
    "execution_start": 1639866348471,
    "execution_millis": 4154,
    "deepnote_cell_type": "code"
   },
   "source": "#libs\nimport pandas as pd\nimport numpy as np\nimport matplotlib.pyplot as plt\nimport seaborn as sns",
   "outputs": [],
   "execution_count": null
  },
  {
   "cell_type": "code",
   "metadata": {
    "tags": [],
    "cell_id": "00003-d92b9b4a-3a00-4af1-8d37-ec930a70e6cd",
    "deepnote_to_be_reexecuted": false,
    "source_hash": "77c99968",
    "execution_start": 1639866352647,
    "execution_millis": 31,
    "deepnote_cell_type": "code"
   },
   "source": "df_positives = pd.read_csv('/work/covid-19-EC-provinces/data/processed/positives.csv')",
   "outputs": [],
   "execution_count": null
  },
  {
   "cell_type": "code",
   "metadata": {
    "tags": [],
    "cell_id": "00004-b7de20f5-1af9-4ed6-84e9-5500b7c985f4",
    "deepnote_to_be_reexecuted": false,
    "source_hash": "ebbd18ea",
    "execution_start": 1639866352692,
    "execution_millis": 389,
    "deepnote_output_heights": [
     382.1875
    ],
    "deepnote_cell_type": "code"
   },
   "source": "df_positives",
   "outputs": [
    {
     "output_type": "execute_result",
     "execution_count": 4,
     "data": {
      "application/vnd.deepnote.dataframe.v3+json": {
       "column_count": 7,
       "row_count": 15456,
       "columns": [
        {
         "name": "created_at",
         "dtype": "object",
         "stats": {
          "unique_count": 644,
          "nan_count": 0,
          "categories": [
           {
            "name": "2020-03-13",
            "count": 24
           },
           {
            "name": "2020-03-14",
            "count": 24
           },
           {
            "name": "642 others",
            "count": 15408
           }
          ]
         }
        },
        {
         "name": "provincia",
         "dtype": "object",
         "stats": {
          "unique_count": 24,
          "nan_count": 0,
          "categories": [
           {
            "name": "Azuay",
            "count": 644
           },
           {
            "name": "Bolívar",
            "count": 644
           },
           {
            "name": "22 others",
            "count": 14168
           }
          ]
         }
        },
        {
         "name": "poblacion",
         "dtype": "int64",
         "stats": {
          "unique_count": 24,
          "nan_count": 0,
          "min": "33042",
          "max": "4387434",
          "histogram": [
           {
            "bin_start": 33042,
            "bin_end": 468481.2,
            "count": 7084
           },
           {
            "bin_start": 468481.2,
            "bin_end": 903920.4,
            "count": 5796
           },
           {
            "bin_start": 903920.4,
            "bin_end": 1339359.6,
            "count": 644
           },
           {
            "bin_start": 1339359.6,
            "bin_end": 1774798.8,
            "count": 644
           },
           {
            "bin_start": 1774798.8,
            "bin_end": 2210238,
            "count": 0
           },
           {
            "bin_start": 2210238,
            "bin_end": 2645677.2,
            "count": 0
           },
           {
            "bin_start": 2645677.2,
            "bin_end": 3081116.4,
            "count": 0
           },
           {
            "bin_start": 3081116.4,
            "bin_end": 3516555.6,
            "count": 644
           },
           {
            "bin_start": 3516555.6,
            "bin_end": 3951994.8000000003,
            "count": 0
           },
           {
            "bin_start": 3951994.8000000003,
            "bin_end": 4387434,
            "count": 644
           }
          ]
         }
        },
        {
         "name": "total",
         "dtype": "int64",
         "stats": {
          "unique_count": 9000,
          "nan_count": 0,
          "min": "0",
          "max": "198870",
          "histogram": [
           {
            "bin_start": 0,
            "bin_end": 19887,
            "count": 13755
           },
           {
            "bin_start": 19887,
            "bin_end": 39774,
            "count": 984
           },
           {
            "bin_start": 39774,
            "bin_end": 59661,
            "count": 124
           },
           {
            "bin_start": 59661,
            "bin_end": 79548,
            "count": 258
           },
           {
            "bin_start": 79548,
            "bin_end": 99435,
            "count": 41
           },
           {
            "bin_start": 99435,
            "bin_end": 119322,
            "count": 43
           },
           {
            "bin_start": 119322,
            "bin_end": 139209,
            "count": 27
           },
           {
            "bin_start": 139209,
            "bin_end": 159096,
            "count": 47
           },
           {
            "bin_start": 159096,
            "bin_end": 178983,
            "count": 43
           },
           {
            "bin_start": 178983,
            "bin_end": 198870,
            "count": 134
           }
          ]
         }
        },
        {
         "name": "nuevas",
         "dtype": "int64",
         "stats": {
          "unique_count": 523,
          "nan_count": 0,
          "min": "0",
          "max": "3388",
          "histogram": [
           {
            "bin_start": 0,
            "bin_end": 338.8,
            "count": 15205
           },
           {
            "bin_start": 338.8,
            "bin_end": 677.6,
            "count": 158
           },
           {
            "bin_start": 677.6,
            "bin_end": 1016.4000000000001,
            "count": 55
           },
           {
            "bin_start": 1016.4000000000001,
            "bin_end": 1355.2,
            "count": 18
           },
           {
            "bin_start": 1355.2,
            "bin_end": 1694,
            "count": 13
           },
           {
            "bin_start": 1694,
            "bin_end": 2032.8000000000002,
            "count": 4
           },
           {
            "bin_start": 2032.8000000000002,
            "bin_end": 2371.6,
            "count": 0
           },
           {
            "bin_start": 2371.6,
            "bin_end": 2710.4,
            "count": 2
           },
           {
            "bin_start": 2710.4,
            "bin_end": 3049.2000000000003,
            "count": 0
           },
           {
            "bin_start": 3049.2000000000003,
            "bin_end": 3388,
            "count": 1
           }
          ]
         }
        },
        {
         "name": "lat",
         "dtype": "float64",
         "stats": {
          "unique_count": 24,
          "nan_count": 0,
          "min": "-4.12",
          "max": "1.05",
          "histogram": [
           {
            "bin_start": -4.12,
            "bin_end": -3.603,
            "count": 1288
           },
           {
            "bin_start": -3.603,
            "bin_end": -3.0860000000000003,
            "count": 644
           },
           {
            "bin_start": -3.0860000000000003,
            "bin_end": -2.569,
            "count": 1288
           },
           {
            "bin_start": -2.569,
            "bin_end": -2.052,
            "count": 1932
           },
           {
            "bin_start": -2.052,
            "bin_end": -1.5350000000000001,
            "count": 1932
           },
           {
            "bin_start": -1.5350000000000001,
            "bin_end": -1.0179999999999998,
            "count": 1932
           },
           {
            "bin_start": -1.0179999999999998,
            "bin_end": -0.5009999999999999,
            "count": 1932
           },
           {
            "bin_start": -0.5009999999999999,
            "bin_end": 0.016000000000000014,
            "count": 1932
           },
           {
            "bin_start": 0.016000000000000014,
            "bin_end": 0.5330000000000004,
            "count": 1288
           },
           {
            "bin_start": 0.5330000000000004,
            "bin_end": 1.05,
            "count": 1288
           }
          ]
         }
        },
        {
         "name": "lng",
         "dtype": "float64"
        },
        {
         "name": "_deepnote_index_column",
         "dtype": "int64"
        }
       ],
       "rows": [
        {
         "created_at": "2020-03-13",
         "provincia": "Azuay",
         "poblacion": 881394,
         "total": 0,
         "nuevas": 0,
         "lat": -2.897414,
         "lng": -79.004481,
         "_deepnote_index_column": 0
        },
        {
         "created_at": "2020-03-13",
         "provincia": "Bolívar",
         "poblacion": 209933,
         "total": 0,
         "nuevas": 0,
         "lat": -1.605556,
         "lng": -79.003056,
         "_deepnote_index_column": 1
        },
        {
         "created_at": "2020-03-13",
         "provincia": "Carchi",
         "poblacion": 186869,
         "total": 0,
         "nuevas": 0,
         "lat": 0.81218,
         "lng": -77.71633,
         "_deepnote_index_column": 2
        },
        {
         "created_at": "2020-03-13",
         "provincia": "Cañar",
         "poblacion": 281396,
         "total": 0,
         "nuevas": 0,
         "lat": -2.733333,
         "lng": -78.833333,
         "_deepnote_index_column": 3
        },
        {
         "created_at": "2020-03-13",
         "provincia": "Chimborazo",
         "poblacion": 524004,
         "total": 0,
         "nuevas": 0,
         "lat": -1.674347,
         "lng": -78.648294,
         "_deepnote_index_column": 4
        },
        {
         "created_at": "2020-03-13",
         "provincia": "Cotopaxi",
         "poblacion": 488716,
         "total": 0,
         "nuevas": 0,
         "lat": -0.933333,
         "lng": -78.616667,
         "_deepnote_index_column": 5
        },
        {
         "created_at": "2020-03-13",
         "provincia": "El Oro",
         "poblacion": 715751,
         "total": 0,
         "nuevas": 0,
         "lat": -3.266667,
         "lng": -79.966667,
         "_deepnote_index_column": 6
        },
        {
         "created_at": "2020-03-13",
         "provincia": "Esmeraldas",
         "poblacion": 591083,
         "total": 0,
         "nuevas": 0,
         "lat": 1.05,
         "lng": -79.2,
         "_deepnote_index_column": 7
        },
        {
         "created_at": "2020-03-13",
         "provincia": "Galápagos",
         "poblacion": 33042,
         "total": 0,
         "nuevas": 0,
         "lat": -0.7999999999999999,
         "lng": -89.4,
         "_deepnote_index_column": 8
        },
        {
         "created_at": "2020-03-13",
         "provincia": "Guayas",
         "poblacion": 4387434,
         "total": 7,
         "nuevas": 7,
         "lat": -2.183333,
         "lng": -79.883333,
         "_deepnote_index_column": 9
        }
       ]
      },
      "text/plain": "       created_at               provincia  poblacion  total  nuevas       lat  \\\n0      2020-03-13                   Azuay     881394      0       0 -2.897414   \n1      2020-03-13                 Bolívar     209933      0       0 -1.605556   \n2      2020-03-13                  Carchi     186869      0       0  0.812180   \n3      2020-03-13                   Cañar     281396      0       0 -2.733333   \n4      2020-03-13              Chimborazo     524004      0       0 -1.674347   \n...           ...                     ...        ...    ...     ...       ...   \n15451  2021-12-16             Santa Elena     401178   4648       4 -2.226700   \n15452  2021-12-16  Sto. Domingo Tsáchilas     511151  12870      20 -0.254167   \n15453  2021-12-16               Sucumbíos     230503   6648       4  0.084722   \n15454  2021-12-16              Tungurahua     590600  16342       4 -1.241667   \n15455  2021-12-16        Zamora Chinchipe     120416   3221       3 -4.120000   \n\n             lng  \n0     -79.004481  \n1     -79.003056  \n2     -77.716330  \n3     -78.833333  \n4     -78.648294  \n...          ...  \n15451 -80.858300  \n15452 -79.171944  \n15453 -76.882778  \n15454 -78.619722  \n15455 -78.800000  \n\n[15456 rows x 7 columns]",
      "text/html": "<div>\n<style scoped>\n    .dataframe tbody tr th:only-of-type {\n        vertical-align: middle;\n    }\n\n    .dataframe tbody tr th {\n        vertical-align: top;\n    }\n\n    .dataframe thead th {\n        text-align: right;\n    }\n</style>\n<table border=\"1\" class=\"dataframe\">\n  <thead>\n    <tr style=\"text-align: right;\">\n      <th></th>\n      <th>created_at</th>\n      <th>provincia</th>\n      <th>poblacion</th>\n      <th>total</th>\n      <th>nuevas</th>\n      <th>lat</th>\n      <th>lng</th>\n    </tr>\n  </thead>\n  <tbody>\n    <tr>\n      <th>0</th>\n      <td>2020-03-13</td>\n      <td>Azuay</td>\n      <td>881394</td>\n      <td>0</td>\n      <td>0</td>\n      <td>-2.897414</td>\n      <td>-79.004481</td>\n    </tr>\n    <tr>\n      <th>1</th>\n      <td>2020-03-13</td>\n      <td>Bolívar</td>\n      <td>209933</td>\n      <td>0</td>\n      <td>0</td>\n      <td>-1.605556</td>\n      <td>-79.003056</td>\n    </tr>\n    <tr>\n      <th>2</th>\n      <td>2020-03-13</td>\n      <td>Carchi</td>\n      <td>186869</td>\n      <td>0</td>\n      <td>0</td>\n      <td>0.812180</td>\n      <td>-77.716330</td>\n    </tr>\n    <tr>\n      <th>3</th>\n      <td>2020-03-13</td>\n      <td>Cañar</td>\n      <td>281396</td>\n      <td>0</td>\n      <td>0</td>\n      <td>-2.733333</td>\n      <td>-78.833333</td>\n    </tr>\n    <tr>\n      <th>4</th>\n      <td>2020-03-13</td>\n      <td>Chimborazo</td>\n      <td>524004</td>\n      <td>0</td>\n      <td>0</td>\n      <td>-1.674347</td>\n      <td>-78.648294</td>\n    </tr>\n    <tr>\n      <th>...</th>\n      <td>...</td>\n      <td>...</td>\n      <td>...</td>\n      <td>...</td>\n      <td>...</td>\n      <td>...</td>\n      <td>...</td>\n    </tr>\n    <tr>\n      <th>15451</th>\n      <td>2021-12-16</td>\n      <td>Santa Elena</td>\n      <td>401178</td>\n      <td>4648</td>\n      <td>4</td>\n      <td>-2.226700</td>\n      <td>-80.858300</td>\n    </tr>\n    <tr>\n      <th>15452</th>\n      <td>2021-12-16</td>\n      <td>Sto. Domingo Tsáchilas</td>\n      <td>511151</td>\n      <td>12870</td>\n      <td>20</td>\n      <td>-0.254167</td>\n      <td>-79.171944</td>\n    </tr>\n    <tr>\n      <th>15453</th>\n      <td>2021-12-16</td>\n      <td>Sucumbíos</td>\n      <td>230503</td>\n      <td>6648</td>\n      <td>4</td>\n      <td>0.084722</td>\n      <td>-76.882778</td>\n    </tr>\n    <tr>\n      <th>15454</th>\n      <td>2021-12-16</td>\n      <td>Tungurahua</td>\n      <td>590600</td>\n      <td>16342</td>\n      <td>4</td>\n      <td>-1.241667</td>\n      <td>-78.619722</td>\n    </tr>\n    <tr>\n      <th>15455</th>\n      <td>2021-12-16</td>\n      <td>Zamora Chinchipe</td>\n      <td>120416</td>\n      <td>3221</td>\n      <td>3</td>\n      <td>-4.120000</td>\n      <td>-78.800000</td>\n    </tr>\n  </tbody>\n</table>\n<p>15456 rows × 7 columns</p>\n</div>"
     },
     "metadata": {}
    }
   ],
   "execution_count": null
  },
  {
   "cell_type": "code",
   "metadata": {
    "tags": [],
    "cell_id": "00005-2fe68032-cfb9-4ef5-88d7-44278102b212",
    "deepnote_to_be_reexecuted": false,
    "source_hash": "23a02e74",
    "execution_start": 1639866353115,
    "execution_millis": 47,
    "deepnote_output_heights": [
     155.59375
    ],
    "deepnote_cell_type": "code"
   },
   "source": "df_positives.dtypes",
   "outputs": [
    {
     "output_type": "execute_result",
     "execution_count": 5,
     "data": {
      "text/plain": "created_at     object\nprovincia      object\npoblacion       int64\ntotal           int64\nnuevas          int64\nlat           float64\nlng           float64\ndtype: object"
     },
     "metadata": {}
    }
   ],
   "execution_count": null
  },
  {
   "cell_type": "code",
   "metadata": {
    "tags": [],
    "cell_id": "00006-f63f0d69-5568-4e80-8e4f-c627c9bfcec8",
    "deepnote_to_be_reexecuted": false,
    "source_hash": "8028bb5b",
    "execution_start": 1639866353160,
    "execution_millis": 2,
    "deepnote_cell_type": "code"
   },
   "source": "df_positives['created_at'] = pd.to_datetime(df_positives['created_at'])",
   "outputs": [],
   "execution_count": null
  },
  {
   "cell_type": "code",
   "metadata": {
    "tags": [],
    "cell_id": "00007-d836e0f8-ac40-45de-86f0-53bc9498d11d",
    "deepnote_to_be_reexecuted": false,
    "source_hash": "37dcacfc",
    "execution_start": 1639866353202,
    "execution_millis": 8,
    "deepnote_output_heights": [
     232.3125
    ],
    "deepnote_cell_type": "code"
   },
   "source": "df_positives['year'] = df_positives['created_at'].dt.year\ndf_positives['month'] = df_positives['created_at'].dt.month\ndf_positives['day'] = df_positives['created_at'].dt.day\ndf_positives['day_of_week'] = df_positives['created_at'].dt.day_of_week\ndf_positives['quarter'] = df_positives['created_at'].dt.quarter",
   "outputs": [],
   "execution_count": null
  },
  {
   "cell_type": "code",
   "metadata": {
    "tags": [],
    "cell_id": "00008-bb7c1853-5871-4d45-87c6-eca89f954de3",
    "deepnote_to_be_reexecuted": false,
    "source_hash": "8273a1d6",
    "execution_start": 1639866353223,
    "execution_millis": 20,
    "deepnote_cell_type": "code"
   },
   "source": "df_positives.set_index('created_at', inplace=True)",
   "outputs": [],
   "execution_count": null
  },
  {
   "cell_type": "code",
   "metadata": {
    "tags": [],
    "cell_id": "00009-61830b2e-a28b-41e0-8a08-c5f1b385c590",
    "deepnote_to_be_reexecuted": false,
    "source_hash": "ea98b1c0",
    "execution_start": 1639866353253,
    "execution_millis": 487,
    "deepnote_cell_type": "code"
   },
   "source": "df_positives.to_csv('/work/covid-19-EC-provinces/data/interim/positives.csv')",
   "outputs": [],
   "execution_count": null
  },
  {
   "cell_type": "code",
   "metadata": {
    "tags": [],
    "cell_id": "00010-5e267a51-3b72-4e7d-b6d5-da561829df4f",
    "deepnote_to_be_reexecuted": false,
    "source_hash": "ebbd18ea",
    "execution_start": 1639866353890,
    "execution_millis": 350,
    "deepnote_output_heights": [
     411.1875
    ],
    "deepnote_cell_type": "code"
   },
   "source": "df_positives",
   "outputs": [
    {
     "output_type": "execute_result",
     "execution_count": 10,
     "data": {
      "application/vnd.deepnote.dataframe.v3+json": {
       "column_count": 11,
       "row_count": 15456,
       "columns": [
        {
         "name": "provincia",
         "dtype": "object",
         "stats": {
          "unique_count": 24,
          "nan_count": 0,
          "categories": [
           {
            "name": "Azuay",
            "count": 644
           },
           {
            "name": "Bolívar",
            "count": 644
           },
           {
            "name": "22 others",
            "count": 14168
           }
          ]
         }
        },
        {
         "name": "poblacion",
         "dtype": "int64",
         "stats": {
          "unique_count": 24,
          "nan_count": 0,
          "min": "33042",
          "max": "4387434",
          "histogram": [
           {
            "bin_start": 33042,
            "bin_end": 468481.2,
            "count": 7084
           },
           {
            "bin_start": 468481.2,
            "bin_end": 903920.4,
            "count": 5796
           },
           {
            "bin_start": 903920.4,
            "bin_end": 1339359.6,
            "count": 644
           },
           {
            "bin_start": 1339359.6,
            "bin_end": 1774798.8,
            "count": 644
           },
           {
            "bin_start": 1774798.8,
            "bin_end": 2210238,
            "count": 0
           },
           {
            "bin_start": 2210238,
            "bin_end": 2645677.2,
            "count": 0
           },
           {
            "bin_start": 2645677.2,
            "bin_end": 3081116.4,
            "count": 0
           },
           {
            "bin_start": 3081116.4,
            "bin_end": 3516555.6,
            "count": 644
           },
           {
            "bin_start": 3516555.6,
            "bin_end": 3951994.8000000003,
            "count": 0
           },
           {
            "bin_start": 3951994.8000000003,
            "bin_end": 4387434,
            "count": 644
           }
          ]
         }
        },
        {
         "name": "total",
         "dtype": "int64",
         "stats": {
          "unique_count": 9000,
          "nan_count": 0,
          "min": "0",
          "max": "198870",
          "histogram": [
           {
            "bin_start": 0,
            "bin_end": 19887,
            "count": 13755
           },
           {
            "bin_start": 19887,
            "bin_end": 39774,
            "count": 984
           },
           {
            "bin_start": 39774,
            "bin_end": 59661,
            "count": 124
           },
           {
            "bin_start": 59661,
            "bin_end": 79548,
            "count": 258
           },
           {
            "bin_start": 79548,
            "bin_end": 99435,
            "count": 41
           },
           {
            "bin_start": 99435,
            "bin_end": 119322,
            "count": 43
           },
           {
            "bin_start": 119322,
            "bin_end": 139209,
            "count": 27
           },
           {
            "bin_start": 139209,
            "bin_end": 159096,
            "count": 47
           },
           {
            "bin_start": 159096,
            "bin_end": 178983,
            "count": 43
           },
           {
            "bin_start": 178983,
            "bin_end": 198870,
            "count": 134
           }
          ]
         }
        },
        {
         "name": "nuevas",
         "dtype": "int64",
         "stats": {
          "unique_count": 523,
          "nan_count": 0,
          "min": "0",
          "max": "3388",
          "histogram": [
           {
            "bin_start": 0,
            "bin_end": 338.8,
            "count": 15205
           },
           {
            "bin_start": 338.8,
            "bin_end": 677.6,
            "count": 158
           },
           {
            "bin_start": 677.6,
            "bin_end": 1016.4000000000001,
            "count": 55
           },
           {
            "bin_start": 1016.4000000000001,
            "bin_end": 1355.2,
            "count": 18
           },
           {
            "bin_start": 1355.2,
            "bin_end": 1694,
            "count": 13
           },
           {
            "bin_start": 1694,
            "bin_end": 2032.8000000000002,
            "count": 4
           },
           {
            "bin_start": 2032.8000000000002,
            "bin_end": 2371.6,
            "count": 0
           },
           {
            "bin_start": 2371.6,
            "bin_end": 2710.4,
            "count": 2
           },
           {
            "bin_start": 2710.4,
            "bin_end": 3049.2000000000003,
            "count": 0
           },
           {
            "bin_start": 3049.2000000000003,
            "bin_end": 3388,
            "count": 1
           }
          ]
         }
        },
        {
         "name": "lat",
         "dtype": "float64",
         "stats": {
          "unique_count": 24,
          "nan_count": 0,
          "min": "-4.12",
          "max": "1.05",
          "histogram": [
           {
            "bin_start": -4.12,
            "bin_end": -3.603,
            "count": 1288
           },
           {
            "bin_start": -3.603,
            "bin_end": -3.0860000000000003,
            "count": 644
           },
           {
            "bin_start": -3.0860000000000003,
            "bin_end": -2.569,
            "count": 1288
           },
           {
            "bin_start": -2.569,
            "bin_end": -2.052,
            "count": 1932
           },
           {
            "bin_start": -2.052,
            "bin_end": -1.5350000000000001,
            "count": 1932
           },
           {
            "bin_start": -1.5350000000000001,
            "bin_end": -1.0179999999999998,
            "count": 1932
           },
           {
            "bin_start": -1.0179999999999998,
            "bin_end": -0.5009999999999999,
            "count": 1932
           },
           {
            "bin_start": -0.5009999999999999,
            "bin_end": 0.016000000000000014,
            "count": 1932
           },
           {
            "bin_start": 0.016000000000000014,
            "bin_end": 0.5330000000000004,
            "count": 1288
           },
           {
            "bin_start": 0.5330000000000004,
            "bin_end": 1.05,
            "count": 1288
           }
          ]
         }
        },
        {
         "name": "lng",
         "dtype": "float64",
         "stats": {
          "unique_count": 23,
          "nan_count": 0,
          "min": "-89.4",
          "max": "-76.882778",
          "histogram": [
           {
            "bin_start": -89.4,
            "bin_end": -88.1482778,
            "count": 644
           },
           {
            "bin_start": -88.1482778,
            "bin_end": -86.8965556,
            "count": 0
           },
           {
            "bin_start": -86.8965556,
            "bin_end": -85.64483340000001,
            "count": 0
           },
           {
            "bin_start": -85.64483340000001,
            "bin_end": -84.3931112,
            "count": 0
           },
           {
            "bin_start": -84.3931112,
            "bin_end": -83.141389,
            "count": 0
           },
           {
            "bin_start": -83.141389,
            "bin_end": -81.8896668,
            "count": 0
           },
           {
            "bin_start": -81.8896668,
            "bin_end": -80.6379446,
            "count": 644
           },
           {
            "bin_start": -80.6379446,
            "bin_end": -79.38622240000001,
            "count": 2576
           },
           {
            "bin_start": -79.38622240000001,
            "bin_end": -78.1345002,
            "count": 7084
           },
           {
            "bin_start": -78.1345002,
            "bin_end": -76.882778,
            "count": 4508
           }
          ]
         }
        },
        {
         "name": "year",
         "dtype": "int64"
        },
        {
         "name": "month",
         "dtype": "int64"
        },
        {
         "name": "day",
         "dtype": "int64"
        },
        {
         "name": "day_of_week",
         "dtype": "int64"
        },
        {
         "name": "quarter",
         "dtype": "int64"
        },
        {
         "name": "_deepnote_index_column",
         "dtype": "datetime64[ns]"
        }
       ],
       "rows": [
        {
         "provincia": "Azuay",
         "poblacion": 881394,
         "total": 0,
         "nuevas": 0,
         "lat": -2.897414,
         "lng": -79.004481,
         "year": 2020,
         "month": 3,
         "day": 13,
         "day_of_week": 4,
         "quarter": 1,
         "_deepnote_index_column": "2020-03-13T00:00:00.000000"
        },
        {
         "provincia": "Bolívar",
         "poblacion": 209933,
         "total": 0,
         "nuevas": 0,
         "lat": -1.605556,
         "lng": -79.003056,
         "year": 2020,
         "month": 3,
         "day": 13,
         "day_of_week": 4,
         "quarter": 1,
         "_deepnote_index_column": "2020-03-13T00:00:00.000000"
        },
        {
         "provincia": "Carchi",
         "poblacion": 186869,
         "total": 0,
         "nuevas": 0,
         "lat": 0.81218,
         "lng": -77.71633,
         "year": 2020,
         "month": 3,
         "day": 13,
         "day_of_week": 4,
         "quarter": 1,
         "_deepnote_index_column": "2020-03-13T00:00:00.000000"
        },
        {
         "provincia": "Cañar",
         "poblacion": 281396,
         "total": 0,
         "nuevas": 0,
         "lat": -2.733333,
         "lng": -78.833333,
         "year": 2020,
         "month": 3,
         "day": 13,
         "day_of_week": 4,
         "quarter": 1,
         "_deepnote_index_column": "2020-03-13T00:00:00.000000"
        },
        {
         "provincia": "Chimborazo",
         "poblacion": 524004,
         "total": 0,
         "nuevas": 0,
         "lat": -1.674347,
         "lng": -78.648294,
         "year": 2020,
         "month": 3,
         "day": 13,
         "day_of_week": 4,
         "quarter": 1,
         "_deepnote_index_column": "2020-03-13T00:00:00.000000"
        },
        {
         "provincia": "Cotopaxi",
         "poblacion": 488716,
         "total": 0,
         "nuevas": 0,
         "lat": -0.933333,
         "lng": -78.616667,
         "year": 2020,
         "month": 3,
         "day": 13,
         "day_of_week": 4,
         "quarter": 1,
         "_deepnote_index_column": "2020-03-13T00:00:00.000000"
        },
        {
         "provincia": "El Oro",
         "poblacion": 715751,
         "total": 0,
         "nuevas": 0,
         "lat": -3.266667,
         "lng": -79.966667,
         "year": 2020,
         "month": 3,
         "day": 13,
         "day_of_week": 4,
         "quarter": 1,
         "_deepnote_index_column": "2020-03-13T00:00:00.000000"
        },
        {
         "provincia": "Esmeraldas",
         "poblacion": 591083,
         "total": 0,
         "nuevas": 0,
         "lat": 1.05,
         "lng": -79.2,
         "year": 2020,
         "month": 3,
         "day": 13,
         "day_of_week": 4,
         "quarter": 1,
         "_deepnote_index_column": "2020-03-13T00:00:00.000000"
        },
        {
         "provincia": "Galápagos",
         "poblacion": 33042,
         "total": 0,
         "nuevas": 0,
         "lat": -0.7999999999999999,
         "lng": -89.4,
         "year": 2020,
         "month": 3,
         "day": 13,
         "day_of_week": 4,
         "quarter": 1,
         "_deepnote_index_column": "2020-03-13T00:00:00.000000"
        },
        {
         "provincia": "Guayas",
         "poblacion": 4387434,
         "total": 7,
         "nuevas": 7,
         "lat": -2.183333,
         "lng": -79.883333,
         "year": 2020,
         "month": 3,
         "day": 13,
         "day_of_week": 4,
         "quarter": 1,
         "_deepnote_index_column": "2020-03-13T00:00:00.000000"
        }
       ]
      },
      "text/plain": "                         provincia  poblacion  total  nuevas       lat  \\\ncreated_at                                                               \n2020-03-13                   Azuay     881394      0       0 -2.897414   \n2020-03-13                 Bolívar     209933      0       0 -1.605556   \n2020-03-13                  Carchi     186869      0       0  0.812180   \n2020-03-13                   Cañar     281396      0       0 -2.733333   \n2020-03-13              Chimborazo     524004      0       0 -1.674347   \n...                            ...        ...    ...     ...       ...   \n2021-12-16             Santa Elena     401178   4648       4 -2.226700   \n2021-12-16  Sto. Domingo Tsáchilas     511151  12870      20 -0.254167   \n2021-12-16               Sucumbíos     230503   6648       4  0.084722   \n2021-12-16              Tungurahua     590600  16342       4 -1.241667   \n2021-12-16        Zamora Chinchipe     120416   3221       3 -4.120000   \n\n                  lng  year  month  day  day_of_week  quarter  \ncreated_at                                                     \n2020-03-13 -79.004481  2020      3   13            4        1  \n2020-03-13 -79.003056  2020      3   13            4        1  \n2020-03-13 -77.716330  2020      3   13            4        1  \n2020-03-13 -78.833333  2020      3   13            4        1  \n2020-03-13 -78.648294  2020      3   13            4        1  \n...               ...   ...    ...  ...          ...      ...  \n2021-12-16 -80.858300  2021     12   16            3        4  \n2021-12-16 -79.171944  2021     12   16            3        4  \n2021-12-16 -76.882778  2021     12   16            3        4  \n2021-12-16 -78.619722  2021     12   16            3        4  \n2021-12-16 -78.800000  2021     12   16            3        4  \n\n[15456 rows x 11 columns]",
      "text/html": "<div>\n<style scoped>\n    .dataframe tbody tr th:only-of-type {\n        vertical-align: middle;\n    }\n\n    .dataframe tbody tr th {\n        vertical-align: top;\n    }\n\n    .dataframe thead th {\n        text-align: right;\n    }\n</style>\n<table border=\"1\" class=\"dataframe\">\n  <thead>\n    <tr style=\"text-align: right;\">\n      <th></th>\n      <th>provincia</th>\n      <th>poblacion</th>\n      <th>total</th>\n      <th>nuevas</th>\n      <th>lat</th>\n      <th>lng</th>\n      <th>year</th>\n      <th>month</th>\n      <th>day</th>\n      <th>day_of_week</th>\n      <th>quarter</th>\n    </tr>\n    <tr>\n      <th>created_at</th>\n      <th></th>\n      <th></th>\n      <th></th>\n      <th></th>\n      <th></th>\n      <th></th>\n      <th></th>\n      <th></th>\n      <th></th>\n      <th></th>\n      <th></th>\n    </tr>\n  </thead>\n  <tbody>\n    <tr>\n      <th>2020-03-13</th>\n      <td>Azuay</td>\n      <td>881394</td>\n      <td>0</td>\n      <td>0</td>\n      <td>-2.897414</td>\n      <td>-79.004481</td>\n      <td>2020</td>\n      <td>3</td>\n      <td>13</td>\n      <td>4</td>\n      <td>1</td>\n    </tr>\n    <tr>\n      <th>2020-03-13</th>\n      <td>Bolívar</td>\n      <td>209933</td>\n      <td>0</td>\n      <td>0</td>\n      <td>-1.605556</td>\n      <td>-79.003056</td>\n      <td>2020</td>\n      <td>3</td>\n      <td>13</td>\n      <td>4</td>\n      <td>1</td>\n    </tr>\n    <tr>\n      <th>2020-03-13</th>\n      <td>Carchi</td>\n      <td>186869</td>\n      <td>0</td>\n      <td>0</td>\n      <td>0.812180</td>\n      <td>-77.716330</td>\n      <td>2020</td>\n      <td>3</td>\n      <td>13</td>\n      <td>4</td>\n      <td>1</td>\n    </tr>\n    <tr>\n      <th>2020-03-13</th>\n      <td>Cañar</td>\n      <td>281396</td>\n      <td>0</td>\n      <td>0</td>\n      <td>-2.733333</td>\n      <td>-78.833333</td>\n      <td>2020</td>\n      <td>3</td>\n      <td>13</td>\n      <td>4</td>\n      <td>1</td>\n    </tr>\n    <tr>\n      <th>2020-03-13</th>\n      <td>Chimborazo</td>\n      <td>524004</td>\n      <td>0</td>\n      <td>0</td>\n      <td>-1.674347</td>\n      <td>-78.648294</td>\n      <td>2020</td>\n      <td>3</td>\n      <td>13</td>\n      <td>4</td>\n      <td>1</td>\n    </tr>\n    <tr>\n      <th>...</th>\n      <td>...</td>\n      <td>...</td>\n      <td>...</td>\n      <td>...</td>\n      <td>...</td>\n      <td>...</td>\n      <td>...</td>\n      <td>...</td>\n      <td>...</td>\n      <td>...</td>\n      <td>...</td>\n    </tr>\n    <tr>\n      <th>2021-12-16</th>\n      <td>Santa Elena</td>\n      <td>401178</td>\n      <td>4648</td>\n      <td>4</td>\n      <td>-2.226700</td>\n      <td>-80.858300</td>\n      <td>2021</td>\n      <td>12</td>\n      <td>16</td>\n      <td>3</td>\n      <td>4</td>\n    </tr>\n    <tr>\n      <th>2021-12-16</th>\n      <td>Sto. Domingo Tsáchilas</td>\n      <td>511151</td>\n      <td>12870</td>\n      <td>20</td>\n      <td>-0.254167</td>\n      <td>-79.171944</td>\n      <td>2021</td>\n      <td>12</td>\n      <td>16</td>\n      <td>3</td>\n      <td>4</td>\n    </tr>\n    <tr>\n      <th>2021-12-16</th>\n      <td>Sucumbíos</td>\n      <td>230503</td>\n      <td>6648</td>\n      <td>4</td>\n      <td>0.084722</td>\n      <td>-76.882778</td>\n      <td>2021</td>\n      <td>12</td>\n      <td>16</td>\n      <td>3</td>\n      <td>4</td>\n    </tr>\n    <tr>\n      <th>2021-12-16</th>\n      <td>Tungurahua</td>\n      <td>590600</td>\n      <td>16342</td>\n      <td>4</td>\n      <td>-1.241667</td>\n      <td>-78.619722</td>\n      <td>2021</td>\n      <td>12</td>\n      <td>16</td>\n      <td>3</td>\n      <td>4</td>\n    </tr>\n    <tr>\n      <th>2021-12-16</th>\n      <td>Zamora Chinchipe</td>\n      <td>120416</td>\n      <td>3221</td>\n      <td>3</td>\n      <td>-4.120000</td>\n      <td>-78.800000</td>\n      <td>2021</td>\n      <td>12</td>\n      <td>16</td>\n      <td>3</td>\n      <td>4</td>\n    </tr>\n  </tbody>\n</table>\n<p>15456 rows × 11 columns</p>\n</div>"
     },
     "metadata": {}
    }
   ],
   "execution_count": null
  },
  {
   "cell_type": "code",
   "metadata": {
    "tags": [],
    "cell_id": "00011-fc0c44c0-fb24-4f56-9088-90b4a17c5f8c",
    "deepnote_to_be_reexecuted": false,
    "source_hash": "7d94d1c4",
    "execution_start": 1639866354242,
    "execution_millis": 276,
    "deepnote_output_heights": [
     264
    ],
    "deepnote_cell_type": "code"
   },
   "source": "df_positives.describe()",
   "outputs": [
    {
     "output_type": "execute_result",
     "execution_count": 11,
     "data": {
      "application/vnd.deepnote.dataframe.v3+json": {
       "column_count": 10,
       "row_count": 8,
       "columns": [
        {
         "name": "poblacion",
         "dtype": "float64",
         "stats": {
          "unique_count": 8,
          "nan_count": 0,
          "min": "15456.0",
          "max": "4387434.0",
          "histogram": [
           {
            "bin_start": 15456,
            "bin_end": 452653.8,
            "count": 3
           },
           {
            "bin_start": 452653.8,
            "bin_end": 889851.6,
            "count": 3
           },
           {
            "bin_start": 889851.6,
            "bin_end": 1327049.4,
            "count": 1
           },
           {
            "bin_start": 1327049.4,
            "bin_end": 1764247.2,
            "count": 0
           },
           {
            "bin_start": 1764247.2,
            "bin_end": 2201445,
            "count": 0
           },
           {
            "bin_start": 2201445,
            "bin_end": 2638642.8,
            "count": 0
           },
           {
            "bin_start": 2638642.8,
            "bin_end": 3075840.6,
            "count": 0
           },
           {
            "bin_start": 3075840.6,
            "bin_end": 3513038.4,
            "count": 0
           },
           {
            "bin_start": 3513038.4,
            "bin_end": 3950236.1999999997,
            "count": 0
           },
           {
            "bin_start": 3950236.1999999997,
            "bin_end": 4387434,
            "count": 1
           }
          ]
         }
        },
        {
         "name": "total",
         "dtype": "float64",
         "stats": {
          "unique_count": 8,
          "nan_count": 0,
          "min": "0.0",
          "max": "198870.0",
          "histogram": [
           {
            "bin_start": 0,
            "bin_end": 19887,
            "count": 6
           },
           {
            "bin_start": 19887,
            "bin_end": 39774,
            "count": 1
           },
           {
            "bin_start": 39774,
            "bin_end": 59661,
            "count": 0
           },
           {
            "bin_start": 59661,
            "bin_end": 79548,
            "count": 0
           },
           {
            "bin_start": 79548,
            "bin_end": 99435,
            "count": 0
           },
           {
            "bin_start": 99435,
            "bin_end": 119322,
            "count": 0
           },
           {
            "bin_start": 119322,
            "bin_end": 139209,
            "count": 0
           },
           {
            "bin_start": 139209,
            "bin_end": 159096,
            "count": 0
           },
           {
            "bin_start": 159096,
            "bin_end": 178983,
            "count": 0
           },
           {
            "bin_start": 178983,
            "bin_end": 198870,
            "count": 1
           }
          ]
         }
        },
        {
         "name": "nuevas",
         "dtype": "float64",
         "stats": {
          "unique_count": 8,
          "nan_count": 0,
          "min": "0.0",
          "max": "15456.0",
          "histogram": [
           {
            "bin_start": 0,
            "bin_end": 1545.6,
            "count": 6
           },
           {
            "bin_start": 1545.6,
            "bin_end": 3091.2,
            "count": 0
           },
           {
            "bin_start": 3091.2,
            "bin_end": 4636.799999999999,
            "count": 1
           },
           {
            "bin_start": 4636.799999999999,
            "bin_end": 6182.4,
            "count": 0
           },
           {
            "bin_start": 6182.4,
            "bin_end": 7728,
            "count": 0
           },
           {
            "bin_start": 7728,
            "bin_end": 9273.599999999999,
            "count": 0
           },
           {
            "bin_start": 9273.599999999999,
            "bin_end": 10819.199999999999,
            "count": 0
           },
           {
            "bin_start": 10819.199999999999,
            "bin_end": 12364.8,
            "count": 0
           },
           {
            "bin_start": 12364.8,
            "bin_end": 13910.4,
            "count": 0
           },
           {
            "bin_start": 13910.4,
            "bin_end": 15456,
            "count": 1
           }
          ]
         }
        },
        {
         "name": "lat",
         "dtype": "float64",
         "stats": {
          "unique_count": 8,
          "nan_count": 0,
          "min": "-4.12",
          "max": "15456.0",
          "histogram": [
           {
            "bin_start": -4.12,
            "bin_end": 1541.8920000000003,
            "count": 7
           },
           {
            "bin_start": 1541.8920000000003,
            "bin_end": 3087.9040000000005,
            "count": 0
           },
           {
            "bin_start": 3087.9040000000005,
            "bin_end": 4633.916,
            "count": 0
           },
           {
            "bin_start": 4633.916,
            "bin_end": 6179.928000000001,
            "count": 0
           },
           {
            "bin_start": 6179.928000000001,
            "bin_end": 7725.940000000001,
            "count": 0
           },
           {
            "bin_start": 7725.940000000001,
            "bin_end": 9271.952,
            "count": 0
           },
           {
            "bin_start": 9271.952,
            "bin_end": 10817.964,
            "count": 0
           },
           {
            "bin_start": 10817.964,
            "bin_end": 12363.976,
            "count": 0
           },
           {
            "bin_start": 12363.976,
            "bin_end": 13909.988000000001,
            "count": 0
           },
           {
            "bin_start": 13909.988000000001,
            "bin_end": 15456,
            "count": 1
           }
          ]
         }
        },
        {
         "name": "lng",
         "dtype": "float64",
         "stats": {
          "unique_count": 8,
          "nan_count": 0,
          "min": "-89.4",
          "max": "15456.0",
          "histogram": [
           {
            "bin_start": -89.4,
            "bin_end": 1465.1399999999999,
            "count": 7
           },
           {
            "bin_start": 1465.1399999999999,
            "bin_end": 3019.68,
            "count": 0
           },
           {
            "bin_start": 3019.68,
            "bin_end": 4574.22,
            "count": 0
           },
           {
            "bin_start": 4574.22,
            "bin_end": 6128.76,
            "count": 0
           },
           {
            "bin_start": 6128.76,
            "bin_end": 7683.3,
            "count": 0
           },
           {
            "bin_start": 7683.3,
            "bin_end": 9237.84,
            "count": 0
           },
           {
            "bin_start": 9237.84,
            "bin_end": 10792.38,
            "count": 0
           },
           {
            "bin_start": 10792.38,
            "bin_end": 12346.92,
            "count": 0
           },
           {
            "bin_start": 12346.92,
            "bin_end": 13901.460000000001,
            "count": 0
           },
           {
            "bin_start": 13901.460000000001,
            "bin_end": 15456,
            "count": 1
           }
          ]
         }
        },
        {
         "name": "year",
         "dtype": "float64",
         "stats": {
          "unique_count": 5,
          "nan_count": 0,
          "min": "0.4981221682607805",
          "max": "15456.0",
          "histogram": [
           {
            "bin_start": 0.4981221682607805,
            "bin_end": 1546.0483099514347,
            "count": 1
           },
           {
            "bin_start": 1546.0483099514347,
            "bin_end": 3091.5984977346084,
            "count": 6
           },
           {
            "bin_start": 3091.5984977346084,
            "bin_end": 4637.148685517783,
            "count": 0
           },
           {
            "bin_start": 4637.148685517783,
            "bin_end": 6182.698873300957,
            "count": 0
           },
           {
            "bin_start": 6182.698873300957,
            "bin_end": 7728.2490610841305,
            "count": 0
           },
           {
            "bin_start": 7728.2490610841305,
            "bin_end": 9273.799248867304,
            "count": 0
           },
           {
            "bin_start": 9273.799248867304,
            "bin_end": 10819.349436650478,
            "count": 0
           },
           {
            "bin_start": 10819.349436650478,
            "bin_end": 12364.899624433652,
            "count": 0
           },
           {
            "bin_start": 12364.899624433652,
            "bin_end": 13910.449812216826,
            "count": 0
           },
           {
            "bin_start": 13910.449812216826,
            "bin_end": 15456,
            "count": 1
           }
          ]
         }
        },
        {
         "name": "month",
         "dtype": "float64",
         "stats": {
          "unique_count": 8,
          "nan_count": 0,
          "min": "1.0",
          "max": "15456.0",
          "histogram": [
           {
            "bin_start": 1,
            "bin_end": 1546.5,
            "count": 7
           },
           {
            "bin_start": 1546.5,
            "bin_end": 3092,
            "count": 0
           },
           {
            "bin_start": 3092,
            "bin_end": 4637.5,
            "count": 0
           },
           {
            "bin_start": 4637.5,
            "bin_end": 6183,
            "count": 0
           },
           {
            "bin_start": 6183,
            "bin_end": 7728.5,
            "count": 0
           },
           {
            "bin_start": 7728.5,
            "bin_end": 9274,
            "count": 0
           },
           {
            "bin_start": 9274,
            "bin_end": 10819.5,
            "count": 0
           },
           {
            "bin_start": 10819.5,
            "bin_end": 12365,
            "count": 0
           },
           {
            "bin_start": 12365,
            "bin_end": 13910.5,
            "count": 0
           },
           {
            "bin_start": 13910.5,
            "bin_end": 15456,
            "count": 1
           }
          ]
         }
        },
        {
         "name": "day",
         "dtype": "float64",
         "stats": {
          "unique_count": 8,
          "nan_count": 0,
          "min": "1.0",
          "max": "15456.0",
          "histogram": [
           {
            "bin_start": 1,
            "bin_end": 1546.5,
            "count": 7
           },
           {
            "bin_start": 1546.5,
            "bin_end": 3092,
            "count": 0
           },
           {
            "bin_start": 3092,
            "bin_end": 4637.5,
            "count": 0
           },
           {
            "bin_start": 4637.5,
            "bin_end": 6183,
            "count": 0
           },
           {
            "bin_start": 6183,
            "bin_end": 7728.5,
            "count": 0
           },
           {
            "bin_start": 7728.5,
            "bin_end": 9274,
            "count": 0
           },
           {
            "bin_start": 9274,
            "bin_end": 10819.5,
            "count": 0
           },
           {
            "bin_start": 10819.5,
            "bin_end": 12365,
            "count": 0
           },
           {
            "bin_start": 12365,
            "bin_end": 13910.5,
            "count": 0
           },
           {
            "bin_start": 13910.5,
            "bin_end": 15456,
            "count": 1
           }
          ]
         }
        },
        {
         "name": "day_of_week",
         "dtype": "float64",
         "stats": {
          "unique_count": 7,
          "nan_count": 0,
          "min": "0.0",
          "max": "15456.0",
          "histogram": [
           {
            "bin_start": 0,
            "bin_end": 1545.6,
            "count": 7
           },
           {
            "bin_start": 1545.6,
            "bin_end": 3091.2,
            "count": 0
           },
           {
            "bin_start": 3091.2,
            "bin_end": 4636.799999999999,
            "count": 0
           },
           {
            "bin_start": 4636.799999999999,
            "bin_end": 6182.4,
            "count": 0
           },
           {
            "bin_start": 6182.4,
            "bin_end": 7728,
            "count": 0
           },
           {
            "bin_start": 7728,
            "bin_end": 9273.599999999999,
            "count": 0
           },
           {
            "bin_start": 9273.599999999999,
            "bin_end": 10819.199999999999,
            "count": 0
           },
           {
            "bin_start": 10819.199999999999,
            "bin_end": 12364.8,
            "count": 0
           },
           {
            "bin_start": 12364.8,
            "bin_end": 13910.4,
            "count": 0
           },
           {
            "bin_start": 13910.4,
            "bin_end": 15456,
            "count": 1
           }
          ]
         }
        },
        {
         "name": "quarter",
         "dtype": "float64",
         "stats": {
          "unique_count": 7,
          "nan_count": 0,
          "min": "1.0",
          "max": "15456.0",
          "histogram": [
           {
            "bin_start": 1,
            "bin_end": 1546.5,
            "count": 7
           },
           {
            "bin_start": 1546.5,
            "bin_end": 3092,
            "count": 0
           },
           {
            "bin_start": 3092,
            "bin_end": 4637.5,
            "count": 0
           },
           {
            "bin_start": 4637.5,
            "bin_end": 6183,
            "count": 0
           },
           {
            "bin_start": 6183,
            "bin_end": 7728.5,
            "count": 0
           },
           {
            "bin_start": 7728.5,
            "bin_end": 9274,
            "count": 0
           },
           {
            "bin_start": 9274,
            "bin_end": 10819.5,
            "count": 0
           },
           {
            "bin_start": 10819.5,
            "bin_end": 12365,
            "count": 0
           },
           {
            "bin_start": 12365,
            "bin_end": 13910.5,
            "count": 0
           },
           {
            "bin_start": 13910.5,
            "bin_end": 15456,
            "count": 1
           }
          ]
         }
        },
        {
         "name": "_deepnote_index_column",
         "dtype": "object"
        }
       ],
       "rows": [
        {
         "poblacion": 15456,
         "total": 15456,
         "nuevas": 15456,
         "lat": 15456,
         "lng": 15456,
         "year": 15456,
         "month": 15456,
         "day": 15456,
         "day_of_week": 15456,
         "quarter": 15456,
         "_deepnote_index_column": "count"
        },
        {
         "poblacion": 727864,
         "total": 11191.300012939959,
         "nuevas": 35.257246376811594,
         "lat": -1.3961415000000001,
         "lng": -79.222257875,
         "year": 2020.5434782608695,
         "month": 6.9270186335403725,
         "day": 15.73913043478261,
         "day_of_week": 3,
         "quarter": 2.641304347826087,
         "_deepnote_index_column": "mean"
        },
        {
         "poblacion": 999820.2491706704,
         "total": 24778.673921850335,
         "nuevas": 109.37257940223888,
         "lat": 1.365529046751242,
         "lng": 2.3236706555147717,
         "year": 0.4981221682607805,
         "month": 3.1662004721542076,
         "day": 8.78163200956463,
         "day_of_week": 2.0000647029326775,
         "quarter": 1.045685356620243,
         "_deepnote_index_column": "std"
        },
        {
         "poblacion": 33042,
         "total": 0,
         "nuevas": 0,
         "lat": -4.12,
         "lng": -89.4,
         "year": 2020,
         "month": 1,
         "day": 1,
         "day_of_week": 0,
         "quarter": 1,
         "_deepnote_index_column": "min"
        },
        {
         "poblacion": 194118.5,
         "total": 1624,
         "nuevas": 1,
         "lat": -2.245025,
         "lng": -79.28333325,
         "year": 2020,
         "month": 4,
         "day": 8,
         "day_of_week": 1,
         "quarter": 2,
         "_deepnote_index_column": "25%"
        },
        {
         "poblacion": 482486.5,
         "total": 4286.5,
         "nuevas": 8,
         "lat": -1.1541670000000002,
         "lng": -78.8166665,
         "year": 2021,
         "month": 7,
         "day": 16,
         "day_of_week": 3,
         "quarter": 3,
         "_deepnote_index_column": "50%"
        },
        {
         "poblacion": 622250,
         "total": 10117.5,
         "nuevas": 28,
         "lat": -0.413542,
         "lng": -78.127167,
         "year": 2021,
         "month": 10,
         "day": 23,
         "day_of_week": 5,
         "quarter": 4,
         "_deepnote_index_column": "75%"
        },
        {
         "poblacion": 4387434,
         "total": 198870,
         "nuevas": 3388,
         "lat": 1.05,
         "lng": -76.882778,
         "year": 2021,
         "month": 12,
         "day": 31,
         "day_of_week": 6,
         "quarter": 4,
         "_deepnote_index_column": "max"
        }
       ]
      },
      "text/plain": "          poblacion          total        nuevas           lat           lng  \\\ncount  1.545600e+04   15456.000000  15456.000000  15456.000000  15456.000000   \nmean   7.278640e+05   11191.300013     35.257246     -1.396142    -79.222258   \nstd    9.998202e+05   24778.673922    109.372579      1.365529      2.323671   \nmin    3.304200e+04       0.000000      0.000000     -4.120000    -89.400000   \n25%    1.941185e+05    1624.000000      1.000000     -2.245025    -79.283333   \n50%    4.824865e+05    4286.500000      8.000000     -1.154167    -78.816666   \n75%    6.222500e+05   10117.500000     28.000000     -0.413542    -78.127167   \nmax    4.387434e+06  198870.000000   3388.000000      1.050000    -76.882778   \n\n               year         month           day   day_of_week       quarter  \ncount  15456.000000  15456.000000  15456.000000  15456.000000  15456.000000  \nmean    2020.543478      6.927019     15.739130      3.000000      2.641304  \nstd        0.498122      3.166200      8.781632      2.000065      1.045685  \nmin     2020.000000      1.000000      1.000000      0.000000      1.000000  \n25%     2020.000000      4.000000      8.000000      1.000000      2.000000  \n50%     2021.000000      7.000000     16.000000      3.000000      3.000000  \n75%     2021.000000     10.000000     23.000000      5.000000      4.000000  \nmax     2021.000000     12.000000     31.000000      6.000000      4.000000  ",
      "text/html": "<div>\n<style scoped>\n    .dataframe tbody tr th:only-of-type {\n        vertical-align: middle;\n    }\n\n    .dataframe tbody tr th {\n        vertical-align: top;\n    }\n\n    .dataframe thead th {\n        text-align: right;\n    }\n</style>\n<table border=\"1\" class=\"dataframe\">\n  <thead>\n    <tr style=\"text-align: right;\">\n      <th></th>\n      <th>poblacion</th>\n      <th>total</th>\n      <th>nuevas</th>\n      <th>lat</th>\n      <th>lng</th>\n      <th>year</th>\n      <th>month</th>\n      <th>day</th>\n      <th>day_of_week</th>\n      <th>quarter</th>\n    </tr>\n  </thead>\n  <tbody>\n    <tr>\n      <th>count</th>\n      <td>1.545600e+04</td>\n      <td>15456.000000</td>\n      <td>15456.000000</td>\n      <td>15456.000000</td>\n      <td>15456.000000</td>\n      <td>15456.000000</td>\n      <td>15456.000000</td>\n      <td>15456.000000</td>\n      <td>15456.000000</td>\n      <td>15456.000000</td>\n    </tr>\n    <tr>\n      <th>mean</th>\n      <td>7.278640e+05</td>\n      <td>11191.300013</td>\n      <td>35.257246</td>\n      <td>-1.396142</td>\n      <td>-79.222258</td>\n      <td>2020.543478</td>\n      <td>6.927019</td>\n      <td>15.739130</td>\n      <td>3.000000</td>\n      <td>2.641304</td>\n    </tr>\n    <tr>\n      <th>std</th>\n      <td>9.998202e+05</td>\n      <td>24778.673922</td>\n      <td>109.372579</td>\n      <td>1.365529</td>\n      <td>2.323671</td>\n      <td>0.498122</td>\n      <td>3.166200</td>\n      <td>8.781632</td>\n      <td>2.000065</td>\n      <td>1.045685</td>\n    </tr>\n    <tr>\n      <th>min</th>\n      <td>3.304200e+04</td>\n      <td>0.000000</td>\n      <td>0.000000</td>\n      <td>-4.120000</td>\n      <td>-89.400000</td>\n      <td>2020.000000</td>\n      <td>1.000000</td>\n      <td>1.000000</td>\n      <td>0.000000</td>\n      <td>1.000000</td>\n    </tr>\n    <tr>\n      <th>25%</th>\n      <td>1.941185e+05</td>\n      <td>1624.000000</td>\n      <td>1.000000</td>\n      <td>-2.245025</td>\n      <td>-79.283333</td>\n      <td>2020.000000</td>\n      <td>4.000000</td>\n      <td>8.000000</td>\n      <td>1.000000</td>\n      <td>2.000000</td>\n    </tr>\n    <tr>\n      <th>50%</th>\n      <td>4.824865e+05</td>\n      <td>4286.500000</td>\n      <td>8.000000</td>\n      <td>-1.154167</td>\n      <td>-78.816666</td>\n      <td>2021.000000</td>\n      <td>7.000000</td>\n      <td>16.000000</td>\n      <td>3.000000</td>\n      <td>3.000000</td>\n    </tr>\n    <tr>\n      <th>75%</th>\n      <td>6.222500e+05</td>\n      <td>10117.500000</td>\n      <td>28.000000</td>\n      <td>-0.413542</td>\n      <td>-78.127167</td>\n      <td>2021.000000</td>\n      <td>10.000000</td>\n      <td>23.000000</td>\n      <td>5.000000</td>\n      <td>4.000000</td>\n    </tr>\n    <tr>\n      <th>max</th>\n      <td>4.387434e+06</td>\n      <td>198870.000000</td>\n      <td>3388.000000</td>\n      <td>1.050000</td>\n      <td>-76.882778</td>\n      <td>2021.000000</td>\n      <td>12.000000</td>\n      <td>31.000000</td>\n      <td>6.000000</td>\n      <td>4.000000</td>\n    </tr>\n  </tbody>\n</table>\n</div>"
     },
     "metadata": {}
    }
   ],
   "execution_count": null
  },
  {
   "cell_type": "code",
   "metadata": {
    "tags": [],
    "cell_id": "00013-fa1d5c92-02ef-4c5b-a046-1d6bcaecadba",
    "deepnote_to_be_reexecuted": false,
    "source_hash": "23a02e74",
    "execution_start": 1639866354539,
    "execution_millis": 792087,
    "deepnote_output_heights": [
     232.390625
    ],
    "deepnote_cell_type": "code"
   },
   "source": "df_positives.dtypes",
   "outputs": [
    {
     "output_type": "execute_result",
     "execution_count": 12,
     "data": {
      "text/plain": "provincia       object\npoblacion        int64\ntotal            int64\nnuevas           int64\nlat            float64\nlng            float64\nyear             int64\nmonth            int64\nday              int64\nday_of_week      int64\nquarter          int64\ndtype: object"
     },
     "metadata": {}
    }
   ],
   "execution_count": null
  },
  {
   "cell_type": "markdown",
   "source": "Let's visualize data.",
   "metadata": {
    "tags": [],
    "cell_id": "00014-69166c4d-f8e9-4cad-a4af-3e9f12975fa8",
    "deepnote_cell_type": "markdown"
   }
  },
  {
   "cell_type": "code",
   "metadata": {
    "tags": [],
    "cell_id": "00012-87a3012c-0986-467d-99cb-93a9356cedee",
    "deepnote_to_be_reexecuted": false,
    "source_hash": "f2f79983",
    "execution_start": 1639866354615,
    "execution_millis": 792089,
    "deepnote_cell_type": "code"
   },
   "source": "sns.set_theme()",
   "outputs": [],
   "execution_count": null
  },
  {
   "cell_type": "code",
   "metadata": {
    "tags": [],
    "cell_id": "00015-b54638cc-6244-4454-b882-ca7de8b519ac",
    "deepnote_to_be_reexecuted": false,
    "source_hash": "e5ef1d15",
    "execution_start": 1639866354615,
    "execution_millis": 1252,
    "deepnote_output_heights": [
     416
    ],
    "deepnote_cell_type": "code"
   },
   "source": "fig, ax = plt.subplots(figsize=(12, 7))\nplt.plot(df_positives.index, df_positives['nuevas'])\nplt.show()",
   "outputs": [
    {
     "data": {
      "text/plain": "<Figure size 864x504 with 1 Axes>",
      "image/png": "[encoded data removed]"
     },
     "metadata": {
      "image/png": {
       "width": 729,
       "height": 414
      }
     },
     "output_type": "display_data"
    }
   ],
   "execution_count": null
  },
  {
   "cell_type": "code",
   "metadata": {
    "tags": [],
    "cell_id": "00016-fdbd5fb3-f156-4af9-9325-86722160b284",
    "deepnote_to_be_reexecuted": false,
    "source_hash": "77180392",
    "execution_start": 1639866355902,
    "execution_millis": 1228,
    "deepnote_output_heights": [
     416
    ],
    "deepnote_cell_type": "code"
   },
   "source": "fig, ax = plt.subplots(figsize=(12, 7))\nplt.plot(df_positives.index, df_positives['total'])\nplt.show()",
   "outputs": [
    {
     "data": {
      "text/plain": "<Figure size 864x504 with 1 Axes>",
      "image/png": "[encoded data removed]"
     },
     "metadata": {
      "image/png": {
       "width": 743,
       "height": 414
      }
     },
     "output_type": "display_data"
    }
   ],
   "execution_count": null
  },
  {
   "cell_type": "markdown",
   "source": "## Cases per province",
   "metadata": {
    "tags": [],
    "is_collapsed": false,
    "cell_id": "00021-35a16877-81c0-4812-99b7-89d152496821",
    "deepnote_cell_type": "text-cell-h2"
   }
  },
  {
   "cell_type": "code",
   "metadata": {
    "tags": [],
    "cell_id": "00022-498dca60-253d-41b3-acc8-fb3759cf5a85",
    "deepnote_to_be_reexecuted": false,
    "source_hash": "19fa655a",
    "execution_start": 1639866357140,
    "execution_millis": 30,
    "deepnote_cell_type": "code"
   },
   "source": "total_province = df_positives.groupby('provincia')[['nuevas']].sum().sort_values(by='nuevas', ascending=False)",
   "outputs": [],
   "execution_count": null
  },
  {
   "cell_type": "code",
   "metadata": {
    "tags": [],
    "cell_id": "00023-82c26acc-951b-4b2d-80c6-3b32d59620e3",
    "deepnote_to_be_reexecuted": false,
    "source_hash": "21a3646f",
    "execution_start": 1639866357174,
    "execution_millis": 94,
    "deepnote_output_heights": [
     611
    ],
    "deepnote_cell_type": "code"
   },
   "source": "total_province",
   "outputs": [
    {
     "output_type": "execute_result",
     "execution_count": 17,
     "data": {
      "application/vnd.deepnote.dataframe.v3+json": {
       "column_count": 1,
       "row_count": 24,
       "columns": [
        {
         "name": "nuevas",
         "dtype": "int64",
         "stats": {
          "unique_count": 24,
          "nan_count": 0,
          "min": "1523",
          "max": "198920",
          "histogram": [
           {
            "bin_start": 1523,
            "bin_end": 21262.7,
            "count": 19
           },
           {
            "bin_start": 21262.7,
            "bin_end": 41002.4,
            "count": 3
           },
           {
            "bin_start": 41002.4,
            "bin_end": 60742.100000000006,
            "count": 0
           },
           {
            "bin_start": 60742.100000000006,
            "bin_end": 80481.8,
            "count": 1
           },
           {
            "bin_start": 80481.8,
            "bin_end": 100221.5,
            "count": 0
           },
           {
            "bin_start": 100221.5,
            "bin_end": 119961.20000000001,
            "count": 0
           },
           {
            "bin_start": 119961.20000000001,
            "bin_end": 139700.9,
            "count": 0
           },
           {
            "bin_start": 139700.9,
            "bin_end": 159440.6,
            "count": 0
           },
           {
            "bin_start": 159440.6,
            "bin_end": 179180.30000000002,
            "count": 0
           },
           {
            "bin_start": 179180.30000000002,
            "bin_end": 198920,
            "count": 1
           }
          ]
         }
        },
        {
         "name": "_deepnote_index_column",
         "dtype": "object"
        }
       ],
       "rows": [
        {
         "nuevas": 198920,
         "_deepnote_index_column": "Pichincha"
        },
        {
         "nuevas": 79925,
         "_deepnote_index_column": "Guayas"
        },
        {
         "nuevas": 36725,
         "_deepnote_index_column": "Manabí"
        },
        {
         "nuevas": 29776,
         "_deepnote_index_column": "Azuay"
        },
        {
         "nuevas": 25088,
         "_deepnote_index_column": "El Oro"
        },
        {
         "nuevas": 19025,
         "_deepnote_index_column": "Loja"
        },
        {
         "nuevas": 18024,
         "_deepnote_index_column": "Imbabura"
        },
        {
         "nuevas": 16368,
         "_deepnote_index_column": "Tungurahua"
        },
        {
         "nuevas": 14319,
         "_deepnote_index_column": "Los Ríos"
        },
        {
         "nuevas": 12900,
         "_deepnote_index_column": "Sto. Domingo Tsáchilas"
        }
       ]
      },
      "text/plain": "                        nuevas\nprovincia                     \nPichincha               198920\nGuayas                   79925\nManabí                   36725\nAzuay                    29776\nEl Oro                   25088\nLoja                     19025\nImbabura                 18024\nTungurahua               16368\nLos Ríos                 14319\nSto. Domingo Tsáchilas   12900\nCotopaxi                 12521\nEsmeraldas               10312\nCarchi                   10056\nChimborazo                9579\nBolívar                   7670\nMorona Santiago           7469\nCañar                     7245\nSucumbíos                 6660\nSanta Elena               4982\nNapo                      4493\nOrellana                  4182\nPastaza                   3895\nZamora Chinchipe          3279\nGalápagos                 1523",
      "text/html": "<div>\n<style scoped>\n    .dataframe tbody tr th:only-of-type {\n        vertical-align: middle;\n    }\n\n    .dataframe tbody tr th {\n        vertical-align: top;\n    }\n\n    .dataframe thead th {\n        text-align: right;\n    }\n</style>\n<table border=\"1\" class=\"dataframe\">\n  <thead>\n    <tr style=\"text-align: right;\">\n      <th></th>\n      <th>nuevas</th>\n    </tr>\n    <tr>\n      <th>provincia</th>\n      <th></th>\n    </tr>\n  </thead>\n  <tbody>\n    <tr>\n      <th>Pichincha</th>\n      <td>198920</td>\n    </tr>\n    <tr>\n      <th>Guayas</th>\n      <td>79925</td>\n    </tr>\n    <tr>\n      <th>Manabí</th>\n      <td>36725</td>\n    </tr>\n    <tr>\n      <th>Azuay</th>\n      <td>29776</td>\n    </tr>\n    <tr>\n      <th>El Oro</th>\n      <td>25088</td>\n    </tr>\n    <tr>\n      <th>Loja</th>\n      <td>19025</td>\n    </tr>\n    <tr>\n      <th>Imbabura</th>\n      <td>18024</td>\n    </tr>\n    <tr>\n      <th>Tungurahua</th>\n      <td>16368</td>\n    </tr>\n    <tr>\n      <th>Los Ríos</th>\n      <td>14319</td>\n    </tr>\n    <tr>\n      <th>Sto. Domingo Tsáchilas</th>\n      <td>12900</td>\n    </tr>\n    <tr>\n      <th>Cotopaxi</th>\n      <td>12521</td>\n    </tr>\n    <tr>\n      <th>Esmeraldas</th>\n      <td>10312</td>\n    </tr>\n    <tr>\n      <th>Carchi</th>\n      <td>10056</td>\n    </tr>\n    <tr>\n      <th>Chimborazo</th>\n      <td>9579</td>\n    </tr>\n    <tr>\n      <th>Bolívar</th>\n      <td>7670</td>\n    </tr>\n    <tr>\n      <th>Morona Santiago</th>\n      <td>7469</td>\n    </tr>\n    <tr>\n      <th>Cañar</th>\n      <td>7245</td>\n    </tr>\n    <tr>\n      <th>Sucumbíos</th>\n      <td>6660</td>\n    </tr>\n    <tr>\n      <th>Santa Elena</th>\n      <td>4982</td>\n    </tr>\n    <tr>\n      <th>Napo</th>\n      <td>4493</td>\n    </tr>\n    <tr>\n      <th>Orellana</th>\n      <td>4182</td>\n    </tr>\n    <tr>\n      <th>Pastaza</th>\n      <td>3895</td>\n    </tr>\n    <tr>\n      <th>Zamora Chinchipe</th>\n      <td>3279</td>\n    </tr>\n    <tr>\n      <th>Galápagos</th>\n      <td>1523</td>\n    </tr>\n  </tbody>\n</table>\n</div>"
     },
     "metadata": {}
    }
   ],
   "execution_count": null
  },
  {
   "cell_type": "code",
   "metadata": {
    "tags": [],
    "cell_id": "00024-23443352-9126-464a-b1aa-7acb82162ff0",
    "deepnote_to_be_reexecuted": false,
    "source_hash": "dcbaabfb",
    "execution_start": 1639866357288,
    "execution_millis": 1500,
    "deepnote_output_heights": [
     568
    ],
    "deepnote_cell_type": "code"
   },
   "source": "fig, ax = plt.subplots(figsize=(12, 7))\ntotal_province.plot.bar(ax=ax)\nplt.title('Total positives per province', size=16)\nplt.ylabel('Positives')\nplt.xlabel('Provinces')\nplt.legend(' ')\nplt.show()",
   "outputs": [
    {
     "data": {
      "text/plain": "<Figure size 864x504 with 1 Axes>",
      "image/png": "[encoded data removed]"
     },
     "metadata": {
      "image/png": {
       "width": 752,
       "height": 566
      }
     },
     "output_type": "display_data"
    }
   ],
   "execution_count": null
  },
  {
   "cell_type": "code",
   "metadata": {
    "tags": [],
    "cell_id": "00025-279eface-462c-4512-a32a-0182157a89c8",
    "deepnote_to_be_reexecuted": false,
    "source_hash": "fb4764cb",
    "execution_start": 1639866358846,
    "execution_millis": 3,
    "deepnote_cell_type": "code"
   },
   "source": "poblacion = df_positives.groupby('provincia')[['poblacion']].max().sort_values(by='poblacion', ascending=False)",
   "outputs": [],
   "execution_count": null
  },
  {
   "cell_type": "code",
   "metadata": {
    "tags": [],
    "cell_id": "00026-080917c6-44f9-495e-a61b-032bfa1110ea",
    "deepnote_to_be_reexecuted": false,
    "source_hash": "7e201406",
    "execution_start": 1639866358891,
    "execution_millis": 1245,
    "deepnote_output_heights": [
     568
    ],
    "deepnote_cell_type": "code"
   },
   "source": "fig, ax = plt.subplots(figsize=(12, 7))\npoblacion.plot.bar(ax=ax)\nplt.title('Population per province', size=16)\nplt.ylabel('Population')\nplt.xlabel('Provinces')\nplt.legend(' ')\nplt.show()",
   "outputs": [
    {
     "data": {
      "text/plain": "<Figure size 864x504 with 1 Axes>",
      "image/png": "[encoded data removed]"
     },
     "metadata": {
      "image/png": {
       "width": 717,
       "height": 566
      }
     },
     "output_type": "display_data"
    }
   ],
   "execution_count": null
  },
  {
   "cell_type": "code",
   "metadata": {
    "tags": [],
    "cell_id": "00027-c61e2851-f39d-4b70-b44f-ffdc77cadfb5",
    "deepnote_to_be_reexecuted": false,
    "source_hash": "6c9f145c",
    "execution_start": 1639866360140,
    "execution_millis": 15,
    "deepnote_cell_type": "code"
   },
   "source": "positives_provinces = total_province.join(poblacion, how='outer')",
   "outputs": [],
   "execution_count": null
  },
  {
   "cell_type": "code",
   "metadata": {
    "tags": [],
    "cell_id": "00028-83bbf63a-7d83-4b2c-958a-40adbc3b370f",
    "deepnote_to_be_reexecuted": false,
    "source_hash": "2c45d848",
    "execution_start": 1639866360165,
    "execution_millis": 53,
    "deepnote_output_heights": [
     21.1875
    ],
    "deepnote_cell_type": "code"
   },
   "source": "positives_provinces.columns",
   "outputs": [
    {
     "output_type": "execute_result",
     "execution_count": 22,
     "data": {
      "text/plain": "Index(['nuevas', 'poblacion'], dtype='object')"
     },
     "metadata": {}
    }
   ],
   "execution_count": null
  },
  {
   "cell_type": "code",
   "metadata": {
    "tags": [],
    "cell_id": "00029-4f296773-900a-4641-9a9d-aaceed673313",
    "deepnote_to_be_reexecuted": false,
    "source_hash": "c768d592",
    "execution_start": 1639866360219,
    "execution_millis": 36,
    "deepnote_cell_type": "code"
   },
   "source": "positives_provinces.rename(columns={'nuevas': 'nuevas_total'}, inplace=True)",
   "outputs": [],
   "execution_count": null
  },
  {
   "cell_type": "code",
   "metadata": {
    "tags": [],
    "cell_id": "00028-b449dd23-f02c-4e2d-8362-9616bb5211cb",
    "deepnote_to_be_reexecuted": false,
    "source_hash": "5555d516",
    "execution_start": 1639866360258,
    "execution_millis": 29,
    "deepnote_cell_type": "code"
   },
   "source": "positives_provinces['positive_percentage'] = (positives_provinces['nuevas_total'] / positives_provinces['poblacion']) * 100",
   "outputs": [],
   "execution_count": null
  },
  {
   "cell_type": "code",
   "metadata": {
    "tags": [],
    "cell_id": "00031-73ba2b51-ec69-474d-91de-df089f925f7c",
    "deepnote_to_be_reexecuted": false,
    "source_hash": "151ee2d8",
    "execution_start": 1639866360301,
    "execution_millis": 1366,
    "deepnote_output_heights": [
     568
    ],
    "deepnote_cell_type": "code"
   },
   "source": "fig, ax = plt.subplots(figsize=(12, 7))\npositives_provinces.sort_values(by='positive_percentage', \n    ascending=False).plot(kind='bar', \n    y='positive_percentage', \n    ax=ax)\nplt.title('Percentage of positives per province', size=16)\nplt.ylabel('Percentage')\nplt.xlabel('Provinces')\nplt.legend(' ')\nplt.show()",
   "outputs": [
    {
     "data": {
      "text/plain": "<Figure size 864x504 with 1 Axes>",
      "image/png": "[encoded data removed]"
     },
     "metadata": {
      "image/png": {
       "width": 717,
       "height": 566
      }
     },
     "output_type": "display_data"
    }
   ],
   "execution_count": null
  },
  {
   "cell_type": "code",
   "metadata": {
    "tags": [],
    "cell_id": "00031-b0acbb5d-6723-4b8f-a2d4-0bfbbc569459",
    "deepnote_to_be_reexecuted": false,
    "source_hash": "2c45d848",
    "execution_start": 1639866361688,
    "execution_millis": 45,
    "deepnote_output_heights": [
     21.1875
    ],
    "deepnote_cell_type": "code"
   },
   "source": "positives_provinces.columns",
   "outputs": [
    {
     "output_type": "execute_result",
     "execution_count": 26,
     "data": {
      "text/plain": "Index(['nuevas_total', 'poblacion', 'positive_percentage'], dtype='object')"
     },
     "metadata": {}
    }
   ],
   "execution_count": null
  },
  {
   "cell_type": "code",
   "metadata": {
    "tags": [],
    "cell_id": "00031-77fdad37-dace-4cdd-adf1-5c45bf985dbd",
    "deepnote_to_be_reexecuted": false,
    "source_hash": "f919c8aa",
    "execution_start": 1639866361743,
    "execution_millis": 3107,
    "deepnote_output_heights": [
     350,
     350,
     350
    ],
    "deepnote_cell_type": "code"
   },
   "source": "for i in positives_provinces.columns:\n  sns.displot(data=positives_provinces, x=i, kde=True)  ",
   "outputs": [
    {
     "data": {
      "text/plain": "<Figure size 360x360 with 1 Axes>",
      "image/png": "[encoded data removed]"
     },
     "metadata": {
      "image/png": {
       "width": 349,
       "height": 348
      }
     },
     "output_type": "display_data"
    },
    {
     "data": {
      "text/plain": "<Figure size 360x360 with 1 Axes>",
      "image/png": "[encoded data removed]"
     },
     "metadata": {
      "image/png": {
       "width": 348,
       "height": 348
      }
     },
     "output_type": "display_data"
    },
    {
     "data": {
      "text/plain": "<Figure size 360x360 with 1 Axes>",
      "image/png": "[encoded data removed]"
     },
     "metadata": {
      "image/png": {
       "width": 348,
       "height": 348
      }
     },
     "output_type": "display_data"
    }
   ],
   "execution_count": null
  },
  {
   "cell_type": "code",
   "metadata": {
    "tags": [],
    "cell_id": "00031-1b3eb6a5-6558-478b-95dc-e6489dabd825",
    "deepnote_to_be_reexecuted": false,
    "source_hash": "61cf484",
    "execution_start": 1639866364887,
    "execution_millis": 5505,
    "deepnote_output_heights": [
     533,
     533
    ],
    "deepnote_cell_type": "code"
   },
   "source": "sns.pairplot(positives_provinces, diag_kind='kde')\nplt.show()",
   "outputs": [
    {
     "data": {
      "text/plain": "<Figure size 540x540 with 12 Axes>",
      "image/png": "[encoded data removed]"
     },
     "metadata": {
      "image/png": {
       "width": 531,
       "height": 531
      }
     },
     "output_type": "display_data"
    }
   ],
   "execution_count": null
  },
  {
   "cell_type": "code",
   "metadata": {
    "tags": [],
    "cell_id": "00034-a46d22d6-f231-4268-bf72-01b1ff3e7196",
    "deepnote_to_be_reexecuted": false,
    "source_hash": "be25e715",
    "execution_start": 1639866370150,
    "execution_millis": 249,
    "deepnote_output_heights": [
     119
    ],
    "deepnote_cell_type": "code"
   },
   "source": "positives_provinces.corr()",
   "outputs": [
    {
     "output_type": "execute_result",
     "execution_count": 29,
     "data": {
      "application/vnd.deepnote.dataframe.v3+json": {
       "column_count": 3,
       "row_count": 3,
       "columns": [
        {
         "name": "nuevas_total",
         "dtype": "float64",
         "stats": {
          "unique_count": 3,
          "nan_count": 0,
          "min": "0.43751469620310024",
          "max": "1.0",
          "histogram": [
           {
            "bin_start": 0.43751469620310024,
            "bin_end": 0.4937632265827902,
            "count": 1
           },
           {
            "bin_start": 0.4937632265827902,
            "bin_end": 0.5500117569624802,
            "count": 0
           },
           {
            "bin_start": 0.5500117569624802,
            "bin_end": 0.6062602873421702,
            "count": 0
           },
           {
            "bin_start": 0.6062602873421702,
            "bin_end": 0.6625088177218601,
            "count": 0
           },
           {
            "bin_start": 0.6625088177218601,
            "bin_end": 0.7187573481015501,
            "count": 0
           },
           {
            "bin_start": 0.7187573481015501,
            "bin_end": 0.7750058784812401,
            "count": 0
           },
           {
            "bin_start": 0.7750058784812401,
            "bin_end": 0.8312544088609302,
            "count": 1
           },
           {
            "bin_start": 0.8312544088609302,
            "bin_end": 0.8875029392406201,
            "count": 0
           },
           {
            "bin_start": 0.8875029392406201,
            "bin_end": 0.9437514696203101,
            "count": 0
           },
           {
            "bin_start": 0.9437514696203101,
            "bin_end": 1,
            "count": 1
           }
          ]
         }
        },
        {
         "name": "poblacion",
         "dtype": "float64",
         "stats": {
          "unique_count": 3,
          "nan_count": 0,
          "min": "0.02623714140384248",
          "max": "1.0",
          "histogram": [
           {
            "bin_start": 0.02623714140384248,
            "bin_end": 0.12361342726345823,
            "count": 1
           },
           {
            "bin_start": 0.12361342726345823,
            "bin_end": 0.22098971312307397,
            "count": 0
           },
           {
            "bin_start": 0.22098971312307397,
            "bin_end": 0.3183659989826897,
            "count": 0
           },
           {
            "bin_start": 0.3183659989826897,
            "bin_end": 0.41574228484230547,
            "count": 0
           },
           {
            "bin_start": 0.41574228484230547,
            "bin_end": 0.5131185707019212,
            "count": 0
           },
           {
            "bin_start": 0.5131185707019212,
            "bin_end": 0.6104948565615369,
            "count": 0
           },
           {
            "bin_start": 0.6104948565615369,
            "bin_end": 0.7078711424211527,
            "count": 0
           },
           {
            "bin_start": 0.7078711424211527,
            "bin_end": 0.8052474282807685,
            "count": 0
           },
           {
            "bin_start": 0.8052474282807685,
            "bin_end": 0.9026237141403842,
            "count": 1
           },
           {
            "bin_start": 0.9026237141403842,
            "bin_end": 1,
            "count": 1
           }
          ]
         }
        },
        {
         "name": "positive_percentage",
         "dtype": "float64",
         "stats": {
          "unique_count": 3,
          "nan_count": 0,
          "min": "0.02623714140384248",
          "max": "1.0",
          "histogram": [
           {
            "bin_start": 0.02623714140384248,
            "bin_end": 0.12361342726345823,
            "count": 1
           },
           {
            "bin_start": 0.12361342726345823,
            "bin_end": 0.22098971312307397,
            "count": 0
           },
           {
            "bin_start": 0.22098971312307397,
            "bin_end": 0.3183659989826897,
            "count": 0
           },
           {
            "bin_start": 0.3183659989826897,
            "bin_end": 0.41574228484230547,
            "count": 0
           },
           {
            "bin_start": 0.41574228484230547,
            "bin_end": 0.5131185707019212,
            "count": 1
           },
           {
            "bin_start": 0.5131185707019212,
            "bin_end": 0.6104948565615369,
            "count": 0
           },
           {
            "bin_start": 0.6104948565615369,
            "bin_end": 0.7078711424211527,
            "count": 0
           },
           {
            "bin_start": 0.7078711424211527,
            "bin_end": 0.8052474282807685,
            "count": 0
           },
           {
            "bin_start": 0.8052474282807685,
            "bin_end": 0.9026237141403842,
            "count": 0
           },
           {
            "bin_start": 0.9026237141403842,
            "bin_end": 1,
            "count": 1
           }
          ]
         }
        },
        {
         "name": "_deepnote_index_column",
         "dtype": "object"
        }
       ],
       "rows": [
        {
         "nuevas_total": 1,
         "poblacion": 0.8067350911722128,
         "positive_percentage": 0.43751469620310024,
         "_deepnote_index_column": "nuevas_total"
        },
        {
         "nuevas_total": 0.8067350911722128,
         "poblacion": 1,
         "positive_percentage": 0.02623714140384248,
         "_deepnote_index_column": "poblacion"
        },
        {
         "nuevas_total": 0.43751469620310024,
         "poblacion": 0.02623714140384248,
         "positive_percentage": 1,
         "_deepnote_index_column": "positive_percentage"
        }
       ]
      },
      "text/plain": "                     nuevas_total  poblacion  positive_percentage\nnuevas_total             1.000000   0.806735             0.437515\npoblacion                0.806735   1.000000             0.026237\npositive_percentage      0.437515   0.026237             1.000000",
      "text/html": "<div>\n<style scoped>\n    .dataframe tbody tr th:only-of-type {\n        vertical-align: middle;\n    }\n\n    .dataframe tbody tr th {\n        vertical-align: top;\n    }\n\n    .dataframe thead th {\n        text-align: right;\n    }\n</style>\n<table border=\"1\" class=\"dataframe\">\n  <thead>\n    <tr style=\"text-align: right;\">\n      <th></th>\n      <th>nuevas_total</th>\n      <th>poblacion</th>\n      <th>positive_percentage</th>\n    </tr>\n  </thead>\n  <tbody>\n    <tr>\n      <th>nuevas_total</th>\n      <td>1.000000</td>\n      <td>0.806735</td>\n      <td>0.437515</td>\n    </tr>\n    <tr>\n      <th>poblacion</th>\n      <td>0.806735</td>\n      <td>1.000000</td>\n      <td>0.026237</td>\n    </tr>\n    <tr>\n      <th>positive_percentage</th>\n      <td>0.437515</td>\n      <td>0.026237</td>\n      <td>1.000000</td>\n    </tr>\n  </tbody>\n</table>\n</div>"
     },
     "metadata": {}
    }
   ],
   "execution_count": null
  },
  {
   "cell_type": "code",
   "metadata": {
    "tags": [],
    "cell_id": "00036-176bcecf-dbc9-446a-8dbb-a7559e91f99d",
    "deepnote_to_be_reexecuted": false,
    "source_hash": "b81c8243",
    "execution_start": 1639866370282,
    "execution_millis": 705,
    "deepnote_output_heights": [
     359,
     359
    ],
    "deepnote_cell_type": "code"
   },
   "source": "sns.heatmap(positives_provinces.corr(), \n            annot=True,\n            square=True,\n            cmap='summer')\nplt.show()",
   "outputs": [
    {
     "data": {
      "text/plain": "<Figure size 432x288 with 2 Axes>",
      "image/png": "[encoded data removed]"
     },
     "metadata": {
      "image/png": {
       "width": 408,
       "height": 357
      }
     },
     "output_type": "display_data"
    }
   ],
   "execution_count": null
  },
  {
   "cell_type": "markdown",
   "source": "* There's a high positive correlation between population and new positives. \n* There's a low positive correlation between positive percentage and new positives.\n* There's no correlation between population and postive percentages. \n\nWe can try to find clusters using the K-Means algorithm. But we can do tha later. \n\nRead this: https://www.analyticsvidhya.com/blog/2019/08/comprehensive-guide-k-means-clustering/",
   "metadata": {
    "tags": [],
    "cell_id": "00037-7bc17f68-02c8-47a8-a042-03e3dc3edf35",
    "deepnote_cell_type": "markdown"
   }
  },
  {
   "cell_type": "markdown",
   "source": "### Export data",
   "metadata": {
    "tags": [],
    "is_collapsed": false,
    "cell_id": "00035-756106de-532c-42f0-ac41-7d1934e851ce",
    "deepnote_cell_type": "text-cell-h3"
   }
  },
  {
   "cell_type": "code",
   "metadata": {
    "tags": [],
    "cell_id": "00034-70cf7bb0-2027-4a01-8679-01f4e9a6d182",
    "deepnote_to_be_reexecuted": false,
    "source_hash": "72c03d8c",
    "execution_start": 1639866370995,
    "execution_millis": 32,
    "deepnote_output_heights": [
     611
    ],
    "deepnote_cell_type": "code"
   },
   "source": "positives_provinces.reset_index().to_csv('/work/covid-19-EC-provinces/data/interim/positives_provinces.csv', index=False)",
   "outputs": [],
   "execution_count": null
  },
  {
   "cell_type": "markdown",
   "source": "<a style='text-decoration:none;line-height:16px;display:flex;color:#5B5B62;padding:10px;justify-content:end;' href='https://deepnote.com?utm_source=created-in-deepnote-cell&projectId=7294ef23-3287-47ac-a12f-ba892bffdf3b' target=\"_blank\">\n<img alt='Created in deepnote.com' style='display:inline;max-height:16px;margin:0px;margin-right:7.5px;' src='data:image/svg+xml;base64,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' > </img>\nCreated in <span style='font-weight:600;margin-left:4px;'>Deepnote</span></a>",
   "metadata": {
    "tags": [],
    "created_in_deepnote_cell": true,
    "deepnote_cell_type": "markdown"
   }
  }
 ],
 "nbformat": 4,
 "nbformat_minor": 2,
 "metadata": {
  "orig_nbformat": 2,
  "deepnote": {
   "is_reactive": false
  },
  "deepnote_notebook_id": "2095277d-dc22-46bb-9eda-b6e2ed480a36",
  "deepnote_execution_queue": []
 }
}