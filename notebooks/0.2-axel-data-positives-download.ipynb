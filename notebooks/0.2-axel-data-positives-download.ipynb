{
 "cells": [
  {
   "cell_type": "markdown",
   "source": "# Getting raw data: positives",
   "metadata": {
    "tags": [],
    "is_collapsed": false,
    "cell_id": "00001-44560198-6e23-4e88-aac3-e1620b54452e",
    "deepnote_cell_type": "text-cell-h1"
   }
  },
  {
   "cell_type": "markdown",
   "source": "Here I'll get the positive cases by province per day for both 2020 and 2021 (so far).",
   "metadata": {
    "tags": [],
    "cell_id": "00001-d20e8668-b8f7-434a-a8d6-0888db6be49a",
    "deepnote_cell_type": "markdown"
   }
  },
  {
   "cell_type": "code",
   "metadata": {
    "tags": [],
    "cell_id": "00000-f7a458eb-fac9-4352-bafa-8cabf30ed127",
    "deepnote_to_be_reexecuted": false,
    "source_hash": "28eb5f73",
    "execution_start": 1639861600156,
    "execution_millis": 1311493809,
    "deepnote_cell_type": "code"
   },
   "source": "# %load_ext autoreload\n# %autoreload 2",
   "outputs": [],
   "execution_count": null
  },
  {
   "cell_type": "code",
   "metadata": {
    "tags": [],
    "cell_id": "00003-8951233e-288f-4ab6-819d-de52cb065c2c",
    "deepnote_to_be_reexecuted": false,
    "source_hash": "3fa823c3",
    "execution_start": 1639861600200,
    "execution_millis": 1311493809,
    "deepnote_cell_type": "code"
   },
   "source": "#Libraries\nimport pandas as pd",
   "outputs": [],
   "execution_count": null
  },
  {
   "cell_type": "markdown",
   "source": "## Specify input and output files",
   "metadata": {
    "tags": [],
    "is_collapsed": false,
    "cell_id": "00003-648771a4-b3f5-4274-a84a-de590fd48323",
    "deepnote_cell_type": "text-cell-h2"
   }
  },
  {
   "cell_type": "code",
   "metadata": {
    "tags": [],
    "cell_id": "00003-955fe24d-cb83-4d12-b2e1-74486b401614",
    "deepnote_to_be_reexecuted": false,
    "source_hash": "72d21eb7",
    "execution_start": 1639861600244,
    "execution_millis": 1311493767,
    "deepnote_cell_type": "code"
   },
   "source": "url_positives_2020_day = 'https://raw.githubusercontent.com/andrab/ecuacovid/master/datos_crudos/positivas/2020/provincias.csv'\nurl_positives_2021_day = 'https://raw.githubusercontent.com/andrab/ecuacovid/master/datos_crudos/positivas/provincias.csv'\n\n#url_positives_2021_day may change in the future ",
   "outputs": [],
   "execution_count": null
  },
  {
   "cell_type": "code",
   "metadata": {
    "tags": [],
    "cell_id": "00006-e6277e6c-d144-4dbc-9cd2-6af1a8ce1e4b",
    "deepnote_to_be_reexecuted": false,
    "source_hash": "d4ea1807",
    "execution_start": 1639861600287,
    "execution_millis": 1311493809,
    "deepnote_cell_type": "code"
   },
   "source": "#df_2021 = pd.read_csv(url_positives_2021_day) ",
   "outputs": [],
   "execution_count": null
  },
  {
   "cell_type": "code",
   "metadata": {
    "tags": [],
    "cell_id": "00007-3e5d345d-03a8-426a-817e-c0ecfad5edf8",
    "deepnote_to_be_reexecuted": false,
    "source_hash": "67715f84",
    "execution_start": 1639861600289,
    "execution_millis": 1311493765,
    "deepnote_output_heights": [
     155.53125
    ],
    "deepnote_cell_type": "code"
   },
   "source": "#df_2021.dtypes",
   "outputs": [],
   "execution_count": null
  },
  {
   "cell_type": "code",
   "metadata": {
    "tags": [],
    "cell_id": "00005-66af811a-c6c5-4dcd-9ca9-9b7e38d4e68b",
    "deepnote_to_be_reexecuted": false,
    "source_hash": "572fec79",
    "execution_start": 1639861600290,
    "execution_millis": 1311493765,
    "deepnote_cell_type": "code"
   },
   "source": "url_positives_2020_day_save = '/work/covid-19-EC-provinces/data/raw/positives_day_provices_2020.csv'\nurl_positives_2021_day_save = '/work/covid-19-EC-provinces/data/raw/positives_day_provices_2021.csv'",
   "outputs": [],
   "execution_count": null
  },
  {
   "cell_type": "code",
   "metadata": {
    "tags": [],
    "cell_id": "00004-4be15e8d-83e4-4faf-a6d8-2d102a09226f",
    "deepnote_to_be_reexecuted": false,
    "source_hash": "59bef911",
    "execution_start": 1639861600331,
    "execution_millis": 1311493765,
    "deepnote_cell_type": "code"
   },
   "source": "url_input = [url_positives_2020_day, url_positives_2021_day]\ndir_output = [url_positives_2020_day_save, url_positives_2021_day_save]",
   "outputs": [],
   "execution_count": null
  },
  {
   "cell_type": "markdown",
   "source": "## Create a function",
   "metadata": {
    "tags": [],
    "is_collapsed": false,
    "cell_id": "00007-642fc236-9565-424e-823a-bd8faa3bc4d1",
    "deepnote_cell_type": "text-cell-h2"
   }
  },
  {
   "cell_type": "code",
   "metadata": {
    "tags": [],
    "cell_id": "00007-bfe4892d-192f-44ce-9b1e-6d920aba3677",
    "deepnote_to_be_reexecuted": false,
    "source_hash": "c387bfd1",
    "execution_start": 1639861600332,
    "execution_millis": 1311363368,
    "deepnote_cell_type": "code"
   },
   "source": "def download_positives(urls: list, dir_save: list):\n    #Read csv files and then save them as json\n    for i in range(len(urls)):\n        pd.read_csv(urls[i]).to_csv(dir_save[i], index=False)",
   "outputs": [],
   "execution_count": null
  },
  {
   "cell_type": "markdown",
   "source": "## Execute the function",
   "metadata": {
    "tags": [],
    "is_collapsed": false,
    "cell_id": "00009-f0b2e3ed-57a9-4675-ac94-f669995c734a",
    "deepnote_cell_type": "text-cell-h2"
   }
  },
  {
   "cell_type": "code",
   "metadata": {
    "tags": [],
    "cell_id": "00007-0773947d-fd85-48b9-a60f-f16535ffd6a3",
    "deepnote_to_be_reexecuted": false,
    "source_hash": "bed59a29",
    "execution_start": 1639861600332,
    "execution_millis": 373,
    "deepnote_cell_type": "code"
   },
   "source": "download_positives(url_input, dir_output)",
   "outputs": [],
   "execution_count": null
  },
  {
   "cell_type": "markdown",
   "source": "<a style='text-decoration:none;line-height:16px;display:flex;color:#5B5B62;padding:10px;justify-content:end;' href='https://deepnote.com?utm_source=created-in-deepnote-cell&projectId=7294ef23-3287-47ac-a12f-ba892bffdf3b' target=\"_blank\">\n<img alt='Created in deepnote.com' style='display:inline;max-height:16px;margin:0px;margin-right:7.5px;' src='data:image/svg+xml;base64,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' > </img>\nCreated in <span style='font-weight:600;margin-left:4px;'>Deepnote</span></a>",
   "metadata": {
    "tags": [],
    "created_in_deepnote_cell": true,
    "deepnote_cell_type": "markdown"
   }
  }
 ],
 "nbformat": 4,
 "nbformat_minor": 2,
 "metadata": {
  "orig_nbformat": 2,
  "deepnote": {
   "is_reactive": false
  },
  "deepnote_notebook_id": "dfc712de-2d54-4ba4-8f81-8b5fecc4a9e0",
  "deepnote_execution_queue": []
 }
}